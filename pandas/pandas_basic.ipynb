{
 "cells": [
  {
   "cell_type": "markdown",
   "metadata": {
    "id": "JaOGAHtbhSai"
   },
   "source": [
    "# Setup CoLab environment (optinal)"
   ]
  },
  {
   "cell_type": "code",
   "execution_count": null,
   "metadata": {
    "colab": {
     "base_uri": "https://localhost:8080/"
    },
    "executionInfo": {
     "elapsed": 20904,
     "status": "ok",
     "timestamp": 1730268155927,
     "user": {
      "displayName": "林志偉",
      "userId": "13117312472561068650"
     },
     "user_tz": -480
    },
    "id": "fbhP-TUUgypJ",
    "outputId": "e83c8db9-cf41-45a2-bfc8-cd59c917dd3f"
   },
   "outputs": [],
   "source": [
    "# 掛載使用者的Google雲端硬碟 (drive/MyDrive) 到 Colab 的工作磁碟\n",
    "from google.colab import drive\n",
    "drive.mount('/content/drive')"
   ]
  },
  {
   "cell_type": "markdown",
   "metadata": {},
   "source": [
    "[Mount Google Drive to Colab](https://raw.githubusercontent.com/mingfujacky/Lecture-Python/9b438a513a1f05d24d8586906f1448a59149d497/files/image/mount_google_drive.png)"
   ]
  },
  {
   "cell_type": "markdown",
   "metadata": {
    "id": "5qnUfRkWhdFg"
   },
   "source": [
    "# Import Library"
   ]
  },
  {
   "cell_type": "code",
   "execution_count": null,
   "metadata": {
    "executionInfo": {
     "elapsed": 490,
     "status": "ok",
     "timestamp": 1730268495300,
     "user": {
      "displayName": "林志偉",
      "userId": "13117312472561068650"
     },
     "user_tz": -480
    },
    "id": "ePov-DKphX-5"
   },
   "outputs": [],
   "source": [
    "import pandas as pd\n",
    "from pathlib import Path"
   ]
  },
  {
   "cell_type": "markdown",
   "metadata": {
    "id": "ZK-5LFrwhtx7"
   },
   "source": [
    "# Load File"
   ]
  },
  {
   "cell_type": "code",
   "execution_count": null,
   "metadata": {},
   "outputs": [],
   "source": [
    "# Via URL to load 學測分數 dataset (https://bitly.com/gradescsv)\n",
    "df = pd.read_csv('https://bitly.com/gradescsv')\n",
    "df.head()"
   ]
  },
  {
   "cell_type": "code",
   "execution_count": null,
   "metadata": {
    "executionInfo": {
     "elapsed": 692,
     "status": "ok",
     "timestamp": 1730268776979,
     "user": {
      "displayName": "林志偉",
      "userId": "13117312472561068650"
     },
     "user_tz": -480
    },
    "id": "NYz5z6k8htA2"
   },
   "outputs": [],
   "source": [
    "# Locate local file to load 學測分數 dataset\n",
    "target_csv_path = Path.cwd() / '..' / 'files' / 'csv' / 'grades.csv'\n",
    "df = pd.read_csv(target_csv_path)\n",
    "df.head()"
   ]
  },
  {
   "cell_type": "markdown",
   "metadata": {
    "id": "JrChNbwhtz0Y"
   },
   "source": [
    "# Understand data"
   ]
  },
  {
   "cell_type": "code",
   "execution_count": null,
   "metadata": {},
   "outputs": [],
   "source": [
    "df.shape\n",
    "df.dtypes\n",
    "df.head(3)\n",
    "df.tail(2)\n",
    "df.describe() # 統計敘述"
   ]
  },
  {
   "cell_type": "code",
   "execution_count": null,
   "metadata": {
    "colab": {
     "base_uri": "https://localhost:8080/",
     "height": 206
    },
    "executionInfo": {
     "elapsed": 370,
     "status": "ok",
     "timestamp": 1730270182832,
     "user": {
      "displayName": "林志偉",
      "userId": "13117312472561068650"
     },
     "user_tz": -480
    },
    "id": "OWTICYQUusEg",
    "outputId": "7ead91a7-6b38-4625-a48a-84a3366ece55"
   },
   "outputs": [],
   "source": [
    "# 學科間的相關性\n",
    "# R值相關程度之高低，在正負0.3之間（即0.3至-0.3之間）稱為低度相關；\n",
    "# 在正負0.3-0.6之間（即指介於0.3至0.6，-0.3至-0.6之間）稱為中度相關；\n",
    "# 而在正負0.6至0.9之間（即指在0.6至0.9，-0.6至-0.9之間）則稱為高度相關；\n",
    "# 若是R值為正負1，即表示完全相關。\n",
    "df[['國文', '英文', '數學', '自然', '社會']].corr()\n",
    "df[['國文', '英文']].corr()\n"
   ]
  },
  {
   "cell_type": "markdown",
   "metadata": {
    "id": "BbCq7odLEyYT"
   },
   "source": [
    "# 國文分數的分析"
   ]
  },
  {
   "cell_type": "code",
   "execution_count": null,
   "metadata": {
    "colab": {
     "base_uri": "https://localhost:8080/",
     "height": 458
    },
    "executionInfo": {
     "elapsed": 343,
     "status": "ok",
     "timestamp": 1730268964657,
     "user": {
      "displayName": "林志偉",
      "userId": "13117312472561068650"
     },
     "user_tz": -480
    },
    "id": "mqU4R2eVsSAh",
    "outputId": "17c8842a-72ae-4abf-9247-472f5ed14035"
   },
   "outputs": [],
   "source": [
    "df['國文']                          # display the '國文' column\n",
    "print('Mean: ', df['國文'].mean())  # 國文平均\n",
    "print('STD: ', df['國文'].std())    # 國文標準差\n",
    "df['國文'].plot(kind='hist', bins=15) # 國文成績直方圖"
   ]
  },
  {
   "cell_type": "markdown",
   "metadata": {
    "id": "s1tnmEqFFDpg"
   },
   "source": [
    "# 錄取十名學生\n",
    "- 依主科加權(數學 * 1.5 + 英文 *1.5)排序\n",
    "- 同主科加權者，依總級分排序"
   ]
  },
  {
   "cell_type": "code",
   "execution_count": null,
   "metadata": {
    "colab": {
     "base_uri": "https://localhost:8080/",
     "height": 206
    },
    "executionInfo": {
     "elapsed": 352,
     "status": "ok",
     "timestamp": 1730270330467,
     "user": {
      "displayName": "林志偉",
      "userId": "13117312472561068650"
     },
     "user_tz": -480
    },
    "id": "LT4uK_83vYIw",
    "outputId": "5b7bdac5-f09c-40e9-8be2-3fa737f97065"
   },
   "outputs": [],
   "source": [
    "# 計算新增欄位值\n",
    "df['主科加權'] = df['數學'] * 1.5 + df['英文']*1.5\n",
    "df['總級分'] = df['國文'] + df['英文'] + df['數學'] + df['自然'] + df['社會']\n",
    "df.head(10)\n"
   ]
  },
  {
   "cell_type": "code",
   "execution_count": null,
   "metadata": {
    "colab": {
     "base_uri": "https://localhost:8080/",
     "height": 424
    },
    "executionInfo": {
     "elapsed": 361,
     "status": "ok",
     "timestamp": 1730270370734,
     "user": {
      "displayName": "林志偉",
      "userId": "13117312472561068650"
     },
     "user_tz": -480
    },
    "id": "vRmpxLa1wRaZ",
    "outputId": "dadf41f4-a66b-4ab6-bd28-5f8cd9d0d22f"
   },
   "outputs": [],
   "source": [
    "# 排序\n",
    "df.sort_values(by = ['主科加權', '總級分'], ascending=False).head(10)"
   ]
  }
 ],
 "metadata": {
  "colab": {
   "authorship_tag": "ABX9TyNEH7EN2OU4vydEsQmrtebp",
   "collapsed_sections": [
    "JaOGAHtbhSai",
    "5qnUfRkWhdFg"
   ],
   "provenance": [],
   "toc_visible": true
  },
  "kernelspec": {
   "display_name": ".venv",
   "language": "python",
   "name": "python3"
  },
  "language_info": {
   "codemirror_mode": {
    "name": "ipython",
    "version": 3
   },
   "file_extension": ".py",
   "mimetype": "text/x-python",
   "name": "python",
   "nbconvert_exporter": "python",
   "pygments_lexer": "ipython3",
   "version": "3.13.5"
  }
 },
 "nbformat": 4,
 "nbformat_minor": 0
}
