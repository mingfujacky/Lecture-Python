{
 "cells": [
  {
   "cell_type": "markdown",
   "metadata": {
    "id": "JaOGAHtbhSai"
   },
   "source": [
    "# Setup CoLab environment (optinal)"
   ]
  },
  {
   "cell_type": "code",
   "execution_count": null,
   "metadata": {
    "colab": {
     "base_uri": "https://localhost:8080/"
    },
    "executionInfo": {
     "elapsed": 20904,
     "status": "ok",
     "timestamp": 1730268155927,
     "user": {
      "displayName": "林志偉",
      "userId": "13117312472561068650"
     },
     "user_tz": -480
    },
    "id": "fbhP-TUUgypJ",
    "outputId": "e83c8db9-cf41-45a2-bfc8-cd59c917dd3f"
   },
   "outputs": [],
   "source": [
    "# 掛載使用者的Google雲端硬碟 (drive/MyDrive) 到 Colab 的工作磁碟\n",
    "from google.colab import drive\n",
    "drive.mount('/content/drive')"
   ]
  },
  {
   "cell_type": "markdown",
   "metadata": {},
   "source": [
    "![mount google drive](../files/image/mount_google_drive.png)"
   ]
  },
  {
   "cell_type": "markdown",
   "metadata": {
    "id": "5qnUfRkWhdFg"
   },
   "source": [
    "# Import Library"
   ]
  },
  {
   "cell_type": "code",
   "execution_count": 3,
   "metadata": {
    "executionInfo": {
     "elapsed": 490,
     "status": "ok",
     "timestamp": 1730268495300,
     "user": {
      "displayName": "林志偉",
      "userId": "13117312472561068650"
     },
     "user_tz": -480
    },
    "id": "ePov-DKphX-5"
   },
   "outputs": [],
   "source": [
    "import pandas as pd\n",
    "from pathlib import Path"
   ]
  },
  {
   "cell_type": "markdown",
   "metadata": {
    "id": "ZK-5LFrwhtx7"
   },
   "source": [
    "# Load File"
   ]
  },
  {
   "cell_type": "code",
   "execution_count": 4,
   "metadata": {
    "executionInfo": {
     "elapsed": 692,
     "status": "ok",
     "timestamp": 1730268776979,
     "user": {
      "displayName": "林志偉",
      "userId": "13117312472561068650"
     },
     "user_tz": -480
    },
    "id": "NYz5z6k8htA2"
   },
   "outputs": [],
   "source": [
    "# https://bitly.com/gradescsv\n",
    "# Load 學測分數 dataset\n",
    "target_csv_path = Path.cwd() / '..' / 'files' / 'csv' / 'grades.csv'\n",
    "grade_df = pd.read_csv(target_csv_path)"
   ]
  },
  {
   "cell_type": "code",
   "execution_count": null,
   "metadata": {
    "colab": {
     "base_uri": "https://localhost:8080/",
     "height": 424
    },
    "executionInfo": {
     "elapsed": 350,
     "status": "ok",
     "timestamp": 1730268782345,
     "user": {
      "displayName": "林志偉",
      "userId": "13117312472561068650"
     },
     "user_tz": -480
    },
    "id": "YeSYDgEsAmnw",
    "outputId": "fa4406ff-0964-478d-ed67-49417faf7c81"
   },
   "outputs": [
    {
     "data": {
      "application/vnd.microsoft.datawrangler.viewer.v0+json": {
       "columns": [
        {
         "name": "index",
         "rawType": "int64",
         "type": "integer"
        },
        {
         "name": "姓名",
         "rawType": "object",
         "type": "string"
        },
        {
         "name": "國文",
         "rawType": "int64",
         "type": "integer"
        },
        {
         "name": "英文",
         "rawType": "int64",
         "type": "integer"
        },
        {
         "name": "數學",
         "rawType": "int64",
         "type": "integer"
        },
        {
         "name": "自然",
         "rawType": "int64",
         "type": "integer"
        },
        {
         "name": "社會",
         "rawType": "int64",
         "type": "integer"
        }
       ],
       "ref": "1e882624-4522-4845-b692-314b8f4b535e",
       "rows": [
        [
         "0",
         "劉俊安",
         "9",
         "10",
         "15",
         "10",
         "13"
        ],
        [
         "1",
         "胡玉華",
         "10",
         "10",
         "10",
         "8",
         "9"
        ],
        [
         "2",
         "黃淑婷",
         "13",
         "15",
         "8",
         "11",
         "14"
        ],
        [
         "3",
         "陳上紫",
         "10",
         "10",
         "8",
         "9",
         "14"
        ],
        [
         "4",
         "崔靜成",
         "13",
         "12",
         "14",
         "12",
         "13"
        ],
        [
         "5",
         "張雅岳",
         "13",
         "12",
         "12",
         "12",
         "8"
        ],
        [
         "6",
         "梁俊翔",
         "11",
         "13",
         "10",
         "10",
         "14"
        ],
        [
         "7",
         "林金鳳",
         "8",
         "9",
         "10",
         "10",
         "8"
        ],
        [
         "8",
         "許協旺",
         "9",
         "9",
         "12",
         "10",
         "10"
        ],
        [
         "9",
         "郭雅惠",
         "10",
         "15",
         "12",
         "11",
         "9"
        ],
        [
         "10",
         "張志偉",
         "14",
         "9",
         "8",
         "10",
         "12"
        ],
        [
         "11",
         "周皇樺",
         "13",
         "9",
         "13",
         "14",
         "15"
        ],
        [
         "12",
         "李正偉",
         "11",
         "15",
         "11",
         "14",
         "15"
        ],
        [
         "13",
         "黃旭忠",
         "15",
         "14",
         "9",
         "12",
         "10"
        ],
        [
         "14",
         "葉雅琳",
         "8",
         "13",
         "10",
         "13",
         "14"
        ],
        [
         "15",
         "黃淑慧",
         "11",
         "8",
         "10",
         "12",
         "15"
        ],
        [
         "16",
         "吳芝菁",
         "14",
         "9",
         "11",
         "10",
         "9"
        ],
        [
         "17",
         "聶珮君",
         "12",
         "11",
         "13",
         "12",
         "9"
        ],
        [
         "18",
         "梁慧君",
         "9",
         "8",
         "8",
         "8",
         "12"
        ],
        [
         "19",
         "葉曉玲",
         "14",
         "9",
         "11",
         "15",
         "9"
        ],
        [
         "20",
         "陳智超",
         "13",
         "9",
         "13",
         "14",
         "13"
        ],
        [
         "21",
         "黃奕霞",
         "9",
         "8",
         "11",
         "13",
         "8"
        ],
        [
         "22",
         "沈昆純",
         "12",
         "14",
         "10",
         "9",
         "9"
        ],
        [
         "23",
         "許惠雯",
         "10",
         "13",
         "12",
         "14",
         "10"
        ],
        [
         "24",
         "陳竹伯",
         "10",
         "12",
         "15",
         "10",
         "14"
        ],
        [
         "25",
         "蔡亦瑄",
         "13",
         "13",
         "14",
         "13",
         "12"
        ],
        [
         "26",
         "戴喜寶",
         "13",
         "11",
         "9",
         "14",
         "9"
        ],
        [
         "27",
         "馮白屏",
         "8",
         "13",
         "14",
         "8",
         "10"
        ],
        [
         "28",
         "王金鳳",
         "15",
         "14",
         "8",
         "12",
         "8"
        ],
        [
         "29",
         "闕進綠",
         "14",
         "11",
         "13",
         "8",
         "11"
        ],
        [
         "30",
         "連瑋玲",
         "8",
         "10",
         "14",
         "8",
         "13"
        ],
        [
         "31",
         "林秀娟",
         "15",
         "12",
         "9",
         "9",
         "15"
        ],
        [
         "32",
         "林建亨",
         "9",
         "11",
         "8",
         "8",
         "11"
        ],
        [
         "33",
         "王佳蓉",
         "14",
         "15",
         "9",
         "9",
         "8"
        ],
        [
         "34",
         "曾淑玟",
         "13",
         "12",
         "10",
         "11",
         "9"
        ],
        [
         "35",
         "盧冠宏",
         "14",
         "11",
         "10",
         "11",
         "11"
        ],
        [
         "36",
         "詹威德",
         "12",
         "13",
         "15",
         "10",
         "14"
        ],
        [
         "37",
         "曾怡君",
         "11",
         "12",
         "15",
         "13",
         "14"
        ],
        [
         "38",
         "吳文伯",
         "8",
         "8",
         "8",
         "15",
         "12"
        ],
        [
         "39",
         "段冠廷",
         "9",
         "8",
         "15",
         "12",
         "15"
        ],
        [
         "40",
         "吳欣強",
         "12",
         "13",
         "8",
         "11",
         "9"
        ],
        [
         "41",
         "曲秀芬",
         "14",
         "14",
         "8",
         "9",
         "15"
        ],
        [
         "42",
         "趙恭群",
         "14",
         "12",
         "10",
         "9",
         "15"
        ],
        [
         "43",
         "林士茜",
         "12",
         "15",
         "9",
         "9",
         "13"
        ],
        [
         "44",
         "童心怡",
         "13",
         "13",
         "14",
         "8",
         "13"
        ],
        [
         "45",
         "謝亮夫",
         "9",
         "8",
         "14",
         "11",
         "9"
        ],
        [
         "46",
         "柳菁蘭",
         "14",
         "12",
         "10",
         "8",
         "14"
        ],
        [
         "47",
         "葉子豪",
         "8",
         "9",
         "13",
         "13",
         "15"
        ],
        [
         "48",
         "陳怡婷",
         "15",
         "14",
         "12",
         "9",
         "15"
        ],
        [
         "49",
         "朱寶原",
         "10",
         "14",
         "11",
         "10",
         "15"
        ]
       ],
       "shape": {
        "columns": 6,
        "rows": 100
       }
      },
      "text/html": [
       "<div>\n",
       "<style scoped>\n",
       "    .dataframe tbody tr th:only-of-type {\n",
       "        vertical-align: middle;\n",
       "    }\n",
       "\n",
       "    .dataframe tbody tr th {\n",
       "        vertical-align: top;\n",
       "    }\n",
       "\n",
       "    .dataframe thead th {\n",
       "        text-align: right;\n",
       "    }\n",
       "</style>\n",
       "<table border=\"1\" class=\"dataframe\">\n",
       "  <thead>\n",
       "    <tr style=\"text-align: right;\">\n",
       "      <th></th>\n",
       "      <th>姓名</th>\n",
       "      <th>國文</th>\n",
       "      <th>英文</th>\n",
       "      <th>數學</th>\n",
       "      <th>自然</th>\n",
       "      <th>社會</th>\n",
       "    </tr>\n",
       "  </thead>\n",
       "  <tbody>\n",
       "    <tr>\n",
       "      <th>0</th>\n",
       "      <td>劉俊安</td>\n",
       "      <td>9</td>\n",
       "      <td>10</td>\n",
       "      <td>15</td>\n",
       "      <td>10</td>\n",
       "      <td>13</td>\n",
       "    </tr>\n",
       "    <tr>\n",
       "      <th>1</th>\n",
       "      <td>胡玉華</td>\n",
       "      <td>10</td>\n",
       "      <td>10</td>\n",
       "      <td>10</td>\n",
       "      <td>8</td>\n",
       "      <td>9</td>\n",
       "    </tr>\n",
       "    <tr>\n",
       "      <th>2</th>\n",
       "      <td>黃淑婷</td>\n",
       "      <td>13</td>\n",
       "      <td>15</td>\n",
       "      <td>8</td>\n",
       "      <td>11</td>\n",
       "      <td>14</td>\n",
       "    </tr>\n",
       "    <tr>\n",
       "      <th>3</th>\n",
       "      <td>陳上紫</td>\n",
       "      <td>10</td>\n",
       "      <td>10</td>\n",
       "      <td>8</td>\n",
       "      <td>9</td>\n",
       "      <td>14</td>\n",
       "    </tr>\n",
       "    <tr>\n",
       "      <th>4</th>\n",
       "      <td>崔靜成</td>\n",
       "      <td>13</td>\n",
       "      <td>12</td>\n",
       "      <td>14</td>\n",
       "      <td>12</td>\n",
       "      <td>13</td>\n",
       "    </tr>\n",
       "    <tr>\n",
       "      <th>...</th>\n",
       "      <td>...</td>\n",
       "      <td>...</td>\n",
       "      <td>...</td>\n",
       "      <td>...</td>\n",
       "      <td>...</td>\n",
       "      <td>...</td>\n",
       "    </tr>\n",
       "    <tr>\n",
       "      <th>95</th>\n",
       "      <td>蔡佳燕</td>\n",
       "      <td>9</td>\n",
       "      <td>10</td>\n",
       "      <td>9</td>\n",
       "      <td>13</td>\n",
       "      <td>14</td>\n",
       "    </tr>\n",
       "    <tr>\n",
       "      <th>96</th>\n",
       "      <td>吳筱婷</td>\n",
       "      <td>8</td>\n",
       "      <td>10</td>\n",
       "      <td>14</td>\n",
       "      <td>10</td>\n",
       "      <td>15</td>\n",
       "    </tr>\n",
       "    <tr>\n",
       "      <th>97</th>\n",
       "      <td>陳家銘</td>\n",
       "      <td>14</td>\n",
       "      <td>9</td>\n",
       "      <td>11</td>\n",
       "      <td>8</td>\n",
       "      <td>12</td>\n",
       "    </tr>\n",
       "    <tr>\n",
       "      <th>98</th>\n",
       "      <td>李明威</td>\n",
       "      <td>15</td>\n",
       "      <td>9</td>\n",
       "      <td>8</td>\n",
       "      <td>9</td>\n",
       "      <td>15</td>\n",
       "    </tr>\n",
       "    <tr>\n",
       "      <th>99</th>\n",
       "      <td>農揚勇</td>\n",
       "      <td>9</td>\n",
       "      <td>11</td>\n",
       "      <td>12</td>\n",
       "      <td>12</td>\n",
       "      <td>10</td>\n",
       "    </tr>\n",
       "  </tbody>\n",
       "</table>\n",
       "<p>100 rows × 6 columns</p>\n",
       "</div>"
      ],
      "text/plain": [
       "     姓名  國文  英文  數學  自然  社會\n",
       "0   劉俊安   9  10  15  10  13\n",
       "1   胡玉華  10  10  10   8   9\n",
       "2   黃淑婷  13  15   8  11  14\n",
       "3   陳上紫  10  10   8   9  14\n",
       "4   崔靜成  13  12  14  12  13\n",
       "..  ...  ..  ..  ..  ..  ..\n",
       "95  蔡佳燕   9  10   9  13  14\n",
       "96  吳筱婷   8  10  14  10  15\n",
       "97  陳家銘  14   9  11   8  12\n",
       "98  李明威  15   9   8   9  15\n",
       "99  農揚勇   9  11  12  12  10\n",
       "\n",
       "[100 rows x 6 columns]"
      ]
     },
     "execution_count": 5,
     "metadata": {},
     "output_type": "execute_result"
    }
   ],
   "source": [
    "grade_df"
   ]
  },
  {
   "cell_type": "markdown",
   "metadata": {
    "id": "JrChNbwhtz0Y"
   },
   "source": [
    "# Understand data"
   ]
  },
  {
   "cell_type": "code",
   "execution_count": null,
   "metadata": {
    "colab": {
     "base_uri": "https://localhost:8080/",
     "height": 363
    },
    "executionInfo": {
     "elapsed": 365,
     "status": "ok",
     "timestamp": 1730268895109,
     "user": {
      "displayName": "林志偉",
      "userId": "13117312472561068650"
     },
     "user_tz": -480
    },
    "id": "KcnzzpbosOw4",
    "outputId": "6b320903-08e7-4e45-c848-decf5bfa804b"
   },
   "outputs": [
    {
     "data": {
      "application/vnd.microsoft.datawrangler.viewer.v0+json": {
       "columns": [
        {
         "name": "index",
         "rawType": "int64",
         "type": "integer"
        },
        {
         "name": "姓名",
         "rawType": "object",
         "type": "string"
        },
        {
         "name": "國文",
         "rawType": "int64",
         "type": "integer"
        },
        {
         "name": "英文",
         "rawType": "int64",
         "type": "integer"
        },
        {
         "name": "數學",
         "rawType": "int64",
         "type": "integer"
        },
        {
         "name": "自然",
         "rawType": "int64",
         "type": "integer"
        },
        {
         "name": "社會",
         "rawType": "int64",
         "type": "integer"
        }
       ],
       "ref": "0bd51f7a-a29b-4ba7-a19b-df6609d5feb7",
       "rows": [
        [
         "0",
         "劉俊安",
         "9",
         "10",
         "15",
         "10",
         "13"
        ],
        [
         "1",
         "胡玉華",
         "10",
         "10",
         "10",
         "8",
         "9"
        ],
        [
         "2",
         "黃淑婷",
         "13",
         "15",
         "8",
         "11",
         "14"
        ],
        [
         "3",
         "陳上紫",
         "10",
         "10",
         "8",
         "9",
         "14"
        ],
        [
         "4",
         "崔靜成",
         "13",
         "12",
         "14",
         "12",
         "13"
        ]
       ],
       "shape": {
        "columns": 6,
        "rows": 5
       }
      },
      "text/html": [
       "<div>\n",
       "<style scoped>\n",
       "    .dataframe tbody tr th:only-of-type {\n",
       "        vertical-align: middle;\n",
       "    }\n",
       "\n",
       "    .dataframe tbody tr th {\n",
       "        vertical-align: top;\n",
       "    }\n",
       "\n",
       "    .dataframe thead th {\n",
       "        text-align: right;\n",
       "    }\n",
       "</style>\n",
       "<table border=\"1\" class=\"dataframe\">\n",
       "  <thead>\n",
       "    <tr style=\"text-align: right;\">\n",
       "      <th></th>\n",
       "      <th>姓名</th>\n",
       "      <th>國文</th>\n",
       "      <th>英文</th>\n",
       "      <th>數學</th>\n",
       "      <th>自然</th>\n",
       "      <th>社會</th>\n",
       "    </tr>\n",
       "  </thead>\n",
       "  <tbody>\n",
       "    <tr>\n",
       "      <th>0</th>\n",
       "      <td>劉俊安</td>\n",
       "      <td>9</td>\n",
       "      <td>10</td>\n",
       "      <td>15</td>\n",
       "      <td>10</td>\n",
       "      <td>13</td>\n",
       "    </tr>\n",
       "    <tr>\n",
       "      <th>1</th>\n",
       "      <td>胡玉華</td>\n",
       "      <td>10</td>\n",
       "      <td>10</td>\n",
       "      <td>10</td>\n",
       "      <td>8</td>\n",
       "      <td>9</td>\n",
       "    </tr>\n",
       "    <tr>\n",
       "      <th>2</th>\n",
       "      <td>黃淑婷</td>\n",
       "      <td>13</td>\n",
       "      <td>15</td>\n",
       "      <td>8</td>\n",
       "      <td>11</td>\n",
       "      <td>14</td>\n",
       "    </tr>\n",
       "    <tr>\n",
       "      <th>3</th>\n",
       "      <td>陳上紫</td>\n",
       "      <td>10</td>\n",
       "      <td>10</td>\n",
       "      <td>8</td>\n",
       "      <td>9</td>\n",
       "      <td>14</td>\n",
       "    </tr>\n",
       "    <tr>\n",
       "      <th>4</th>\n",
       "      <td>崔靜成</td>\n",
       "      <td>13</td>\n",
       "      <td>12</td>\n",
       "      <td>14</td>\n",
       "      <td>12</td>\n",
       "      <td>13</td>\n",
       "    </tr>\n",
       "  </tbody>\n",
       "</table>\n",
       "</div>"
      ],
      "text/plain": [
       "    姓名  國文  英文  數學  自然  社會\n",
       "0  劉俊安   9  10  15  10  13\n",
       "1  胡玉華  10  10  10   8   9\n",
       "2  黃淑婷  13  15   8  11  14\n",
       "3  陳上紫  10  10   8   9  14\n",
       "4  崔靜成  13  12  14  12  13"
      ]
     },
     "execution_count": 8,
     "metadata": {},
     "output_type": "execute_result"
    }
   ],
   "source": [
    "grade_df.head()"
   ]
  },
  {
   "cell_type": "code",
   "execution_count": null,
   "metadata": {
    "colab": {
     "base_uri": "https://localhost:8080/"
    },
    "executionInfo": {
     "elapsed": 333,
     "status": "ok",
     "timestamp": 1730268931602,
     "user": {
      "displayName": "林志偉",
      "userId": "13117312472561068650"
     },
     "user_tz": -480
    },
    "id": "wIMxl40-vY6N",
    "outputId": "166acf15-ed45-44df-bd93-26e36cced13f"
   },
   "outputs": [],
   "source": [
    "grade_df.shape"
   ]
  },
  {
   "cell_type": "markdown",
   "metadata": {
    "id": "BbCq7odLEyYT"
   },
   "source": [
    "# 國文分數的分析"
   ]
  },
  {
   "cell_type": "code",
   "execution_count": null,
   "metadata": {
    "colab": {
     "base_uri": "https://localhost:8080/",
     "height": 458
    },
    "executionInfo": {
     "elapsed": 343,
     "status": "ok",
     "timestamp": 1730268964657,
     "user": {
      "displayName": "林志偉",
      "userId": "13117312472561068650"
     },
     "user_tz": -480
    },
    "id": "mqU4R2eVsSAh",
    "outputId": "17c8842a-72ae-4abf-9247-472f5ed14035"
   },
   "outputs": [
    {
     "data": {
      "application/vnd.microsoft.datawrangler.viewer.v0+json": {
       "columns": [
        {
         "name": "index",
         "rawType": "int64",
         "type": "integer"
        },
        {
         "name": "國文",
         "rawType": "int64",
         "type": "integer"
        }
       ],
       "ref": "ae17922f-712a-4ab0-965e-724503315bf1",
       "rows": [
        [
         "0",
         "9"
        ],
        [
         "1",
         "10"
        ],
        [
         "2",
         "13"
        ],
        [
         "3",
         "10"
        ],
        [
         "4",
         "13"
        ],
        [
         "5",
         "13"
        ],
        [
         "6",
         "11"
        ],
        [
         "7",
         "8"
        ],
        [
         "8",
         "9"
        ],
        [
         "9",
         "10"
        ],
        [
         "10",
         "14"
        ],
        [
         "11",
         "13"
        ],
        [
         "12",
         "11"
        ],
        [
         "13",
         "15"
        ],
        [
         "14",
         "8"
        ],
        [
         "15",
         "11"
        ],
        [
         "16",
         "14"
        ],
        [
         "17",
         "12"
        ],
        [
         "18",
         "9"
        ],
        [
         "19",
         "14"
        ],
        [
         "20",
         "13"
        ],
        [
         "21",
         "9"
        ],
        [
         "22",
         "12"
        ],
        [
         "23",
         "10"
        ],
        [
         "24",
         "10"
        ],
        [
         "25",
         "13"
        ],
        [
         "26",
         "13"
        ],
        [
         "27",
         "8"
        ],
        [
         "28",
         "15"
        ],
        [
         "29",
         "14"
        ],
        [
         "30",
         "8"
        ],
        [
         "31",
         "15"
        ],
        [
         "32",
         "9"
        ],
        [
         "33",
         "14"
        ],
        [
         "34",
         "13"
        ],
        [
         "35",
         "14"
        ],
        [
         "36",
         "12"
        ],
        [
         "37",
         "11"
        ],
        [
         "38",
         "8"
        ],
        [
         "39",
         "9"
        ],
        [
         "40",
         "12"
        ],
        [
         "41",
         "14"
        ],
        [
         "42",
         "14"
        ],
        [
         "43",
         "12"
        ],
        [
         "44",
         "13"
        ],
        [
         "45",
         "9"
        ],
        [
         "46",
         "14"
        ],
        [
         "47",
         "8"
        ],
        [
         "48",
         "15"
        ],
        [
         "49",
         "10"
        ]
       ],
       "shape": {
        "columns": 1,
        "rows": 100
       }
      },
      "text/plain": [
       "0      9\n",
       "1     10\n",
       "2     13\n",
       "3     10\n",
       "4     13\n",
       "      ..\n",
       "95     9\n",
       "96     8\n",
       "97    14\n",
       "98    15\n",
       "99     9\n",
       "Name: 國文, Length: 100, dtype: int64"
      ]
     },
     "execution_count": 10,
     "metadata": {},
     "output_type": "execute_result"
    }
   ],
   "source": [
    "grade_df['國文'] #取出的 data type 為 Series"
   ]
  },
  {
   "cell_type": "code",
   "execution_count": null,
   "metadata": {
    "colab": {
     "base_uri": "https://localhost:8080/",
     "height": 458
    },
    "executionInfo": {
     "elapsed": 346,
     "status": "ok",
     "timestamp": 1730268981103,
     "user": {
      "displayName": "林志偉",
      "userId": "13117312472561068650"
     },
     "user_tz": -480
    },
    "id": "yRHx1O7_Q1r0",
    "outputId": "6f113526-e4a5-4364-e7ef-ad4117651308"
   },
   "outputs": [],
   "source": [
    "grade_df.國文 # 短的寫法 取出的 data type 為 Series"
   ]
  },
  {
   "cell_type": "code",
   "execution_count": 12,
   "metadata": {
    "colab": {
     "base_uri": "https://localhost:8080/"
    },
    "executionInfo": {
     "elapsed": 355,
     "status": "ok",
     "timestamp": 1730269104328,
     "user": {
      "displayName": "林志偉",
      "userId": "13117312472561068650"
     },
     "user_tz": -480
    },
    "id": "IeClYju-scTW",
    "outputId": "da73ec28-3fd5-415a-c80c-d84fae04fed7"
   },
   "outputs": [],
   "source": [
    "# 國文成績統計\n",
    "print('Mean: ', grade_df['國文'].mean())\n",
    "print('STD: ', grade_df['國文'].std())"
   ]
  },
  {
   "cell_type": "code",
   "execution_count": null,
   "metadata": {
    "colab": {
     "base_uri": "https://localhost:8080/",
     "height": 448
    },
    "executionInfo": {
     "elapsed": 1058,
     "status": "ok",
     "timestamp": 1725071554928,
     "user": {
      "displayName": "林志偉",
      "userId": "13117312472561068650"
     },
     "user_tz": -480
    },
    "id": "8zaBCSlHs2xM",
    "outputId": "b2dad384-c53a-4c9d-be33-48ebc0599623"
   },
   "outputs": [],
   "source": [
    "# 國文成績直方圖\n",
    "grade_df['國文'].hist(bins =15)"
   ]
  },
  {
   "cell_type": "markdown",
   "metadata": {
    "id": "UYIcrWjjE5Au"
   },
   "source": [
    "# 統計敘述\n"
   ]
  },
  {
   "cell_type": "code",
   "execution_count": 14,
   "metadata": {
    "colab": {
     "base_uri": "https://localhost:8080/",
     "height": 300
    },
    "executionInfo": {
     "elapsed": 373,
     "status": "ok",
     "timestamp": 1730269286168,
     "user": {
      "displayName": "林志偉",
      "userId": "13117312472561068650"
     },
     "user_tz": -480
    },
    "id": "va3EvwCbs5dN",
    "outputId": "469ee321-02b4-4f6b-88f1-37c1758d4f50"
   },
   "outputs": [
    {
     "data": {
      "application/vnd.microsoft.datawrangler.viewer.v0+json": {
       "columns": [
        {
         "name": "index",
         "rawType": "object",
         "type": "string"
        },
        {
         "name": "國文",
         "rawType": "float64",
         "type": "float"
        },
        {
         "name": "英文",
         "rawType": "float64",
         "type": "float"
        },
        {
         "name": "數學",
         "rawType": "float64",
         "type": "float"
        },
        {
         "name": "自然",
         "rawType": "float64",
         "type": "float"
        },
        {
         "name": "社會",
         "rawType": "float64",
         "type": "float"
        }
       ],
       "ref": "a8e9747c-33e1-4d64-9bb5-a9e79a07de3a",
       "rows": [
        [
         "count",
         "100.0",
         "100.0",
         "100.0",
         "100.0",
         "100.0"
        ],
        [
         "mean",
         "11.39",
         "11.38",
         "11.57",
         "11.03",
         "11.83"
        ],
        [
         "std",
         "2.196852661459484",
         "2.2731635944807684",
         "2.310516143307561",
         "2.2177201871026986",
         "2.4865496763445716"
        ],
        [
         "min",
         "8.0",
         "8.0",
         "8.0",
         "8.0",
         "8.0"
        ],
        [
         "25%",
         "9.0",
         "9.0",
         "10.0",
         "9.0",
         "9.0"
        ],
        [
         "50%",
         "11.0",
         "11.0",
         "11.0",
         "11.0",
         "12.0"
        ],
        [
         "75%",
         "13.0",
         "13.0",
         "14.0",
         "13.0",
         "14.0"
        ],
        [
         "max",
         "15.0",
         "15.0",
         "15.0",
         "15.0",
         "15.0"
        ]
       ],
       "shape": {
        "columns": 5,
        "rows": 8
       }
      },
      "text/html": [
       "<div>\n",
       "<style scoped>\n",
       "    .dataframe tbody tr th:only-of-type {\n",
       "        vertical-align: middle;\n",
       "    }\n",
       "\n",
       "    .dataframe tbody tr th {\n",
       "        vertical-align: top;\n",
       "    }\n",
       "\n",
       "    .dataframe thead th {\n",
       "        text-align: right;\n",
       "    }\n",
       "</style>\n",
       "<table border=\"1\" class=\"dataframe\">\n",
       "  <thead>\n",
       "    <tr style=\"text-align: right;\">\n",
       "      <th></th>\n",
       "      <th>國文</th>\n",
       "      <th>英文</th>\n",
       "      <th>數學</th>\n",
       "      <th>自然</th>\n",
       "      <th>社會</th>\n",
       "    </tr>\n",
       "  </thead>\n",
       "  <tbody>\n",
       "    <tr>\n",
       "      <th>count</th>\n",
       "      <td>100.000000</td>\n",
       "      <td>100.000000</td>\n",
       "      <td>100.000000</td>\n",
       "      <td>100.00000</td>\n",
       "      <td>100.00000</td>\n",
       "    </tr>\n",
       "    <tr>\n",
       "      <th>mean</th>\n",
       "      <td>11.390000</td>\n",
       "      <td>11.380000</td>\n",
       "      <td>11.570000</td>\n",
       "      <td>11.03000</td>\n",
       "      <td>11.83000</td>\n",
       "    </tr>\n",
       "    <tr>\n",
       "      <th>std</th>\n",
       "      <td>2.196853</td>\n",
       "      <td>2.273164</td>\n",
       "      <td>2.310516</td>\n",
       "      <td>2.21772</td>\n",
       "      <td>2.48655</td>\n",
       "    </tr>\n",
       "    <tr>\n",
       "      <th>min</th>\n",
       "      <td>8.000000</td>\n",
       "      <td>8.000000</td>\n",
       "      <td>8.000000</td>\n",
       "      <td>8.00000</td>\n",
       "      <td>8.00000</td>\n",
       "    </tr>\n",
       "    <tr>\n",
       "      <th>25%</th>\n",
       "      <td>9.000000</td>\n",
       "      <td>9.000000</td>\n",
       "      <td>10.000000</td>\n",
       "      <td>9.00000</td>\n",
       "      <td>9.00000</td>\n",
       "    </tr>\n",
       "    <tr>\n",
       "      <th>50%</th>\n",
       "      <td>11.000000</td>\n",
       "      <td>11.000000</td>\n",
       "      <td>11.000000</td>\n",
       "      <td>11.00000</td>\n",
       "      <td>12.00000</td>\n",
       "    </tr>\n",
       "    <tr>\n",
       "      <th>75%</th>\n",
       "      <td>13.000000</td>\n",
       "      <td>13.000000</td>\n",
       "      <td>14.000000</td>\n",
       "      <td>13.00000</td>\n",
       "      <td>14.00000</td>\n",
       "    </tr>\n",
       "    <tr>\n",
       "      <th>max</th>\n",
       "      <td>15.000000</td>\n",
       "      <td>15.000000</td>\n",
       "      <td>15.000000</td>\n",
       "      <td>15.00000</td>\n",
       "      <td>15.00000</td>\n",
       "    </tr>\n",
       "  </tbody>\n",
       "</table>\n",
       "</div>"
      ],
      "text/plain": [
       "               國文          英文          數學         自然         社會\n",
       "count  100.000000  100.000000  100.000000  100.00000  100.00000\n",
       "mean    11.390000   11.380000   11.570000   11.03000   11.83000\n",
       "std      2.196853    2.273164    2.310516    2.21772    2.48655\n",
       "min      8.000000    8.000000    8.000000    8.00000    8.00000\n",
       "25%      9.000000    9.000000   10.000000    9.00000    9.00000\n",
       "50%     11.000000   11.000000   11.000000   11.00000   12.00000\n",
       "75%     13.000000   13.000000   14.000000   13.00000   14.00000\n",
       "max     15.000000   15.000000   15.000000   15.00000   15.00000"
      ]
     },
     "execution_count": 14,
     "metadata": {},
     "output_type": "execute_result"
    }
   ],
   "source": [
    "# 統計敘述\n",
    "grade_df.describe()"
   ]
  },
  {
   "cell_type": "code",
   "execution_count": 15,
   "metadata": {
    "colab": {
     "base_uri": "https://localhost:8080/",
     "height": 206
    },
    "executionInfo": {
     "elapsed": 370,
     "status": "ok",
     "timestamp": 1730270182832,
     "user": {
      "displayName": "林志偉",
      "userId": "13117312472561068650"
     },
     "user_tz": -480
    },
    "id": "OWTICYQUusEg",
    "outputId": "7ead91a7-6b38-4625-a48a-84a3366ece55"
   },
   "outputs": [
    {
     "data": {
      "application/vnd.microsoft.datawrangler.viewer.v0+json": {
       "columns": [
        {
         "name": "index",
         "rawType": "object",
         "type": "string"
        },
        {
         "name": "國文",
         "rawType": "float64",
         "type": "float"
        },
        {
         "name": "英文",
         "rawType": "float64",
         "type": "float"
        },
        {
         "name": "數學",
         "rawType": "float64",
         "type": "float"
        },
        {
         "name": "自然",
         "rawType": "float64",
         "type": "float"
        },
        {
         "name": "社會",
         "rawType": "float64",
         "type": "float"
        }
       ],
       "ref": "37d41b5f-a3c0-469f-9d1b-651229a36aa4",
       "rows": [
        [
         "國文",
         "1.0",
         "0.16015801596684312",
         "-0.31089898221793305",
         "-0.11023608610722793",
         "-0.028421081648700542"
        ],
        [
         "英文",
         "0.16015801596684312",
         "1.0",
         "0.025655526740771355",
         "0.11392898257255248",
         "-0.06351179641525126"
        ],
        [
         "數學",
         "-0.31089898221793305",
         "0.025655526740771355",
         "1.0",
         "0.014370655446026753",
         "0.04165083562294922"
        ],
        [
         "自然",
         "-0.11023608610722793",
         "0.11392898257255248",
         "0.014370655446026753",
         "1.0",
         "-0.15659440203590813"
        ],
        [
         "社會",
         "-0.028421081648700542",
         "-0.06351179641525126",
         "0.04165083562294922",
         "-0.15659440203590813",
         "1.0"
        ]
       ],
       "shape": {
        "columns": 5,
        "rows": 5
       }
      },
      "text/html": [
       "<div>\n",
       "<style scoped>\n",
       "    .dataframe tbody tr th:only-of-type {\n",
       "        vertical-align: middle;\n",
       "    }\n",
       "\n",
       "    .dataframe tbody tr th {\n",
       "        vertical-align: top;\n",
       "    }\n",
       "\n",
       "    .dataframe thead th {\n",
       "        text-align: right;\n",
       "    }\n",
       "</style>\n",
       "<table border=\"1\" class=\"dataframe\">\n",
       "  <thead>\n",
       "    <tr style=\"text-align: right;\">\n",
       "      <th></th>\n",
       "      <th>國文</th>\n",
       "      <th>英文</th>\n",
       "      <th>數學</th>\n",
       "      <th>自然</th>\n",
       "      <th>社會</th>\n",
       "    </tr>\n",
       "  </thead>\n",
       "  <tbody>\n",
       "    <tr>\n",
       "      <th>國文</th>\n",
       "      <td>1.000000</td>\n",
       "      <td>0.160158</td>\n",
       "      <td>-0.310899</td>\n",
       "      <td>-0.110236</td>\n",
       "      <td>-0.028421</td>\n",
       "    </tr>\n",
       "    <tr>\n",
       "      <th>英文</th>\n",
       "      <td>0.160158</td>\n",
       "      <td>1.000000</td>\n",
       "      <td>0.025656</td>\n",
       "      <td>0.113929</td>\n",
       "      <td>-0.063512</td>\n",
       "    </tr>\n",
       "    <tr>\n",
       "      <th>數學</th>\n",
       "      <td>-0.310899</td>\n",
       "      <td>0.025656</td>\n",
       "      <td>1.000000</td>\n",
       "      <td>0.014371</td>\n",
       "      <td>0.041651</td>\n",
       "    </tr>\n",
       "    <tr>\n",
       "      <th>自然</th>\n",
       "      <td>-0.110236</td>\n",
       "      <td>0.113929</td>\n",
       "      <td>0.014371</td>\n",
       "      <td>1.000000</td>\n",
       "      <td>-0.156594</td>\n",
       "    </tr>\n",
       "    <tr>\n",
       "      <th>社會</th>\n",
       "      <td>-0.028421</td>\n",
       "      <td>-0.063512</td>\n",
       "      <td>0.041651</td>\n",
       "      <td>-0.156594</td>\n",
       "      <td>1.000000</td>\n",
       "    </tr>\n",
       "  </tbody>\n",
       "</table>\n",
       "</div>"
      ],
      "text/plain": [
       "          國文        英文        數學        自然        社會\n",
       "國文  1.000000  0.160158 -0.310899 -0.110236 -0.028421\n",
       "英文  0.160158  1.000000  0.025656  0.113929 -0.063512\n",
       "數學 -0.310899  0.025656  1.000000  0.014371  0.041651\n",
       "自然 -0.110236  0.113929  0.014371  1.000000 -0.156594\n",
       "社會 -0.028421 -0.063512  0.041651 -0.156594  1.000000"
      ]
     },
     "execution_count": 15,
     "metadata": {},
     "output_type": "execute_result"
    }
   ],
   "source": [
    "# 學科間的相關性\n",
    "# R值相關程度之高低，在正負0.3之間（即0.3至-0.3之間）稱為低度相關；\n",
    "# 在正負0.3-0.6之間（即指介於0.3至0.6，-0.3至-0.6之間）稱為中度相關；\n",
    "# 而在正負0.6至0.9之間（即指在0.6至0.9，-0.6至-0.9之間）則稱為高度相關；\n",
    "# 若是R值為正負1，即表示完全相關。\n",
    "grade_df[['國文', '英文', '數學', '自然', '社會']].corr()"
   ]
  },
  {
   "cell_type": "code",
   "execution_count": null,
   "metadata": {
    "colab": {
     "base_uri": "https://localhost:8080/"
    },
    "executionInfo": {
     "elapsed": 347,
     "status": "ok",
     "timestamp": 1730270277791,
     "user": {
      "displayName": "林志偉",
      "userId": "13117312472561068650"
     },
     "user_tz": -480
    },
    "id": "ErcBp9WPu3N8",
    "outputId": "cbb72bcd-986f-4958-a4ee-e56c7dde4bc2"
   },
   "outputs": [],
   "source": [
    "# 國文和數學級分的相關性\n",
    "grade_df['國文'].corr(grade_df['數學'])"
   ]
  },
  {
   "cell_type": "markdown",
   "metadata": {
    "id": "s1tnmEqFFDpg"
   },
   "source": [
    "# 總級分分析"
   ]
  },
  {
   "cell_type": "code",
   "execution_count": 17,
   "metadata": {
    "colab": {
     "base_uri": "https://localhost:8080/",
     "height": 206
    },
    "executionInfo": {
     "elapsed": 352,
     "status": "ok",
     "timestamp": 1730270330467,
     "user": {
      "displayName": "林志偉",
      "userId": "13117312472561068650"
     },
     "user_tz": -480
    },
    "id": "LT4uK_83vYIw",
    "outputId": "5b7bdac5-f09c-40e9-8be2-3fa737f97065"
   },
   "outputs": [
    {
     "data": {
      "application/vnd.microsoft.datawrangler.viewer.v0+json": {
       "columns": [
        {
         "name": "index",
         "rawType": "int64",
         "type": "integer"
        },
        {
         "name": "姓名",
         "rawType": "object",
         "type": "string"
        },
        {
         "name": "國文",
         "rawType": "int64",
         "type": "integer"
        },
        {
         "name": "英文",
         "rawType": "int64",
         "type": "integer"
        },
        {
         "name": "數學",
         "rawType": "int64",
         "type": "integer"
        },
        {
         "name": "自然",
         "rawType": "int64",
         "type": "integer"
        },
        {
         "name": "社會",
         "rawType": "int64",
         "type": "integer"
        },
        {
         "name": "總級分",
         "rawType": "int64",
         "type": "integer"
        }
       ],
       "ref": "39702f58-3105-4026-aec8-9d3bc4ee4df5",
       "rows": [
        [
         "0",
         "劉俊安",
         "9",
         "10",
         "15",
         "10",
         "13",
         "57"
        ],
        [
         "1",
         "胡玉華",
         "10",
         "10",
         "10",
         "8",
         "9",
         "47"
        ],
        [
         "2",
         "黃淑婷",
         "13",
         "15",
         "8",
         "11",
         "14",
         "61"
        ],
        [
         "3",
         "陳上紫",
         "10",
         "10",
         "8",
         "9",
         "14",
         "51"
        ],
        [
         "4",
         "崔靜成",
         "13",
         "12",
         "14",
         "12",
         "13",
         "64"
        ]
       ],
       "shape": {
        "columns": 7,
        "rows": 5
       }
      },
      "text/html": [
       "<div>\n",
       "<style scoped>\n",
       "    .dataframe tbody tr th:only-of-type {\n",
       "        vertical-align: middle;\n",
       "    }\n",
       "\n",
       "    .dataframe tbody tr th {\n",
       "        vertical-align: top;\n",
       "    }\n",
       "\n",
       "    .dataframe thead th {\n",
       "        text-align: right;\n",
       "    }\n",
       "</style>\n",
       "<table border=\"1\" class=\"dataframe\">\n",
       "  <thead>\n",
       "    <tr style=\"text-align: right;\">\n",
       "      <th></th>\n",
       "      <th>姓名</th>\n",
       "      <th>國文</th>\n",
       "      <th>英文</th>\n",
       "      <th>數學</th>\n",
       "      <th>自然</th>\n",
       "      <th>社會</th>\n",
       "      <th>總級分</th>\n",
       "    </tr>\n",
       "  </thead>\n",
       "  <tbody>\n",
       "    <tr>\n",
       "      <th>0</th>\n",
       "      <td>劉俊安</td>\n",
       "      <td>9</td>\n",
       "      <td>10</td>\n",
       "      <td>15</td>\n",
       "      <td>10</td>\n",
       "      <td>13</td>\n",
       "      <td>57</td>\n",
       "    </tr>\n",
       "    <tr>\n",
       "      <th>1</th>\n",
       "      <td>胡玉華</td>\n",
       "      <td>10</td>\n",
       "      <td>10</td>\n",
       "      <td>10</td>\n",
       "      <td>8</td>\n",
       "      <td>9</td>\n",
       "      <td>47</td>\n",
       "    </tr>\n",
       "    <tr>\n",
       "      <th>2</th>\n",
       "      <td>黃淑婷</td>\n",
       "      <td>13</td>\n",
       "      <td>15</td>\n",
       "      <td>8</td>\n",
       "      <td>11</td>\n",
       "      <td>14</td>\n",
       "      <td>61</td>\n",
       "    </tr>\n",
       "    <tr>\n",
       "      <th>3</th>\n",
       "      <td>陳上紫</td>\n",
       "      <td>10</td>\n",
       "      <td>10</td>\n",
       "      <td>8</td>\n",
       "      <td>9</td>\n",
       "      <td>14</td>\n",
       "      <td>51</td>\n",
       "    </tr>\n",
       "    <tr>\n",
       "      <th>4</th>\n",
       "      <td>崔靜成</td>\n",
       "      <td>13</td>\n",
       "      <td>12</td>\n",
       "      <td>14</td>\n",
       "      <td>12</td>\n",
       "      <td>13</td>\n",
       "      <td>64</td>\n",
       "    </tr>\n",
       "  </tbody>\n",
       "</table>\n",
       "</div>"
      ],
      "text/plain": [
       "    姓名  國文  英文  數學  自然  社會  總級分\n",
       "0  劉俊安   9  10  15  10  13   57\n",
       "1  胡玉華  10  10  10   8   9   47\n",
       "2  黃淑婷  13  15   8  11  14   61\n",
       "3  陳上紫  10  10   8   9  14   51\n",
       "4  崔靜成  13  12  14  12  13   64"
      ]
     },
     "execution_count": 17,
     "metadata": {},
     "output_type": "execute_result"
    }
   ],
   "source": [
    "# 計算欄位值的和\n",
    "grade_df['總級分'] = grade_df[['國文', '英文', '數學', '自然', '社會']].sum(axis=1)\n",
    "grade_df.head()"
   ]
  },
  {
   "cell_type": "code",
   "execution_count": 18,
   "metadata": {
    "colab": {
     "base_uri": "https://localhost:8080/",
     "height": 424
    },
    "executionInfo": {
     "elapsed": 361,
     "status": "ok",
     "timestamp": 1730270370734,
     "user": {
      "displayName": "林志偉",
      "userId": "13117312472561068650"
     },
     "user_tz": -480
    },
    "id": "vRmpxLa1wRaZ",
    "outputId": "dadf41f4-a66b-4ab6-bd28-5f8cd9d0d22f"
   },
   "outputs": [
    {
     "data": {
      "application/vnd.microsoft.datawrangler.viewer.v0+json": {
       "columns": [
        {
         "name": "index",
         "rawType": "int64",
         "type": "integer"
        },
        {
         "name": "姓名",
         "rawType": "object",
         "type": "string"
        },
        {
         "name": "國文",
         "rawType": "int64",
         "type": "integer"
        },
        {
         "name": "英文",
         "rawType": "int64",
         "type": "integer"
        },
        {
         "name": "數學",
         "rawType": "int64",
         "type": "integer"
        },
        {
         "name": "自然",
         "rawType": "int64",
         "type": "integer"
        },
        {
         "name": "社會",
         "rawType": "int64",
         "type": "integer"
        },
        {
         "name": "總級分",
         "rawType": "int64",
         "type": "integer"
        }
       ],
       "ref": "1edf5647-6d30-4df3-a8ad-af0900ebc797",
       "rows": [
        [
         "80",
         "施雅鈴",
         "13",
         "15",
         "12",
         "13",
         "13",
         "66"
        ],
        [
         "12",
         "李正偉",
         "11",
         "15",
         "11",
         "14",
         "15",
         "66"
        ],
        [
         "54",
         "陳怡潔",
         "15",
         "15",
         "9",
         "15",
         "11",
         "65"
        ],
        [
         "25",
         "蔡亦瑄",
         "13",
         "13",
         "14",
         "13",
         "12",
         "65"
        ],
        [
         "57",
         "胡淳茜",
         "12",
         "15",
         "14",
         "13",
         "11",
         "65"
        ],
        [
         "37",
         "曾怡君",
         "11",
         "12",
         "15",
         "13",
         "14",
         "65"
        ],
        [
         "48",
         "陳怡婷",
         "15",
         "14",
         "12",
         "9",
         "15",
         "65"
        ],
        [
         "64",
         "俞志峰",
         "9",
         "14",
         "13",
         "14",
         "15",
         "65"
        ],
        [
         "83",
         "李士賢",
         "10",
         "14",
         "15",
         "13",
         "13",
         "65"
        ],
        [
         "87",
         "趙偉希",
         "10",
         "13",
         "14",
         "13",
         "15",
         "65"
        ],
        [
         "4",
         "崔靜成",
         "13",
         "12",
         "14",
         "12",
         "13",
         "64"
        ],
        [
         "36",
         "詹威德",
         "12",
         "13",
         "15",
         "10",
         "14",
         "64"
        ],
        [
         "11",
         "周皇樺",
         "13",
         "9",
         "13",
         "14",
         "15",
         "64"
        ],
        [
         "68",
         "劉麗芬",
         "8",
         "14",
         "14",
         "14",
         "14",
         "64"
        ],
        [
         "67",
         "林哲法",
         "14",
         "9",
         "15",
         "10",
         "14",
         "62"
        ],
        [
         "20",
         "陳智超",
         "13",
         "9",
         "13",
         "14",
         "13",
         "62"
        ],
        [
         "24",
         "陳竹伯",
         "10",
         "12",
         "15",
         "10",
         "14",
         "61"
        ],
        [
         "65",
         "謝雅琳",
         "13",
         "14",
         "13",
         "12",
         "9",
         "61"
        ],
        [
         "76",
         "周育霖",
         "9",
         "12",
         "15",
         "13",
         "12",
         "61"
        ],
        [
         "44",
         "童心怡",
         "13",
         "13",
         "14",
         "8",
         "13",
         "61"
        ],
        [
         "2",
         "黃淑婷",
         "13",
         "15",
         "8",
         "11",
         "14",
         "61"
        ],
        [
         "51",
         "劉彥斌",
         "14",
         "11",
         "11",
         "12",
         "13",
         "61"
        ],
        [
         "91",
         "陳登翰",
         "14",
         "11",
         "11",
         "13",
         "12",
         "61"
        ],
        [
         "31",
         "林秀娟",
         "15",
         "12",
         "9",
         "9",
         "15",
         "60"
        ],
        [
         "13",
         "黃旭忠",
         "15",
         "14",
         "9",
         "12",
         "10",
         "60"
        ],
        [
         "49",
         "朱寶原",
         "10",
         "14",
         "11",
         "10",
         "15",
         "60"
        ],
        [
         "60",
         "曾昇喬",
         "14",
         "12",
         "11",
         "8",
         "15",
         "60"
        ],
        [
         "42",
         "趙恭群",
         "14",
         "12",
         "10",
         "9",
         "15",
         "60"
        ],
        [
         "41",
         "曲秀芬",
         "14",
         "14",
         "8",
         "9",
         "15",
         "60"
        ],
        [
         "70",
         "葉儀依",
         "9",
         "13",
         "15",
         "8",
         "14",
         "59"
        ],
        [
         "89",
         "郭順誠",
         "13",
         "13",
         "10",
         "14",
         "9",
         "59"
        ],
        [
         "73",
         "吳志遠",
         "13",
         "15",
         "15",
         "8",
         "8",
         "59"
        ],
        [
         "66",
         "邱盈俊",
         "10",
         "14",
         "14",
         "13",
         "8",
         "59"
        ],
        [
         "90",
         "胡勝傑",
         "8",
         "11",
         "15",
         "10",
         "15",
         "59"
        ],
        [
         "53",
         "駱穎琦",
         "14",
         "10",
         "11",
         "9",
         "15",
         "59"
        ],
        [
         "23",
         "許惠雯",
         "10",
         "13",
         "12",
         "14",
         "10",
         "59"
        ],
        [
         "39",
         "段冠廷",
         "9",
         "8",
         "15",
         "12",
         "15",
         "59"
        ],
        [
         "79",
         "宣宣士",
         "9",
         "10",
         "12",
         "15",
         "13",
         "59"
        ],
        [
         "47",
         "葉子豪",
         "8",
         "9",
         "13",
         "13",
         "15",
         "58"
        ],
        [
         "46",
         "柳菁蘭",
         "14",
         "12",
         "10",
         "8",
         "14",
         "58"
        ],
        [
         "43",
         "林士茜",
         "12",
         "15",
         "9",
         "9",
         "13",
         "58"
        ],
        [
         "56",
         "陳亭妏",
         "11",
         "14",
         "11",
         "12",
         "10",
         "58"
        ],
        [
         "74",
         "劉雅友",
         "14",
         "9",
         "10",
         "14",
         "11",
         "58"
        ],
        [
         "78",
         "葉孟名",
         "12",
         "13",
         "13",
         "9",
         "11",
         "58"
        ],
        [
         "19",
         "葉曉玲",
         "14",
         "9",
         "11",
         "15",
         "9",
         "58"
        ],
        [
         "82",
         "蕭呈萍",
         "11",
         "14",
         "9",
         "15",
         "9",
         "58"
        ],
        [
         "14",
         "葉雅琳",
         "8",
         "13",
         "10",
         "13",
         "14",
         "58"
        ],
        [
         "6",
         "梁俊翔",
         "11",
         "13",
         "10",
         "10",
         "14",
         "58"
        ],
        [
         "58",
         "陳允凌",
         "10",
         "13",
         "9",
         "11",
         "14",
         "57"
        ],
        [
         "92",
         "蔡淑孝",
         "8",
         "12",
         "14",
         "12",
         "11",
         "57"
        ]
       ],
       "shape": {
        "columns": 7,
        "rows": 100
       }
      },
      "text/html": [
       "<div>\n",
       "<style scoped>\n",
       "    .dataframe tbody tr th:only-of-type {\n",
       "        vertical-align: middle;\n",
       "    }\n",
       "\n",
       "    .dataframe tbody tr th {\n",
       "        vertical-align: top;\n",
       "    }\n",
       "\n",
       "    .dataframe thead th {\n",
       "        text-align: right;\n",
       "    }\n",
       "</style>\n",
       "<table border=\"1\" class=\"dataframe\">\n",
       "  <thead>\n",
       "    <tr style=\"text-align: right;\">\n",
       "      <th></th>\n",
       "      <th>姓名</th>\n",
       "      <th>國文</th>\n",
       "      <th>英文</th>\n",
       "      <th>數學</th>\n",
       "      <th>自然</th>\n",
       "      <th>社會</th>\n",
       "      <th>總級分</th>\n",
       "    </tr>\n",
       "  </thead>\n",
       "  <tbody>\n",
       "    <tr>\n",
       "      <th>80</th>\n",
       "      <td>施雅鈴</td>\n",
       "      <td>13</td>\n",
       "      <td>15</td>\n",
       "      <td>12</td>\n",
       "      <td>13</td>\n",
       "      <td>13</td>\n",
       "      <td>66</td>\n",
       "    </tr>\n",
       "    <tr>\n",
       "      <th>12</th>\n",
       "      <td>李正偉</td>\n",
       "      <td>11</td>\n",
       "      <td>15</td>\n",
       "      <td>11</td>\n",
       "      <td>14</td>\n",
       "      <td>15</td>\n",
       "      <td>66</td>\n",
       "    </tr>\n",
       "    <tr>\n",
       "      <th>54</th>\n",
       "      <td>陳怡潔</td>\n",
       "      <td>15</td>\n",
       "      <td>15</td>\n",
       "      <td>9</td>\n",
       "      <td>15</td>\n",
       "      <td>11</td>\n",
       "      <td>65</td>\n",
       "    </tr>\n",
       "    <tr>\n",
       "      <th>25</th>\n",
       "      <td>蔡亦瑄</td>\n",
       "      <td>13</td>\n",
       "      <td>13</td>\n",
       "      <td>14</td>\n",
       "      <td>13</td>\n",
       "      <td>12</td>\n",
       "      <td>65</td>\n",
       "    </tr>\n",
       "    <tr>\n",
       "      <th>57</th>\n",
       "      <td>胡淳茜</td>\n",
       "      <td>12</td>\n",
       "      <td>15</td>\n",
       "      <td>14</td>\n",
       "      <td>13</td>\n",
       "      <td>11</td>\n",
       "      <td>65</td>\n",
       "    </tr>\n",
       "    <tr>\n",
       "      <th>...</th>\n",
       "      <td>...</td>\n",
       "      <td>...</td>\n",
       "      <td>...</td>\n",
       "      <td>...</td>\n",
       "      <td>...</td>\n",
       "      <td>...</td>\n",
       "      <td>...</td>\n",
       "    </tr>\n",
       "    <tr>\n",
       "      <th>93</th>\n",
       "      <td>李曼夢</td>\n",
       "      <td>11</td>\n",
       "      <td>9</td>\n",
       "      <td>11</td>\n",
       "      <td>8</td>\n",
       "      <td>8</td>\n",
       "      <td>47</td>\n",
       "    </tr>\n",
       "    <tr>\n",
       "      <th>32</th>\n",
       "      <td>林建亨</td>\n",
       "      <td>9</td>\n",
       "      <td>11</td>\n",
       "      <td>8</td>\n",
       "      <td>8</td>\n",
       "      <td>11</td>\n",
       "      <td>47</td>\n",
       "    </tr>\n",
       "    <tr>\n",
       "      <th>1</th>\n",
       "      <td>胡玉華</td>\n",
       "      <td>10</td>\n",
       "      <td>10</td>\n",
       "      <td>10</td>\n",
       "      <td>8</td>\n",
       "      <td>9</td>\n",
       "      <td>47</td>\n",
       "    </tr>\n",
       "    <tr>\n",
       "      <th>7</th>\n",
       "      <td>林金鳳</td>\n",
       "      <td>8</td>\n",
       "      <td>9</td>\n",
       "      <td>10</td>\n",
       "      <td>10</td>\n",
       "      <td>8</td>\n",
       "      <td>45</td>\n",
       "    </tr>\n",
       "    <tr>\n",
       "      <th>18</th>\n",
       "      <td>梁慧君</td>\n",
       "      <td>9</td>\n",
       "      <td>8</td>\n",
       "      <td>8</td>\n",
       "      <td>8</td>\n",
       "      <td>12</td>\n",
       "      <td>45</td>\n",
       "    </tr>\n",
       "  </tbody>\n",
       "</table>\n",
       "<p>100 rows × 7 columns</p>\n",
       "</div>"
      ],
      "text/plain": [
       "     姓名  國文  英文  數學  自然  社會  總級分\n",
       "80  施雅鈴  13  15  12  13  13   66\n",
       "12  李正偉  11  15  11  14  15   66\n",
       "54  陳怡潔  15  15   9  15  11   65\n",
       "25  蔡亦瑄  13  13  14  13  12   65\n",
       "57  胡淳茜  12  15  14  13  11   65\n",
       "..  ...  ..  ..  ..  ..  ..  ...\n",
       "93  李曼夢  11   9  11   8   8   47\n",
       "32  林建亨   9  11   8   8  11   47\n",
       "1   胡玉華  10  10  10   8   9   47\n",
       "7   林金鳳   8   9  10  10   8   45\n",
       "18  梁慧君   9   8   8   8  12   45\n",
       "\n",
       "[100 rows x 7 columns]"
      ]
     },
     "execution_count": 18,
     "metadata": {},
     "output_type": "execute_result"
    }
   ],
   "source": [
    "# 排序\n",
    "grade_df.sort_values(by='總級分', ascending = False)"
   ]
  },
  {
   "cell_type": "code",
   "execution_count": 19,
   "metadata": {
    "colab": {
     "base_uri": "https://localhost:8080/",
     "height": 363
    },
    "executionInfo": {
     "elapsed": 367,
     "status": "ok",
     "timestamp": 1730270405723,
     "user": {
      "displayName": "林志偉",
      "userId": "13117312472561068650"
     },
     "user_tz": -480
    },
    "id": "i5hvwflKzACa",
    "outputId": "3ccf56e8-6800-4ee7-c4ad-e87d6e65279e"
   },
   "outputs": [
    {
     "data": {
      "application/vnd.microsoft.datawrangler.viewer.v0+json": {
       "columns": [
        {
         "name": "index",
         "rawType": "int64",
         "type": "integer"
        },
        {
         "name": "姓名",
         "rawType": "object",
         "type": "string"
        },
        {
         "name": "國文",
         "rawType": "int64",
         "type": "integer"
        },
        {
         "name": "英文",
         "rawType": "int64",
         "type": "integer"
        },
        {
         "name": "數學",
         "rawType": "int64",
         "type": "integer"
        },
        {
         "name": "自然",
         "rawType": "int64",
         "type": "integer"
        },
        {
         "name": "社會",
         "rawType": "int64",
         "type": "integer"
        },
        {
         "name": "總級分",
         "rawType": "int64",
         "type": "integer"
        },
        {
         "name": "主科加權",
         "rawType": "float64",
         "type": "float"
        }
       ],
       "ref": "9751f8bd-a49f-4875-9f97-d2b335a7389c",
       "rows": [
        [
         "0",
         "劉俊安",
         "9",
         "10",
         "15",
         "10",
         "13",
         "57",
         "32.5"
        ],
        [
         "1",
         "胡玉華",
         "10",
         "10",
         "10",
         "8",
         "9",
         "47",
         "25.0"
        ],
        [
         "2",
         "黃淑婷",
         "13",
         "15",
         "8",
         "11",
         "14",
         "61",
         "27.0"
        ],
        [
         "3",
         "陳上紫",
         "10",
         "10",
         "8",
         "9",
         "14",
         "51",
         "22.0"
        ],
        [
         "4",
         "崔靜成",
         "13",
         "12",
         "14",
         "12",
         "13",
         "64",
         "33.0"
        ],
        [
         "5",
         "張雅岳",
         "13",
         "12",
         "12",
         "12",
         "8",
         "57",
         "30.0"
        ],
        [
         "6",
         "梁俊翔",
         "11",
         "13",
         "10",
         "10",
         "14",
         "58",
         "28.0"
        ],
        [
         "7",
         "林金鳳",
         "8",
         "9",
         "10",
         "10",
         "8",
         "45",
         "24.0"
        ],
        [
         "8",
         "許協旺",
         "9",
         "9",
         "12",
         "10",
         "10",
         "50",
         "27.0"
        ],
        [
         "9",
         "郭雅惠",
         "10",
         "15",
         "12",
         "11",
         "9",
         "57",
         "33.0"
        ]
       ],
       "shape": {
        "columns": 8,
        "rows": 10
       }
      },
      "text/html": [
       "<div>\n",
       "<style scoped>\n",
       "    .dataframe tbody tr th:only-of-type {\n",
       "        vertical-align: middle;\n",
       "    }\n",
       "\n",
       "    .dataframe tbody tr th {\n",
       "        vertical-align: top;\n",
       "    }\n",
       "\n",
       "    .dataframe thead th {\n",
       "        text-align: right;\n",
       "    }\n",
       "</style>\n",
       "<table border=\"1\" class=\"dataframe\">\n",
       "  <thead>\n",
       "    <tr style=\"text-align: right;\">\n",
       "      <th></th>\n",
       "      <th>姓名</th>\n",
       "      <th>國文</th>\n",
       "      <th>英文</th>\n",
       "      <th>數學</th>\n",
       "      <th>自然</th>\n",
       "      <th>社會</th>\n",
       "      <th>總級分</th>\n",
       "      <th>主科加權</th>\n",
       "    </tr>\n",
       "  </thead>\n",
       "  <tbody>\n",
       "    <tr>\n",
       "      <th>0</th>\n",
       "      <td>劉俊安</td>\n",
       "      <td>9</td>\n",
       "      <td>10</td>\n",
       "      <td>15</td>\n",
       "      <td>10</td>\n",
       "      <td>13</td>\n",
       "      <td>57</td>\n",
       "      <td>32.5</td>\n",
       "    </tr>\n",
       "    <tr>\n",
       "      <th>1</th>\n",
       "      <td>胡玉華</td>\n",
       "      <td>10</td>\n",
       "      <td>10</td>\n",
       "      <td>10</td>\n",
       "      <td>8</td>\n",
       "      <td>9</td>\n",
       "      <td>47</td>\n",
       "      <td>25.0</td>\n",
       "    </tr>\n",
       "    <tr>\n",
       "      <th>2</th>\n",
       "      <td>黃淑婷</td>\n",
       "      <td>13</td>\n",
       "      <td>15</td>\n",
       "      <td>8</td>\n",
       "      <td>11</td>\n",
       "      <td>14</td>\n",
       "      <td>61</td>\n",
       "      <td>27.0</td>\n",
       "    </tr>\n",
       "    <tr>\n",
       "      <th>3</th>\n",
       "      <td>陳上紫</td>\n",
       "      <td>10</td>\n",
       "      <td>10</td>\n",
       "      <td>8</td>\n",
       "      <td>9</td>\n",
       "      <td>14</td>\n",
       "      <td>51</td>\n",
       "      <td>22.0</td>\n",
       "    </tr>\n",
       "    <tr>\n",
       "      <th>4</th>\n",
       "      <td>崔靜成</td>\n",
       "      <td>13</td>\n",
       "      <td>12</td>\n",
       "      <td>14</td>\n",
       "      <td>12</td>\n",
       "      <td>13</td>\n",
       "      <td>64</td>\n",
       "      <td>33.0</td>\n",
       "    </tr>\n",
       "    <tr>\n",
       "      <th>5</th>\n",
       "      <td>張雅岳</td>\n",
       "      <td>13</td>\n",
       "      <td>12</td>\n",
       "      <td>12</td>\n",
       "      <td>12</td>\n",
       "      <td>8</td>\n",
       "      <td>57</td>\n",
       "      <td>30.0</td>\n",
       "    </tr>\n",
       "    <tr>\n",
       "      <th>6</th>\n",
       "      <td>梁俊翔</td>\n",
       "      <td>11</td>\n",
       "      <td>13</td>\n",
       "      <td>10</td>\n",
       "      <td>10</td>\n",
       "      <td>14</td>\n",
       "      <td>58</td>\n",
       "      <td>28.0</td>\n",
       "    </tr>\n",
       "    <tr>\n",
       "      <th>7</th>\n",
       "      <td>林金鳳</td>\n",
       "      <td>8</td>\n",
       "      <td>9</td>\n",
       "      <td>10</td>\n",
       "      <td>10</td>\n",
       "      <td>8</td>\n",
       "      <td>45</td>\n",
       "      <td>24.0</td>\n",
       "    </tr>\n",
       "    <tr>\n",
       "      <th>8</th>\n",
       "      <td>許協旺</td>\n",
       "      <td>9</td>\n",
       "      <td>9</td>\n",
       "      <td>12</td>\n",
       "      <td>10</td>\n",
       "      <td>10</td>\n",
       "      <td>50</td>\n",
       "      <td>27.0</td>\n",
       "    </tr>\n",
       "    <tr>\n",
       "      <th>9</th>\n",
       "      <td>郭雅惠</td>\n",
       "      <td>10</td>\n",
       "      <td>15</td>\n",
       "      <td>12</td>\n",
       "      <td>11</td>\n",
       "      <td>9</td>\n",
       "      <td>57</td>\n",
       "      <td>33.0</td>\n",
       "    </tr>\n",
       "  </tbody>\n",
       "</table>\n",
       "</div>"
      ],
      "text/plain": [
       "    姓名  國文  英文  數學  自然  社會  總級分  主科加權\n",
       "0  劉俊安   9  10  15  10  13   57  32.5\n",
       "1  胡玉華  10  10  10   8   9   47  25.0\n",
       "2  黃淑婷  13  15   8  11  14   61  27.0\n",
       "3  陳上紫  10  10   8   9  14   51  22.0\n",
       "4  崔靜成  13  12  14  12  13   64  33.0\n",
       "5  張雅岳  13  12  12  12   8   57  30.0\n",
       "6  梁俊翔  11  13  10  10  14   58  28.0\n",
       "7  林金鳳   8   9  10  10   8   45  24.0\n",
       "8  許協旺   9   9  12  10  10   50  27.0\n",
       "9  郭雅惠  10  15  12  11   9   57  33.0"
      ]
     },
     "execution_count": 19,
     "metadata": {},
     "output_type": "execute_result"
    }
   ],
   "source": [
    "grade_df['主科加權'] = grade_df['數學'] * 1.5 + grade_df['英文']\n",
    "grade_df.head(10)"
   ]
  },
  {
   "cell_type": "code",
   "execution_count": 20,
   "metadata": {
    "colab": {
     "base_uri": "https://localhost:8080/",
     "height": 363
    },
    "executionInfo": {
     "elapsed": 343,
     "status": "ok",
     "timestamp": 1730270436083,
     "user": {
      "displayName": "林志偉",
      "userId": "13117312472561068650"
     },
     "user_tz": -480
    },
    "id": "GBnQErQszheh",
    "outputId": "355d81b0-f7f0-4294-9b10-f28b332a59a8"
   },
   "outputs": [
    {
     "data": {
      "application/vnd.microsoft.datawrangler.viewer.v0+json": {
       "columns": [
        {
         "name": "index",
         "rawType": "int64",
         "type": "integer"
        },
        {
         "name": "姓名",
         "rawType": "object",
         "type": "string"
        },
        {
         "name": "國文",
         "rawType": "int64",
         "type": "integer"
        },
        {
         "name": "英文",
         "rawType": "int64",
         "type": "integer"
        },
        {
         "name": "數學",
         "rawType": "int64",
         "type": "integer"
        },
        {
         "name": "自然",
         "rawType": "int64",
         "type": "integer"
        },
        {
         "name": "社會",
         "rawType": "int64",
         "type": "integer"
        },
        {
         "name": "總級分",
         "rawType": "int64",
         "type": "integer"
        },
        {
         "name": "主科加權",
         "rawType": "float64",
         "type": "float"
        }
       ],
       "ref": "7b1e2c18-843b-4a74-9991-6ca87cd440d6",
       "rows": [
        [
         "73",
         "吳志遠",
         "13",
         "15",
         "15",
         "8",
         "8",
         "59",
         "37.5"
        ],
        [
         "83",
         "李士賢",
         "10",
         "14",
         "15",
         "13",
         "13",
         "65",
         "36.5"
        ],
        [
         "57",
         "胡淳茜",
         "12",
         "15",
         "14",
         "13",
         "11",
         "65",
         "36.0"
        ],
        [
         "36",
         "詹威德",
         "12",
         "13",
         "15",
         "10",
         "14",
         "64",
         "35.5"
        ],
        [
         "70",
         "葉儀依",
         "9",
         "13",
         "15",
         "8",
         "14",
         "59",
         "35.5"
        ],
        [
         "68",
         "劉麗芬",
         "8",
         "14",
         "14",
         "14",
         "14",
         "64",
         "35.0"
        ],
        [
         "66",
         "邱盈俊",
         "10",
         "14",
         "14",
         "13",
         "8",
         "59",
         "35.0"
        ],
        [
         "37",
         "曾怡君",
         "11",
         "12",
         "15",
         "13",
         "14",
         "65",
         "34.5"
        ],
        [
         "24",
         "陳竹伯",
         "10",
         "12",
         "15",
         "10",
         "14",
         "61",
         "34.5"
        ],
        [
         "76",
         "周育霖",
         "9",
         "12",
         "15",
         "13",
         "12",
         "61",
         "34.5"
        ]
       ],
       "shape": {
        "columns": 8,
        "rows": 10
       }
      },
      "text/html": [
       "<div>\n",
       "<style scoped>\n",
       "    .dataframe tbody tr th:only-of-type {\n",
       "        vertical-align: middle;\n",
       "    }\n",
       "\n",
       "    .dataframe tbody tr th {\n",
       "        vertical-align: top;\n",
       "    }\n",
       "\n",
       "    .dataframe thead th {\n",
       "        text-align: right;\n",
       "    }\n",
       "</style>\n",
       "<table border=\"1\" class=\"dataframe\">\n",
       "  <thead>\n",
       "    <tr style=\"text-align: right;\">\n",
       "      <th></th>\n",
       "      <th>姓名</th>\n",
       "      <th>國文</th>\n",
       "      <th>英文</th>\n",
       "      <th>數學</th>\n",
       "      <th>自然</th>\n",
       "      <th>社會</th>\n",
       "      <th>總級分</th>\n",
       "      <th>主科加權</th>\n",
       "    </tr>\n",
       "  </thead>\n",
       "  <tbody>\n",
       "    <tr>\n",
       "      <th>73</th>\n",
       "      <td>吳志遠</td>\n",
       "      <td>13</td>\n",
       "      <td>15</td>\n",
       "      <td>15</td>\n",
       "      <td>8</td>\n",
       "      <td>8</td>\n",
       "      <td>59</td>\n",
       "      <td>37.5</td>\n",
       "    </tr>\n",
       "    <tr>\n",
       "      <th>83</th>\n",
       "      <td>李士賢</td>\n",
       "      <td>10</td>\n",
       "      <td>14</td>\n",
       "      <td>15</td>\n",
       "      <td>13</td>\n",
       "      <td>13</td>\n",
       "      <td>65</td>\n",
       "      <td>36.5</td>\n",
       "    </tr>\n",
       "    <tr>\n",
       "      <th>57</th>\n",
       "      <td>胡淳茜</td>\n",
       "      <td>12</td>\n",
       "      <td>15</td>\n",
       "      <td>14</td>\n",
       "      <td>13</td>\n",
       "      <td>11</td>\n",
       "      <td>65</td>\n",
       "      <td>36.0</td>\n",
       "    </tr>\n",
       "    <tr>\n",
       "      <th>36</th>\n",
       "      <td>詹威德</td>\n",
       "      <td>12</td>\n",
       "      <td>13</td>\n",
       "      <td>15</td>\n",
       "      <td>10</td>\n",
       "      <td>14</td>\n",
       "      <td>64</td>\n",
       "      <td>35.5</td>\n",
       "    </tr>\n",
       "    <tr>\n",
       "      <th>70</th>\n",
       "      <td>葉儀依</td>\n",
       "      <td>9</td>\n",
       "      <td>13</td>\n",
       "      <td>15</td>\n",
       "      <td>8</td>\n",
       "      <td>14</td>\n",
       "      <td>59</td>\n",
       "      <td>35.5</td>\n",
       "    </tr>\n",
       "    <tr>\n",
       "      <th>68</th>\n",
       "      <td>劉麗芬</td>\n",
       "      <td>8</td>\n",
       "      <td>14</td>\n",
       "      <td>14</td>\n",
       "      <td>14</td>\n",
       "      <td>14</td>\n",
       "      <td>64</td>\n",
       "      <td>35.0</td>\n",
       "    </tr>\n",
       "    <tr>\n",
       "      <th>66</th>\n",
       "      <td>邱盈俊</td>\n",
       "      <td>10</td>\n",
       "      <td>14</td>\n",
       "      <td>14</td>\n",
       "      <td>13</td>\n",
       "      <td>8</td>\n",
       "      <td>59</td>\n",
       "      <td>35.0</td>\n",
       "    </tr>\n",
       "    <tr>\n",
       "      <th>37</th>\n",
       "      <td>曾怡君</td>\n",
       "      <td>11</td>\n",
       "      <td>12</td>\n",
       "      <td>15</td>\n",
       "      <td>13</td>\n",
       "      <td>14</td>\n",
       "      <td>65</td>\n",
       "      <td>34.5</td>\n",
       "    </tr>\n",
       "    <tr>\n",
       "      <th>24</th>\n",
       "      <td>陳竹伯</td>\n",
       "      <td>10</td>\n",
       "      <td>12</td>\n",
       "      <td>15</td>\n",
       "      <td>10</td>\n",
       "      <td>14</td>\n",
       "      <td>61</td>\n",
       "      <td>34.5</td>\n",
       "    </tr>\n",
       "    <tr>\n",
       "      <th>76</th>\n",
       "      <td>周育霖</td>\n",
       "      <td>9</td>\n",
       "      <td>12</td>\n",
       "      <td>15</td>\n",
       "      <td>13</td>\n",
       "      <td>12</td>\n",
       "      <td>61</td>\n",
       "      <td>34.5</td>\n",
       "    </tr>\n",
       "  </tbody>\n",
       "</table>\n",
       "</div>"
      ],
      "text/plain": [
       "     姓名  國文  英文  數學  自然  社會  總級分  主科加權\n",
       "73  吳志遠  13  15  15   8   8   59  37.5\n",
       "83  李士賢  10  14  15  13  13   65  36.5\n",
       "57  胡淳茜  12  15  14  13  11   65  36.0\n",
       "36  詹威德  12  13  15  10  14   64  35.5\n",
       "70  葉儀依   9  13  15   8  14   59  35.5\n",
       "68  劉麗芬   8  14  14  14  14   64  35.0\n",
       "66  邱盈俊  10  14  14  13   8   59  35.0\n",
       "37  曾怡君  11  12  15  13  14   65  34.5\n",
       "24  陳竹伯  10  12  15  10  14   61  34.5\n",
       "76  周育霖   9  12  15  13  12   61  34.5"
      ]
     },
     "execution_count": 20,
     "metadata": {},
     "output_type": "execute_result"
    }
   ],
   "source": [
    "grade_df.sort_values(by = ['主科加權', '總級分'], ascending=False).head(10)"
   ]
  }
 ],
 "metadata": {
  "colab": {
   "authorship_tag": "ABX9TyNEH7EN2OU4vydEsQmrtebp",
   "collapsed_sections": [
    "JaOGAHtbhSai",
    "5qnUfRkWhdFg"
   ],
   "provenance": [],
   "toc_visible": true
  },
  "kernelspec": {
   "display_name": ".venv",
   "language": "python",
   "name": "python3"
  },
  "language_info": {
   "codemirror_mode": {
    "name": "ipython",
    "version": 3
   },
   "file_extension": ".py",
   "mimetype": "text/x-python",
   "name": "python",
   "nbconvert_exporter": "python",
   "pygments_lexer": "ipython3",
   "version": "3.13.5"
  }
 },
 "nbformat": 4,
 "nbformat_minor": 0
}
