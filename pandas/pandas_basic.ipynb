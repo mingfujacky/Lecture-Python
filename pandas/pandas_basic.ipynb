{
 "cells": [
  {
   "cell_type": "markdown",
   "metadata": {
    "id": "JaOGAHtbhSai"
   },
   "source": [
    "# Setup CoLab environment (optinal)"
   ]
  },
  {
   "cell_type": "code",
   "execution_count": null,
   "metadata": {
    "colab": {
     "base_uri": "https://localhost:8080/"
    },
    "executionInfo": {
     "elapsed": 20904,
     "status": "ok",
     "timestamp": 1730268155927,
     "user": {
      "displayName": "林志偉",
      "userId": "13117312472561068650"
     },
     "user_tz": -480
    },
    "id": "fbhP-TUUgypJ",
    "outputId": "e83c8db9-cf41-45a2-bfc8-cd59c917dd3f"
   },
   "outputs": [],
   "source": [
    "# 掛載使用者的Google雲端硬碟 (drive/MyDrive) 到 Colab 的工作磁碟\n",
    "from google.colab import drive\n",
    "drive.mount('/content/drive')"
   ]
  },
  {
   "cell_type": "markdown",
   "metadata": {},
   "source": [
    "![mount google drive](../files/image/mount_google_drive.png)"
   ]
  },
  {
   "cell_type": "markdown",
   "metadata": {
    "id": "5qnUfRkWhdFg"
   },
   "source": [
    "# Import Library"
   ]
  },
  {
   "cell_type": "code",
   "execution_count": 4,
   "metadata": {
    "executionInfo": {
     "elapsed": 490,
     "status": "ok",
     "timestamp": 1730268495300,
     "user": {
      "displayName": "林志偉",
      "userId": "13117312472561068650"
     },
     "user_tz": -480
    },
    "id": "ePov-DKphX-5"
   },
   "outputs": [],
   "source": [
    "import pandas as pd\n",
    "from pathlib import Path"
   ]
  },
  {
   "cell_type": "markdown",
   "metadata": {
    "id": "ZK-5LFrwhtx7"
   },
   "source": [
    "# Load File"
   ]
  },
  {
   "cell_type": "code",
   "execution_count": null,
   "metadata": {
    "executionInfo": {
     "elapsed": 692,
     "status": "ok",
     "timestamp": 1730268776979,
     "user": {
      "displayName": "林志偉",
      "userId": "13117312472561068650"
     },
     "user_tz": -480
    },
    "id": "NYz5z6k8htA2"
   },
   "outputs": [],
   "source": [
    "# https://bitly.com/gradescsv\n",
    "# Load 學測分數 dataset\n",
    "target_csv_path = Path.cwd() / '..' / 'files' / 'csv' / 'grades.csv'\n",
    "grade_df = pd.read_csv(target_csv_path)"
   ]
  },
  {
   "cell_type": "code",
   "execution_count": null,
   "metadata": {
    "colab": {
     "base_uri": "https://localhost:8080/",
     "height": 424
    },
    "executionInfo": {
     "elapsed": 350,
     "status": "ok",
     "timestamp": 1730268782345,
     "user": {
      "displayName": "林志偉",
      "userId": "13117312472561068650"
     },
     "user_tz": -480
    },
    "id": "YeSYDgEsAmnw",
    "outputId": "fa4406ff-0964-478d-ed67-49417faf7c81"
   },
   "outputs": [],
   "source": [
    "grade_df"
   ]
  },
  {
   "cell_type": "markdown",
   "metadata": {
    "id": "JrChNbwhtz0Y"
   },
   "source": [
    "# Understand data"
   ]
  },
  {
   "cell_type": "code",
   "execution_count": null,
   "metadata": {
    "colab": {
     "base_uri": "https://localhost:8080/",
     "height": 363
    },
    "executionInfo": {
     "elapsed": 365,
     "status": "ok",
     "timestamp": 1730268895109,
     "user": {
      "displayName": "林志偉",
      "userId": "13117312472561068650"
     },
     "user_tz": -480
    },
    "id": "KcnzzpbosOw4",
    "outputId": "6b320903-08e7-4e45-c848-decf5bfa804b"
   },
   "outputs": [],
   "source": [
    "grade_df.head(10)"
   ]
  },
  {
   "cell_type": "code",
   "execution_count": null,
   "metadata": {
    "colab": {
     "base_uri": "https://localhost:8080/"
    },
    "executionInfo": {
     "elapsed": 333,
     "status": "ok",
     "timestamp": 1730268931602,
     "user": {
      "displayName": "林志偉",
      "userId": "13117312472561068650"
     },
     "user_tz": -480
    },
    "id": "wIMxl40-vY6N",
    "outputId": "166acf15-ed45-44df-bd93-26e36cced13f"
   },
   "outputs": [],
   "source": [
    "grade_df.shape"
   ]
  },
  {
   "cell_type": "markdown",
   "metadata": {
    "id": "BbCq7odLEyYT"
   },
   "source": [
    "# 國文分數的分析"
   ]
  },
  {
   "cell_type": "code",
   "execution_count": null,
   "metadata": {
    "colab": {
     "base_uri": "https://localhost:8080/",
     "height": 458
    },
    "executionInfo": {
     "elapsed": 343,
     "status": "ok",
     "timestamp": 1730268964657,
     "user": {
      "displayName": "林志偉",
      "userId": "13117312472561068650"
     },
     "user_tz": -480
    },
    "id": "mqU4R2eVsSAh",
    "outputId": "17c8842a-72ae-4abf-9247-472f5ed14035"
   },
   "outputs": [],
   "source": [
    "grade_df['國文'] #取出的 data type 為 Series"
   ]
  },
  {
   "cell_type": "code",
   "execution_count": null,
   "metadata": {
    "colab": {
     "base_uri": "https://localhost:8080/",
     "height": 458
    },
    "executionInfo": {
     "elapsed": 346,
     "status": "ok",
     "timestamp": 1730268981103,
     "user": {
      "displayName": "林志偉",
      "userId": "13117312472561068650"
     },
     "user_tz": -480
    },
    "id": "yRHx1O7_Q1r0",
    "outputId": "6f113526-e4a5-4364-e7ef-ad4117651308"
   },
   "outputs": [],
   "source": [
    "grade_df.國文 # 短的寫法 取出的 data type 為 Series"
   ]
  },
  {
   "cell_type": "code",
   "execution_count": null,
   "metadata": {
    "colab": {
     "base_uri": "https://localhost:8080/"
    },
    "executionInfo": {
     "elapsed": 355,
     "status": "ok",
     "timestamp": 1730269104328,
     "user": {
      "displayName": "林志偉",
      "userId": "13117312472561068650"
     },
     "user_tz": -480
    },
    "id": "IeClYju-scTW",
    "outputId": "da73ec28-3fd5-415a-c80c-d84fae04fed7"
   },
   "outputs": [],
   "source": [
    "# 國文成績統計\n",
    "print('Mean: ', grade_df['國文'].mean())\n",
    "print('STD: ', grade_df['國文'].std())"
   ]
  },
  {
   "cell_type": "code",
   "execution_count": null,
   "metadata": {
    "colab": {
     "base_uri": "https://localhost:8080/",
     "height": 448
    },
    "executionInfo": {
     "elapsed": 1058,
     "status": "ok",
     "timestamp": 1725071554928,
     "user": {
      "displayName": "林志偉",
      "userId": "13117312472561068650"
     },
     "user_tz": -480
    },
    "id": "8zaBCSlHs2xM",
    "outputId": "b2dad384-c53a-4c9d-be33-48ebc0599623"
   },
   "outputs": [],
   "source": [
    "# 國文成績直方圖\n",
    "grade_df['國文'].hist(bins =15)"
   ]
  },
  {
   "cell_type": "markdown",
   "metadata": {
    "id": "UYIcrWjjE5Au"
   },
   "source": [
    "# 統計敘述\n"
   ]
  },
  {
   "cell_type": "code",
   "execution_count": null,
   "metadata": {
    "colab": {
     "base_uri": "https://localhost:8080/",
     "height": 300
    },
    "executionInfo": {
     "elapsed": 373,
     "status": "ok",
     "timestamp": 1730269286168,
     "user": {
      "displayName": "林志偉",
      "userId": "13117312472561068650"
     },
     "user_tz": -480
    },
    "id": "va3EvwCbs5dN",
    "outputId": "469ee321-02b4-4f6b-88f1-37c1758d4f50"
   },
   "outputs": [],
   "source": [
    "# 統計敘述\n",
    "grade_df.describe()"
   ]
  },
  {
   "cell_type": "code",
   "execution_count": null,
   "metadata": {
    "colab": {
     "base_uri": "https://localhost:8080/",
     "height": 206
    },
    "executionInfo": {
     "elapsed": 370,
     "status": "ok",
     "timestamp": 1730270182832,
     "user": {
      "displayName": "林志偉",
      "userId": "13117312472561068650"
     },
     "user_tz": -480
    },
    "id": "OWTICYQUusEg",
    "outputId": "7ead91a7-6b38-4625-a48a-84a3366ece55"
   },
   "outputs": [],
   "source": [
    "# 學科間的相關性\n",
    "# R值相關程度之高低，在正負0.3之間（即0.3至-0.3之間）稱為低度相關；\n",
    "# 在正負0.3-0.6之間（即指介於0.3至0.6，-0.3至-0.6之間）稱為中度相關；\n",
    "# 而在正負0.6至0.9之間（即指在0.6至0.9，-0.6至-0.9之間）則稱為高度相關；\n",
    "# 若是R值為正負1，即表示完全相關。\n",
    "grade_df[['國文', '英文', '數學', '自然', '社會']].corr()"
   ]
  },
  {
   "cell_type": "code",
   "execution_count": null,
   "metadata": {
    "colab": {
     "base_uri": "https://localhost:8080/"
    },
    "executionInfo": {
     "elapsed": 347,
     "status": "ok",
     "timestamp": 1730270277791,
     "user": {
      "displayName": "林志偉",
      "userId": "13117312472561068650"
     },
     "user_tz": -480
    },
    "id": "ErcBp9WPu3N8",
    "outputId": "cbb72bcd-986f-4958-a4ee-e56c7dde4bc2"
   },
   "outputs": [],
   "source": [
    "# 國文和數學級分的相關性\n",
    "grade_df['國文'].corr(grade_df['數學'])"
   ]
  },
  {
   "cell_type": "markdown",
   "metadata": {
    "id": "s1tnmEqFFDpg"
   },
   "source": [
    "# 總級分分析"
   ]
  },
  {
   "cell_type": "code",
   "execution_count": null,
   "metadata": {
    "colab": {
     "base_uri": "https://localhost:8080/",
     "height": 206
    },
    "executionInfo": {
     "elapsed": 352,
     "status": "ok",
     "timestamp": 1730270330467,
     "user": {
      "displayName": "林志偉",
      "userId": "13117312472561068650"
     },
     "user_tz": -480
    },
    "id": "LT4uK_83vYIw",
    "outputId": "5b7bdac5-f09c-40e9-8be2-3fa737f97065"
   },
   "outputs": [],
   "source": [
    "# 計算欄位值的和\n",
    "grade_df['總級分'] = grade_df[['國文', '英文', '數學', '自然', '社會']].sum(axis=1)\n",
    "grade_df.head()"
   ]
  },
  {
   "cell_type": "code",
   "execution_count": null,
   "metadata": {
    "colab": {
     "base_uri": "https://localhost:8080/",
     "height": 424
    },
    "executionInfo": {
     "elapsed": 361,
     "status": "ok",
     "timestamp": 1730270370734,
     "user": {
      "displayName": "林志偉",
      "userId": "13117312472561068650"
     },
     "user_tz": -480
    },
    "id": "vRmpxLa1wRaZ",
    "outputId": "dadf41f4-a66b-4ab6-bd28-5f8cd9d0d22f"
   },
   "outputs": [],
   "source": [
    "# 排序\n",
    "grade_df.sort_values(by='總級分', ascending = False)"
   ]
  },
  {
   "cell_type": "code",
   "execution_count": null,
   "metadata": {
    "colab": {
     "base_uri": "https://localhost:8080/",
     "height": 363
    },
    "executionInfo": {
     "elapsed": 367,
     "status": "ok",
     "timestamp": 1730270405723,
     "user": {
      "displayName": "林志偉",
      "userId": "13117312472561068650"
     },
     "user_tz": -480
    },
    "id": "i5hvwflKzACa",
    "outputId": "3ccf56e8-6800-4ee7-c4ad-e87d6e65279e"
   },
   "outputs": [],
   "source": [
    "grade_df['主科加權'] = grade_df['數學'] * 1.5 + grade_df['英文']\n",
    "grade_df.head(10)"
   ]
  },
  {
   "cell_type": "code",
   "execution_count": null,
   "metadata": {
    "colab": {
     "base_uri": "https://localhost:8080/",
     "height": 363
    },
    "executionInfo": {
     "elapsed": 343,
     "status": "ok",
     "timestamp": 1730270436083,
     "user": {
      "displayName": "林志偉",
      "userId": "13117312472561068650"
     },
     "user_tz": -480
    },
    "id": "GBnQErQszheh",
    "outputId": "355d81b0-f7f0-4294-9b10-f28b332a59a8"
   },
   "outputs": [],
   "source": [
    "grade_df.sort_values(by = ['主科加權', '總級分'], ascending=False).head(10)"
   ]
  }
 ],
 "metadata": {
  "colab": {
   "authorship_tag": "ABX9TyNEH7EN2OU4vydEsQmrtebp",
   "collapsed_sections": [
    "JaOGAHtbhSai",
    "5qnUfRkWhdFg"
   ],
   "provenance": [],
   "toc_visible": true
  },
  "kernelspec": {
   "display_name": ".venv",
   "language": "python",
   "name": "python3"
  },
  "language_info": {
   "codemirror_mode": {
    "name": "ipython",
    "version": 3
   },
   "file_extension": ".py",
   "mimetype": "text/x-python",
   "name": "python",
   "nbconvert_exporter": "python",
   "pygments_lexer": "ipython3",
   "version": "3.13.1"
  }
 },
 "nbformat": 4,
 "nbformat_minor": 0
}
