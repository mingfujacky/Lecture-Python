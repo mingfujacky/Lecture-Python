{
 "cells": [
  {
   "cell_type": "markdown",
   "metadata": {
    "id": "AKkBHy6VDZe2"
   },
   "source": [
    "### Prepare series and dataframe"
   ]
  },
  {
   "cell_type": "code",
   "execution_count": null,
   "metadata": {
    "id": "9aehVvzdCsk_"
   },
   "outputs": [],
   "source": [
    "import pandas as pd\n",
    "\n",
    "city_revenues = pd.Series(\n",
    "    [4200, 8000, 6500],\n",
    "    index = ['Amsterdam', 'Toronto', 'Tokyo'])   # create series by list\n",
    "print(city_revenues)\n",
    "\n",
    "city_employee_count_data = {'Amsterdam': 5, 'Tokyo': 8}   # create series by dict\n",
    "city_employee_count = pd.Series(city_employee_count_data)\n",
    "print(city_employee_count)\n",
    "\n",
    "city_data = pd.DataFrame({\n",
    "    'revenue': city_revenues,\n",
    "    'employee_count': city_employee_count\n",
    "})\n",
    "city_data\n"
   ]
  },
  {
   "cell_type": "markdown",
   "metadata": {
    "id": "HsWiVWCwRjRI"
   },
   "source": [
    "### Merge DataFrame"
   ]
  },
  {
   "cell_type": "code",
   "execution_count": null,
   "metadata": {
    "colab": {
     "base_uri": "https://localhost:8080/",
     "height": 125
    },
    "executionInfo": {
     "elapsed": 299,
     "status": "ok",
     "timestamp": 1711448446056,
     "user": {
      "displayName": "林志偉",
      "userId": "13117312472561068650"
     },
     "user_tz": -480
    },
    "id": "oE69cj3yCslF",
    "outputId": "27091871-2a2e-4ec3-99d0-1fe5df100fd2"
   },
   "outputs": [],
   "source": [
    "import pandas as pd \n",
    "further_city_data = pd.DataFrame(\n",
    "    {\n",
    "        'revenue': [7000, 3400],\n",
    "        'employee_count': [2, 2]\n",
    "    },\n",
    "    index=['New York', 'Barcelona']\n",
    ")\n",
    "further_city_data"
   ]
  },
  {
   "cell_type": "code",
   "execution_count": null,
   "metadata": {
    "colab": {
     "base_uri": "https://localhost:8080/",
     "height": 152
    },
    "executionInfo": {
     "elapsed": 5,
     "status": "ok",
     "timestamp": 1711448527368,
     "user": {
      "displayName": "林志偉",
      "userId": "13117312472561068650"
     },
     "user_tz": -480
    },
    "id": "ENdykCCXCslF",
    "outputId": "a406f3bc-7cc8-4e52-8b01-4c3d28a6349a"
   },
   "outputs": [],
   "source": [
    "all_city_data = pd.concat([city_data, further_city_data], sort=False)\n",
    "all_city_data"
   ]
  },
  {
   "cell_type": "markdown",
   "metadata": {
    "id": "4xW_rI8sRxk2"
   },
   "source": [
    "### Join DataFrame"
   ]
  },
  {
   "cell_type": "code",
   "execution_count": null,
   "metadata": {
    "colab": {
     "base_uri": "https://localhost:8080/",
     "height": 152
    },
    "executionInfo": {
     "elapsed": 4,
     "status": "ok",
     "timestamp": 1711448482876,
     "user": {
      "displayName": "林志偉",
      "userId": "13117312472561068650"
     },
     "user_tz": -480
    },
    "id": "T4LKw17-CslG",
    "outputId": "3aa1565f-09dd-44cc-fc01-decdc888179c"
   },
   "outputs": [],
   "source": [
    "city_countries = pd.DataFrame({\n",
    "    'country': ['Holland', 'Japan', 'Holland', 'Canada', 'Spain'],\n",
    "    'capital': [1, 1, 0, 0, 0]\n",
    "}, index=['Amsterdam', 'Tokyo', 'Rotterdam', 'Toronto', 'Barcelona'])\n",
    "city_countries"
   ]
  },
  {
   "cell_type": "code",
   "execution_count": null,
   "metadata": {
    "colab": {
     "base_uri": "https://localhost:8080/",
     "height": 130
    },
    "executionInfo": {
     "elapsed": 296,
     "status": "ok",
     "timestamp": 1711448550639,
     "user": {
      "displayName": "林志偉",
      "userId": "13117312472561068650"
     },
     "user_tz": -480
    },
    "id": "hovPl2_CCslG",
    "outputId": "8f11e07d-52c4-4c4f-aa1c-b9f8febd011f"
   },
   "outputs": [],
   "source": [
    "cities = pd.concat([all_city_data, city_countries], axis=1, sort=False, join='inner')\n",
    "cities"
   ]
  },
  {
   "cell_type": "code",
   "execution_count": null,
   "metadata": {
    "colab": {
     "base_uri": "https://localhost:8080/",
     "height": 125
    },
    "executionInfo": {
     "elapsed": 4,
     "status": "ok",
     "timestamp": 1711448575967,
     "user": {
      "displayName": "林志偉",
      "userId": "13117312472561068650"
     },
     "user_tz": -480
    },
    "id": "UPKU4tFzCslG",
    "outputId": "c56915a2-4372-4ca4-e67a-04bb9f549a8e"
   },
   "outputs": [],
   "source": [
    "countries = pd.DataFrame({\n",
    "    'population_millions': [17, 127, 37],\n",
    "    'continent': ['Europe', 'Asia', 'North America']\n",
    "}, index=['Holland', 'Japan', 'Canada'])\n",
    "countries"
   ]
  },
  {
   "cell_type": "code",
   "execution_count": null,
   "metadata": {
    "colab": {
     "base_uri": "https://localhost:8080/",
     "height": 108
    },
    "executionInfo": {
     "elapsed": 320,
     "status": "ok",
     "timestamp": 1711448911737,
     "user": {
      "displayName": "林志偉",
      "userId": "13117312472561068650"
     },
     "user_tz": -480
    },
    "id": "b-Y10aXOCslG",
    "outputId": "8d021712-5dd3-4f19-e063-3b118c1a9126"
   },
   "outputs": [],
   "source": [
    "pd.merge(cities, countries, left_on='country', right_index=True)"
   ]
  },
  {
   "cell_type": "code",
   "execution_count": null,
   "metadata": {
    "colab": {
     "base_uri": "https://localhost:8080/",
     "height": 130
    },
    "executionInfo": {
     "elapsed": 291,
     "status": "ok",
     "timestamp": 1711448597942,
     "user": {
      "displayName": "林志偉",
      "userId": "13117312472561068650"
     },
     "user_tz": -480
    },
    "id": "rbii2lvfCslP",
    "outputId": "c1ca081d-43c8-4be8-d285-2db21eb09480"
   },
   "outputs": [],
   "source": [
    "pd.merge(cities, countries, left_on='country', right_index=True, how='left')"
   ]
  }
 ],
 "metadata": {
  "colab": {
   "provenance": []
  },
  "kernelspec": {
   "display_name": ".venv",
   "language": "python",
   "name": "python3"
  },
  "language_info": {
   "codemirror_mode": {
    "name": "ipython",
    "version": 3
   },
   "file_extension": ".py",
   "mimetype": "text/x-python",
   "name": "python",
   "nbconvert_exporter": "python",
   "pygments_lexer": "ipython3",
   "version": "3.13.1"
  }
 },
 "nbformat": 4,
 "nbformat_minor": 0
}
