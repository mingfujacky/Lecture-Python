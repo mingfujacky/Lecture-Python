{
 "cells": [
  {
   "cell_type": "markdown",
   "metadata": {},
   "source": [
    "# Pandas module\n",
    "- Pandas是Python語言的一個高效簡易的資料處理和分析工具，類似於Excel的程式版本\n",
    "- 提供資料結構 (Series, DataFrame) 和運算操作，因此可以用Python來操作試算表內的資料。\n"
   ]
  },
  {
   "cell_type": "markdown",
   "metadata": {},
   "source": [
    "![pandas dataframe and series](https://www.altexsoft.com/static/blog-post/2024/2/a2b6d6bd-898e-424f-98a8-50b3bdf775eb.webp)"
   ]
  },
  {
   "cell_type": "markdown",
   "metadata": {
    "id": "kxgoWZjYVvgi"
   },
   "source": [
    "# Import library"
   ]
  },
  {
   "cell_type": "code",
   "execution_count": 3,
   "metadata": {
    "executionInfo": {
     "elapsed": 326,
     "status": "ok",
     "timestamp": 1730270650418,
     "user": {
      "displayName": "林志偉",
      "userId": "13117312472561068650"
     },
     "user_tz": -480
    },
    "id": "vCNhDZPoV4KB"
   },
   "outputs": [],
   "source": [
    "import numpy as np\n",
    "import pandas as pd\n",
    "import matplotlib\n",
    "from matplotlib.font_manager import fontManager"
   ]
  },
  {
   "cell_type": "markdown",
   "metadata": {
    "id": "AbFDj8PrSdPH"
   },
   "source": [
    "# 建立Series"
   ]
  },
  {
   "cell_type": "markdown",
   "metadata": {},
   "source": [
    "- Series 是一個一維的資料結構, 只有一個索引\n",
    "- pd.Series(資料 [, index = 索引])\n",
    "  - 資料可用 List, Dict, Tuple, Numpy\n",
    "  - 索引可選填，預設為整數List"
   ]
  },
  {
   "cell_type": "code",
   "execution_count": null,
   "metadata": {
    "colab": {
     "base_uri": "https://localhost:8080/"
    },
    "executionInfo": {
     "elapsed": 294,
     "status": "ok",
     "timestamp": 1730270744772,
     "user": {
      "displayName": "林志偉",
      "userId": "13117312472561068650"
     },
     "user_tz": -480
    },
    "id": "XQ_IBEzKRz9D",
    "outputId": "20c27501-9798-48a8-d2a7-bc07669a18ca"
   },
   "outputs": [],
   "source": [
    "#用串列建立Series物件\n",
    "foo = ['a', 'c', 'x', 'y']\n",
    "my_ser = pd.Series(foo)\n",
    "my_ser           #顯示Series\n",
    "my_ser.values    #顯示值\n",
    "my_ser.index     #顯示索引"
   ]
  },
  {
   "cell_type": "code",
   "execution_count": null,
   "metadata": {
    "colab": {
     "base_uri": "https://localhost:8080/",
     "height": 178
    },
    "executionInfo": {
     "elapsed": 325,
     "status": "ok",
     "timestamp": 1730270810154,
     "user": {
      "displayName": "林志偉",
      "userId": "13117312472561068650"
     },
     "user_tz": -480
    },
    "id": "d68MSCgMWol9",
    "outputId": "19c7c358-4a0b-4a77-dc40-69a08a38a4f1"
   },
   "outputs": [],
   "source": [
    "#用串列建立Series物件並自訂索引\n",
    "company = ['聯電', '台積電', '聯發科']\n",
    "stock_price = [42, 510, 694]\n",
    "stock = pd.Series(stock_price, index=company)\n",
    "stock\n",
    "stock.values\n",
    "stock.index"
   ]
  },
  {
   "cell_type": "code",
   "execution_count": null,
   "metadata": {
    "colab": {
     "base_uri": "https://localhost:8080/",
     "height": 107
    },
    "executionInfo": {
     "elapsed": 325,
     "status": "ok",
     "timestamp": 1730270945147,
     "user": {
      "displayName": "林志偉",
      "userId": "13117312472561068650"
     },
     "user_tz": -480
    },
    "id": "Yq2wJMqRWWPk",
    "outputId": "d67b653d-9cc9-4644-8bd3-78bfbfd56eb2"
   },
   "outputs": [],
   "source": [
    "# 用Dict建立Series\n",
    "dict1 = {'Taiwan': '台北', 'US': 'New York', 'Japan': 'Tokyo'}\n",
    "city = pd.Series(dict1)\n",
    "city"
   ]
  },
  {
   "cell_type": "markdown",
   "metadata": {
    "id": "gMwM76meWmxF"
   },
   "source": [
    "# 讀取Series"
   ]
  },
  {
   "cell_type": "code",
   "execution_count": null,
   "metadata": {
    "colab": {
     "base_uri": "https://localhost:8080/"
    },
    "executionInfo": {
     "elapsed": 317,
     "status": "ok",
     "timestamp": 1730270995290,
     "user": {
      "displayName": "林志偉",
      "userId": "13117312472561068650"
     },
     "user_tz": -480
    },
    "id": "eQx4P-adfuDl",
    "outputId": "7904cc24-d89f-475e-9b06-ab4c0e4fff05"
   },
   "outputs": [],
   "source": [
    "city['Taiwan']\n",
    "city.iloc[0]\n",
    "city.loc['US']\n",
    "city.index[2]"
   ]
  },
  {
   "cell_type": "markdown",
   "metadata": {},
   "source": [
    "# Lab series"
   ]
  },
  {
   "cell_type": "markdown",
   "metadata": {},
   "source": [
    "(1) 根據下列表格資料，創建一個 Series (city_revenues), 回答下列問題\n",
    "city | revenues\n",
    "-----|---------\n",
    "Amsterdam|4200\n",
    "Toronto|8000\n",
    "Tokyo|6500\n",
    "\n",
    "- Toronto 的 revenues 是多少\n",
    "- 第零筆資料的 revenues 是多少\n",
    "- 最後一筆資料的 revenues 是多少\n",
    "- 求 revenues 的 sum"
   ]
  },
  {
   "cell_type": "markdown",
   "metadata": {},
   "source": [
    "(2) 根據下列表格資料，創建一個 Series (city_employee_count),回答下列問題\n",
    "city | employee_count\n",
    "-----|----------------\n",
    "Amsterdam|5\n",
    "Tokyo|8\n",
    "\n",
    "Tokyo 是否在 city_employee_count 中"
   ]
  },
  {
   "cell_type": "markdown",
   "metadata": {},
   "source": [
    "(3) 合併 city_revenues 和 city_employee_count 來產生一個 DataFrame (city_data), 回答下列問題\n",
    "- 查詢 Amsterdam 的列資料\n",
    "- 查詢第零橫列的列資料\n",
    "- 查詢 Amsterdam 到 Tokyo的 revenue 資料\n",
    "\n"
   ]
  },
  {
   "cell_type": "code",
   "execution_count": null,
   "metadata": {},
   "outputs": [],
   "source": [
    "import pandas as pd\n",
    "\n",
    "city_revenues = pd.Series([4200, 8000, 6500], \\\n",
    "                          index=['Amsterdam', 'Toronto', 'Tokyo'])\n",
    "print(city_revenues['Toronto'])\n",
    "print(city_revenues.iloc[0])\n",
    "print(city_revenues.iloc[-1])\n",
    "print(city_revenues.sum())\n",
    "\n",
    "city_employee_count = pd.Series([5, 8], index=['Amsterdam', 'Tokyo'])\n",
    "print('Tokyo' in city_employee_count.index)\n",
    "\n",
    "city_data = pd.DataFrame({'revenues': city_revenues,\n",
    "                           'employee_count':city_employee_count})\n",
    "city_data.loc['Amsterdam']\n",
    "city_data.iloc[0]\n",
    "city_data.loc['Amsterdam':'Tokyo']"
   ]
  },
  {
   "cell_type": "markdown",
   "metadata": {
    "id": "f2qQVhXrSYLo"
   },
   "source": [
    "# 建立DataFrame"
   ]
  },
  {
   "cell_type": "markdown",
   "metadata": {},
   "source": [
    "- DataFrame 是一個二維的資料結構, 有橫列索引 (row index) 和直欄標籤 (column label)\n",
    "- DataFrame 中的每一個直行可以被視為一個 Series\n",
    "- pd.DataFrame(資料 [, index = 橫列索引, columns = 直欄標籤])\n",
    "- 資料可用 List, Dict, Numpy, Tuple, Series.\n",
    "- 橫列索引是列號，可選填，預設為整數List\n",
    "- 直欄標籤是欄位名稱"
   ]
  },
  {
   "cell_type": "markdown",
   "metadata": {
    "id": "CdC5SufcyG1n"
   },
   "source": [
    "### 用List建立DataFrame"
   ]
  },
  {
   "cell_type": "code",
   "execution_count": 17,
   "metadata": {
    "colab": {
     "base_uri": "https://localhost:8080/",
     "height": 175
    },
    "executionInfo": {
     "elapsed": 321,
     "status": "ok",
     "timestamp": 1730271140945,
     "user": {
      "displayName": "林志偉",
      "userId": "13117312472561068650"
     },
     "user_tz": -480
    },
    "id": "jw45UH1VyDcm",
    "outputId": "0a1d3790-1499-4b5c-f23b-6eadf0439160"
   },
   "outputs": [
    {
     "data": {
      "application/vnd.microsoft.datawrangler.viewer.v0+json": {
       "columns": [
        {
         "name": "index",
         "rawType": "int64",
         "type": "integer"
        },
        {
         "name": "0",
         "rawType": "int64",
         "type": "integer"
        },
        {
         "name": "1",
         "rawType": "int64",
         "type": "integer"
        },
        {
         "name": "2",
         "rawType": "int64",
         "type": "integer"
        },
        {
         "name": "3",
         "rawType": "int64",
         "type": "integer"
        },
        {
         "name": "4",
         "rawType": "int64",
         "type": "integer"
        }
       ],
       "ref": "d35e2c6c-0776-465e-80da-70f0a13c37b4",
       "rows": [
        [
         "0",
         "65",
         "92",
         "78",
         "83",
         "70"
        ],
        [
         "1",
         "90",
         "72",
         "76",
         "93",
         "56"
        ],
        [
         "2",
         "81",
         "85",
         "91",
         "89",
         "77"
        ],
        [
         "3",
         "79",
         "53",
         "47",
         "94",
         "80"
        ]
       ],
       "shape": {
        "columns": 5,
        "rows": 4
       }
      },
      "text/html": [
       "<div>\n",
       "<style scoped>\n",
       "    .dataframe tbody tr th:only-of-type {\n",
       "        vertical-align: middle;\n",
       "    }\n",
       "\n",
       "    .dataframe tbody tr th {\n",
       "        vertical-align: top;\n",
       "    }\n",
       "\n",
       "    .dataframe thead th {\n",
       "        text-align: right;\n",
       "    }\n",
       "</style>\n",
       "<table border=\"1\" class=\"dataframe\">\n",
       "  <thead>\n",
       "    <tr style=\"text-align: right;\">\n",
       "      <th></th>\n",
       "      <th>0</th>\n",
       "      <th>1</th>\n",
       "      <th>2</th>\n",
       "      <th>3</th>\n",
       "      <th>4</th>\n",
       "    </tr>\n",
       "  </thead>\n",
       "  <tbody>\n",
       "    <tr>\n",
       "      <th>0</th>\n",
       "      <td>65</td>\n",
       "      <td>92</td>\n",
       "      <td>78</td>\n",
       "      <td>83</td>\n",
       "      <td>70</td>\n",
       "    </tr>\n",
       "    <tr>\n",
       "      <th>1</th>\n",
       "      <td>90</td>\n",
       "      <td>72</td>\n",
       "      <td>76</td>\n",
       "      <td>93</td>\n",
       "      <td>56</td>\n",
       "    </tr>\n",
       "    <tr>\n",
       "      <th>2</th>\n",
       "      <td>81</td>\n",
       "      <td>85</td>\n",
       "      <td>91</td>\n",
       "      <td>89</td>\n",
       "      <td>77</td>\n",
       "    </tr>\n",
       "    <tr>\n",
       "      <th>3</th>\n",
       "      <td>79</td>\n",
       "      <td>53</td>\n",
       "      <td>47</td>\n",
       "      <td>94</td>\n",
       "      <td>80</td>\n",
       "    </tr>\n",
       "  </tbody>\n",
       "</table>\n",
       "</div>"
      ],
      "text/plain": [
       "    0   1   2   3   4\n",
       "0  65  92  78  83  70\n",
       "1  90  72  76  93  56\n",
       "2  81  85  91  89  77\n",
       "3  79  53  47  94  80"
      ]
     },
     "execution_count": 17,
     "metadata": {},
     "output_type": "execute_result"
    }
   ],
   "source": [
    "foo=  [[65,92,78,83,70],\n",
    "       [90,72,76,93,56],\n",
    "       [81,85,91,89,77],\n",
    "       [79,53,47,94,80],\n",
    "       ]\n",
    "df = pd.DataFrame(foo)\n",
    "df\n",
    "# print(df.values)\n",
    "# print(df.index)\n",
    "# 缺row index 跟column label"
   ]
  },
  {
   "cell_type": "code",
   "execution_count": 18,
   "metadata": {
    "colab": {
     "base_uri": "https://localhost:8080/",
     "height": 175
    },
    "executionInfo": {
     "elapsed": 323,
     "status": "ok",
     "timestamp": 1730271201480,
     "user": {
      "displayName": "林志偉",
      "userId": "13117312472561068650"
     },
     "user_tz": -480
    },
    "id": "pPTONz8XzLgu",
    "outputId": "2d16e95c-2433-4dd2-aebe-0750e799c10b"
   },
   "outputs": [
    {
     "data": {
      "application/vnd.microsoft.datawrangler.viewer.v0+json": {
       "columns": [
        {
         "name": "index",
         "rawType": "object",
         "type": "string"
        },
        {
         "name": "國文",
         "rawType": "int64",
         "type": "integer"
        },
        {
         "name": "英文",
         "rawType": "int64",
         "type": "integer"
        },
        {
         "name": "數學",
         "rawType": "int64",
         "type": "integer"
        },
        {
         "name": "自然",
         "rawType": "int64",
         "type": "integer"
        },
        {
         "name": "社會",
         "rawType": "int64",
         "type": "integer"
        }
       ],
       "ref": "4cac0d20-503d-4b96-bf71-8f0d28abd0c4",
       "rows": [
        [
         "王小明",
         "65",
         "92",
         "78",
         "83",
         "70"
        ],
        [
         "李小美",
         "90",
         "72",
         "76",
         "93",
         "56"
        ],
        [
         "陳大同",
         "81",
         "85",
         "91",
         "89",
         "77"
        ],
        [
         "林小玉",
         "79",
         "53",
         "47",
         "94",
         "80"
        ]
       ],
       "shape": {
        "columns": 5,
        "rows": 4
       }
      },
      "text/html": [
       "<div>\n",
       "<style scoped>\n",
       "    .dataframe tbody tr th:only-of-type {\n",
       "        vertical-align: middle;\n",
       "    }\n",
       "\n",
       "    .dataframe tbody tr th {\n",
       "        vertical-align: top;\n",
       "    }\n",
       "\n",
       "    .dataframe thead th {\n",
       "        text-align: right;\n",
       "    }\n",
       "</style>\n",
       "<table border=\"1\" class=\"dataframe\">\n",
       "  <thead>\n",
       "    <tr style=\"text-align: right;\">\n",
       "      <th></th>\n",
       "      <th>國文</th>\n",
       "      <th>英文</th>\n",
       "      <th>數學</th>\n",
       "      <th>自然</th>\n",
       "      <th>社會</th>\n",
       "    </tr>\n",
       "  </thead>\n",
       "  <tbody>\n",
       "    <tr>\n",
       "      <th>王小明</th>\n",
       "      <td>65</td>\n",
       "      <td>92</td>\n",
       "      <td>78</td>\n",
       "      <td>83</td>\n",
       "      <td>70</td>\n",
       "    </tr>\n",
       "    <tr>\n",
       "      <th>李小美</th>\n",
       "      <td>90</td>\n",
       "      <td>72</td>\n",
       "      <td>76</td>\n",
       "      <td>93</td>\n",
       "      <td>56</td>\n",
       "    </tr>\n",
       "    <tr>\n",
       "      <th>陳大同</th>\n",
       "      <td>81</td>\n",
       "      <td>85</td>\n",
       "      <td>91</td>\n",
       "      <td>89</td>\n",
       "      <td>77</td>\n",
       "    </tr>\n",
       "    <tr>\n",
       "      <th>林小玉</th>\n",
       "      <td>79</td>\n",
       "      <td>53</td>\n",
       "      <td>47</td>\n",
       "      <td>94</td>\n",
       "      <td>80</td>\n",
       "    </tr>\n",
       "  </tbody>\n",
       "</table>\n",
       "</div>"
      ],
      "text/plain": [
       "     國文  英文  數學  自然  社會\n",
       "王小明  65  92  78  83  70\n",
       "李小美  90  72  76  93  56\n",
       "陳大同  81  85  91  89  77\n",
       "林小玉  79  53  47  94  80"
      ]
     },
     "execution_count": 18,
     "metadata": {},
     "output_type": "execute_result"
    }
   ],
   "source": [
    "# 設定row index 跟column label\n",
    "df = pd.DataFrame(foo,\n",
    "                   index=['王小明','李小美','陳大同','林小玉'],\n",
    "                   columns=['國文','英文','數學','自然','社會'])\n",
    "df"
   ]
  },
  {
   "cell_type": "markdown",
   "metadata": {
    "id": "NPryO-5Jzn9O"
   },
   "source": [
    "### 用Dict建立DataFrame"
   ]
  },
  {
   "cell_type": "code",
   "execution_count": 23,
   "metadata": {
    "colab": {
     "base_uri": "https://localhost:8080/",
     "height": 175
    },
    "executionInfo": {
     "elapsed": 328,
     "status": "ok",
     "timestamp": 1730271880745,
     "user": {
      "displayName": "林志偉",
      "userId": "13117312472561068650"
     },
     "user_tz": -480
    },
    "id": "3OJe8I-TzoEG",
    "outputId": "0a687f28-664d-47bb-c4e3-eb4c1526f01e"
   },
   "outputs": [
    {
     "data": {
      "application/vnd.microsoft.datawrangler.viewer.v0+json": {
       "columns": [
        {
         "name": "index",
         "rawType": "object",
         "type": "string"
        },
        {
         "name": "國文",
         "rawType": "int64",
         "type": "integer"
        },
        {
         "name": "英文",
         "rawType": "int64",
         "type": "integer"
        },
        {
         "name": "數學",
         "rawType": "int64",
         "type": "integer"
        },
        {
         "name": "自然",
         "rawType": "int64",
         "type": "integer"
        },
        {
         "name": "社會",
         "rawType": "int64",
         "type": "integer"
        }
       ],
       "ref": "9be9a947-60a3-49bd-a554-d4f85ed67cb8",
       "rows": [
        [
         "王小明",
         "65",
         "92",
         "78",
         "83",
         "70"
        ],
        [
         "李小美",
         "90",
         "72",
         "76",
         "93",
         "56"
        ],
        [
         "陳大同",
         "81",
         "85",
         "91",
         "89",
         "77"
        ],
        [
         "林小玉",
         "79",
         "53",
         "47",
         "94",
         "80"
        ]
       ],
       "shape": {
        "columns": 5,
        "rows": 4
       }
      },
      "text/html": [
       "<div>\n",
       "<style scoped>\n",
       "    .dataframe tbody tr th:only-of-type {\n",
       "        vertical-align: middle;\n",
       "    }\n",
       "\n",
       "    .dataframe tbody tr th {\n",
       "        vertical-align: top;\n",
       "    }\n",
       "\n",
       "    .dataframe thead th {\n",
       "        text-align: right;\n",
       "    }\n",
       "</style>\n",
       "<table border=\"1\" class=\"dataframe\">\n",
       "  <thead>\n",
       "    <tr style=\"text-align: right;\">\n",
       "      <th></th>\n",
       "      <th>國文</th>\n",
       "      <th>英文</th>\n",
       "      <th>數學</th>\n",
       "      <th>自然</th>\n",
       "      <th>社會</th>\n",
       "    </tr>\n",
       "  </thead>\n",
       "  <tbody>\n",
       "    <tr>\n",
       "      <th>王小明</th>\n",
       "      <td>65</td>\n",
       "      <td>92</td>\n",
       "      <td>78</td>\n",
       "      <td>83</td>\n",
       "      <td>70</td>\n",
       "    </tr>\n",
       "    <tr>\n",
       "      <th>李小美</th>\n",
       "      <td>90</td>\n",
       "      <td>72</td>\n",
       "      <td>76</td>\n",
       "      <td>93</td>\n",
       "      <td>56</td>\n",
       "    </tr>\n",
       "    <tr>\n",
       "      <th>陳大同</th>\n",
       "      <td>81</td>\n",
       "      <td>85</td>\n",
       "      <td>91</td>\n",
       "      <td>89</td>\n",
       "      <td>77</td>\n",
       "    </tr>\n",
       "    <tr>\n",
       "      <th>林小玉</th>\n",
       "      <td>79</td>\n",
       "      <td>53</td>\n",
       "      <td>47</td>\n",
       "      <td>94</td>\n",
       "      <td>80</td>\n",
       "    </tr>\n",
       "  </tbody>\n",
       "</table>\n",
       "</div>"
      ],
      "text/plain": [
       "     國文  英文  數學  自然  社會\n",
       "王小明  65  92  78  83  70\n",
       "李小美  90  72  76  93  56\n",
       "陳大同  81  85  91  89  77\n",
       "林小玉  79  53  47  94  80"
      ]
     },
     "execution_count": 23,
     "metadata": {},
     "output_type": "execute_result"
    }
   ],
   "source": [
    "# 以column為基礎的dict\n",
    "scores = {'國文':{'王小明':65,'李小美':90,'陳大同':81,'林小玉':79},\n",
    "          '英文':{'王小明':92,'李小美':72,'陳大同':85,'林小玉':53},\n",
    "          '數學':{'王小明':78,'李小美':76,'陳大同':91,'林小玉':47},\n",
    "          '自然':{'王小明':83,'李小美':93,'陳大同':89,'林小玉':94},\n",
    "          '社會':{'王小明':70,'李小美':56,'陳大同':77,'林小玉':80}}\n",
    "df = pd.DataFrame(scores)\n",
    "df"
   ]
  },
  {
   "cell_type": "markdown",
   "metadata": {
    "id": "j3_QGiFephQ2"
   },
   "source": [
    "## 了解DataFrame的結構"
   ]
  },
  {
   "cell_type": "code",
   "execution_count": 64,
   "metadata": {
    "colab": {
     "base_uri": "https://localhost:8080/"
    },
    "executionInfo": {
     "elapsed": 315,
     "status": "ok",
     "timestamp": 1730271640919,
     "user": {
      "displayName": "林志偉",
      "userId": "13117312472561068650"
     },
     "user_tz": -480
    },
    "id": "GAq_EOeXo_I5",
    "outputId": "87ff0140-c022-45b1-c977-90d8530077dd"
   },
   "outputs": [
    {
     "name": "stdout",
     "output_type": "stream",
     "text": [
      "<class 'pandas.core.frame.DataFrame'>\n",
      "Index: 4 entries, 王小明 to 林小玉\n",
      "Data columns (total 5 columns):\n",
      " #   Column  Non-Null Count  Dtype\n",
      "---  ------  --------------  -----\n",
      " 0   國文      4 non-null      int64\n",
      " 1   英文      4 non-null      int64\n",
      " 2   數學      4 non-null      int64\n",
      " 3   自然      4 non-null      int64\n",
      " 4   社會      4 non-null      int64\n",
      "dtypes: int64(5)\n",
      "memory usage: 364.0+ bytes\n"
     ]
    }
   ],
   "source": [
    "df.shape\n",
    "df.dtypes\n",
    "df.describe()\n",
    "df.info()"
   ]
  },
  {
   "cell_type": "markdown",
   "metadata": {
    "id": "OMdJnr-FqBBn"
   },
   "source": [
    "## 合併兩個DataFrame"
   ]
  },
  {
   "cell_type": "code",
   "execution_count": 28,
   "metadata": {
    "colab": {
     "base_uri": "https://localhost:8080/",
     "height": 175
    },
    "executionInfo": {
     "elapsed": 323,
     "status": "ok",
     "timestamp": 1730271744712,
     "user": {
      "displayName": "林志偉",
      "userId": "13117312472561068650"
     },
     "user_tz": -480
    },
    "id": "z-mZx9yTqFL-",
    "outputId": "87161217-6ff9-48a7-b86a-65377e2d31ed"
   },
   "outputs": [
    {
     "data": {
      "application/vnd.microsoft.datawrangler.viewer.v0+json": {
       "columns": [
        {
         "name": "index",
         "rawType": "object",
         "type": "string"
        },
        {
         "name": "國文",
         "rawType": "int64",
         "type": "integer"
        },
        {
         "name": "英文",
         "rawType": "int64",
         "type": "integer"
        },
        {
         "name": "數學",
         "rawType": "int64",
         "type": "integer"
        },
        {
         "name": "自然",
         "rawType": "int64",
         "type": "integer"
        },
        {
         "name": "社會",
         "rawType": "int64",
         "type": "integer"
        },
        {
         "name": "體育",
         "rawType": "int64",
         "type": "integer"
        },
        {
         "name": "家政",
         "rawType": "int64",
         "type": "integer"
        }
       ],
       "ref": "4779c415-9ca4-478b-a5d2-12aad03b1b73",
       "rows": [
        [
         "王小明",
         "65",
         "92",
         "78",
         "83",
         "70",
         "90",
         "70"
        ],
        [
         "李小美",
         "90",
         "72",
         "76",
         "93",
         "56",
         "93",
         "80"
        ],
        [
         "陳大同",
         "81",
         "85",
         "91",
         "89",
         "77",
         "95",
         "75"
        ],
        [
         "林小玉",
         "79",
         "53",
         "47",
         "94",
         "80",
         "80",
         "90"
        ]
       ],
       "shape": {
        "columns": 7,
        "rows": 4
       }
      },
      "text/html": [
       "<div>\n",
       "<style scoped>\n",
       "    .dataframe tbody tr th:only-of-type {\n",
       "        vertical-align: middle;\n",
       "    }\n",
       "\n",
       "    .dataframe tbody tr th {\n",
       "        vertical-align: top;\n",
       "    }\n",
       "\n",
       "    .dataframe thead th {\n",
       "        text-align: right;\n",
       "    }\n",
       "</style>\n",
       "<table border=\"1\" class=\"dataframe\">\n",
       "  <thead>\n",
       "    <tr style=\"text-align: right;\">\n",
       "      <th></th>\n",
       "      <th>國文</th>\n",
       "      <th>英文</th>\n",
       "      <th>數學</th>\n",
       "      <th>自然</th>\n",
       "      <th>社會</th>\n",
       "      <th>體育</th>\n",
       "      <th>家政</th>\n",
       "    </tr>\n",
       "  </thead>\n",
       "  <tbody>\n",
       "    <tr>\n",
       "      <th>王小明</th>\n",
       "      <td>65</td>\n",
       "      <td>92</td>\n",
       "      <td>78</td>\n",
       "      <td>83</td>\n",
       "      <td>70</td>\n",
       "      <td>90</td>\n",
       "      <td>70</td>\n",
       "    </tr>\n",
       "    <tr>\n",
       "      <th>李小美</th>\n",
       "      <td>90</td>\n",
       "      <td>72</td>\n",
       "      <td>76</td>\n",
       "      <td>93</td>\n",
       "      <td>56</td>\n",
       "      <td>93</td>\n",
       "      <td>80</td>\n",
       "    </tr>\n",
       "    <tr>\n",
       "      <th>陳大同</th>\n",
       "      <td>81</td>\n",
       "      <td>85</td>\n",
       "      <td>91</td>\n",
       "      <td>89</td>\n",
       "      <td>77</td>\n",
       "      <td>95</td>\n",
       "      <td>75</td>\n",
       "    </tr>\n",
       "    <tr>\n",
       "      <th>林小玉</th>\n",
       "      <td>79</td>\n",
       "      <td>53</td>\n",
       "      <td>47</td>\n",
       "      <td>94</td>\n",
       "      <td>80</td>\n",
       "      <td>80</td>\n",
       "      <td>90</td>\n",
       "    </tr>\n",
       "  </tbody>\n",
       "</table>\n",
       "</div>"
      ],
      "text/plain": [
       "     國文  英文  數學  自然  社會  體育  家政\n",
       "王小明  65  92  78  83  70  90  70\n",
       "李小美  90  72  76  93  56  93  80\n",
       "陳大同  81  85  91  89  77  95  75\n",
       "林小玉  79  53  47  94  80  80  90"
      ]
     },
     "execution_count": 28,
     "metadata": {},
     "output_type": "execute_result"
    }
   ],
   "source": [
    "scores = {'國文':{'王小明':65,'李小美':90,'陳大同':81,'林小玉':79},\n",
    "          '英文':{'王小明':92,'李小美':72,'陳大同':85,'林小玉':53},\n",
    "          '數學':{'王小明':78,'李小美':76,'陳大同':91,'林小玉':47},\n",
    "          '自然':{'王小明':83,'李小美':93,'陳大同':89,'林小玉':94},\n",
    "          '社會':{'王小明':70,'李小美':56,'陳大同':77,'林小玉':80}}\n",
    "df1 = pd.DataFrame(scores)\n",
    "scores_others = {'體育':{'王小明':90,'李小美':93,'陳大同':95,'林小玉':80},\n",
    "          '家政':{'王小明':70,'李小美':80,'陳大同':75,'林小玉':90},}\n",
    "\n",
    "df2 = pd.DataFrame(scores_others)\n",
    "df_all = pd.concat([df1, df2], axis=1)\n",
    "df_all"
   ]
  },
  {
   "cell_type": "markdown",
   "metadata": {
    "id": "4RSAEmAn2JX-"
   },
   "source": [
    "# 讀取DataFrame資料"
   ]
  },
  {
   "cell_type": "markdown",
   "metadata": {
    "id": "2VzQ9dGGmpzv"
   },
   "source": [
    "## 以欄位取值 df[column]"
   ]
  },
  {
   "cell_type": "code",
   "execution_count": 32,
   "metadata": {
    "colab": {
     "base_uri": "https://localhost:8080/",
     "height": 175
    },
    "executionInfo": {
     "elapsed": 332,
     "status": "ok",
     "timestamp": 1730271897063,
     "user": {
      "displayName": "林志偉",
      "userId": "13117312472561068650"
     },
     "user_tz": -480
    },
    "id": "o54chOM6jCHA",
    "outputId": "cd59e234-d701-4e49-c5e6-fad72f67bcd2"
   },
   "outputs": [
    {
     "data": {
      "application/vnd.microsoft.datawrangler.viewer.v0+json": {
       "columns": [
        {
         "name": "index",
         "rawType": "object",
         "type": "string"
        },
        {
         "name": "國文",
         "rawType": "int64",
         "type": "integer"
        },
        {
         "name": "英文",
         "rawType": "int64",
         "type": "integer"
        },
        {
         "name": "數學",
         "rawType": "int64",
         "type": "integer"
        },
        {
         "name": "自然",
         "rawType": "int64",
         "type": "integer"
        },
        {
         "name": "社會",
         "rawType": "int64",
         "type": "integer"
        }
       ],
       "ref": "9ae1cbc3-509d-4b43-b162-510a9e4ac9ad",
       "rows": [
        [
         "王小明",
         "65",
         "92",
         "78",
         "83",
         "70"
        ],
        [
         "李小美",
         "90",
         "72",
         "76",
         "93",
         "56"
        ],
        [
         "陳大同",
         "81",
         "85",
         "91",
         "89",
         "77"
        ],
        [
         "林小玉",
         "79",
         "53",
         "47",
         "94",
         "80"
        ]
       ],
       "shape": {
        "columns": 5,
        "rows": 4
       }
      },
      "text/html": [
       "<div>\n",
       "<style scoped>\n",
       "    .dataframe tbody tr th:only-of-type {\n",
       "        vertical-align: middle;\n",
       "    }\n",
       "\n",
       "    .dataframe tbody tr th {\n",
       "        vertical-align: top;\n",
       "    }\n",
       "\n",
       "    .dataframe thead th {\n",
       "        text-align: right;\n",
       "    }\n",
       "</style>\n",
       "<table border=\"1\" class=\"dataframe\">\n",
       "  <thead>\n",
       "    <tr style=\"text-align: right;\">\n",
       "      <th></th>\n",
       "      <th>國文</th>\n",
       "      <th>英文</th>\n",
       "      <th>數學</th>\n",
       "      <th>自然</th>\n",
       "      <th>社會</th>\n",
       "    </tr>\n",
       "  </thead>\n",
       "  <tbody>\n",
       "    <tr>\n",
       "      <th>王小明</th>\n",
       "      <td>65</td>\n",
       "      <td>92</td>\n",
       "      <td>78</td>\n",
       "      <td>83</td>\n",
       "      <td>70</td>\n",
       "    </tr>\n",
       "    <tr>\n",
       "      <th>李小美</th>\n",
       "      <td>90</td>\n",
       "      <td>72</td>\n",
       "      <td>76</td>\n",
       "      <td>93</td>\n",
       "      <td>56</td>\n",
       "    </tr>\n",
       "    <tr>\n",
       "      <th>陳大同</th>\n",
       "      <td>81</td>\n",
       "      <td>85</td>\n",
       "      <td>91</td>\n",
       "      <td>89</td>\n",
       "      <td>77</td>\n",
       "    </tr>\n",
       "    <tr>\n",
       "      <th>林小玉</th>\n",
       "      <td>79</td>\n",
       "      <td>53</td>\n",
       "      <td>47</td>\n",
       "      <td>94</td>\n",
       "      <td>80</td>\n",
       "    </tr>\n",
       "  </tbody>\n",
       "</table>\n",
       "</div>"
      ],
      "text/plain": [
       "     國文  英文  數學  自然  社會\n",
       "王小明  65  92  78  83  70\n",
       "李小美  90  72  76  93  56\n",
       "陳大同  81  85  91  89  77\n",
       "林小玉  79  53  47  94  80"
      ]
     },
     "execution_count": 32,
     "metadata": {},
     "output_type": "execute_result"
    }
   ],
   "source": [
    "scores = {'國文':{'王小明':65,'李小美':90,'陳大同':81,'林小玉':79},\n",
    "          '英文':{'王小明':92,'李小美':72,'陳大同':85,'林小玉':53},\n",
    "          '數學':{'王小明':78,'李小美':76,'陳大同':91,'林小玉':47},\n",
    "          '自然':{'王小明':83,'李小美':93,'陳大同':89,'林小玉':94},\n",
    "          '社會':{'王小明':70,'李小美':56,'陳大同':77,'林小玉':80}}\n",
    "df = pd.DataFrame(scores)\n",
    "df"
   ]
  },
  {
   "cell_type": "code",
   "execution_count": 33,
   "metadata": {
    "colab": {
     "base_uri": "https://localhost:8080/",
     "height": 210
    },
    "executionInfo": {
     "elapsed": 333,
     "status": "ok",
     "timestamp": 1725345478317,
     "user": {
      "displayName": "林志偉",
      "userId": "13117312472561068650"
     },
     "user_tz": -480
    },
    "id": "UXP_GNkq2K2X",
    "outputId": "98a7ef98-96bb-49ec-dbd2-4237c12290a6"
   },
   "outputs": [
    {
     "data": {
      "application/vnd.microsoft.datawrangler.viewer.v0+json": {
       "columns": [
        {
         "name": "index",
         "rawType": "object",
         "type": "string"
        },
        {
         "name": "國文",
         "rawType": "int64",
         "type": "integer"
        },
        {
         "name": "英文",
         "rawType": "int64",
         "type": "integer"
        },
        {
         "name": "數學",
         "rawType": "int64",
         "type": "integer"
        }
       ],
       "ref": "5bf439f9-85bd-4b66-b34a-42473f3c6a40",
       "rows": [
        [
         "王小明",
         "65",
         "92",
         "78"
        ],
        [
         "李小美",
         "90",
         "72",
         "76"
        ],
        [
         "陳大同",
         "81",
         "85",
         "91"
        ],
        [
         "林小玉",
         "79",
         "53",
         "47"
        ]
       ],
       "shape": {
        "columns": 3,
        "rows": 4
       }
      },
      "text/html": [
       "<div>\n",
       "<style scoped>\n",
       "    .dataframe tbody tr th:only-of-type {\n",
       "        vertical-align: middle;\n",
       "    }\n",
       "\n",
       "    .dataframe tbody tr th {\n",
       "        vertical-align: top;\n",
       "    }\n",
       "\n",
       "    .dataframe thead th {\n",
       "        text-align: right;\n",
       "    }\n",
       "</style>\n",
       "<table border=\"1\" class=\"dataframe\">\n",
       "  <thead>\n",
       "    <tr style=\"text-align: right;\">\n",
       "      <th></th>\n",
       "      <th>國文</th>\n",
       "      <th>英文</th>\n",
       "      <th>數學</th>\n",
       "    </tr>\n",
       "  </thead>\n",
       "  <tbody>\n",
       "    <tr>\n",
       "      <th>王小明</th>\n",
       "      <td>65</td>\n",
       "      <td>92</td>\n",
       "      <td>78</td>\n",
       "    </tr>\n",
       "    <tr>\n",
       "      <th>李小美</th>\n",
       "      <td>90</td>\n",
       "      <td>72</td>\n",
       "      <td>76</td>\n",
       "    </tr>\n",
       "    <tr>\n",
       "      <th>陳大同</th>\n",
       "      <td>81</td>\n",
       "      <td>85</td>\n",
       "      <td>91</td>\n",
       "    </tr>\n",
       "    <tr>\n",
       "      <th>林小玉</th>\n",
       "      <td>79</td>\n",
       "      <td>53</td>\n",
       "      <td>47</td>\n",
       "    </tr>\n",
       "  </tbody>\n",
       "</table>\n",
       "</div>"
      ],
      "text/plain": [
       "     國文  英文  數學\n",
       "王小明  65  92  78\n",
       "李小美  90  72  76\n",
       "陳大同  81  85  91\n",
       "林小玉  79  53  47"
      ]
     },
     "execution_count": 33,
     "metadata": {},
     "output_type": "execute_result"
    }
   ],
   "source": [
    "df[\"自然\"] #讀一個欄位\n",
    "df[['國文','英文','數學']] #讀多個欄位\n"
   ]
  },
  {
   "cell_type": "markdown",
   "metadata": {
    "id": "7ydr5oYjhwUo"
   },
   "source": [
    "## 以index label及column name取值：df.loc()"
   ]
  },
  {
   "cell_type": "code",
   "execution_count": 4,
   "metadata": {
    "colab": {
     "base_uri": "https://localhost:8080/",
     "height": 175
    },
    "executionInfo": {
     "elapsed": 322,
     "status": "ok",
     "timestamp": 1730272000145,
     "user": {
      "displayName": "林志偉",
      "userId": "13117312472561068650"
     },
     "user_tz": -480
    },
    "id": "e-g5zH9iqNBg",
    "outputId": "cbba0de4-f5a9-4cdc-d467-55d5f5392504"
   },
   "outputs": [
    {
     "data": {
      "application/vnd.microsoft.datawrangler.viewer.v0+json": {
       "columns": [
        {
         "name": "index",
         "rawType": "object",
         "type": "string"
        },
        {
         "name": "國文",
         "rawType": "int64",
         "type": "integer"
        },
        {
         "name": "英文",
         "rawType": "int64",
         "type": "integer"
        },
        {
         "name": "數學",
         "rawType": "int64",
         "type": "integer"
        },
        {
         "name": "自然",
         "rawType": "int64",
         "type": "integer"
        },
        {
         "name": "社會",
         "rawType": "int64",
         "type": "integer"
        }
       ],
       "ref": "35323f3b-aa5d-4282-9fff-1c73d4028e65",
       "rows": [
        [
         "王小明",
         "65",
         "92",
         "78",
         "83",
         "70"
        ],
        [
         "李小美",
         "90",
         "72",
         "76",
         "93",
         "56"
        ],
        [
         "陳大同",
         "81",
         "85",
         "91",
         "89",
         "77"
        ],
        [
         "林小玉",
         "79",
         "53",
         "47",
         "94",
         "80"
        ]
       ],
       "shape": {
        "columns": 5,
        "rows": 4
       }
      },
      "text/html": [
       "<div>\n",
       "<style scoped>\n",
       "    .dataframe tbody tr th:only-of-type {\n",
       "        vertical-align: middle;\n",
       "    }\n",
       "\n",
       "    .dataframe tbody tr th {\n",
       "        vertical-align: top;\n",
       "    }\n",
       "\n",
       "    .dataframe thead th {\n",
       "        text-align: right;\n",
       "    }\n",
       "</style>\n",
       "<table border=\"1\" class=\"dataframe\">\n",
       "  <thead>\n",
       "    <tr style=\"text-align: right;\">\n",
       "      <th></th>\n",
       "      <th>國文</th>\n",
       "      <th>英文</th>\n",
       "      <th>數學</th>\n",
       "      <th>自然</th>\n",
       "      <th>社會</th>\n",
       "    </tr>\n",
       "  </thead>\n",
       "  <tbody>\n",
       "    <tr>\n",
       "      <th>王小明</th>\n",
       "      <td>65</td>\n",
       "      <td>92</td>\n",
       "      <td>78</td>\n",
       "      <td>83</td>\n",
       "      <td>70</td>\n",
       "    </tr>\n",
       "    <tr>\n",
       "      <th>李小美</th>\n",
       "      <td>90</td>\n",
       "      <td>72</td>\n",
       "      <td>76</td>\n",
       "      <td>93</td>\n",
       "      <td>56</td>\n",
       "    </tr>\n",
       "    <tr>\n",
       "      <th>陳大同</th>\n",
       "      <td>81</td>\n",
       "      <td>85</td>\n",
       "      <td>91</td>\n",
       "      <td>89</td>\n",
       "      <td>77</td>\n",
       "    </tr>\n",
       "    <tr>\n",
       "      <th>林小玉</th>\n",
       "      <td>79</td>\n",
       "      <td>53</td>\n",
       "      <td>47</td>\n",
       "      <td>94</td>\n",
       "      <td>80</td>\n",
       "    </tr>\n",
       "  </tbody>\n",
       "</table>\n",
       "</div>"
      ],
      "text/plain": [
       "     國文  英文  數學  自然  社會\n",
       "王小明  65  92  78  83  70\n",
       "李小美  90  72  76  93  56\n",
       "陳大同  81  85  91  89  77\n",
       "林小玉  79  53  47  94  80"
      ]
     },
     "execution_count": 4,
     "metadata": {},
     "output_type": "execute_result"
    }
   ],
   "source": [
    "scores = {'國文':{'王小明':65,'李小美':90,'陳大同':81,'林小玉':79},\n",
    "          '英文':{'王小明':92,'李小美':72,'陳大同':85,'林小玉':53},\n",
    "          '數學':{'王小明':78,'李小美':76,'陳大同':91,'林小玉':47},\n",
    "          '自然':{'王小明':83,'李小美':93,'陳大同':89,'林小玉':94},\n",
    "          '社會':{'王小明':70,'李小美':56,'陳大同':77,'林小玉':80}}\n",
    "df = pd.DataFrame(scores)\n",
    "df"
   ]
  },
  {
   "cell_type": "code",
   "execution_count": 36,
   "metadata": {
    "colab": {
     "base_uri": "https://localhost:8080/"
    },
    "executionInfo": {
     "elapsed": 321,
     "status": "ok",
     "timestamp": 1730272042375,
     "user": {
      "displayName": "林志偉",
      "userId": "13117312472561068650"
     },
     "user_tz": -480
    },
    "id": "9JyYMnqphyz3",
    "outputId": "1eb5b341-707a-4f0a-abb3-25fbf8b1d5cc"
   },
   "outputs": [
    {
     "data": {
      "text/plain": [
       "np.int64(80)"
      ]
     },
     "execution_count": 36,
     "metadata": {},
     "output_type": "execute_result"
    }
   ],
   "source": [
    "df.loc[\"林小玉\", \"社會\"] # int"
   ]
  },
  {
   "cell_type": "code",
   "execution_count": 38,
   "metadata": {
    "colab": {
     "base_uri": "https://localhost:8080/"
    },
    "executionInfo": {
     "elapsed": 325,
     "status": "ok",
     "timestamp": 1730272085027,
     "user": {
      "displayName": "林志偉",
      "userId": "13117312472561068650"
     },
     "user_tz": -480
    },
    "id": "KArZlVeWh19f",
    "outputId": "5a75f6ae-6653-4224-9456-916361375af1"
   },
   "outputs": [
    {
     "data": {
      "application/vnd.microsoft.datawrangler.viewer.v0+json": {
       "columns": [
        {
         "name": "index",
         "rawType": "object",
         "type": "string"
        },
        {
         "name": "王小明",
         "rawType": "int64",
         "type": "integer"
        }
       ],
       "ref": "08ff4d94-171b-4eb0-8169-9f97d834b665",
       "rows": [
        [
         "國文",
         "65"
        ],
        [
         "社會",
         "70"
        ]
       ],
       "shape": {
        "columns": 1,
        "rows": 2
       }
      },
      "text/plain": [
       "國文    65\n",
       "社會    70\n",
       "Name: 王小明, dtype: int64"
      ]
     },
     "execution_count": 38,
     "metadata": {},
     "output_type": "execute_result"
    }
   ],
   "source": [
    "df.loc[\"王小明\", [\"國文\",\"社會\"]] # Series"
   ]
  },
  {
   "cell_type": "code",
   "execution_count": 39,
   "metadata": {
    "colab": {
     "base_uri": "https://localhost:8080/",
     "height": 112
    },
    "executionInfo": {
     "elapsed": 328,
     "status": "ok",
     "timestamp": 1725345990734,
     "user": {
      "displayName": "林志偉",
      "userId": "13117312472561068650"
     },
     "user_tz": -480
    },
    "id": "H9EiCEH2h2An",
    "outputId": "a31c80b1-3a09-4d8f-9bb7-301fc2b00b51"
   },
   "outputs": [
    {
     "data": {
      "application/vnd.microsoft.datawrangler.viewer.v0+json": {
       "columns": [
        {
         "name": "index",
         "rawType": "object",
         "type": "string"
        },
        {
         "name": "數學",
         "rawType": "int64",
         "type": "integer"
        },
        {
         "name": "自然",
         "rawType": "int64",
         "type": "integer"
        }
       ],
       "ref": "4bce6fa6-a3d2-40f2-81c5-74a5624eb008",
       "rows": [
        [
         "王小明",
         "78",
         "83"
        ],
        [
         "李小美",
         "76",
         "93"
        ]
       ],
       "shape": {
        "columns": 2,
        "rows": 2
       }
      },
      "text/html": [
       "<div>\n",
       "<style scoped>\n",
       "    .dataframe tbody tr th:only-of-type {\n",
       "        vertical-align: middle;\n",
       "    }\n",
       "\n",
       "    .dataframe tbody tr th {\n",
       "        vertical-align: top;\n",
       "    }\n",
       "\n",
       "    .dataframe thead th {\n",
       "        text-align: right;\n",
       "    }\n",
       "</style>\n",
       "<table border=\"1\" class=\"dataframe\">\n",
       "  <thead>\n",
       "    <tr style=\"text-align: right;\">\n",
       "      <th></th>\n",
       "      <th>數學</th>\n",
       "      <th>自然</th>\n",
       "    </tr>\n",
       "  </thead>\n",
       "  <tbody>\n",
       "    <tr>\n",
       "      <th>王小明</th>\n",
       "      <td>78</td>\n",
       "      <td>83</td>\n",
       "    </tr>\n",
       "    <tr>\n",
       "      <th>李小美</th>\n",
       "      <td>76</td>\n",
       "      <td>93</td>\n",
       "    </tr>\n",
       "  </tbody>\n",
       "</table>\n",
       "</div>"
      ],
      "text/plain": [
       "     數學  自然\n",
       "王小明  78  83\n",
       "李小美  76  93"
      ]
     },
     "execution_count": 39,
     "metadata": {},
     "output_type": "execute_result"
    }
   ],
   "source": [
    "df.loc[[\"王小明\", \"李小美\"], [\"數學\", \"自然\"]] # DataFrame"
   ]
  },
  {
   "cell_type": "code",
   "execution_count": 40,
   "metadata": {
    "colab": {
     "base_uri": "https://localhost:8080/",
     "height": 143
    },
    "executionInfo": {
     "elapsed": 321,
     "status": "ok",
     "timestamp": 1725346026352,
     "user": {
      "displayName": "林志偉",
      "userId": "13117312472561068650"
     },
     "user_tz": -480
    },
    "id": "b762xuAxh2Dv",
    "outputId": "1bc3b138-2f5e-4a19-9b55-157e14856f3e"
   },
   "outputs": [
    {
     "data": {
      "application/vnd.microsoft.datawrangler.viewer.v0+json": {
       "columns": [
        {
         "name": "index",
         "rawType": "object",
         "type": "string"
        },
        {
         "name": "數學",
         "rawType": "int64",
         "type": "integer"
        },
        {
         "name": "自然",
         "rawType": "int64",
         "type": "integer"
        },
        {
         "name": "社會",
         "rawType": "int64",
         "type": "integer"
        }
       ],
       "ref": "e70f2117-846e-4f75-993e-4a0cc0813132",
       "rows": [
        [
         "王小明",
         "78",
         "83",
         "70"
        ],
        [
         "李小美",
         "76",
         "93",
         "56"
        ],
        [
         "陳大同",
         "91",
         "89",
         "77"
        ]
       ],
       "shape": {
        "columns": 3,
        "rows": 3
       }
      },
      "text/html": [
       "<div>\n",
       "<style scoped>\n",
       "    .dataframe tbody tr th:only-of-type {\n",
       "        vertical-align: middle;\n",
       "    }\n",
       "\n",
       "    .dataframe tbody tr th {\n",
       "        vertical-align: top;\n",
       "    }\n",
       "\n",
       "    .dataframe thead th {\n",
       "        text-align: right;\n",
       "    }\n",
       "</style>\n",
       "<table border=\"1\" class=\"dataframe\">\n",
       "  <thead>\n",
       "    <tr style=\"text-align: right;\">\n",
       "      <th></th>\n",
       "      <th>數學</th>\n",
       "      <th>自然</th>\n",
       "      <th>社會</th>\n",
       "    </tr>\n",
       "  </thead>\n",
       "  <tbody>\n",
       "    <tr>\n",
       "      <th>王小明</th>\n",
       "      <td>78</td>\n",
       "      <td>83</td>\n",
       "      <td>70</td>\n",
       "    </tr>\n",
       "    <tr>\n",
       "      <th>李小美</th>\n",
       "      <td>76</td>\n",
       "      <td>93</td>\n",
       "      <td>56</td>\n",
       "    </tr>\n",
       "    <tr>\n",
       "      <th>陳大同</th>\n",
       "      <td>91</td>\n",
       "      <td>89</td>\n",
       "      <td>77</td>\n",
       "    </tr>\n",
       "  </tbody>\n",
       "</table>\n",
       "</div>"
      ],
      "text/plain": [
       "     數學  自然  社會\n",
       "王小明  78  83  70\n",
       "李小美  76  93  56\n",
       "陳大同  91  89  77"
      ]
     },
     "execution_count": 40,
     "metadata": {},
     "output_type": "execute_result"
    }
   ],
   "source": [
    "df.loc[\"王小明\":\"陳大同\", \"數學\":\"社會\"] # DataFrame"
   ]
  },
  {
   "cell_type": "code",
   "execution_count": 41,
   "metadata": {
    "colab": {
     "base_uri": "https://localhost:8080/",
     "height": 241
    },
    "executionInfo": {
     "elapsed": 360,
     "status": "ok",
     "timestamp": 1725346088463,
     "user": {
      "displayName": "林志偉",
      "userId": "13117312472561068650"
     },
     "user_tz": -480
    },
    "id": "xGM4jBfyiAaf",
    "outputId": "9096a33e-3daf-4ae4-bffc-cd41625d4534"
   },
   "outputs": [
    {
     "data": {
      "application/vnd.microsoft.datawrangler.viewer.v0+json": {
       "columns": [
        {
         "name": "index",
         "rawType": "object",
         "type": "string"
        },
        {
         "name": "陳大同",
         "rawType": "int64",
         "type": "integer"
        }
       ],
       "ref": "1ffa5ea1-22ec-4cd1-ba04-ba8f740157a3",
       "rows": [
        [
         "國文",
         "81"
        ],
        [
         "英文",
         "85"
        ],
        [
         "數學",
         "91"
        ],
        [
         "自然",
         "89"
        ],
        [
         "社會",
         "77"
        ]
       ],
       "shape": {
        "columns": 1,
        "rows": 5
       }
      },
      "text/plain": [
       "國文    81\n",
       "英文    85\n",
       "數學    91\n",
       "自然    89\n",
       "社會    77\n",
       "Name: 陳大同, dtype: int64"
      ]
     },
     "execution_count": 41,
     "metadata": {},
     "output_type": "execute_result"
    }
   ],
   "source": [
    "df.loc[\"陳大同\", :] # Series"
   ]
  },
  {
   "cell_type": "code",
   "execution_count": 42,
   "metadata": {
    "colab": {
     "base_uri": "https://localhost:8080/",
     "height": 112
    },
    "executionInfo": {
     "elapsed": 333,
     "status": "ok",
     "timestamp": 1725346114276,
     "user": {
      "displayName": "林志偉",
      "userId": "13117312472561068650"
     },
     "user_tz": -480
    },
    "id": "zKQBCBd8iG8X",
    "outputId": "08fea12c-d7d3-4b0d-fa68-3fe5acec0a82"
   },
   "outputs": [
    {
     "data": {
      "application/vnd.microsoft.datawrangler.viewer.v0+json": {
       "columns": [
        {
         "name": "index",
         "rawType": "object",
         "type": "string"
        },
        {
         "name": "數學",
         "rawType": "int64",
         "type": "integer"
        },
        {
         "name": "自然",
         "rawType": "int64",
         "type": "integer"
        },
        {
         "name": "社會",
         "rawType": "int64",
         "type": "integer"
        }
       ],
       "ref": "5b05cae6-1d41-4a58-8abb-46b6f840e548",
       "rows": [
        [
         "王小明",
         "78",
         "83",
         "70"
        ],
        [
         "李小美",
         "76",
         "93",
         "56"
        ]
       ],
       "shape": {
        "columns": 3,
        "rows": 2
       }
      },
      "text/html": [
       "<div>\n",
       "<style scoped>\n",
       "    .dataframe tbody tr th:only-of-type {\n",
       "        vertical-align: middle;\n",
       "    }\n",
       "\n",
       "    .dataframe tbody tr th {\n",
       "        vertical-align: top;\n",
       "    }\n",
       "\n",
       "    .dataframe thead th {\n",
       "        text-align: right;\n",
       "    }\n",
       "</style>\n",
       "<table border=\"1\" class=\"dataframe\">\n",
       "  <thead>\n",
       "    <tr style=\"text-align: right;\">\n",
       "      <th></th>\n",
       "      <th>數學</th>\n",
       "      <th>自然</th>\n",
       "      <th>社會</th>\n",
       "    </tr>\n",
       "  </thead>\n",
       "  <tbody>\n",
       "    <tr>\n",
       "      <th>王小明</th>\n",
       "      <td>78</td>\n",
       "      <td>83</td>\n",
       "      <td>70</td>\n",
       "    </tr>\n",
       "    <tr>\n",
       "      <th>李小美</th>\n",
       "      <td>76</td>\n",
       "      <td>93</td>\n",
       "      <td>56</td>\n",
       "    </tr>\n",
       "  </tbody>\n",
       "</table>\n",
       "</div>"
      ],
      "text/plain": [
       "     數學  自然  社會\n",
       "王小明  78  83  70\n",
       "李小美  76  93  56"
      ]
     },
     "execution_count": 42,
     "metadata": {},
     "output_type": "execute_result"
    }
   ],
   "source": [
    "df.loc[:\"李小美\", \"數學\":\"社會\"] # DataFrame"
   ]
  },
  {
   "cell_type": "code",
   "execution_count": 43,
   "metadata": {
    "colab": {
     "base_uri": "https://localhost:8080/",
     "height": 143
    },
    "executionInfo": {
     "elapsed": 326,
     "status": "ok",
     "timestamp": 1725346160376,
     "user": {
      "displayName": "林志偉",
      "userId": "13117312472561068650"
     },
     "user_tz": -480
    },
    "id": "rNivUyEViG_o",
    "outputId": "4ae742c8-ed3f-48e0-9e52-fe8342329ad9"
   },
   "outputs": [
    {
     "data": {
      "application/vnd.microsoft.datawrangler.viewer.v0+json": {
       "columns": [
        {
         "name": "index",
         "rawType": "object",
         "type": "string"
        },
        {
         "name": "數學",
         "rawType": "int64",
         "type": "integer"
        },
        {
         "name": "自然",
         "rawType": "int64",
         "type": "integer"
        },
        {
         "name": "社會",
         "rawType": "int64",
         "type": "integer"
        }
       ],
       "ref": "8c16b8eb-53c4-460c-8b04-e0fe6bda4cd1",
       "rows": [
        [
         "李小美",
         "76",
         "93",
         "56"
        ],
        [
         "陳大同",
         "91",
         "89",
         "77"
        ],
        [
         "林小玉",
         "47",
         "94",
         "80"
        ]
       ],
       "shape": {
        "columns": 3,
        "rows": 3
       }
      },
      "text/html": [
       "<div>\n",
       "<style scoped>\n",
       "    .dataframe tbody tr th:only-of-type {\n",
       "        vertical-align: middle;\n",
       "    }\n",
       "\n",
       "    .dataframe tbody tr th {\n",
       "        vertical-align: top;\n",
       "    }\n",
       "\n",
       "    .dataframe thead th {\n",
       "        text-align: right;\n",
       "    }\n",
       "</style>\n",
       "<table border=\"1\" class=\"dataframe\">\n",
       "  <thead>\n",
       "    <tr style=\"text-align: right;\">\n",
       "      <th></th>\n",
       "      <th>數學</th>\n",
       "      <th>自然</th>\n",
       "      <th>社會</th>\n",
       "    </tr>\n",
       "  </thead>\n",
       "  <tbody>\n",
       "    <tr>\n",
       "      <th>李小美</th>\n",
       "      <td>76</td>\n",
       "      <td>93</td>\n",
       "      <td>56</td>\n",
       "    </tr>\n",
       "    <tr>\n",
       "      <th>陳大同</th>\n",
       "      <td>91</td>\n",
       "      <td>89</td>\n",
       "      <td>77</td>\n",
       "    </tr>\n",
       "    <tr>\n",
       "      <th>林小玉</th>\n",
       "      <td>47</td>\n",
       "      <td>94</td>\n",
       "      <td>80</td>\n",
       "    </tr>\n",
       "  </tbody>\n",
       "</table>\n",
       "</div>"
      ],
      "text/plain": [
       "     數學  自然  社會\n",
       "李小美  76  93  56\n",
       "陳大同  91  89  77\n",
       "林小玉  47  94  80"
      ]
     },
     "execution_count": 43,
     "metadata": {},
     "output_type": "execute_result"
    }
   ],
   "source": [
    "df.loc[\"李小美\":, \"數學\":\"社會\"]"
   ]
  },
  {
   "cell_type": "markdown",
   "metadata": {
    "id": "QYVU_KAw9v8h"
   },
   "source": [
    "## 以index ID及column ID取值：df.iloc()"
   ]
  },
  {
   "cell_type": "code",
   "execution_count": 44,
   "metadata": {
    "colab": {
     "base_uri": "https://localhost:8080/",
     "height": 175
    },
    "executionInfo": {
     "elapsed": 340,
     "status": "ok",
     "timestamp": 1730272403107,
     "user": {
      "displayName": "林志偉",
      "userId": "13117312472561068650"
     },
     "user_tz": -480
    },
    "id": "G5NhcMGHqS6h",
    "outputId": "3883e766-224c-4666-d2ff-398a68636c20"
   },
   "outputs": [
    {
     "data": {
      "application/vnd.microsoft.datawrangler.viewer.v0+json": {
       "columns": [
        {
         "name": "index",
         "rawType": "object",
         "type": "string"
        },
        {
         "name": "國文",
         "rawType": "int64",
         "type": "integer"
        },
        {
         "name": "英文",
         "rawType": "int64",
         "type": "integer"
        },
        {
         "name": "數學",
         "rawType": "int64",
         "type": "integer"
        },
        {
         "name": "自然",
         "rawType": "int64",
         "type": "integer"
        },
        {
         "name": "社會",
         "rawType": "int64",
         "type": "integer"
        }
       ],
       "ref": "95732dc0-0132-4769-96d9-def0a01b08a0",
       "rows": [
        [
         "王小明",
         "65",
         "92",
         "78",
         "83",
         "70"
        ],
        [
         "李小美",
         "90",
         "72",
         "76",
         "93",
         "56"
        ],
        [
         "陳大同",
         "81",
         "85",
         "91",
         "89",
         "77"
        ],
        [
         "林小玉",
         "79",
         "53",
         "47",
         "94",
         "80"
        ]
       ],
       "shape": {
        "columns": 5,
        "rows": 4
       }
      },
      "text/html": [
       "<div>\n",
       "<style scoped>\n",
       "    .dataframe tbody tr th:only-of-type {\n",
       "        vertical-align: middle;\n",
       "    }\n",
       "\n",
       "    .dataframe tbody tr th {\n",
       "        vertical-align: top;\n",
       "    }\n",
       "\n",
       "    .dataframe thead th {\n",
       "        text-align: right;\n",
       "    }\n",
       "</style>\n",
       "<table border=\"1\" class=\"dataframe\">\n",
       "  <thead>\n",
       "    <tr style=\"text-align: right;\">\n",
       "      <th></th>\n",
       "      <th>國文</th>\n",
       "      <th>英文</th>\n",
       "      <th>數學</th>\n",
       "      <th>自然</th>\n",
       "      <th>社會</th>\n",
       "    </tr>\n",
       "  </thead>\n",
       "  <tbody>\n",
       "    <tr>\n",
       "      <th>王小明</th>\n",
       "      <td>65</td>\n",
       "      <td>92</td>\n",
       "      <td>78</td>\n",
       "      <td>83</td>\n",
       "      <td>70</td>\n",
       "    </tr>\n",
       "    <tr>\n",
       "      <th>李小美</th>\n",
       "      <td>90</td>\n",
       "      <td>72</td>\n",
       "      <td>76</td>\n",
       "      <td>93</td>\n",
       "      <td>56</td>\n",
       "    </tr>\n",
       "    <tr>\n",
       "      <th>陳大同</th>\n",
       "      <td>81</td>\n",
       "      <td>85</td>\n",
       "      <td>91</td>\n",
       "      <td>89</td>\n",
       "      <td>77</td>\n",
       "    </tr>\n",
       "    <tr>\n",
       "      <th>林小玉</th>\n",
       "      <td>79</td>\n",
       "      <td>53</td>\n",
       "      <td>47</td>\n",
       "      <td>94</td>\n",
       "      <td>80</td>\n",
       "    </tr>\n",
       "  </tbody>\n",
       "</table>\n",
       "</div>"
      ],
      "text/plain": [
       "     國文  英文  數學  自然  社會\n",
       "王小明  65  92  78  83  70\n",
       "李小美  90  72  76  93  56\n",
       "陳大同  81  85  91  89  77\n",
       "林小玉  79  53  47  94  80"
      ]
     },
     "execution_count": 44,
     "metadata": {},
     "output_type": "execute_result"
    }
   ],
   "source": [
    "df"
   ]
  },
  {
   "cell_type": "code",
   "execution_count": 45,
   "metadata": {
    "colab": {
     "base_uri": "https://localhost:8080/"
    },
    "executionInfo": {
     "elapsed": 332,
     "status": "ok",
     "timestamp": 1725346457642,
     "user": {
      "displayName": "林志偉",
      "userId": "13117312472561068650"
     },
     "user_tz": -480
    },
    "id": "PQU6Eyr7iAd_",
    "outputId": "f6d250bb-6df9-429a-ecc9-1b6a588ac45e"
   },
   "outputs": [
    {
     "data": {
      "text/plain": [
       "np.int64(80)"
      ]
     },
     "execution_count": 45,
     "metadata": {},
     "output_type": "execute_result"
    }
   ],
   "source": [
    "df.iloc[3, 4]"
   ]
  },
  {
   "cell_type": "code",
   "execution_count": 46,
   "metadata": {
    "colab": {
     "base_uri": "https://localhost:8080/",
     "height": 147
    },
    "executionInfo": {
     "elapsed": 298,
     "status": "ok",
     "timestamp": 1725346541280,
     "user": {
      "displayName": "林志偉",
      "userId": "13117312472561068650"
     },
     "user_tz": -480
    },
    "id": "ytOSoN2mm9df",
    "outputId": "97451777-c225-4d9f-9723-6a81847d0670"
   },
   "outputs": [
    {
     "data": {
      "application/vnd.microsoft.datawrangler.viewer.v0+json": {
       "columns": [
        {
         "name": "index",
         "rawType": "object",
         "type": "string"
        },
        {
         "name": "王小明",
         "rawType": "int64",
         "type": "integer"
        }
       ],
       "ref": "271ef268-35d4-4fe1-b380-d818fe52cfca",
       "rows": [
        [
         "國文",
         "65"
        ],
        [
         "社會",
         "70"
        ]
       ],
       "shape": {
        "columns": 1,
        "rows": 2
       }
      },
      "text/plain": [
       "國文    65\n",
       "社會    70\n",
       "Name: 王小明, dtype: int64"
      ]
     },
     "execution_count": 46,
     "metadata": {},
     "output_type": "execute_result"
    }
   ],
   "source": [
    "df.iloc[0, [0, 4]] # Series"
   ]
  },
  {
   "cell_type": "code",
   "execution_count": 5,
   "metadata": {
    "colab": {
     "base_uri": "https://localhost:8080/",
     "height": 112
    },
    "executionInfo": {
     "elapsed": 330,
     "status": "ok",
     "timestamp": 1725346593965,
     "user": {
      "displayName": "林志偉",
      "userId": "13117312472561068650"
     },
     "user_tz": -480
    },
    "id": "GebKm89Lm9g_",
    "outputId": "47ae6105-9115-4e01-a950-6a97d1f662df"
   },
   "outputs": [
    {
     "data": {
      "application/vnd.microsoft.datawrangler.viewer.v0+json": {
       "columns": [
        {
         "name": "index",
         "rawType": "object",
         "type": "string"
        },
        {
         "name": "數學",
         "rawType": "int64",
         "type": "integer"
        },
        {
         "name": "自然",
         "rawType": "int64",
         "type": "integer"
        }
       ],
       "ref": "1bff0dd9-f459-47b1-aefd-debb05703085",
       "rows": [
        [
         "王小明",
         "78",
         "83"
        ],
        [
         "李小美",
         "76",
         "93"
        ]
       ],
       "shape": {
        "columns": 2,
        "rows": 2
       }
      },
      "text/html": [
       "<div>\n",
       "<style scoped>\n",
       "    .dataframe tbody tr th:only-of-type {\n",
       "        vertical-align: middle;\n",
       "    }\n",
       "\n",
       "    .dataframe tbody tr th {\n",
       "        vertical-align: top;\n",
       "    }\n",
       "\n",
       "    .dataframe thead th {\n",
       "        text-align: right;\n",
       "    }\n",
       "</style>\n",
       "<table border=\"1\" class=\"dataframe\">\n",
       "  <thead>\n",
       "    <tr style=\"text-align: right;\">\n",
       "      <th></th>\n",
       "      <th>數學</th>\n",
       "      <th>自然</th>\n",
       "    </tr>\n",
       "  </thead>\n",
       "  <tbody>\n",
       "    <tr>\n",
       "      <th>王小明</th>\n",
       "      <td>78</td>\n",
       "      <td>83</td>\n",
       "    </tr>\n",
       "    <tr>\n",
       "      <th>李小美</th>\n",
       "      <td>76</td>\n",
       "      <td>93</td>\n",
       "    </tr>\n",
       "  </tbody>\n",
       "</table>\n",
       "</div>"
      ],
      "text/plain": [
       "     數學  自然\n",
       "王小明  78  83\n",
       "李小美  76  93"
      ]
     },
     "execution_count": 5,
     "metadata": {},
     "output_type": "execute_result"
    }
   ],
   "source": [
    "df.iloc[[0, 1], [2, 3]] # DataFrame"
   ]
  },
  {
   "cell_type": "code",
   "execution_count": 6,
   "metadata": {
    "colab": {
     "base_uri": "https://localhost:8080/",
     "height": 143
    },
    "executionInfo": {
     "elapsed": 339,
     "status": "ok",
     "timestamp": 1725346603617,
     "user": {
      "displayName": "林志偉",
      "userId": "13117312472561068650"
     },
     "user_tz": -480
    },
    "id": "lg6733fOm9kU",
    "outputId": "35bbea66-8ce5-43cf-9bc2-9923fb0e4e4c"
   },
   "outputs": [
    {
     "data": {
      "application/vnd.microsoft.datawrangler.viewer.v0+json": {
       "columns": [
        {
         "name": "index",
         "rawType": "object",
         "type": "string"
        },
        {
         "name": "數學",
         "rawType": "int64",
         "type": "integer"
        },
        {
         "name": "自然",
         "rawType": "int64",
         "type": "integer"
        },
        {
         "name": "社會",
         "rawType": "int64",
         "type": "integer"
        }
       ],
       "ref": "16c8cb16-fa2a-47b6-9eb9-33e47625f543",
       "rows": [
        [
         "王小明",
         "78",
         "83",
         "70"
        ],
        [
         "李小美",
         "76",
         "93",
         "56"
        ],
        [
         "陳大同",
         "91",
         "89",
         "77"
        ]
       ],
       "shape": {
        "columns": 3,
        "rows": 3
       }
      },
      "text/html": [
       "<div>\n",
       "<style scoped>\n",
       "    .dataframe tbody tr th:only-of-type {\n",
       "        vertical-align: middle;\n",
       "    }\n",
       "\n",
       "    .dataframe tbody tr th {\n",
       "        vertical-align: top;\n",
       "    }\n",
       "\n",
       "    .dataframe thead th {\n",
       "        text-align: right;\n",
       "    }\n",
       "</style>\n",
       "<table border=\"1\" class=\"dataframe\">\n",
       "  <thead>\n",
       "    <tr style=\"text-align: right;\">\n",
       "      <th></th>\n",
       "      <th>數學</th>\n",
       "      <th>自然</th>\n",
       "      <th>社會</th>\n",
       "    </tr>\n",
       "  </thead>\n",
       "  <tbody>\n",
       "    <tr>\n",
       "      <th>王小明</th>\n",
       "      <td>78</td>\n",
       "      <td>83</td>\n",
       "      <td>70</td>\n",
       "    </tr>\n",
       "    <tr>\n",
       "      <th>李小美</th>\n",
       "      <td>76</td>\n",
       "      <td>93</td>\n",
       "      <td>56</td>\n",
       "    </tr>\n",
       "    <tr>\n",
       "      <th>陳大同</th>\n",
       "      <td>91</td>\n",
       "      <td>89</td>\n",
       "      <td>77</td>\n",
       "    </tr>\n",
       "  </tbody>\n",
       "</table>\n",
       "</div>"
      ],
      "text/plain": [
       "     數學  自然  社會\n",
       "王小明  78  83  70\n",
       "李小美  76  93  56\n",
       "陳大同  91  89  77"
      ]
     },
     "execution_count": 6,
     "metadata": {},
     "output_type": "execute_result"
    }
   ],
   "source": [
    "df.iloc[0:3, 2:5]"
   ]
  },
  {
   "cell_type": "code",
   "execution_count": null,
   "metadata": {
    "colab": {
     "base_uri": "https://localhost:8080/",
     "height": 241
    },
    "executionInfo": {
     "elapsed": 299,
     "status": "ok",
     "timestamp": 1725346655465,
     "user": {
      "displayName": "林志偉",
      "userId": "13117312472561068650"
     },
     "user_tz": -480
    },
    "id": "pG-aaEAMm9_P",
    "outputId": "ad6bf034-8cfd-48ba-a07e-7b8353aacc78"
   },
   "outputs": [],
   "source": [
    "df.iloc[2, :]"
   ]
  },
  {
   "cell_type": "code",
   "execution_count": null,
   "metadata": {
    "colab": {
     "base_uri": "https://localhost:8080/",
     "height": 112
    },
    "executionInfo": {
     "elapsed": 326,
     "status": "ok",
     "timestamp": 1725346678447,
     "user": {
      "displayName": "林志偉",
      "userId": "13117312472561068650"
     },
     "user_tz": -480
    },
    "id": "tZNGikjbnJH3",
    "outputId": "a2ad7de4-41ac-4bea-d4f1-8a4d483ed94c"
   },
   "outputs": [],
   "source": [
    "df.iloc[:2, 2:5]"
   ]
  },
  {
   "cell_type": "code",
   "execution_count": null,
   "metadata": {
    "colab": {
     "base_uri": "https://localhost:8080/",
     "height": 143
    },
    "executionInfo": {
     "elapsed": 342,
     "status": "ok",
     "timestamp": 1725346689082,
     "user": {
      "displayName": "林志偉",
      "userId": "13117312472561068650"
     },
     "user_tz": -480
    },
    "id": "GiJW166PnJKv",
    "outputId": "ebf58ec6-802d-4ee2-a1e5-9601f4ffa409"
   },
   "outputs": [],
   "source": [
    "df.iloc[1:, 2:5]"
   ]
  },
  {
   "cell_type": "markdown",
   "metadata": {
    "id": "mYBYPlmrnSK3"
   },
   "source": [
    "## 最前或最後幾列資料"
   ]
  },
  {
   "cell_type": "code",
   "execution_count": null,
   "metadata": {
    "colab": {
     "base_uri": "https://localhost:8080/",
     "height": 143
    },
    "executionInfo": {
     "elapsed": 392,
     "status": "ok",
     "timestamp": 1725346762972,
     "user": {
      "displayName": "林志偉",
      "userId": "13117312472561068650"
     },
     "user_tz": -480
    },
    "id": "l3HNcRtEnTln",
    "outputId": "824747e9-1842-4898-c2f5-4b03189a3a03"
   },
   "outputs": [],
   "source": [
    "df.head(3)"
   ]
  },
  {
   "cell_type": "code",
   "execution_count": null,
   "metadata": {
    "colab": {
     "base_uri": "https://localhost:8080/",
     "height": 112
    },
    "executionInfo": {
     "elapsed": 347,
     "status": "ok",
     "timestamp": 1725346767854,
     "user": {
      "displayName": "林志偉",
      "userId": "13117312472561068650"
     },
     "user_tz": -480
    },
    "id": "Ryiup88CnTpe",
    "outputId": "f0a5e9bd-bc57-444a-fef5-656f8db6e065"
   },
   "outputs": [],
   "source": [
    "df.tail(2)"
   ]
  },
  {
   "cell_type": "markdown",
   "metadata": {
    "id": "omv7qBXyDisD"
   },
   "source": [
    "## 資料排序"
   ]
  },
  {
   "cell_type": "code",
   "execution_count": 7,
   "metadata": {
    "id": "Doz74AlRnTs_"
   },
   "outputs": [
    {
     "data": {
      "application/vnd.microsoft.datawrangler.viewer.v0+json": {
       "columns": [
        {
         "name": "index",
         "rawType": "object",
         "type": "string"
        },
        {
         "name": "國文",
         "rawType": "int64",
         "type": "integer"
        },
        {
         "name": "英文",
         "rawType": "int64",
         "type": "integer"
        },
        {
         "name": "數學",
         "rawType": "int64",
         "type": "integer"
        },
        {
         "name": "自然",
         "rawType": "int64",
         "type": "integer"
        },
        {
         "name": "社會",
         "rawType": "int64",
         "type": "integer"
        }
       ],
       "ref": "3ad62a4d-ab46-466f-8ffa-8c3cbb5b137f",
       "rows": [
        [
         "李小美",
         "90",
         "72",
         "76",
         "93",
         "56"
        ],
        [
         "陳大同",
         "81",
         "85",
         "91",
         "89",
         "77"
        ],
        [
         "林小玉",
         "79",
         "53",
         "47",
         "94",
         "80"
        ],
        [
         "王小明",
         "65",
         "92",
         "78",
         "83",
         "70"
        ]
       ],
       "shape": {
        "columns": 5,
        "rows": 4
       }
      },
      "text/html": [
       "<div>\n",
       "<style scoped>\n",
       "    .dataframe tbody tr th:only-of-type {\n",
       "        vertical-align: middle;\n",
       "    }\n",
       "\n",
       "    .dataframe tbody tr th {\n",
       "        vertical-align: top;\n",
       "    }\n",
       "\n",
       "    .dataframe thead th {\n",
       "        text-align: right;\n",
       "    }\n",
       "</style>\n",
       "<table border=\"1\" class=\"dataframe\">\n",
       "  <thead>\n",
       "    <tr style=\"text-align: right;\">\n",
       "      <th></th>\n",
       "      <th>國文</th>\n",
       "      <th>英文</th>\n",
       "      <th>數學</th>\n",
       "      <th>自然</th>\n",
       "      <th>社會</th>\n",
       "    </tr>\n",
       "  </thead>\n",
       "  <tbody>\n",
       "    <tr>\n",
       "      <th>李小美</th>\n",
       "      <td>90</td>\n",
       "      <td>72</td>\n",
       "      <td>76</td>\n",
       "      <td>93</td>\n",
       "      <td>56</td>\n",
       "    </tr>\n",
       "    <tr>\n",
       "      <th>陳大同</th>\n",
       "      <td>81</td>\n",
       "      <td>85</td>\n",
       "      <td>91</td>\n",
       "      <td>89</td>\n",
       "      <td>77</td>\n",
       "    </tr>\n",
       "    <tr>\n",
       "      <th>林小玉</th>\n",
       "      <td>79</td>\n",
       "      <td>53</td>\n",
       "      <td>47</td>\n",
       "      <td>94</td>\n",
       "      <td>80</td>\n",
       "    </tr>\n",
       "    <tr>\n",
       "      <th>王小明</th>\n",
       "      <td>65</td>\n",
       "      <td>92</td>\n",
       "      <td>78</td>\n",
       "      <td>83</td>\n",
       "      <td>70</td>\n",
       "    </tr>\n",
       "  </tbody>\n",
       "</table>\n",
       "</div>"
      ],
      "text/plain": [
       "     國文  英文  數學  自然  社會\n",
       "李小美  90  72  76  93  56\n",
       "陳大同  81  85  91  89  77\n",
       "林小玉  79  53  47  94  80\n",
       "王小明  65  92  78  83  70"
      ]
     },
     "execution_count": 7,
     "metadata": {},
     "output_type": "execute_result"
    }
   ],
   "source": [
    "df.sort_values(by=\"國文\", ascending=False, inplace=True)\n",
    "df"
   ]
  },
  {
   "cell_type": "markdown",
   "metadata": {
    "id": "youPbOflYC65"
   },
   "source": [
    "## 條件取值"
   ]
  },
  {
   "cell_type": "code",
   "execution_count": 13,
   "metadata": {},
   "outputs": [
    {
     "data": {
      "application/vnd.microsoft.datawrangler.viewer.v0+json": {
       "columns": [
        {
         "name": "index",
         "rawType": "object",
         "type": "string"
        },
        {
         "name": "國文",
         "rawType": "int64",
         "type": "integer"
        },
        {
         "name": "英文",
         "rawType": "int64",
         "type": "integer"
        },
        {
         "name": "數學",
         "rawType": "int64",
         "type": "integer"
        },
        {
         "name": "自然",
         "rawType": "int64",
         "type": "integer"
        },
        {
         "name": "社會",
         "rawType": "int64",
         "type": "integer"
        }
       ],
       "ref": "e615732b-a8ac-431e-9f54-8c10a2feeb43",
       "rows": [
        [
         "林小玉",
         "79",
         "53",
         "47",
         "94",
         "80"
        ]
       ],
       "shape": {
        "columns": 5,
        "rows": 1
       }
      },
      "text/html": [
       "<div>\n",
       "<style scoped>\n",
       "    .dataframe tbody tr th:only-of-type {\n",
       "        vertical-align: middle;\n",
       "    }\n",
       "\n",
       "    .dataframe tbody tr th {\n",
       "        vertical-align: top;\n",
       "    }\n",
       "\n",
       "    .dataframe thead th {\n",
       "        text-align: right;\n",
       "    }\n",
       "</style>\n",
       "<table border=\"1\" class=\"dataframe\">\n",
       "  <thead>\n",
       "    <tr style=\"text-align: right;\">\n",
       "      <th></th>\n",
       "      <th>國文</th>\n",
       "      <th>英文</th>\n",
       "      <th>數學</th>\n",
       "      <th>自然</th>\n",
       "      <th>社會</th>\n",
       "    </tr>\n",
       "  </thead>\n",
       "  <tbody>\n",
       "    <tr>\n",
       "      <th>林小玉</th>\n",
       "      <td>79</td>\n",
       "      <td>53</td>\n",
       "      <td>47</td>\n",
       "      <td>94</td>\n",
       "      <td>80</td>\n",
       "    </tr>\n",
       "  </tbody>\n",
       "</table>\n",
       "</div>"
      ],
      "text/plain": [
       "     國文  英文  數學  自然  社會\n",
       "林小玉  79  53  47  94  80"
      ]
     },
     "execution_count": 13,
     "metadata": {},
     "output_type": "execute_result"
    }
   ],
   "source": [
    "df\n",
    "df['數學'] < 60\n",
    "df[df['數學'] < 60]"
   ]
  },
  {
   "cell_type": "code",
   "execution_count": 14,
   "metadata": {
    "colab": {
     "base_uri": "https://localhost:8080/",
     "height": 81
    },
    "executionInfo": {
     "elapsed": 345,
     "status": "ok",
     "timestamp": 1730272908788,
     "user": {
      "displayName": "林志偉",
      "userId": "13117312472561068650"
     },
     "user_tz": -480
    },
    "id": "J_D4IZwW6Hmm",
    "outputId": "a168d11c-6abf-48b9-9698-8035412d80a1"
   },
   "outputs": [
    {
     "data": {
      "application/vnd.microsoft.datawrangler.viewer.v0+json": {
       "columns": [
        {
         "name": "index",
         "rawType": "object",
         "type": "string"
        },
        {
         "name": "國文",
         "rawType": "int64",
         "type": "integer"
        },
        {
         "name": "英文",
         "rawType": "int64",
         "type": "integer"
        },
        {
         "name": "數學",
         "rawType": "int64",
         "type": "integer"
        },
        {
         "name": "自然",
         "rawType": "int64",
         "type": "integer"
        },
        {
         "name": "社會",
         "rawType": "int64",
         "type": "integer"
        }
       ],
       "ref": "8fd642da-0dcc-4503-b159-c6af6d8e0538",
       "rows": [
        [
         "李小美",
         "90",
         "72",
         "76",
         "93",
         "56"
        ],
        [
         "陳大同",
         "81",
         "85",
         "91",
         "89",
         "77"
        ]
       ],
       "shape": {
        "columns": 5,
        "rows": 2
       }
      },
      "text/html": [
       "<div>\n",
       "<style scoped>\n",
       "    .dataframe tbody tr th:only-of-type {\n",
       "        vertical-align: middle;\n",
       "    }\n",
       "\n",
       "    .dataframe tbody tr th {\n",
       "        vertical-align: top;\n",
       "    }\n",
       "\n",
       "    .dataframe thead th {\n",
       "        text-align: right;\n",
       "    }\n",
       "</style>\n",
       "<table border=\"1\" class=\"dataframe\">\n",
       "  <thead>\n",
       "    <tr style=\"text-align: right;\">\n",
       "      <th></th>\n",
       "      <th>國文</th>\n",
       "      <th>英文</th>\n",
       "      <th>數學</th>\n",
       "      <th>自然</th>\n",
       "      <th>社會</th>\n",
       "    </tr>\n",
       "  </thead>\n",
       "  <tbody>\n",
       "    <tr>\n",
       "      <th>李小美</th>\n",
       "      <td>90</td>\n",
       "      <td>72</td>\n",
       "      <td>76</td>\n",
       "      <td>93</td>\n",
       "      <td>56</td>\n",
       "    </tr>\n",
       "    <tr>\n",
       "      <th>陳大同</th>\n",
       "      <td>81</td>\n",
       "      <td>85</td>\n",
       "      <td>91</td>\n",
       "      <td>89</td>\n",
       "      <td>77</td>\n",
       "    </tr>\n",
       "  </tbody>\n",
       "</table>\n",
       "</div>"
      ],
      "text/plain": [
       "     國文  英文  數學  自然  社會\n",
       "李小美  90  72  76  93  56\n",
       "陳大同  81  85  91  89  77"
      ]
     },
     "execution_count": 14,
     "metadata": {},
     "output_type": "execute_result"
    }
   ],
   "source": [
    "#指定欄位以條件式判斷取值\n",
    "#boolean indexing: Using boolean array (series) to index select rows\n",
    "\n",
    "df[\"數學\"] < 60\n",
    "df[df[\"數學\"] < 60]\n",
    "df[(df[\"國文\"] >= 80) & (df[\"國文\"] < 90)]\n",
    "df['國文'] >= 80                #series\n",
    "df[df['國文'] >= 80]            # dataframe"
   ]
  },
  {
   "cell_type": "markdown",
   "metadata": {
    "id": "meWR9bNOWsNx"
   },
   "source": [
    "## 只要取所有的值"
   ]
  },
  {
   "cell_type": "code",
   "execution_count": null,
   "metadata": {
    "colab": {
     "base_uri": "https://localhost:8080/"
    },
    "executionInfo": {
     "elapsed": 352,
     "status": "ok",
     "timestamp": 1725347621848,
     "user": {
      "displayName": "林志偉",
      "userId": "13117312472561068650"
     },
     "user_tz": -480
    },
    "id": "aPiDib_PWw6x",
    "outputId": "4d33f3f6-b404-44ed-ce2c-48891b0937f3"
   },
   "outputs": [
    {
     "data": {
      "text/plain": [
       "pandas.core.indexes.base.Index"
      ]
     },
     "execution_count": 24,
     "metadata": {},
     "output_type": "execute_result"
    }
   ],
   "source": [
    "df.values # Get all values, ndarray\n",
    "df.index # Get all index labels\n",
    "df.columns # Get all column labels"
   ]
  },
  {
   "cell_type": "markdown",
   "metadata": {
    "id": "546ntkGoYc89"
   },
   "source": [
    "# 修改DataFrame資料"
   ]
  },
  {
   "cell_type": "code",
   "execution_count": 161,
   "metadata": {},
   "outputs": [],
   "source": [
    "name_list = ['王小明','李小美','陳大同','林小玉']\n",
    "subject_list = ['國文','英文','數學','自然','社會']\n",
    "score_list = [[65, 92, 78, 83, 70],\n",
    "               [90, 72, 76, 93, 56],\n",
    "               [81, 85, 91, 89, 77],\n",
    "               [79, 53, 47, 94, 80],]\n",
    "\n",
    "df = pd.DataFrame(score_list, index=name_list, columns=subject_list)"
   ]
  },
  {
   "cell_type": "code",
   "execution_count": 84,
   "metadata": {
    "colab": {
     "base_uri": "https://localhost:8080/",
     "height": 175
    },
    "executionInfo": {
     "elapsed": 574,
     "status": "ok",
     "timestamp": 1730273805832,
     "user": {
      "displayName": "林志偉",
      "userId": "13117312472561068650"
     },
     "user_tz": -480
    },
    "id": "u1ipXKm1DrXL",
    "outputId": "fa5c1291-736d-48ca-b499-8989ae540406"
   },
   "outputs": [],
   "source": [
    "# modify data values\n",
    "df.loc[\"陳大同\", \"社會\"] = 96  # 修改cell資料\n",
    "df.loc[\"王小明\", :] = 80  # 修改row資料\n",
    "df.loc['林小玉'] = [70, 50, 40, 40, 50] # 修改row資料\n",
    "df['數學'] = [60, 70, 80, 90]  # 修改column資料"
   ]
  },
  {
   "cell_type": "code",
   "execution_count": 162,
   "metadata": {
    "colab": {
     "base_uri": "https://localhost:8080/"
    },
    "executionInfo": {
     "elapsed": 336,
     "status": "ok",
     "timestamp": 1730273918567,
     "user": {
      "displayName": "林志偉",
      "userId": "13117312472561068650"
     },
     "user_tz": -480
    },
    "id": "zsgoE7VPs2J_",
    "outputId": "af3d625c-f2a6-40d7-c345-ed6906515cb7"
   },
   "outputs": [
    {
     "name": "stdout",
     "output_type": "stream",
     "text": [
      "<class 'pandas.core.frame.DataFrame'>\n",
      "Index: 4 entries, 王小明 to 林小玉\n",
      "Data columns (total 5 columns):\n",
      " #   Column  Non-Null Count  Dtype\n",
      "---  ------  --------------  -----\n",
      " 0   國文      4 non-null      int64\n",
      " 1   英文      4 non-null      int64\n",
      " 2   數學      4 non-null      int64\n",
      " 3   自然      4 non-null      int64\n",
      " 4   社會      4 non-null      int64\n",
      "dtypes: int64(5)\n",
      "memory usage: 192.0+ bytes\n",
      "<class 'pandas.core.frame.DataFrame'>\n",
      "Index: 4 entries, 王小明 to 林小玉\n",
      "Data columns (total 5 columns):\n",
      " #   Column  Non-Null Count  Dtype\n",
      "---  ------  --------------  -----\n",
      " 0   國文      4 non-null      int8 \n",
      " 1   英文      4 non-null      int64\n",
      " 2   數學      4 non-null      int64\n",
      " 3   自然      4 non-null      int64\n",
      " 4   社會      4 non-null      int64\n",
      "dtypes: int64(4), int8(1)\n",
      "memory usage: 164.0+ bytes\n"
     ]
    }
   ],
   "source": [
    "# modify data types\n",
    "df.info()\n",
    "df[\"國文\"] = df[\"國文\"].astype('int8')\n",
    "df.info()"
   ]
  },
  {
   "cell_type": "code",
   "execution_count": 71,
   "metadata": {
    "colab": {
     "base_uri": "https://localhost:8080/",
     "height": 175
    },
    "executionInfo": {
     "elapsed": 319,
     "status": "ok",
     "timestamp": 1730273980716,
     "user": {
      "displayName": "林志偉",
      "userId": "13117312472561068650"
     },
     "user_tz": -480
    },
    "id": "R7_LLk8Cs6SA",
    "outputId": "c145eab7-2015-4855-d57b-315a65c3725f"
   },
   "outputs": [],
   "source": [
    "# modify column name\n",
    "df.rename(columns = {\"英文\":\"外語\"}, inplace=True)"
   ]
  },
  {
   "cell_type": "markdown",
   "metadata": {},
   "source": [
    "# 新增DataFrame資料"
   ]
  },
  {
   "cell_type": "code",
   "execution_count": 85,
   "metadata": {},
   "outputs": [],
   "source": [
    "name_list = ['王小明','李小美','陳大同','林小玉']\n",
    "subject_list = ['國文','英文','數學','自然','社會']\n",
    "score_list = [[65, 92, 78, 83, 70],\n",
    "               [90, 72, 76, 93, 56],\n",
    "               [81, 85, 91, 89, 77],\n",
    "               [79, 53, 47, 94, 80],]\n",
    "\n",
    "df = pd.DataFrame(score_list, index=name_list, columns=subject_list)"
   ]
  },
  {
   "cell_type": "code",
   "execution_count": 88,
   "metadata": {
    "colab": {
     "base_uri": "https://localhost:8080/",
     "height": 175
    },
    "executionInfo": {
     "elapsed": 337,
     "status": "ok",
     "timestamp": 1730274009351,
     "user": {
      "displayName": "林志偉",
      "userId": "13117312472561068650"
     },
     "user_tz": -480
    },
    "id": "-IYUI9D1tkYS",
    "outputId": "1e050d9c-2a8a-45ac-9a2c-8cb6e934adb5"
   },
   "outputs": [
    {
     "data": {
      "application/vnd.microsoft.datawrangler.viewer.v0+json": {
       "columns": [
        {
         "name": "index",
         "rawType": "object",
         "type": "string"
        },
        {
         "name": "國文",
         "rawType": "int64",
         "type": "integer"
        },
        {
         "name": "英文",
         "rawType": "int64",
         "type": "integer"
        },
        {
         "name": "數學",
         "rawType": "int64",
         "type": "integer"
        },
        {
         "name": "自然",
         "rawType": "int64",
         "type": "integer"
        },
        {
         "name": "社會",
         "rawType": "int64",
         "type": "integer"
        },
        {
         "name": "總分",
         "rawType": "int64",
         "type": "integer"
        },
        {
         "name": "班級",
         "rawType": "object",
         "type": "string"
        },
        {
         "name": "備註",
         "rawType": "object",
         "type": "string"
        }
       ],
       "ref": "bb3664da-e956-4110-a72d-42a0cbb28b3f",
       "rows": [
        [
         "王小明",
         "65",
         "92",
         "78",
         "83",
         "70",
         "388",
         "甲班",
         "吃營養午餐"
        ],
        [
         "李小美",
         "90",
         "72",
         "76",
         "93",
         "56",
         "387",
         "甲班",
         "吃營養午餐"
        ],
        [
         "陳大同",
         "81",
         "85",
         "91",
         "89",
         "77",
         "423",
         "乙班",
         "吃營養午餐"
        ],
        [
         "林小玉",
         "79",
         "53",
         "47",
         "94",
         "80",
         "353",
         "乙班",
         "吃營養午餐"
        ]
       ],
       "shape": {
        "columns": 8,
        "rows": 4
       }
      },
      "text/html": [
       "<div>\n",
       "<style scoped>\n",
       "    .dataframe tbody tr th:only-of-type {\n",
       "        vertical-align: middle;\n",
       "    }\n",
       "\n",
       "    .dataframe tbody tr th {\n",
       "        vertical-align: top;\n",
       "    }\n",
       "\n",
       "    .dataframe thead th {\n",
       "        text-align: right;\n",
       "    }\n",
       "</style>\n",
       "<table border=\"1\" class=\"dataframe\">\n",
       "  <thead>\n",
       "    <tr style=\"text-align: right;\">\n",
       "      <th></th>\n",
       "      <th>國文</th>\n",
       "      <th>英文</th>\n",
       "      <th>數學</th>\n",
       "      <th>自然</th>\n",
       "      <th>社會</th>\n",
       "      <th>總分</th>\n",
       "      <th>班級</th>\n",
       "      <th>備註</th>\n",
       "    </tr>\n",
       "  </thead>\n",
       "  <tbody>\n",
       "    <tr>\n",
       "      <th>王小明</th>\n",
       "      <td>65</td>\n",
       "      <td>92</td>\n",
       "      <td>78</td>\n",
       "      <td>83</td>\n",
       "      <td>70</td>\n",
       "      <td>388</td>\n",
       "      <td>甲班</td>\n",
       "      <td>吃營養午餐</td>\n",
       "    </tr>\n",
       "    <tr>\n",
       "      <th>李小美</th>\n",
       "      <td>90</td>\n",
       "      <td>72</td>\n",
       "      <td>76</td>\n",
       "      <td>93</td>\n",
       "      <td>56</td>\n",
       "      <td>387</td>\n",
       "      <td>甲班</td>\n",
       "      <td>吃營養午餐</td>\n",
       "    </tr>\n",
       "    <tr>\n",
       "      <th>陳大同</th>\n",
       "      <td>81</td>\n",
       "      <td>85</td>\n",
       "      <td>91</td>\n",
       "      <td>89</td>\n",
       "      <td>77</td>\n",
       "      <td>423</td>\n",
       "      <td>乙班</td>\n",
       "      <td>吃營養午餐</td>\n",
       "    </tr>\n",
       "    <tr>\n",
       "      <th>林小玉</th>\n",
       "      <td>79</td>\n",
       "      <td>53</td>\n",
       "      <td>47</td>\n",
       "      <td>94</td>\n",
       "      <td>80</td>\n",
       "      <td>353</td>\n",
       "      <td>乙班</td>\n",
       "      <td>吃營養午餐</td>\n",
       "    </tr>\n",
       "  </tbody>\n",
       "</table>\n",
       "</div>"
      ],
      "text/plain": [
       "     國文  英文  數學  自然  社會   總分  班級     備註\n",
       "王小明  65  92  78  83  70  388  甲班  吃營養午餐\n",
       "李小美  90  72  76  93  56  387  甲班  吃營養午餐\n",
       "陳大同  81  85  91  89  77  423  乙班  吃營養午餐\n",
       "林小玉  79  53  47  94  80  353  乙班  吃營養午餐"
      ]
     },
     "execution_count": 88,
     "metadata": {},
     "output_type": "execute_result"
    }
   ],
   "source": [
    "# add columns\n",
    "df[\"總分\"] = df[\"國文\"] + df[\"英文\"] + df[\"數學\"] + df[\"自然\"] + df[\"社會\"] # with calculation\n",
    "df[\"班級\"] = [\"甲班\", \"甲班\", \"乙班\", \"乙班\"] # with list\n",
    "df['備註'] = '吃營養午餐'  # with string\n",
    "df"
   ]
  },
  {
   "cell_type": "code",
   "execution_count": 92,
   "metadata": {},
   "outputs": [],
   "source": [
    "# df.loc['陳彼得'] = [30, 35, 40, 45, 50]    # 少給數個欄位值\n",
    "df.loc['陳彼得'] = [30, 35, 40, 45, 50, 200, '丙班', '不吃午餐'] # 新增一列資料"
   ]
  },
  {
   "cell_type": "markdown",
   "metadata": {
    "id": "Vfhgpa60xatc"
   },
   "source": [
    "# 刪除 DataFrame 資料"
   ]
  },
  {
   "cell_type": "code",
   "execution_count": 98,
   "metadata": {},
   "outputs": [],
   "source": [
    "name_list = ['王小明','李小美','陳大同','林小玉']\n",
    "subject_list = ['國文','英文','數學','自然','社會']\n",
    "score_list = [[65, 92, 78, 83, 70],\n",
    "               [90, 72, 76, 93, 56],\n",
    "               [81, 85, 91, 89, 77],\n",
    "               [79, 53, 47, 94, 80],]\n",
    "\n",
    "df = pd.DataFrame(score_list, index=name_list, columns=subject_list)"
   ]
  },
  {
   "cell_type": "code",
   "execution_count": 99,
   "metadata": {
    "id": "34-PW98Wxa4T"
   },
   "outputs": [
    {
     "data": {
      "application/vnd.microsoft.datawrangler.viewer.v0+json": {
       "columns": [
        {
         "name": "index",
         "rawType": "object",
         "type": "string"
        },
        {
         "name": "國文",
         "rawType": "int64",
         "type": "integer"
        },
        {
         "name": "英文",
         "rawType": "int64",
         "type": "integer"
        },
        {
         "name": "數學",
         "rawType": "int64",
         "type": "integer"
        },
        {
         "name": "自然",
         "rawType": "int64",
         "type": "integer"
        },
        {
         "name": "社會",
         "rawType": "int64",
         "type": "integer"
        }
       ],
       "ref": "1eee0305-f799-466b-a8fa-0792e210921a",
       "rows": [
        [
         "李小美",
         "90",
         "72",
         "76",
         "93",
         "56"
        ],
        [
         "陳大同",
         "81",
         "85",
         "91",
         "89",
         "77"
        ],
        [
         "林小玉",
         "79",
         "53",
         "47",
         "94",
         "80"
        ]
       ],
       "shape": {
        "columns": 5,
        "rows": 3
       }
      },
      "text/html": [
       "<div>\n",
       "<style scoped>\n",
       "    .dataframe tbody tr th:only-of-type {\n",
       "        vertical-align: middle;\n",
       "    }\n",
       "\n",
       "    .dataframe tbody tr th {\n",
       "        vertical-align: top;\n",
       "    }\n",
       "\n",
       "    .dataframe thead th {\n",
       "        text-align: right;\n",
       "    }\n",
       "</style>\n",
       "<table border=\"1\" class=\"dataframe\">\n",
       "  <thead>\n",
       "    <tr style=\"text-align: right;\">\n",
       "      <th></th>\n",
       "      <th>國文</th>\n",
       "      <th>英文</th>\n",
       "      <th>數學</th>\n",
       "      <th>自然</th>\n",
       "      <th>社會</th>\n",
       "    </tr>\n",
       "  </thead>\n",
       "  <tbody>\n",
       "    <tr>\n",
       "      <th>李小美</th>\n",
       "      <td>90</td>\n",
       "      <td>72</td>\n",
       "      <td>76</td>\n",
       "      <td>93</td>\n",
       "      <td>56</td>\n",
       "    </tr>\n",
       "    <tr>\n",
       "      <th>陳大同</th>\n",
       "      <td>81</td>\n",
       "      <td>85</td>\n",
       "      <td>91</td>\n",
       "      <td>89</td>\n",
       "      <td>77</td>\n",
       "    </tr>\n",
       "    <tr>\n",
       "      <th>林小玉</th>\n",
       "      <td>79</td>\n",
       "      <td>53</td>\n",
       "      <td>47</td>\n",
       "      <td>94</td>\n",
       "      <td>80</td>\n",
       "    </tr>\n",
       "  </tbody>\n",
       "</table>\n",
       "</div>"
      ],
      "text/plain": [
       "     國文  英文  數學  自然  社會\n",
       "李小美  90  72  76  93  56\n",
       "陳大同  81  85  91  89  77\n",
       "林小玉  79  53  47  94  80"
      ]
     },
     "execution_count": 99,
     "metadata": {},
     "output_type": "execute_result"
    }
   ],
   "source": [
    "df.drop(\"王小明\", axis = 0, inplace=True)          #CRUD Create, Read, Update, Delete\n",
    "df"
   ]
  },
  {
   "cell_type": "code",
   "execution_count": 100,
   "metadata": {
    "id": "43Dyd3Daxa7m"
   },
   "outputs": [
    {
     "data": {
      "application/vnd.microsoft.datawrangler.viewer.v0+json": {
       "columns": [
        {
         "name": "index",
         "rawType": "object",
         "type": "string"
        },
        {
         "name": "國文",
         "rawType": "int64",
         "type": "integer"
        },
        {
         "name": "英文",
         "rawType": "int64",
         "type": "integer"
        },
        {
         "name": "自然",
         "rawType": "int64",
         "type": "integer"
        },
        {
         "name": "社會",
         "rawType": "int64",
         "type": "integer"
        }
       ],
       "ref": "06a918af-709d-41b2-929c-6eebd947a4da",
       "rows": [
        [
         "李小美",
         "90",
         "72",
         "93",
         "56"
        ],
        [
         "陳大同",
         "81",
         "85",
         "89",
         "77"
        ],
        [
         "林小玉",
         "79",
         "53",
         "94",
         "80"
        ]
       ],
       "shape": {
        "columns": 4,
        "rows": 3
       }
      },
      "text/html": [
       "<div>\n",
       "<style scoped>\n",
       "    .dataframe tbody tr th:only-of-type {\n",
       "        vertical-align: middle;\n",
       "    }\n",
       "\n",
       "    .dataframe tbody tr th {\n",
       "        vertical-align: top;\n",
       "    }\n",
       "\n",
       "    .dataframe thead th {\n",
       "        text-align: right;\n",
       "    }\n",
       "</style>\n",
       "<table border=\"1\" class=\"dataframe\">\n",
       "  <thead>\n",
       "    <tr style=\"text-align: right;\">\n",
       "      <th></th>\n",
       "      <th>國文</th>\n",
       "      <th>英文</th>\n",
       "      <th>自然</th>\n",
       "      <th>社會</th>\n",
       "    </tr>\n",
       "  </thead>\n",
       "  <tbody>\n",
       "    <tr>\n",
       "      <th>李小美</th>\n",
       "      <td>90</td>\n",
       "      <td>72</td>\n",
       "      <td>93</td>\n",
       "      <td>56</td>\n",
       "    </tr>\n",
       "    <tr>\n",
       "      <th>陳大同</th>\n",
       "      <td>81</td>\n",
       "      <td>85</td>\n",
       "      <td>89</td>\n",
       "      <td>77</td>\n",
       "    </tr>\n",
       "    <tr>\n",
       "      <th>林小玉</th>\n",
       "      <td>79</td>\n",
       "      <td>53</td>\n",
       "      <td>94</td>\n",
       "      <td>80</td>\n",
       "    </tr>\n",
       "  </tbody>\n",
       "</table>\n",
       "</div>"
      ],
      "text/plain": [
       "     國文  英文  自然  社會\n",
       "李小美  90  72  93  56\n",
       "陳大同  81  85  89  77\n",
       "林小玉  79  53  94  80"
      ]
     },
     "execution_count": 100,
     "metadata": {},
     "output_type": "execute_result"
    }
   ],
   "source": [
    "df.drop(\"數學\", axis=1, inplace=True)\n",
    "df"
   ]
  },
  {
   "cell_type": "markdown",
   "metadata": {
    "id": "2KapRhABuF-n"
   },
   "source": [
    "# 讀寫外部檔案"
   ]
  },
  {
   "cell_type": "code",
   "execution_count": 102,
   "metadata": {
    "id": "EzzXwf2ghR2s"
   },
   "outputs": [],
   "source": [
    "# 寫到CSV檔案\n",
    "from pathlib import Path\n",
    "target_csv_path = Path.cwd() / '..' / 'files' / 'csv' / 'scores.csv'\n",
    "df.to_csv(target_csv_path, encoding='utf-8-sig')"
   ]
  },
  {
   "cell_type": "markdown",
   "metadata": {
    "id": "9ByyDDEWlJWp"
   },
   "source": [
    "# 資料清洗 (Customer.csv)"
   ]
  },
  {
   "cell_type": "markdown",
   "metadata": {
    "id": "hqqxbYErlLly"
   },
   "source": [
    "## 查詢空值：isnull()\n"
   ]
  },
  {
   "cell_type": "code",
   "execution_count": 164,
   "metadata": {
    "colab": {
     "base_uri": "https://localhost:8080/"
    },
    "executionInfo": {
     "elapsed": 317,
     "status": "ok",
     "timestamp": 1730274380802,
     "user": {
      "displayName": "林志偉",
      "userId": "13117312472561068650"
     },
     "user_tz": -480
    },
    "id": "nJnji-mnlLyK",
    "outputId": "23c918fa-d96b-4415-ca88-d4b5d7303ffb"
   },
   "outputs": [
    {
     "data": {
      "application/vnd.microsoft.datawrangler.viewer.v0+json": {
       "columns": [
        {
         "name": "index",
         "rawType": "int64",
         "type": "integer"
        },
        {
         "name": "id",
         "rawType": "int64",
         "type": "integer"
        },
        {
         "name": "name",
         "rawType": "object",
         "type": "string"
        },
        {
         "name": "gender",
         "rawType": "object",
         "type": "unknown"
        },
        {
         "name": "age",
         "rawType": "float64",
         "type": "float"
        },
        {
         "name": "area",
         "rawType": "object",
         "type": "string"
        },
        {
         "name": "job",
         "rawType": "object",
         "type": "string"
        }
       ],
       "ref": "081e4377-7904-4faf-afca-d46876b38c43",
       "rows": [
        [
         "0",
         "1700001",
         "李國發",
         "Male",
         "21.0",
         "新北市三重區",
         " 金融業 和房地產 "
        ],
        [
         "1",
         "1700002",
         "吳俊諺",
         null,
         null,
         "臺北市文山區",
         " 金融業和房地產"
        ],
        [
         "2",
         "1700003",
         "蔡俊毅",
         null,
         null,
         "臺北市文山區",
         "教育體育  文化"
        ],
        [
         "3",
         "1700004",
         "姚鈺迪",
         "Female",
         "34.0",
         "基隆市中正區",
         " 住宿 和 餐飲業"
        ],
        [
         "4",
         "1700004",
         "姚鈺迪",
         "Female",
         "34.0",
         "基隆市中正區",
         " 住宿和餐飲業"
        ]
       ],
       "shape": {
        "columns": 6,
        "rows": 5
       }
      },
      "text/html": [
       "<div>\n",
       "<style scoped>\n",
       "    .dataframe tbody tr th:only-of-type {\n",
       "        vertical-align: middle;\n",
       "    }\n",
       "\n",
       "    .dataframe tbody tr th {\n",
       "        vertical-align: top;\n",
       "    }\n",
       "\n",
       "    .dataframe thead th {\n",
       "        text-align: right;\n",
       "    }\n",
       "</style>\n",
       "<table border=\"1\" class=\"dataframe\">\n",
       "  <thead>\n",
       "    <tr style=\"text-align: right;\">\n",
       "      <th></th>\n",
       "      <th>id</th>\n",
       "      <th>name</th>\n",
       "      <th>gender</th>\n",
       "      <th>age</th>\n",
       "      <th>area</th>\n",
       "      <th>job</th>\n",
       "    </tr>\n",
       "  </thead>\n",
       "  <tbody>\n",
       "    <tr>\n",
       "      <th>0</th>\n",
       "      <td>1700001</td>\n",
       "      <td>李國發</td>\n",
       "      <td>Male</td>\n",
       "      <td>21.0</td>\n",
       "      <td>新北市三重區</td>\n",
       "      <td>金融業 和房地產</td>\n",
       "    </tr>\n",
       "    <tr>\n",
       "      <th>1</th>\n",
       "      <td>1700002</td>\n",
       "      <td>吳俊諺</td>\n",
       "      <td>NaN</td>\n",
       "      <td>NaN</td>\n",
       "      <td>臺北市文山區</td>\n",
       "      <td>金融業和房地產</td>\n",
       "    </tr>\n",
       "    <tr>\n",
       "      <th>2</th>\n",
       "      <td>1700003</td>\n",
       "      <td>蔡俊毅</td>\n",
       "      <td>NaN</td>\n",
       "      <td>NaN</td>\n",
       "      <td>臺北市文山區</td>\n",
       "      <td>教育體育  文化</td>\n",
       "    </tr>\n",
       "    <tr>\n",
       "      <th>3</th>\n",
       "      <td>1700004</td>\n",
       "      <td>姚鈺迪</td>\n",
       "      <td>Female</td>\n",
       "      <td>34.0</td>\n",
       "      <td>基隆市中正區</td>\n",
       "      <td>住宿 和 餐飲業</td>\n",
       "    </tr>\n",
       "    <tr>\n",
       "      <th>4</th>\n",
       "      <td>1700004</td>\n",
       "      <td>姚鈺迪</td>\n",
       "      <td>Female</td>\n",
       "      <td>34.0</td>\n",
       "      <td>基隆市中正區</td>\n",
       "      <td>住宿和餐飲業</td>\n",
       "    </tr>\n",
       "  </tbody>\n",
       "</table>\n",
       "</div>"
      ],
      "text/plain": [
       "        id name  gender   age    area         job\n",
       "0  1700001  李國發    Male  21.0  新北市三重區   金融業 和房地產 \n",
       "1  1700002  吳俊諺     NaN   NaN  臺北市文山區     金融業和房地產\n",
       "2  1700003  蔡俊毅     NaN   NaN  臺北市文山區    教育體育  文化\n",
       "3  1700004  姚鈺迪  Female  34.0  基隆市中正區    住宿 和 餐飲業\n",
       "4  1700004  姚鈺迪  Female  34.0  基隆市中正區      住宿和餐飲業"
      ]
     },
     "execution_count": 164,
     "metadata": {},
     "output_type": "execute_result"
    }
   ],
   "source": [
    "import pandas as pd\n",
    "from pathlib import Path\n",
    "\n",
    "source_csv_path = Path.cwd() / '..' / 'files' / 'csv' / 'customer.csv'\n",
    "# 讀取資料\n",
    "df = pd.read_csv(source_csv_path)\n",
    "df.head()"
   ]
  },
  {
   "cell_type": "code",
   "execution_count": 135,
   "metadata": {},
   "outputs": [
    {
     "name": "stdout",
     "output_type": "stream",
     "text": [
      "有空值的 column 有幾個: 3\n",
      "有空值的 row 有幾個: 8\n"
     ]
    },
    {
     "data": {
      "application/vnd.microsoft.datawrangler.viewer.v0+json": {
       "columns": [
        {
         "name": "index",
         "rawType": "int64",
         "type": "integer"
        },
        {
         "name": "id",
         "rawType": "int64",
         "type": "integer"
        },
        {
         "name": "name",
         "rawType": "object",
         "type": "string"
        },
        {
         "name": "gender",
         "rawType": "object",
         "type": "unknown"
        },
        {
         "name": "age",
         "rawType": "float64",
         "type": "float"
        },
        {
         "name": "area",
         "rawType": "object",
         "type": "unknown"
        },
        {
         "name": "job",
         "rawType": "object",
         "type": "string"
        }
       ],
       "ref": "f13f82cf-3596-4681-9db1-d5d4512466d6",
       "rows": [
        [
         "1",
         "1700002",
         "吳俊諺",
         null,
         null,
         "臺北市文山區",
         " 金融業和房地產"
        ],
        [
         "2",
         "1700003",
         "蔡俊毅",
         null,
         null,
         "臺北市文山區",
         "教育體育  文化"
        ],
        [
         "6",
         "1700006",
         "蔡登意",
         null,
         null,
         null,
         " 金融業和房地產"
        ]
       ],
       "shape": {
        "columns": 6,
        "rows": 3
       }
      },
      "text/html": [
       "<div>\n",
       "<style scoped>\n",
       "    .dataframe tbody tr th:only-of-type {\n",
       "        vertical-align: middle;\n",
       "    }\n",
       "\n",
       "    .dataframe tbody tr th {\n",
       "        vertical-align: top;\n",
       "    }\n",
       "\n",
       "    .dataframe thead th {\n",
       "        text-align: right;\n",
       "    }\n",
       "</style>\n",
       "<table border=\"1\" class=\"dataframe\">\n",
       "  <thead>\n",
       "    <tr style=\"text-align: right;\">\n",
       "      <th></th>\n",
       "      <th>id</th>\n",
       "      <th>name</th>\n",
       "      <th>gender</th>\n",
       "      <th>age</th>\n",
       "      <th>area</th>\n",
       "      <th>job</th>\n",
       "    </tr>\n",
       "  </thead>\n",
       "  <tbody>\n",
       "    <tr>\n",
       "      <th>1</th>\n",
       "      <td>1700002</td>\n",
       "      <td>吳俊諺</td>\n",
       "      <td>NaN</td>\n",
       "      <td>NaN</td>\n",
       "      <td>臺北市文山區</td>\n",
       "      <td>金融業和房地產</td>\n",
       "    </tr>\n",
       "    <tr>\n",
       "      <th>2</th>\n",
       "      <td>1700003</td>\n",
       "      <td>蔡俊毅</td>\n",
       "      <td>NaN</td>\n",
       "      <td>NaN</td>\n",
       "      <td>臺北市文山區</td>\n",
       "      <td>教育體育  文化</td>\n",
       "    </tr>\n",
       "    <tr>\n",
       "      <th>6</th>\n",
       "      <td>1700006</td>\n",
       "      <td>蔡登意</td>\n",
       "      <td>NaN</td>\n",
       "      <td>NaN</td>\n",
       "      <td>NaN</td>\n",
       "      <td>金融業和房地產</td>\n",
       "    </tr>\n",
       "  </tbody>\n",
       "</table>\n",
       "</div>"
      ],
      "text/plain": [
       "        id name gender  age    area       job\n",
       "1  1700002  吳俊諺    NaN  NaN  臺北市文山區   金融業和房地產\n",
       "2  1700003  蔡俊毅    NaN  NaN  臺北市文山區  教育體育  文化\n",
       "6  1700006  蔡登意    NaN  NaN     NaN   金融業和房地產"
      ]
     },
     "execution_count": 135,
     "metadata": {},
     "output_type": "execute_result"
    }
   ],
   "source": [
    "# 空值的處理 (How good data looks like)\n",
    "# df.isnull() # True:空值 False:非空值\n",
    "# df.isnull().sum() # 每個欄位有多少空值數\n",
    "print('有空值的 column 有幾個:', df.isnull().any(axis=0).sum())\n",
    "print('有空值的 row 有幾個:', df.isnull().any(axis=1).sum())\n",
    "df[df['age'].isnull()] # 顯示age欄有空值的row"
   ]
  },
  {
   "cell_type": "markdown",
   "metadata": {
    "id": "RM5zqK2ElZBD"
   },
   "source": [
    "## 空欄填值：fillna()"
   ]
  },
  {
   "cell_type": "code",
   "execution_count": null,
   "metadata": {
    "colab": {
     "base_uri": "https://localhost:8080/",
     "height": 206
    },
    "executionInfo": {
     "elapsed": 354,
     "status": "ok",
     "timestamp": 1730274537446,
     "user": {
      "displayName": "林志偉",
      "userId": "13117312472561068650"
     },
     "user_tz": -480
    },
    "id": "XMA8ZgXUlL2x",
    "outputId": "6465cb4c-96d5-4b3d-e952-2e3bc37bea44"
   },
   "outputs": [],
   "source": [
    "# 將age的空值填入0\n",
    "dfcopy = df.copy()\n",
    "dfcopy['age'] = dfcopy['age'].fillna(value=0)\n",
    "dfcopy.head()"
   ]
  },
  {
   "cell_type": "code",
   "execution_count": null,
   "metadata": {
    "colab": {
     "base_uri": "https://localhost:8080/",
     "height": 206
    },
    "executionInfo": {
     "elapsed": 312,
     "status": "ok",
     "timestamp": 1730274677579,
     "user": {
      "displayName": "林志偉",
      "userId": "13117312472561068650"
     },
     "user_tz": -480
    },
    "id": "wog-51Valecx",
    "outputId": "ce599fff-8168-4c1f-e609-c50f35468c81"
   },
   "outputs": [],
   "source": [
    "# 將age的空值填入平均值\n",
    "dfcopy = df.copy()\n",
    "dfcopy['age'] = dfcopy['age'].fillna(value = dfcopy['age'].mean())\n",
    "dfcopy.head()"
   ]
  },
  {
   "cell_type": "code",
   "execution_count": 151,
   "metadata": {
    "colab": {
     "base_uri": "https://localhost:8080/",
     "height": 454
    },
    "executionInfo": {
     "elapsed": 315,
     "status": "ok",
     "timestamp": 1730274771463,
     "user": {
      "displayName": "林志偉",
      "userId": "13117312472561068650"
     },
     "user_tz": -480
    },
    "id": "VIxvb84WmxBp",
    "outputId": "42da70bc-710a-4226-c88a-7f8c3708c6d6"
   },
   "outputs": [],
   "source": [
    "# 以前一個值往下填ffill或後一個值往上填bfill\n",
    "dfcopy = df.copy()\n",
    "dfcopy['gender'] = dfcopy['gender'].ffill()\n",
    "dfcopy['area'] = dfcopy['area'].bfill()"
   ]
  },
  {
   "cell_type": "code",
   "execution_count": null,
   "metadata": {
    "colab": {
     "base_uri": "https://localhost:8080/"
    },
    "executionInfo": {
     "elapsed": 305,
     "status": "ok",
     "timestamp": 1730274853326,
     "user": {
      "displayName": "林志偉",
      "userId": "13117312472561068650"
     },
     "user_tz": -480
    },
    "id": "zlvzJ7mem9jR",
    "outputId": "4af7f066-bf39-49d9-deca-13a33e0137c2"
   },
   "outputs": [
    {
     "data": {
      "application/vnd.microsoft.datawrangler.viewer.v0+json": {
       "columns": [
        {
         "name": "index",
         "rawType": "int64",
         "type": "integer"
        },
        {
         "name": "id",
         "rawType": "int64",
         "type": "integer"
        },
        {
         "name": "name",
         "rawType": "object",
         "type": "string"
        },
        {
         "name": "gender",
         "rawType": "object",
         "type": "string"
        },
        {
         "name": "age",
         "rawType": "float64",
         "type": "float"
        },
        {
         "name": "area",
         "rawType": "object",
         "type": "string"
        },
        {
         "name": "job",
         "rawType": "object",
         "type": "string"
        }
       ],
       "ref": "afd843f1-56fe-42d0-b34f-9e584d72e630",
       "rows": [
        [
         "0",
         "1700001",
         "李國發",
         "Male",
         "21.0",
         "新北市三重區",
         " 金融業 和房地產 "
        ],
        [
         "3",
         "1700004",
         "姚鈺迪",
         "Female",
         "34.0",
         "基隆市中正區",
         " 住宿 和 餐飲業"
        ],
        [
         "4",
         "1700004",
         "姚鈺迪",
         "Female",
         "34.0",
         "基隆市中正區",
         " 住宿和餐飲業"
        ],
        [
         "5",
         "1700005",
         "袁劭彥",
         "Male",
         "42.0",
         "臺北市文山區",
         " 金融業和房地產"
        ],
        [
         "11",
         "1700011",
         "許合蓉",
         "Female",
         "61.0",
         "新北市三重區",
         "住宿和餐飲業"
        ],
        [
         "12",
         "1700012",
         "武家豪",
         "Male",
         "53.0",
         "新北市三重區",
         "農林牧漁業"
        ],
        [
         "14",
         "1700014",
         "周聿綠",
         "Female",
         "57.0",
         "基隆市中正區",
         "金融業和房地產"
        ]
       ],
       "shape": {
        "columns": 6,
        "rows": 7
       }
      },
      "text/html": [
       "<div>\n",
       "<style scoped>\n",
       "    .dataframe tbody tr th:only-of-type {\n",
       "        vertical-align: middle;\n",
       "    }\n",
       "\n",
       "    .dataframe tbody tr th {\n",
       "        vertical-align: top;\n",
       "    }\n",
       "\n",
       "    .dataframe thead th {\n",
       "        text-align: right;\n",
       "    }\n",
       "</style>\n",
       "<table border=\"1\" class=\"dataframe\">\n",
       "  <thead>\n",
       "    <tr style=\"text-align: right;\">\n",
       "      <th></th>\n",
       "      <th>id</th>\n",
       "      <th>name</th>\n",
       "      <th>gender</th>\n",
       "      <th>age</th>\n",
       "      <th>area</th>\n",
       "      <th>job</th>\n",
       "    </tr>\n",
       "  </thead>\n",
       "  <tbody>\n",
       "    <tr>\n",
       "      <th>0</th>\n",
       "      <td>1700001</td>\n",
       "      <td>李國發</td>\n",
       "      <td>Male</td>\n",
       "      <td>21.0</td>\n",
       "      <td>新北市三重區</td>\n",
       "      <td>金融業 和房地產</td>\n",
       "    </tr>\n",
       "    <tr>\n",
       "      <th>3</th>\n",
       "      <td>1700004</td>\n",
       "      <td>姚鈺迪</td>\n",
       "      <td>Female</td>\n",
       "      <td>34.0</td>\n",
       "      <td>基隆市中正區</td>\n",
       "      <td>住宿 和 餐飲業</td>\n",
       "    </tr>\n",
       "    <tr>\n",
       "      <th>4</th>\n",
       "      <td>1700004</td>\n",
       "      <td>姚鈺迪</td>\n",
       "      <td>Female</td>\n",
       "      <td>34.0</td>\n",
       "      <td>基隆市中正區</td>\n",
       "      <td>住宿和餐飲業</td>\n",
       "    </tr>\n",
       "    <tr>\n",
       "      <th>5</th>\n",
       "      <td>1700005</td>\n",
       "      <td>袁劭彥</td>\n",
       "      <td>Male</td>\n",
       "      <td>42.0</td>\n",
       "      <td>臺北市文山區</td>\n",
       "      <td>金融業和房地產</td>\n",
       "    </tr>\n",
       "    <tr>\n",
       "      <th>11</th>\n",
       "      <td>1700011</td>\n",
       "      <td>許合蓉</td>\n",
       "      <td>Female</td>\n",
       "      <td>61.0</td>\n",
       "      <td>新北市三重區</td>\n",
       "      <td>住宿和餐飲業</td>\n",
       "    </tr>\n",
       "    <tr>\n",
       "      <th>12</th>\n",
       "      <td>1700012</td>\n",
       "      <td>武家豪</td>\n",
       "      <td>Male</td>\n",
       "      <td>53.0</td>\n",
       "      <td>新北市三重區</td>\n",
       "      <td>農林牧漁業</td>\n",
       "    </tr>\n",
       "    <tr>\n",
       "      <th>14</th>\n",
       "      <td>1700014</td>\n",
       "      <td>周聿綠</td>\n",
       "      <td>Female</td>\n",
       "      <td>57.0</td>\n",
       "      <td>基隆市中正區</td>\n",
       "      <td>金融業和房地產</td>\n",
       "    </tr>\n",
       "  </tbody>\n",
       "</table>\n",
       "</div>"
      ],
      "text/plain": [
       "         id name  gender   age    area         job\n",
       "0   1700001  李國發    Male  21.0  新北市三重區   金融業 和房地產 \n",
       "3   1700004  姚鈺迪  Female  34.0  基隆市中正區    住宿 和 餐飲業\n",
       "4   1700004  姚鈺迪  Female  34.0  基隆市中正區      住宿和餐飲業\n",
       "5   1700005  袁劭彥    Male  42.0  臺北市文山區     金融業和房地產\n",
       "11  1700011  許合蓉  Female  61.0  新北市三重區      住宿和餐飲業\n",
       "12  1700012  武家豪    Male  53.0  新北市三重區       農林牧漁業\n",
       "14  1700014  周聿綠  Female  57.0  基隆市中正區     金融業和房地產"
      ]
     },
     "execution_count": 146,
     "metadata": {},
     "output_type": "execute_result"
    }
   ],
   "source": [
    "# 刪除不完整的資料\n",
    "dfcopy = df.copy()\n",
    "dfcopy.dropna(inplace=True)"
   ]
  },
  {
   "cell_type": "markdown",
   "metadata": {
    "id": "BNVuXNtmm9wh"
   },
   "source": [
    "## 去除重複資料"
   ]
  },
  {
   "cell_type": "code",
   "execution_count": 153,
   "metadata": {
    "colab": {
     "base_uri": "https://localhost:8080/",
     "height": 206
    },
    "executionInfo": {
     "elapsed": 329,
     "status": "ok",
     "timestamp": 1730275005437,
     "user": {
      "displayName": "林志偉",
      "userId": "13117312472561068650"
     },
     "user_tz": -480
    },
    "id": "Uf3aw8R5m93a",
    "outputId": "57578cc9-6910-4123-ad10-0f95ad9612ea"
   },
   "outputs": [],
   "source": [
    "# 去除重複的記錄\n",
    "dfcopy = df.copy()\n",
    "dfcopy.drop_duplicates(subset='id', keep='first', inplace=True)"
   ]
  },
  {
   "cell_type": "markdown",
   "metadata": {
    "id": "1eafKVcPnT5q"
   },
   "source": [
    "## 資料內容的置換"
   ]
  },
  {
   "cell_type": "code",
   "execution_count": 156,
   "metadata": {
    "colab": {
     "base_uri": "https://localhost:8080/",
     "height": 206
    },
    "executionInfo": {
     "elapsed": 320,
     "status": "ok",
     "timestamp": 1730275203398,
     "user": {
      "displayName": "林志偉",
      "userId": "13117312472561068650"
     },
     "user_tz": -480
    },
    "id": "3qi6aE0XnUB7",
    "outputId": "1d427da5-bdd3-4361-f2f3-cdc61a46bc2f"
   },
   "outputs": [],
   "source": [
    "# 去除欄位中的空白\n",
    "dfcopy = df.copy()\n",
    "dfcopy['job'] = dfcopy['job'].str.strip() # 取出字串字面值, 去除前後空白\n",
    "dfcopy['job'] = dfcopy['job'].str.replace(' ', '')"
   ]
  },
  {
   "cell_type": "markdown",
   "metadata": {
    "id": "FjbG0tUqndFx"
   },
   "source": [
    "## 調整資料的格式"
   ]
  },
  {
   "cell_type": "code",
   "execution_count": 165,
   "metadata": {
    "colab": {
     "base_uri": "https://localhost:8080/"
    },
    "executionInfo": {
     "elapsed": 337,
     "status": "ok",
     "timestamp": 1730275266030,
     "user": {
      "displayName": "林志偉",
      "userId": "13117312472561068650"
     },
     "user_tz": -480
    },
    "id": "E9ppTFdBndOp",
    "outputId": "2ba32614-2826-47da-c028-aed91389dd33"
   },
   "outputs": [
    {
     "name": "stdout",
     "output_type": "stream",
     "text": [
      "<class 'pandas.core.frame.DataFrame'>\n",
      "RangeIndex: 15 entries, 0 to 14\n",
      "Data columns (total 6 columns):\n",
      " #   Column  Non-Null Count  Dtype  \n",
      "---  ------  --------------  -----  \n",
      " 0   id      15 non-null     int64  \n",
      " 1   name    15 non-null     object \n",
      " 2   gender  7 non-null      object \n",
      " 3   age     12 non-null     float64\n",
      " 4   area    12 non-null     object \n",
      " 5   job     15 non-null     object \n",
      "dtypes: float64(1), int64(1), object(4)\n",
      "memory usage: 852.0+ bytes\n",
      "None\n",
      "<class 'pandas.core.frame.DataFrame'>\n",
      "RangeIndex: 15 entries, 0 to 14\n",
      "Data columns (total 6 columns):\n",
      " #   Column  Non-Null Count  Dtype \n",
      "---  ------  --------------  ----- \n",
      " 0   id      15 non-null     int64 \n",
      " 1   name    15 non-null     object\n",
      " 2   gender  7 non-null      object\n",
      " 3   age     15 non-null     int8  \n",
      " 4   area    12 non-null     object\n",
      " 5   job     15 non-null     object\n",
      "dtypes: int64(1), int8(1), object(4)\n",
      "memory usage: 747.0+ bytes\n",
      "None\n"
     ]
    }
   ],
   "source": [
    "# 轉換值的格式\n",
    "dfcopy = df.copy()\n",
    "print(dfcopy.info())\n",
    "dfcopy['age'] = dfcopy['age'].fillna(value=0).astype('int8') # 先填入0再轉型\n",
    "print(dfcopy.info())"
   ]
  },
  {
   "cell_type": "markdown",
   "metadata": {
    "id": "nnxMQ8Y82x9A"
   },
   "source": [
    "# 資料篩選"
   ]
  },
  {
   "cell_type": "code",
   "execution_count": null,
   "metadata": {
    "colab": {
     "base_uri": "https://localhost:8080/",
     "height": 143
    },
    "executionInfo": {
     "elapsed": 314,
     "status": "ok",
     "timestamp": 1730275332948,
     "user": {
      "displayName": "林志偉",
      "userId": "13117312472561068650"
     },
     "user_tz": -480
    },
    "id": "3VTUhUbo2cGJ",
    "outputId": "55804606-8f93-4db4-ff90-3479425421a9"
   },
   "outputs": [],
   "source": [
    "# 篩選女性的資料\n",
    "df_sample = df.copy()\n",
    "df_female = df_sample[(df_sample['gender'] == 'Female')]\n",
    "df_female"
   ]
  },
  {
   "cell_type": "code",
   "execution_count": null,
   "metadata": {
    "colab": {
     "base_uri": "https://localhost:8080/"
    },
    "executionInfo": {
     "elapsed": 308,
     "status": "ok",
     "timestamp": 1730275487073,
     "user": {
      "displayName": "林志偉",
      "userId": "13117312472561068650"
     },
     "user_tz": -480
    },
    "id": "EO7olxpg2-Ww",
    "outputId": "3169dc42-9252-4948-a9f1-a444a432eb44"
   },
   "outputs": [],
   "source": [
    "# 篩選男性且大於50歲的資料\n",
    "# print(df_sample[(df_sample['gender'] == 'Male') & (df_sample['age'] > 50)])\n",
    "\n",
    "# 篩選住在新北市三重區或基隆市中正區的資料\n",
    "df_sample = df.copy()\n",
    "print(df_sample[(df_sample['area'] == '新北市三重區') | (df_sample['area'] == '基隆市中正區')])"
   ]
  },
  {
   "cell_type": "code",
   "execution_count": null,
   "metadata": {
    "colab": {
     "base_uri": "https://localhost:8080/",
     "height": 520
    },
    "executionInfo": {
     "elapsed": 2,
     "status": "ok",
     "timestamp": 1730275535897,
     "user": {
      "displayName": "林志偉",
      "userId": "13117312472561068650"
     },
     "user_tz": -480
    },
    "id": "WVxvTP3fdV1Z",
    "outputId": "ea87e7c9-4cfd-4873-838f-51f4912e782c"
   },
   "outputs": [],
   "source": [
    "df"
   ]
  },
  {
   "cell_type": "code",
   "execution_count": null,
   "metadata": {
    "colab": {
     "base_uri": "https://localhost:8080/"
    },
    "executionInfo": {
     "elapsed": 319,
     "status": "ok",
     "timestamp": 1730275636877,
     "user": {
      "displayName": "林志偉",
      "userId": "13117312472561068650"
     },
     "user_tz": -480
    },
    "id": "PUfXNvgPuwsI",
    "outputId": "ffdd6619-d8af-450a-d91e-73f96370f23e"
   },
   "outputs": [],
   "source": [
    "df['area'].unique()"
   ]
  },
  {
   "cell_type": "code",
   "execution_count": null,
   "metadata": {
    "colab": {
     "base_uri": "https://localhost:8080/",
     "height": 210
    },
    "executionInfo": {
     "elapsed": 318,
     "status": "ok",
     "timestamp": 1730275666083,
     "user": {
      "displayName": "林志偉",
      "userId": "13117312472561068650"
     },
     "user_tz": -480
    },
    "id": "NWqD5XzBxjg_",
    "outputId": "b4bdb31a-72d4-4fa5-bf71-362d7abf370d"
   },
   "outputs": [],
   "source": [
    "df.value_counts('area')"
   ]
  },
  {
   "cell_type": "code",
   "execution_count": null,
   "metadata": {
    "id": "rgtpHYoWvM9-"
   },
   "outputs": [],
   "source": [
    "df_sample = df.copy()\n",
    "def get_last_name(full_name):\n",
    "    return full_name[0]\n",
    "df_sample['last_name'] = df_sample['name'].apply(get_last_name)\n",
    "df_sample"
   ]
  },
  {
   "cell_type": "markdown",
   "metadata": {
    "id": "u-egMDhW3gQI"
   },
   "source": [
    "# 資料分組運算: groupby, agg"
   ]
  },
  {
   "cell_type": "code",
   "execution_count": null,
   "metadata": {
    "colab": {
     "base_uri": "https://localhost:8080/",
     "height": 178
    },
    "executionInfo": {
     "elapsed": 320,
     "status": "ok",
     "timestamp": 1730275779211,
     "user": {
      "displayName": "林志偉",
      "userId": "13117312472561068650"
     },
     "user_tz": -480
    },
    "id": "_H5XSBlM3gY_",
    "outputId": "cb0c6768-38b5-4b07-e820-d55d4297eb80"
   },
   "outputs": [],
   "source": [
    "#客戶中男女生的平均年齡\n",
    "df_sample = df.copy()\n",
    "print('mean of all ages:', df_sample['age'].mean())\n",
    "print('mean of age by gender:\\n', df_sample.groupby('gender')['age'].mean())"
   ]
  },
  {
   "cell_type": "code",
   "execution_count": null,
   "metadata": {
    "colab": {
     "base_uri": "https://localhost:8080/",
     "height": 210
    },
    "executionInfo": {
     "elapsed": 347,
     "status": "ok",
     "timestamp": 1730275835445,
     "user": {
      "displayName": "林志偉",
      "userId": "13117312472561068650"
     },
     "user_tz": -480
    },
    "id": "WSOMb5dZ3nXP",
    "outputId": "fb39c810-6832-4e89-f8ca-261c4c17e7a1"
   },
   "outputs": [],
   "source": [
    "#客戶中住各區的人數\n",
    "df_sample.groupby('area')['id'].count()"
   ]
  },
  {
   "cell_type": "code",
   "execution_count": null,
   "metadata": {
    "colab": {
     "base_uri": "https://localhost:8080/",
     "height": 143
    },
    "executionInfo": {
     "elapsed": 354,
     "status": "ok",
     "timestamp": 1730275898518,
     "user": {
      "displayName": "林志偉",
      "userId": "13117312472561068650"
     },
     "user_tz": -480
    },
    "id": "HFQsp8Ks30z3",
    "outputId": "7da33e63-00ce-4941-b774-c619b8e36642"
   },
   "outputs": [],
   "source": [
    "#彙總統計：agg(), 客戶中男女生的平均年齡、最年長及最年輕的年齡\n",
    "df_sample.groupby('gender')['age'].agg(['mean', 'max', 'min'])\n",
    "# print(df_sample.groupby('gender')['age'].mean())\n",
    "# print(df_sample.groupby('gender')['age'].max())\n",
    "# print(df_sample.groupby('gender')['age'].min())\n",
    "\n"
   ]
  },
  {
   "cell_type": "markdown",
   "metadata": {
    "id": "OQwZaWG3QzaS"
   },
   "source": [
    "# 繪圖應用 (年度銷售)"
   ]
  },
  {
   "cell_type": "markdown",
   "metadata": {
    "id": "DvCdABcJfKMy"
   },
   "source": [
    "## 設定Matplotlib的中文顯示"
   ]
  },
  {
   "cell_type": "markdown",
   "metadata": {
    "id": "qxKv1lRDR4U8"
   },
   "source": [
    "## 繪製長條圖、橫條圖、堆疊圖\n"
   ]
  },
  {
   "cell_type": "code",
   "execution_count": null,
   "metadata": {
    "colab": {
     "base_uri": "https://localhost:8080/",
     "height": 143
    },
    "executionInfo": {
     "elapsed": 314,
     "status": "ok",
     "timestamp": 1730276259065,
     "user": {
      "displayName": "林志偉",
      "userId": "13117312472561068650"
     },
     "user_tz": -480
    },
    "id": "ycVcftFWgGjV",
    "outputId": "e03ac560-7909-421a-f16b-ab3bcdd4c262"
   },
   "outputs": [],
   "source": [
    "df"
   ]
  },
  {
   "cell_type": "code",
   "execution_count": null,
   "metadata": {
    "colab": {
     "base_uri": "https://localhost:8080/",
     "height": 412
    },
    "executionInfo": {
     "elapsed": 756,
     "status": "ok",
     "timestamp": 1730276360348,
     "user": {
      "displayName": "林志偉",
      "userId": "13117312472561068650"
     },
     "user_tz": -480
    },
    "id": "ndV4oc6WQ2_b",
    "outputId": "3c808910-3c59-4516-e166-087930833a87"
   },
   "outputs": [],
   "source": [
    "import pandas as pd\n",
    "from matplotlib import pyplot as plt\n",
    "# 設定中文字型 Heiti TC\n",
    "plt.rcParams['font.sans-serif']=['Heiti TC']\n",
    "df = pd.DataFrame([[250,320,300,312,280],\n",
    "\t\t\t\t\t\t\t[280,300,280,290,310],\n",
    "\t\t\t\t\t\t\t[220,280,250,305,250]],\n",
    "\t\t\t\t\t\t\tindex=['北部','中部','南部'],\n",
    "\t\t\t\t\t\t\tcolumns=[2015,2016,2017,2018,2019])\n",
    "\n",
    "# g1 = df.plot(kind='bar', title='長條圖', figsize=[10,5])\n",
    "# g2 = df.plot(kind='barh', title='橫條圖', figsize=[10,5])\n",
    "# g3 = df.plot(kind='bar', stacked=True, title='堆疊圖', figsize=[10,5])"
   ]
  },
  {
   "cell_type": "markdown",
   "metadata": {
    "id": "GXe_UHn1R7pc"
   },
   "source": [
    "## 繪製折線圖"
   ]
  },
  {
   "cell_type": "code",
   "execution_count": null,
   "metadata": {
    "id": "9aNqpyz1R7x7"
   },
   "outputs": [],
   "source": [
    "import pandas as pd\n",
    "from matplotlib import pyplot as plt\n",
    "# 設定中文字型 Heiti TC\n",
    "plt.rcParams['font.sans-serif']=['Heiti TC']\n",
    "\n",
    "df = pd.DataFrame([[250,320,300,312,280],\n",
    "\t\t\t\t\t\t\t[280,300,280,290,310],\n",
    "\t\t\t\t\t\t\t[220,280,250,305,250]],\n",
    "\t\t\t\t\t\t\tindex=['北部','中部','南部'],\n",
    "\t\t\t\t\t\t\tcolumns=[2015,2016,2017,2018,2019])\n",
    "\n",
    "g1 = df.iloc[0].plot(kind='line', legend=True,\n",
    "\t\t\t\t\t\t\t  xticks=range(2015,2020),\n",
    "\t\t\t\t\t\t\t  title='公司分區年度銷售表',\n",
    "\t\t\t\t\t\t\t  figsize=[10,5])\n",
    "g1 = df.iloc[1].plot(kind='line',\n",
    "\t\t\t\t\t\t\t  legend=True,\n",
    "\t\t\t\t\t\t\t   xticks=range(2015,2020))\n",
    "g1 = df.iloc[2].plot(kind='line',\n",
    "\t\t\t\t\t\t\t\t\t  legend=True,\n",
    "\t\t\t\t\t\t\t\t\t  xticks=range(2015,2020))"
   ]
  },
  {
   "cell_type": "markdown",
   "metadata": {
    "id": "TzJjbGbHSX7C"
   },
   "source": [
    "## 繪製圓餅圖"
   ]
  },
  {
   "cell_type": "code",
   "execution_count": null,
   "metadata": {
    "colab": {
     "base_uri": "https://localhost:8080/",
     "height": 199
    },
    "executionInfo": {
     "elapsed": 1461,
     "status": "ok",
     "timestamp": 1730276469713,
     "user": {
      "displayName": "林志偉",
      "userId": "13117312472561068650"
     },
     "user_tz": -480
    },
    "id": "ggBX-t1qSXqD",
    "outputId": "df9b3de0-32a6-4d37-d36e-8dad29b02657"
   },
   "outputs": [],
   "source": [
    "import pandas as pd\n",
    "from matplotlib import pyplot as plt\n",
    "# 設定中文字型 Heiti TC\n",
    "plt.rcParams['font.sans-serif']=['Heiti TC']\n",
    "\n",
    "df = pd.DataFrame([[250,320,300,312,280],\n",
    "                   [280,300,280,290,310],\n",
    "                   [220,280,250,305,250]],\n",
    "                  index=['北部','中部','南部'],\n",
    "                  columns=[2015,2016,2017,2018,2019])\n",
    "df.plot(kind='pie', subplots=True, figsize=[20,20])"
   ]
  },
  {
   "cell_type": "code",
   "execution_count": null,
   "metadata": {
    "id": "2F7DR8YPS4zL"
   },
   "outputs": [],
   "source": []
  }
 ],
 "metadata": {
  "colab": {
   "collapsed_sections": [
    "kxgoWZjYVvgi"
   ],
   "provenance": [],
   "toc_visible": true
  },
  "kernelspec": {
   "display_name": ".venv",
   "language": "python",
   "name": "python3"
  },
  "language_info": {
   "codemirror_mode": {
    "name": "ipython",
    "version": 3
   },
   "file_extension": ".py",
   "mimetype": "text/x-python",
   "name": "python",
   "nbconvert_exporter": "python",
   "pygments_lexer": "ipython3",
   "version": "3.13.5"
  }
 },
 "nbformat": 4,
 "nbformat_minor": 0
}
