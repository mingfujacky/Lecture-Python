{
 "cells": [
  {
   "cell_type": "markdown",
   "metadata": {},
   "source": [
    "# Pandas module\n",
    "- Pandas是Python語言的一個高效簡易的資料處理和分析工具，類似於Excel的程式版本\n",
    "- 提供資料結構 (Series, DataFrame) 和運算操作，因此可以用Python來操作試算表內的資料。\n"
   ]
  },
  {
   "cell_type": "markdown",
   "metadata": {},
   "source": [
    "![pandas dataframe and series](https://www.altexsoft.com/static/blog-post/2024/2/a2b6d6bd-898e-424f-98a8-50b3bdf775eb.webp)"
   ]
  },
  {
   "cell_type": "markdown",
   "metadata": {
    "id": "kxgoWZjYVvgi"
   },
   "source": [
    "# Import library"
   ]
  },
  {
   "cell_type": "code",
   "execution_count": null,
   "metadata": {
    "executionInfo": {
     "elapsed": 326,
     "status": "ok",
     "timestamp": 1730270650418,
     "user": {
      "displayName": "林志偉",
      "userId": "13117312472561068650"
     },
     "user_tz": -480
    },
    "id": "vCNhDZPoV4KB"
   },
   "outputs": [],
   "source": [
    "import numpy as np\n",
    "import pandas as pd\n",
    "import matplotlib\n",
    "from matplotlib.font_manager import fontManager"
   ]
  },
  {
   "cell_type": "markdown",
   "metadata": {
    "id": "AbFDj8PrSdPH"
   },
   "source": [
    "# 建立Series"
   ]
  },
  {
   "cell_type": "markdown",
   "metadata": {},
   "source": [
    "- Series 是一個一維的資料結構, 只有一個索引\n",
    "- pd.Series(資料 [, index = 索引])\n",
    "  - 資料可用 List, Dict, Tuple, Numpy\n",
    "  - 索引可選填，預設為整數List"
   ]
  },
  {
   "cell_type": "code",
   "execution_count": null,
   "metadata": {
    "colab": {
     "base_uri": "https://localhost:8080/"
    },
    "executionInfo": {
     "elapsed": 294,
     "status": "ok",
     "timestamp": 1730270744772,
     "user": {
      "displayName": "林志偉",
      "userId": "13117312472561068650"
     },
     "user_tz": -480
    },
    "id": "XQ_IBEzKRz9D",
    "outputId": "20c27501-9798-48a8-d2a7-bc07669a18ca"
   },
   "outputs": [],
   "source": [
    "#用串列建立Series物件\n",
    "foo = ['a', 'c', 'x', 'y']\n",
    "my_ser = pd.Series(foo)\n",
    "print(my_ser)           #顯示Series\n",
    "print(my_ser.values)    #顯示值\n",
    "print(my_ser.index)     #顯示索引"
   ]
  },
  {
   "cell_type": "code",
   "execution_count": null,
   "metadata": {
    "colab": {
     "base_uri": "https://localhost:8080/",
     "height": 178
    },
    "executionInfo": {
     "elapsed": 325,
     "status": "ok",
     "timestamp": 1730270810154,
     "user": {
      "displayName": "林志偉",
      "userId": "13117312472561068650"
     },
     "user_tz": -480
    },
    "id": "d68MSCgMWol9",
    "outputId": "19c7c358-4a0b-4a77-dc40-69a08a38a4f1"
   },
   "outputs": [],
   "source": [
    "#用串列建立Series物件並自訂索引\n",
    "company = ['聯電', '台積電', '聯發科']\n",
    "stock_price = [42, 510, 694]\n",
    "stock = pd.Series(stock_price, index=company)\n",
    "print(stock)\n",
    "print(stock.values)\n",
    "print(stock.index)"
   ]
  },
  {
   "cell_type": "code",
   "execution_count": null,
   "metadata": {
    "colab": {
     "base_uri": "https://localhost:8080/",
     "height": 107
    },
    "executionInfo": {
     "elapsed": 325,
     "status": "ok",
     "timestamp": 1730270945147,
     "user": {
      "displayName": "林志偉",
      "userId": "13117312472561068650"
     },
     "user_tz": -480
    },
    "id": "Yq2wJMqRWWPk",
    "outputId": "d67b653d-9cc9-4644-8bd3-78bfbfd56eb2"
   },
   "outputs": [],
   "source": [
    "# 用Dict建立Series\n",
    "dict1 = {'Taiwan': '台北', 'US': 'New York', 'Japan': 'Tokyo'}\n",
    "city = pd.Series(dict1)\n",
    "print(city)"
   ]
  },
  {
   "cell_type": "markdown",
   "metadata": {
    "id": "gMwM76meWmxF"
   },
   "source": [
    "# 讀取Series"
   ]
  },
  {
   "cell_type": "code",
   "execution_count": null,
   "metadata": {
    "colab": {
     "base_uri": "https://localhost:8080/"
    },
    "executionInfo": {
     "elapsed": 317,
     "status": "ok",
     "timestamp": 1730270995290,
     "user": {
      "displayName": "林志偉",
      "userId": "13117312472561068650"
     },
     "user_tz": -480
    },
    "id": "eQx4P-adfuDl",
    "outputId": "7904cc24-d89f-475e-9b06-ab4c0e4fff05"
   },
   "outputs": [],
   "source": [
    "print(city['Taiwan']) # get data by key\n",
    "print(city.iloc[0])        # get data by index\n",
    "print(city.index[0])  # get key by index"
   ]
  },
  {
   "cell_type": "markdown",
   "metadata": {},
   "source": [
    "# Lab series"
   ]
  },
  {
   "cell_type": "markdown",
   "metadata": {},
   "source": [
    "(1) 根據下列表格資料，創建一個 Series (city_revenues), 回答下列問題\n",
    "city | revenues\n",
    "-----|---------\n",
    "Amsterdam|4200\n",
    "Toronto|8000\n",
    "Tokyo|6500\n",
    "\n",
    "- Toronto 的 revenues 是多少\n",
    "- 第零筆資料的 revenues 是多少\n",
    "- 最後一筆資料的 revenues 是多少\n",
    "- 求 revenues 的 sum"
   ]
  },
  {
   "cell_type": "markdown",
   "metadata": {},
   "source": [
    "(2) 根據下列表格資料，創建一個 Series (city_employee_count),回答下列問題\n",
    "city | employee_count\n",
    "-----|----------------\n",
    "Amsterdam|5\n",
    "Tokyo|8\n",
    "\n",
    "Tokyo 是否在 city_employee_count 中"
   ]
  },
  {
   "cell_type": "markdown",
   "metadata": {},
   "source": [
    "(3) 合併 city_revenues 和 city_employee_count 來產生一個 DataFrame (city_data), 回答下列問題\n",
    "- 查詢 Amsterdam 的列資料\n",
    "- 查詢第零橫列的列資料\n",
    "- 查詢 Amsterdam 到 Tokyo的 revenue 資料\n",
    "\n"
   ]
  },
  {
   "cell_type": "code",
   "execution_count": null,
   "metadata": {},
   "outputs": [],
   "source": [
    "import pandas as pd\n",
    "\n",
    "city_revenues = pd.Series([4200, 8000, 6500], \\\n",
    "                          index=['Amsterdam', 'Toronto', 'Tokyo'])\n",
    "print(city_revenues['Toronto'])\n",
    "print(city_revenues.iloc[0])\n",
    "print(city_revenues.iloc[-1])\n",
    "print(city_revenues.sum())\n",
    "\n",
    "city_employee_count = pd.Series([5, 8], index=['Amsterdam', 'Tokyo'])\n",
    "print('Tokyo' in city_employee_count.index)\n",
    "\n",
    "city_data = pd.DataFrame({'revenues': city_revenues,\n",
    "                           'employee_count':city_employee_count})\n",
    "city_data.loc['Amsterdam']\n",
    "city_data.iloc[0]\n",
    "city_data.loc['Amsterdam':'Tokyo']"
   ]
  },
  {
   "cell_type": "markdown",
   "metadata": {
    "id": "f2qQVhXrSYLo"
   },
   "source": [
    "# 建立DataFrame"
   ]
  },
  {
   "cell_type": "markdown",
   "metadata": {},
   "source": [
    "- DataFrame 是一個二維的資料結構, 有橫列索引 (row index) 和直欄標籤 (column label)\n",
    "- DataFrame 中的每一個直行可以被視為一個 Series\n",
    "- pd.DataFrame(資料 [, index = 橫列索引, columns = 直欄標籤])\n",
    "- 資料可用 List, Dict, Numpy, Tuple, Series.\n",
    "- 橫列索引是列號，可選填，預設為整數List\n",
    "- 直欄標籤是欄位名稱"
   ]
  },
  {
   "cell_type": "markdown",
   "metadata": {
    "id": "CdC5SufcyG1n"
   },
   "source": [
    "### 用List建立DataFrame"
   ]
  },
  {
   "cell_type": "code",
   "execution_count": null,
   "metadata": {
    "colab": {
     "base_uri": "https://localhost:8080/",
     "height": 175
    },
    "executionInfo": {
     "elapsed": 321,
     "status": "ok",
     "timestamp": 1730271140945,
     "user": {
      "displayName": "林志偉",
      "userId": "13117312472561068650"
     },
     "user_tz": -480
    },
    "id": "jw45UH1VyDcm",
    "outputId": "0a1d3790-1499-4b5c-f23b-6eadf0439160"
   },
   "outputs": [],
   "source": [
    "foo=  [[65,92,78,83,70],\n",
    "       [90,72,76,93,56],\n",
    "       [81,85,91,89,77],\n",
    "       [79,53,47,94,80],\n",
    "       ]\n",
    "df = pd.DataFrame(foo)\n",
    "print(df)\n",
    "print(df.values)\n",
    "print(df.index)\n",
    "# 缺row index 跟column label"
   ]
  },
  {
   "cell_type": "code",
   "execution_count": null,
   "metadata": {
    "colab": {
     "base_uri": "https://localhost:8080/",
     "height": 175
    },
    "executionInfo": {
     "elapsed": 323,
     "status": "ok",
     "timestamp": 1730271201480,
     "user": {
      "displayName": "林志偉",
      "userId": "13117312472561068650"
     },
     "user_tz": -480
    },
    "id": "pPTONz8XzLgu",
    "outputId": "2d16e95c-2433-4dd2-aebe-0750e799c10b"
   },
   "outputs": [],
   "source": [
    "# 設定row index 跟column label\n",
    "df = pd.DataFrame(foo,\n",
    "                   index=['王小明','李小美','陳大同','林小玉'],\n",
    "                   columns=['國文','英文','數學','自然','社會'])\n",
    "df"
   ]
  },
  {
   "cell_type": "markdown",
   "metadata": {
    "id": "NPryO-5Jzn9O"
   },
   "source": [
    "### 用Dict建立DataFrame"
   ]
  },
  {
   "cell_type": "code",
   "execution_count": null,
   "metadata": {
    "colab": {
     "base_uri": "https://localhost:8080/",
     "height": 175
    },
    "executionInfo": {
     "elapsed": 328,
     "status": "ok",
     "timestamp": 1730271880745,
     "user": {
      "displayName": "林志偉",
      "userId": "13117312472561068650"
     },
     "user_tz": -480
    },
    "id": "3OJe8I-TzoEG",
    "outputId": "0a687f28-664d-47bb-c4e3-eb4c1526f01e"
   },
   "outputs": [],
   "source": [
    "# 以column為基礎的dict\n",
    "scores = {'國文':{'王小明':65,'李小美':90,'陳大同':81,'林小玉':79},\n",
    "          '英文':{'王小明':92,'李小美':72,'陳大同':85,'林小玉':53},\n",
    "          '數學':{'王小明':78,'李小美':76,'陳大同':91,'林小玉':47},\n",
    "          '自然':{'王小明':83,'李小美':93,'陳大同':89,'林小玉':94},\n",
    "          '社會':{'王小明':70,'李小美':56,'陳大同':77,'林小玉':80}}\n",
    "pd.DataFrame(scores)"
   ]
  },
  {
   "cell_type": "markdown",
   "metadata": {
    "id": "Yi74LzEuVFu4"
   },
   "source": [
    "## 用Array建立DataFrame"
   ]
  },
  {
   "cell_type": "code",
   "execution_count": null,
   "metadata": {
    "colab": {
     "base_uri": "https://localhost:8080/"
    },
    "executionInfo": {
     "elapsed": 310,
     "status": "ok",
     "timestamp": 1730271465614,
     "user": {
      "displayName": "林志偉",
      "userId": "13117312472561068650"
     },
     "user_tz": -480
    },
    "id": "Ji2nT-6IVSYl",
    "outputId": "b230847b-2d7f-4a23-fb5e-b2c37461495d"
   },
   "outputs": [],
   "source": [
    "mydata = np.random.randn(4, 3)\n",
    "print(mydata)\n",
    "df = pd.DataFrame(mydata, columns=list(\"ABC\"), index=list(\"甲乙丙丁\"))\n",
    "df"
   ]
  },
  {
   "cell_type": "markdown",
   "metadata": {
    "id": "j3_QGiFephQ2"
   },
   "source": [
    "## 了解DataFrame的結構"
   ]
  },
  {
   "cell_type": "code",
   "execution_count": null,
   "metadata": {
    "colab": {
     "base_uri": "https://localhost:8080/"
    },
    "executionInfo": {
     "elapsed": 315,
     "status": "ok",
     "timestamp": 1730271640919,
     "user": {
      "displayName": "林志偉",
      "userId": "13117312472561068650"
     },
     "user_tz": -480
    },
    "id": "GAq_EOeXo_I5",
    "outputId": "87ff0140-c022-45b1-c977-90d8530077dd"
   },
   "outputs": [],
   "source": [
    "print(df.shape)\n",
    "print(df.dtypes)\n",
    "print(df.info)\n",
    "print(df.describe())\n",
    "df"
   ]
  },
  {
   "cell_type": "markdown",
   "metadata": {
    "id": "OMdJnr-FqBBn"
   },
   "source": [
    "## 合併兩個DataFrame"
   ]
  },
  {
   "cell_type": "code",
   "execution_count": null,
   "metadata": {
    "colab": {
     "base_uri": "https://localhost:8080/",
     "height": 175
    },
    "executionInfo": {
     "elapsed": 323,
     "status": "ok",
     "timestamp": 1730271744712,
     "user": {
      "displayName": "林志偉",
      "userId": "13117312472561068650"
     },
     "user_tz": -480
    },
    "id": "z-mZx9yTqFL-",
    "outputId": "87161217-6ff9-48a7-b86a-65377e2d31ed"
   },
   "outputs": [],
   "source": [
    "scores = {'國文':{'王小明':65,'李小美':90,'陳大同':81,'林小玉':79},\n",
    "          '英文':{'王小明':92,'李小美':72,'陳大同':85,'林小玉':53},\n",
    "          '數學':{'王小明':78,'李小美':76,'陳大同':91,'林小玉':47},\n",
    "          '自然':{'王小明':83,'李小美':93,'陳大同':89,'林小玉':94},\n",
    "          '社會':{'王小明':70,'李小美':56,'陳大同':77,'林小玉':80}}\n",
    "df1 = pd.DataFrame(scores)\n",
    "scores_others = {'體育':{'王小明':90,'李小美':93,'陳大同':95,'林小玉':80},\n",
    "          '家政':{'王小明':70,'李小美':80,'陳大同':75,'林小玉':90},}\n",
    "\n",
    "df2 = pd.DataFrame(scores_others)\n",
    "df_all = pd.concat([df1, df2], axis=1)\n",
    "df_all"
   ]
  },
  {
   "cell_type": "code",
   "execution_count": null,
   "metadata": {
    "colab": {
     "base_uri": "https://localhost:8080/",
     "height": 175
    },
    "executionInfo": {
     "elapsed": 332,
     "status": "ok",
     "timestamp": 1725344347268,
     "user": {
      "displayName": "林志偉",
      "userId": "13117312472561068650"
     },
     "user_tz": -480
    },
    "id": "BVdtjGAEV0H-",
    "outputId": "280c6713-a517-4822-a756-c7c34054da46"
   },
   "outputs": [],
   "source": [
    "mydata = np.random.randn(4, 3)\n",
    "df1 = pd.DataFrame(mydata, columns=list(\"ABC\"))\n",
    "df1"
   ]
  },
  {
   "cell_type": "code",
   "execution_count": null,
   "metadata": {
    "colab": {
     "base_uri": "https://localhost:8080/",
     "height": 143
    },
    "executionInfo": {
     "elapsed": 315,
     "status": "ok",
     "timestamp": 1725344365832,
     "user": {
      "displayName": "林志偉",
      "userId": "13117312472561068650"
     },
     "user_tz": -480
    },
    "id": "T7l7uUsDVtHQ",
    "outputId": "1c68c455-558c-4f5d-9f85-a8bcf3fd399b"
   },
   "outputs": [],
   "source": [
    "df2 = pd.DataFrame(np.random.randn(3, 3), columns=list(\"ABC\"))\n",
    "df2"
   ]
  },
  {
   "cell_type": "code",
   "execution_count": null,
   "metadata": {
    "colab": {
     "base_uri": "https://localhost:8080/",
     "height": 269
    },
    "executionInfo": {
     "elapsed": 328,
     "status": "ok",
     "timestamp": 1725344406434,
     "user": {
      "displayName": "林志偉",
      "userId": "13117312472561068650"
     },
     "user_tz": -480
    },
    "id": "4oE3SzDsV8E1",
    "outputId": "7a44ab1a-a9ef-43c7-9a80-d02f855835d1"
   },
   "outputs": [],
   "source": [
    "#上下合併沒什麼問題\n",
    "df3 = pd.concat([df1, df2], axis=0)\n",
    "df3"
   ]
  },
  {
   "cell_type": "code",
   "execution_count": null,
   "metadata": {
    "colab": {
     "base_uri": "https://localhost:8080/",
     "height": 269
    },
    "executionInfo": {
     "elapsed": 333,
     "status": "ok",
     "timestamp": 1725344437870,
     "user": {
      "displayName": "林志偉",
      "userId": "13117312472561068650"
     },
     "user_tz": -480
    },
    "id": "aUU0nNKIV_6a",
    "outputId": "69445d79-ee31-4580-fa7d-bc686a960fe6"
   },
   "outputs": [],
   "source": [
    "#把 index 重新整理\n",
    "df3.index = range(7)\n",
    "df3"
   ]
  },
  {
   "cell_type": "code",
   "execution_count": null,
   "metadata": {
    "colab": {
     "base_uri": "https://localhost:8080/",
     "height": 175
    },
    "executionInfo": {
     "elapsed": 343,
     "status": "ok",
     "timestamp": 1725344467233,
     "user": {
      "displayName": "林志偉",
      "userId": "13117312472561068650"
     },
     "user_tz": -480
    },
    "id": "ItYpoHQkWICu",
    "outputId": "3602b599-94d7-426e-bc2c-21e56d6ca430"
   },
   "outputs": [],
   "source": [
    "# 左右合併還是可以，不過因為形狀不同，所以會出現NaN。\n",
    "df4 = pd.concat([df1, df2], axis=1)\n",
    "df4"
   ]
  },
  {
   "cell_type": "markdown",
   "metadata": {
    "id": "4RSAEmAn2JX-"
   },
   "source": [
    "# 讀取DataFrame資料"
   ]
  },
  {
   "cell_type": "markdown",
   "metadata": {
    "id": "2VzQ9dGGmpzv"
   },
   "source": [
    "## 以欄位取值 df[column]"
   ]
  },
  {
   "cell_type": "code",
   "execution_count": null,
   "metadata": {
    "colab": {
     "base_uri": "https://localhost:8080/",
     "height": 175
    },
    "executionInfo": {
     "elapsed": 332,
     "status": "ok",
     "timestamp": 1730271897063,
     "user": {
      "displayName": "林志偉",
      "userId": "13117312472561068650"
     },
     "user_tz": -480
    },
    "id": "o54chOM6jCHA",
    "outputId": "cd59e234-d701-4e49-c5e6-fad72f67bcd2"
   },
   "outputs": [],
   "source": [
    "scores = {'國文':{'王小明':65,'李小美':90,'陳大同':81,'林小玉':79},\n",
    "          '英文':{'王小明':92,'李小美':72,'陳大同':85,'林小玉':53},\n",
    "          '數學':{'王小明':78,'李小美':76,'陳大同':91,'林小玉':47},\n",
    "          '自然':{'王小明':83,'李小美':93,'陳大同':89,'林小玉':94},\n",
    "          '社會':{'王小明':70,'李小美':56,'陳大同':77,'林小玉':80}}\n",
    "df = pd.DataFrame(scores)\n",
    "df"
   ]
  },
  {
   "cell_type": "code",
   "execution_count": null,
   "metadata": {
    "colab": {
     "base_uri": "https://localhost:8080/",
     "height": 210
    },
    "executionInfo": {
     "elapsed": 333,
     "status": "ok",
     "timestamp": 1725345478317,
     "user": {
      "displayName": "林志偉",
      "userId": "13117312472561068650"
     },
     "user_tz": -480
    },
    "id": "UXP_GNkq2K2X",
    "outputId": "98a7ef98-96bb-49ec-dbd2-4237c12290a6"
   },
   "outputs": [],
   "source": [
    "#讀一個欄位\n",
    "print(df[\"自然\"])\n",
    "print(type(df[\"自然\"]))\n",
    "print(df[\"自然\"].dtype)"
   ]
  },
  {
   "cell_type": "code",
   "execution_count": null,
   "metadata": {
    "colab": {
     "base_uri": "https://localhost:8080/",
     "height": 175
    },
    "executionInfo": {
     "elapsed": 312,
     "status": "ok",
     "timestamp": 1730271980206,
     "user": {
      "displayName": "林志偉",
      "userId": "13117312472561068650"
     },
     "user_tz": -480
    },
    "id": "LGqwgqxm58um",
    "outputId": "dc3f0a16-52b3-4534-cab0-516db49f20e2"
   },
   "outputs": [],
   "source": [
    "#讀多個欄位\n",
    "# df[['國文','英文','數學']] #dataframe\n",
    "# df['國文']                 #series\n",
    "# df[['國文']]            #dataframe\n",
    "# df['王小明'] #error, 因為沒有王小明這個欄位, 雖然有有王小明這個index, 但df['xxx']，拿的是column，所以會error"
   ]
  },
  {
   "cell_type": "markdown",
   "metadata": {
    "id": "7ydr5oYjhwUo"
   },
   "source": [
    "## 以index label及column name取值：df.loc()"
   ]
  },
  {
   "cell_type": "code",
   "execution_count": null,
   "metadata": {
    "colab": {
     "base_uri": "https://localhost:8080/",
     "height": 175
    },
    "executionInfo": {
     "elapsed": 322,
     "status": "ok",
     "timestamp": 1730272000145,
     "user": {
      "displayName": "林志偉",
      "userId": "13117312472561068650"
     },
     "user_tz": -480
    },
    "id": "e-g5zH9iqNBg",
    "outputId": "cbba0de4-f5a9-4cdc-d467-55d5f5392504"
   },
   "outputs": [],
   "source": [
    "scores = {'國文':{'王小明':65,'李小美':90,'陳大同':81,'林小玉':79},\n",
    "          '英文':{'王小明':92,'李小美':72,'陳大同':85,'林小玉':53},\n",
    "          '數學':{'王小明':78,'李小美':76,'陳大同':91,'林小玉':47},\n",
    "          '自然':{'王小明':83,'李小美':93,'陳大同':89,'林小玉':94},\n",
    "          '社會':{'王小明':70,'李小美':56,'陳大同':77,'林小玉':80}}\n",
    "df = pd.DataFrame(scores)"
   ]
  },
  {
   "cell_type": "code",
   "execution_count": null,
   "metadata": {
    "colab": {
     "base_uri": "https://localhost:8080/"
    },
    "executionInfo": {
     "elapsed": 321,
     "status": "ok",
     "timestamp": 1730272042375,
     "user": {
      "displayName": "林志偉",
      "userId": "13117312472561068650"
     },
     "user_tz": -480
    },
    "id": "9JyYMnqphyz3",
    "outputId": "1eb5b341-707a-4f0a-abb3-25fbf8b1d5cc"
   },
   "outputs": [],
   "source": [
    "print(df.loc[\"林小玉\", \"社會\"]) # int\n",
    "print(type(df.loc[\"林小玉\", \"社會\"]))"
   ]
  },
  {
   "cell_type": "code",
   "execution_count": null,
   "metadata": {
    "colab": {
     "base_uri": "https://localhost:8080/"
    },
    "executionInfo": {
     "elapsed": 325,
     "status": "ok",
     "timestamp": 1730272085027,
     "user": {
      "displayName": "林志偉",
      "userId": "13117312472561068650"
     },
     "user_tz": -480
    },
    "id": "KArZlVeWh19f",
    "outputId": "5a75f6ae-6653-4224-9456-916361375af1"
   },
   "outputs": [],
   "source": [
    "print(df.loc[\"王小明\", [\"國文\",\"社會\"]]) # Series\n",
    "print(type(df.loc[\"王小明\", [\"國文\",\"社會\"]]))"
   ]
  },
  {
   "cell_type": "code",
   "execution_count": null,
   "metadata": {
    "colab": {
     "base_uri": "https://localhost:8080/",
     "height": 112
    },
    "executionInfo": {
     "elapsed": 328,
     "status": "ok",
     "timestamp": 1725345990734,
     "user": {
      "displayName": "林志偉",
      "userId": "13117312472561068650"
     },
     "user_tz": -480
    },
    "id": "H9EiCEH2h2An",
    "outputId": "a31c80b1-3a09-4d8f-9bb7-301fc2b00b51"
   },
   "outputs": [],
   "source": [
    "df.loc[[\"王小明\", \"李小美\"], [\"數學\", \"自然\"]] # DataFrame"
   ]
  },
  {
   "cell_type": "code",
   "execution_count": null,
   "metadata": {
    "colab": {
     "base_uri": "https://localhost:8080/",
     "height": 143
    },
    "executionInfo": {
     "elapsed": 321,
     "status": "ok",
     "timestamp": 1725346026352,
     "user": {
      "displayName": "林志偉",
      "userId": "13117312472561068650"
     },
     "user_tz": -480
    },
    "id": "b762xuAxh2Dv",
    "outputId": "1bc3b138-2f5e-4a19-9b55-157e14856f3e"
   },
   "outputs": [],
   "source": [
    "df.loc[\"王小明\":\"陳大同\", \"數學\":\"社會\"] # DataFrame"
   ]
  },
  {
   "cell_type": "code",
   "execution_count": null,
   "metadata": {
    "colab": {
     "base_uri": "https://localhost:8080/",
     "height": 241
    },
    "executionInfo": {
     "elapsed": 360,
     "status": "ok",
     "timestamp": 1725346088463,
     "user": {
      "displayName": "林志偉",
      "userId": "13117312472561068650"
     },
     "user_tz": -480
    },
    "id": "xGM4jBfyiAaf",
    "outputId": "9096a33e-3daf-4ae4-bffc-cd41625d4534"
   },
   "outputs": [],
   "source": [
    "df.loc[\"陳大同\", :] # Series"
   ]
  },
  {
   "cell_type": "code",
   "execution_count": null,
   "metadata": {
    "colab": {
     "base_uri": "https://localhost:8080/",
     "height": 112
    },
    "executionInfo": {
     "elapsed": 333,
     "status": "ok",
     "timestamp": 1725346114276,
     "user": {
      "displayName": "林志偉",
      "userId": "13117312472561068650"
     },
     "user_tz": -480
    },
    "id": "zKQBCBd8iG8X",
    "outputId": "08fea12c-d7d3-4b0d-fa68-3fe5acec0a82"
   },
   "outputs": [],
   "source": [
    "df.loc[:\"李小美\", \"數學\":\"社會\"] # DataFrame"
   ]
  },
  {
   "cell_type": "code",
   "execution_count": null,
   "metadata": {
    "colab": {
     "base_uri": "https://localhost:8080/",
     "height": 143
    },
    "executionInfo": {
     "elapsed": 326,
     "status": "ok",
     "timestamp": 1725346160376,
     "user": {
      "displayName": "林志偉",
      "userId": "13117312472561068650"
     },
     "user_tz": -480
    },
    "id": "rNivUyEViG_o",
    "outputId": "4ae742c8-ed3f-48e0-9e52-fe8342329ad9"
   },
   "outputs": [],
   "source": [
    "df.loc[\"李小美\":, \"數學\":\"社會\"]"
   ]
  },
  {
   "cell_type": "markdown",
   "metadata": {
    "id": "QYVU_KAw9v8h"
   },
   "source": [
    "## 以index ID及column ID取值：df.iloc()"
   ]
  },
  {
   "cell_type": "code",
   "execution_count": null,
   "metadata": {
    "colab": {
     "base_uri": "https://localhost:8080/",
     "height": 175
    },
    "executionInfo": {
     "elapsed": 340,
     "status": "ok",
     "timestamp": 1730272403107,
     "user": {
      "displayName": "林志偉",
      "userId": "13117312472561068650"
     },
     "user_tz": -480
    },
    "id": "G5NhcMGHqS6h",
    "outputId": "3883e766-224c-4666-d2ff-398a68636c20"
   },
   "outputs": [],
   "source": [
    "df"
   ]
  },
  {
   "cell_type": "code",
   "execution_count": null,
   "metadata": {
    "colab": {
     "base_uri": "https://localhost:8080/"
    },
    "executionInfo": {
     "elapsed": 332,
     "status": "ok",
     "timestamp": 1725346457642,
     "user": {
      "displayName": "林志偉",
      "userId": "13117312472561068650"
     },
     "user_tz": -480
    },
    "id": "PQU6Eyr7iAd_",
    "outputId": "f6d250bb-6df9-429a-ecc9-1b6a588ac45e"
   },
   "outputs": [],
   "source": [
    "df.iloc[3, 4]"
   ]
  },
  {
   "cell_type": "code",
   "execution_count": null,
   "metadata": {
    "colab": {
     "base_uri": "https://localhost:8080/",
     "height": 147
    },
    "executionInfo": {
     "elapsed": 298,
     "status": "ok",
     "timestamp": 1725346541280,
     "user": {
      "displayName": "林志偉",
      "userId": "13117312472561068650"
     },
     "user_tz": -480
    },
    "id": "ytOSoN2mm9df",
    "outputId": "97451777-c225-4d9f-9723-6a81847d0670"
   },
   "outputs": [],
   "source": [
    "df.iloc[0, [0, 4]]\n",
    "#type(df.iloc[0, [0, 4]])"
   ]
  },
  {
   "cell_type": "code",
   "execution_count": null,
   "metadata": {
    "colab": {
     "base_uri": "https://localhost:8080/",
     "height": 112
    },
    "executionInfo": {
     "elapsed": 330,
     "status": "ok",
     "timestamp": 1725346593965,
     "user": {
      "displayName": "林志偉",
      "userId": "13117312472561068650"
     },
     "user_tz": -480
    },
    "id": "GebKm89Lm9g_",
    "outputId": "47ae6105-9115-4e01-a950-6a97d1f662df"
   },
   "outputs": [],
   "source": [
    "df.iloc[[0, 1], [2, 3]]\n",
    "#type(df.iloc[[0, 1], [2, 3]])"
   ]
  },
  {
   "cell_type": "code",
   "execution_count": null,
   "metadata": {
    "colab": {
     "base_uri": "https://localhost:8080/",
     "height": 143
    },
    "executionInfo": {
     "elapsed": 339,
     "status": "ok",
     "timestamp": 1725346603617,
     "user": {
      "displayName": "林志偉",
      "userId": "13117312472561068650"
     },
     "user_tz": -480
    },
    "id": "lg6733fOm9kU",
    "outputId": "35bbea66-8ce5-43cf-9bc2-9923fb0e4e4c"
   },
   "outputs": [],
   "source": [
    "df.iloc[0:3, 2:5]"
   ]
  },
  {
   "cell_type": "code",
   "execution_count": null,
   "metadata": {
    "colab": {
     "base_uri": "https://localhost:8080/",
     "height": 241
    },
    "executionInfo": {
     "elapsed": 299,
     "status": "ok",
     "timestamp": 1725346655465,
     "user": {
      "displayName": "林志偉",
      "userId": "13117312472561068650"
     },
     "user_tz": -480
    },
    "id": "pG-aaEAMm9_P",
    "outputId": "ad6bf034-8cfd-48ba-a07e-7b8353aacc78"
   },
   "outputs": [],
   "source": [
    "df.iloc[2, :]"
   ]
  },
  {
   "cell_type": "code",
   "execution_count": null,
   "metadata": {
    "colab": {
     "base_uri": "https://localhost:8080/",
     "height": 112
    },
    "executionInfo": {
     "elapsed": 326,
     "status": "ok",
     "timestamp": 1725346678447,
     "user": {
      "displayName": "林志偉",
      "userId": "13117312472561068650"
     },
     "user_tz": -480
    },
    "id": "tZNGikjbnJH3",
    "outputId": "a2ad7de4-41ac-4bea-d4f1-8a4d483ed94c"
   },
   "outputs": [],
   "source": [
    "df.iloc[:2, 2:5]"
   ]
  },
  {
   "cell_type": "code",
   "execution_count": null,
   "metadata": {
    "colab": {
     "base_uri": "https://localhost:8080/",
     "height": 143
    },
    "executionInfo": {
     "elapsed": 342,
     "status": "ok",
     "timestamp": 1725346689082,
     "user": {
      "displayName": "林志偉",
      "userId": "13117312472561068650"
     },
     "user_tz": -480
    },
    "id": "GiJW166PnJKv",
    "outputId": "ebf58ec6-802d-4ee2-a1e5-9601f4ffa409"
   },
   "outputs": [],
   "source": [
    "df.iloc[1:, 2:5]"
   ]
  },
  {
   "cell_type": "markdown",
   "metadata": {
    "id": "mYBYPlmrnSK3"
   },
   "source": [
    "## 最前或最後幾列資料"
   ]
  },
  {
   "cell_type": "code",
   "execution_count": null,
   "metadata": {
    "colab": {
     "base_uri": "https://localhost:8080/",
     "height": 143
    },
    "executionInfo": {
     "elapsed": 392,
     "status": "ok",
     "timestamp": 1725346762972,
     "user": {
      "displayName": "林志偉",
      "userId": "13117312472561068650"
     },
     "user_tz": -480
    },
    "id": "l3HNcRtEnTln",
    "outputId": "824747e9-1842-4898-c2f5-4b03189a3a03"
   },
   "outputs": [],
   "source": [
    "df.head(3)"
   ]
  },
  {
   "cell_type": "code",
   "execution_count": null,
   "metadata": {
    "colab": {
     "base_uri": "https://localhost:8080/",
     "height": 112
    },
    "executionInfo": {
     "elapsed": 347,
     "status": "ok",
     "timestamp": 1725346767854,
     "user": {
      "displayName": "林志偉",
      "userId": "13117312472561068650"
     },
     "user_tz": -480
    },
    "id": "Ryiup88CnTpe",
    "outputId": "f0a5e9bd-bc57-444a-fef5-656f8db6e065"
   },
   "outputs": [],
   "source": [
    "df.tail(2)"
   ]
  },
  {
   "cell_type": "markdown",
   "metadata": {
    "id": "omv7qBXyDisD"
   },
   "source": [
    "## 資料排序"
   ]
  },
  {
   "cell_type": "code",
   "execution_count": null,
   "metadata": {
    "id": "Doz74AlRnTs_"
   },
   "outputs": [],
   "source": [
    "df.sort_values(by=\"國文\", ascending=False, inplace=True)\n",
    "df"
   ]
  },
  {
   "cell_type": "markdown",
   "metadata": {
    "id": "youPbOflYC65"
   },
   "source": [
    "## 條件取值"
   ]
  },
  {
   "cell_type": "code",
   "execution_count": null,
   "metadata": {
    "colab": {
     "base_uri": "https://localhost:8080/",
     "height": 175
    },
    "executionInfo": {
     "elapsed": 346,
     "status": "ok",
     "timestamp": 1730273692320,
     "user": {
      "displayName": "林志偉",
      "userId": "13117312472561068650"
     },
     "user_tz": -480
    },
    "id": "TWIZ8bdJSXwl",
    "outputId": "a6230633-09d8-4e96-9112-17449ffcb191"
   },
   "outputs": [],
   "source": [
    "df"
   ]
  },
  {
   "cell_type": "markdown",
   "metadata": {
    "id": "H95IWlG6SiLK"
   },
   "source": [
    "df[\"數學\"]<60 ===> [False, False, False, True] ==> df([False, False, False, True])"
   ]
  },
  {
   "cell_type": "code",
   "execution_count": null,
   "metadata": {
    "colab": {
     "base_uri": "https://localhost:8080/",
     "height": 81
    },
    "executionInfo": {
     "elapsed": 345,
     "status": "ok",
     "timestamp": 1730272908788,
     "user": {
      "displayName": "林志偉",
      "userId": "13117312472561068650"
     },
     "user_tz": -480
    },
    "id": "J_D4IZwW6Hmm",
    "outputId": "a168d11c-6abf-48b9-9698-8035412d80a1"
   },
   "outputs": [],
   "source": [
    "#指定欄位以條件式判斷取值\n",
    "df[df[\"數學\"] < 60]\n",
    "#boolean indexing: Using boolean array (series) to index select rows\n",
    "# c1 = pd.Series([False, True, True, False])\n",
    "# c1 = df[[False, True, True, False]]  #不取row0&3, 取row1&2, dataframe\n",
    "# df[\"國文\"] >= 80\n",
    "# c2 = df['國文'] >= 80                 #series\n",
    "# c3 = df[df['國文'] >= 80]            # dataframe"
   ]
  },
  {
   "cell_type": "markdown",
   "metadata": {
    "id": "meWR9bNOWsNx"
   },
   "source": [
    "## 以values取值"
   ]
  },
  {
   "cell_type": "code",
   "execution_count": null,
   "metadata": {
    "colab": {
     "base_uri": "https://localhost:8080/"
    },
    "executionInfo": {
     "elapsed": 352,
     "status": "ok",
     "timestamp": 1725347621848,
     "user": {
      "displayName": "林志偉",
      "userId": "13117312472561068650"
     },
     "user_tz": -480
    },
    "id": "aPiDib_PWw6x",
    "outputId": "4d33f3f6-b404-44ed-ce2c-48891b0937f3"
   },
   "outputs": [],
   "source": [
    "d1 = df.values              #Numpy ndarray\n",
    "d1"
   ]
  },
  {
   "cell_type": "markdown",
   "metadata": {
    "id": "546ntkGoYc89"
   },
   "source": [
    "# 修改DataFrame資料"
   ]
  },
  {
   "cell_type": "code",
   "execution_count": null,
   "metadata": {
    "colab": {
     "base_uri": "https://localhost:8080/",
     "height": 175
    },
    "executionInfo": {
     "elapsed": 2,
     "status": "ok",
     "timestamp": 1730273776697,
     "user": {
      "displayName": "林志偉",
      "userId": "13117312472561068650"
     },
     "user_tz": -480
    },
    "id": "NDEvEAJ-WoKP",
    "outputId": "5d7ca2f2-fb5e-4152-f235-f81943d5a4cf"
   },
   "outputs": [],
   "source": [
    "scores = {'國文':{'王小明':65,'李小美':90,'陳大同':81,'林小玉':79},\n",
    "          '英文':{'王小明':92,'李小美':72,'陳大同':85,'林小玉':53},\n",
    "          '數學':{'王小明':78,'李小美':76,'陳大同':91,'林小玉':47},\n",
    "          '自然':{'王小明':83,'李小美':93,'陳大同':89,'林小玉':94},\n",
    "          '社會':{'王小明':70,'李小美':56,'陳大同':77,'林小玉':80}}\n",
    "df = pd.DataFrame(scores)"
   ]
  },
  {
   "cell_type": "code",
   "execution_count": null,
   "metadata": {
    "executionInfo": {
     "elapsed": 320,
     "status": "ok",
     "timestamp": 1730273779914,
     "user": {
      "displayName": "林志偉",
      "userId": "13117312472561068650"
     },
     "user_tz": -480
    },
    "id": "2hPW3e7a6B7s"
   },
   "outputs": [],
   "source": [
    "dfcopy=df.copy()  # 複製原始資料"
   ]
  },
  {
   "cell_type": "code",
   "execution_count": null,
   "metadata": {
    "colab": {
     "base_uri": "https://localhost:8080/",
     "height": 175
    },
    "executionInfo": {
     "elapsed": 574,
     "status": "ok",
     "timestamp": 1730273805832,
     "user": {
      "displayName": "林志偉",
      "userId": "13117312472561068650"
     },
     "user_tz": -480
    },
    "id": "u1ipXKm1DrXL",
    "outputId": "fa5c1291-736d-48ca-b499-8989ae540406"
   },
   "outputs": [],
   "source": [
    "df.loc[\"王小明\", \"數學\"] = 95  # 修改資料\n",
    "df"
   ]
  },
  {
   "cell_type": "code",
   "execution_count": null,
   "metadata": {
    "colab": {
     "base_uri": "https://localhost:8080/",
     "height": 175
    },
    "executionInfo": {
     "elapsed": 325,
     "status": "ok",
     "timestamp": 1730273835524,
     "user": {
      "displayName": "林志偉",
      "userId": "13117312472561068650"
     },
     "user_tz": -480
    },
    "id": "nEH7NREgEZoY",
    "outputId": "965a59cb-d971-4a11-c1d8-099423ec0bef"
   },
   "outputs": [],
   "source": [
    "df.loc[\"王小明\", :] = 80  # 修改資料\n",
    "df"
   ]
  },
  {
   "cell_type": "code",
   "execution_count": null,
   "metadata": {
    "colab": {
     "base_uri": "https://localhost:8080/"
    },
    "executionInfo": {
     "elapsed": 300,
     "status": "ok",
     "timestamp": 1730273854698,
     "user": {
      "displayName": "林志偉",
      "userId": "13117312472561068650"
     },
     "user_tz": -480
    },
    "id": "kqagy1dvxwHJ",
    "outputId": "bdc6aed0-c052-4074-c859-14f4e0b9c7d6"
   },
   "outputs": [],
   "source": [
    "df.info()"
   ]
  },
  {
   "cell_type": "code",
   "execution_count": null,
   "metadata": {
    "colab": {
     "base_uri": "https://localhost:8080/"
    },
    "executionInfo": {
     "elapsed": 336,
     "status": "ok",
     "timestamp": 1730273918567,
     "user": {
      "displayName": "林志偉",
      "userId": "13117312472561068650"
     },
     "user_tz": -480
    },
    "id": "zsgoE7VPs2J_",
    "outputId": "af3d625c-f2a6-40d7-c345-ed6906515cb7"
   },
   "outputs": [],
   "source": [
    "import numpy as np\n",
    "df[\"國文\"] = df[\"國文\"].astype(np.int8)\n",
    "df.info()"
   ]
  },
  {
   "cell_type": "code",
   "execution_count": null,
   "metadata": {
    "colab": {
     "base_uri": "https://localhost:8080/",
     "height": 175
    },
    "executionInfo": {
     "elapsed": 319,
     "status": "ok",
     "timestamp": 1730273980716,
     "user": {
      "displayName": "林志偉",
      "userId": "13117312472561068650"
     },
     "user_tz": -480
    },
    "id": "R7_LLk8Cs6SA",
    "outputId": "c145eab7-2015-4855-d57b-315a65c3725f"
   },
   "outputs": [],
   "source": [
    "df.rename(columns = {\"英文\":\"外語\"}, inplace=True)\n",
    "df"
   ]
  },
  {
   "cell_type": "code",
   "execution_count": null,
   "metadata": {
    "colab": {
     "base_uri": "https://localhost:8080/",
     "height": 175
    },
    "executionInfo": {
     "elapsed": 337,
     "status": "ok",
     "timestamp": 1730274009351,
     "user": {
      "displayName": "林志偉",
      "userId": "13117312472561068650"
     },
     "user_tz": -480
    },
    "id": "-IYUI9D1tkYS",
    "outputId": "1e050d9c-2a8a-45ac-9a2c-8cb6e934adb5"
   },
   "outputs": [],
   "source": [
    "df[\"總分\"] = df[\"國文\"] + df[\"外語\"] + df[\"數學\"] + df[\"自然\"] + df[\"社會\"]\n",
    "df"
   ]
  },
  {
   "cell_type": "code",
   "execution_count": null,
   "metadata": {
    "colab": {
     "base_uri": "https://localhost:8080/",
     "height": 175
    },
    "executionInfo": {
     "elapsed": 336,
     "status": "ok",
     "timestamp": 1730274022091,
     "user": {
      "displayName": "林志偉",
      "userId": "13117312472561068650"
     },
     "user_tz": -480
    },
    "id": "d-jVrRlB6cr0",
    "outputId": "12976296-0964-4dc5-84fe-509237f4804b"
   },
   "outputs": [],
   "source": [
    "df=dfcopy #還原 DataFrame 資料\n",
    "df"
   ]
  },
  {
   "cell_type": "markdown",
   "metadata": {},
   "source": [
    "# 新增DataFrame資料"
   ]
  },
  {
   "cell_type": "code",
   "execution_count": null,
   "metadata": {},
   "outputs": [],
   "source": [
    "df=dfcopy #還原 DataFrame 資料\n",
    "print(df)\n",
    "#資料新增\n",
    "df.loc['陳彼得'] = [30, 35, 40, 45, 50, 75]    #就地更改\n",
    "new_row = pd.DataFrame({'國文':{'張阿華':30},\n",
    "                         '英文':{'張阿華':35},\n",
    "                         '數學':{'張阿華':40},\n",
    "                         '自然':{'張阿華':45},\n",
    "                         '社會':{'張阿華':50},\n",
    "                         '體育':{'張阿華':70},\n",
    "                         })\n",
    "df1 = pd.concat([df,new_row], ignore_index=False) #True代表放棄原來的index, 變成整數的index\n",
    "print(df1)"
   ]
  },
  {
   "cell_type": "markdown",
   "metadata": {
    "id": "Vfhgpa60xatc"
   },
   "source": [
    "# 刪除 DataFrame 資料"
   ]
  },
  {
   "cell_type": "code",
   "execution_count": null,
   "metadata": {
    "id": "34-PW98Wxa4T"
   },
   "outputs": [],
   "source": [
    "dfcopy=df.copy()  # 複製原始資料\n",
    "df.drop(\"王小明\", axis = 0)          #CRUD Create, Read, Update, Delete"
   ]
  },
  {
   "cell_type": "code",
   "execution_count": null,
   "metadata": {
    "id": "43Dyd3Daxa7m"
   },
   "outputs": [],
   "source": [
    "df = dfcopy\n",
    "df.drop(\"數學\", axis=1)"
   ]
  },
  {
   "cell_type": "code",
   "execution_count": null,
   "metadata": {
    "id": "Bkyt5AFDxqF0"
   },
   "outputs": [],
   "source": [
    "dfcopy=df.copy()\n",
    "dfcopy.drop([\"數學\", \"自然\"], axis=1)"
   ]
  },
  {
   "cell_type": "code",
   "execution_count": null,
   "metadata": {
    "id": "xNam9lK1xqI4"
   },
   "outputs": [],
   "source": [
    "df = dfcopy\n",
    "df.drop(df.index[1:4])"
   ]
  },
  {
   "cell_type": "code",
   "execution_count": null,
   "metadata": {
    "id": "juk0vl96xu67"
   },
   "outputs": [],
   "source": [
    "dfcopy=df.copy()\n",
    "dfcopy.drop(dfcopy.columns[1:4], axis=1)"
   ]
  },
  {
   "cell_type": "markdown",
   "metadata": {
    "id": "2KapRhABuF-n"
   },
   "source": [
    "# 讀寫外部檔案"
   ]
  },
  {
   "cell_type": "code",
   "execution_count": null,
   "metadata": {
    "colab": {
     "base_uri": "https://localhost:8080/",
     "height": 175
    },
    "executionInfo": {
     "elapsed": 340,
     "status": "ok",
     "timestamp": 1730274092915,
     "user": {
      "displayName": "林志偉",
      "userId": "13117312472561068650"
     },
     "user_tz": -480
    },
    "id": "22PBgLveX1Zs",
    "outputId": "ce882695-537c-489b-cb9d-6a44984f9464"
   },
   "outputs": [],
   "source": [
    "df"
   ]
  },
  {
   "cell_type": "code",
   "execution_count": null,
   "metadata": {
    "id": "EzzXwf2ghR2s"
   },
   "outputs": [],
   "source": [
    "# 寫到CSV檔案\n",
    "from pathlib import Path\n",
    "target_csv_path = Path.cwd() / '..' / 'files' / 'csv' / 'scores.csv'\n",
    "df.to_csv(target_csv_path, encoding='utf-8-sig')"
   ]
  },
  {
   "cell_type": "code",
   "execution_count": null,
   "metadata": {
    "id": "zBLpDunruH8I"
   },
   "outputs": [],
   "source": [
    "# 讀CSV檔案\n",
    "from pathlib import Path\n",
    "source_csv_path = Path.cwd() / '..' / 'files' / 'csv' / 'covid19.csv'\n",
    "df = pd.read_csv(source_csv_path)\n",
    "df"
   ]
  },
  {
   "cell_type": "code",
   "execution_count": null,
   "metadata": {
    "id": "GFN8XZz-uINJ"
   },
   "outputs": [],
   "source": [
    "# 讀JSON檔案\n",
    "from pathlib import Path\n",
    "source_csv_path = Path.cwd() / '..' / 'files' / 'json' / 'covid19.json'\n",
    "df = pd.read_json(source_csv_path)\n",
    "df"
   ]
  },
  {
   "cell_type": "code",
   "execution_count": null,
   "metadata": {
    "colab": {
     "base_uri": "https://localhost:8080/",
     "height": 424
    },
    "executionInfo": {
     "elapsed": 1452,
     "status": "ok",
     "timestamp": 1730274176684,
     "user": {
      "displayName": "林志偉",
      "userId": "13117312472561068650"
     },
     "user_tz": -480
    },
    "id": "Yhgz5cbNDKe8",
    "outputId": "6e398f26-af78-4db5-b271-41563dd1e926"
   },
   "outputs": [],
   "source": [
    "# 讀Excel試算表\n",
    "from pathlib import Path\n",
    "source_csv_path = Path.cwd() / '..' / 'files' / 'xls' / 'covid19.xlsx'\n",
    "df = pd.read_excel(source_csv_path)\n",
    "df"
   ]
  },
  {
   "cell_type": "markdown",
   "metadata": {
    "id": "9ByyDDEWlJWp"
   },
   "source": [
    "# 資料清洗 (Customer.csv)"
   ]
  },
  {
   "cell_type": "markdown",
   "metadata": {
    "id": "hqqxbYErlLly"
   },
   "source": [
    "## 查詢空值：isnull()\n"
   ]
  },
  {
   "cell_type": "code",
   "execution_count": null,
   "metadata": {
    "colab": {
     "base_uri": "https://localhost:8080/"
    },
    "executionInfo": {
     "elapsed": 317,
     "status": "ok",
     "timestamp": 1730274380802,
     "user": {
      "displayName": "林志偉",
      "userId": "13117312472561068650"
     },
     "user_tz": -480
    },
    "id": "nJnji-mnlLyK",
    "outputId": "23c918fa-d96b-4415-ca88-d4b5d7303ffb"
   },
   "outputs": [],
   "source": [
    "import pandas as pd\n",
    "from pathlib import Path\n",
    "\n",
    "source_csv_path = Path.cwd() / '..' / 'files' / 'csv' / 'customer.csv'\n",
    "# 讀取資料\n",
    "df = pd.read_csv(source_csv_path)\n",
    "df"
   ]
  },
  {
   "cell_type": "code",
   "execution_count": null,
   "metadata": {},
   "outputs": [],
   "source": [
    "# 空值的處理\n",
    "print('各個欄位有空值的狀況:')\n",
    "print(df.isnull())\n",
    "print(df.isnull().sum())\n",
    "print(df.isnull().any(axis=1))\n",
    "print('有空值的記錄筆數:', df.isnull().any(axis=1).sum())\n",
    "print(df.isnull().any(axis=0))\n",
    "print('有空值的欄位數:', df.isnull().any(axis=0).sum())\n",
    "print('age欄有空值的記錄:')\n",
    "print(df[df['age'].isnull()])"
   ]
  },
  {
   "cell_type": "markdown",
   "metadata": {
    "id": "RM5zqK2ElZBD"
   },
   "source": [
    "## 空欄填值：fillna()"
   ]
  },
  {
   "cell_type": "code",
   "execution_count": null,
   "metadata": {
    "colab": {
     "base_uri": "https://localhost:8080/",
     "height": 520
    },
    "executionInfo": {
     "elapsed": 2,
     "status": "ok",
     "timestamp": 1730274562331,
     "user": {
      "displayName": "林志偉",
      "userId": "13117312472561068650"
     },
     "user_tz": -480
    },
    "id": "EKLZBeznZnyc",
    "outputId": "9b6e92ab-d5c5-4d79-d18b-b41926842b0b"
   },
   "outputs": [],
   "source": [
    "df"
   ]
  },
  {
   "cell_type": "code",
   "execution_count": null,
   "metadata": {
    "colab": {
     "base_uri": "https://localhost:8080/",
     "height": 206
    },
    "executionInfo": {
     "elapsed": 354,
     "status": "ok",
     "timestamp": 1730274537446,
     "user": {
      "displayName": "林志偉",
      "userId": "13117312472561068650"
     },
     "user_tz": -480
    },
    "id": "XMA8ZgXUlL2x",
    "outputId": "6465cb4c-96d5-4b3d-e952-2e3bc37bea44"
   },
   "outputs": [],
   "source": [
    "# 將age的空值填入0\n",
    "df_sample = df.copy()\n",
    "df_sample['age'] = df_sample['age'].fillna(value=0)\n",
    "df_sample.head()"
   ]
  },
  {
   "cell_type": "code",
   "execution_count": null,
   "metadata": {
    "colab": {
     "base_uri": "https://localhost:8080/",
     "height": 206
    },
    "executionInfo": {
     "elapsed": 312,
     "status": "ok",
     "timestamp": 1730274677579,
     "user": {
      "displayName": "林志偉",
      "userId": "13117312472561068650"
     },
     "user_tz": -480
    },
    "id": "wog-51Valecx",
    "outputId": "ce599fff-8168-4c1f-e609-c50f35468c81"
   },
   "outputs": [],
   "source": [
    "# 將age的空值填入平均值\n",
    "df_sample = df.copy()\n",
    "df_sample['age'] = df_sample['age'].fillna(\n",
    "                    value=df_sample['age'].mean())\n",
    "df_sample.head()"
   ]
  },
  {
   "cell_type": "code",
   "execution_count": null,
   "metadata": {
    "colab": {
     "base_uri": "https://localhost:8080/",
     "height": 454
    },
    "executionInfo": {
     "elapsed": 315,
     "status": "ok",
     "timestamp": 1730274771463,
     "user": {
      "displayName": "林志偉",
      "userId": "13117312472561068650"
     },
     "user_tz": -480
    },
    "id": "VIxvb84WmxBp",
    "outputId": "42da70bc-710a-4226-c88a-7f8c3708c6d6"
   },
   "outputs": [],
   "source": [
    "# 以前一個值往下填ffill或後一個值往上填bfill\n",
    "df_sample['gender'] = df_sample['gender'].fillna(method='ffill')\n",
    "df_sample['area'] = df_sample['area'].fillna(method='ffill')\n",
    "df_sample.head(10)"
   ]
  },
  {
   "cell_type": "code",
   "execution_count": null,
   "metadata": {
    "colab": {
     "base_uri": "https://localhost:8080/"
    },
    "executionInfo": {
     "elapsed": 305,
     "status": "ok",
     "timestamp": 1730274853326,
     "user": {
      "displayName": "林志偉",
      "userId": "13117312472561068650"
     },
     "user_tz": -480
    },
    "id": "zlvzJ7mem9jR",
    "outputId": "4af7f066-bf39-49d9-deca-13a33e0137c2"
   },
   "outputs": [],
   "source": [
    "# 刪除不完整的資料\n",
    "df_sample = df.copy()\n",
    "df_no_na= df_sample.dropna()\n",
    "df_no_na"
   ]
  },
  {
   "cell_type": "markdown",
   "metadata": {
    "id": "BNVuXNtmm9wh"
   },
   "source": [
    "## 去除重複資料"
   ]
  },
  {
   "cell_type": "code",
   "execution_count": null,
   "metadata": {
    "colab": {
     "base_uri": "https://localhost:8080/",
     "height": 520
    },
    "executionInfo": {
     "elapsed": 363,
     "status": "ok",
     "timestamp": 1730274925284,
     "user": {
      "displayName": "林志偉",
      "userId": "13117312472561068650"
     },
     "user_tz": -480
    },
    "id": "trIpFjXnbAq3",
    "outputId": "736cbbc4-72e6-4b29-fa16-b1f2c6733a3c"
   },
   "outputs": [],
   "source": [
    "df_sample = df.copy()\n",
    "df_sample"
   ]
  },
  {
   "cell_type": "code",
   "execution_count": null,
   "metadata": {
    "colab": {
     "base_uri": "https://localhost:8080/",
     "height": 206
    },
    "executionInfo": {
     "elapsed": 329,
     "status": "ok",
     "timestamp": 1730275005437,
     "user": {
      "displayName": "林志偉",
      "userId": "13117312472561068650"
     },
     "user_tz": -480
    },
    "id": "Uf3aw8R5m93a",
    "outputId": "57578cc9-6910-4123-ad10-0f95ad9612ea"
   },
   "outputs": [],
   "source": [
    "# 去除重複的記錄\n",
    "df_sample.drop_duplicates(subset='id', keep='first', inplace=True)\n",
    "df_sample"
   ]
  },
  {
   "cell_type": "markdown",
   "metadata": {
    "id": "1eafKVcPnT5q"
   },
   "source": [
    "## 資料內容的置換"
   ]
  },
  {
   "cell_type": "markdown",
   "metadata": {
    "id": "mUbOBYHVbsNP"
   },
   "source": [
    "整數字面值\n",
    "浮點數字面值"
   ]
  },
  {
   "cell_type": "code",
   "execution_count": null,
   "metadata": {
    "colab": {
     "base_uri": "https://localhost:8080/",
     "height": 206
    },
    "executionInfo": {
     "elapsed": 320,
     "status": "ok",
     "timestamp": 1730275203398,
     "user": {
      "displayName": "林志偉",
      "userId": "13117312472561068650"
     },
     "user_tz": -480
    },
    "id": "3qi6aE0XnUB7",
    "outputId": "1d427da5-bdd3-4361-f2f3-cdc61a46bc2f"
   },
   "outputs": [],
   "source": [
    "# 去除欄位中的空白\n",
    "df_sample = df.copy()\n",
    "df_sample['job'] = df_sample['job'].str.strip()\n",
    "df_sample['job'] = df_sample['job'].str.replace(' ', '')\n",
    "df_sample"
   ]
  },
  {
   "cell_type": "markdown",
   "metadata": {
    "id": "FjbG0tUqndFx"
   },
   "source": [
    "## 調整資料的格式"
   ]
  },
  {
   "cell_type": "code",
   "execution_count": null,
   "metadata": {
    "colab": {
     "base_uri": "https://localhost:8080/"
    },
    "executionInfo": {
     "elapsed": 337,
     "status": "ok",
     "timestamp": 1730275266030,
     "user": {
      "displayName": "林志偉",
      "userId": "13117312472561068650"
     },
     "user_tz": -480
    },
    "id": "E9ppTFdBndOp",
    "outputId": "2ba32614-2826-47da-c028-aed91389dd33"
   },
   "outputs": [],
   "source": [
    "# 轉換值的格式\n",
    "df_sample = df.copy()\n",
    "print(df_sample.info())\n",
    "df_sample['age'] = df_sample['age'].fillna(value=0)\n",
    "df_sample['age'] = df_sample['age'].astype('int8')\n",
    "print(df_sample.info())"
   ]
  },
  {
   "cell_type": "markdown",
   "metadata": {
    "id": "nnxMQ8Y82x9A"
   },
   "source": [
    "# 資料篩選"
   ]
  },
  {
   "cell_type": "code",
   "execution_count": null,
   "metadata": {
    "colab": {
     "base_uri": "https://localhost:8080/",
     "height": 143
    },
    "executionInfo": {
     "elapsed": 314,
     "status": "ok",
     "timestamp": 1730275332948,
     "user": {
      "displayName": "林志偉",
      "userId": "13117312472561068650"
     },
     "user_tz": -480
    },
    "id": "3VTUhUbo2cGJ",
    "outputId": "55804606-8f93-4db4-ff90-3479425421a9"
   },
   "outputs": [],
   "source": [
    "# 篩選女性的資料\n",
    "df_sample = df.copy()\n",
    "df_female = df_sample[(df_sample['gender'] == 'Female')]\n",
    "df_female"
   ]
  },
  {
   "cell_type": "code",
   "execution_count": null,
   "metadata": {
    "colab": {
     "base_uri": "https://localhost:8080/"
    },
    "executionInfo": {
     "elapsed": 308,
     "status": "ok",
     "timestamp": 1730275487073,
     "user": {
      "displayName": "林志偉",
      "userId": "13117312472561068650"
     },
     "user_tz": -480
    },
    "id": "EO7olxpg2-Ww",
    "outputId": "3169dc42-9252-4948-a9f1-a444a432eb44"
   },
   "outputs": [],
   "source": [
    "# 篩選男性且大於50歲的資料\n",
    "# print(df_sample[(df_sample['gender'] == 'Male') & (df_sample['age'] > 50)])\n",
    "\n",
    "# 篩選住在新北市三重區或基隆市中正區的資料\n",
    "df_sample = df.copy()\n",
    "print(df_sample[(df_sample['area'] == '新北市三重區') | (df_sample['area'] == '基隆市中正區')])"
   ]
  },
  {
   "cell_type": "code",
   "execution_count": null,
   "metadata": {
    "colab": {
     "base_uri": "https://localhost:8080/",
     "height": 520
    },
    "executionInfo": {
     "elapsed": 2,
     "status": "ok",
     "timestamp": 1730275535897,
     "user": {
      "displayName": "林志偉",
      "userId": "13117312472561068650"
     },
     "user_tz": -480
    },
    "id": "WVxvTP3fdV1Z",
    "outputId": "ea87e7c9-4cfd-4873-838f-51f4912e782c"
   },
   "outputs": [],
   "source": [
    "df"
   ]
  },
  {
   "cell_type": "code",
   "execution_count": null,
   "metadata": {
    "colab": {
     "base_uri": "https://localhost:8080/"
    },
    "executionInfo": {
     "elapsed": 319,
     "status": "ok",
     "timestamp": 1730275636877,
     "user": {
      "displayName": "林志偉",
      "userId": "13117312472561068650"
     },
     "user_tz": -480
    },
    "id": "PUfXNvgPuwsI",
    "outputId": "ffdd6619-d8af-450a-d91e-73f96370f23e"
   },
   "outputs": [],
   "source": [
    "df['area'].unique()"
   ]
  },
  {
   "cell_type": "code",
   "execution_count": null,
   "metadata": {
    "colab": {
     "base_uri": "https://localhost:8080/",
     "height": 210
    },
    "executionInfo": {
     "elapsed": 318,
     "status": "ok",
     "timestamp": 1730275666083,
     "user": {
      "displayName": "林志偉",
      "userId": "13117312472561068650"
     },
     "user_tz": -480
    },
    "id": "NWqD5XzBxjg_",
    "outputId": "b4bdb31a-72d4-4fa5-bf71-362d7abf370d"
   },
   "outputs": [],
   "source": [
    "df.value_counts('area')"
   ]
  },
  {
   "cell_type": "code",
   "execution_count": null,
   "metadata": {
    "id": "rgtpHYoWvM9-"
   },
   "outputs": [],
   "source": [
    "df_sample = df.copy()\n",
    "def get_last_name(full_name):\n",
    "    return full_name[0]\n",
    "df_sample['last_name'] = df_sample['name'].apply(get_last_name)\n",
    "df_sample"
   ]
  },
  {
   "cell_type": "markdown",
   "metadata": {
    "id": "u-egMDhW3gQI"
   },
   "source": [
    "# 資料分組運算: groupby, agg"
   ]
  },
  {
   "cell_type": "code",
   "execution_count": null,
   "metadata": {
    "colab": {
     "base_uri": "https://localhost:8080/",
     "height": 178
    },
    "executionInfo": {
     "elapsed": 320,
     "status": "ok",
     "timestamp": 1730275779211,
     "user": {
      "displayName": "林志偉",
      "userId": "13117312472561068650"
     },
     "user_tz": -480
    },
    "id": "_H5XSBlM3gY_",
    "outputId": "cb0c6768-38b5-4b07-e820-d55d4297eb80"
   },
   "outputs": [],
   "source": [
    "#客戶中男女生的平均年齡\n",
    "df_sample = df.copy()\n",
    "print('mean of all ages:', df_sample['age'].mean())\n",
    "print('mean of age by gender:\\n', df_sample.groupby('gender')['age'].mean())"
   ]
  },
  {
   "cell_type": "code",
   "execution_count": null,
   "metadata": {
    "colab": {
     "base_uri": "https://localhost:8080/",
     "height": 210
    },
    "executionInfo": {
     "elapsed": 347,
     "status": "ok",
     "timestamp": 1730275835445,
     "user": {
      "displayName": "林志偉",
      "userId": "13117312472561068650"
     },
     "user_tz": -480
    },
    "id": "WSOMb5dZ3nXP",
    "outputId": "fb39c810-6832-4e89-f8ca-261c4c17e7a1"
   },
   "outputs": [],
   "source": [
    "#客戶中住各區的人數\n",
    "df_sample.groupby('area')['id'].count()"
   ]
  },
  {
   "cell_type": "code",
   "execution_count": null,
   "metadata": {
    "colab": {
     "base_uri": "https://localhost:8080/",
     "height": 143
    },
    "executionInfo": {
     "elapsed": 354,
     "status": "ok",
     "timestamp": 1730275898518,
     "user": {
      "displayName": "林志偉",
      "userId": "13117312472561068650"
     },
     "user_tz": -480
    },
    "id": "HFQsp8Ks30z3",
    "outputId": "7da33e63-00ce-4941-b774-c619b8e36642"
   },
   "outputs": [],
   "source": [
    "#彙總統計：agg(), 客戶中男女生的平均年齡、最年長及最年輕的年齡\n",
    "df_sample.groupby('gender')['age'].agg(['mean', 'max', 'min'])\n",
    "# df_sample.groupby('gender')['age'].mean()\n",
    "# df_sample.groupby('gender')['age'].max()\n",
    "# df_sample.groupby('gender')['age'].min()\n",
    "\n"
   ]
  },
  {
   "cell_type": "markdown",
   "metadata": {
    "id": "OQwZaWG3QzaS"
   },
   "source": [
    "# 繪圖應用 (年度銷售)"
   ]
  },
  {
   "cell_type": "markdown",
   "metadata": {
    "id": "DvCdABcJfKMy"
   },
   "source": [
    "## 設定Matplotlib的中文顯示"
   ]
  },
  {
   "cell_type": "markdown",
   "metadata": {
    "id": "qxKv1lRDR4U8"
   },
   "source": [
    "## 繪製長條圖、橫條圖、堆疊圖\n"
   ]
  },
  {
   "cell_type": "code",
   "execution_count": null,
   "metadata": {
    "colab": {
     "base_uri": "https://localhost:8080/",
     "height": 143
    },
    "executionInfo": {
     "elapsed": 314,
     "status": "ok",
     "timestamp": 1730276259065,
     "user": {
      "displayName": "林志偉",
      "userId": "13117312472561068650"
     },
     "user_tz": -480
    },
    "id": "ycVcftFWgGjV",
    "outputId": "e03ac560-7909-421a-f16b-ab3bcdd4c262"
   },
   "outputs": [],
   "source": [
    "df"
   ]
  },
  {
   "cell_type": "code",
   "execution_count": null,
   "metadata": {
    "colab": {
     "base_uri": "https://localhost:8080/",
     "height": 412
    },
    "executionInfo": {
     "elapsed": 756,
     "status": "ok",
     "timestamp": 1730276360348,
     "user": {
      "displayName": "林志偉",
      "userId": "13117312472561068650"
     },
     "user_tz": -480
    },
    "id": "ndV4oc6WQ2_b",
    "outputId": "3c808910-3c59-4516-e166-087930833a87"
   },
   "outputs": [],
   "source": [
    "import pandas as pd\n",
    "from matplotlib import pyplot as plt\n",
    "# 設定中文字型 Heiti TC\n",
    "plt.rcParams['font.sans-serif']=['Heiti TC']\n",
    "df = pd.DataFrame([[250,320,300,312,280],\n",
    "\t\t\t\t\t\t\t[280,300,280,290,310],\n",
    "\t\t\t\t\t\t\t[220,280,250,305,250]],\n",
    "\t\t\t\t\t\t\tindex=['北部','中部','南部'],\n",
    "\t\t\t\t\t\t\tcolumns=[2015,2016,2017,2018,2019])\n",
    "\n",
    "g1 = df.plot(kind='bar', title='長條圖', figsize=[10,5])\n",
    "# g2 = df.plot(kind='barh', title='橫條圖', figsize=[10,5])\n",
    "# g3 = df.plot(kind='bar', stacked=True, title='堆疊圖', figsize=[10,5])"
   ]
  },
  {
   "cell_type": "markdown",
   "metadata": {
    "id": "GXe_UHn1R7pc"
   },
   "source": [
    "## 繪製折線圖"
   ]
  },
  {
   "cell_type": "code",
   "execution_count": null,
   "metadata": {
    "id": "9aNqpyz1R7x7"
   },
   "outputs": [],
   "source": [
    "import pandas as pd\n",
    "from matplotlib import pyplot as plt\n",
    "# 設定中文字型 Heiti TC\n",
    "plt.rcParams['font.sans-serif']=['Heiti TC']\n",
    "\n",
    "df = pd.DataFrame([[250,320,300,312,280],\n",
    "\t\t\t\t\t\t\t[280,300,280,290,310],\n",
    "\t\t\t\t\t\t\t[220,280,250,305,250]],\n",
    "\t\t\t\t\t\t\tindex=['北部','中部','南部'],\n",
    "\t\t\t\t\t\t\tcolumns=[2015,2016,2017,2018,2019])\n",
    "\n",
    "g1 = df.iloc[0].plot(kind='line', legend=True,\n",
    "\t\t\t\t\t\t\t  xticks=range(2015,2020),\n",
    "\t\t\t\t\t\t\t  title='公司分區年度銷售表',\n",
    "\t\t\t\t\t\t\t  figsize=[10,5])\n",
    "g1 = df.iloc[1].plot(kind='line',\n",
    "\t\t\t\t\t\t\t  legend=True,\n",
    "\t\t\t\t\t\t\t   xticks=range(2015,2020))\n",
    "g1 = df.iloc[2].plot(kind='line',\n",
    "\t\t\t\t\t\t\t\t\t  legend=True,\n",
    "\t\t\t\t\t\t\t\t\t  xticks=range(2015,2020))"
   ]
  },
  {
   "cell_type": "markdown",
   "metadata": {
    "id": "TzJjbGbHSX7C"
   },
   "source": [
    "## 繪製圓餅圖"
   ]
  },
  {
   "cell_type": "code",
   "execution_count": null,
   "metadata": {
    "colab": {
     "base_uri": "https://localhost:8080/",
     "height": 199
    },
    "executionInfo": {
     "elapsed": 1461,
     "status": "ok",
     "timestamp": 1730276469713,
     "user": {
      "displayName": "林志偉",
      "userId": "13117312472561068650"
     },
     "user_tz": -480
    },
    "id": "ggBX-t1qSXqD",
    "outputId": "df9b3de0-32a6-4d37-d36e-8dad29b02657"
   },
   "outputs": [],
   "source": [
    "import pandas as pd\n",
    "from matplotlib import pyplot as plt\n",
    "# 設定中文字型 Heiti TC\n",
    "plt.rcParams['font.sans-serif']=['Heiti TC']\n",
    "\n",
    "df = pd.DataFrame([[250,320,300,312,280],\n",
    "                   [280,300,280,290,310],\n",
    "                   [220,280,250,305,250]],\n",
    "                  index=['北部','中部','南部'],\n",
    "                  columns=[2015,2016,2017,2018,2019])\n",
    "df.plot(kind='pie', subplots=True, figsize=[20,20])"
   ]
  },
  {
   "cell_type": "code",
   "execution_count": null,
   "metadata": {
    "id": "2F7DR8YPS4zL"
   },
   "outputs": [],
   "source": []
  }
 ],
 "metadata": {
  "colab": {
   "collapsed_sections": [
    "kxgoWZjYVvgi"
   ],
   "provenance": [],
   "toc_visible": true
  },
  "kernelspec": {
   "display_name": ".venv",
   "language": "python",
   "name": "python3"
  },
  "language_info": {
   "codemirror_mode": {
    "name": "ipython",
    "version": 3
   },
   "file_extension": ".py",
   "mimetype": "text/x-python",
   "name": "python",
   "nbconvert_exporter": "python",
   "pygments_lexer": "ipython3",
   "version": "3.13.1"
  }
 },
 "nbformat": 4,
 "nbformat_minor": 0
}
