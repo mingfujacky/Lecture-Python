{
 "cells": [
  {
   "cell_type": "markdown",
   "metadata": {},
   "source": [
    "# Pandas module\n",
    "- Pandas是Python語言的一個高效簡易的資料處理和分析工具，類似於Excel的程式版本\n",
    "- 提供資料結構 (Series, DataFrame) 和運算操作，因此可以用Python來操作試算表內的資料。\n"
   ]
  },
  {
   "cell_type": "markdown",
   "metadata": {},
   "source": [
    "![pandas dataframe and series](https://www.altexsoft.com/static/blog-post/2024/2/a2b6d6bd-898e-424f-98a8-50b3bdf775eb.webp)"
   ]
  },
  {
   "cell_type": "markdown",
   "metadata": {
    "id": "kxgoWZjYVvgi"
   },
   "source": [
    "# Import library"
   ]
  },
  {
   "cell_type": "code",
   "execution_count": 1,
   "metadata": {
    "executionInfo": {
     "elapsed": 326,
     "status": "ok",
     "timestamp": 1730270650418,
     "user": {
      "displayName": "林志偉",
      "userId": "13117312472561068650"
     },
     "user_tz": -480
    },
    "id": "vCNhDZPoV4KB"
   },
   "outputs": [],
   "source": [
    "import numpy as np\n",
    "import pandas as pd\n",
    "import matplotlib\n",
    "from matplotlib.font_manager import fontManager"
   ]
  },
  {
   "cell_type": "markdown",
   "metadata": {
    "id": "AbFDj8PrSdPH"
   },
   "source": [
    "# 建立Series"
   ]
  },
  {
   "cell_type": "markdown",
   "metadata": {},
   "source": [
    "- Series 是一個一維的資料結構, 只有一個索引\n",
    "- pd.Series(資料 [, index = 索引])\n",
    "  - 資料可用 List, Dict, Tuple, Numpy\n",
    "  - 索引可選填，預設為整數List"
   ]
  },
  {
   "cell_type": "code",
   "execution_count": 2,
   "metadata": {
    "colab": {
     "base_uri": "https://localhost:8080/"
    },
    "executionInfo": {
     "elapsed": 294,
     "status": "ok",
     "timestamp": 1730270744772,
     "user": {
      "displayName": "林志偉",
      "userId": "13117312472561068650"
     },
     "user_tz": -480
    },
    "id": "XQ_IBEzKRz9D",
    "outputId": "20c27501-9798-48a8-d2a7-bc07669a18ca"
   },
   "outputs": [
    {
     "name": "stdout",
     "output_type": "stream",
     "text": [
      "0    a\n",
      "1    c\n",
      "2    x\n",
      "3    y\n",
      "dtype: object\n",
      "['a' 'c' 'x' 'y']\n",
      "RangeIndex(start=0, stop=4, step=1)\n"
     ]
    }
   ],
   "source": [
    "#用串列建立Series物件\n",
    "foo = ['a', 'c', 'x', 'y']\n",
    "my_ser = pd.Series(foo)\n",
    "print(my_ser)           #顯示Series\n",
    "print(my_ser.values)    #顯示值\n",
    "print(my_ser.index)     #顯示索引"
   ]
  },
  {
   "cell_type": "code",
   "execution_count": 3,
   "metadata": {
    "colab": {
     "base_uri": "https://localhost:8080/",
     "height": 178
    },
    "executionInfo": {
     "elapsed": 325,
     "status": "ok",
     "timestamp": 1730270810154,
     "user": {
      "displayName": "林志偉",
      "userId": "13117312472561068650"
     },
     "user_tz": -480
    },
    "id": "d68MSCgMWol9",
    "outputId": "19c7c358-4a0b-4a77-dc40-69a08a38a4f1"
   },
   "outputs": [
    {
     "name": "stdout",
     "output_type": "stream",
     "text": [
      "聯電      42\n",
      "台積電    510\n",
      "聯發科    694\n",
      "dtype: int64\n",
      "[ 42 510 694]\n",
      "Index(['聯電', '台積電', '聯發科'], dtype='object')\n"
     ]
    }
   ],
   "source": [
    "#用串列建立Series物件並自訂索引\n",
    "company = ['聯電', '台積電', '聯發科']\n",
    "stock_price = [42, 510, 694]\n",
    "stock = pd.Series(stock_price, index=company)\n",
    "print(stock)\n",
    "print(stock.values)\n",
    "print(stock.index)"
   ]
  },
  {
   "cell_type": "code",
   "execution_count": 4,
   "metadata": {
    "colab": {
     "base_uri": "https://localhost:8080/",
     "height": 107
    },
    "executionInfo": {
     "elapsed": 325,
     "status": "ok",
     "timestamp": 1730270945147,
     "user": {
      "displayName": "林志偉",
      "userId": "13117312472561068650"
     },
     "user_tz": -480
    },
    "id": "Yq2wJMqRWWPk",
    "outputId": "d67b653d-9cc9-4644-8bd3-78bfbfd56eb2"
   },
   "outputs": [
    {
     "name": "stdout",
     "output_type": "stream",
     "text": [
      "Taiwan          台北\n",
      "US        New York\n",
      "Japan        Tokyo\n",
      "dtype: object\n"
     ]
    }
   ],
   "source": [
    "# 用Dict建立Series\n",
    "dict1 = {'Taiwan': '台北', 'US': 'New York', 'Japan': 'Tokyo'}\n",
    "city = pd.Series(dict1)\n",
    "print(city)"
   ]
  },
  {
   "cell_type": "markdown",
   "metadata": {
    "id": "gMwM76meWmxF"
   },
   "source": [
    "# 讀取Series"
   ]
  },
  {
   "cell_type": "code",
   "execution_count": 5,
   "metadata": {
    "colab": {
     "base_uri": "https://localhost:8080/"
    },
    "executionInfo": {
     "elapsed": 317,
     "status": "ok",
     "timestamp": 1730270995290,
     "user": {
      "displayName": "林志偉",
      "userId": "13117312472561068650"
     },
     "user_tz": -480
    },
    "id": "eQx4P-adfuDl",
    "outputId": "7904cc24-d89f-475e-9b06-ab4c0e4fff05"
   },
   "outputs": [
    {
     "name": "stdout",
     "output_type": "stream",
     "text": [
      "台北\n",
      "台北\n",
      "Taiwan\n"
     ]
    }
   ],
   "source": [
    "print(city['Taiwan']) # get data by key\n",
    "print(city.iloc[0])        # get data by index\n",
    "print(city.index[0])  # get key by index"
   ]
  },
  {
   "cell_type": "markdown",
   "metadata": {},
   "source": [
    "# Lab series"
   ]
  },
  {
   "cell_type": "markdown",
   "metadata": {},
   "source": [
    "(1) 根據下列表格資料，創建一個 Series (city_revenues), 回答下列問題\n",
    "city | revenues\n",
    "-----|---------\n",
    "Amsterdam|4200\n",
    "Toronto|8000\n",
    "Tokyo|6500\n",
    "\n",
    "- Toronto 的 revenues 是多少\n",
    "- 第零筆資料的 revenues 是多少\n",
    "- 最後一筆資料的 revenues 是多少\n",
    "- 求 revenues 的 sum"
   ]
  },
  {
   "cell_type": "markdown",
   "metadata": {},
   "source": [
    "(2) 根據下列表格資料，創建一個 Series (city_employee_count),回答下列問題\n",
    "city | employee_count\n",
    "-----|----------------\n",
    "Amsterdam|5\n",
    "Tokyo|8\n",
    "\n",
    "Tokyo 是否在 city_employee_count 中"
   ]
  },
  {
   "cell_type": "markdown",
   "metadata": {},
   "source": [
    "(3) 合併 city_revenues 和 city_employee_count 來產生一個 DataFrame (city_data), 回答下列問題\n",
    "- 查詢 Amsterdam 的列資料\n",
    "- 查詢第零橫列的列資料\n",
    "- 查詢 Amsterdam 到 Tokyo的 revenue 資料\n",
    "\n"
   ]
  },
  {
   "cell_type": "code",
   "execution_count": 4,
   "metadata": {},
   "outputs": [
    {
     "name": "stdout",
     "output_type": "stream",
     "text": [
      "8000\n",
      "4200\n",
      "6500\n",
      "18700\n",
      "True\n"
     ]
    },
    {
     "data": {
      "application/vnd.microsoft.datawrangler.viewer.v0+json": {
       "columns": [
        {
         "name": "index",
         "rawType": "object",
         "type": "string"
        },
        {
         "name": "revenues",
         "rawType": "int64",
         "type": "integer"
        },
        {
         "name": "employee_count",
         "rawType": "float64",
         "type": "float"
        }
       ],
       "ref": "16d253dd-49c5-48da-a104-217fead92682",
       "rows": [
        [
         "Amsterdam",
         "4200",
         "5.0"
        ],
        [
         "Tokyo",
         "6500",
         "8.0"
        ]
       ],
       "shape": {
        "columns": 2,
        "rows": 2
       }
      },
      "text/html": [
       "<div>\n",
       "<style scoped>\n",
       "    .dataframe tbody tr th:only-of-type {\n",
       "        vertical-align: middle;\n",
       "    }\n",
       "\n",
       "    .dataframe tbody tr th {\n",
       "        vertical-align: top;\n",
       "    }\n",
       "\n",
       "    .dataframe thead th {\n",
       "        text-align: right;\n",
       "    }\n",
       "</style>\n",
       "<table border=\"1\" class=\"dataframe\">\n",
       "  <thead>\n",
       "    <tr style=\"text-align: right;\">\n",
       "      <th></th>\n",
       "      <th>revenues</th>\n",
       "      <th>employee_count</th>\n",
       "    </tr>\n",
       "  </thead>\n",
       "  <tbody>\n",
       "    <tr>\n",
       "      <th>Amsterdam</th>\n",
       "      <td>4200</td>\n",
       "      <td>5.0</td>\n",
       "    </tr>\n",
       "    <tr>\n",
       "      <th>Tokyo</th>\n",
       "      <td>6500</td>\n",
       "      <td>8.0</td>\n",
       "    </tr>\n",
       "  </tbody>\n",
       "</table>\n",
       "</div>"
      ],
      "text/plain": [
       "           revenues  employee_count\n",
       "Amsterdam      4200             5.0\n",
       "Tokyo          6500             8.0"
      ]
     },
     "execution_count": 4,
     "metadata": {},
     "output_type": "execute_result"
    }
   ],
   "source": [
    "import pandas as pd\n",
    "\n",
    "city_revenues = pd.Series([4200, 8000, 6500], \\\n",
    "                          index=['Amsterdam', 'Toronto', 'Tokyo'])\n",
    "print(city_revenues['Toronto'])\n",
    "print(city_revenues.iloc[0])\n",
    "print(city_revenues.iloc[-1])\n",
    "print(city_revenues.sum())\n",
    "\n",
    "city_employee_count = pd.Series([5, 8], index=['Amsterdam', 'Tokyo'])\n",
    "print('Tokyo' in city_employee_count.index)\n",
    "\n",
    "city_data = pd.DataFrame({'revenues': city_revenues,\n",
    "                           'employee_count':city_employee_count})\n",
    "city_data.loc['Amsterdam']\n",
    "city_data.iloc[0]\n",
    "city_data.loc['Amsterdam':'Tokyo']"
   ]
  },
  {
   "cell_type": "markdown",
   "metadata": {
    "id": "f2qQVhXrSYLo"
   },
   "source": [
    "# 建立DataFrame"
   ]
  },
  {
   "cell_type": "markdown",
   "metadata": {},
   "source": [
    "- DataFrame 是一個二維的資料結構, 有橫列索引 (row index) 和直欄標籤 (column label)\n",
    "- DataFrame 中的每一個直行可以被視為一個 Series\n",
    "- pd.DataFrame(資料 [, index = 橫列索引, columns = 直欄標籤])\n",
    "- 資料可用 List, Dict, Numpy, Tuple, Series.\n",
    "- 橫列索引是列號，可選填，預設為整數List\n",
    "- 直欄標籤是欄位名稱"
   ]
  },
  {
   "cell_type": "markdown",
   "metadata": {
    "id": "CdC5SufcyG1n"
   },
   "source": [
    "### 用List建立DataFrame"
   ]
  },
  {
   "cell_type": "code",
   "execution_count": 5,
   "metadata": {
    "colab": {
     "base_uri": "https://localhost:8080/",
     "height": 175
    },
    "executionInfo": {
     "elapsed": 321,
     "status": "ok",
     "timestamp": 1730271140945,
     "user": {
      "displayName": "林志偉",
      "userId": "13117312472561068650"
     },
     "user_tz": -480
    },
    "id": "jw45UH1VyDcm",
    "outputId": "0a1d3790-1499-4b5c-f23b-6eadf0439160"
   },
   "outputs": [
    {
     "name": "stdout",
     "output_type": "stream",
     "text": [
      "    0   1   2   3   4\n",
      "0  65  92  78  83  70\n",
      "1  90  72  76  93  56\n",
      "2  81  85  91  89  77\n",
      "3  79  53  47  94  80\n",
      "[[65 92 78 83 70]\n",
      " [90 72 76 93 56]\n",
      " [81 85 91 89 77]\n",
      " [79 53 47 94 80]]\n",
      "RangeIndex(start=0, stop=4, step=1)\n"
     ]
    }
   ],
   "source": [
    "foo=  [[65,92,78,83,70],\n",
    "       [90,72,76,93,56],\n",
    "       [81,85,91,89,77],\n",
    "       [79,53,47,94,80],\n",
    "       ]\n",
    "df = pd.DataFrame(foo)\n",
    "print(df)\n",
    "print(df.values)\n",
    "print(df.index)\n",
    "# 缺row index 跟column label"
   ]
  },
  {
   "cell_type": "code",
   "execution_count": 8,
   "metadata": {
    "colab": {
     "base_uri": "https://localhost:8080/",
     "height": 175
    },
    "executionInfo": {
     "elapsed": 323,
     "status": "ok",
     "timestamp": 1730271201480,
     "user": {
      "displayName": "林志偉",
      "userId": "13117312472561068650"
     },
     "user_tz": -480
    },
    "id": "pPTONz8XzLgu",
    "outputId": "2d16e95c-2433-4dd2-aebe-0750e799c10b"
   },
   "outputs": [
    {
     "data": {
      "application/vnd.microsoft.datawrangler.viewer.v0+json": {
       "columns": [
        {
         "name": "index",
         "rawType": "object",
         "type": "string"
        },
        {
         "name": "國文",
         "rawType": "int64",
         "type": "integer"
        },
        {
         "name": "英文",
         "rawType": "int64",
         "type": "integer"
        },
        {
         "name": "數學",
         "rawType": "int64",
         "type": "integer"
        },
        {
         "name": "自然",
         "rawType": "int64",
         "type": "integer"
        },
        {
         "name": "社會",
         "rawType": "int64",
         "type": "integer"
        }
       ],
       "ref": "47bfef12-8f1c-473d-b058-544746352089",
       "rows": [
        [
         "王小明",
         "65",
         "92",
         "78",
         "83",
         "70"
        ],
        [
         "李小美",
         "90",
         "72",
         "76",
         "93",
         "56"
        ],
        [
         "陳大同",
         "81",
         "85",
         "91",
         "89",
         "77"
        ],
        [
         "林小玉",
         "79",
         "53",
         "47",
         "94",
         "80"
        ]
       ],
       "shape": {
        "columns": 5,
        "rows": 4
       }
      },
      "text/html": [
       "<div>\n",
       "<style scoped>\n",
       "    .dataframe tbody tr th:only-of-type {\n",
       "        vertical-align: middle;\n",
       "    }\n",
       "\n",
       "    .dataframe tbody tr th {\n",
       "        vertical-align: top;\n",
       "    }\n",
       "\n",
       "    .dataframe thead th {\n",
       "        text-align: right;\n",
       "    }\n",
       "</style>\n",
       "<table border=\"1\" class=\"dataframe\">\n",
       "  <thead>\n",
       "    <tr style=\"text-align: right;\">\n",
       "      <th></th>\n",
       "      <th>國文</th>\n",
       "      <th>英文</th>\n",
       "      <th>數學</th>\n",
       "      <th>自然</th>\n",
       "      <th>社會</th>\n",
       "    </tr>\n",
       "  </thead>\n",
       "  <tbody>\n",
       "    <tr>\n",
       "      <th>王小明</th>\n",
       "      <td>65</td>\n",
       "      <td>92</td>\n",
       "      <td>78</td>\n",
       "      <td>83</td>\n",
       "      <td>70</td>\n",
       "    </tr>\n",
       "    <tr>\n",
       "      <th>李小美</th>\n",
       "      <td>90</td>\n",
       "      <td>72</td>\n",
       "      <td>76</td>\n",
       "      <td>93</td>\n",
       "      <td>56</td>\n",
       "    </tr>\n",
       "    <tr>\n",
       "      <th>陳大同</th>\n",
       "      <td>81</td>\n",
       "      <td>85</td>\n",
       "      <td>91</td>\n",
       "      <td>89</td>\n",
       "      <td>77</td>\n",
       "    </tr>\n",
       "    <tr>\n",
       "      <th>林小玉</th>\n",
       "      <td>79</td>\n",
       "      <td>53</td>\n",
       "      <td>47</td>\n",
       "      <td>94</td>\n",
       "      <td>80</td>\n",
       "    </tr>\n",
       "  </tbody>\n",
       "</table>\n",
       "</div>"
      ],
      "text/plain": [
       "     國文  英文  數學  自然  社會\n",
       "王小明  65  92  78  83  70\n",
       "李小美  90  72  76  93  56\n",
       "陳大同  81  85  91  89  77\n",
       "林小玉  79  53  47  94  80"
      ]
     },
     "execution_count": 8,
     "metadata": {},
     "output_type": "execute_result"
    }
   ],
   "source": [
    "# 設定row index 跟column label\n",
    "df = pd.DataFrame(foo,\n",
    "                   index=['王小明','李小美','陳大同','林小玉'],\n",
    "                   columns=['國文','英文','數學','自然','社會'])\n",
    "df"
   ]
  },
  {
   "cell_type": "markdown",
   "metadata": {
    "id": "NPryO-5Jzn9O"
   },
   "source": [
    "### 用Dict建立DataFrame"
   ]
  },
  {
   "cell_type": "code",
   "execution_count": null,
   "metadata": {
    "colab": {
     "base_uri": "https://localhost:8080/",
     "height": 175
    },
    "executionInfo": {
     "elapsed": 328,
     "status": "ok",
     "timestamp": 1730271880745,
     "user": {
      "displayName": "林志偉",
      "userId": "13117312472561068650"
     },
     "user_tz": -480
    },
    "id": "3OJe8I-TzoEG",
    "outputId": "0a687f28-664d-47bb-c4e3-eb4c1526f01e"
   },
   "outputs": [],
   "source": [
    "# 以column為基礎的dict\n",
    "scores = {'國文':{'王小明':65,'李小美':90,'陳大同':81,'林小玉':79},\n",
    "          '英文':{'王小明':92,'李小美':72,'陳大同':85,'林小玉':53},\n",
    "          '數學':{'王小明':78,'李小美':76,'陳大同':91,'林小玉':47},\n",
    "          '自然':{'王小明':83,'李小美':93,'陳大同':89,'林小玉':94},\n",
    "          '社會':{'王小明':70,'李小美':56,'陳大同':77,'林小玉':80}}\n",
    "pd.DataFrame(scores)"
   ]
  },
  {
   "cell_type": "markdown",
   "metadata": {
    "id": "Yi74LzEuVFu4"
   },
   "source": [
    "## 用Array建立DataFrame"
   ]
  },
  {
   "cell_type": "code",
   "execution_count": null,
   "metadata": {
    "colab": {
     "base_uri": "https://localhost:8080/"
    },
    "executionInfo": {
     "elapsed": 310,
     "status": "ok",
     "timestamp": 1730271465614,
     "user": {
      "displayName": "林志偉",
      "userId": "13117312472561068650"
     },
     "user_tz": -480
    },
    "id": "Ji2nT-6IVSYl",
    "outputId": "b230847b-2d7f-4a23-fb5e-b2c37461495d"
   },
   "outputs": [],
   "source": [
    "mydata = np.random.randn(4, 3)\n",
    "print(mydata)\n",
    "df = pd.DataFrame(mydata, columns=list(\"ABC\"), index=list(\"甲乙丙丁\"))\n",
    "df"
   ]
  },
  {
   "cell_type": "markdown",
   "metadata": {
    "id": "j3_QGiFephQ2"
   },
   "source": [
    "## 了解DataFrame的結構"
   ]
  },
  {
   "cell_type": "code",
   "execution_count": null,
   "metadata": {
    "colab": {
     "base_uri": "https://localhost:8080/"
    },
    "executionInfo": {
     "elapsed": 315,
     "status": "ok",
     "timestamp": 1730271640919,
     "user": {
      "displayName": "林志偉",
      "userId": "13117312472561068650"
     },
     "user_tz": -480
    },
    "id": "GAq_EOeXo_I5",
    "outputId": "87ff0140-c022-45b1-c977-90d8530077dd"
   },
   "outputs": [
    {
     "data": {
      "application/vnd.microsoft.datawrangler.viewer.v0+json": {
       "columns": [
        {
         "name": "index",
         "rawType": "object",
         "type": "string"
        },
        {
         "name": "國文",
         "rawType": "int64",
         "type": "integer"
        },
        {
         "name": "英文",
         "rawType": "int64",
         "type": "integer"
        },
        {
         "name": "數學",
         "rawType": "int64",
         "type": "integer"
        },
        {
         "name": "自然",
         "rawType": "int64",
         "type": "integer"
        },
        {
         "name": "社會",
         "rawType": "int64",
         "type": "integer"
        }
       ],
       "ref": "4f6a7486-d903-4d86-ac16-a3a6683cb676",
       "rows": [
        [
         "王小明",
         "65",
         "92",
         "78",
         "83",
         "70"
        ],
        [
         "李小美",
         "90",
         "72",
         "76",
         "93",
         "56"
        ],
        [
         "陳大同",
         "81",
         "85",
         "91",
         "89",
         "77"
        ],
        [
         "林小玉",
         "79",
         "53",
         "47",
         "94",
         "80"
        ]
       ],
       "shape": {
        "columns": 5,
        "rows": 4
       }
      },
      "text/html": [
       "<div>\n",
       "<style scoped>\n",
       "    .dataframe tbody tr th:only-of-type {\n",
       "        vertical-align: middle;\n",
       "    }\n",
       "\n",
       "    .dataframe tbody tr th {\n",
       "        vertical-align: top;\n",
       "    }\n",
       "\n",
       "    .dataframe thead th {\n",
       "        text-align: right;\n",
       "    }\n",
       "</style>\n",
       "<table border=\"1\" class=\"dataframe\">\n",
       "  <thead>\n",
       "    <tr style=\"text-align: right;\">\n",
       "      <th></th>\n",
       "      <th>國文</th>\n",
       "      <th>英文</th>\n",
       "      <th>數學</th>\n",
       "      <th>自然</th>\n",
       "      <th>社會</th>\n",
       "    </tr>\n",
       "  </thead>\n",
       "  <tbody>\n",
       "    <tr>\n",
       "      <th>王小明</th>\n",
       "      <td>65</td>\n",
       "      <td>92</td>\n",
       "      <td>78</td>\n",
       "      <td>83</td>\n",
       "      <td>70</td>\n",
       "    </tr>\n",
       "    <tr>\n",
       "      <th>李小美</th>\n",
       "      <td>90</td>\n",
       "      <td>72</td>\n",
       "      <td>76</td>\n",
       "      <td>93</td>\n",
       "      <td>56</td>\n",
       "    </tr>\n",
       "    <tr>\n",
       "      <th>陳大同</th>\n",
       "      <td>81</td>\n",
       "      <td>85</td>\n",
       "      <td>91</td>\n",
       "      <td>89</td>\n",
       "      <td>77</td>\n",
       "    </tr>\n",
       "    <tr>\n",
       "      <th>林小玉</th>\n",
       "      <td>79</td>\n",
       "      <td>53</td>\n",
       "      <td>47</td>\n",
       "      <td>94</td>\n",
       "      <td>80</td>\n",
       "    </tr>\n",
       "  </tbody>\n",
       "</table>\n",
       "</div>"
      ],
      "text/plain": [
       "     國文  英文  數學  自然  社會\n",
       "王小明  65  92  78  83  70\n",
       "李小美  90  72  76  93  56\n",
       "陳大同  81  85  91  89  77\n",
       "林小玉  79  53  47  94  80"
      ]
     },
     "execution_count": 12,
     "metadata": {},
     "output_type": "execute_result"
    }
   ],
   "source": [
    "print(df.shape)\n",
    "print(df.dtypes)\n",
    "print(df.info)\n",
    "print(df.describe())\n",
    "df"
   ]
  },
  {
   "cell_type": "markdown",
   "metadata": {
    "id": "OMdJnr-FqBBn"
   },
   "source": [
    "## 合併兩個DataFrame"
   ]
  },
  {
   "cell_type": "code",
   "execution_count": null,
   "metadata": {
    "colab": {
     "base_uri": "https://localhost:8080/",
     "height": 175
    },
    "executionInfo": {
     "elapsed": 323,
     "status": "ok",
     "timestamp": 1730271744712,
     "user": {
      "displayName": "林志偉",
      "userId": "13117312472561068650"
     },
     "user_tz": -480
    },
    "id": "z-mZx9yTqFL-",
    "outputId": "87161217-6ff9-48a7-b86a-65377e2d31ed"
   },
   "outputs": [],
   "source": [
    "scores = {'國文':{'王小明':65,'李小美':90,'陳大同':81,'林小玉':79},\n",
    "          '英文':{'王小明':92,'李小美':72,'陳大同':85,'林小玉':53},\n",
    "          '數學':{'王小明':78,'李小美':76,'陳大同':91,'林小玉':47},\n",
    "          '自然':{'王小明':83,'李小美':93,'陳大同':89,'林小玉':94},\n",
    "          '社會':{'王小明':70,'李小美':56,'陳大同':77,'林小玉':80}}\n",
    "df1 = pd.DataFrame(scores)\n",
    "scores_others = {'體育':{'王小明':90,'李小美':93,'陳大同':95,'林小玉':80},\n",
    "          '家政':{'王小明':70,'李小美':80,'陳大同':75,'林小玉':90},}\n",
    "\n",
    "df2 = pd.DataFrame(scores_others)\n",
    "df_all = pd.concat([df1, df2], axis=1)\n",
    "df_all"
   ]
  },
  {
   "cell_type": "code",
   "execution_count": null,
   "metadata": {
    "colab": {
     "base_uri": "https://localhost:8080/",
     "height": 175
    },
    "executionInfo": {
     "elapsed": 332,
     "status": "ok",
     "timestamp": 1725344347268,
     "user": {
      "displayName": "林志偉",
      "userId": "13117312472561068650"
     },
     "user_tz": -480
    },
    "id": "BVdtjGAEV0H-",
    "outputId": "280c6713-a517-4822-a756-c7c34054da46"
   },
   "outputs": [],
   "source": [
    "mydata = np.random.randn(4, 3)\n",
    "df1 = pd.DataFrame(mydata, columns=list(\"ABC\"))\n",
    "df1"
   ]
  },
  {
   "cell_type": "code",
   "execution_count": null,
   "metadata": {
    "colab": {
     "base_uri": "https://localhost:8080/",
     "height": 143
    },
    "executionInfo": {
     "elapsed": 315,
     "status": "ok",
     "timestamp": 1725344365832,
     "user": {
      "displayName": "林志偉",
      "userId": "13117312472561068650"
     },
     "user_tz": -480
    },
    "id": "T7l7uUsDVtHQ",
    "outputId": "1c68c455-558c-4f5d-9f85-a8bcf3fd399b"
   },
   "outputs": [],
   "source": [
    "df2 = pd.DataFrame(np.random.randn(3, 3), columns=list(\"ABC\"))\n",
    "df2"
   ]
  },
  {
   "cell_type": "code",
   "execution_count": null,
   "metadata": {
    "colab": {
     "base_uri": "https://localhost:8080/",
     "height": 269
    },
    "executionInfo": {
     "elapsed": 328,
     "status": "ok",
     "timestamp": 1725344406434,
     "user": {
      "displayName": "林志偉",
      "userId": "13117312472561068650"
     },
     "user_tz": -480
    },
    "id": "4oE3SzDsV8E1",
    "outputId": "7a44ab1a-a9ef-43c7-9a80-d02f855835d1"
   },
   "outputs": [],
   "source": [
    "#上下合併沒什麼問題\n",
    "df3 = pd.concat([df1, df2], axis=0)\n",
    "df3"
   ]
  },
  {
   "cell_type": "code",
   "execution_count": null,
   "metadata": {
    "colab": {
     "base_uri": "https://localhost:8080/",
     "height": 269
    },
    "executionInfo": {
     "elapsed": 333,
     "status": "ok",
     "timestamp": 1725344437870,
     "user": {
      "displayName": "林志偉",
      "userId": "13117312472561068650"
     },
     "user_tz": -480
    },
    "id": "aUU0nNKIV_6a",
    "outputId": "69445d79-ee31-4580-fa7d-bc686a960fe6"
   },
   "outputs": [],
   "source": [
    "#把 index 重新整理\n",
    "df3.index = range(7)\n",
    "df3"
   ]
  },
  {
   "cell_type": "code",
   "execution_count": null,
   "metadata": {
    "colab": {
     "base_uri": "https://localhost:8080/",
     "height": 175
    },
    "executionInfo": {
     "elapsed": 343,
     "status": "ok",
     "timestamp": 1725344467233,
     "user": {
      "displayName": "林志偉",
      "userId": "13117312472561068650"
     },
     "user_tz": -480
    },
    "id": "ItYpoHQkWICu",
    "outputId": "3602b599-94d7-426e-bc2c-21e56d6ca430"
   },
   "outputs": [],
   "source": [
    "# 左右合併還是可以，不過因為形狀不同，所以會出現NaN。\n",
    "df4 = pd.concat([df1, df2], axis=1)\n",
    "df4"
   ]
  },
  {
   "cell_type": "markdown",
   "metadata": {
    "id": "4RSAEmAn2JX-"
   },
   "source": [
    "# 讀取DataFrame資料"
   ]
  },
  {
   "cell_type": "markdown",
   "metadata": {
    "id": "2VzQ9dGGmpzv"
   },
   "source": [
    "## 以欄位取值 df[column]"
   ]
  },
  {
   "cell_type": "code",
   "execution_count": 13,
   "metadata": {
    "colab": {
     "base_uri": "https://localhost:8080/",
     "height": 175
    },
    "executionInfo": {
     "elapsed": 332,
     "status": "ok",
     "timestamp": 1730271897063,
     "user": {
      "displayName": "林志偉",
      "userId": "13117312472561068650"
     },
     "user_tz": -480
    },
    "id": "o54chOM6jCHA",
    "outputId": "cd59e234-d701-4e49-c5e6-fad72f67bcd2"
   },
   "outputs": [
    {
     "data": {
      "application/vnd.microsoft.datawrangler.viewer.v0+json": {
       "columns": [
        {
         "name": "index",
         "rawType": "object",
         "type": "string"
        },
        {
         "name": "國文",
         "rawType": "int64",
         "type": "integer"
        },
        {
         "name": "英文",
         "rawType": "int64",
         "type": "integer"
        },
        {
         "name": "數學",
         "rawType": "int64",
         "type": "integer"
        },
        {
         "name": "自然",
         "rawType": "int64",
         "type": "integer"
        },
        {
         "name": "社會",
         "rawType": "int64",
         "type": "integer"
        }
       ],
       "ref": "b02fdc80-a8a0-4457-bed0-19ca03252925",
       "rows": [
        [
         "王小明",
         "65",
         "92",
         "78",
         "83",
         "70"
        ],
        [
         "李小美",
         "90",
         "72",
         "76",
         "93",
         "56"
        ],
        [
         "陳大同",
         "81",
         "85",
         "91",
         "89",
         "77"
        ],
        [
         "林小玉",
         "79",
         "53",
         "47",
         "94",
         "80"
        ]
       ],
       "shape": {
        "columns": 5,
        "rows": 4
       }
      },
      "text/html": [
       "<div>\n",
       "<style scoped>\n",
       "    .dataframe tbody tr th:only-of-type {\n",
       "        vertical-align: middle;\n",
       "    }\n",
       "\n",
       "    .dataframe tbody tr th {\n",
       "        vertical-align: top;\n",
       "    }\n",
       "\n",
       "    .dataframe thead th {\n",
       "        text-align: right;\n",
       "    }\n",
       "</style>\n",
       "<table border=\"1\" class=\"dataframe\">\n",
       "  <thead>\n",
       "    <tr style=\"text-align: right;\">\n",
       "      <th></th>\n",
       "      <th>國文</th>\n",
       "      <th>英文</th>\n",
       "      <th>數學</th>\n",
       "      <th>自然</th>\n",
       "      <th>社會</th>\n",
       "    </tr>\n",
       "  </thead>\n",
       "  <tbody>\n",
       "    <tr>\n",
       "      <th>王小明</th>\n",
       "      <td>65</td>\n",
       "      <td>92</td>\n",
       "      <td>78</td>\n",
       "      <td>83</td>\n",
       "      <td>70</td>\n",
       "    </tr>\n",
       "    <tr>\n",
       "      <th>李小美</th>\n",
       "      <td>90</td>\n",
       "      <td>72</td>\n",
       "      <td>76</td>\n",
       "      <td>93</td>\n",
       "      <td>56</td>\n",
       "    </tr>\n",
       "    <tr>\n",
       "      <th>陳大同</th>\n",
       "      <td>81</td>\n",
       "      <td>85</td>\n",
       "      <td>91</td>\n",
       "      <td>89</td>\n",
       "      <td>77</td>\n",
       "    </tr>\n",
       "    <tr>\n",
       "      <th>林小玉</th>\n",
       "      <td>79</td>\n",
       "      <td>53</td>\n",
       "      <td>47</td>\n",
       "      <td>94</td>\n",
       "      <td>80</td>\n",
       "    </tr>\n",
       "  </tbody>\n",
       "</table>\n",
       "</div>"
      ],
      "text/plain": [
       "     國文  英文  數學  自然  社會\n",
       "王小明  65  92  78  83  70\n",
       "李小美  90  72  76  93  56\n",
       "陳大同  81  85  91  89  77\n",
       "林小玉  79  53  47  94  80"
      ]
     },
     "execution_count": 13,
     "metadata": {},
     "output_type": "execute_result"
    }
   ],
   "source": [
    "scores = {'國文':{'王小明':65,'李小美':90,'陳大同':81,'林小玉':79},\n",
    "          '英文':{'王小明':92,'李小美':72,'陳大同':85,'林小玉':53},\n",
    "          '數學':{'王小明':78,'李小美':76,'陳大同':91,'林小玉':47},\n",
    "          '自然':{'王小明':83,'李小美':93,'陳大同':89,'林小玉':94},\n",
    "          '社會':{'王小明':70,'李小美':56,'陳大同':77,'林小玉':80}}\n",
    "df = pd.DataFrame(scores)\n",
    "df"
   ]
  },
  {
   "cell_type": "code",
   "execution_count": 15,
   "metadata": {
    "colab": {
     "base_uri": "https://localhost:8080/",
     "height": 210
    },
    "executionInfo": {
     "elapsed": 333,
     "status": "ok",
     "timestamp": 1725345478317,
     "user": {
      "displayName": "林志偉",
      "userId": "13117312472561068650"
     },
     "user_tz": -480
    },
    "id": "UXP_GNkq2K2X",
    "outputId": "98a7ef98-96bb-49ec-dbd2-4237c12290a6"
   },
   "outputs": [
    {
     "name": "stdout",
     "output_type": "stream",
     "text": [
      "王小明    83\n",
      "李小美    93\n",
      "陳大同    89\n",
      "林小玉    94\n",
      "Name: 自然, dtype: int64\n",
      "<class 'pandas.core.series.Series'>\n"
     ]
    }
   ],
   "source": [
    "#讀一個欄位\n",
    "print(df[\"自然\"])\n",
    "print(type(df[\"自然\"]))\n",
    "# print(df[\"自然\"].dtype)"
   ]
  },
  {
   "cell_type": "code",
   "execution_count": null,
   "metadata": {
    "colab": {
     "base_uri": "https://localhost:8080/",
     "height": 175
    },
    "executionInfo": {
     "elapsed": 312,
     "status": "ok",
     "timestamp": 1730271980206,
     "user": {
      "displayName": "林志偉",
      "userId": "13117312472561068650"
     },
     "user_tz": -480
    },
    "id": "LGqwgqxm58um",
    "outputId": "dc3f0a16-52b3-4534-cab0-516db49f20e2"
   },
   "outputs": [],
   "source": [
    "#讀多個欄位\n",
    "# df[['國文','英文','數學']] #dataframe\n",
    "# df['國文']                 #series\n",
    "# df[['國文']]            #dataframe\n",
    "# df['王小明'] #error, 因為沒有王小明這個欄位, 雖然有有王小明這個index, 但df['xxx']，拿的是column，所以會error"
   ]
  },
  {
   "cell_type": "markdown",
   "metadata": {
    "id": "7ydr5oYjhwUo"
   },
   "source": [
    "## 以index label及column name取值：df.loc()"
   ]
  },
  {
   "cell_type": "code",
   "execution_count": 26,
   "metadata": {
    "colab": {
     "base_uri": "https://localhost:8080/",
     "height": 175
    },
    "executionInfo": {
     "elapsed": 322,
     "status": "ok",
     "timestamp": 1730272000145,
     "user": {
      "displayName": "林志偉",
      "userId": "13117312472561068650"
     },
     "user_tz": -480
    },
    "id": "e-g5zH9iqNBg",
    "outputId": "cbba0de4-f5a9-4cdc-d467-55d5f5392504"
   },
   "outputs": [
    {
     "data": {
      "application/vnd.microsoft.datawrangler.viewer.v0+json": {
       "columns": [
        {
         "name": "index",
         "rawType": "object",
         "type": "string"
        },
        {
         "name": "國文",
         "rawType": "int64",
         "type": "integer"
        },
        {
         "name": "英文",
         "rawType": "int64",
         "type": "integer"
        },
        {
         "name": "數學",
         "rawType": "int64",
         "type": "integer"
        },
        {
         "name": "自然",
         "rawType": "int64",
         "type": "integer"
        },
        {
         "name": "社會",
         "rawType": "int64",
         "type": "integer"
        }
       ],
       "ref": "07fbe59e-6d09-4af7-806f-320c72c08be2",
       "rows": [
        [
         "王小明",
         "65",
         "92",
         "78",
         "83",
         "70"
        ],
        [
         "李小美",
         "90",
         "72",
         "76",
         "93",
         "56"
        ],
        [
         "陳大同",
         "81",
         "85",
         "91",
         "89",
         "77"
        ],
        [
         "林小玉",
         "79",
         "53",
         "47",
         "94",
         "80"
        ]
       ],
       "shape": {
        "columns": 5,
        "rows": 4
       }
      },
      "text/html": [
       "<div>\n",
       "<style scoped>\n",
       "    .dataframe tbody tr th:only-of-type {\n",
       "        vertical-align: middle;\n",
       "    }\n",
       "\n",
       "    .dataframe tbody tr th {\n",
       "        vertical-align: top;\n",
       "    }\n",
       "\n",
       "    .dataframe thead th {\n",
       "        text-align: right;\n",
       "    }\n",
       "</style>\n",
       "<table border=\"1\" class=\"dataframe\">\n",
       "  <thead>\n",
       "    <tr style=\"text-align: right;\">\n",
       "      <th></th>\n",
       "      <th>國文</th>\n",
       "      <th>英文</th>\n",
       "      <th>數學</th>\n",
       "      <th>自然</th>\n",
       "      <th>社會</th>\n",
       "    </tr>\n",
       "  </thead>\n",
       "  <tbody>\n",
       "    <tr>\n",
       "      <th>王小明</th>\n",
       "      <td>65</td>\n",
       "      <td>92</td>\n",
       "      <td>78</td>\n",
       "      <td>83</td>\n",
       "      <td>70</td>\n",
       "    </tr>\n",
       "    <tr>\n",
       "      <th>李小美</th>\n",
       "      <td>90</td>\n",
       "      <td>72</td>\n",
       "      <td>76</td>\n",
       "      <td>93</td>\n",
       "      <td>56</td>\n",
       "    </tr>\n",
       "    <tr>\n",
       "      <th>陳大同</th>\n",
       "      <td>81</td>\n",
       "      <td>85</td>\n",
       "      <td>91</td>\n",
       "      <td>89</td>\n",
       "      <td>77</td>\n",
       "    </tr>\n",
       "    <tr>\n",
       "      <th>林小玉</th>\n",
       "      <td>79</td>\n",
       "      <td>53</td>\n",
       "      <td>47</td>\n",
       "      <td>94</td>\n",
       "      <td>80</td>\n",
       "    </tr>\n",
       "  </tbody>\n",
       "</table>\n",
       "</div>"
      ],
      "text/plain": [
       "     國文  英文  數學  自然  社會\n",
       "王小明  65  92  78  83  70\n",
       "李小美  90  72  76  93  56\n",
       "陳大同  81  85  91  89  77\n",
       "林小玉  79  53  47  94  80"
      ]
     },
     "execution_count": 26,
     "metadata": {},
     "output_type": "execute_result"
    }
   ],
   "source": [
    "scores = {'國文':{'王小明':65,'李小美':90,'陳大同':81,'林小玉':79},\n",
    "          '英文':{'王小明':92,'李小美':72,'陳大同':85,'林小玉':53},\n",
    "          '數學':{'王小明':78,'李小美':76,'陳大同':91,'林小玉':47},\n",
    "          '自然':{'王小明':83,'李小美':93,'陳大同':89,'林小玉':94},\n",
    "          '社會':{'王小明':70,'李小美':56,'陳大同':77,'林小玉':80}}\n",
    "df = pd.DataFrame(scores)\n",
    "df"
   ]
  },
  {
   "cell_type": "code",
   "execution_count": 27,
   "metadata": {
    "colab": {
     "base_uri": "https://localhost:8080/"
    },
    "executionInfo": {
     "elapsed": 321,
     "status": "ok",
     "timestamp": 1730272042375,
     "user": {
      "displayName": "林志偉",
      "userId": "13117312472561068650"
     },
     "user_tz": -480
    },
    "id": "9JyYMnqphyz3",
    "outputId": "1eb5b341-707a-4f0a-abb3-25fbf8b1d5cc"
   },
   "outputs": [
    {
     "name": "stdout",
     "output_type": "stream",
     "text": [
      "80\n",
      "<class 'numpy.int64'>\n"
     ]
    }
   ],
   "source": [
    "print(df.loc[\"林小玉\", \"社會\"]) # int\n",
    "print(type(df.loc[\"林小玉\", \"社會\"]))"
   ]
  },
  {
   "cell_type": "code",
   "execution_count": 28,
   "metadata": {
    "colab": {
     "base_uri": "https://localhost:8080/"
    },
    "executionInfo": {
     "elapsed": 325,
     "status": "ok",
     "timestamp": 1730272085027,
     "user": {
      "displayName": "林志偉",
      "userId": "13117312472561068650"
     },
     "user_tz": -480
    },
    "id": "KArZlVeWh19f",
    "outputId": "5a75f6ae-6653-4224-9456-916361375af1"
   },
   "outputs": [
    {
     "name": "stdout",
     "output_type": "stream",
     "text": [
      "國文    65\n",
      "社會    70\n",
      "Name: 王小明, dtype: int64\n",
      "<class 'pandas.core.series.Series'>\n"
     ]
    }
   ],
   "source": [
    "print(df.loc[\"王小明\", [\"國文\",\"社會\"]]) # Series\n",
    "print(type(df.loc[\"王小明\", [\"國文\",\"社會\"]]))"
   ]
  },
  {
   "cell_type": "code",
   "execution_count": 29,
   "metadata": {
    "colab": {
     "base_uri": "https://localhost:8080/",
     "height": 112
    },
    "executionInfo": {
     "elapsed": 328,
     "status": "ok",
     "timestamp": 1725345990734,
     "user": {
      "displayName": "林志偉",
      "userId": "13117312472561068650"
     },
     "user_tz": -480
    },
    "id": "H9EiCEH2h2An",
    "outputId": "a31c80b1-3a09-4d8f-9bb7-301fc2b00b51"
   },
   "outputs": [
    {
     "data": {
      "application/vnd.microsoft.datawrangler.viewer.v0+json": {
       "columns": [
        {
         "name": "index",
         "rawType": "object",
         "type": "string"
        },
        {
         "name": "數學",
         "rawType": "int64",
         "type": "integer"
        },
        {
         "name": "自然",
         "rawType": "int64",
         "type": "integer"
        }
       ],
       "ref": "11ea59b6-98b1-4c8b-9c4c-4570933ffe7f",
       "rows": [
        [
         "王小明",
         "78",
         "83"
        ],
        [
         "李小美",
         "76",
         "93"
        ]
       ],
       "shape": {
        "columns": 2,
        "rows": 2
       }
      },
      "text/html": [
       "<div>\n",
       "<style scoped>\n",
       "    .dataframe tbody tr th:only-of-type {\n",
       "        vertical-align: middle;\n",
       "    }\n",
       "\n",
       "    .dataframe tbody tr th {\n",
       "        vertical-align: top;\n",
       "    }\n",
       "\n",
       "    .dataframe thead th {\n",
       "        text-align: right;\n",
       "    }\n",
       "</style>\n",
       "<table border=\"1\" class=\"dataframe\">\n",
       "  <thead>\n",
       "    <tr style=\"text-align: right;\">\n",
       "      <th></th>\n",
       "      <th>數學</th>\n",
       "      <th>自然</th>\n",
       "    </tr>\n",
       "  </thead>\n",
       "  <tbody>\n",
       "    <tr>\n",
       "      <th>王小明</th>\n",
       "      <td>78</td>\n",
       "      <td>83</td>\n",
       "    </tr>\n",
       "    <tr>\n",
       "      <th>李小美</th>\n",
       "      <td>76</td>\n",
       "      <td>93</td>\n",
       "    </tr>\n",
       "  </tbody>\n",
       "</table>\n",
       "</div>"
      ],
      "text/plain": [
       "     數學  自然\n",
       "王小明  78  83\n",
       "李小美  76  93"
      ]
     },
     "execution_count": 29,
     "metadata": {},
     "output_type": "execute_result"
    }
   ],
   "source": [
    "df.loc[[\"王小明\", \"李小美\"], [\"數學\", \"自然\"]] # DataFrame"
   ]
  },
  {
   "cell_type": "code",
   "execution_count": 30,
   "metadata": {
    "colab": {
     "base_uri": "https://localhost:8080/",
     "height": 143
    },
    "executionInfo": {
     "elapsed": 321,
     "status": "ok",
     "timestamp": 1725346026352,
     "user": {
      "displayName": "林志偉",
      "userId": "13117312472561068650"
     },
     "user_tz": -480
    },
    "id": "b762xuAxh2Dv",
    "outputId": "1bc3b138-2f5e-4a19-9b55-157e14856f3e"
   },
   "outputs": [
    {
     "data": {
      "application/vnd.microsoft.datawrangler.viewer.v0+json": {
       "columns": [
        {
         "name": "index",
         "rawType": "object",
         "type": "string"
        },
        {
         "name": "數學",
         "rawType": "int64",
         "type": "integer"
        },
        {
         "name": "自然",
         "rawType": "int64",
         "type": "integer"
        },
        {
         "name": "社會",
         "rawType": "int64",
         "type": "integer"
        }
       ],
       "ref": "49b33baa-ef3e-4052-84a6-d22a099699fe",
       "rows": [
        [
         "王小明",
         "78",
         "83",
         "70"
        ],
        [
         "李小美",
         "76",
         "93",
         "56"
        ],
        [
         "陳大同",
         "91",
         "89",
         "77"
        ]
       ],
       "shape": {
        "columns": 3,
        "rows": 3
       }
      },
      "text/html": [
       "<div>\n",
       "<style scoped>\n",
       "    .dataframe tbody tr th:only-of-type {\n",
       "        vertical-align: middle;\n",
       "    }\n",
       "\n",
       "    .dataframe tbody tr th {\n",
       "        vertical-align: top;\n",
       "    }\n",
       "\n",
       "    .dataframe thead th {\n",
       "        text-align: right;\n",
       "    }\n",
       "</style>\n",
       "<table border=\"1\" class=\"dataframe\">\n",
       "  <thead>\n",
       "    <tr style=\"text-align: right;\">\n",
       "      <th></th>\n",
       "      <th>數學</th>\n",
       "      <th>自然</th>\n",
       "      <th>社會</th>\n",
       "    </tr>\n",
       "  </thead>\n",
       "  <tbody>\n",
       "    <tr>\n",
       "      <th>王小明</th>\n",
       "      <td>78</td>\n",
       "      <td>83</td>\n",
       "      <td>70</td>\n",
       "    </tr>\n",
       "    <tr>\n",
       "      <th>李小美</th>\n",
       "      <td>76</td>\n",
       "      <td>93</td>\n",
       "      <td>56</td>\n",
       "    </tr>\n",
       "    <tr>\n",
       "      <th>陳大同</th>\n",
       "      <td>91</td>\n",
       "      <td>89</td>\n",
       "      <td>77</td>\n",
       "    </tr>\n",
       "  </tbody>\n",
       "</table>\n",
       "</div>"
      ],
      "text/plain": [
       "     數學  自然  社會\n",
       "王小明  78  83  70\n",
       "李小美  76  93  56\n",
       "陳大同  91  89  77"
      ]
     },
     "execution_count": 30,
     "metadata": {},
     "output_type": "execute_result"
    }
   ],
   "source": [
    "df.loc[\"王小明\":\"陳大同\", \"數學\":\"社會\"] # DataFrame"
   ]
  },
  {
   "cell_type": "code",
   "execution_count": 32,
   "metadata": {
    "colab": {
     "base_uri": "https://localhost:8080/",
     "height": 241
    },
    "executionInfo": {
     "elapsed": 360,
     "status": "ok",
     "timestamp": 1725346088463,
     "user": {
      "displayName": "林志偉",
      "userId": "13117312472561068650"
     },
     "user_tz": -480
    },
    "id": "xGM4jBfyiAaf",
    "outputId": "9096a33e-3daf-4ae4-bffc-cd41625d4534"
   },
   "outputs": [
    {
     "data": {
      "application/vnd.microsoft.datawrangler.viewer.v0+json": {
       "columns": [
        {
         "name": "index",
         "rawType": "object",
         "type": "string"
        },
        {
         "name": "陳大同",
         "rawType": "int64",
         "type": "integer"
        }
       ],
       "ref": "bfb6af54-2333-47c6-8a15-e0bfda0168ff",
       "rows": [
        [
         "國文",
         "81"
        ],
        [
         "英文",
         "85"
        ],
        [
         "數學",
         "91"
        ],
        [
         "自然",
         "89"
        ],
        [
         "社會",
         "77"
        ]
       ],
       "shape": {
        "columns": 1,
        "rows": 5
       }
      },
      "text/plain": [
       "國文    81\n",
       "英文    85\n",
       "數學    91\n",
       "自然    89\n",
       "社會    77\n",
       "Name: 陳大同, dtype: int64"
      ]
     },
     "execution_count": 32,
     "metadata": {},
     "output_type": "execute_result"
    }
   ],
   "source": [
    "df.loc[\"陳大同\", :] # Series"
   ]
  },
  {
   "cell_type": "code",
   "execution_count": 33,
   "metadata": {
    "colab": {
     "base_uri": "https://localhost:8080/",
     "height": 112
    },
    "executionInfo": {
     "elapsed": 333,
     "status": "ok",
     "timestamp": 1725346114276,
     "user": {
      "displayName": "林志偉",
      "userId": "13117312472561068650"
     },
     "user_tz": -480
    },
    "id": "zKQBCBd8iG8X",
    "outputId": "08fea12c-d7d3-4b0d-fa68-3fe5acec0a82"
   },
   "outputs": [
    {
     "data": {
      "application/vnd.microsoft.datawrangler.viewer.v0+json": {
       "columns": [
        {
         "name": "index",
         "rawType": "object",
         "type": "string"
        },
        {
         "name": "數學",
         "rawType": "int64",
         "type": "integer"
        },
        {
         "name": "自然",
         "rawType": "int64",
         "type": "integer"
        },
        {
         "name": "社會",
         "rawType": "int64",
         "type": "integer"
        }
       ],
       "ref": "9e8b04ca-9f2f-426b-b17b-93a7d07b0199",
       "rows": [
        [
         "王小明",
         "78",
         "83",
         "70"
        ],
        [
         "李小美",
         "76",
         "93",
         "56"
        ]
       ],
       "shape": {
        "columns": 3,
        "rows": 2
       }
      },
      "text/html": [
       "<div>\n",
       "<style scoped>\n",
       "    .dataframe tbody tr th:only-of-type {\n",
       "        vertical-align: middle;\n",
       "    }\n",
       "\n",
       "    .dataframe tbody tr th {\n",
       "        vertical-align: top;\n",
       "    }\n",
       "\n",
       "    .dataframe thead th {\n",
       "        text-align: right;\n",
       "    }\n",
       "</style>\n",
       "<table border=\"1\" class=\"dataframe\">\n",
       "  <thead>\n",
       "    <tr style=\"text-align: right;\">\n",
       "      <th></th>\n",
       "      <th>數學</th>\n",
       "      <th>自然</th>\n",
       "      <th>社會</th>\n",
       "    </tr>\n",
       "  </thead>\n",
       "  <tbody>\n",
       "    <tr>\n",
       "      <th>王小明</th>\n",
       "      <td>78</td>\n",
       "      <td>83</td>\n",
       "      <td>70</td>\n",
       "    </tr>\n",
       "    <tr>\n",
       "      <th>李小美</th>\n",
       "      <td>76</td>\n",
       "      <td>93</td>\n",
       "      <td>56</td>\n",
       "    </tr>\n",
       "  </tbody>\n",
       "</table>\n",
       "</div>"
      ],
      "text/plain": [
       "     數學  自然  社會\n",
       "王小明  78  83  70\n",
       "李小美  76  93  56"
      ]
     },
     "execution_count": 33,
     "metadata": {},
     "output_type": "execute_result"
    }
   ],
   "source": [
    "df.loc[:\"李小美\", \"數學\":\"社會\"] # DataFrame"
   ]
  },
  {
   "cell_type": "code",
   "execution_count": 34,
   "metadata": {
    "colab": {
     "base_uri": "https://localhost:8080/",
     "height": 143
    },
    "executionInfo": {
     "elapsed": 326,
     "status": "ok",
     "timestamp": 1725346160376,
     "user": {
      "displayName": "林志偉",
      "userId": "13117312472561068650"
     },
     "user_tz": -480
    },
    "id": "rNivUyEViG_o",
    "outputId": "4ae742c8-ed3f-48e0-9e52-fe8342329ad9"
   },
   "outputs": [
    {
     "data": {
      "application/vnd.microsoft.datawrangler.viewer.v0+json": {
       "columns": [
        {
         "name": "index",
         "rawType": "object",
         "type": "string"
        },
        {
         "name": "數學",
         "rawType": "int64",
         "type": "integer"
        },
        {
         "name": "自然",
         "rawType": "int64",
         "type": "integer"
        },
        {
         "name": "社會",
         "rawType": "int64",
         "type": "integer"
        }
       ],
       "ref": "655baff3-c0be-4893-b19a-b5d70d35e76e",
       "rows": [
        [
         "李小美",
         "76",
         "93",
         "56"
        ],
        [
         "陳大同",
         "91",
         "89",
         "77"
        ],
        [
         "林小玉",
         "47",
         "94",
         "80"
        ]
       ],
       "shape": {
        "columns": 3,
        "rows": 3
       }
      },
      "text/html": [
       "<div>\n",
       "<style scoped>\n",
       "    .dataframe tbody tr th:only-of-type {\n",
       "        vertical-align: middle;\n",
       "    }\n",
       "\n",
       "    .dataframe tbody tr th {\n",
       "        vertical-align: top;\n",
       "    }\n",
       "\n",
       "    .dataframe thead th {\n",
       "        text-align: right;\n",
       "    }\n",
       "</style>\n",
       "<table border=\"1\" class=\"dataframe\">\n",
       "  <thead>\n",
       "    <tr style=\"text-align: right;\">\n",
       "      <th></th>\n",
       "      <th>數學</th>\n",
       "      <th>自然</th>\n",
       "      <th>社會</th>\n",
       "    </tr>\n",
       "  </thead>\n",
       "  <tbody>\n",
       "    <tr>\n",
       "      <th>李小美</th>\n",
       "      <td>76</td>\n",
       "      <td>93</td>\n",
       "      <td>56</td>\n",
       "    </tr>\n",
       "    <tr>\n",
       "      <th>陳大同</th>\n",
       "      <td>91</td>\n",
       "      <td>89</td>\n",
       "      <td>77</td>\n",
       "    </tr>\n",
       "    <tr>\n",
       "      <th>林小玉</th>\n",
       "      <td>47</td>\n",
       "      <td>94</td>\n",
       "      <td>80</td>\n",
       "    </tr>\n",
       "  </tbody>\n",
       "</table>\n",
       "</div>"
      ],
      "text/plain": [
       "     數學  自然  社會\n",
       "李小美  76  93  56\n",
       "陳大同  91  89  77\n",
       "林小玉  47  94  80"
      ]
     },
     "execution_count": 34,
     "metadata": {},
     "output_type": "execute_result"
    }
   ],
   "source": [
    "df.loc[\"李小美\":, \"數學\":\"社會\"]"
   ]
  },
  {
   "cell_type": "markdown",
   "metadata": {
    "id": "QYVU_KAw9v8h"
   },
   "source": [
    "## 以index ID及column ID取值：df.iloc()"
   ]
  },
  {
   "cell_type": "code",
   "execution_count": null,
   "metadata": {
    "colab": {
     "base_uri": "https://localhost:8080/",
     "height": 175
    },
    "executionInfo": {
     "elapsed": 340,
     "status": "ok",
     "timestamp": 1730272403107,
     "user": {
      "displayName": "林志偉",
      "userId": "13117312472561068650"
     },
     "user_tz": -480
    },
    "id": "G5NhcMGHqS6h",
    "outputId": "3883e766-224c-4666-d2ff-398a68636c20"
   },
   "outputs": [],
   "source": [
    "df"
   ]
  },
  {
   "cell_type": "code",
   "execution_count": 35,
   "metadata": {
    "colab": {
     "base_uri": "https://localhost:8080/"
    },
    "executionInfo": {
     "elapsed": 332,
     "status": "ok",
     "timestamp": 1725346457642,
     "user": {
      "displayName": "林志偉",
      "userId": "13117312472561068650"
     },
     "user_tz": -480
    },
    "id": "PQU6Eyr7iAd_",
    "outputId": "f6d250bb-6df9-429a-ecc9-1b6a588ac45e"
   },
   "outputs": [
    {
     "data": {
      "text/plain": [
       "np.int64(80)"
      ]
     },
     "execution_count": 35,
     "metadata": {},
     "output_type": "execute_result"
    }
   ],
   "source": [
    "df.iloc[3, 4]"
   ]
  },
  {
   "cell_type": "code",
   "execution_count": null,
   "metadata": {
    "colab": {
     "base_uri": "https://localhost:8080/",
     "height": 147
    },
    "executionInfo": {
     "elapsed": 298,
     "status": "ok",
     "timestamp": 1725346541280,
     "user": {
      "displayName": "林志偉",
      "userId": "13117312472561068650"
     },
     "user_tz": -480
    },
    "id": "ytOSoN2mm9df",
    "outputId": "97451777-c225-4d9f-9723-6a81847d0670"
   },
   "outputs": [],
   "source": [
    "df.iloc[0, [0, 4]]\n",
    "#type(df.iloc[0, [0, 4]])"
   ]
  },
  {
   "cell_type": "code",
   "execution_count": null,
   "metadata": {
    "colab": {
     "base_uri": "https://localhost:8080/",
     "height": 112
    },
    "executionInfo": {
     "elapsed": 330,
     "status": "ok",
     "timestamp": 1725346593965,
     "user": {
      "displayName": "林志偉",
      "userId": "13117312472561068650"
     },
     "user_tz": -480
    },
    "id": "GebKm89Lm9g_",
    "outputId": "47ae6105-9115-4e01-a950-6a97d1f662df"
   },
   "outputs": [],
   "source": [
    "df.iloc[[0, 1], [2, 3]]\n",
    "#type(df.iloc[[0, 1], [2, 3]])"
   ]
  },
  {
   "cell_type": "code",
   "execution_count": null,
   "metadata": {
    "colab": {
     "base_uri": "https://localhost:8080/",
     "height": 143
    },
    "executionInfo": {
     "elapsed": 339,
     "status": "ok",
     "timestamp": 1725346603617,
     "user": {
      "displayName": "林志偉",
      "userId": "13117312472561068650"
     },
     "user_tz": -480
    },
    "id": "lg6733fOm9kU",
    "outputId": "35bbea66-8ce5-43cf-9bc2-9923fb0e4e4c"
   },
   "outputs": [],
   "source": [
    "df.iloc[0:3, 2:5]"
   ]
  },
  {
   "cell_type": "code",
   "execution_count": null,
   "metadata": {
    "colab": {
     "base_uri": "https://localhost:8080/",
     "height": 241
    },
    "executionInfo": {
     "elapsed": 299,
     "status": "ok",
     "timestamp": 1725346655465,
     "user": {
      "displayName": "林志偉",
      "userId": "13117312472561068650"
     },
     "user_tz": -480
    },
    "id": "pG-aaEAMm9_P",
    "outputId": "ad6bf034-8cfd-48ba-a07e-7b8353aacc78"
   },
   "outputs": [],
   "source": [
    "df.iloc[2, :]"
   ]
  },
  {
   "cell_type": "code",
   "execution_count": null,
   "metadata": {
    "colab": {
     "base_uri": "https://localhost:8080/",
     "height": 112
    },
    "executionInfo": {
     "elapsed": 326,
     "status": "ok",
     "timestamp": 1725346678447,
     "user": {
      "displayName": "林志偉",
      "userId": "13117312472561068650"
     },
     "user_tz": -480
    },
    "id": "tZNGikjbnJH3",
    "outputId": "a2ad7de4-41ac-4bea-d4f1-8a4d483ed94c"
   },
   "outputs": [],
   "source": [
    "df.iloc[:2, 2:5]"
   ]
  },
  {
   "cell_type": "code",
   "execution_count": null,
   "metadata": {
    "colab": {
     "base_uri": "https://localhost:8080/",
     "height": 143
    },
    "executionInfo": {
     "elapsed": 342,
     "status": "ok",
     "timestamp": 1725346689082,
     "user": {
      "displayName": "林志偉",
      "userId": "13117312472561068650"
     },
     "user_tz": -480
    },
    "id": "GiJW166PnJKv",
    "outputId": "ebf58ec6-802d-4ee2-a1e5-9601f4ffa409"
   },
   "outputs": [],
   "source": [
    "df.iloc[1:, 2:5]"
   ]
  },
  {
   "cell_type": "markdown",
   "metadata": {
    "id": "mYBYPlmrnSK3"
   },
   "source": [
    "## 最前或最後幾列資料"
   ]
  },
  {
   "cell_type": "code",
   "execution_count": 37,
   "metadata": {
    "colab": {
     "base_uri": "https://localhost:8080/",
     "height": 143
    },
    "executionInfo": {
     "elapsed": 392,
     "status": "ok",
     "timestamp": 1725346762972,
     "user": {
      "displayName": "林志偉",
      "userId": "13117312472561068650"
     },
     "user_tz": -480
    },
    "id": "l3HNcRtEnTln",
    "outputId": "824747e9-1842-4898-c2f5-4b03189a3a03"
   },
   "outputs": [
    {
     "data": {
      "application/vnd.microsoft.datawrangler.viewer.v0+json": {
       "columns": [
        {
         "name": "index",
         "rawType": "object",
         "type": "string"
        },
        {
         "name": "國文",
         "rawType": "int64",
         "type": "integer"
        },
        {
         "name": "英文",
         "rawType": "int64",
         "type": "integer"
        },
        {
         "name": "數學",
         "rawType": "int64",
         "type": "integer"
        },
        {
         "name": "自然",
         "rawType": "int64",
         "type": "integer"
        },
        {
         "name": "社會",
         "rawType": "int64",
         "type": "integer"
        }
       ],
       "ref": "a161c0e6-9cb3-4fd7-94c4-eb93a5cbaacb",
       "rows": [
        [
         "王小明",
         "65",
         "92",
         "78",
         "83",
         "70"
        ],
        [
         "李小美",
         "90",
         "72",
         "76",
         "93",
         "56"
        ],
        [
         "陳大同",
         "81",
         "85",
         "91",
         "89",
         "77"
        ]
       ],
       "shape": {
        "columns": 5,
        "rows": 3
       }
      },
      "text/html": [
       "<div>\n",
       "<style scoped>\n",
       "    .dataframe tbody tr th:only-of-type {\n",
       "        vertical-align: middle;\n",
       "    }\n",
       "\n",
       "    .dataframe tbody tr th {\n",
       "        vertical-align: top;\n",
       "    }\n",
       "\n",
       "    .dataframe thead th {\n",
       "        text-align: right;\n",
       "    }\n",
       "</style>\n",
       "<table border=\"1\" class=\"dataframe\">\n",
       "  <thead>\n",
       "    <tr style=\"text-align: right;\">\n",
       "      <th></th>\n",
       "      <th>國文</th>\n",
       "      <th>英文</th>\n",
       "      <th>數學</th>\n",
       "      <th>自然</th>\n",
       "      <th>社會</th>\n",
       "    </tr>\n",
       "  </thead>\n",
       "  <tbody>\n",
       "    <tr>\n",
       "      <th>王小明</th>\n",
       "      <td>65</td>\n",
       "      <td>92</td>\n",
       "      <td>78</td>\n",
       "      <td>83</td>\n",
       "      <td>70</td>\n",
       "    </tr>\n",
       "    <tr>\n",
       "      <th>李小美</th>\n",
       "      <td>90</td>\n",
       "      <td>72</td>\n",
       "      <td>76</td>\n",
       "      <td>93</td>\n",
       "      <td>56</td>\n",
       "    </tr>\n",
       "    <tr>\n",
       "      <th>陳大同</th>\n",
       "      <td>81</td>\n",
       "      <td>85</td>\n",
       "      <td>91</td>\n",
       "      <td>89</td>\n",
       "      <td>77</td>\n",
       "    </tr>\n",
       "  </tbody>\n",
       "</table>\n",
       "</div>"
      ],
      "text/plain": [
       "     國文  英文  數學  自然  社會\n",
       "王小明  65  92  78  83  70\n",
       "李小美  90  72  76  93  56\n",
       "陳大同  81  85  91  89  77"
      ]
     },
     "execution_count": 37,
     "metadata": {},
     "output_type": "execute_result"
    }
   ],
   "source": [
    "df.head(3)"
   ]
  },
  {
   "cell_type": "code",
   "execution_count": 38,
   "metadata": {
    "colab": {
     "base_uri": "https://localhost:8080/",
     "height": 112
    },
    "executionInfo": {
     "elapsed": 347,
     "status": "ok",
     "timestamp": 1725346767854,
     "user": {
      "displayName": "林志偉",
      "userId": "13117312472561068650"
     },
     "user_tz": -480
    },
    "id": "Ryiup88CnTpe",
    "outputId": "f0a5e9bd-bc57-444a-fef5-656f8db6e065"
   },
   "outputs": [
    {
     "data": {
      "application/vnd.microsoft.datawrangler.viewer.v0+json": {
       "columns": [
        {
         "name": "index",
         "rawType": "object",
         "type": "string"
        },
        {
         "name": "國文",
         "rawType": "int64",
         "type": "integer"
        },
        {
         "name": "英文",
         "rawType": "int64",
         "type": "integer"
        },
        {
         "name": "數學",
         "rawType": "int64",
         "type": "integer"
        },
        {
         "name": "自然",
         "rawType": "int64",
         "type": "integer"
        },
        {
         "name": "社會",
         "rawType": "int64",
         "type": "integer"
        }
       ],
       "ref": "8bb5f385-01aa-4401-8028-af1d23c3c012",
       "rows": [
        [
         "陳大同",
         "81",
         "85",
         "91",
         "89",
         "77"
        ],
        [
         "林小玉",
         "79",
         "53",
         "47",
         "94",
         "80"
        ]
       ],
       "shape": {
        "columns": 5,
        "rows": 2
       }
      },
      "text/html": [
       "<div>\n",
       "<style scoped>\n",
       "    .dataframe tbody tr th:only-of-type {\n",
       "        vertical-align: middle;\n",
       "    }\n",
       "\n",
       "    .dataframe tbody tr th {\n",
       "        vertical-align: top;\n",
       "    }\n",
       "\n",
       "    .dataframe thead th {\n",
       "        text-align: right;\n",
       "    }\n",
       "</style>\n",
       "<table border=\"1\" class=\"dataframe\">\n",
       "  <thead>\n",
       "    <tr style=\"text-align: right;\">\n",
       "      <th></th>\n",
       "      <th>國文</th>\n",
       "      <th>英文</th>\n",
       "      <th>數學</th>\n",
       "      <th>自然</th>\n",
       "      <th>社會</th>\n",
       "    </tr>\n",
       "  </thead>\n",
       "  <tbody>\n",
       "    <tr>\n",
       "      <th>陳大同</th>\n",
       "      <td>81</td>\n",
       "      <td>85</td>\n",
       "      <td>91</td>\n",
       "      <td>89</td>\n",
       "      <td>77</td>\n",
       "    </tr>\n",
       "    <tr>\n",
       "      <th>林小玉</th>\n",
       "      <td>79</td>\n",
       "      <td>53</td>\n",
       "      <td>47</td>\n",
       "      <td>94</td>\n",
       "      <td>80</td>\n",
       "    </tr>\n",
       "  </tbody>\n",
       "</table>\n",
       "</div>"
      ],
      "text/plain": [
       "     國文  英文  數學  自然  社會\n",
       "陳大同  81  85  91  89  77\n",
       "林小玉  79  53  47  94  80"
      ]
     },
     "execution_count": 38,
     "metadata": {},
     "output_type": "execute_result"
    }
   ],
   "source": [
    "df.tail(2)"
   ]
  },
  {
   "cell_type": "markdown",
   "metadata": {
    "id": "omv7qBXyDisD"
   },
   "source": [
    "## 資料排序"
   ]
  },
  {
   "cell_type": "code",
   "execution_count": 40,
   "metadata": {
    "id": "Doz74AlRnTs_"
   },
   "outputs": [
    {
     "data": {
      "application/vnd.microsoft.datawrangler.viewer.v0+json": {
       "columns": [
        {
         "name": "index",
         "rawType": "object",
         "type": "string"
        },
        {
         "name": "國文",
         "rawType": "int64",
         "type": "integer"
        },
        {
         "name": "英文",
         "rawType": "int64",
         "type": "integer"
        },
        {
         "name": "數學",
         "rawType": "int64",
         "type": "integer"
        },
        {
         "name": "自然",
         "rawType": "int64",
         "type": "integer"
        },
        {
         "name": "社會",
         "rawType": "int64",
         "type": "integer"
        }
       ],
       "ref": "34ffe6c1-2b37-4472-b1ad-4961dc3e7438",
       "rows": [
        [
         "李小美",
         "90",
         "72",
         "76",
         "93",
         "56"
        ],
        [
         "陳大同",
         "81",
         "85",
         "91",
         "89",
         "77"
        ],
        [
         "林小玉",
         "79",
         "53",
         "47",
         "94",
         "80"
        ],
        [
         "王小明",
         "65",
         "92",
         "78",
         "83",
         "70"
        ]
       ],
       "shape": {
        "columns": 5,
        "rows": 4
       }
      },
      "text/html": [
       "<div>\n",
       "<style scoped>\n",
       "    .dataframe tbody tr th:only-of-type {\n",
       "        vertical-align: middle;\n",
       "    }\n",
       "\n",
       "    .dataframe tbody tr th {\n",
       "        vertical-align: top;\n",
       "    }\n",
       "\n",
       "    .dataframe thead th {\n",
       "        text-align: right;\n",
       "    }\n",
       "</style>\n",
       "<table border=\"1\" class=\"dataframe\">\n",
       "  <thead>\n",
       "    <tr style=\"text-align: right;\">\n",
       "      <th></th>\n",
       "      <th>國文</th>\n",
       "      <th>英文</th>\n",
       "      <th>數學</th>\n",
       "      <th>自然</th>\n",
       "      <th>社會</th>\n",
       "    </tr>\n",
       "  </thead>\n",
       "  <tbody>\n",
       "    <tr>\n",
       "      <th>李小美</th>\n",
       "      <td>90</td>\n",
       "      <td>72</td>\n",
       "      <td>76</td>\n",
       "      <td>93</td>\n",
       "      <td>56</td>\n",
       "    </tr>\n",
       "    <tr>\n",
       "      <th>陳大同</th>\n",
       "      <td>81</td>\n",
       "      <td>85</td>\n",
       "      <td>91</td>\n",
       "      <td>89</td>\n",
       "      <td>77</td>\n",
       "    </tr>\n",
       "    <tr>\n",
       "      <th>林小玉</th>\n",
       "      <td>79</td>\n",
       "      <td>53</td>\n",
       "      <td>47</td>\n",
       "      <td>94</td>\n",
       "      <td>80</td>\n",
       "    </tr>\n",
       "    <tr>\n",
       "      <th>王小明</th>\n",
       "      <td>65</td>\n",
       "      <td>92</td>\n",
       "      <td>78</td>\n",
       "      <td>83</td>\n",
       "      <td>70</td>\n",
       "    </tr>\n",
       "  </tbody>\n",
       "</table>\n",
       "</div>"
      ],
      "text/plain": [
       "     國文  英文  數學  自然  社會\n",
       "李小美  90  72  76  93  56\n",
       "陳大同  81  85  91  89  77\n",
       "林小玉  79  53  47  94  80\n",
       "王小明  65  92  78  83  70"
      ]
     },
     "execution_count": 40,
     "metadata": {},
     "output_type": "execute_result"
    }
   ],
   "source": [
    "df\n",
    "df.sort_values(by=\"國文\", ascending=False, inplace=True)\n",
    "df"
   ]
  },
  {
   "cell_type": "markdown",
   "metadata": {
    "id": "youPbOflYC65"
   },
   "source": [
    "## 條件取值"
   ]
  },
  {
   "cell_type": "code",
   "execution_count": 41,
   "metadata": {
    "colab": {
     "base_uri": "https://localhost:8080/",
     "height": 175
    },
    "executionInfo": {
     "elapsed": 346,
     "status": "ok",
     "timestamp": 1730273692320,
     "user": {
      "displayName": "林志偉",
      "userId": "13117312472561068650"
     },
     "user_tz": -480
    },
    "id": "TWIZ8bdJSXwl",
    "outputId": "a6230633-09d8-4e96-9112-17449ffcb191"
   },
   "outputs": [
    {
     "data": {
      "application/vnd.microsoft.datawrangler.viewer.v0+json": {
       "columns": [
        {
         "name": "index",
         "rawType": "object",
         "type": "string"
        },
        {
         "name": "國文",
         "rawType": "int64",
         "type": "integer"
        },
        {
         "name": "英文",
         "rawType": "int64",
         "type": "integer"
        },
        {
         "name": "數學",
         "rawType": "int64",
         "type": "integer"
        },
        {
         "name": "自然",
         "rawType": "int64",
         "type": "integer"
        },
        {
         "name": "社會",
         "rawType": "int64",
         "type": "integer"
        }
       ],
       "ref": "e0cb09a1-9b74-4aaf-ae5a-57a9a61daa46",
       "rows": [
        [
         "李小美",
         "90",
         "72",
         "76",
         "93",
         "56"
        ],
        [
         "陳大同",
         "81",
         "85",
         "91",
         "89",
         "77"
        ],
        [
         "林小玉",
         "79",
         "53",
         "47",
         "94",
         "80"
        ],
        [
         "王小明",
         "65",
         "92",
         "78",
         "83",
         "70"
        ]
       ],
       "shape": {
        "columns": 5,
        "rows": 4
       }
      },
      "text/html": [
       "<div>\n",
       "<style scoped>\n",
       "    .dataframe tbody tr th:only-of-type {\n",
       "        vertical-align: middle;\n",
       "    }\n",
       "\n",
       "    .dataframe tbody tr th {\n",
       "        vertical-align: top;\n",
       "    }\n",
       "\n",
       "    .dataframe thead th {\n",
       "        text-align: right;\n",
       "    }\n",
       "</style>\n",
       "<table border=\"1\" class=\"dataframe\">\n",
       "  <thead>\n",
       "    <tr style=\"text-align: right;\">\n",
       "      <th></th>\n",
       "      <th>國文</th>\n",
       "      <th>英文</th>\n",
       "      <th>數學</th>\n",
       "      <th>自然</th>\n",
       "      <th>社會</th>\n",
       "    </tr>\n",
       "  </thead>\n",
       "  <tbody>\n",
       "    <tr>\n",
       "      <th>李小美</th>\n",
       "      <td>90</td>\n",
       "      <td>72</td>\n",
       "      <td>76</td>\n",
       "      <td>93</td>\n",
       "      <td>56</td>\n",
       "    </tr>\n",
       "    <tr>\n",
       "      <th>陳大同</th>\n",
       "      <td>81</td>\n",
       "      <td>85</td>\n",
       "      <td>91</td>\n",
       "      <td>89</td>\n",
       "      <td>77</td>\n",
       "    </tr>\n",
       "    <tr>\n",
       "      <th>林小玉</th>\n",
       "      <td>79</td>\n",
       "      <td>53</td>\n",
       "      <td>47</td>\n",
       "      <td>94</td>\n",
       "      <td>80</td>\n",
       "    </tr>\n",
       "    <tr>\n",
       "      <th>王小明</th>\n",
       "      <td>65</td>\n",
       "      <td>92</td>\n",
       "      <td>78</td>\n",
       "      <td>83</td>\n",
       "      <td>70</td>\n",
       "    </tr>\n",
       "  </tbody>\n",
       "</table>\n",
       "</div>"
      ],
      "text/plain": [
       "     國文  英文  數學  自然  社會\n",
       "李小美  90  72  76  93  56\n",
       "陳大同  81  85  91  89  77\n",
       "林小玉  79  53  47  94  80\n",
       "王小明  65  92  78  83  70"
      ]
     },
     "execution_count": 41,
     "metadata": {},
     "output_type": "execute_result"
    }
   ],
   "source": [
    "df"
   ]
  },
  {
   "cell_type": "markdown",
   "metadata": {
    "id": "H95IWlG6SiLK"
   },
   "source": [
    "df[\"數學\"]<60 ===> [False, False, False, True] ==> df([False, False, False, True])"
   ]
  },
  {
   "cell_type": "code",
   "execution_count": null,
   "metadata": {
    "colab": {
     "base_uri": "https://localhost:8080/",
     "height": 81
    },
    "executionInfo": {
     "elapsed": 345,
     "status": "ok",
     "timestamp": 1730272908788,
     "user": {
      "displayName": "林志偉",
      "userId": "13117312472561068650"
     },
     "user_tz": -480
    },
    "id": "J_D4IZwW6Hmm",
    "outputId": "a168d11c-6abf-48b9-9698-8035412d80a1"
   },
   "outputs": [
    {
     "ename": "ValueError",
     "evalue": "The truth value of a Series is ambiguous. Use a.empty, a.bool(), a.item(), a.any() or a.all().",
     "output_type": "error",
     "traceback": [
      "\u001b[0;31m---------------------------------------------------------------------------\u001b[0m",
      "\u001b[0;31mValueError\u001b[0m                                Traceback (most recent call last)",
      "\u001b[0;32m/var/folders/bg/gh3cf23s4w97s3sbk0rc8jjc0000gn/T/ipykernel_46071/1560731135.py\u001b[0m in \u001b[0;36m?\u001b[0;34m()\u001b[0m\n\u001b[1;32m      3\u001b[0m \u001b[0;31m# df[df[\"數學\"] < 60]\u001b[0m\u001b[0;34m\u001b[0m\u001b[0;34m\u001b[0m\u001b[0m\n\u001b[1;32m      4\u001b[0m \u001b[0;31m#boolean indexing: Using boolean array (series) to index select rows\u001b[0m\u001b[0;34m\u001b[0m\u001b[0;34m\u001b[0m\u001b[0m\n\u001b[1;32m      5\u001b[0m \u001b[0;31m# c1 = pd.Series([False, True, True, False])\u001b[0m\u001b[0;34m\u001b[0m\u001b[0;34m\u001b[0m\u001b[0m\n\u001b[1;32m      6\u001b[0m \u001b[0;31m# c1 = df[[False, True, True, False]]  #不取row0&3, 取row1&2, dataframe\u001b[0m\u001b[0;34m\u001b[0m\u001b[0;34m\u001b[0m\u001b[0m\n\u001b[0;32m----> 7\u001b[0;31m \u001b[0mdf\u001b[0m\u001b[0;34m[\u001b[0m\u001b[0;34m(\u001b[0m\u001b[0mdf\u001b[0m\u001b[0;34m[\u001b[0m\u001b[0;34m\"國文\"\u001b[0m\u001b[0;34m]\u001b[0m \u001b[0;34m>=\u001b[0m \u001b[0;36m80\u001b[0m\u001b[0;34m)\u001b[0m \u001b[0;32mor\u001b[0m \u001b[0;34m(\u001b[0m\u001b[0mdf\u001b[0m\u001b[0;34m[\u001b[0m\u001b[0;34m\"國文\"\u001b[0m\u001b[0;34m]\u001b[0m \u001b[0;34m<\u001b[0m \u001b[0;36m90\u001b[0m\u001b[0;34m)\u001b[0m\u001b[0;34m]\u001b[0m\u001b[0;34m\u001b[0m\u001b[0;34m\u001b[0m\u001b[0m\n\u001b[0m\u001b[1;32m      8\u001b[0m \u001b[0;31m# c2 = df['國文'] >= 80                 #series\u001b[0m\u001b[0;34m\u001b[0m\u001b[0;34m\u001b[0m\u001b[0m\n\u001b[1;32m      9\u001b[0m \u001b[0;31m# c3 = df[df['國文'] >= 80]            # dataframe\u001b[0m\u001b[0;34m\u001b[0m\u001b[0;34m\u001b[0m\u001b[0m\n",
      "\u001b[0;32m~/Library/Mobile Documents/com~apple~CloudDocs/交大教學/Python/Lecture-Python/.venv/lib/python3.13/site-packages/pandas/core/generic.py\u001b[0m in \u001b[0;36m?\u001b[0;34m(self)\u001b[0m\n\u001b[1;32m   1575\u001b[0m     \u001b[0;34m@\u001b[0m\u001b[0mfinal\u001b[0m\u001b[0;34m\u001b[0m\u001b[0;34m\u001b[0m\u001b[0m\n\u001b[1;32m   1576\u001b[0m     \u001b[0;32mdef\u001b[0m \u001b[0m__nonzero__\u001b[0m\u001b[0;34m(\u001b[0m\u001b[0mself\u001b[0m\u001b[0;34m)\u001b[0m \u001b[0;34m->\u001b[0m \u001b[0mNoReturn\u001b[0m\u001b[0;34m:\u001b[0m\u001b[0;34m\u001b[0m\u001b[0;34m\u001b[0m\u001b[0m\n\u001b[0;32m-> 1577\u001b[0;31m         raise ValueError(\n\u001b[0m\u001b[1;32m   1578\u001b[0m             \u001b[0;34mf\"\u001b[0m\u001b[0;34mThe truth value of a \u001b[0m\u001b[0;34m{\u001b[0m\u001b[0mtype\u001b[0m\u001b[0;34m(\u001b[0m\u001b[0mself\u001b[0m\u001b[0;34m)\u001b[0m\u001b[0;34m.\u001b[0m\u001b[0m__name__\u001b[0m\u001b[0;34m}\u001b[0m\u001b[0;34m is ambiguous. \u001b[0m\u001b[0;34m\"\u001b[0m\u001b[0;34m\u001b[0m\u001b[0;34m\u001b[0m\u001b[0m\n\u001b[1;32m   1579\u001b[0m             \u001b[0;34m\"Use a.empty, a.bool(), a.item(), a.any() or a.all().\"\u001b[0m\u001b[0;34m\u001b[0m\u001b[0;34m\u001b[0m\u001b[0m\n\u001b[1;32m   1580\u001b[0m         \u001b[0;34m)\u001b[0m\u001b[0;34m\u001b[0m\u001b[0;34m\u001b[0m\u001b[0m\n",
      "\u001b[0;31mValueError\u001b[0m: The truth value of a Series is ambiguous. Use a.empty, a.bool(), a.item(), a.any() or a.all()."
     ]
    }
   ],
   "source": [
    "#指定欄位以條件式判斷取值\n",
    "# df[\"數學\"] < 60\n",
    "# df[df[\"數學\"] < 60]\n",
    "#boolean indexing: Using boolean array (series) to index select rows\n",
    "# c1 = pd.Series([False, True, True, False])\n",
    "# c1 = df[[False, True, True, False]]  #不取row0&3, 取row1&2, dataframe\n",
    "df[(df[\"國文\"] >= 80) & (df[\"國文\"] < 90)]\n",
    "# c2 = df['國文'] >= 80                 #series\n",
    "# c3 = df[df['國文'] >= 80]            # dataframe"
   ]
  },
  {
   "cell_type": "markdown",
   "metadata": {
    "id": "meWR9bNOWsNx"
   },
   "source": [
    "## 以values取值"
   ]
  },
  {
   "cell_type": "code",
   "execution_count": null,
   "metadata": {
    "colab": {
     "base_uri": "https://localhost:8080/"
    },
    "executionInfo": {
     "elapsed": 352,
     "status": "ok",
     "timestamp": 1725347621848,
     "user": {
      "displayName": "林志偉",
      "userId": "13117312472561068650"
     },
     "user_tz": -480
    },
    "id": "aPiDib_PWw6x",
    "outputId": "4d33f3f6-b404-44ed-ce2c-48891b0937f3"
   },
   "outputs": [],
   "source": [
    "d1 = df.values              #Numpy ndarray\n",
    "d1"
   ]
  },
  {
   "cell_type": "markdown",
   "metadata": {
    "id": "546ntkGoYc89"
   },
   "source": [
    "# 修改DataFrame資料"
   ]
  },
  {
   "cell_type": "code",
   "execution_count": 72,
   "metadata": {
    "colab": {
     "base_uri": "https://localhost:8080/",
     "height": 175
    },
    "executionInfo": {
     "elapsed": 2,
     "status": "ok",
     "timestamp": 1730273776697,
     "user": {
      "displayName": "林志偉",
      "userId": "13117312472561068650"
     },
     "user_tz": -480
    },
    "id": "NDEvEAJ-WoKP",
    "outputId": "5d7ca2f2-fb5e-4152-f235-f81943d5a4cf"
   },
   "outputs": [],
   "source": [
    "scores = {'國文':{'王小明':65,'李小美':90,'陳大同':81,'林小玉':79},\n",
    "          '英文':{'王小明':92,'李小美':72,'陳大同':85,'林小玉':53},\n",
    "          '數學':{'王小明':78,'李小美':76,'陳大同':91,'林小玉':47},\n",
    "          '自然':{'王小明':83,'李小美':93,'陳大同':89,'林小玉':94},\n",
    "          '社會':{'王小明':70,'李小美':56,'陳大同':77,'林小玉':80}}\n",
    "df = pd.DataFrame(scores)"
   ]
  },
  {
   "cell_type": "code",
   "execution_count": null,
   "metadata": {
    "executionInfo": {
     "elapsed": 320,
     "status": "ok",
     "timestamp": 1730273779914,
     "user": {
      "displayName": "林志偉",
      "userId": "13117312472561068650"
     },
     "user_tz": -480
    },
    "id": "2hPW3e7a6B7s"
   },
   "outputs": [],
   "source": [
    "dfcopy=df.copy()  # 複製原始資料"
   ]
  },
  {
   "cell_type": "code",
   "execution_count": null,
   "metadata": {
    "colab": {
     "base_uri": "https://localhost:8080/",
     "height": 175
    },
    "executionInfo": {
     "elapsed": 574,
     "status": "ok",
     "timestamp": 1730273805832,
     "user": {
      "displayName": "林志偉",
      "userId": "13117312472561068650"
     },
     "user_tz": -480
    },
    "id": "u1ipXKm1DrXL",
    "outputId": "fa5c1291-736d-48ca-b499-8989ae540406"
   },
   "outputs": [
    {
     "data": {
      "application/vnd.microsoft.datawrangler.viewer.v0+json": {
       "columns": [
        {
         "name": "index",
         "rawType": "object",
         "type": "string"
        },
        {
         "name": "國文",
         "rawType": "int64",
         "type": "integer"
        },
        {
         "name": "英文",
         "rawType": "int64",
         "type": "integer"
        },
        {
         "name": "數學",
         "rawType": "int64",
         "type": "integer"
        },
        {
         "name": "自然",
         "rawType": "int64",
         "type": "integer"
        },
        {
         "name": "社會",
         "rawType": "int64",
         "type": "integer"
        }
       ],
       "ref": "78b72e8a-1f70-4411-9005-952ef046cabd",
       "rows": [
        [
         "李小美",
         "90",
         "72",
         "76",
         "93",
         "56"
        ],
        [
         "陳大同",
         "81",
         "85",
         "91",
         "89",
         "77"
        ],
        [
         "林小玉",
         "79",
         "53",
         "47",
         "94",
         "80"
        ],
        [
         "王小明",
         "65",
         "92",
         "96",
         "83",
         "70"
        ]
       ],
       "shape": {
        "columns": 5,
        "rows": 4
       }
      },
      "text/html": [
       "<div>\n",
       "<style scoped>\n",
       "    .dataframe tbody tr th:only-of-type {\n",
       "        vertical-align: middle;\n",
       "    }\n",
       "\n",
       "    .dataframe tbody tr th {\n",
       "        vertical-align: top;\n",
       "    }\n",
       "\n",
       "    .dataframe thead th {\n",
       "        text-align: right;\n",
       "    }\n",
       "</style>\n",
       "<table border=\"1\" class=\"dataframe\">\n",
       "  <thead>\n",
       "    <tr style=\"text-align: right;\">\n",
       "      <th></th>\n",
       "      <th>國文</th>\n",
       "      <th>英文</th>\n",
       "      <th>數學</th>\n",
       "      <th>自然</th>\n",
       "      <th>社會</th>\n",
       "    </tr>\n",
       "  </thead>\n",
       "  <tbody>\n",
       "    <tr>\n",
       "      <th>李小美</th>\n",
       "      <td>90</td>\n",
       "      <td>72</td>\n",
       "      <td>76</td>\n",
       "      <td>93</td>\n",
       "      <td>56</td>\n",
       "    </tr>\n",
       "    <tr>\n",
       "      <th>陳大同</th>\n",
       "      <td>81</td>\n",
       "      <td>85</td>\n",
       "      <td>91</td>\n",
       "      <td>89</td>\n",
       "      <td>77</td>\n",
       "    </tr>\n",
       "    <tr>\n",
       "      <th>林小玉</th>\n",
       "      <td>79</td>\n",
       "      <td>53</td>\n",
       "      <td>47</td>\n",
       "      <td>94</td>\n",
       "      <td>80</td>\n",
       "    </tr>\n",
       "    <tr>\n",
       "      <th>王小明</th>\n",
       "      <td>65</td>\n",
       "      <td>92</td>\n",
       "      <td>96</td>\n",
       "      <td>83</td>\n",
       "      <td>70</td>\n",
       "    </tr>\n",
       "  </tbody>\n",
       "</table>\n",
       "</div>"
      ],
      "text/plain": [
       "     國文  英文  數學  自然  社會\n",
       "李小美  90  72  76  93  56\n",
       "陳大同  81  85  91  89  77\n",
       "林小玉  79  53  47  94  80\n",
       "王小明  65  92  96  83  70"
      ]
     },
     "execution_count": 50,
     "metadata": {},
     "output_type": "execute_result"
    }
   ],
   "source": [
    "df.loc[\"王小明\", \"數學\"] = 96  # 修改資料\n",
    "df"
   ]
  },
  {
   "cell_type": "code",
   "execution_count": 51,
   "metadata": {
    "colab": {
     "base_uri": "https://localhost:8080/",
     "height": 175
    },
    "executionInfo": {
     "elapsed": 325,
     "status": "ok",
     "timestamp": 1730273835524,
     "user": {
      "displayName": "林志偉",
      "userId": "13117312472561068650"
     },
     "user_tz": -480
    },
    "id": "nEH7NREgEZoY",
    "outputId": "965a59cb-d971-4a11-c1d8-099423ec0bef"
   },
   "outputs": [
    {
     "data": {
      "application/vnd.microsoft.datawrangler.viewer.v0+json": {
       "columns": [
        {
         "name": "index",
         "rawType": "object",
         "type": "string"
        },
        {
         "name": "國文",
         "rawType": "int64",
         "type": "integer"
        },
        {
         "name": "英文",
         "rawType": "int64",
         "type": "integer"
        },
        {
         "name": "數學",
         "rawType": "int64",
         "type": "integer"
        },
        {
         "name": "自然",
         "rawType": "int64",
         "type": "integer"
        },
        {
         "name": "社會",
         "rawType": "int64",
         "type": "integer"
        }
       ],
       "ref": "72c9bbe1-a4cc-4bc1-b0d6-9360d71ad40a",
       "rows": [
        [
         "李小美",
         "90",
         "72",
         "76",
         "93",
         "56"
        ],
        [
         "陳大同",
         "81",
         "85",
         "91",
         "89",
         "77"
        ],
        [
         "林小玉",
         "79",
         "53",
         "47",
         "94",
         "80"
        ],
        [
         "王小明",
         "80",
         "80",
         "80",
         "80",
         "80"
        ]
       ],
       "shape": {
        "columns": 5,
        "rows": 4
       }
      },
      "text/html": [
       "<div>\n",
       "<style scoped>\n",
       "    .dataframe tbody tr th:only-of-type {\n",
       "        vertical-align: middle;\n",
       "    }\n",
       "\n",
       "    .dataframe tbody tr th {\n",
       "        vertical-align: top;\n",
       "    }\n",
       "\n",
       "    .dataframe thead th {\n",
       "        text-align: right;\n",
       "    }\n",
       "</style>\n",
       "<table border=\"1\" class=\"dataframe\">\n",
       "  <thead>\n",
       "    <tr style=\"text-align: right;\">\n",
       "      <th></th>\n",
       "      <th>國文</th>\n",
       "      <th>英文</th>\n",
       "      <th>數學</th>\n",
       "      <th>自然</th>\n",
       "      <th>社會</th>\n",
       "    </tr>\n",
       "  </thead>\n",
       "  <tbody>\n",
       "    <tr>\n",
       "      <th>李小美</th>\n",
       "      <td>90</td>\n",
       "      <td>72</td>\n",
       "      <td>76</td>\n",
       "      <td>93</td>\n",
       "      <td>56</td>\n",
       "    </tr>\n",
       "    <tr>\n",
       "      <th>陳大同</th>\n",
       "      <td>81</td>\n",
       "      <td>85</td>\n",
       "      <td>91</td>\n",
       "      <td>89</td>\n",
       "      <td>77</td>\n",
       "    </tr>\n",
       "    <tr>\n",
       "      <th>林小玉</th>\n",
       "      <td>79</td>\n",
       "      <td>53</td>\n",
       "      <td>47</td>\n",
       "      <td>94</td>\n",
       "      <td>80</td>\n",
       "    </tr>\n",
       "    <tr>\n",
       "      <th>王小明</th>\n",
       "      <td>80</td>\n",
       "      <td>80</td>\n",
       "      <td>80</td>\n",
       "      <td>80</td>\n",
       "      <td>80</td>\n",
       "    </tr>\n",
       "  </tbody>\n",
       "</table>\n",
       "</div>"
      ],
      "text/plain": [
       "     國文  英文  數學  自然  社會\n",
       "李小美  90  72  76  93  56\n",
       "陳大同  81  85  91  89  77\n",
       "林小玉  79  53  47  94  80\n",
       "王小明  80  80  80  80  80"
      ]
     },
     "execution_count": 51,
     "metadata": {},
     "output_type": "execute_result"
    }
   ],
   "source": [
    "df.loc[\"王小明\", :] = 80  # 修改資料\n",
    "df"
   ]
  },
  {
   "cell_type": "code",
   "execution_count": 54,
   "metadata": {},
   "outputs": [
    {
     "data": {
      "application/vnd.microsoft.datawrangler.viewer.v0+json": {
       "columns": [
        {
         "name": "index",
         "rawType": "object",
         "type": "string"
        },
        {
         "name": "國文",
         "rawType": "int64",
         "type": "integer"
        },
        {
         "name": "英文",
         "rawType": "int64",
         "type": "integer"
        },
        {
         "name": "數學",
         "rawType": "int64",
         "type": "integer"
        },
        {
         "name": "自然",
         "rawType": "int64",
         "type": "integer"
        },
        {
         "name": "社會",
         "rawType": "int64",
         "type": "integer"
        }
       ],
       "ref": "cb79734c-a5b1-4c05-b16c-47a737d89aa0",
       "rows": [
        [
         "李小美",
         "90",
         "72",
         "76",
         "93",
         "56"
        ],
        [
         "陳大同",
         "81",
         "85",
         "91",
         "89",
         "77"
        ],
        [
         "林小玉",
         "79",
         "53",
         "47",
         "94",
         "80"
        ],
        [
         "王小明",
         "80",
         "80",
         "80",
         "80",
         "80"
        ]
       ],
       "shape": {
        "columns": 5,
        "rows": 4
       }
      },
      "text/html": [
       "<div>\n",
       "<style scoped>\n",
       "    .dataframe tbody tr th:only-of-type {\n",
       "        vertical-align: middle;\n",
       "    }\n",
       "\n",
       "    .dataframe tbody tr th {\n",
       "        vertical-align: top;\n",
       "    }\n",
       "\n",
       "    .dataframe thead th {\n",
       "        text-align: right;\n",
       "    }\n",
       "</style>\n",
       "<table border=\"1\" class=\"dataframe\">\n",
       "  <thead>\n",
       "    <tr style=\"text-align: right;\">\n",
       "      <th></th>\n",
       "      <th>國文</th>\n",
       "      <th>英文</th>\n",
       "      <th>數學</th>\n",
       "      <th>自然</th>\n",
       "      <th>社會</th>\n",
       "    </tr>\n",
       "  </thead>\n",
       "  <tbody>\n",
       "    <tr>\n",
       "      <th>李小美</th>\n",
       "      <td>90</td>\n",
       "      <td>72</td>\n",
       "      <td>76</td>\n",
       "      <td>93</td>\n",
       "      <td>56</td>\n",
       "    </tr>\n",
       "    <tr>\n",
       "      <th>陳大同</th>\n",
       "      <td>81</td>\n",
       "      <td>85</td>\n",
       "      <td>91</td>\n",
       "      <td>89</td>\n",
       "      <td>77</td>\n",
       "    </tr>\n",
       "    <tr>\n",
       "      <th>林小玉</th>\n",
       "      <td>79</td>\n",
       "      <td>53</td>\n",
       "      <td>47</td>\n",
       "      <td>94</td>\n",
       "      <td>80</td>\n",
       "    </tr>\n",
       "    <tr>\n",
       "      <th>王小明</th>\n",
       "      <td>80</td>\n",
       "      <td>80</td>\n",
       "      <td>80</td>\n",
       "      <td>80</td>\n",
       "      <td>80</td>\n",
       "    </tr>\n",
       "  </tbody>\n",
       "</table>\n",
       "</div>"
      ],
      "text/plain": [
       "     國文  英文  數學  自然  社會\n",
       "李小美  90  72  76  93  56\n",
       "陳大同  81  85  91  89  77\n",
       "林小玉  79  53  47  94  80\n",
       "王小明  80  80  80  80  80"
      ]
     },
     "execution_count": 54,
     "metadata": {},
     "output_type": "execute_result"
    }
   ],
   "source": [
    "df"
   ]
  },
  {
   "cell_type": "code",
   "execution_count": 53,
   "metadata": {
    "colab": {
     "base_uri": "https://localhost:8080/"
    },
    "executionInfo": {
     "elapsed": 300,
     "status": "ok",
     "timestamp": 1730273854698,
     "user": {
      "displayName": "林志偉",
      "userId": "13117312472561068650"
     },
     "user_tz": -480
    },
    "id": "kqagy1dvxwHJ",
    "outputId": "bdc6aed0-c052-4074-c859-14f4e0b9c7d6"
   },
   "outputs": [
    {
     "name": "stdout",
     "output_type": "stream",
     "text": [
      "<class 'pandas.core.frame.DataFrame'>\n",
      "Index: 4 entries, 李小美 to 王小明\n",
      "Data columns (total 5 columns):\n",
      " #   Column  Non-Null Count  Dtype\n",
      "---  ------  --------------  -----\n",
      " 0   國文      4 non-null      int64\n",
      " 1   英文      4 non-null      int64\n",
      " 2   數學      4 non-null      int64\n",
      " 3   自然      4 non-null      int64\n",
      " 4   社會      4 non-null      int64\n",
      "dtypes: int64(5)\n",
      "memory usage: 364.0+ bytes\n"
     ]
    }
   ],
   "source": [
    "df.info()"
   ]
  },
  {
   "cell_type": "code",
   "execution_count": 56,
   "metadata": {
    "colab": {
     "base_uri": "https://localhost:8080/"
    },
    "executionInfo": {
     "elapsed": 336,
     "status": "ok",
     "timestamp": 1730273918567,
     "user": {
      "displayName": "林志偉",
      "userId": "13117312472561068650"
     },
     "user_tz": -480
    },
    "id": "zsgoE7VPs2J_",
    "outputId": "af3d625c-f2a6-40d7-c345-ed6906515cb7"
   },
   "outputs": [
    {
     "name": "stdout",
     "output_type": "stream",
     "text": [
      "<class 'pandas.core.frame.DataFrame'>\n",
      "Index: 4 entries, 李小美 to 王小明\n",
      "Data columns (total 5 columns):\n",
      " #   Column  Non-Null Count  Dtype\n",
      "---  ------  --------------  -----\n",
      " 0   國文      4 non-null      int8 \n",
      " 1   英文      4 non-null      int64\n",
      " 2   數學      4 non-null      int64\n",
      " 3   自然      4 non-null      int64\n",
      " 4   社會      4 non-null      int64\n",
      "dtypes: int64(4), int8(1)\n",
      "memory usage: 336.0+ bytes\n"
     ]
    }
   ],
   "source": [
    "import numpy as np\n",
    "df[\"國文\"] = df[\"國文\"].astype(np.int8)\n",
    "df.info()"
   ]
  },
  {
   "cell_type": "code",
   "execution_count": 57,
   "metadata": {
    "colab": {
     "base_uri": "https://localhost:8080/",
     "height": 175
    },
    "executionInfo": {
     "elapsed": 319,
     "status": "ok",
     "timestamp": 1730273980716,
     "user": {
      "displayName": "林志偉",
      "userId": "13117312472561068650"
     },
     "user_tz": -480
    },
    "id": "R7_LLk8Cs6SA",
    "outputId": "c145eab7-2015-4855-d57b-315a65c3725f"
   },
   "outputs": [
    {
     "data": {
      "application/vnd.microsoft.datawrangler.viewer.v0+json": {
       "columns": [
        {
         "name": "index",
         "rawType": "object",
         "type": "string"
        },
        {
         "name": "國文",
         "rawType": "int8",
         "type": "integer"
        },
        {
         "name": "外語",
         "rawType": "int64",
         "type": "integer"
        },
        {
         "name": "數學",
         "rawType": "int64",
         "type": "integer"
        },
        {
         "name": "自然",
         "rawType": "int64",
         "type": "integer"
        },
        {
         "name": "社會",
         "rawType": "int64",
         "type": "integer"
        }
       ],
       "ref": "ec0e9aea-1baa-465d-aa11-4e6eaaae4f69",
       "rows": [
        [
         "李小美",
         "90",
         "72",
         "76",
         "93",
         "56"
        ],
        [
         "陳大同",
         "81",
         "85",
         "91",
         "89",
         "77"
        ],
        [
         "林小玉",
         "79",
         "53",
         "47",
         "94",
         "80"
        ],
        [
         "王小明",
         "80",
         "80",
         "80",
         "80",
         "80"
        ]
       ],
       "shape": {
        "columns": 5,
        "rows": 4
       }
      },
      "text/html": [
       "<div>\n",
       "<style scoped>\n",
       "    .dataframe tbody tr th:only-of-type {\n",
       "        vertical-align: middle;\n",
       "    }\n",
       "\n",
       "    .dataframe tbody tr th {\n",
       "        vertical-align: top;\n",
       "    }\n",
       "\n",
       "    .dataframe thead th {\n",
       "        text-align: right;\n",
       "    }\n",
       "</style>\n",
       "<table border=\"1\" class=\"dataframe\">\n",
       "  <thead>\n",
       "    <tr style=\"text-align: right;\">\n",
       "      <th></th>\n",
       "      <th>國文</th>\n",
       "      <th>外語</th>\n",
       "      <th>數學</th>\n",
       "      <th>自然</th>\n",
       "      <th>社會</th>\n",
       "    </tr>\n",
       "  </thead>\n",
       "  <tbody>\n",
       "    <tr>\n",
       "      <th>李小美</th>\n",
       "      <td>90</td>\n",
       "      <td>72</td>\n",
       "      <td>76</td>\n",
       "      <td>93</td>\n",
       "      <td>56</td>\n",
       "    </tr>\n",
       "    <tr>\n",
       "      <th>陳大同</th>\n",
       "      <td>81</td>\n",
       "      <td>85</td>\n",
       "      <td>91</td>\n",
       "      <td>89</td>\n",
       "      <td>77</td>\n",
       "    </tr>\n",
       "    <tr>\n",
       "      <th>林小玉</th>\n",
       "      <td>79</td>\n",
       "      <td>53</td>\n",
       "      <td>47</td>\n",
       "      <td>94</td>\n",
       "      <td>80</td>\n",
       "    </tr>\n",
       "    <tr>\n",
       "      <th>王小明</th>\n",
       "      <td>80</td>\n",
       "      <td>80</td>\n",
       "      <td>80</td>\n",
       "      <td>80</td>\n",
       "      <td>80</td>\n",
       "    </tr>\n",
       "  </tbody>\n",
       "</table>\n",
       "</div>"
      ],
      "text/plain": [
       "     國文  外語  數學  自然  社會\n",
       "李小美  90  72  76  93  56\n",
       "陳大同  81  85  91  89  77\n",
       "林小玉  79  53  47  94  80\n",
       "王小明  80  80  80  80  80"
      ]
     },
     "execution_count": 57,
     "metadata": {},
     "output_type": "execute_result"
    }
   ],
   "source": [
    "df.rename(columns = {\"英文\":\"外語\"}, inplace=True)\n",
    "df"
   ]
  },
  {
   "cell_type": "code",
   "execution_count": 66,
   "metadata": {
    "colab": {
     "base_uri": "https://localhost:8080/",
     "height": 175
    },
    "executionInfo": {
     "elapsed": 337,
     "status": "ok",
     "timestamp": 1730274009351,
     "user": {
      "displayName": "林志偉",
      "userId": "13117312472561068650"
     },
     "user_tz": -480
    },
    "id": "-IYUI9D1tkYS",
    "outputId": "1e050d9c-2a8a-45ac-9a2c-8cb6e934adb5"
   },
   "outputs": [
    {
     "ename": "TypeError",
     "evalue": "'method' object is not subscriptable",
     "output_type": "error",
     "traceback": [
      "\u001b[0;31m---------------------------------------------------------------------------\u001b[0m",
      "\u001b[0;31mTypeError\u001b[0m                                 Traceback (most recent call last)",
      "Cell \u001b[0;32mIn[66], line 1\u001b[0m\n\u001b[0;32m----> 1\u001b[0m df[\u001b[38;5;124m\"\u001b[39m\u001b[38;5;124m總分\u001b[39m\u001b[38;5;124m\"\u001b[39m] \u001b[38;5;241m=\u001b[39m \u001b[43mdf\u001b[49m\u001b[43m[\u001b[49m\u001b[38;5;124;43m\"\u001b[39;49m\u001b[38;5;124;43m國文\u001b[39;49m\u001b[38;5;124;43m\"\u001b[39;49m\u001b[43m]\u001b[49m \u001b[38;5;241m+\u001b[39m df[\u001b[38;5;124m\"\u001b[39m\u001b[38;5;124m外語\u001b[39m\u001b[38;5;124m\"\u001b[39m] \u001b[38;5;241m+\u001b[39m df[\u001b[38;5;124m\"\u001b[39m\u001b[38;5;124m數學\u001b[39m\u001b[38;5;124m\"\u001b[39m] \u001b[38;5;241m+\u001b[39m df[\u001b[38;5;124m\"\u001b[39m\u001b[38;5;124m自然\u001b[39m\u001b[38;5;124m\"\u001b[39m] \u001b[38;5;241m+\u001b[39m df[\u001b[38;5;124m\"\u001b[39m\u001b[38;5;124m社會\u001b[39m\u001b[38;5;124m\"\u001b[39m]\n\u001b[1;32m      2\u001b[0m df\n",
      "\u001b[0;31mTypeError\u001b[0m: 'method' object is not subscriptable"
     ]
    }
   ],
   "source": [
    "df[\"總分\"] = df[\"國文\"] + df[\"外語\"] + df[\"數學\"] + df[\"自然\"] + df[\"社會\"]\n",
    "df"
   ]
  },
  {
   "cell_type": "code",
   "execution_count": null,
   "metadata": {
    "colab": {
     "base_uri": "https://localhost:8080/",
     "height": 175
    },
    "executionInfo": {
     "elapsed": 336,
     "status": "ok",
     "timestamp": 1730274022091,
     "user": {
      "displayName": "林志偉",
      "userId": "13117312472561068650"
     },
     "user_tz": -480
    },
    "id": "d-jVrRlB6cr0",
    "outputId": "12976296-0964-4dc5-84fe-509237f4804b"
   },
   "outputs": [],
   "source": [
    "df=dfcopy #還原 DataFrame 資料\n",
    "df"
   ]
  },
  {
   "cell_type": "markdown",
   "metadata": {},
   "source": [
    "# 新增DataFrame資料"
   ]
  },
  {
   "cell_type": "code",
   "execution_count": 76,
   "metadata": {},
   "outputs": [
    {
     "name": "stdout",
     "output_type": "stream",
     "text": [
      "     國文  英文  數學  自然  社會\n",
      "王小明  65  92  78  83  70\n",
      "李小美  90  72  76  93  56\n",
      "陳大同  81  85  91  89  77\n",
      "林小玉  79  53  47  94  80\n",
      "陳彼得  30  35  40  45  50\n"
     ]
    },
    {
     "data": {
      "application/vnd.microsoft.datawrangler.viewer.v0+json": {
       "columns": [
        {
         "name": "index",
         "rawType": "object",
         "type": "string"
        },
        {
         "name": "國文",
         "rawType": "int64",
         "type": "integer"
        },
        {
         "name": "英文",
         "rawType": "int64",
         "type": "integer"
        },
        {
         "name": "數學",
         "rawType": "int64",
         "type": "integer"
        },
        {
         "name": "自然",
         "rawType": "int64",
         "type": "integer"
        },
        {
         "name": "社會",
         "rawType": "int64",
         "type": "integer"
        }
       ],
       "ref": "2ea658f1-83e3-441e-879d-50fd3a157433",
       "rows": [
        [
         "王小明",
         "65",
         "92",
         "78",
         "83",
         "70"
        ],
        [
         "李小美",
         "90",
         "72",
         "76",
         "93",
         "56"
        ],
        [
         "陳大同",
         "81",
         "85",
         "91",
         "89",
         "77"
        ],
        [
         "林小玉",
         "79",
         "53",
         "47",
         "94",
         "80"
        ],
        [
         "陳彼得",
         "30",
         "35",
         "40",
         "45",
         "50"
        ]
       ],
       "shape": {
        "columns": 5,
        "rows": 5
       }
      },
      "text/html": [
       "<div>\n",
       "<style scoped>\n",
       "    .dataframe tbody tr th:only-of-type {\n",
       "        vertical-align: middle;\n",
       "    }\n",
       "\n",
       "    .dataframe tbody tr th {\n",
       "        vertical-align: top;\n",
       "    }\n",
       "\n",
       "    .dataframe thead th {\n",
       "        text-align: right;\n",
       "    }\n",
       "</style>\n",
       "<table border=\"1\" class=\"dataframe\">\n",
       "  <thead>\n",
       "    <tr style=\"text-align: right;\">\n",
       "      <th></th>\n",
       "      <th>國文</th>\n",
       "      <th>英文</th>\n",
       "      <th>數學</th>\n",
       "      <th>自然</th>\n",
       "      <th>社會</th>\n",
       "    </tr>\n",
       "  </thead>\n",
       "  <tbody>\n",
       "    <tr>\n",
       "      <th>王小明</th>\n",
       "      <td>65</td>\n",
       "      <td>92</td>\n",
       "      <td>78</td>\n",
       "      <td>83</td>\n",
       "      <td>70</td>\n",
       "    </tr>\n",
       "    <tr>\n",
       "      <th>李小美</th>\n",
       "      <td>90</td>\n",
       "      <td>72</td>\n",
       "      <td>76</td>\n",
       "      <td>93</td>\n",
       "      <td>56</td>\n",
       "    </tr>\n",
       "    <tr>\n",
       "      <th>陳大同</th>\n",
       "      <td>81</td>\n",
       "      <td>85</td>\n",
       "      <td>91</td>\n",
       "      <td>89</td>\n",
       "      <td>77</td>\n",
       "    </tr>\n",
       "    <tr>\n",
       "      <th>林小玉</th>\n",
       "      <td>79</td>\n",
       "      <td>53</td>\n",
       "      <td>47</td>\n",
       "      <td>94</td>\n",
       "      <td>80</td>\n",
       "    </tr>\n",
       "    <tr>\n",
       "      <th>陳彼得</th>\n",
       "      <td>30</td>\n",
       "      <td>35</td>\n",
       "      <td>40</td>\n",
       "      <td>45</td>\n",
       "      <td>50</td>\n",
       "    </tr>\n",
       "  </tbody>\n",
       "</table>\n",
       "</div>"
      ],
      "text/plain": [
       "     國文  英文  數學  自然  社會\n",
       "王小明  65  92  78  83  70\n",
       "李小美  90  72  76  93  56\n",
       "陳大同  81  85  91  89  77\n",
       "林小玉  79  53  47  94  80\n",
       "陳彼得  30  35  40  45  50"
      ]
     },
     "execution_count": 76,
     "metadata": {},
     "output_type": "execute_result"
    }
   ],
   "source": [
    "print(df)\n",
    "# 資料新增\n",
    "# 確保 df 是 DataFrame，如果不確定，請先執行 df = pd.DataFrame(scores)\n",
    "df.loc['陳彼得'] = [30, 35, 40, 45, 50]    # 就地更改\n",
    "df\n",
    "# print(df)\n",
    "# # new_row = pd.DataFrame({'國文':{'張阿華':30},\n",
    "#                          '英文':{'張阿華':35},\n",
    "#                          '數學':{'張阿華':40},\n",
    "#                          '自然':{'張阿華':45},\n",
    "#                          '社會':{'張阿華':50},\n",
    "#                          '體育':{'張阿華':70},\n",
    "#                          })\n",
    "# df1 = pd.concat([df, new_row], ignore_index=False) # True代表放棄原來的index, 變成整數的index\n",
    "# print(df1)"
   ]
  },
  {
   "cell_type": "markdown",
   "metadata": {
    "id": "Vfhgpa60xatc"
   },
   "source": [
    "# 刪除 DataFrame 資料"
   ]
  },
  {
   "cell_type": "code",
   "execution_count": 68,
   "metadata": {},
   "outputs": [
    {
     "data": {
      "application/vnd.microsoft.datawrangler.viewer.v0+json": {
       "columns": [
        {
         "name": "index",
         "rawType": "object",
         "type": "string"
        },
        {
         "name": "國文",
         "rawType": "int64",
         "type": "integer"
        },
        {
         "name": "英文",
         "rawType": "int64",
         "type": "integer"
        },
        {
         "name": "數學",
         "rawType": "int64",
         "type": "integer"
        },
        {
         "name": "自然",
         "rawType": "int64",
         "type": "integer"
        },
        {
         "name": "社會",
         "rawType": "int64",
         "type": "integer"
        }
       ],
       "ref": "f907bbe3-6b28-495a-82e8-bfa78ad02f45",
       "rows": [
        [
         "王小明",
         "65",
         "92",
         "78",
         "83",
         "70"
        ],
        [
         "李小美",
         "90",
         "72",
         "76",
         "93",
         "56"
        ],
        [
         "陳大同",
         "81",
         "85",
         "91",
         "89",
         "77"
        ],
        [
         "林小玉",
         "79",
         "53",
         "47",
         "94",
         "80"
        ]
       ],
       "shape": {
        "columns": 5,
        "rows": 4
       }
      },
      "text/html": [
       "<div>\n",
       "<style scoped>\n",
       "    .dataframe tbody tr th:only-of-type {\n",
       "        vertical-align: middle;\n",
       "    }\n",
       "\n",
       "    .dataframe tbody tr th {\n",
       "        vertical-align: top;\n",
       "    }\n",
       "\n",
       "    .dataframe thead th {\n",
       "        text-align: right;\n",
       "    }\n",
       "</style>\n",
       "<table border=\"1\" class=\"dataframe\">\n",
       "  <thead>\n",
       "    <tr style=\"text-align: right;\">\n",
       "      <th></th>\n",
       "      <th>國文</th>\n",
       "      <th>英文</th>\n",
       "      <th>數學</th>\n",
       "      <th>自然</th>\n",
       "      <th>社會</th>\n",
       "    </tr>\n",
       "  </thead>\n",
       "  <tbody>\n",
       "    <tr>\n",
       "      <th>王小明</th>\n",
       "      <td>65</td>\n",
       "      <td>92</td>\n",
       "      <td>78</td>\n",
       "      <td>83</td>\n",
       "      <td>70</td>\n",
       "    </tr>\n",
       "    <tr>\n",
       "      <th>李小美</th>\n",
       "      <td>90</td>\n",
       "      <td>72</td>\n",
       "      <td>76</td>\n",
       "      <td>93</td>\n",
       "      <td>56</td>\n",
       "    </tr>\n",
       "    <tr>\n",
       "      <th>陳大同</th>\n",
       "      <td>81</td>\n",
       "      <td>85</td>\n",
       "      <td>91</td>\n",
       "      <td>89</td>\n",
       "      <td>77</td>\n",
       "    </tr>\n",
       "    <tr>\n",
       "      <th>林小玉</th>\n",
       "      <td>79</td>\n",
       "      <td>53</td>\n",
       "      <td>47</td>\n",
       "      <td>94</td>\n",
       "      <td>80</td>\n",
       "    </tr>\n",
       "  </tbody>\n",
       "</table>\n",
       "</div>"
      ],
      "text/plain": [
       "     國文  英文  數學  自然  社會\n",
       "王小明  65  92  78  83  70\n",
       "李小美  90  72  76  93  56\n",
       "陳大同  81  85  91  89  77\n",
       "林小玉  79  53  47  94  80"
      ]
     },
     "execution_count": 68,
     "metadata": {},
     "output_type": "execute_result"
    }
   ],
   "source": [
    "df"
   ]
  },
  {
   "cell_type": "code",
   "execution_count": 70,
   "metadata": {
    "id": "34-PW98Wxa4T"
   },
   "outputs": [
    {
     "data": {
      "application/vnd.microsoft.datawrangler.viewer.v0+json": {
       "columns": [
        {
         "name": "index",
         "rawType": "object",
         "type": "string"
        },
        {
         "name": "國文",
         "rawType": "int64",
         "type": "integer"
        },
        {
         "name": "英文",
         "rawType": "int64",
         "type": "integer"
        },
        {
         "name": "數學",
         "rawType": "int64",
         "type": "integer"
        },
        {
         "name": "自然",
         "rawType": "int64",
         "type": "integer"
        },
        {
         "name": "社會",
         "rawType": "int64",
         "type": "integer"
        }
       ],
       "ref": "bc4febff-ab1a-4908-861b-9d8be808065d",
       "rows": [
        [
         "李小美",
         "90",
         "72",
         "76",
         "93",
         "56"
        ],
        [
         "陳大同",
         "81",
         "85",
         "91",
         "89",
         "77"
        ],
        [
         "林小玉",
         "79",
         "53",
         "47",
         "94",
         "80"
        ]
       ],
       "shape": {
        "columns": 5,
        "rows": 3
       }
      },
      "text/html": [
       "<div>\n",
       "<style scoped>\n",
       "    .dataframe tbody tr th:only-of-type {\n",
       "        vertical-align: middle;\n",
       "    }\n",
       "\n",
       "    .dataframe tbody tr th {\n",
       "        vertical-align: top;\n",
       "    }\n",
       "\n",
       "    .dataframe thead th {\n",
       "        text-align: right;\n",
       "    }\n",
       "</style>\n",
       "<table border=\"1\" class=\"dataframe\">\n",
       "  <thead>\n",
       "    <tr style=\"text-align: right;\">\n",
       "      <th></th>\n",
       "      <th>國文</th>\n",
       "      <th>英文</th>\n",
       "      <th>數學</th>\n",
       "      <th>自然</th>\n",
       "      <th>社會</th>\n",
       "    </tr>\n",
       "  </thead>\n",
       "  <tbody>\n",
       "    <tr>\n",
       "      <th>李小美</th>\n",
       "      <td>90</td>\n",
       "      <td>72</td>\n",
       "      <td>76</td>\n",
       "      <td>93</td>\n",
       "      <td>56</td>\n",
       "    </tr>\n",
       "    <tr>\n",
       "      <th>陳大同</th>\n",
       "      <td>81</td>\n",
       "      <td>85</td>\n",
       "      <td>91</td>\n",
       "      <td>89</td>\n",
       "      <td>77</td>\n",
       "    </tr>\n",
       "    <tr>\n",
       "      <th>林小玉</th>\n",
       "      <td>79</td>\n",
       "      <td>53</td>\n",
       "      <td>47</td>\n",
       "      <td>94</td>\n",
       "      <td>80</td>\n",
       "    </tr>\n",
       "  </tbody>\n",
       "</table>\n",
       "</div>"
      ],
      "text/plain": [
       "     國文  英文  數學  自然  社會\n",
       "李小美  90  72  76  93  56\n",
       "陳大同  81  85  91  89  77\n",
       "林小玉  79  53  47  94  80"
      ]
     },
     "execution_count": 70,
     "metadata": {},
     "output_type": "execute_result"
    }
   ],
   "source": [
    "dfcopy=df.copy()  # 複製原始資料\n",
    "df.drop(\"王小明\", axis = 0)          #CRUD Create, Read, Update, Delete"
   ]
  },
  {
   "cell_type": "code",
   "execution_count": 71,
   "metadata": {
    "id": "43Dyd3Daxa7m"
   },
   "outputs": [
    {
     "data": {
      "application/vnd.microsoft.datawrangler.viewer.v0+json": {
       "columns": [
        {
         "name": "index",
         "rawType": "object",
         "type": "string"
        },
        {
         "name": "國文",
         "rawType": "int64",
         "type": "integer"
        },
        {
         "name": "英文",
         "rawType": "int64",
         "type": "integer"
        },
        {
         "name": "自然",
         "rawType": "int64",
         "type": "integer"
        },
        {
         "name": "社會",
         "rawType": "int64",
         "type": "integer"
        }
       ],
       "ref": "259e05f8-6a98-452a-b74c-ebaf94621f6b",
       "rows": [
        [
         "王小明",
         "65",
         "92",
         "83",
         "70"
        ],
        [
         "李小美",
         "90",
         "72",
         "93",
         "56"
        ],
        [
         "陳大同",
         "81",
         "85",
         "89",
         "77"
        ],
        [
         "林小玉",
         "79",
         "53",
         "94",
         "80"
        ]
       ],
       "shape": {
        "columns": 4,
        "rows": 4
       }
      },
      "text/html": [
       "<div>\n",
       "<style scoped>\n",
       "    .dataframe tbody tr th:only-of-type {\n",
       "        vertical-align: middle;\n",
       "    }\n",
       "\n",
       "    .dataframe tbody tr th {\n",
       "        vertical-align: top;\n",
       "    }\n",
       "\n",
       "    .dataframe thead th {\n",
       "        text-align: right;\n",
       "    }\n",
       "</style>\n",
       "<table border=\"1\" class=\"dataframe\">\n",
       "  <thead>\n",
       "    <tr style=\"text-align: right;\">\n",
       "      <th></th>\n",
       "      <th>國文</th>\n",
       "      <th>英文</th>\n",
       "      <th>自然</th>\n",
       "      <th>社會</th>\n",
       "    </tr>\n",
       "  </thead>\n",
       "  <tbody>\n",
       "    <tr>\n",
       "      <th>王小明</th>\n",
       "      <td>65</td>\n",
       "      <td>92</td>\n",
       "      <td>83</td>\n",
       "      <td>70</td>\n",
       "    </tr>\n",
       "    <tr>\n",
       "      <th>李小美</th>\n",
       "      <td>90</td>\n",
       "      <td>72</td>\n",
       "      <td>93</td>\n",
       "      <td>56</td>\n",
       "    </tr>\n",
       "    <tr>\n",
       "      <th>陳大同</th>\n",
       "      <td>81</td>\n",
       "      <td>85</td>\n",
       "      <td>89</td>\n",
       "      <td>77</td>\n",
       "    </tr>\n",
       "    <tr>\n",
       "      <th>林小玉</th>\n",
       "      <td>79</td>\n",
       "      <td>53</td>\n",
       "      <td>94</td>\n",
       "      <td>80</td>\n",
       "    </tr>\n",
       "  </tbody>\n",
       "</table>\n",
       "</div>"
      ],
      "text/plain": [
       "     國文  英文  自然  社會\n",
       "王小明  65  92  83  70\n",
       "李小美  90  72  93  56\n",
       "陳大同  81  85  89  77\n",
       "林小玉  79  53  94  80"
      ]
     },
     "execution_count": 71,
     "metadata": {},
     "output_type": "execute_result"
    }
   ],
   "source": [
    "df = dfcopy\n",
    "df.drop(\"數學\", axis=1)"
   ]
  },
  {
   "cell_type": "code",
   "execution_count": null,
   "metadata": {
    "id": "Bkyt5AFDxqF0"
   },
   "outputs": [],
   "source": [
    "dfcopy=df.copy()\n",
    "dfcopy.drop([\"數學\", \"自然\"], axis=1)"
   ]
  },
  {
   "cell_type": "code",
   "execution_count": null,
   "metadata": {
    "id": "xNam9lK1xqI4"
   },
   "outputs": [],
   "source": [
    "df = dfcopy\n",
    "df.drop(df.index[1:4])"
   ]
  },
  {
   "cell_type": "code",
   "execution_count": null,
   "metadata": {
    "id": "juk0vl96xu67"
   },
   "outputs": [],
   "source": [
    "dfcopy=df.copy()\n",
    "dfcopy.drop(dfcopy.columns[1:4], axis=1)"
   ]
  },
  {
   "cell_type": "markdown",
   "metadata": {
    "id": "2KapRhABuF-n"
   },
   "source": [
    "# 讀寫外部檔案"
   ]
  },
  {
   "cell_type": "code",
   "execution_count": null,
   "metadata": {
    "colab": {
     "base_uri": "https://localhost:8080/",
     "height": 175
    },
    "executionInfo": {
     "elapsed": 340,
     "status": "ok",
     "timestamp": 1730274092915,
     "user": {
      "displayName": "林志偉",
      "userId": "13117312472561068650"
     },
     "user_tz": -480
    },
    "id": "22PBgLveX1Zs",
    "outputId": "ce882695-537c-489b-cb9d-6a44984f9464"
   },
   "outputs": [],
   "source": [
    "df"
   ]
  },
  {
   "cell_type": "code",
   "execution_count": null,
   "metadata": {
    "id": "EzzXwf2ghR2s"
   },
   "outputs": [],
   "source": [
    "# 寫到CSV檔案\n",
    "from pathlib import Path\n",
    "target_csv_path = Path.cwd() / '..' / 'files' / 'csv' / 'scores.csv'\n",
    "df.to_csv(target_csv_path, encoding='utf-8-sig')"
   ]
  },
  {
   "cell_type": "code",
   "execution_count": 85,
   "metadata": {
    "id": "zBLpDunruH8I"
   },
   "outputs": [
    {
     "data": {
      "application/vnd.microsoft.datawrangler.viewer.v0+json": {
       "columns": [
        {
         "name": "index",
         "rawType": "int64",
         "type": "integer"
        },
        {
         "name": "country_ch",
         "rawType": "object",
         "type": "string"
        },
        {
         "name": "country_en",
         "rawType": "object",
         "type": "string"
        },
        {
         "name": "cases",
         "rawType": "object",
         "type": "string"
        },
        {
         "name": "deaths",
         "rawType": "object",
         "type": "string"
        }
       ],
       "ref": "a35fe5f0-f2e0-4f82-90c1-071fb7e8bdd0",
       "rows": [
        [
         "0",
         "美國",
         "United States",
         "76,407,539",
         "923,087"
        ],
        [
         "1",
         "印度",
         "India",
         "42,272,014",
         "502,874"
        ],
        [
         "2",
         "巴西",
         "Brazil",
         "26,599,593",
         "632,621"
        ],
        [
         "3",
         "法國",
         "France",
         "20,804,372",
         "132,923"
        ],
        [
         "4",
         "英國",
         "United Kingdom",
         "17,866,632",
         "158,363"
        ]
       ],
       "shape": {
        "columns": 4,
        "rows": 5
       }
      },
      "text/html": [
       "<div>\n",
       "<style scoped>\n",
       "    .dataframe tbody tr th:only-of-type {\n",
       "        vertical-align: middle;\n",
       "    }\n",
       "\n",
       "    .dataframe tbody tr th {\n",
       "        vertical-align: top;\n",
       "    }\n",
       "\n",
       "    .dataframe thead th {\n",
       "        text-align: right;\n",
       "    }\n",
       "</style>\n",
       "<table border=\"1\" class=\"dataframe\">\n",
       "  <thead>\n",
       "    <tr style=\"text-align: right;\">\n",
       "      <th></th>\n",
       "      <th>country_ch</th>\n",
       "      <th>country_en</th>\n",
       "      <th>cases</th>\n",
       "      <th>deaths</th>\n",
       "    </tr>\n",
       "  </thead>\n",
       "  <tbody>\n",
       "    <tr>\n",
       "      <th>0</th>\n",
       "      <td>美國</td>\n",
       "      <td>United States</td>\n",
       "      <td>76,407,539</td>\n",
       "      <td>923,087</td>\n",
       "    </tr>\n",
       "    <tr>\n",
       "      <th>1</th>\n",
       "      <td>印度</td>\n",
       "      <td>India</td>\n",
       "      <td>42,272,014</td>\n",
       "      <td>502,874</td>\n",
       "    </tr>\n",
       "    <tr>\n",
       "      <th>2</th>\n",
       "      <td>巴西</td>\n",
       "      <td>Brazil</td>\n",
       "      <td>26,599,593</td>\n",
       "      <td>632,621</td>\n",
       "    </tr>\n",
       "    <tr>\n",
       "      <th>3</th>\n",
       "      <td>法國</td>\n",
       "      <td>France</td>\n",
       "      <td>20,804,372</td>\n",
       "      <td>132,923</td>\n",
       "    </tr>\n",
       "    <tr>\n",
       "      <th>4</th>\n",
       "      <td>英國</td>\n",
       "      <td>United Kingdom</td>\n",
       "      <td>17,866,632</td>\n",
       "      <td>158,363</td>\n",
       "    </tr>\n",
       "  </tbody>\n",
       "</table>\n",
       "</div>"
      ],
      "text/plain": [
       "  country_ch      country_en       cases   deaths\n",
       "0         美國   United States  76,407,539  923,087\n",
       "1         印度           India  42,272,014  502,874\n",
       "2         巴西          Brazil  26,599,593  632,621\n",
       "3         法國          France  20,804,372  132,923\n",
       "4         英國  United Kingdom  17,866,632  158,363"
      ]
     },
     "execution_count": 85,
     "metadata": {},
     "output_type": "execute_result"
    }
   ],
   "source": [
    "# 讀CSV檔案\n",
    "from pathlib import Path\n",
    "source_csv_path = Path.cwd() / '..' / 'files' / 'csv' / 'covid19.csv'\n",
    "df = pd.read_csv(source_csv_path)\n",
    "df.head()"
   ]
  },
  {
   "cell_type": "code",
   "execution_count": null,
   "metadata": {
    "id": "GFN8XZz-uINJ"
   },
   "outputs": [],
   "source": [
    "# 讀JSON檔案\n",
    "from pathlib import Path\n",
    "source_csv_path = Path.cwd() / '..' / 'files' / 'json' / 'covid19.json'\n",
    "df = pd.read_json(source_csv_path)\n",
    "df"
   ]
  },
  {
   "cell_type": "code",
   "execution_count": null,
   "metadata": {
    "colab": {
     "base_uri": "https://localhost:8080/",
     "height": 424
    },
    "executionInfo": {
     "elapsed": 1452,
     "status": "ok",
     "timestamp": 1730274176684,
     "user": {
      "displayName": "林志偉",
      "userId": "13117312472561068650"
     },
     "user_tz": -480
    },
    "id": "Yhgz5cbNDKe8",
    "outputId": "6e398f26-af78-4db5-b271-41563dd1e926"
   },
   "outputs": [],
   "source": [
    "# 讀Excel試算表\n",
    "from pathlib import Path\n",
    "source_csv_path = Path.cwd() / '..' / 'files' / 'xls' / 'covid19.xlsx'\n",
    "df = pd.read_excel(source_csv_path)\n",
    "df"
   ]
  },
  {
   "cell_type": "markdown",
   "metadata": {
    "id": "9ByyDDEWlJWp"
   },
   "source": [
    "# 資料清洗 (Customer.csv)"
   ]
  },
  {
   "cell_type": "markdown",
   "metadata": {
    "id": "hqqxbYErlLly"
   },
   "source": [
    "## 查詢空值：isnull()\n"
   ]
  },
  {
   "cell_type": "code",
   "execution_count": 86,
   "metadata": {
    "colab": {
     "base_uri": "https://localhost:8080/"
    },
    "executionInfo": {
     "elapsed": 317,
     "status": "ok",
     "timestamp": 1730274380802,
     "user": {
      "displayName": "林志偉",
      "userId": "13117312472561068650"
     },
     "user_tz": -480
    },
    "id": "nJnji-mnlLyK",
    "outputId": "23c918fa-d96b-4415-ca88-d4b5d7303ffb"
   },
   "outputs": [
    {
     "data": {
      "application/vnd.microsoft.datawrangler.viewer.v0+json": {
       "columns": [
        {
         "name": "index",
         "rawType": "int64",
         "type": "integer"
        },
        {
         "name": "id",
         "rawType": "int64",
         "type": "integer"
        },
        {
         "name": "name",
         "rawType": "object",
         "type": "string"
        },
        {
         "name": "gender",
         "rawType": "object",
         "type": "unknown"
        },
        {
         "name": "age",
         "rawType": "float64",
         "type": "float"
        },
        {
         "name": "area",
         "rawType": "object",
         "type": "unknown"
        },
        {
         "name": "job",
         "rawType": "object",
         "type": "string"
        }
       ],
       "ref": "54d7fe46-b2de-44a9-96c6-7f21c0433441",
       "rows": [
        [
         "0",
         "1700001",
         "李國發",
         "Male",
         "21.0",
         "新北市三重區",
         " 金融業 和房地產 "
        ],
        [
         "1",
         "1700002",
         "吳俊諺",
         null,
         null,
         "臺北市文山區",
         " 金融業和房地產"
        ],
        [
         "2",
         "1700003",
         "蔡俊毅",
         null,
         null,
         "臺北市文山區",
         "教育體育  文化"
        ],
        [
         "3",
         "1700004",
         "姚鈺迪",
         "Female",
         "34.0",
         "基隆市中正區",
         " 住宿 和 餐飲業"
        ],
        [
         "4",
         "1700004",
         "姚鈺迪",
         "Female",
         "34.0",
         "基隆市中正區",
         " 住宿和餐飲業"
        ],
        [
         "5",
         "1700005",
         "袁劭彥",
         "Male",
         "42.0",
         "臺北市文山區",
         " 金融業和房地產"
        ],
        [
         "6",
         "1700006",
         "蔡登意",
         null,
         null,
         null,
         " 金融業和房地產"
        ],
        [
         "7",
         "1700007",
         "吳景翔",
         null,
         "39.0",
         null,
         "農林牧漁業"
        ],
        [
         "8",
         "1700008",
         "邱孝信",
         null,
         "39.0",
         null,
         "金融業和房地產"
        ],
        [
         "9",
         "1700009",
         "陳明輝",
         null,
         "57.0",
         "基隆市中正區",
         "金融業和房地產"
        ],
        [
         "10",
         "1700010",
         "彭郁翔",
         null,
         "55.0",
         "基隆市中正區",
         "住宿和餐飲業"
        ],
        [
         "11",
         "1700011",
         "許合蓉",
         "Female",
         "61.0",
         "新北市三重區",
         "住宿和餐飲業"
        ],
        [
         "12",
         "1700012",
         "武家豪",
         "Male",
         "53.0",
         "新北市三重區",
         "農林牧漁業"
        ],
        [
         "13",
         "1700013",
         "郭信邦",
         null,
         "48.0",
         "新北市三重區",
         "教育體育文化"
        ],
        [
         "14",
         "1700014",
         "周聿綠",
         "Female",
         "57.0",
         "基隆市中正區",
         "金融業和房地產"
        ]
       ],
       "shape": {
        "columns": 6,
        "rows": 15
       }
      },
      "text/html": [
       "<div>\n",
       "<style scoped>\n",
       "    .dataframe tbody tr th:only-of-type {\n",
       "        vertical-align: middle;\n",
       "    }\n",
       "\n",
       "    .dataframe tbody tr th {\n",
       "        vertical-align: top;\n",
       "    }\n",
       "\n",
       "    .dataframe thead th {\n",
       "        text-align: right;\n",
       "    }\n",
       "</style>\n",
       "<table border=\"1\" class=\"dataframe\">\n",
       "  <thead>\n",
       "    <tr style=\"text-align: right;\">\n",
       "      <th></th>\n",
       "      <th>id</th>\n",
       "      <th>name</th>\n",
       "      <th>gender</th>\n",
       "      <th>age</th>\n",
       "      <th>area</th>\n",
       "      <th>job</th>\n",
       "    </tr>\n",
       "  </thead>\n",
       "  <tbody>\n",
       "    <tr>\n",
       "      <th>0</th>\n",
       "      <td>1700001</td>\n",
       "      <td>李國發</td>\n",
       "      <td>Male</td>\n",
       "      <td>21.0</td>\n",
       "      <td>新北市三重區</td>\n",
       "      <td>金融業 和房地產</td>\n",
       "    </tr>\n",
       "    <tr>\n",
       "      <th>1</th>\n",
       "      <td>1700002</td>\n",
       "      <td>吳俊諺</td>\n",
       "      <td>NaN</td>\n",
       "      <td>NaN</td>\n",
       "      <td>臺北市文山區</td>\n",
       "      <td>金融業和房地產</td>\n",
       "    </tr>\n",
       "    <tr>\n",
       "      <th>2</th>\n",
       "      <td>1700003</td>\n",
       "      <td>蔡俊毅</td>\n",
       "      <td>NaN</td>\n",
       "      <td>NaN</td>\n",
       "      <td>臺北市文山區</td>\n",
       "      <td>教育體育  文化</td>\n",
       "    </tr>\n",
       "    <tr>\n",
       "      <th>3</th>\n",
       "      <td>1700004</td>\n",
       "      <td>姚鈺迪</td>\n",
       "      <td>Female</td>\n",
       "      <td>34.0</td>\n",
       "      <td>基隆市中正區</td>\n",
       "      <td>住宿 和 餐飲業</td>\n",
       "    </tr>\n",
       "    <tr>\n",
       "      <th>4</th>\n",
       "      <td>1700004</td>\n",
       "      <td>姚鈺迪</td>\n",
       "      <td>Female</td>\n",
       "      <td>34.0</td>\n",
       "      <td>基隆市中正區</td>\n",
       "      <td>住宿和餐飲業</td>\n",
       "    </tr>\n",
       "    <tr>\n",
       "      <th>5</th>\n",
       "      <td>1700005</td>\n",
       "      <td>袁劭彥</td>\n",
       "      <td>Male</td>\n",
       "      <td>42.0</td>\n",
       "      <td>臺北市文山區</td>\n",
       "      <td>金融業和房地產</td>\n",
       "    </tr>\n",
       "    <tr>\n",
       "      <th>6</th>\n",
       "      <td>1700006</td>\n",
       "      <td>蔡登意</td>\n",
       "      <td>NaN</td>\n",
       "      <td>NaN</td>\n",
       "      <td>NaN</td>\n",
       "      <td>金融業和房地產</td>\n",
       "    </tr>\n",
       "    <tr>\n",
       "      <th>7</th>\n",
       "      <td>1700007</td>\n",
       "      <td>吳景翔</td>\n",
       "      <td>NaN</td>\n",
       "      <td>39.0</td>\n",
       "      <td>NaN</td>\n",
       "      <td>農林牧漁業</td>\n",
       "    </tr>\n",
       "    <tr>\n",
       "      <th>8</th>\n",
       "      <td>1700008</td>\n",
       "      <td>邱孝信</td>\n",
       "      <td>NaN</td>\n",
       "      <td>39.0</td>\n",
       "      <td>NaN</td>\n",
       "      <td>金融業和房地產</td>\n",
       "    </tr>\n",
       "    <tr>\n",
       "      <th>9</th>\n",
       "      <td>1700009</td>\n",
       "      <td>陳明輝</td>\n",
       "      <td>NaN</td>\n",
       "      <td>57.0</td>\n",
       "      <td>基隆市中正區</td>\n",
       "      <td>金融業和房地產</td>\n",
       "    </tr>\n",
       "    <tr>\n",
       "      <th>10</th>\n",
       "      <td>1700010</td>\n",
       "      <td>彭郁翔</td>\n",
       "      <td>NaN</td>\n",
       "      <td>55.0</td>\n",
       "      <td>基隆市中正區</td>\n",
       "      <td>住宿和餐飲業</td>\n",
       "    </tr>\n",
       "    <tr>\n",
       "      <th>11</th>\n",
       "      <td>1700011</td>\n",
       "      <td>許合蓉</td>\n",
       "      <td>Female</td>\n",
       "      <td>61.0</td>\n",
       "      <td>新北市三重區</td>\n",
       "      <td>住宿和餐飲業</td>\n",
       "    </tr>\n",
       "    <tr>\n",
       "      <th>12</th>\n",
       "      <td>1700012</td>\n",
       "      <td>武家豪</td>\n",
       "      <td>Male</td>\n",
       "      <td>53.0</td>\n",
       "      <td>新北市三重區</td>\n",
       "      <td>農林牧漁業</td>\n",
       "    </tr>\n",
       "    <tr>\n",
       "      <th>13</th>\n",
       "      <td>1700013</td>\n",
       "      <td>郭信邦</td>\n",
       "      <td>NaN</td>\n",
       "      <td>48.0</td>\n",
       "      <td>新北市三重區</td>\n",
       "      <td>教育體育文化</td>\n",
       "    </tr>\n",
       "    <tr>\n",
       "      <th>14</th>\n",
       "      <td>1700014</td>\n",
       "      <td>周聿綠</td>\n",
       "      <td>Female</td>\n",
       "      <td>57.0</td>\n",
       "      <td>基隆市中正區</td>\n",
       "      <td>金融業和房地產</td>\n",
       "    </tr>\n",
       "  </tbody>\n",
       "</table>\n",
       "</div>"
      ],
      "text/plain": [
       "         id name  gender   age    area         job\n",
       "0   1700001  李國發    Male  21.0  新北市三重區   金融業 和房地產 \n",
       "1   1700002  吳俊諺     NaN   NaN  臺北市文山區     金融業和房地產\n",
       "2   1700003  蔡俊毅     NaN   NaN  臺北市文山區    教育體育  文化\n",
       "3   1700004  姚鈺迪  Female  34.0  基隆市中正區    住宿 和 餐飲業\n",
       "4   1700004  姚鈺迪  Female  34.0  基隆市中正區      住宿和餐飲業\n",
       "5   1700005  袁劭彥    Male  42.0  臺北市文山區     金融業和房地產\n",
       "6   1700006  蔡登意     NaN   NaN     NaN     金融業和房地產\n",
       "7   1700007  吳景翔     NaN  39.0     NaN       農林牧漁業\n",
       "8   1700008  邱孝信     NaN  39.0     NaN     金融業和房地產\n",
       "9   1700009  陳明輝     NaN  57.0  基隆市中正區     金融業和房地產\n",
       "10  1700010  彭郁翔     NaN  55.0  基隆市中正區      住宿和餐飲業\n",
       "11  1700011  許合蓉  Female  61.0  新北市三重區      住宿和餐飲業\n",
       "12  1700012  武家豪    Male  53.0  新北市三重區       農林牧漁業\n",
       "13  1700013  郭信邦     NaN  48.0  新北市三重區      教育體育文化\n",
       "14  1700014  周聿綠  Female  57.0  基隆市中正區     金融業和房地產"
      ]
     },
     "execution_count": 86,
     "metadata": {},
     "output_type": "execute_result"
    }
   ],
   "source": [
    "import pandas as pd\n",
    "from pathlib import Path\n",
    "\n",
    "source_csv_path = Path.cwd() / '..' / 'files' / 'csv' / 'customer.csv'\n",
    "# 讀取資料\n",
    "df = pd.read_csv(source_csv_path)\n",
    "df"
   ]
  },
  {
   "cell_type": "code",
   "execution_count": null,
   "metadata": {},
   "outputs": [
    {
     "name": "stdout",
     "output_type": "stream",
     "text": [
      "各個欄位有空值的狀況:\n",
      "age欄有空值的記錄:\n",
      "        id name gender  age    area       job\n",
      "1  1700002  吳俊諺    NaN  NaN  臺北市文山區   金融業和房地產\n",
      "2  1700003  蔡俊毅    NaN  NaN  臺北市文山區  教育體育  文化\n",
      "6  1700006  蔡登意    NaN  NaN     NaN   金融業和房地產\n"
     ]
    }
   ],
   "source": [
    "# 空值的處理\n",
    "print('各個欄位有空值的狀況:')\n",
    "# print(df.isnull())\n",
    "# print(df.isnull().sum())\n",
    "# print(df.isnull().any(axis=1))\n",
    "# print('有空值的記錄筆數:', df.isnull().any(axis=1).sum())\n",
    "# print(df.isnull().any(axis=0))\n",
    "# print('有空值的欄位數:', df.isnull().any(axis=0).sum())\n",
    "# print('age欄有空值的記錄:')\n",
    "# print(df[df['age'].isnull()])"
   ]
  },
  {
   "cell_type": "markdown",
   "metadata": {
    "id": "RM5zqK2ElZBD"
   },
   "source": [
    "## 空欄填值：fillna()"
   ]
  },
  {
   "cell_type": "code",
   "execution_count": null,
   "metadata": {
    "colab": {
     "base_uri": "https://localhost:8080/",
     "height": 520
    },
    "executionInfo": {
     "elapsed": 2,
     "status": "ok",
     "timestamp": 1730274562331,
     "user": {
      "displayName": "林志偉",
      "userId": "13117312472561068650"
     },
     "user_tz": -480
    },
    "id": "EKLZBeznZnyc",
    "outputId": "9b6e92ab-d5c5-4d79-d18b-b41926842b0b"
   },
   "outputs": [],
   "source": [
    "df"
   ]
  },
  {
   "cell_type": "code",
   "execution_count": 97,
   "metadata": {
    "colab": {
     "base_uri": "https://localhost:8080/",
     "height": 206
    },
    "executionInfo": {
     "elapsed": 354,
     "status": "ok",
     "timestamp": 1730274537446,
     "user": {
      "displayName": "林志偉",
      "userId": "13117312472561068650"
     },
     "user_tz": -480
    },
    "id": "XMA8ZgXUlL2x",
    "outputId": "6465cb4c-96d5-4b3d-e952-2e3bc37bea44"
   },
   "outputs": [
    {
     "data": {
      "application/vnd.microsoft.datawrangler.viewer.v0+json": {
       "columns": [
        {
         "name": "index",
         "rawType": "int64",
         "type": "integer"
        },
        {
         "name": "id",
         "rawType": "int64",
         "type": "integer"
        },
        {
         "name": "name",
         "rawType": "object",
         "type": "string"
        },
        {
         "name": "gender",
         "rawType": "object",
         "type": "unknown"
        },
        {
         "name": "age",
         "rawType": "float64",
         "type": "float"
        },
        {
         "name": "area",
         "rawType": "object",
         "type": "string"
        },
        {
         "name": "job",
         "rawType": "object",
         "type": "string"
        }
       ],
       "ref": "e31ac4ed-f854-4121-b4c0-7dfa22d61d6d",
       "rows": [
        [
         "0",
         "1700001",
         "李國發",
         "Male",
         "21.0",
         "新北市三重區",
         " 金融業 和房地產 "
        ],
        [
         "1",
         "1700002",
         "吳俊諺",
         null,
         "0.0",
         "臺北市文山區",
         " 金融業和房地產"
        ],
        [
         "2",
         "1700003",
         "蔡俊毅",
         null,
         "0.0",
         "臺北市文山區",
         "教育體育  文化"
        ],
        [
         "3",
         "1700004",
         "姚鈺迪",
         "Female",
         "34.0",
         "基隆市中正區",
         " 住宿 和 餐飲業"
        ],
        [
         "4",
         "1700004",
         "姚鈺迪",
         "Female",
         "34.0",
         "基隆市中正區",
         " 住宿和餐飲業"
        ]
       ],
       "shape": {
        "columns": 6,
        "rows": 5
       }
      },
      "text/html": [
       "<div>\n",
       "<style scoped>\n",
       "    .dataframe tbody tr th:only-of-type {\n",
       "        vertical-align: middle;\n",
       "    }\n",
       "\n",
       "    .dataframe tbody tr th {\n",
       "        vertical-align: top;\n",
       "    }\n",
       "\n",
       "    .dataframe thead th {\n",
       "        text-align: right;\n",
       "    }\n",
       "</style>\n",
       "<table border=\"1\" class=\"dataframe\">\n",
       "  <thead>\n",
       "    <tr style=\"text-align: right;\">\n",
       "      <th></th>\n",
       "      <th>id</th>\n",
       "      <th>name</th>\n",
       "      <th>gender</th>\n",
       "      <th>age</th>\n",
       "      <th>area</th>\n",
       "      <th>job</th>\n",
       "    </tr>\n",
       "  </thead>\n",
       "  <tbody>\n",
       "    <tr>\n",
       "      <th>0</th>\n",
       "      <td>1700001</td>\n",
       "      <td>李國發</td>\n",
       "      <td>Male</td>\n",
       "      <td>21.0</td>\n",
       "      <td>新北市三重區</td>\n",
       "      <td>金融業 和房地產</td>\n",
       "    </tr>\n",
       "    <tr>\n",
       "      <th>1</th>\n",
       "      <td>1700002</td>\n",
       "      <td>吳俊諺</td>\n",
       "      <td>NaN</td>\n",
       "      <td>0.0</td>\n",
       "      <td>臺北市文山區</td>\n",
       "      <td>金融業和房地產</td>\n",
       "    </tr>\n",
       "    <tr>\n",
       "      <th>2</th>\n",
       "      <td>1700003</td>\n",
       "      <td>蔡俊毅</td>\n",
       "      <td>NaN</td>\n",
       "      <td>0.0</td>\n",
       "      <td>臺北市文山區</td>\n",
       "      <td>教育體育  文化</td>\n",
       "    </tr>\n",
       "    <tr>\n",
       "      <th>3</th>\n",
       "      <td>1700004</td>\n",
       "      <td>姚鈺迪</td>\n",
       "      <td>Female</td>\n",
       "      <td>34.0</td>\n",
       "      <td>基隆市中正區</td>\n",
       "      <td>住宿 和 餐飲業</td>\n",
       "    </tr>\n",
       "    <tr>\n",
       "      <th>4</th>\n",
       "      <td>1700004</td>\n",
       "      <td>姚鈺迪</td>\n",
       "      <td>Female</td>\n",
       "      <td>34.0</td>\n",
       "      <td>基隆市中正區</td>\n",
       "      <td>住宿和餐飲業</td>\n",
       "    </tr>\n",
       "  </tbody>\n",
       "</table>\n",
       "</div>"
      ],
      "text/plain": [
       "        id name  gender   age    area         job\n",
       "0  1700001  李國發    Male  21.0  新北市三重區   金融業 和房地產 \n",
       "1  1700002  吳俊諺     NaN   0.0  臺北市文山區     金融業和房地產\n",
       "2  1700003  蔡俊毅     NaN   0.0  臺北市文山區    教育體育  文化\n",
       "3  1700004  姚鈺迪  Female  34.0  基隆市中正區    住宿 和 餐飲業\n",
       "4  1700004  姚鈺迪  Female  34.0  基隆市中正區      住宿和餐飲業"
      ]
     },
     "execution_count": 97,
     "metadata": {},
     "output_type": "execute_result"
    }
   ],
   "source": [
    "# 將age的空值填入0\n",
    "df_sample = df.copy()\n",
    "df_sample['age'] = df_sample['age'].fillna(value=0)\n",
    "df_sample.head()"
   ]
  },
  {
   "cell_type": "code",
   "execution_count": 98,
   "metadata": {
    "colab": {
     "base_uri": "https://localhost:8080/",
     "height": 206
    },
    "executionInfo": {
     "elapsed": 312,
     "status": "ok",
     "timestamp": 1730274677579,
     "user": {
      "displayName": "林志偉",
      "userId": "13117312472561068650"
     },
     "user_tz": -480
    },
    "id": "wog-51Valecx",
    "outputId": "ce599fff-8168-4c1f-e609-c50f35468c81"
   },
   "outputs": [
    {
     "data": {
      "application/vnd.microsoft.datawrangler.viewer.v0+json": {
       "columns": [
        {
         "name": "index",
         "rawType": "int64",
         "type": "integer"
        },
        {
         "name": "id",
         "rawType": "int64",
         "type": "integer"
        },
        {
         "name": "name",
         "rawType": "object",
         "type": "string"
        },
        {
         "name": "gender",
         "rawType": "object",
         "type": "unknown"
        },
        {
         "name": "age",
         "rawType": "float64",
         "type": "float"
        },
        {
         "name": "area",
         "rawType": "object",
         "type": "string"
        },
        {
         "name": "job",
         "rawType": "object",
         "type": "string"
        }
       ],
       "ref": "c01cbd40-249d-49c9-a96a-6d87d0548c83",
       "rows": [
        [
         "0",
         "1700001",
         "李國發",
         "Male",
         "21.0",
         "新北市三重區",
         " 金融業 和房地產 "
        ],
        [
         "1",
         "1700002",
         "吳俊諺",
         null,
         "45.0",
         "臺北市文山區",
         " 金融業和房地產"
        ],
        [
         "2",
         "1700003",
         "蔡俊毅",
         null,
         "45.0",
         "臺北市文山區",
         "教育體育  文化"
        ],
        [
         "3",
         "1700004",
         "姚鈺迪",
         "Female",
         "34.0",
         "基隆市中正區",
         " 住宿 和 餐飲業"
        ],
        [
         "4",
         "1700004",
         "姚鈺迪",
         "Female",
         "34.0",
         "基隆市中正區",
         " 住宿和餐飲業"
        ]
       ],
       "shape": {
        "columns": 6,
        "rows": 5
       }
      },
      "text/html": [
       "<div>\n",
       "<style scoped>\n",
       "    .dataframe tbody tr th:only-of-type {\n",
       "        vertical-align: middle;\n",
       "    }\n",
       "\n",
       "    .dataframe tbody tr th {\n",
       "        vertical-align: top;\n",
       "    }\n",
       "\n",
       "    .dataframe thead th {\n",
       "        text-align: right;\n",
       "    }\n",
       "</style>\n",
       "<table border=\"1\" class=\"dataframe\">\n",
       "  <thead>\n",
       "    <tr style=\"text-align: right;\">\n",
       "      <th></th>\n",
       "      <th>id</th>\n",
       "      <th>name</th>\n",
       "      <th>gender</th>\n",
       "      <th>age</th>\n",
       "      <th>area</th>\n",
       "      <th>job</th>\n",
       "    </tr>\n",
       "  </thead>\n",
       "  <tbody>\n",
       "    <tr>\n",
       "      <th>0</th>\n",
       "      <td>1700001</td>\n",
       "      <td>李國發</td>\n",
       "      <td>Male</td>\n",
       "      <td>21.0</td>\n",
       "      <td>新北市三重區</td>\n",
       "      <td>金融業 和房地產</td>\n",
       "    </tr>\n",
       "    <tr>\n",
       "      <th>1</th>\n",
       "      <td>1700002</td>\n",
       "      <td>吳俊諺</td>\n",
       "      <td>NaN</td>\n",
       "      <td>45.0</td>\n",
       "      <td>臺北市文山區</td>\n",
       "      <td>金融業和房地產</td>\n",
       "    </tr>\n",
       "    <tr>\n",
       "      <th>2</th>\n",
       "      <td>1700003</td>\n",
       "      <td>蔡俊毅</td>\n",
       "      <td>NaN</td>\n",
       "      <td>45.0</td>\n",
       "      <td>臺北市文山區</td>\n",
       "      <td>教育體育  文化</td>\n",
       "    </tr>\n",
       "    <tr>\n",
       "      <th>3</th>\n",
       "      <td>1700004</td>\n",
       "      <td>姚鈺迪</td>\n",
       "      <td>Female</td>\n",
       "      <td>34.0</td>\n",
       "      <td>基隆市中正區</td>\n",
       "      <td>住宿 和 餐飲業</td>\n",
       "    </tr>\n",
       "    <tr>\n",
       "      <th>4</th>\n",
       "      <td>1700004</td>\n",
       "      <td>姚鈺迪</td>\n",
       "      <td>Female</td>\n",
       "      <td>34.0</td>\n",
       "      <td>基隆市中正區</td>\n",
       "      <td>住宿和餐飲業</td>\n",
       "    </tr>\n",
       "  </tbody>\n",
       "</table>\n",
       "</div>"
      ],
      "text/plain": [
       "        id name  gender   age    area         job\n",
       "0  1700001  李國發    Male  21.0  新北市三重區   金融業 和房地產 \n",
       "1  1700002  吳俊諺     NaN  45.0  臺北市文山區     金融業和房地產\n",
       "2  1700003  蔡俊毅     NaN  45.0  臺北市文山區    教育體育  文化\n",
       "3  1700004  姚鈺迪  Female  34.0  基隆市中正區    住宿 和 餐飲業\n",
       "4  1700004  姚鈺迪  Female  34.0  基隆市中正區      住宿和餐飲業"
      ]
     },
     "execution_count": 98,
     "metadata": {},
     "output_type": "execute_result"
    }
   ],
   "source": [
    "# 將age的空值填入平均值\n",
    "df_sample = df.copy()\n",
    "df_sample['age'] = df_sample['age'].fillna(\n",
    "                    value=df_sample['age'].mean())\n",
    "df_sample.head()"
   ]
  },
  {
   "cell_type": "code",
   "execution_count": 99,
   "metadata": {
    "colab": {
     "base_uri": "https://localhost:8080/",
     "height": 454
    },
    "executionInfo": {
     "elapsed": 315,
     "status": "ok",
     "timestamp": 1730274771463,
     "user": {
      "displayName": "林志偉",
      "userId": "13117312472561068650"
     },
     "user_tz": -480
    },
    "id": "VIxvb84WmxBp",
    "outputId": "42da70bc-710a-4226-c88a-7f8c3708c6d6"
   },
   "outputs": [
    {
     "name": "stderr",
     "output_type": "stream",
     "text": [
      "/var/folders/bg/gh3cf23s4w97s3sbk0rc8jjc0000gn/T/ipykernel_46071/883580443.py:2: FutureWarning: Series.fillna with 'method' is deprecated and will raise in a future version. Use obj.ffill() or obj.bfill() instead.\n",
      "  df_sample['gender'] = df_sample['gender'].fillna(method='ffill')\n",
      "/var/folders/bg/gh3cf23s4w97s3sbk0rc8jjc0000gn/T/ipykernel_46071/883580443.py:3: FutureWarning: Series.fillna with 'method' is deprecated and will raise in a future version. Use obj.ffill() or obj.bfill() instead.\n",
      "  df_sample['area'] = df_sample['area'].fillna(method='ffill')\n"
     ]
    },
    {
     "data": {
      "application/vnd.microsoft.datawrangler.viewer.v0+json": {
       "columns": [
        {
         "name": "index",
         "rawType": "int64",
         "type": "integer"
        },
        {
         "name": "id",
         "rawType": "int64",
         "type": "integer"
        },
        {
         "name": "name",
         "rawType": "object",
         "type": "string"
        },
        {
         "name": "gender",
         "rawType": "object",
         "type": "string"
        },
        {
         "name": "age",
         "rawType": "float64",
         "type": "float"
        },
        {
         "name": "area",
         "rawType": "object",
         "type": "string"
        },
        {
         "name": "job",
         "rawType": "object",
         "type": "string"
        }
       ],
       "ref": "15f1859b-fab9-4c62-a6bc-341f7077ebe0",
       "rows": [
        [
         "0",
         "1700001",
         "李國發",
         "Male",
         "21.0",
         "新北市三重區",
         " 金融業 和房地產 "
        ],
        [
         "1",
         "1700002",
         "吳俊諺",
         "Male",
         "45.0",
         "臺北市文山區",
         " 金融業和房地產"
        ],
        [
         "2",
         "1700003",
         "蔡俊毅",
         "Male",
         "45.0",
         "臺北市文山區",
         "教育體育  文化"
        ],
        [
         "3",
         "1700004",
         "姚鈺迪",
         "Female",
         "34.0",
         "基隆市中正區",
         " 住宿 和 餐飲業"
        ],
        [
         "4",
         "1700004",
         "姚鈺迪",
         "Female",
         "34.0",
         "基隆市中正區",
         " 住宿和餐飲業"
        ],
        [
         "5",
         "1700005",
         "袁劭彥",
         "Male",
         "42.0",
         "臺北市文山區",
         " 金融業和房地產"
        ],
        [
         "6",
         "1700006",
         "蔡登意",
         "Male",
         "45.0",
         "臺北市文山區",
         " 金融業和房地產"
        ],
        [
         "7",
         "1700007",
         "吳景翔",
         "Male",
         "39.0",
         "臺北市文山區",
         "農林牧漁業"
        ],
        [
         "8",
         "1700008",
         "邱孝信",
         "Male",
         "39.0",
         "臺北市文山區",
         "金融業和房地產"
        ],
        [
         "9",
         "1700009",
         "陳明輝",
         "Male",
         "57.0",
         "基隆市中正區",
         "金融業和房地產"
        ]
       ],
       "shape": {
        "columns": 6,
        "rows": 10
       }
      },
      "text/html": [
       "<div>\n",
       "<style scoped>\n",
       "    .dataframe tbody tr th:only-of-type {\n",
       "        vertical-align: middle;\n",
       "    }\n",
       "\n",
       "    .dataframe tbody tr th {\n",
       "        vertical-align: top;\n",
       "    }\n",
       "\n",
       "    .dataframe thead th {\n",
       "        text-align: right;\n",
       "    }\n",
       "</style>\n",
       "<table border=\"1\" class=\"dataframe\">\n",
       "  <thead>\n",
       "    <tr style=\"text-align: right;\">\n",
       "      <th></th>\n",
       "      <th>id</th>\n",
       "      <th>name</th>\n",
       "      <th>gender</th>\n",
       "      <th>age</th>\n",
       "      <th>area</th>\n",
       "      <th>job</th>\n",
       "    </tr>\n",
       "  </thead>\n",
       "  <tbody>\n",
       "    <tr>\n",
       "      <th>0</th>\n",
       "      <td>1700001</td>\n",
       "      <td>李國發</td>\n",
       "      <td>Male</td>\n",
       "      <td>21.0</td>\n",
       "      <td>新北市三重區</td>\n",
       "      <td>金融業 和房地產</td>\n",
       "    </tr>\n",
       "    <tr>\n",
       "      <th>1</th>\n",
       "      <td>1700002</td>\n",
       "      <td>吳俊諺</td>\n",
       "      <td>Male</td>\n",
       "      <td>45.0</td>\n",
       "      <td>臺北市文山區</td>\n",
       "      <td>金融業和房地產</td>\n",
       "    </tr>\n",
       "    <tr>\n",
       "      <th>2</th>\n",
       "      <td>1700003</td>\n",
       "      <td>蔡俊毅</td>\n",
       "      <td>Male</td>\n",
       "      <td>45.0</td>\n",
       "      <td>臺北市文山區</td>\n",
       "      <td>教育體育  文化</td>\n",
       "    </tr>\n",
       "    <tr>\n",
       "      <th>3</th>\n",
       "      <td>1700004</td>\n",
       "      <td>姚鈺迪</td>\n",
       "      <td>Female</td>\n",
       "      <td>34.0</td>\n",
       "      <td>基隆市中正區</td>\n",
       "      <td>住宿 和 餐飲業</td>\n",
       "    </tr>\n",
       "    <tr>\n",
       "      <th>4</th>\n",
       "      <td>1700004</td>\n",
       "      <td>姚鈺迪</td>\n",
       "      <td>Female</td>\n",
       "      <td>34.0</td>\n",
       "      <td>基隆市中正區</td>\n",
       "      <td>住宿和餐飲業</td>\n",
       "    </tr>\n",
       "    <tr>\n",
       "      <th>5</th>\n",
       "      <td>1700005</td>\n",
       "      <td>袁劭彥</td>\n",
       "      <td>Male</td>\n",
       "      <td>42.0</td>\n",
       "      <td>臺北市文山區</td>\n",
       "      <td>金融業和房地產</td>\n",
       "    </tr>\n",
       "    <tr>\n",
       "      <th>6</th>\n",
       "      <td>1700006</td>\n",
       "      <td>蔡登意</td>\n",
       "      <td>Male</td>\n",
       "      <td>45.0</td>\n",
       "      <td>臺北市文山區</td>\n",
       "      <td>金融業和房地產</td>\n",
       "    </tr>\n",
       "    <tr>\n",
       "      <th>7</th>\n",
       "      <td>1700007</td>\n",
       "      <td>吳景翔</td>\n",
       "      <td>Male</td>\n",
       "      <td>39.0</td>\n",
       "      <td>臺北市文山區</td>\n",
       "      <td>農林牧漁業</td>\n",
       "    </tr>\n",
       "    <tr>\n",
       "      <th>8</th>\n",
       "      <td>1700008</td>\n",
       "      <td>邱孝信</td>\n",
       "      <td>Male</td>\n",
       "      <td>39.0</td>\n",
       "      <td>臺北市文山區</td>\n",
       "      <td>金融業和房地產</td>\n",
       "    </tr>\n",
       "    <tr>\n",
       "      <th>9</th>\n",
       "      <td>1700009</td>\n",
       "      <td>陳明輝</td>\n",
       "      <td>Male</td>\n",
       "      <td>57.0</td>\n",
       "      <td>基隆市中正區</td>\n",
       "      <td>金融業和房地產</td>\n",
       "    </tr>\n",
       "  </tbody>\n",
       "</table>\n",
       "</div>"
      ],
      "text/plain": [
       "        id name  gender   age    area         job\n",
       "0  1700001  李國發    Male  21.0  新北市三重區   金融業 和房地產 \n",
       "1  1700002  吳俊諺    Male  45.0  臺北市文山區     金融業和房地產\n",
       "2  1700003  蔡俊毅    Male  45.0  臺北市文山區    教育體育  文化\n",
       "3  1700004  姚鈺迪  Female  34.0  基隆市中正區    住宿 和 餐飲業\n",
       "4  1700004  姚鈺迪  Female  34.0  基隆市中正區      住宿和餐飲業\n",
       "5  1700005  袁劭彥    Male  42.0  臺北市文山區     金融業和房地產\n",
       "6  1700006  蔡登意    Male  45.0  臺北市文山區     金融業和房地產\n",
       "7  1700007  吳景翔    Male  39.0  臺北市文山區       農林牧漁業\n",
       "8  1700008  邱孝信    Male  39.0  臺北市文山區     金融業和房地產\n",
       "9  1700009  陳明輝    Male  57.0  基隆市中正區     金融業和房地產"
      ]
     },
     "execution_count": 99,
     "metadata": {},
     "output_type": "execute_result"
    }
   ],
   "source": [
    "# 以前一個值往下填ffill或後一個值往上填bfill\n",
    "df_sample['gender'] = df_sample['gender'].fillna(method='ffill')\n",
    "df_sample['area'] = df_sample['area'].fillna(method='ffill')\n",
    "df_sample.head(10)"
   ]
  },
  {
   "cell_type": "code",
   "execution_count": null,
   "metadata": {
    "colab": {
     "base_uri": "https://localhost:8080/"
    },
    "executionInfo": {
     "elapsed": 305,
     "status": "ok",
     "timestamp": 1730274853326,
     "user": {
      "displayName": "林志偉",
      "userId": "13117312472561068650"
     },
     "user_tz": -480
    },
    "id": "zlvzJ7mem9jR",
    "outputId": "4af7f066-bf39-49d9-deca-13a33e0137c2"
   },
   "outputs": [],
   "source": [
    "# 刪除不完整的資料\n",
    "df_sample = df.copy()\n",
    "df_no_na= df_sample.dropna()\n",
    "df_no_na"
   ]
  },
  {
   "cell_type": "markdown",
   "metadata": {
    "id": "BNVuXNtmm9wh"
   },
   "source": [
    "## 去除重複資料"
   ]
  },
  {
   "cell_type": "code",
   "execution_count": 100,
   "metadata": {
    "colab": {
     "base_uri": "https://localhost:8080/",
     "height": 520
    },
    "executionInfo": {
     "elapsed": 363,
     "status": "ok",
     "timestamp": 1730274925284,
     "user": {
      "displayName": "林志偉",
      "userId": "13117312472561068650"
     },
     "user_tz": -480
    },
    "id": "trIpFjXnbAq3",
    "outputId": "736cbbc4-72e6-4b29-fa16-b1f2c6733a3c"
   },
   "outputs": [
    {
     "data": {
      "application/vnd.microsoft.datawrangler.viewer.v0+json": {
       "columns": [
        {
         "name": "index",
         "rawType": "int64",
         "type": "integer"
        },
        {
         "name": "id",
         "rawType": "int64",
         "type": "integer"
        },
        {
         "name": "name",
         "rawType": "object",
         "type": "string"
        },
        {
         "name": "gender",
         "rawType": "object",
         "type": "unknown"
        },
        {
         "name": "age",
         "rawType": "float64",
         "type": "float"
        },
        {
         "name": "area",
         "rawType": "object",
         "type": "unknown"
        },
        {
         "name": "job",
         "rawType": "object",
         "type": "string"
        }
       ],
       "ref": "3e04aca9-0c08-4dc8-a2b1-fa424f7eaee3",
       "rows": [
        [
         "0",
         "1700001",
         "李國發",
         "Male",
         "21.0",
         "新北市三重區",
         " 金融業 和房地產 "
        ],
        [
         "1",
         "1700002",
         "吳俊諺",
         null,
         null,
         "臺北市文山區",
         " 金融業和房地產"
        ],
        [
         "2",
         "1700003",
         "蔡俊毅",
         null,
         null,
         "臺北市文山區",
         "教育體育  文化"
        ],
        [
         "3",
         "1700004",
         "姚鈺迪",
         "Female",
         "34.0",
         "基隆市中正區",
         " 住宿 和 餐飲業"
        ],
        [
         "4",
         "1700004",
         "姚鈺迪",
         "Female",
         "34.0",
         "基隆市中正區",
         " 住宿和餐飲業"
        ],
        [
         "5",
         "1700005",
         "袁劭彥",
         "Male",
         "42.0",
         "臺北市文山區",
         " 金融業和房地產"
        ],
        [
         "6",
         "1700006",
         "蔡登意",
         null,
         null,
         null,
         " 金融業和房地產"
        ],
        [
         "7",
         "1700007",
         "吳景翔",
         null,
         "39.0",
         null,
         "農林牧漁業"
        ],
        [
         "8",
         "1700008",
         "邱孝信",
         null,
         "39.0",
         null,
         "金融業和房地產"
        ],
        [
         "9",
         "1700009",
         "陳明輝",
         null,
         "57.0",
         "基隆市中正區",
         "金融業和房地產"
        ],
        [
         "10",
         "1700010",
         "彭郁翔",
         null,
         "55.0",
         "基隆市中正區",
         "住宿和餐飲業"
        ],
        [
         "11",
         "1700011",
         "許合蓉",
         "Female",
         "61.0",
         "新北市三重區",
         "住宿和餐飲業"
        ],
        [
         "12",
         "1700012",
         "武家豪",
         "Male",
         "53.0",
         "新北市三重區",
         "農林牧漁業"
        ],
        [
         "13",
         "1700013",
         "郭信邦",
         null,
         "48.0",
         "新北市三重區",
         "教育體育文化"
        ],
        [
         "14",
         "1700014",
         "周聿綠",
         "Female",
         "57.0",
         "基隆市中正區",
         "金融業和房地產"
        ]
       ],
       "shape": {
        "columns": 6,
        "rows": 15
       }
      },
      "text/html": [
       "<div>\n",
       "<style scoped>\n",
       "    .dataframe tbody tr th:only-of-type {\n",
       "        vertical-align: middle;\n",
       "    }\n",
       "\n",
       "    .dataframe tbody tr th {\n",
       "        vertical-align: top;\n",
       "    }\n",
       "\n",
       "    .dataframe thead th {\n",
       "        text-align: right;\n",
       "    }\n",
       "</style>\n",
       "<table border=\"1\" class=\"dataframe\">\n",
       "  <thead>\n",
       "    <tr style=\"text-align: right;\">\n",
       "      <th></th>\n",
       "      <th>id</th>\n",
       "      <th>name</th>\n",
       "      <th>gender</th>\n",
       "      <th>age</th>\n",
       "      <th>area</th>\n",
       "      <th>job</th>\n",
       "    </tr>\n",
       "  </thead>\n",
       "  <tbody>\n",
       "    <tr>\n",
       "      <th>0</th>\n",
       "      <td>1700001</td>\n",
       "      <td>李國發</td>\n",
       "      <td>Male</td>\n",
       "      <td>21.0</td>\n",
       "      <td>新北市三重區</td>\n",
       "      <td>金融業 和房地產</td>\n",
       "    </tr>\n",
       "    <tr>\n",
       "      <th>1</th>\n",
       "      <td>1700002</td>\n",
       "      <td>吳俊諺</td>\n",
       "      <td>NaN</td>\n",
       "      <td>NaN</td>\n",
       "      <td>臺北市文山區</td>\n",
       "      <td>金融業和房地產</td>\n",
       "    </tr>\n",
       "    <tr>\n",
       "      <th>2</th>\n",
       "      <td>1700003</td>\n",
       "      <td>蔡俊毅</td>\n",
       "      <td>NaN</td>\n",
       "      <td>NaN</td>\n",
       "      <td>臺北市文山區</td>\n",
       "      <td>教育體育  文化</td>\n",
       "    </tr>\n",
       "    <tr>\n",
       "      <th>3</th>\n",
       "      <td>1700004</td>\n",
       "      <td>姚鈺迪</td>\n",
       "      <td>Female</td>\n",
       "      <td>34.0</td>\n",
       "      <td>基隆市中正區</td>\n",
       "      <td>住宿 和 餐飲業</td>\n",
       "    </tr>\n",
       "    <tr>\n",
       "      <th>4</th>\n",
       "      <td>1700004</td>\n",
       "      <td>姚鈺迪</td>\n",
       "      <td>Female</td>\n",
       "      <td>34.0</td>\n",
       "      <td>基隆市中正區</td>\n",
       "      <td>住宿和餐飲業</td>\n",
       "    </tr>\n",
       "    <tr>\n",
       "      <th>5</th>\n",
       "      <td>1700005</td>\n",
       "      <td>袁劭彥</td>\n",
       "      <td>Male</td>\n",
       "      <td>42.0</td>\n",
       "      <td>臺北市文山區</td>\n",
       "      <td>金融業和房地產</td>\n",
       "    </tr>\n",
       "    <tr>\n",
       "      <th>6</th>\n",
       "      <td>1700006</td>\n",
       "      <td>蔡登意</td>\n",
       "      <td>NaN</td>\n",
       "      <td>NaN</td>\n",
       "      <td>NaN</td>\n",
       "      <td>金融業和房地產</td>\n",
       "    </tr>\n",
       "    <tr>\n",
       "      <th>7</th>\n",
       "      <td>1700007</td>\n",
       "      <td>吳景翔</td>\n",
       "      <td>NaN</td>\n",
       "      <td>39.0</td>\n",
       "      <td>NaN</td>\n",
       "      <td>農林牧漁業</td>\n",
       "    </tr>\n",
       "    <tr>\n",
       "      <th>8</th>\n",
       "      <td>1700008</td>\n",
       "      <td>邱孝信</td>\n",
       "      <td>NaN</td>\n",
       "      <td>39.0</td>\n",
       "      <td>NaN</td>\n",
       "      <td>金融業和房地產</td>\n",
       "    </tr>\n",
       "    <tr>\n",
       "      <th>9</th>\n",
       "      <td>1700009</td>\n",
       "      <td>陳明輝</td>\n",
       "      <td>NaN</td>\n",
       "      <td>57.0</td>\n",
       "      <td>基隆市中正區</td>\n",
       "      <td>金融業和房地產</td>\n",
       "    </tr>\n",
       "    <tr>\n",
       "      <th>10</th>\n",
       "      <td>1700010</td>\n",
       "      <td>彭郁翔</td>\n",
       "      <td>NaN</td>\n",
       "      <td>55.0</td>\n",
       "      <td>基隆市中正區</td>\n",
       "      <td>住宿和餐飲業</td>\n",
       "    </tr>\n",
       "    <tr>\n",
       "      <th>11</th>\n",
       "      <td>1700011</td>\n",
       "      <td>許合蓉</td>\n",
       "      <td>Female</td>\n",
       "      <td>61.0</td>\n",
       "      <td>新北市三重區</td>\n",
       "      <td>住宿和餐飲業</td>\n",
       "    </tr>\n",
       "    <tr>\n",
       "      <th>12</th>\n",
       "      <td>1700012</td>\n",
       "      <td>武家豪</td>\n",
       "      <td>Male</td>\n",
       "      <td>53.0</td>\n",
       "      <td>新北市三重區</td>\n",
       "      <td>農林牧漁業</td>\n",
       "    </tr>\n",
       "    <tr>\n",
       "      <th>13</th>\n",
       "      <td>1700013</td>\n",
       "      <td>郭信邦</td>\n",
       "      <td>NaN</td>\n",
       "      <td>48.0</td>\n",
       "      <td>新北市三重區</td>\n",
       "      <td>教育體育文化</td>\n",
       "    </tr>\n",
       "    <tr>\n",
       "      <th>14</th>\n",
       "      <td>1700014</td>\n",
       "      <td>周聿綠</td>\n",
       "      <td>Female</td>\n",
       "      <td>57.0</td>\n",
       "      <td>基隆市中正區</td>\n",
       "      <td>金融業和房地產</td>\n",
       "    </tr>\n",
       "  </tbody>\n",
       "</table>\n",
       "</div>"
      ],
      "text/plain": [
       "         id name  gender   age    area         job\n",
       "0   1700001  李國發    Male  21.0  新北市三重區   金融業 和房地產 \n",
       "1   1700002  吳俊諺     NaN   NaN  臺北市文山區     金融業和房地產\n",
       "2   1700003  蔡俊毅     NaN   NaN  臺北市文山區    教育體育  文化\n",
       "3   1700004  姚鈺迪  Female  34.0  基隆市中正區    住宿 和 餐飲業\n",
       "4   1700004  姚鈺迪  Female  34.0  基隆市中正區      住宿和餐飲業\n",
       "5   1700005  袁劭彥    Male  42.0  臺北市文山區     金融業和房地產\n",
       "6   1700006  蔡登意     NaN   NaN     NaN     金融業和房地產\n",
       "7   1700007  吳景翔     NaN  39.0     NaN       農林牧漁業\n",
       "8   1700008  邱孝信     NaN  39.0     NaN     金融業和房地產\n",
       "9   1700009  陳明輝     NaN  57.0  基隆市中正區     金融業和房地產\n",
       "10  1700010  彭郁翔     NaN  55.0  基隆市中正區      住宿和餐飲業\n",
       "11  1700011  許合蓉  Female  61.0  新北市三重區      住宿和餐飲業\n",
       "12  1700012  武家豪    Male  53.0  新北市三重區       農林牧漁業\n",
       "13  1700013  郭信邦     NaN  48.0  新北市三重區      教育體育文化\n",
       "14  1700014  周聿綠  Female  57.0  基隆市中正區     金融業和房地產"
      ]
     },
     "execution_count": 100,
     "metadata": {},
     "output_type": "execute_result"
    }
   ],
   "source": [
    "df_sample = df.copy()\n",
    "df_sample"
   ]
  },
  {
   "cell_type": "code",
   "execution_count": 101,
   "metadata": {
    "colab": {
     "base_uri": "https://localhost:8080/",
     "height": 206
    },
    "executionInfo": {
     "elapsed": 329,
     "status": "ok",
     "timestamp": 1730275005437,
     "user": {
      "displayName": "林志偉",
      "userId": "13117312472561068650"
     },
     "user_tz": -480
    },
    "id": "Uf3aw8R5m93a",
    "outputId": "57578cc9-6910-4123-ad10-0f95ad9612ea"
   },
   "outputs": [
    {
     "data": {
      "application/vnd.microsoft.datawrangler.viewer.v0+json": {
       "columns": [
        {
         "name": "index",
         "rawType": "int64",
         "type": "integer"
        },
        {
         "name": "id",
         "rawType": "int64",
         "type": "integer"
        },
        {
         "name": "name",
         "rawType": "object",
         "type": "string"
        },
        {
         "name": "gender",
         "rawType": "object",
         "type": "unknown"
        },
        {
         "name": "age",
         "rawType": "float64",
         "type": "float"
        },
        {
         "name": "area",
         "rawType": "object",
         "type": "unknown"
        },
        {
         "name": "job",
         "rawType": "object",
         "type": "string"
        }
       ],
       "ref": "50705abc-4618-4d27-b85e-4be2b67da31c",
       "rows": [
        [
         "0",
         "1700001",
         "李國發",
         "Male",
         "21.0",
         "新北市三重區",
         " 金融業 和房地產 "
        ],
        [
         "1",
         "1700002",
         "吳俊諺",
         null,
         null,
         "臺北市文山區",
         " 金融業和房地產"
        ],
        [
         "2",
         "1700003",
         "蔡俊毅",
         null,
         null,
         "臺北市文山區",
         "教育體育  文化"
        ],
        [
         "3",
         "1700004",
         "姚鈺迪",
         "Female",
         "34.0",
         "基隆市中正區",
         " 住宿 和 餐飲業"
        ],
        [
         "5",
         "1700005",
         "袁劭彥",
         "Male",
         "42.0",
         "臺北市文山區",
         " 金融業和房地產"
        ],
        [
         "6",
         "1700006",
         "蔡登意",
         null,
         null,
         null,
         " 金融業和房地產"
        ],
        [
         "7",
         "1700007",
         "吳景翔",
         null,
         "39.0",
         null,
         "農林牧漁業"
        ],
        [
         "8",
         "1700008",
         "邱孝信",
         null,
         "39.0",
         null,
         "金融業和房地產"
        ],
        [
         "9",
         "1700009",
         "陳明輝",
         null,
         "57.0",
         "基隆市中正區",
         "金融業和房地產"
        ],
        [
         "10",
         "1700010",
         "彭郁翔",
         null,
         "55.0",
         "基隆市中正區",
         "住宿和餐飲業"
        ],
        [
         "11",
         "1700011",
         "許合蓉",
         "Female",
         "61.0",
         "新北市三重區",
         "住宿和餐飲業"
        ],
        [
         "12",
         "1700012",
         "武家豪",
         "Male",
         "53.0",
         "新北市三重區",
         "農林牧漁業"
        ],
        [
         "13",
         "1700013",
         "郭信邦",
         null,
         "48.0",
         "新北市三重區",
         "教育體育文化"
        ],
        [
         "14",
         "1700014",
         "周聿綠",
         "Female",
         "57.0",
         "基隆市中正區",
         "金融業和房地產"
        ]
       ],
       "shape": {
        "columns": 6,
        "rows": 14
       }
      },
      "text/html": [
       "<div>\n",
       "<style scoped>\n",
       "    .dataframe tbody tr th:only-of-type {\n",
       "        vertical-align: middle;\n",
       "    }\n",
       "\n",
       "    .dataframe tbody tr th {\n",
       "        vertical-align: top;\n",
       "    }\n",
       "\n",
       "    .dataframe thead th {\n",
       "        text-align: right;\n",
       "    }\n",
       "</style>\n",
       "<table border=\"1\" class=\"dataframe\">\n",
       "  <thead>\n",
       "    <tr style=\"text-align: right;\">\n",
       "      <th></th>\n",
       "      <th>id</th>\n",
       "      <th>name</th>\n",
       "      <th>gender</th>\n",
       "      <th>age</th>\n",
       "      <th>area</th>\n",
       "      <th>job</th>\n",
       "    </tr>\n",
       "  </thead>\n",
       "  <tbody>\n",
       "    <tr>\n",
       "      <th>0</th>\n",
       "      <td>1700001</td>\n",
       "      <td>李國發</td>\n",
       "      <td>Male</td>\n",
       "      <td>21.0</td>\n",
       "      <td>新北市三重區</td>\n",
       "      <td>金融業 和房地產</td>\n",
       "    </tr>\n",
       "    <tr>\n",
       "      <th>1</th>\n",
       "      <td>1700002</td>\n",
       "      <td>吳俊諺</td>\n",
       "      <td>NaN</td>\n",
       "      <td>NaN</td>\n",
       "      <td>臺北市文山區</td>\n",
       "      <td>金融業和房地產</td>\n",
       "    </tr>\n",
       "    <tr>\n",
       "      <th>2</th>\n",
       "      <td>1700003</td>\n",
       "      <td>蔡俊毅</td>\n",
       "      <td>NaN</td>\n",
       "      <td>NaN</td>\n",
       "      <td>臺北市文山區</td>\n",
       "      <td>教育體育  文化</td>\n",
       "    </tr>\n",
       "    <tr>\n",
       "      <th>3</th>\n",
       "      <td>1700004</td>\n",
       "      <td>姚鈺迪</td>\n",
       "      <td>Female</td>\n",
       "      <td>34.0</td>\n",
       "      <td>基隆市中正區</td>\n",
       "      <td>住宿 和 餐飲業</td>\n",
       "    </tr>\n",
       "    <tr>\n",
       "      <th>5</th>\n",
       "      <td>1700005</td>\n",
       "      <td>袁劭彥</td>\n",
       "      <td>Male</td>\n",
       "      <td>42.0</td>\n",
       "      <td>臺北市文山區</td>\n",
       "      <td>金融業和房地產</td>\n",
       "    </tr>\n",
       "    <tr>\n",
       "      <th>6</th>\n",
       "      <td>1700006</td>\n",
       "      <td>蔡登意</td>\n",
       "      <td>NaN</td>\n",
       "      <td>NaN</td>\n",
       "      <td>NaN</td>\n",
       "      <td>金融業和房地產</td>\n",
       "    </tr>\n",
       "    <tr>\n",
       "      <th>7</th>\n",
       "      <td>1700007</td>\n",
       "      <td>吳景翔</td>\n",
       "      <td>NaN</td>\n",
       "      <td>39.0</td>\n",
       "      <td>NaN</td>\n",
       "      <td>農林牧漁業</td>\n",
       "    </tr>\n",
       "    <tr>\n",
       "      <th>8</th>\n",
       "      <td>1700008</td>\n",
       "      <td>邱孝信</td>\n",
       "      <td>NaN</td>\n",
       "      <td>39.0</td>\n",
       "      <td>NaN</td>\n",
       "      <td>金融業和房地產</td>\n",
       "    </tr>\n",
       "    <tr>\n",
       "      <th>9</th>\n",
       "      <td>1700009</td>\n",
       "      <td>陳明輝</td>\n",
       "      <td>NaN</td>\n",
       "      <td>57.0</td>\n",
       "      <td>基隆市中正區</td>\n",
       "      <td>金融業和房地產</td>\n",
       "    </tr>\n",
       "    <tr>\n",
       "      <th>10</th>\n",
       "      <td>1700010</td>\n",
       "      <td>彭郁翔</td>\n",
       "      <td>NaN</td>\n",
       "      <td>55.0</td>\n",
       "      <td>基隆市中正區</td>\n",
       "      <td>住宿和餐飲業</td>\n",
       "    </tr>\n",
       "    <tr>\n",
       "      <th>11</th>\n",
       "      <td>1700011</td>\n",
       "      <td>許合蓉</td>\n",
       "      <td>Female</td>\n",
       "      <td>61.0</td>\n",
       "      <td>新北市三重區</td>\n",
       "      <td>住宿和餐飲業</td>\n",
       "    </tr>\n",
       "    <tr>\n",
       "      <th>12</th>\n",
       "      <td>1700012</td>\n",
       "      <td>武家豪</td>\n",
       "      <td>Male</td>\n",
       "      <td>53.0</td>\n",
       "      <td>新北市三重區</td>\n",
       "      <td>農林牧漁業</td>\n",
       "    </tr>\n",
       "    <tr>\n",
       "      <th>13</th>\n",
       "      <td>1700013</td>\n",
       "      <td>郭信邦</td>\n",
       "      <td>NaN</td>\n",
       "      <td>48.0</td>\n",
       "      <td>新北市三重區</td>\n",
       "      <td>教育體育文化</td>\n",
       "    </tr>\n",
       "    <tr>\n",
       "      <th>14</th>\n",
       "      <td>1700014</td>\n",
       "      <td>周聿綠</td>\n",
       "      <td>Female</td>\n",
       "      <td>57.0</td>\n",
       "      <td>基隆市中正區</td>\n",
       "      <td>金融業和房地產</td>\n",
       "    </tr>\n",
       "  </tbody>\n",
       "</table>\n",
       "</div>"
      ],
      "text/plain": [
       "         id name  gender   age    area         job\n",
       "0   1700001  李國發    Male  21.0  新北市三重區   金融業 和房地產 \n",
       "1   1700002  吳俊諺     NaN   NaN  臺北市文山區     金融業和房地產\n",
       "2   1700003  蔡俊毅     NaN   NaN  臺北市文山區    教育體育  文化\n",
       "3   1700004  姚鈺迪  Female  34.0  基隆市中正區    住宿 和 餐飲業\n",
       "5   1700005  袁劭彥    Male  42.0  臺北市文山區     金融業和房地產\n",
       "6   1700006  蔡登意     NaN   NaN     NaN     金融業和房地產\n",
       "7   1700007  吳景翔     NaN  39.0     NaN       農林牧漁業\n",
       "8   1700008  邱孝信     NaN  39.0     NaN     金融業和房地產\n",
       "9   1700009  陳明輝     NaN  57.0  基隆市中正區     金融業和房地產\n",
       "10  1700010  彭郁翔     NaN  55.0  基隆市中正區      住宿和餐飲業\n",
       "11  1700011  許合蓉  Female  61.0  新北市三重區      住宿和餐飲業\n",
       "12  1700012  武家豪    Male  53.0  新北市三重區       農林牧漁業\n",
       "13  1700013  郭信邦     NaN  48.0  新北市三重區      教育體育文化\n",
       "14  1700014  周聿綠  Female  57.0  基隆市中正區     金融業和房地產"
      ]
     },
     "execution_count": 101,
     "metadata": {},
     "output_type": "execute_result"
    }
   ],
   "source": [
    "# 去除重複的記錄\n",
    "df_sample.drop_duplicates(subset='id', keep='first', inplace=True)\n",
    "df_sample"
   ]
  },
  {
   "cell_type": "markdown",
   "metadata": {
    "id": "1eafKVcPnT5q"
   },
   "source": [
    "## 資料內容的置換"
   ]
  },
  {
   "cell_type": "markdown",
   "metadata": {
    "id": "mUbOBYHVbsNP"
   },
   "source": [
    "整數字面值\n",
    "浮點數字面值"
   ]
  },
  {
   "cell_type": "code",
   "execution_count": 102,
   "metadata": {
    "colab": {
     "base_uri": "https://localhost:8080/",
     "height": 206
    },
    "executionInfo": {
     "elapsed": 320,
     "status": "ok",
     "timestamp": 1730275203398,
     "user": {
      "displayName": "林志偉",
      "userId": "13117312472561068650"
     },
     "user_tz": -480
    },
    "id": "3qi6aE0XnUB7",
    "outputId": "1d427da5-bdd3-4361-f2f3-cdc61a46bc2f"
   },
   "outputs": [
    {
     "data": {
      "application/vnd.microsoft.datawrangler.viewer.v0+json": {
       "columns": [
        {
         "name": "index",
         "rawType": "int64",
         "type": "integer"
        },
        {
         "name": "id",
         "rawType": "int64",
         "type": "integer"
        },
        {
         "name": "name",
         "rawType": "object",
         "type": "string"
        },
        {
         "name": "gender",
         "rawType": "object",
         "type": "unknown"
        },
        {
         "name": "age",
         "rawType": "float64",
         "type": "float"
        },
        {
         "name": "area",
         "rawType": "object",
         "type": "unknown"
        },
        {
         "name": "job",
         "rawType": "object",
         "type": "string"
        }
       ],
       "ref": "0f4e091f-af0d-4acf-9175-ca4145ef5536",
       "rows": [
        [
         "0",
         "1700001",
         "李國發",
         "Male",
         "21.0",
         "新北市三重區",
         "金融業和房地產"
        ],
        [
         "1",
         "1700002",
         "吳俊諺",
         null,
         null,
         "臺北市文山區",
         "金融業和房地產"
        ],
        [
         "2",
         "1700003",
         "蔡俊毅",
         null,
         null,
         "臺北市文山區",
         "教育體育文化"
        ],
        [
         "3",
         "1700004",
         "姚鈺迪",
         "Female",
         "34.0",
         "基隆市中正區",
         "住宿和餐飲業"
        ],
        [
         "4",
         "1700004",
         "姚鈺迪",
         "Female",
         "34.0",
         "基隆市中正區",
         "住宿和餐飲業"
        ],
        [
         "5",
         "1700005",
         "袁劭彥",
         "Male",
         "42.0",
         "臺北市文山區",
         "金融業和房地產"
        ],
        [
         "6",
         "1700006",
         "蔡登意",
         null,
         null,
         null,
         "金融業和房地產"
        ],
        [
         "7",
         "1700007",
         "吳景翔",
         null,
         "39.0",
         null,
         "農林牧漁業"
        ],
        [
         "8",
         "1700008",
         "邱孝信",
         null,
         "39.0",
         null,
         "金融業和房地產"
        ],
        [
         "9",
         "1700009",
         "陳明輝",
         null,
         "57.0",
         "基隆市中正區",
         "金融業和房地產"
        ],
        [
         "10",
         "1700010",
         "彭郁翔",
         null,
         "55.0",
         "基隆市中正區",
         "住宿和餐飲業"
        ],
        [
         "11",
         "1700011",
         "許合蓉",
         "Female",
         "61.0",
         "新北市三重區",
         "住宿和餐飲業"
        ],
        [
         "12",
         "1700012",
         "武家豪",
         "Male",
         "53.0",
         "新北市三重區",
         "農林牧漁業"
        ],
        [
         "13",
         "1700013",
         "郭信邦",
         null,
         "48.0",
         "新北市三重區",
         "教育體育文化"
        ],
        [
         "14",
         "1700014",
         "周聿綠",
         "Female",
         "57.0",
         "基隆市中正區",
         "金融業和房地產"
        ]
       ],
       "shape": {
        "columns": 6,
        "rows": 15
       }
      },
      "text/html": [
       "<div>\n",
       "<style scoped>\n",
       "    .dataframe tbody tr th:only-of-type {\n",
       "        vertical-align: middle;\n",
       "    }\n",
       "\n",
       "    .dataframe tbody tr th {\n",
       "        vertical-align: top;\n",
       "    }\n",
       "\n",
       "    .dataframe thead th {\n",
       "        text-align: right;\n",
       "    }\n",
       "</style>\n",
       "<table border=\"1\" class=\"dataframe\">\n",
       "  <thead>\n",
       "    <tr style=\"text-align: right;\">\n",
       "      <th></th>\n",
       "      <th>id</th>\n",
       "      <th>name</th>\n",
       "      <th>gender</th>\n",
       "      <th>age</th>\n",
       "      <th>area</th>\n",
       "      <th>job</th>\n",
       "    </tr>\n",
       "  </thead>\n",
       "  <tbody>\n",
       "    <tr>\n",
       "      <th>0</th>\n",
       "      <td>1700001</td>\n",
       "      <td>李國發</td>\n",
       "      <td>Male</td>\n",
       "      <td>21.0</td>\n",
       "      <td>新北市三重區</td>\n",
       "      <td>金融業和房地產</td>\n",
       "    </tr>\n",
       "    <tr>\n",
       "      <th>1</th>\n",
       "      <td>1700002</td>\n",
       "      <td>吳俊諺</td>\n",
       "      <td>NaN</td>\n",
       "      <td>NaN</td>\n",
       "      <td>臺北市文山區</td>\n",
       "      <td>金融業和房地產</td>\n",
       "    </tr>\n",
       "    <tr>\n",
       "      <th>2</th>\n",
       "      <td>1700003</td>\n",
       "      <td>蔡俊毅</td>\n",
       "      <td>NaN</td>\n",
       "      <td>NaN</td>\n",
       "      <td>臺北市文山區</td>\n",
       "      <td>教育體育文化</td>\n",
       "    </tr>\n",
       "    <tr>\n",
       "      <th>3</th>\n",
       "      <td>1700004</td>\n",
       "      <td>姚鈺迪</td>\n",
       "      <td>Female</td>\n",
       "      <td>34.0</td>\n",
       "      <td>基隆市中正區</td>\n",
       "      <td>住宿和餐飲業</td>\n",
       "    </tr>\n",
       "    <tr>\n",
       "      <th>4</th>\n",
       "      <td>1700004</td>\n",
       "      <td>姚鈺迪</td>\n",
       "      <td>Female</td>\n",
       "      <td>34.0</td>\n",
       "      <td>基隆市中正區</td>\n",
       "      <td>住宿和餐飲業</td>\n",
       "    </tr>\n",
       "    <tr>\n",
       "      <th>5</th>\n",
       "      <td>1700005</td>\n",
       "      <td>袁劭彥</td>\n",
       "      <td>Male</td>\n",
       "      <td>42.0</td>\n",
       "      <td>臺北市文山區</td>\n",
       "      <td>金融業和房地產</td>\n",
       "    </tr>\n",
       "    <tr>\n",
       "      <th>6</th>\n",
       "      <td>1700006</td>\n",
       "      <td>蔡登意</td>\n",
       "      <td>NaN</td>\n",
       "      <td>NaN</td>\n",
       "      <td>NaN</td>\n",
       "      <td>金融業和房地產</td>\n",
       "    </tr>\n",
       "    <tr>\n",
       "      <th>7</th>\n",
       "      <td>1700007</td>\n",
       "      <td>吳景翔</td>\n",
       "      <td>NaN</td>\n",
       "      <td>39.0</td>\n",
       "      <td>NaN</td>\n",
       "      <td>農林牧漁業</td>\n",
       "    </tr>\n",
       "    <tr>\n",
       "      <th>8</th>\n",
       "      <td>1700008</td>\n",
       "      <td>邱孝信</td>\n",
       "      <td>NaN</td>\n",
       "      <td>39.0</td>\n",
       "      <td>NaN</td>\n",
       "      <td>金融業和房地產</td>\n",
       "    </tr>\n",
       "    <tr>\n",
       "      <th>9</th>\n",
       "      <td>1700009</td>\n",
       "      <td>陳明輝</td>\n",
       "      <td>NaN</td>\n",
       "      <td>57.0</td>\n",
       "      <td>基隆市中正區</td>\n",
       "      <td>金融業和房地產</td>\n",
       "    </tr>\n",
       "    <tr>\n",
       "      <th>10</th>\n",
       "      <td>1700010</td>\n",
       "      <td>彭郁翔</td>\n",
       "      <td>NaN</td>\n",
       "      <td>55.0</td>\n",
       "      <td>基隆市中正區</td>\n",
       "      <td>住宿和餐飲業</td>\n",
       "    </tr>\n",
       "    <tr>\n",
       "      <th>11</th>\n",
       "      <td>1700011</td>\n",
       "      <td>許合蓉</td>\n",
       "      <td>Female</td>\n",
       "      <td>61.0</td>\n",
       "      <td>新北市三重區</td>\n",
       "      <td>住宿和餐飲業</td>\n",
       "    </tr>\n",
       "    <tr>\n",
       "      <th>12</th>\n",
       "      <td>1700012</td>\n",
       "      <td>武家豪</td>\n",
       "      <td>Male</td>\n",
       "      <td>53.0</td>\n",
       "      <td>新北市三重區</td>\n",
       "      <td>農林牧漁業</td>\n",
       "    </tr>\n",
       "    <tr>\n",
       "      <th>13</th>\n",
       "      <td>1700013</td>\n",
       "      <td>郭信邦</td>\n",
       "      <td>NaN</td>\n",
       "      <td>48.0</td>\n",
       "      <td>新北市三重區</td>\n",
       "      <td>教育體育文化</td>\n",
       "    </tr>\n",
       "    <tr>\n",
       "      <th>14</th>\n",
       "      <td>1700014</td>\n",
       "      <td>周聿綠</td>\n",
       "      <td>Female</td>\n",
       "      <td>57.0</td>\n",
       "      <td>基隆市中正區</td>\n",
       "      <td>金融業和房地產</td>\n",
       "    </tr>\n",
       "  </tbody>\n",
       "</table>\n",
       "</div>"
      ],
      "text/plain": [
       "         id name  gender   age    area      job\n",
       "0   1700001  李國發    Male  21.0  新北市三重區  金融業和房地產\n",
       "1   1700002  吳俊諺     NaN   NaN  臺北市文山區  金融業和房地產\n",
       "2   1700003  蔡俊毅     NaN   NaN  臺北市文山區   教育體育文化\n",
       "3   1700004  姚鈺迪  Female  34.0  基隆市中正區   住宿和餐飲業\n",
       "4   1700004  姚鈺迪  Female  34.0  基隆市中正區   住宿和餐飲業\n",
       "5   1700005  袁劭彥    Male  42.0  臺北市文山區  金融業和房地產\n",
       "6   1700006  蔡登意     NaN   NaN     NaN  金融業和房地產\n",
       "7   1700007  吳景翔     NaN  39.0     NaN    農林牧漁業\n",
       "8   1700008  邱孝信     NaN  39.0     NaN  金融業和房地產\n",
       "9   1700009  陳明輝     NaN  57.0  基隆市中正區  金融業和房地產\n",
       "10  1700010  彭郁翔     NaN  55.0  基隆市中正區   住宿和餐飲業\n",
       "11  1700011  許合蓉  Female  61.0  新北市三重區   住宿和餐飲業\n",
       "12  1700012  武家豪    Male  53.0  新北市三重區    農林牧漁業\n",
       "13  1700013  郭信邦     NaN  48.0  新北市三重區   教育體育文化\n",
       "14  1700014  周聿綠  Female  57.0  基隆市中正區  金融業和房地產"
      ]
     },
     "execution_count": 102,
     "metadata": {},
     "output_type": "execute_result"
    }
   ],
   "source": [
    "# 去除欄位中的空白\n",
    "df_sample = df.copy()\n",
    "df_sample['job'] = df_sample['job'].str.strip()\n",
    "df_sample['job'] = df_sample['job'].str.replace(' ', '')\n",
    "df_sample"
   ]
  },
  {
   "cell_type": "markdown",
   "metadata": {
    "id": "FjbG0tUqndFx"
   },
   "source": [
    "## 調整資料的格式"
   ]
  },
  {
   "cell_type": "code",
   "execution_count": null,
   "metadata": {
    "colab": {
     "base_uri": "https://localhost:8080/"
    },
    "executionInfo": {
     "elapsed": 337,
     "status": "ok",
     "timestamp": 1730275266030,
     "user": {
      "displayName": "林志偉",
      "userId": "13117312472561068650"
     },
     "user_tz": -480
    },
    "id": "E9ppTFdBndOp",
    "outputId": "2ba32614-2826-47da-c028-aed91389dd33"
   },
   "outputs": [],
   "source": [
    "# 轉換值的格式\n",
    "df_sample = df.copy()\n",
    "print(df_sample.info())\n",
    "df_sample['age'] = df_sample['age'].fillna(value=0)\n",
    "df_sample['age'] = df_sample['age'].astype('int8')\n",
    "print(df_sample.info())"
   ]
  },
  {
   "cell_type": "markdown",
   "metadata": {
    "id": "nnxMQ8Y82x9A"
   },
   "source": [
    "# 資料篩選"
   ]
  },
  {
   "cell_type": "code",
   "execution_count": 103,
   "metadata": {
    "colab": {
     "base_uri": "https://localhost:8080/",
     "height": 143
    },
    "executionInfo": {
     "elapsed": 314,
     "status": "ok",
     "timestamp": 1730275332948,
     "user": {
      "displayName": "林志偉",
      "userId": "13117312472561068650"
     },
     "user_tz": -480
    },
    "id": "3VTUhUbo2cGJ",
    "outputId": "55804606-8f93-4db4-ff90-3479425421a9"
   },
   "outputs": [
    {
     "data": {
      "application/vnd.microsoft.datawrangler.viewer.v0+json": {
       "columns": [
        {
         "name": "index",
         "rawType": "int64",
         "type": "integer"
        },
        {
         "name": "id",
         "rawType": "int64",
         "type": "integer"
        },
        {
         "name": "name",
         "rawType": "object",
         "type": "string"
        },
        {
         "name": "gender",
         "rawType": "object",
         "type": "string"
        },
        {
         "name": "age",
         "rawType": "float64",
         "type": "float"
        },
        {
         "name": "area",
         "rawType": "object",
         "type": "string"
        },
        {
         "name": "job",
         "rawType": "object",
         "type": "string"
        }
       ],
       "ref": "2d5fff7a-ca27-49f1-8571-aeec61f6a9d6",
       "rows": [
        [
         "3",
         "1700004",
         "姚鈺迪",
         "Female",
         "34.0",
         "基隆市中正區",
         " 住宿 和 餐飲業"
        ],
        [
         "4",
         "1700004",
         "姚鈺迪",
         "Female",
         "34.0",
         "基隆市中正區",
         " 住宿和餐飲業"
        ],
        [
         "11",
         "1700011",
         "許合蓉",
         "Female",
         "61.0",
         "新北市三重區",
         "住宿和餐飲業"
        ],
        [
         "14",
         "1700014",
         "周聿綠",
         "Female",
         "57.0",
         "基隆市中正區",
         "金融業和房地產"
        ]
       ],
       "shape": {
        "columns": 6,
        "rows": 4
       }
      },
      "text/html": [
       "<div>\n",
       "<style scoped>\n",
       "    .dataframe tbody tr th:only-of-type {\n",
       "        vertical-align: middle;\n",
       "    }\n",
       "\n",
       "    .dataframe tbody tr th {\n",
       "        vertical-align: top;\n",
       "    }\n",
       "\n",
       "    .dataframe thead th {\n",
       "        text-align: right;\n",
       "    }\n",
       "</style>\n",
       "<table border=\"1\" class=\"dataframe\">\n",
       "  <thead>\n",
       "    <tr style=\"text-align: right;\">\n",
       "      <th></th>\n",
       "      <th>id</th>\n",
       "      <th>name</th>\n",
       "      <th>gender</th>\n",
       "      <th>age</th>\n",
       "      <th>area</th>\n",
       "      <th>job</th>\n",
       "    </tr>\n",
       "  </thead>\n",
       "  <tbody>\n",
       "    <tr>\n",
       "      <th>3</th>\n",
       "      <td>1700004</td>\n",
       "      <td>姚鈺迪</td>\n",
       "      <td>Female</td>\n",
       "      <td>34.0</td>\n",
       "      <td>基隆市中正區</td>\n",
       "      <td>住宿 和 餐飲業</td>\n",
       "    </tr>\n",
       "    <tr>\n",
       "      <th>4</th>\n",
       "      <td>1700004</td>\n",
       "      <td>姚鈺迪</td>\n",
       "      <td>Female</td>\n",
       "      <td>34.0</td>\n",
       "      <td>基隆市中正區</td>\n",
       "      <td>住宿和餐飲業</td>\n",
       "    </tr>\n",
       "    <tr>\n",
       "      <th>11</th>\n",
       "      <td>1700011</td>\n",
       "      <td>許合蓉</td>\n",
       "      <td>Female</td>\n",
       "      <td>61.0</td>\n",
       "      <td>新北市三重區</td>\n",
       "      <td>住宿和餐飲業</td>\n",
       "    </tr>\n",
       "    <tr>\n",
       "      <th>14</th>\n",
       "      <td>1700014</td>\n",
       "      <td>周聿綠</td>\n",
       "      <td>Female</td>\n",
       "      <td>57.0</td>\n",
       "      <td>基隆市中正區</td>\n",
       "      <td>金融業和房地產</td>\n",
       "    </tr>\n",
       "  </tbody>\n",
       "</table>\n",
       "</div>"
      ],
      "text/plain": [
       "         id name  gender   age    area        job\n",
       "3   1700004  姚鈺迪  Female  34.0  基隆市中正區   住宿 和 餐飲業\n",
       "4   1700004  姚鈺迪  Female  34.0  基隆市中正區     住宿和餐飲業\n",
       "11  1700011  許合蓉  Female  61.0  新北市三重區     住宿和餐飲業\n",
       "14  1700014  周聿綠  Female  57.0  基隆市中正區    金融業和房地產"
      ]
     },
     "execution_count": 103,
     "metadata": {},
     "output_type": "execute_result"
    }
   ],
   "source": [
    "# 篩選女性的資料\n",
    "df_sample = df.copy()\n",
    "df_female = df_sample[(df_sample['gender'] == 'Female')]\n",
    "df_female"
   ]
  },
  {
   "cell_type": "code",
   "execution_count": 106,
   "metadata": {
    "colab": {
     "base_uri": "https://localhost:8080/"
    },
    "executionInfo": {
     "elapsed": 308,
     "status": "ok",
     "timestamp": 1730275487073,
     "user": {
      "displayName": "林志偉",
      "userId": "13117312472561068650"
     },
     "user_tz": -480
    },
    "id": "EO7olxpg2-Ww",
    "outputId": "3169dc42-9252-4948-a9f1-a444a432eb44"
   },
   "outputs": [
    {
     "name": "stdout",
     "output_type": "stream",
     "text": [
      "         id name  gender   age    area         job\n",
      "0   1700001  李國發    Male  21.0  新北市三重區   金融業 和房地產 \n",
      "3   1700004  姚鈺迪  Female  34.0  基隆市中正區    住宿 和 餐飲業\n",
      "4   1700004  姚鈺迪  Female  34.0  基隆市中正區      住宿和餐飲業\n",
      "9   1700009  陳明輝     NaN  57.0  基隆市中正區     金融業和房地產\n",
      "10  1700010  彭郁翔     NaN  55.0  基隆市中正區      住宿和餐飲業\n",
      "11  1700011  許合蓉  Female  61.0  新北市三重區      住宿和餐飲業\n",
      "12  1700012  武家豪    Male  53.0  新北市三重區       農林牧漁業\n",
      "13  1700013  郭信邦     NaN  48.0  新北市三重區      教育體育文化\n",
      "14  1700014  周聿綠  Female  57.0  基隆市中正區     金融業和房地產\n"
     ]
    }
   ],
   "source": [
    "# 篩選男性且大於50歲的資料\n",
    "# print(df_sample[(df_sample['gender'] == 'Male') & (df_sample['age'] > 50)])\n",
    "\n",
    "# 篩選住在新北市三重區或基隆市中正區的資料\n",
    "df_sample = df.copy()\n",
    "print(df_sample[(df_sample['area'] == '新北市三重區') | (df_sample['area'] == '基隆市中正區')])"
   ]
  },
  {
   "cell_type": "code",
   "execution_count": null,
   "metadata": {
    "colab": {
     "base_uri": "https://localhost:8080/",
     "height": 520
    },
    "executionInfo": {
     "elapsed": 2,
     "status": "ok",
     "timestamp": 1730275535897,
     "user": {
      "displayName": "林志偉",
      "userId": "13117312472561068650"
     },
     "user_tz": -480
    },
    "id": "WVxvTP3fdV1Z",
    "outputId": "ea87e7c9-4cfd-4873-838f-51f4912e782c"
   },
   "outputs": [],
   "source": [
    "df"
   ]
  },
  {
   "cell_type": "code",
   "execution_count": 107,
   "metadata": {
    "colab": {
     "base_uri": "https://localhost:8080/"
    },
    "executionInfo": {
     "elapsed": 319,
     "status": "ok",
     "timestamp": 1730275636877,
     "user": {
      "displayName": "林志偉",
      "userId": "13117312472561068650"
     },
     "user_tz": -480
    },
    "id": "PUfXNvgPuwsI",
    "outputId": "ffdd6619-d8af-450a-d91e-73f96370f23e"
   },
   "outputs": [
    {
     "data": {
      "text/plain": [
       "array(['新北市三重區', '臺北市文山區', '基隆市中正區', nan], dtype=object)"
      ]
     },
     "execution_count": 107,
     "metadata": {},
     "output_type": "execute_result"
    }
   ],
   "source": [
    "df['area'].unique()"
   ]
  },
  {
   "cell_type": "code",
   "execution_count": null,
   "metadata": {
    "colab": {
     "base_uri": "https://localhost:8080/",
     "height": 210
    },
    "executionInfo": {
     "elapsed": 318,
     "status": "ok",
     "timestamp": 1730275666083,
     "user": {
      "displayName": "林志偉",
      "userId": "13117312472561068650"
     },
     "user_tz": -480
    },
    "id": "NWqD5XzBxjg_",
    "outputId": "b4bdb31a-72d4-4fa5-bf71-362d7abf370d"
   },
   "outputs": [
    {
     "data": {
      "application/vnd.microsoft.datawrangler.viewer.v0+json": {
       "columns": [
        {
         "name": "area",
         "rawType": "object",
         "type": "string"
        },
        {
         "name": "count",
         "rawType": "int64",
         "type": "integer"
        }
       ],
       "ref": "2bcee4e3-4d82-4249-b11c-08969365ff94",
       "rows": [
        [
         "基隆市中正區",
         "5"
        ],
        [
         "新北市三重區",
         "4"
        ],
        [
         "臺北市文山區",
         "3"
        ]
       ],
       "shape": {
        "columns": 1,
        "rows": 3
       }
      },
      "text/plain": [
       "area\n",
       "基隆市中正區    5\n",
       "新北市三重區    4\n",
       "臺北市文山區    3\n",
       "Name: count, dtype: int64"
      ]
     },
     "execution_count": 108,
     "metadata": {},
     "output_type": "execute_result"
    }
   ],
   "source": [
    "df.value_counts('area')"
   ]
  },
  {
   "cell_type": "code",
   "execution_count": 109,
   "metadata": {
    "id": "rgtpHYoWvM9-"
   },
   "outputs": [
    {
     "data": {
      "application/vnd.microsoft.datawrangler.viewer.v0+json": {
       "columns": [
        {
         "name": "index",
         "rawType": "int64",
         "type": "integer"
        },
        {
         "name": "id",
         "rawType": "int64",
         "type": "integer"
        },
        {
         "name": "name",
         "rawType": "object",
         "type": "string"
        },
        {
         "name": "gender",
         "rawType": "object",
         "type": "unknown"
        },
        {
         "name": "age",
         "rawType": "float64",
         "type": "float"
        },
        {
         "name": "area",
         "rawType": "object",
         "type": "unknown"
        },
        {
         "name": "job",
         "rawType": "object",
         "type": "string"
        },
        {
         "name": "last_name",
         "rawType": "object",
         "type": "string"
        }
       ],
       "ref": "25ce9f01-c55c-4662-9c7e-5596861516a0",
       "rows": [
        [
         "0",
         "1700001",
         "李國發",
         "Male",
         "21.0",
         "新北市三重區",
         " 金融業 和房地產 ",
         "李"
        ],
        [
         "1",
         "1700002",
         "吳俊諺",
         null,
         null,
         "臺北市文山區",
         " 金融業和房地產",
         "吳"
        ],
        [
         "2",
         "1700003",
         "蔡俊毅",
         null,
         null,
         "臺北市文山區",
         "教育體育  文化",
         "蔡"
        ],
        [
         "3",
         "1700004",
         "姚鈺迪",
         "Female",
         "34.0",
         "基隆市中正區",
         " 住宿 和 餐飲業",
         "姚"
        ],
        [
         "4",
         "1700004",
         "姚鈺迪",
         "Female",
         "34.0",
         "基隆市中正區",
         " 住宿和餐飲業",
         "姚"
        ],
        [
         "5",
         "1700005",
         "袁劭彥",
         "Male",
         "42.0",
         "臺北市文山區",
         " 金融業和房地產",
         "袁"
        ],
        [
         "6",
         "1700006",
         "蔡登意",
         null,
         null,
         null,
         " 金融業和房地產",
         "蔡"
        ],
        [
         "7",
         "1700007",
         "吳景翔",
         null,
         "39.0",
         null,
         "農林牧漁業",
         "吳"
        ],
        [
         "8",
         "1700008",
         "邱孝信",
         null,
         "39.0",
         null,
         "金融業和房地產",
         "邱"
        ],
        [
         "9",
         "1700009",
         "陳明輝",
         null,
         "57.0",
         "基隆市中正區",
         "金融業和房地產",
         "陳"
        ],
        [
         "10",
         "1700010",
         "彭郁翔",
         null,
         "55.0",
         "基隆市中正區",
         "住宿和餐飲業",
         "彭"
        ],
        [
         "11",
         "1700011",
         "許合蓉",
         "Female",
         "61.0",
         "新北市三重區",
         "住宿和餐飲業",
         "許"
        ],
        [
         "12",
         "1700012",
         "武家豪",
         "Male",
         "53.0",
         "新北市三重區",
         "農林牧漁業",
         "武"
        ],
        [
         "13",
         "1700013",
         "郭信邦",
         null,
         "48.0",
         "新北市三重區",
         "教育體育文化",
         "郭"
        ],
        [
         "14",
         "1700014",
         "周聿綠",
         "Female",
         "57.0",
         "基隆市中正區",
         "金融業和房地產",
         "周"
        ]
       ],
       "shape": {
        "columns": 7,
        "rows": 15
       }
      },
      "text/html": [
       "<div>\n",
       "<style scoped>\n",
       "    .dataframe tbody tr th:only-of-type {\n",
       "        vertical-align: middle;\n",
       "    }\n",
       "\n",
       "    .dataframe tbody tr th {\n",
       "        vertical-align: top;\n",
       "    }\n",
       "\n",
       "    .dataframe thead th {\n",
       "        text-align: right;\n",
       "    }\n",
       "</style>\n",
       "<table border=\"1\" class=\"dataframe\">\n",
       "  <thead>\n",
       "    <tr style=\"text-align: right;\">\n",
       "      <th></th>\n",
       "      <th>id</th>\n",
       "      <th>name</th>\n",
       "      <th>gender</th>\n",
       "      <th>age</th>\n",
       "      <th>area</th>\n",
       "      <th>job</th>\n",
       "      <th>last_name</th>\n",
       "    </tr>\n",
       "  </thead>\n",
       "  <tbody>\n",
       "    <tr>\n",
       "      <th>0</th>\n",
       "      <td>1700001</td>\n",
       "      <td>李國發</td>\n",
       "      <td>Male</td>\n",
       "      <td>21.0</td>\n",
       "      <td>新北市三重區</td>\n",
       "      <td>金融業 和房地產</td>\n",
       "      <td>李</td>\n",
       "    </tr>\n",
       "    <tr>\n",
       "      <th>1</th>\n",
       "      <td>1700002</td>\n",
       "      <td>吳俊諺</td>\n",
       "      <td>NaN</td>\n",
       "      <td>NaN</td>\n",
       "      <td>臺北市文山區</td>\n",
       "      <td>金融業和房地產</td>\n",
       "      <td>吳</td>\n",
       "    </tr>\n",
       "    <tr>\n",
       "      <th>2</th>\n",
       "      <td>1700003</td>\n",
       "      <td>蔡俊毅</td>\n",
       "      <td>NaN</td>\n",
       "      <td>NaN</td>\n",
       "      <td>臺北市文山區</td>\n",
       "      <td>教育體育  文化</td>\n",
       "      <td>蔡</td>\n",
       "    </tr>\n",
       "    <tr>\n",
       "      <th>3</th>\n",
       "      <td>1700004</td>\n",
       "      <td>姚鈺迪</td>\n",
       "      <td>Female</td>\n",
       "      <td>34.0</td>\n",
       "      <td>基隆市中正區</td>\n",
       "      <td>住宿 和 餐飲業</td>\n",
       "      <td>姚</td>\n",
       "    </tr>\n",
       "    <tr>\n",
       "      <th>4</th>\n",
       "      <td>1700004</td>\n",
       "      <td>姚鈺迪</td>\n",
       "      <td>Female</td>\n",
       "      <td>34.0</td>\n",
       "      <td>基隆市中正區</td>\n",
       "      <td>住宿和餐飲業</td>\n",
       "      <td>姚</td>\n",
       "    </tr>\n",
       "    <tr>\n",
       "      <th>5</th>\n",
       "      <td>1700005</td>\n",
       "      <td>袁劭彥</td>\n",
       "      <td>Male</td>\n",
       "      <td>42.0</td>\n",
       "      <td>臺北市文山區</td>\n",
       "      <td>金融業和房地產</td>\n",
       "      <td>袁</td>\n",
       "    </tr>\n",
       "    <tr>\n",
       "      <th>6</th>\n",
       "      <td>1700006</td>\n",
       "      <td>蔡登意</td>\n",
       "      <td>NaN</td>\n",
       "      <td>NaN</td>\n",
       "      <td>NaN</td>\n",
       "      <td>金融業和房地產</td>\n",
       "      <td>蔡</td>\n",
       "    </tr>\n",
       "    <tr>\n",
       "      <th>7</th>\n",
       "      <td>1700007</td>\n",
       "      <td>吳景翔</td>\n",
       "      <td>NaN</td>\n",
       "      <td>39.0</td>\n",
       "      <td>NaN</td>\n",
       "      <td>農林牧漁業</td>\n",
       "      <td>吳</td>\n",
       "    </tr>\n",
       "    <tr>\n",
       "      <th>8</th>\n",
       "      <td>1700008</td>\n",
       "      <td>邱孝信</td>\n",
       "      <td>NaN</td>\n",
       "      <td>39.0</td>\n",
       "      <td>NaN</td>\n",
       "      <td>金融業和房地產</td>\n",
       "      <td>邱</td>\n",
       "    </tr>\n",
       "    <tr>\n",
       "      <th>9</th>\n",
       "      <td>1700009</td>\n",
       "      <td>陳明輝</td>\n",
       "      <td>NaN</td>\n",
       "      <td>57.0</td>\n",
       "      <td>基隆市中正區</td>\n",
       "      <td>金融業和房地產</td>\n",
       "      <td>陳</td>\n",
       "    </tr>\n",
       "    <tr>\n",
       "      <th>10</th>\n",
       "      <td>1700010</td>\n",
       "      <td>彭郁翔</td>\n",
       "      <td>NaN</td>\n",
       "      <td>55.0</td>\n",
       "      <td>基隆市中正區</td>\n",
       "      <td>住宿和餐飲業</td>\n",
       "      <td>彭</td>\n",
       "    </tr>\n",
       "    <tr>\n",
       "      <th>11</th>\n",
       "      <td>1700011</td>\n",
       "      <td>許合蓉</td>\n",
       "      <td>Female</td>\n",
       "      <td>61.0</td>\n",
       "      <td>新北市三重區</td>\n",
       "      <td>住宿和餐飲業</td>\n",
       "      <td>許</td>\n",
       "    </tr>\n",
       "    <tr>\n",
       "      <th>12</th>\n",
       "      <td>1700012</td>\n",
       "      <td>武家豪</td>\n",
       "      <td>Male</td>\n",
       "      <td>53.0</td>\n",
       "      <td>新北市三重區</td>\n",
       "      <td>農林牧漁業</td>\n",
       "      <td>武</td>\n",
       "    </tr>\n",
       "    <tr>\n",
       "      <th>13</th>\n",
       "      <td>1700013</td>\n",
       "      <td>郭信邦</td>\n",
       "      <td>NaN</td>\n",
       "      <td>48.0</td>\n",
       "      <td>新北市三重區</td>\n",
       "      <td>教育體育文化</td>\n",
       "      <td>郭</td>\n",
       "    </tr>\n",
       "    <tr>\n",
       "      <th>14</th>\n",
       "      <td>1700014</td>\n",
       "      <td>周聿綠</td>\n",
       "      <td>Female</td>\n",
       "      <td>57.0</td>\n",
       "      <td>基隆市中正區</td>\n",
       "      <td>金融業和房地產</td>\n",
       "      <td>周</td>\n",
       "    </tr>\n",
       "  </tbody>\n",
       "</table>\n",
       "</div>"
      ],
      "text/plain": [
       "         id name  gender   age    area         job last_name\n",
       "0   1700001  李國發    Male  21.0  新北市三重區   金融業 和房地產          李\n",
       "1   1700002  吳俊諺     NaN   NaN  臺北市文山區     金融業和房地產         吳\n",
       "2   1700003  蔡俊毅     NaN   NaN  臺北市文山區    教育體育  文化         蔡\n",
       "3   1700004  姚鈺迪  Female  34.0  基隆市中正區    住宿 和 餐飲業         姚\n",
       "4   1700004  姚鈺迪  Female  34.0  基隆市中正區      住宿和餐飲業         姚\n",
       "5   1700005  袁劭彥    Male  42.0  臺北市文山區     金融業和房地產         袁\n",
       "6   1700006  蔡登意     NaN   NaN     NaN     金融業和房地產         蔡\n",
       "7   1700007  吳景翔     NaN  39.0     NaN       農林牧漁業         吳\n",
       "8   1700008  邱孝信     NaN  39.0     NaN     金融業和房地產         邱\n",
       "9   1700009  陳明輝     NaN  57.0  基隆市中正區     金融業和房地產         陳\n",
       "10  1700010  彭郁翔     NaN  55.0  基隆市中正區      住宿和餐飲業         彭\n",
       "11  1700011  許合蓉  Female  61.0  新北市三重區      住宿和餐飲業         許\n",
       "12  1700012  武家豪    Male  53.0  新北市三重區       農林牧漁業         武\n",
       "13  1700013  郭信邦     NaN  48.0  新北市三重區      教育體育文化         郭\n",
       "14  1700014  周聿綠  Female  57.0  基隆市中正區     金融業和房地產         周"
      ]
     },
     "execution_count": 109,
     "metadata": {},
     "output_type": "execute_result"
    }
   ],
   "source": [
    "df_sample = df.copy()\n",
    "def get_last_name(full_name):\n",
    "    return full_name[0]\n",
    "df_sample['last_name'] = df_sample['name'].apply(get_last_name)\n",
    "df_sample"
   ]
  },
  {
   "cell_type": "markdown",
   "metadata": {
    "id": "u-egMDhW3gQI"
   },
   "source": [
    "# 資料分組運算: groupby, agg"
   ]
  },
  {
   "cell_type": "code",
   "execution_count": null,
   "metadata": {
    "colab": {
     "base_uri": "https://localhost:8080/",
     "height": 178
    },
    "executionInfo": {
     "elapsed": 320,
     "status": "ok",
     "timestamp": 1730275779211,
     "user": {
      "displayName": "林志偉",
      "userId": "13117312472561068650"
     },
     "user_tz": -480
    },
    "id": "_H5XSBlM3gY_",
    "outputId": "cb0c6768-38b5-4b07-e820-d55d4297eb80"
   },
   "outputs": [
    {
     "name": "stdout",
     "output_type": "stream",
     "text": [
      "mean of all ages: 45.0\n",
      "mean of age by gender:\n",
      " gender\n",
      "Female    46.500000\n",
      "Male      38.666667\n",
      "Name: age, dtype: float64\n"
     ]
    }
   ],
   "source": [
    "#客戶中男女生的平均年齡\n",
    "df_sample = df.copy()\n",
    "print('mean of all ages:', df_sample['age'].mean())\n",
    "print('mean of age by gender:\\n', df_sample.groupby('gender')['age'].mean())"
   ]
  },
  {
   "cell_type": "code",
   "execution_count": 111,
   "metadata": {
    "colab": {
     "base_uri": "https://localhost:8080/",
     "height": 210
    },
    "executionInfo": {
     "elapsed": 347,
     "status": "ok",
     "timestamp": 1730275835445,
     "user": {
      "displayName": "林志偉",
      "userId": "13117312472561068650"
     },
     "user_tz": -480
    },
    "id": "WSOMb5dZ3nXP",
    "outputId": "fb39c810-6832-4e89-f8ca-261c4c17e7a1"
   },
   "outputs": [
    {
     "data": {
      "application/vnd.microsoft.datawrangler.viewer.v0+json": {
       "columns": [
        {
         "name": "area",
         "rawType": "object",
         "type": "string"
        },
        {
         "name": "id",
         "rawType": "int64",
         "type": "integer"
        }
       ],
       "ref": "23184e67-d726-4319-9d07-dc0c30058223",
       "rows": [
        [
         "基隆市中正區",
         "5"
        ],
        [
         "新北市三重區",
         "4"
        ],
        [
         "臺北市文山區",
         "3"
        ]
       ],
       "shape": {
        "columns": 1,
        "rows": 3
       }
      },
      "text/plain": [
       "area\n",
       "基隆市中正區    5\n",
       "新北市三重區    4\n",
       "臺北市文山區    3\n",
       "Name: id, dtype: int64"
      ]
     },
     "execution_count": 111,
     "metadata": {},
     "output_type": "execute_result"
    }
   ],
   "source": [
    "#客戶中住各區的人數\n",
    "df_sample.groupby('area')['id'].count()"
   ]
  },
  {
   "cell_type": "code",
   "execution_count": null,
   "metadata": {
    "colab": {
     "base_uri": "https://localhost:8080/",
     "height": 143
    },
    "executionInfo": {
     "elapsed": 354,
     "status": "ok",
     "timestamp": 1730275898518,
     "user": {
      "displayName": "林志偉",
      "userId": "13117312472561068650"
     },
     "user_tz": -480
    },
    "id": "HFQsp8Ks30z3",
    "outputId": "7da33e63-00ce-4941-b774-c619b8e36642"
   },
   "outputs": [
    {
     "name": "stdout",
     "output_type": "stream",
     "text": [
      "gender\n",
      "Female    46.500000\n",
      "Male      38.666667\n",
      "Name: age, dtype: float64\n",
      "gender\n",
      "Female    61.0\n",
      "Male      53.0\n",
      "Name: age, dtype: float64\n",
      "gender\n",
      "Female    34.0\n",
      "Male      21.0\n",
      "Name: age, dtype: float64\n"
     ]
    }
   ],
   "source": [
    "#彙總統計：agg(), 客戶中男女生的平均年齡、最年長及最年輕的年齡\n",
    "df_sample.groupby('gender')['age'].agg(['mean', 'max', 'min'])\n",
    "# print(df_sample.groupby('gender')['age'].mean())\n",
    "# print(df_sample.groupby('gender')['age'].max())\n",
    "# print(df_sample.groupby('gender')['age'].min())\n",
    "\n"
   ]
  },
  {
   "cell_type": "markdown",
   "metadata": {
    "id": "OQwZaWG3QzaS"
   },
   "source": [
    "# 繪圖應用 (年度銷售)"
   ]
  },
  {
   "cell_type": "markdown",
   "metadata": {
    "id": "DvCdABcJfKMy"
   },
   "source": [
    "## 設定Matplotlib的中文顯示"
   ]
  },
  {
   "cell_type": "markdown",
   "metadata": {
    "id": "qxKv1lRDR4U8"
   },
   "source": [
    "## 繪製長條圖、橫條圖、堆疊圖\n"
   ]
  },
  {
   "cell_type": "code",
   "execution_count": null,
   "metadata": {
    "colab": {
     "base_uri": "https://localhost:8080/",
     "height": 143
    },
    "executionInfo": {
     "elapsed": 314,
     "status": "ok",
     "timestamp": 1730276259065,
     "user": {
      "displayName": "林志偉",
      "userId": "13117312472561068650"
     },
     "user_tz": -480
    },
    "id": "ycVcftFWgGjV",
    "outputId": "e03ac560-7909-421a-f16b-ab3bcdd4c262"
   },
   "outputs": [],
   "source": [
    "df"
   ]
  },
  {
   "cell_type": "code",
   "execution_count": null,
   "metadata": {
    "colab": {
     "base_uri": "https://localhost:8080/",
     "height": 412
    },
    "executionInfo": {
     "elapsed": 756,
     "status": "ok",
     "timestamp": 1730276360348,
     "user": {
      "displayName": "林志偉",
      "userId": "13117312472561068650"
     },
     "user_tz": -480
    },
    "id": "ndV4oc6WQ2_b",
    "outputId": "3c808910-3c59-4516-e166-087930833a87"
   },
   "outputs": [
    {
     "data": {
      "image/png": "[encoded data removed]",
      "text/plain": [
       "<Figure size 1000x500 with 1 Axes>"
      ]
     },
     "metadata": {},
     "output_type": "display_data"
    }
   ],
   "source": [
    "import pandas as pd\n",
    "from matplotlib import pyplot as plt\n",
    "# 設定中文字型 Heiti TC\n",
    "plt.rcParams['font.sans-serif']=['Heiti TC']\n",
    "df = pd.DataFrame([[250,320,300,312,280],\n",
    "\t\t\t\t\t\t\t[280,300,280,290,310],\n",
    "\t\t\t\t\t\t\t[220,280,250,305,250]],\n",
    "\t\t\t\t\t\t\tindex=['北部','中部','南部'],\n",
    "\t\t\t\t\t\t\tcolumns=[2015,2016,2017,2018,2019])\n",
    "\n",
    "# g1 = df.plot(kind='bar', title='長條圖', figsize=[10,5])\n",
    "# g2 = df.plot(kind='barh', title='橫條圖', figsize=[10,5])\n",
    "# g3 = df.plot(kind='bar', stacked=True, title='堆疊圖', figsize=[10,5])"
   ]
  },
  {
   "cell_type": "markdown",
   "metadata": {
    "id": "GXe_UHn1R7pc"
   },
   "source": [
    "## 繪製折線圖"
   ]
  },
  {
   "cell_type": "code",
   "execution_count": 120,
   "metadata": {
    "id": "9aNqpyz1R7x7"
   },
   "outputs": [
    {
     "data": {
      "image/png": "[encoded data removed]",
      "text/plain": [
       "<Figure size 1000x500 with 1 Axes>"
      ]
     },
     "metadata": {},
     "output_type": "display_data"
    }
   ],
   "source": [
    "import pandas as pd\n",
    "from matplotlib import pyplot as plt\n",
    "# 設定中文字型 Heiti TC\n",
    "plt.rcParams['font.sans-serif']=['Heiti TC']\n",
    "\n",
    "df = pd.DataFrame([[250,320,300,312,280],\n",
    "\t\t\t\t\t\t\t[280,300,280,290,310],\n",
    "\t\t\t\t\t\t\t[220,280,250,305,250]],\n",
    "\t\t\t\t\t\t\tindex=['北部','中部','南部'],\n",
    "\t\t\t\t\t\t\tcolumns=[2015,2016,2017,2018,2019])\n",
    "\n",
    "g1 = df.iloc[0].plot(kind='line', legend=True,\n",
    "\t\t\t\t\t\t\t  xticks=range(2015,2020),\n",
    "\t\t\t\t\t\t\t  title='公司分區年度銷售表',\n",
    "\t\t\t\t\t\t\t  figsize=[10,5])\n",
    "g1 = df.iloc[1].plot(kind='line',\n",
    "\t\t\t\t\t\t\t  legend=True,\n",
    "\t\t\t\t\t\t\t   xticks=range(2015,2020))\n",
    "g1 = df.iloc[2].plot(kind='line',\n",
    "\t\t\t\t\t\t\t\t\t  legend=True,\n",
    "\t\t\t\t\t\t\t\t\t  xticks=range(2015,2020))"
   ]
  },
  {
   "cell_type": "markdown",
   "metadata": {
    "id": "TzJjbGbHSX7C"
   },
   "source": [
    "## 繪製圓餅圖"
   ]
  },
  {
   "cell_type": "code",
   "execution_count": 121,
   "metadata": {
    "colab": {
     "base_uri": "https://localhost:8080/",
     "height": 199
    },
    "executionInfo": {
     "elapsed": 1461,
     "status": "ok",
     "timestamp": 1730276469713,
     "user": {
      "displayName": "林志偉",
      "userId": "13117312472561068650"
     },
     "user_tz": -480
    },
    "id": "ggBX-t1qSXqD",
    "outputId": "df9b3de0-32a6-4d37-d36e-8dad29b02657"
   },
   "outputs": [
    {
     "data": {
      "text/plain": [
       "array([<Axes: ylabel='2015'>, <Axes: ylabel='2016'>,\n",
       "       <Axes: ylabel='2017'>, <Axes: ylabel='2018'>,\n",
       "       <Axes: ylabel='2019'>], dtype=object)"
      ]
     },
     "execution_count": 121,
     "metadata": {},
     "output_type": "execute_result"
    },
    {
     "data": {
      "image/png": "[encoded data removed]",
      "text/plain": [
       "<Figure size 2000x2000 with 5 Axes>"
      ]
     },
     "metadata": {},
     "output_type": "display_data"
    }
   ],
   "source": [
    "import pandas as pd\n",
    "from matplotlib import pyplot as plt\n",
    "# 設定中文字型 Heiti TC\n",
    "plt.rcParams['font.sans-serif']=['Heiti TC']\n",
    "\n",
    "df = pd.DataFrame([[250,320,300,312,280],\n",
    "                   [280,300,280,290,310],\n",
    "                   [220,280,250,305,250]],\n",
    "                  index=['北部','中部','南部'],\n",
    "                  columns=[2015,2016,2017,2018,2019])\n",
    "df.plot(kind='pie', subplots=True, figsize=[20,20])"
   ]
  },
  {
   "cell_type": "code",
   "execution_count": null,
   "metadata": {
    "id": "2F7DR8YPS4zL"
   },
   "outputs": [],
   "source": []
  }
 ],
 "metadata": {
  "colab": {
   "collapsed_sections": [
    "kxgoWZjYVvgi"
   ],
   "provenance": [],
   "toc_visible": true
  },
  "kernelspec": {
   "display_name": ".venv",
   "language": "python",
   "name": "python3"
  },
  "language_info": {
   "codemirror_mode": {
    "name": "ipython",
    "version": 3
   },
   "file_extension": ".py",
   "mimetype": "text/x-python",
   "name": "python",
   "nbconvert_exporter": "python",
   "pygments_lexer": "ipython3",
   "version": "3.13.2"
  }
 },
 "nbformat": 4,
 "nbformat_minor": 0
}
