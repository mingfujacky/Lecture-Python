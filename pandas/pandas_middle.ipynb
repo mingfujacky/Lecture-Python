{
 "cells": [
  {
   "cell_type": "markdown",
   "metadata": {},
   "source": [
    "# Pandas module\n",
    "- Pandas是Python語言的一個高效簡易的資料處理和分析工具，類似於Excel的程式版本\n",
    "- 提供資料結構 (Series, DataFrame) 和運算操作，因此可以用Python來操作試算表內的資料。\n"
   ]
  },
  {
   "cell_type": "markdown",
   "metadata": {},
   "source": [
    "![pandas dataframe and series](https://www.altexsoft.com/static/blog-post/2024/2/a2b6d6bd-898e-424f-98a8-50b3bdf775eb.webp)"
   ]
  },
  {
   "cell_type": "markdown",
   "metadata": {
    "id": "kxgoWZjYVvgi"
   },
   "source": [
    "## Import library"
   ]
  },
  {
   "cell_type": "code",
   "execution_count": null,
   "metadata": {
    "executionInfo": {
     "elapsed": 326,
     "status": "ok",
     "timestamp": 1730270650418,
     "user": {
      "displayName": "林志偉",
      "userId": "13117312472561068650"
     },
     "user_tz": -480
    },
    "id": "vCNhDZPoV4KB"
   },
   "outputs": [],
   "source": [
    "import pandas as pd"
   ]
  },
  {
   "cell_type": "markdown",
   "metadata": {},
   "source": [
    "# Series Data Structure"
   ]
  },
  {
   "cell_type": "markdown",
   "metadata": {
    "id": "AbFDj8PrSdPH"
   },
   "source": [
    "## 建立Series"
   ]
  },
  {
   "cell_type": "markdown",
   "metadata": {},
   "source": [
    "- Series 是一個一維的資料結構, 只有一個索引\n",
    "- pd.Series(資料 [, index = 索引])\n",
    "  - 資料可用 List, Dict, Tuple, Numpy\n",
    "  - 索引可選填，預設為整數List"
   ]
  },
  {
   "cell_type": "code",
   "execution_count": null,
   "metadata": {
    "colab": {
     "base_uri": "https://localhost:8080/"
    },
    "executionInfo": {
     "elapsed": 294,
     "status": "ok",
     "timestamp": 1730270744772,
     "user": {
      "displayName": "林志偉",
      "userId": "13117312472561068650"
     },
     "user_tz": -480
    },
    "id": "XQ_IBEzKRz9D",
    "outputId": "20c27501-9798-48a8-d2a7-bc07669a18ca"
   },
   "outputs": [],
   "source": [
    "#用串列建立Series物件\n",
    "foo = ['a', 'c', 'x', 'y']\n",
    "my_ser = pd.Series(foo)\n",
    "my_ser           #顯示Series\n",
    "my_ser.values    #顯示值\n",
    "my_ser.index     #顯示索引"
   ]
  },
  {
   "cell_type": "code",
   "execution_count": null,
   "metadata": {
    "colab": {
     "base_uri": "https://localhost:8080/",
     "height": 178
    },
    "executionInfo": {
     "elapsed": 325,
     "status": "ok",
     "timestamp": 1730270810154,
     "user": {
      "displayName": "林志偉",
      "userId": "13117312472561068650"
     },
     "user_tz": -480
    },
    "id": "d68MSCgMWol9",
    "outputId": "19c7c358-4a0b-4a77-dc40-69a08a38a4f1"
   },
   "outputs": [],
   "source": [
    "#用串列建立Series物件並自訂索引\n",
    "company = ['聯電', '台積電', '聯發科']\n",
    "stock_price = [42, 510, 694]\n",
    "stock = pd.Series(stock_price, index=company)\n",
    "stock\n",
    "stock.values\n",
    "stock.index"
   ]
  },
  {
   "cell_type": "code",
   "execution_count": null,
   "metadata": {
    "colab": {
     "base_uri": "https://localhost:8080/",
     "height": 107
    },
    "executionInfo": {
     "elapsed": 325,
     "status": "ok",
     "timestamp": 1730270945147,
     "user": {
      "displayName": "林志偉",
      "userId": "13117312472561068650"
     },
     "user_tz": -480
    },
    "id": "Yq2wJMqRWWPk",
    "outputId": "d67b653d-9cc9-4644-8bd3-78bfbfd56eb2"
   },
   "outputs": [],
   "source": [
    "# 用Dict建立Series\n",
    "dict1 = {'Taiwan': '台北', 'US': 'New York', 'Japan': 'Tokyo'}\n",
    "city = pd.Series(dict1)\n",
    "city"
   ]
  },
  {
   "cell_type": "markdown",
   "metadata": {
    "id": "gMwM76meWmxF"
   },
   "source": [
    "## 讀取Series"
   ]
  },
  {
   "cell_type": "code",
   "execution_count": null,
   "metadata": {
    "colab": {
     "base_uri": "https://localhost:8080/"
    },
    "executionInfo": {
     "elapsed": 317,
     "status": "ok",
     "timestamp": 1730270995290,
     "user": {
      "displayName": "林志偉",
      "userId": "13117312472561068650"
     },
     "user_tz": -480
    },
    "id": "eQx4P-adfuDl",
    "outputId": "7904cc24-d89f-475e-9b06-ab4c0e4fff05"
   },
   "outputs": [],
   "source": [
    "city['Taiwan']\n",
    "city.iloc[0]\n",
    "city.loc['US']\n",
    "city.index[2]"
   ]
  },
  {
   "cell_type": "markdown",
   "metadata": {},
   "source": [
    "## Lab series"
   ]
  },
  {
   "cell_type": "markdown",
   "metadata": {},
   "source": [
    "(1) 根據下列表格資料，創建一個 Series (city_revenues), 回答下列問題\n",
    "city | revenues\n",
    "-----|---------\n",
    "Amsterdam|4200\n",
    "Toronto|8000\n",
    "Tokyo|6500\n",
    "\n",
    "- Toronto 的 revenues 是多少\n",
    "- 第零筆資料的 revenues 是多少\n",
    "- 最後一筆資料的 revenues 是多少\n",
    "- 求 revenues 的 sum"
   ]
  },
  {
   "cell_type": "markdown",
   "metadata": {},
   "source": [
    "(2) 根據下列表格資料，創建一個 Series (city_employee_count),回答下列問題\n",
    "city | employee_count\n",
    "-----|----------------\n",
    "Amsterdam|5\n",
    "Tokyo|8\n",
    "\n",
    "Tokyo 是否在 city_employee_count 中"
   ]
  },
  {
   "cell_type": "markdown",
   "metadata": {},
   "source": [
    "(3) 合併 city_revenues 和 city_employee_count 來產生一個 DataFrame (city_data), 回答下列問題\n",
    "- 查詢 Amsterdam 的列資料\n",
    "- 查詢第零橫列的列資料\n",
    "- 查詢 Amsterdam 到 Tokyo的 revenue 資料\n",
    "\n"
   ]
  },
  {
   "cell_type": "code",
   "execution_count": null,
   "metadata": {},
   "outputs": [],
   "source": [
    "import pandas as pd\n",
    "\n",
    "city_revenues = pd.Series([4200, 8000, 6500], \\\n",
    "                          index=['Amsterdam', 'Toronto', 'Tokyo'])\n",
    "print(city_revenues['Toronto'])\n",
    "print(city_revenues.iloc[0])\n",
    "print(city_revenues.iloc[-1])\n",
    "print(city_revenues.sum())\n",
    "\n",
    "city_employee_count = pd.Series([5, 8], index=['Amsterdam', 'Tokyo'])\n",
    "print('Tokyo' in city_employee_count.index)\n",
    "\n",
    "city_data = pd.DataFrame({'revenues': city_revenues,\n",
    "                           'employee_count':city_employee_count})\n",
    "city_data.loc['Amsterdam']\n",
    "city_data.iloc[0]\n",
    "city_data.loc['Amsterdam':'Tokyo']"
   ]
  },
  {
   "cell_type": "markdown",
   "metadata": {
    "id": "f2qQVhXrSYLo"
   },
   "source": [
    "# DataFrame Data Structure"
   ]
  },
  {
   "cell_type": "markdown",
   "metadata": {},
   "source": [
    "- DataFrame 是一個二維的資料結構, 有橫列索引 (row index) 和直欄標籤 (column label)\n",
    "- DataFrame 中的每一個直行可以被視為一個 Series\n",
    "- pd.DataFrame(資料 [, index = 橫列索引, columns = 直欄標籤])\n",
    "- 資料可用 List, Dict, Numpy, Tuple, Series.\n",
    "- 橫列索引是列號，可選填，預設為整數List\n",
    "- 直欄標籤是欄位名稱"
   ]
  },
  {
   "cell_type": "markdown",
   "metadata": {},
   "source": [
    "## 建立DataFrame"
   ]
  },
  {
   "cell_type": "markdown",
   "metadata": {
    "id": "CdC5SufcyG1n"
   },
   "source": [
    "### 用List"
   ]
  },
  {
   "cell_type": "code",
   "execution_count": null,
   "metadata": {
    "colab": {
     "base_uri": "https://localhost:8080/",
     "height": 175
    },
    "executionInfo": {
     "elapsed": 321,
     "status": "ok",
     "timestamp": 1730271140945,
     "user": {
      "displayName": "林志偉",
      "userId": "13117312472561068650"
     },
     "user_tz": -480
    },
    "id": "jw45UH1VyDcm",
    "outputId": "0a1d3790-1499-4b5c-f23b-6eadf0439160"
   },
   "outputs": [],
   "source": [
    "foo=  [[65,92,78,83,70],\n",
    "       [90,72,76,93,56],\n",
    "       [81,85,91,89,77],\n",
    "       [79,53,47,94,80],\n",
    "       ]\n",
    "df = pd.DataFrame(foo)\n",
    "df\n",
    "# print(df.values)\n",
    "# print(df.index)\n",
    "# 缺row index 跟column label"
   ]
  },
  {
   "cell_type": "code",
   "execution_count": null,
   "metadata": {
    "colab": {
     "base_uri": "https://localhost:8080/",
     "height": 175
    },
    "executionInfo": {
     "elapsed": 323,
     "status": "ok",
     "timestamp": 1730271201480,
     "user": {
      "displayName": "林志偉",
      "userId": "13117312472561068650"
     },
     "user_tz": -480
    },
    "id": "pPTONz8XzLgu",
    "outputId": "2d16e95c-2433-4dd2-aebe-0750e799c10b"
   },
   "outputs": [],
   "source": [
    "# 設定row index 跟column label\n",
    "df = pd.DataFrame(foo,\n",
    "                   index=['王小明','李小美','陳大同','林小玉'],\n",
    "                   columns=['國文','英文','數學','自然','社會'])\n",
    "df"
   ]
  },
  {
   "cell_type": "markdown",
   "metadata": {
    "id": "NPryO-5Jzn9O"
   },
   "source": [
    "### 用Dict"
   ]
  },
  {
   "cell_type": "code",
   "execution_count": null,
   "metadata": {
    "colab": {
     "base_uri": "https://localhost:8080/",
     "height": 175
    },
    "executionInfo": {
     "elapsed": 328,
     "status": "ok",
     "timestamp": 1730271880745,
     "user": {
      "displayName": "林志偉",
      "userId": "13117312472561068650"
     },
     "user_tz": -480
    },
    "id": "3OJe8I-TzoEG",
    "outputId": "0a687f28-664d-47bb-c4e3-eb4c1526f01e"
   },
   "outputs": [],
   "source": [
    "# 以column為基礎的dict\n",
    "scores = {'國文':{'王小明':65,'李小美':90,'陳大同':81,'林小玉':79},\n",
    "          '英文':{'王小明':92,'李小美':72,'陳大同':85,'林小玉':53},\n",
    "          '數學':{'王小明':78,'李小美':76,'陳大同':91,'林小玉':47},\n",
    "          '自然':{'王小明':83,'李小美':93,'陳大同':89,'林小玉':94},\n",
    "          '社會':{'王小明':70,'李小美':56,'陳大同':77,'林小玉':80}}\n",
    "df = pd.DataFrame(scores)\n",
    "df"
   ]
  },
  {
   "cell_type": "markdown",
   "metadata": {
    "id": "j3_QGiFephQ2"
   },
   "source": [
    "### 了解DataFrame的結構"
   ]
  },
  {
   "cell_type": "code",
   "execution_count": null,
   "metadata": {
    "colab": {
     "base_uri": "https://localhost:8080/"
    },
    "executionInfo": {
     "elapsed": 315,
     "status": "ok",
     "timestamp": 1730271640919,
     "user": {
      "displayName": "林志偉",
      "userId": "13117312472561068650"
     },
     "user_tz": -480
    },
    "id": "GAq_EOeXo_I5",
    "outputId": "87ff0140-c022-45b1-c977-90d8530077dd"
   },
   "outputs": [],
   "source": [
    "df.shape\n",
    "df.dtypes\n",
    "df.describe()\n",
    "df.info()"
   ]
  },
  {
   "cell_type": "markdown",
   "metadata": {
    "id": "OMdJnr-FqBBn"
   },
   "source": [
    "### 合併兩個DataFrame"
   ]
  },
  {
   "cell_type": "code",
   "execution_count": null,
   "metadata": {
    "colab": {
     "base_uri": "https://localhost:8080/",
     "height": 175
    },
    "executionInfo": {
     "elapsed": 323,
     "status": "ok",
     "timestamp": 1730271744712,
     "user": {
      "displayName": "林志偉",
      "userId": "13117312472561068650"
     },
     "user_tz": -480
    },
    "id": "z-mZx9yTqFL-",
    "outputId": "87161217-6ff9-48a7-b86a-65377e2d31ed"
   },
   "outputs": [],
   "source": [
    "scores = {'國文':{'王小明':65,'李小美':90,'陳大同':81,'林小玉':79},\n",
    "          '英文':{'王小明':92,'李小美':72,'陳大同':85,'林小玉':53},\n",
    "          '數學':{'王小明':78,'李小美':76,'陳大同':91,'林小玉':47},\n",
    "          '自然':{'王小明':83,'李小美':93,'陳大同':89,'林小玉':94},\n",
    "          '社會':{'王小明':70,'李小美':56,'陳大同':77,'林小玉':80}}\n",
    "df1 = pd.DataFrame(scores)\n",
    "scores_others = {'體育':{'王小明':90,'李小美':93,'陳大同':95,'林小玉':80},\n",
    "          '家政':{'王小明':70,'李小美':80,'陳大同':75,'林小玉':90},}\n",
    "\n",
    "df2 = pd.DataFrame(scores_others)\n",
    "df_all = pd.concat([df1, df2], axis=1)\n",
    "df_all"
   ]
  },
  {
   "cell_type": "markdown",
   "metadata": {
    "id": "4RSAEmAn2JX-"
   },
   "source": [
    "## 讀取DataFrame資料"
   ]
  },
  {
   "cell_type": "markdown",
   "metadata": {
    "id": "2VzQ9dGGmpzv"
   },
   "source": [
    "### `df[column]` 欄取值 "
   ]
  },
  {
   "cell_type": "code",
   "execution_count": null,
   "metadata": {
    "colab": {
     "base_uri": "https://localhost:8080/",
     "height": 175
    },
    "executionInfo": {
     "elapsed": 332,
     "status": "ok",
     "timestamp": 1730271897063,
     "user": {
      "displayName": "林志偉",
      "userId": "13117312472561068650"
     },
     "user_tz": -480
    },
    "id": "o54chOM6jCHA",
    "outputId": "cd59e234-d701-4e49-c5e6-fad72f67bcd2"
   },
   "outputs": [],
   "source": [
    "scores = {'國文':{'王小明':65,'李小美':90,'陳大同':81,'林小玉':79},\n",
    "          '英文':{'王小明':92,'李小美':72,'陳大同':85,'林小玉':53},\n",
    "          '數學':{'王小明':78,'李小美':76,'陳大同':91,'林小玉':47},\n",
    "          '自然':{'王小明':83,'李小美':93,'陳大同':89,'林小玉':94},\n",
    "          '社會':{'王小明':70,'李小美':56,'陳大同':77,'林小玉':80}}\n",
    "df = pd.DataFrame(scores)\n",
    "df"
   ]
  },
  {
   "cell_type": "code",
   "execution_count": null,
   "metadata": {
    "colab": {
     "base_uri": "https://localhost:8080/",
     "height": 210
    },
    "executionInfo": {
     "elapsed": 333,
     "status": "ok",
     "timestamp": 1725345478317,
     "user": {
      "displayName": "林志偉",
      "userId": "13117312472561068650"
     },
     "user_tz": -480
    },
    "id": "UXP_GNkq2K2X",
    "outputId": "98a7ef98-96bb-49ec-dbd2-4237c12290a6"
   },
   "outputs": [],
   "source": [
    "df[\"自然\"] #讀一個欄位\n",
    "df[[\"國文\",\"英文\",\"數學\"]] #讀多個欄位"
   ]
  },
  {
   "cell_type": "markdown",
   "metadata": {
    "id": "7ydr5oYjhwUo"
   },
   "source": [
    "### `df.loc()` 列取值"
   ]
  },
  {
   "cell_type": "code",
   "execution_count": null,
   "metadata": {
    "colab": {
     "base_uri": "https://localhost:8080/"
    },
    "executionInfo": {
     "elapsed": 321,
     "status": "ok",
     "timestamp": 1730272042375,
     "user": {
      "displayName": "林志偉",
      "userId": "13117312472561068650"
     },
     "user_tz": -480
    },
    "id": "9JyYMnqphyz3",
    "outputId": "1eb5b341-707a-4f0a-abb3-25fbf8b1d5cc"
   },
   "outputs": [],
   "source": [
    "df.loc[\"林小玉\", \"社會\"] # int\n",
    "df.loc[\"王小明\", [\"國文\",\"社會\"]] # Series\n",
    "df.loc[[\"王小明\", \"李小美\"], [\"數學\", \"自然\"]] # DataFrame\n",
    "df.loc[\"王小明\":\"陳大同\", \"數學\":\"社會\"] # DataFrame\n",
    "df.loc[\"陳大同\", :] # Series\n",
    "df.loc[:\"李小美\", \"數學\":\"社會\"] # DataFrame\n",
    "df.loc[\"李小美\":, \"數學\":\"社會\"]"
   ]
  },
  {
   "cell_type": "markdown",
   "metadata": {
    "id": "QYVU_KAw9v8h"
   },
   "source": [
    "### `df.iloc()` 列ID取值"
   ]
  },
  {
   "cell_type": "code",
   "execution_count": null,
   "metadata": {
    "colab": {
     "base_uri": "https://localhost:8080/"
    },
    "executionInfo": {
     "elapsed": 332,
     "status": "ok",
     "timestamp": 1725346457642,
     "user": {
      "displayName": "林志偉",
      "userId": "13117312472561068650"
     },
     "user_tz": -480
    },
    "id": "PQU6Eyr7iAd_",
    "outputId": "f6d250bb-6df9-429a-ecc9-1b6a588ac45e"
   },
   "outputs": [],
   "source": [
    "df.iloc[3, 4]\n",
    "df.iloc[0, [0, 4]] # Series\n",
    "df.iloc[[0, 1], [2, 3]] # DataFrame\n",
    "df.iloc[0:3, 2:5]\n",
    "df.iloc[2, :]\n",
    "df.iloc[:2, 2:5]\n",
    "df.iloc[1:, 2:5]"
   ]
  },
  {
   "cell_type": "markdown",
   "metadata": {
    "id": "mYBYPlmrnSK3"
   },
   "source": [
    "### `head()` and `tail()`"
   ]
  },
  {
   "cell_type": "code",
   "execution_count": null,
   "metadata": {
    "colab": {
     "base_uri": "https://localhost:8080/",
     "height": 143
    },
    "executionInfo": {
     "elapsed": 392,
     "status": "ok",
     "timestamp": 1725346762972,
     "user": {
      "displayName": "林志偉",
      "userId": "13117312472561068650"
     },
     "user_tz": -480
    },
    "id": "l3HNcRtEnTln",
    "outputId": "824747e9-1842-4898-c2f5-4b03189a3a03"
   },
   "outputs": [],
   "source": [
    "df.head(3)\n",
    "df.tail(2)"
   ]
  },
  {
   "cell_type": "markdown",
   "metadata": {
    "id": "omv7qBXyDisD"
   },
   "source": [
    "### 資料排序"
   ]
  },
  {
   "cell_type": "code",
   "execution_count": null,
   "metadata": {
    "id": "Doz74AlRnTs_"
   },
   "outputs": [],
   "source": [
    "df.sort_values(by=\"國文\", ascending=False, inplace=True)"
   ]
  },
  {
   "cell_type": "markdown",
   "metadata": {
    "id": "youPbOflYC65"
   },
   "source": [
    "### 依條件讀值\n",
    "- 指定欄位以條件式判斷取值\n",
    "- boolean indexing: Using boolean array (series) to index select rows"
   ]
  },
  {
   "cell_type": "code",
   "execution_count": null,
   "metadata": {},
   "outputs": [],
   "source": [
    "df[\"數學\"] < 60 # boolean series\n",
    "df[df[\"數學\"] < 60] # dataframe\n",
    "df[(df[\"國文\"] >= 80) & (df[\"國文\"] < 90)]\n",
    "df['國文'] >= 80\n",
    "df[df['國文'] >= 80]"
   ]
  },
  {
   "cell_type": "markdown",
   "metadata": {
    "id": "meWR9bNOWsNx"
   },
   "source": [
    "### 讀values, index and columns"
   ]
  },
  {
   "cell_type": "code",
   "execution_count": null,
   "metadata": {
    "colab": {
     "base_uri": "https://localhost:8080/"
    },
    "executionInfo": {
     "elapsed": 352,
     "status": "ok",
     "timestamp": 1725347621848,
     "user": {
      "displayName": "林志偉",
      "userId": "13117312472561068650"
     },
     "user_tz": -480
    },
    "id": "aPiDib_PWw6x",
    "outputId": "4d33f3f6-b404-44ed-ce2c-48891b0937f3"
   },
   "outputs": [],
   "source": [
    "df.values # Get all values, ndarray\n",
    "df.index # Get all index labels\n",
    "df.columns # Get all column labels"
   ]
  },
  {
   "cell_type": "markdown",
   "metadata": {
    "id": "546ntkGoYc89"
   },
   "source": [
    "## 修改DataFrame資料"
   ]
  },
  {
   "cell_type": "code",
   "execution_count": null,
   "metadata": {},
   "outputs": [],
   "source": [
    "name_list = ['王小明','李小美','陳大同','林小玉']\n",
    "subject_list = ['國文','英文','數學','自然','社會']\n",
    "score_list = [[65, 92, 78, 83, 70],\n",
    "               [90, 72, 76, 93, 56],\n",
    "               [81, 85, 91, 89, 77],\n",
    "               [79, 53, 47, 94, 80],]\n",
    "\n",
    "df = pd.DataFrame(score_list, index=name_list, columns=subject_list)"
   ]
  },
  {
   "cell_type": "markdown",
   "metadata": {},
   "source": [
    "### `df.loc()` 列改值"
   ]
  },
  {
   "cell_type": "code",
   "execution_count": null,
   "metadata": {
    "colab": {
     "base_uri": "https://localhost:8080/",
     "height": 175
    },
    "executionInfo": {
     "elapsed": 574,
     "status": "ok",
     "timestamp": 1730273805832,
     "user": {
      "displayName": "林志偉",
      "userId": "13117312472561068650"
     },
     "user_tz": -480
    },
    "id": "u1ipXKm1DrXL",
    "outputId": "fa5c1291-736d-48ca-b499-8989ae540406"
   },
   "outputs": [],
   "source": [
    "# modify data values\n",
    "df.loc[\"陳大同\", \"社會\"] = 96  # 修改cell資料\n",
    "df.loc[\"王小明\", :] = 80  # 修改row資料\n",
    "df.loc['林小玉'] = [70, 50, 40, 40, 50] # 修改row資料\n",
    "df"
   ]
  },
  {
   "cell_type": "markdown",
   "metadata": {},
   "source": [
    "### `df[column]` 整欄改值"
   ]
  },
  {
   "cell_type": "code",
   "execution_count": null,
   "metadata": {},
   "outputs": [],
   "source": [
    "df['數學'] = [60, 70, 80, 90]  # 修改已經存在的column'數學'的資料\n",
    "df"
   ]
  },
  {
   "cell_type": "markdown",
   "metadata": {},
   "source": [
    "### 更改欄位屬性"
   ]
  },
  {
   "cell_type": "code",
   "execution_count": null,
   "metadata": {
    "colab": {
     "base_uri": "https://localhost:8080/"
    },
    "executionInfo": {
     "elapsed": 336,
     "status": "ok",
     "timestamp": 1730273918567,
     "user": {
      "displayName": "林志偉",
      "userId": "13117312472561068650"
     },
     "user_tz": -480
    },
    "id": "zsgoE7VPs2J_",
    "outputId": "af3d625c-f2a6-40d7-c345-ed6906515cb7"
   },
   "outputs": [],
   "source": [
    "# modify data types\n",
    "df.dtypes\n",
    "df[\"國文\"] = df[\"國文\"].astype('int8')\n",
    "df.dtypes\n",
    "# modify column name\n",
    "df.rename(columns = {\"英文\":\"外語\"}, inplace=True)\n",
    "df"
   ]
  },
  {
   "cell_type": "markdown",
   "metadata": {},
   "source": [
    "## 新增DataFrame資料"
   ]
  },
  {
   "cell_type": "code",
   "execution_count": null,
   "metadata": {},
   "outputs": [],
   "source": [
    "name_list = ['王小明','李小美','陳大同','林小玉']\n",
    "subject_list = ['國文','英文','數學','自然','社會']\n",
    "score_list = [[65, 92, 78, 83, 70],\n",
    "               [90, 72, 76, 93, 56],\n",
    "               [81, 85, 91, 89, 77],\n",
    "               [79, 53, 47, 94, 80],]\n",
    "\n",
    "df = pd.DataFrame(score_list, index=name_list, columns=subject_list)"
   ]
  },
  {
   "cell_type": "code",
   "execution_count": null,
   "metadata": {
    "colab": {
     "base_uri": "https://localhost:8080/",
     "height": 175
    },
    "executionInfo": {
     "elapsed": 337,
     "status": "ok",
     "timestamp": 1730274009351,
     "user": {
      "displayName": "林志偉",
      "userId": "13117312472561068650"
     },
     "user_tz": -480
    },
    "id": "-IYUI9D1tkYS",
    "outputId": "1e050d9c-2a8a-45ac-9a2c-8cb6e934adb5"
   },
   "outputs": [],
   "source": [
    "# 增加欄位：若欄位不存在則新增欄位，若存在則修改欄位值\n",
    "df[\"總分\"] = df[\"國文\"] + df[\"英文\"] + df[\"數學\"] + df[\"自然\"] + df[\"社會\"] # with calculation\n",
    "df[\"班級\"] = [\"甲班\", \"甲班\", \"乙班\", \"乙班\"] # with list\n",
    "df['備註'] = '吃營養午餐'  # with string\n",
    "# 增加列\n",
    "df.loc['陳彼得'] = [30, 35, 40, 45, 50, 200, '丙班', '不吃午餐'] # 新增一列資料\n",
    "df"
   ]
  },
  {
   "cell_type": "markdown",
   "metadata": {
    "id": "Vfhgpa60xatc"
   },
   "source": [
    "## 刪除 DataFrame 資料"
   ]
  },
  {
   "cell_type": "code",
   "execution_count": null,
   "metadata": {},
   "outputs": [],
   "source": [
    "name_list = ['王小明','李小美','陳大同','林小玉']\n",
    "subject_list = ['國文','英文','數學','自然','社會']\n",
    "score_list = [[65, 92, 78, 83, 70],\n",
    "               [90, 72, 76, 93, 56],\n",
    "               [81, 85, 91, 89, 77],\n",
    "               [79, 53, 47, 94, 80],]\n",
    "\n",
    "df = pd.DataFrame(score_list, index=name_list, columns=subject_list)"
   ]
  },
  {
   "cell_type": "code",
   "execution_count": null,
   "metadata": {
    "id": "34-PW98Wxa4T"
   },
   "outputs": [],
   "source": [
    "df.drop(\"王小明\", axis = 0, inplace=True)\n",
    "df.drop(\"數學\", axis=1, inplace=True)\n",
    "df"
   ]
  },
  {
   "cell_type": "markdown",
   "metadata": {
    "id": "2KapRhABuF-n"
   },
   "source": [
    "## 寫資料到外部檔案"
   ]
  },
  {
   "cell_type": "code",
   "execution_count": null,
   "metadata": {
    "id": "EzzXwf2ghR2s"
   },
   "outputs": [],
   "source": [
    "# 寫到CSV檔案\n",
    "from pathlib import Path\n",
    "target_csv_path = Path.cwd() / '..' / 'files' / 'csv' / 'scores.csv'\n",
    "df.to_csv(target_csv_path, encoding='utf-8-sig')"
   ]
  },
  {
   "cell_type": "markdown",
   "metadata": {
    "id": "9ByyDDEWlJWp"
   },
   "source": [
    "# Use case demo (customer.csv)"
   ]
  },
  {
   "cell_type": "markdown",
   "metadata": {},
   "source": [
    "## Load file"
   ]
  },
  {
   "cell_type": "code",
   "execution_count": null,
   "metadata": {
    "colab": {
     "base_uri": "https://localhost:8080/"
    },
    "executionInfo": {
     "elapsed": 317,
     "status": "ok",
     "timestamp": 1730274380802,
     "user": {
      "displayName": "林志偉",
      "userId": "13117312472561068650"
     },
     "user_tz": -480
    },
    "id": "nJnji-mnlLyK",
    "outputId": "23c918fa-d96b-4415-ca88-d4b5d7303ffb"
   },
   "outputs": [],
   "source": [
    "import pandas as pd\n",
    "from pathlib import Path\n",
    "\n",
    "source_csv_path = Path.cwd() / '..' / 'files' / 'csv' / 'customer.csv'\n",
    "df = pd.read_csv(source_csv_path)  # 讀取資料\n",
    "df.head()"
   ]
  },
  {
   "cell_type": "markdown",
   "metadata": {},
   "source": [
    "## Understand data"
   ]
  },
  {
   "cell_type": "code",
   "execution_count": null,
   "metadata": {},
   "outputs": [],
   "source": [
    "df.shape\n",
    "df.dtypes\n",
    "df.describe()\n",
    "df.info()"
   ]
  },
  {
   "cell_type": "markdown",
   "metadata": {},
   "source": [
    "## Clean data"
   ]
  },
  {
   "cell_type": "markdown",
   "metadata": {
    "id": "hqqxbYErlLly"
   },
   "source": [
    "### 查詢空值：isnull()\n"
   ]
  },
  {
   "cell_type": "code",
   "execution_count": null,
   "metadata": {},
   "outputs": [],
   "source": [
    "df.isnull() # True:空值 False:非空值\n",
    "df.isnull().sum() # 每個欄位有多少空值數\n",
    "df.isnull().any(axis=0).sum() # 有空值的 column 有3個\n",
    "df.isnull().any(axis=1).sum() # 有空值的 row 有8個 \n",
    "df[df['age'].isnull()] # 顯示age欄有空值的row"
   ]
  },
  {
   "cell_type": "markdown",
   "metadata": {
    "id": "RM5zqK2ElZBD"
   },
   "source": [
    "### 空欄填值：fillna()"
   ]
  },
  {
   "cell_type": "code",
   "execution_count": null,
   "metadata": {
    "colab": {
     "base_uri": "https://localhost:8080/",
     "height": 206
    },
    "executionInfo": {
     "elapsed": 354,
     "status": "ok",
     "timestamp": 1730274537446,
     "user": {
      "displayName": "林志偉",
      "userId": "13117312472561068650"
     },
     "user_tz": -480
    },
    "id": "XMA8ZgXUlL2x",
    "outputId": "6465cb4c-96d5-4b3d-e952-2e3bc37bea44"
   },
   "outputs": [],
   "source": [
    "# 將age的空值填入0\n",
    "dfcopy = df.copy()\n",
    "dfcopy['age'] = dfcopy['age'].fillna(value=0)\n",
    "dfcopy.head()"
   ]
  },
  {
   "cell_type": "code",
   "execution_count": null,
   "metadata": {
    "colab": {
     "base_uri": "https://localhost:8080/",
     "height": 206
    },
    "executionInfo": {
     "elapsed": 312,
     "status": "ok",
     "timestamp": 1730274677579,
     "user": {
      "displayName": "林志偉",
      "userId": "13117312472561068650"
     },
     "user_tz": -480
    },
    "id": "wog-51Valecx",
    "outputId": "ce599fff-8168-4c1f-e609-c50f35468c81"
   },
   "outputs": [],
   "source": [
    "# 將age的空值填入平均值\n",
    "dfcopy = df.copy()\n",
    "dfcopy['age'] = dfcopy['age'].fillna(value = dfcopy['age'].mean())\n",
    "dfcopy.head()"
   ]
  },
  {
   "cell_type": "code",
   "execution_count": null,
   "metadata": {
    "colab": {
     "base_uri": "https://localhost:8080/",
     "height": 454
    },
    "executionInfo": {
     "elapsed": 315,
     "status": "ok",
     "timestamp": 1730274771463,
     "user": {
      "displayName": "林志偉",
      "userId": "13117312472561068650"
     },
     "user_tz": -480
    },
    "id": "VIxvb84WmxBp",
    "outputId": "42da70bc-710a-4226-c88a-7f8c3708c6d6"
   },
   "outputs": [],
   "source": [
    "# 以前一個值往下填ffill或後一個值往上填bfill\n",
    "dfcopy = df.copy()\n",
    "dfcopy['gender'] = dfcopy['gender'].ffill()\n",
    "dfcopy['area'] = dfcopy['area'].bfill()\n",
    "dfcopy"
   ]
  },
  {
   "cell_type": "code",
   "execution_count": null,
   "metadata": {
    "colab": {
     "base_uri": "https://localhost:8080/"
    },
    "executionInfo": {
     "elapsed": 305,
     "status": "ok",
     "timestamp": 1730274853326,
     "user": {
      "displayName": "林志偉",
      "userId": "13117312472561068650"
     },
     "user_tz": -480
    },
    "id": "zlvzJ7mem9jR",
    "outputId": "4af7f066-bf39-49d9-deca-13a33e0137c2"
   },
   "outputs": [],
   "source": [
    "# 刪除不完整的資料\n",
    "dfcopy = df.copy()\n",
    "dfcopy.dropna(inplace=True)\n",
    "dfcopy"
   ]
  },
  {
   "cell_type": "markdown",
   "metadata": {
    "id": "BNVuXNtmm9wh"
   },
   "source": [
    "### 去除重複資料"
   ]
  },
  {
   "cell_type": "code",
   "execution_count": null,
   "metadata": {
    "colab": {
     "base_uri": "https://localhost:8080/",
     "height": 206
    },
    "executionInfo": {
     "elapsed": 329,
     "status": "ok",
     "timestamp": 1730275005437,
     "user": {
      "displayName": "林志偉",
      "userId": "13117312472561068650"
     },
     "user_tz": -480
    },
    "id": "Uf3aw8R5m93a",
    "outputId": "57578cc9-6910-4123-ad10-0f95ad9612ea"
   },
   "outputs": [],
   "source": [
    "# 去除重複的記錄\n",
    "dfcopy = df.copy()\n",
    "dfcopy.drop_duplicates(subset='id', keep='first', inplace=True)\n",
    "dfcopy"
   ]
  },
  {
   "cell_type": "markdown",
   "metadata": {
    "id": "1eafKVcPnT5q"
   },
   "source": [
    "## Transform data"
   ]
  },
  {
   "cell_type": "markdown",
   "metadata": {},
   "source": [
    "### 調整欄位值"
   ]
  },
  {
   "cell_type": "code",
   "execution_count": null,
   "metadata": {
    "colab": {
     "base_uri": "https://localhost:8080/",
     "height": 206
    },
    "executionInfo": {
     "elapsed": 320,
     "status": "ok",
     "timestamp": 1730275203398,
     "user": {
      "displayName": "林志偉",
      "userId": "13117312472561068650"
     },
     "user_tz": -480
    },
    "id": "3qi6aE0XnUB7",
    "outputId": "1d427da5-bdd3-4361-f2f3-cdc61a46bc2f"
   },
   "outputs": [],
   "source": [
    "dfcopy = df.copy()\n",
    "dfcopy['job'] = dfcopy['job'].str.strip() # 取出字串字面值, 去除前後空白\n",
    "dfcopy['job'] = dfcopy['job'].str.replace(' ', '')\n",
    "dfcopy"
   ]
  },
  {
   "cell_type": "markdown",
   "metadata": {
    "id": "FjbG0tUqndFx"
   },
   "source": [
    "### 調整欄位格式"
   ]
  },
  {
   "cell_type": "code",
   "execution_count": null,
   "metadata": {
    "colab": {
     "base_uri": "https://localhost:8080/"
    },
    "executionInfo": {
     "elapsed": 337,
     "status": "ok",
     "timestamp": 1730275266030,
     "user": {
      "displayName": "林志偉",
      "userId": "13117312472561068650"
     },
     "user_tz": -480
    },
    "id": "E9ppTFdBndOp",
    "outputId": "2ba32614-2826-47da-c028-aed91389dd33"
   },
   "outputs": [],
   "source": [
    "# 轉換值的格式\n",
    "dfcopy = df.copy()\n",
    "dfcopy.dtypes\n",
    "dfcopy['age'] = dfcopy['age'].fillna(value=0).astype('int8') # 先填入0再轉型\n",
    "dfcopy.dtypes"
   ]
  },
  {
   "cell_type": "markdown",
   "metadata": {},
   "source": [
    "## Pack script to preprocess data"
   ]
  },
  {
   "cell_type": "code",
   "execution_count": null,
   "metadata": {},
   "outputs": [],
   "source": [
    "import pandas as pd\n",
    "from pathlib import Path\n",
    "\n",
    "# 讀取資料\n",
    "source_csv_path = Path.cwd() / '..' / 'files' / 'csv' / 'customer.csv'\n",
    "df = pd.read_csv(source_csv_path)  \n",
    "\n",
    "# clean null value\n",
    "df['age'] = df['age'].fillna(value = df['age'].mean())\n",
    "df['gender'] = df['gender'].ffill()\n",
    "df['area'] = df['area'].bfill()\n",
    "\n",
    "# remove duplicate records\n",
    "df.drop_duplicates(subset='id', keep='first', inplace=True)\n",
    "\n",
    "# format columns\n",
    "df['job'] = df['job'].str.strip()\n",
    "df['job'] = df['job'].str.replace(' ', '')\n",
    "df['age'] = df['age'].astype('int8')\n",
    "\n",
    "# final cleaned data and get ready to analyze\n",
    "df"
   ]
  },
  {
   "cell_type": "markdown",
   "metadata": {
    "id": "nnxMQ8Y82x9A"
   },
   "source": [
    "## Manipulate data"
   ]
  },
  {
   "cell_type": "markdown",
   "metadata": {},
   "source": [
    "### Filter data"
   ]
  },
  {
   "cell_type": "code",
   "execution_count": null,
   "metadata": {
    "colab": {
     "base_uri": "https://localhost:8080/",
     "height": 143
    },
    "executionInfo": {
     "elapsed": 314,
     "status": "ok",
     "timestamp": 1730275332948,
     "user": {
      "displayName": "林志偉",
      "userId": "13117312472561068650"
     },
     "user_tz": -480
    },
    "id": "3VTUhUbo2cGJ",
    "outputId": "55804606-8f93-4db4-ff90-3479425421a9"
   },
   "outputs": [],
   "source": [
    "df[(df['gender'] == 'Female')]  # 篩選女性的資料\n",
    "df[(df['gender'] == 'Male') & (df['age'] > 50)]  # 篩選男性且大於50歲的資料\n",
    "df[(df['area'] == '新北市三重區') | (df['area'] == '基隆市中正區')]  # 篩選新北市三重區或基隆市中正區的資料"
   ]
  },
  {
   "cell_type": "markdown",
   "metadata": {
    "id": "u-egMDhW3gQI"
   },
   "source": [
    "### Group data"
   ]
  },
  {
   "cell_type": "code",
   "execution_count": null,
   "metadata": {
    "colab": {
     "base_uri": "https://localhost:8080/"
    },
    "executionInfo": {
     "elapsed": 319,
     "status": "ok",
     "timestamp": 1730275636877,
     "user": {
      "displayName": "林志偉",
      "userId": "13117312472561068650"
     },
     "user_tz": -480
    },
    "id": "PUfXNvgPuwsI",
    "outputId": "ffdd6619-d8af-450a-d91e-73f96370f23e"
   },
   "outputs": [],
   "source": [
    "df['area'].unique()\n",
    "df.value_counts('area')"
   ]
  },
  {
   "cell_type": "code",
   "execution_count": null,
   "metadata": {
    "colab": {
     "base_uri": "https://localhost:8080/",
     "height": 178
    },
    "executionInfo": {
     "elapsed": 320,
     "status": "ok",
     "timestamp": 1730275779211,
     "user": {
      "displayName": "林志偉",
      "userId": "13117312472561068650"
     },
     "user_tz": -480
    },
    "id": "_H5XSBlM3gY_",
    "outputId": "cb0c6768-38b5-4b07-e820-d55d4297eb80"
   },
   "outputs": [],
   "source": [
    "df['age'].mean() # 全部年齡的平均值\n",
    "df.groupby('gender')['age'].mean() # 分開男女生的平均年齡\n",
    "df.groupby('area')['id'].count() # 客戶中住各區的人數"
   ]
  },
  {
   "cell_type": "code",
   "execution_count": null,
   "metadata": {
    "colab": {
     "base_uri": "https://localhost:8080/",
     "height": 143
    },
    "executionInfo": {
     "elapsed": 354,
     "status": "ok",
     "timestamp": 1730275898518,
     "user": {
      "displayName": "林志偉",
      "userId": "13117312472561068650"
     },
     "user_tz": -480
    },
    "id": "HFQsp8Ks30z3",
    "outputId": "7da33e63-00ce-4941-b774-c619b8e36642"
   },
   "outputs": [],
   "source": [
    "#彙總統計：agg(), 客戶中男女生的平均年齡、最年長及最年輕的年齡\n",
    "df.groupby('gender')['age'].agg(['mean', 'max', 'min'])\n",
    "df.groupby('gender')['age'].mean()\n",
    "df.groupby('gender')['age'].max()\n",
    "df.groupby('gender')['age'].min()"
   ]
  },
  {
   "cell_type": "markdown",
   "metadata": {},
   "source": [
    "### Derive new column"
   ]
  },
  {
   "cell_type": "code",
   "execution_count": null,
   "metadata": {
    "id": "rgtpHYoWvM9-"
   },
   "outputs": [],
   "source": [
    "def get_last_name(full_name):\n",
    "    return full_name[0]\n",
    "\n",
    "df['last_name'] = df['name'].apply(get_last_name)\n",
    "df"
   ]
  },
  {
   "cell_type": "markdown",
   "metadata": {},
   "source": [
    "## Visualize data"
   ]
  },
  {
   "cell_type": "markdown",
   "metadata": {},
   "source": [
    "### 顯示中文"
   ]
  },
  {
   "cell_type": "code",
   "execution_count": null,
   "metadata": {},
   "outputs": [],
   "source": [
    "from matplotlib import pyplot as plt\n",
    "plt.rcParams['font.sans-serif']=['Heiti TC'] #設定中文字型 Heiti TC"
   ]
  },
  {
   "cell_type": "markdown",
   "metadata": {},
   "source": [
    "### Draw plot"
   ]
  },
  {
   "cell_type": "code",
   "execution_count": null,
   "metadata": {},
   "outputs": [],
   "source": [
    "df_job = df['job'].value_counts() # 計算各職業人數\n",
    "df_job.plot(kind='bar')\n",
    "df_job"
   ]
  },
  {
   "cell_type": "code",
   "execution_count": null,
   "metadata": {},
   "outputs": [],
   "source": [
    "df_gender = df['gender'].value_counts()\n",
    "df_gender.plot(kind='pie', autopct='%5.1f%%')\n",
    "# df_gender.plot.pie(autopct='%5.1f%%')\n",
    "df_gender\n"
   ]
  },
  {
   "cell_type": "code",
   "execution_count": null,
   "metadata": {},
   "outputs": [],
   "source": [
    "df['age'].plot(kind='hist', bins=5)"
   ]
  },
  {
   "cell_type": "code",
   "execution_count": null,
   "metadata": {},
   "outputs": [],
   "source": [
    "df.plot(kind = 'box', column='age', by='gender')"
   ]
  }
 ],
 "metadata": {
  "colab": {
   "collapsed_sections": [
    "kxgoWZjYVvgi"
   ],
   "provenance": [],
   "toc_visible": true
  },
  "kernelspec": {
   "display_name": ".venv",
   "language": "python",
   "name": "python3"
  },
  "language_info": {
   "codemirror_mode": {
    "name": "ipython",
    "version": 3
   },
   "file_extension": ".py",
   "mimetype": "text/x-python",
   "name": "python",
   "nbconvert_exporter": "python",
   "pygments_lexer": "ipython3",
   "version": "3.13.5"
  }
 },
 "nbformat": 4,
 "nbformat_minor": 0
}
