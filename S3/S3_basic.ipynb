{
 "cells": [
  {
   "cell_type": "code",
   "execution_count": null,
   "metadata": {},
   "outputs": [],
   "source": [
    "import boto3"
   ]
  },
  {
   "cell_type": "code",
   "execution_count": null,
   "metadata": {},
   "outputs": [],
   "source": [
    "s3_client = boto3.client('s3', aws_access_key_id='your key id here', aws_secret_access_key='your access key here')"
   ]
  },
  {
   "cell_type": "code",
   "execution_count": null,
   "metadata": {},
   "outputs": [],
   "source": [
    "def list_bucket() :\n",
    "# Step1: Tell Boto3 that the service used is s3\n",
    "# Step2: Get list of buckets\n",
    "# Step3: Iterate over the list of buckets\n",
    "53_client = boto3.client('s3')\n",
    "response = s3_client.list_buckets)\n",
    "print('These are buckets accessible by your credentials:')\n",
    "for bucket in response[ 'Buckets']:\n",
    "print(f' {bucket [\"Name\"]}')"
   ]
  },
  {
   "cell_type": "code",
   "execution_count": null,
   "metadata": {},
   "outputs": [],
   "source": [
    "response = s3_client.list_objects_v2(Bucket='nycu-bigdata-class')\n",
    "\n",
    "# 打印存儲桶中的文件名\n",
    "if 'Contents' in response:\n",
    "    for obj in response['Contents']:\n",
    "        print(obj['Key'])"
   ]
  },
  {
   "cell_type": "code",
   "execution_count": null,
   "metadata": {},
   "outputs": [],
   "source": [
    "response = s3_client.get_object(Bucket='nycu-bigdata-class', Key='car.txt')\n",
    "object_content = response['Body'].read().decode('utf-8')\n",
    "print(object_content)\n",
    "for key, value in response.items():\n",
    "    print(key, '-->', value)\n",
    "# # 打印存儲桶中的文件名\n",
    "# if 'Contents' in response:\n",
    "#     for obj in response['Contents']:\n",
    "#         print(obj['Key'])"
   ]
  },
  {
   "cell_type": "code",
   "execution_count": null,
   "metadata": {},
   "outputs": [],
   "source": [
    "True and True or False"
   ]
  }
 ],
 "metadata": {
  "kernelspec": {
   "display_name": ".venv",
   "language": "python",
   "name": "python3"
  },
  "language_info": {
   "codemirror_mode": {
    "name": "ipython",
    "version": 3
   },
   "file_extension": ".py",
   "mimetype": "text/x-python",
   "name": "python",
   "nbconvert_exporter": "python",
   "pygments_lexer": "ipython3",
   "version": "3.12.6"
  }
 },
 "nbformat": 4,
 "nbformat_minor": 2
}
