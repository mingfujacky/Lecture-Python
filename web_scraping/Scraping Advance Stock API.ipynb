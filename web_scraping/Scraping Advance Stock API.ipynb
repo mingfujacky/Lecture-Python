{
 "cells": [
  {
   "cell_type": "markdown",
   "id": "dde4c3d1-349c-47c9-9f30-ebdccb4e42b6",
   "metadata": {},
   "source": [
    "### 使用證交所所提供的API進行數據蒐集\n",
    "ALL API --> https://openapi.twse.com.tw/v1/swagger.json  \n",
    "上市個股日成交資訊 API --> https://openapi.twse.com.tw/v1/exchangeReport/STOCK_DAY_ALL"
   ]
  },
  {
   "cell_type": "markdown",
   "id": "260c36d4-1cac-441b-bdc2-89a4fc98a116",
   "metadata": {},
   "source": [
    "### Import libraries"
   ]
  },
  {
   "cell_type": "code",
   "execution_count": null,
   "id": "33f85e9a-45ba-44f7-a765-88ee7ce6ce6d",
   "metadata": {},
   "outputs": [],
   "source": [
    "import requests\n",
    "import json\n",
    "import pandas as pd\n",
    "from matplotlib import pyplot as plt"
   ]
  },
  {
   "cell_type": "markdown",
   "id": "09cf24bd-7435-4898-a52f-6056177c988c",
   "metadata": {},
   "source": [
    "### Get data"
   ]
  },
  {
   "cell_type": "code",
   "execution_count": null,
   "id": "ae799c77-646e-472f-851b-71b5396f09c4",
   "metadata": {},
   "outputs": [],
   "source": [
    "# 定義證交所 API 的 URL\n",
    "url = 'https://openapi.twse.com.tw/v1/exchangeReport/STOCK_DAY_ALL'  \n",
    "# 發送GET請求\n",
    "response = requests.get(url)  \n",
    "if response.status_code == 200:\n",
    "    print('Request was successful!')\n",
    "    print('Last modified: ' + response.headers['last-modified'])\n",
    "else:\n",
    "    print('Request failed with status code:', response.status_code)\n",
    "\n",
    "# load data as json format\n",
    "jsondata = json.loads(response.text)"
   ]
  },
  {
   "cell_type": "markdown",
   "id": "32d10f3a-a5af-4bda-a243-d2acf74953a5",
   "metadata": {
    "jp-MarkdownHeadingCollapsed": true
   },
   "source": [
    "### 欄位定義"
   ]
  },
  {
   "cell_type": "markdown",
   "id": "c7473944-388b-4cf0-8c42-9f145874270a",
   "metadata": {},
   "source": [
    "Field        | Type     | Subject\n",
    "-------------|----------|---------\n",
    "Code\t     |string    |證券代號\n",
    "Name\t     |string    |證券名稱\n",
    "TradeVolume\t |string    |成交股數\n",
    "TradeValue\t |string    |成交金額\n",
    "OpeningPrice |string    |開盤價\n",
    "HighestPrice |string    |最高價\n",
    "LowestPrice\t |string    |最低價\n",
    "ClosingPrice |string    |收盤價\n",
    "Change\t     |string    |漲跌價差\n",
    "Transaction\t |string    |成交筆數"
   ]
  },
  {
   "cell_type": "markdown",
   "id": "d408885d-3657-45bb-94f0-8a46b3596bb7",
   "metadata": {},
   "source": [
    "### 使用 dataframe 清理資料"
   ]
  },
  {
   "cell_type": "code",
   "execution_count": null,
   "id": "f1fc91f1-043d-48f4-bfb7-9def6347f18d",
   "metadata": {},
   "outputs": [],
   "source": [
    "# 將JSON數據轉換為DataFrame\n",
    "df = pd.DataFrame(jsondata)\n",
    "# 將\"Code\"列設置為索引\n",
    "df.set_index(\"Code\", inplace=True)\n",
    "# 將空字符串替換為'0'\n",
    "df.replace('', '0', inplace=True)\n",
    "#將除了\"Name\"列以外的所有列轉換為浮點數\n",
    "df[df.columns.difference(['Name'])] = df[df.columns.difference(['Name'])].astype(float)"
   ]
  },
  {
   "cell_type": "markdown",
   "id": "a92f8352-1994-4117-b77c-95aef354ab7e",
   "metadata": {},
   "source": [
    "### 按收盤價排序並選取前10大收盤價的股票"
   ]
  },
  {
   "cell_type": "code",
   "execution_count": null,
   "id": "9d8b3492-6963-41cc-9bcc-bf3ff0580409",
   "metadata": {},
   "outputs": [],
   "source": [
    "top10_closing = df.nlargest(10, 'ClosingPrice')\n",
    "\n",
    "# 視覺化\n",
    "plt.rcParams['font.sans-serif'] = ['Heiti TC'] # 修改中文字體\n",
    "plt.rcParams['axes.unicode_minus'] = False # 顯示ASCII負號, NOT unicode 負號\n",
    "plt.figure(figsize=(15, 6))\n",
    "bars = plt.bar(top10_closing['Name'], top10_closing['ClosingPrice'], color='skyblue')\n",
    "plt.title('Top 10 Closing Prices',fontsize=20)\n",
    "plt.xlabel('Stock Name',fontsize=20)\n",
    "plt.ylabel('Closing Price',fontsize=20)\n",
    "plt.xticks(fontsize=20)\n",
    "# 在每個條形圖上顯示對應的股價\n",
    "for bar in bars:\n",
    "    yval = bar.get_height()\n",
    "    plt.text(bar.get_x() + bar.get_width()/2, yval, round(yval, 2), ha='center', va='bottom', fontsize=12)"
   ]
  },
  {
   "cell_type": "code",
   "execution_count": null,
   "id": "1b412849-5e93-4510-9ff2-ae4fe2cc6f32",
   "metadata": {},
   "outputs": [],
   "source": []
  }
 ],
 "metadata": {
  "kernelspec": {
   "display_name": ".venv",
   "language": "python",
   "name": "python3"
  },
  "language_info": {
   "codemirror_mode": {
    "name": "ipython",
    "version": 3
   },
   "file_extension": ".py",
   "mimetype": "text/x-python",
   "name": "python",
   "nbconvert_exporter": "python",
   "pygments_lexer": "ipython3",
   "version": "3.13.1"
  }
 },
 "nbformat": 4,
 "nbformat_minor": 5
}
