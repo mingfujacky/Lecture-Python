{
 "cells": [
  {
   "cell_type": "markdown",
   "metadata": {},
   "source": [
    "## Requests Library\n",
    "- Download CSV and image file"
   ]
  },
  {
   "cell_type": "markdown",
   "metadata": {},
   "source": [
    "## Step1: 讀取遠端資料"
   ]
  },
  {
   "cell_type": "markdown",
   "metadata": {},
   "source": [
    "- 新竹市公共自行車租賃系統(YouBike2.0): https://data.gov.tw/dataset/67781\n",
    "1. YouBike 站點名稱、緯度、經度、圖片、站點位置: https://odws.hccg.gov.tw/001/Upload/25/opendataback/9059/59/5776ed30-fa3c-48f4-9876-d8fb28df0501.csv\n",
    "2. YouBike 使用人次: https://odws.hccg.gov.tw/001/Upload/25/opendataback/9059/105/493866bb-b21a-44f6-93c9-2f7adc3be4bf.csv"
   ]
  },
  {
   "cell_type": "code",
   "execution_count": null,
   "metadata": {},
   "outputs": [],
   "source": [
    "import requests\n",
    "url = 'https://odws.hccg.gov.tw/001/Upload/25/opendataback/9059/59/5776ed30-fa3c-48f4-9876-d8fb28df0501.csv'\n",
    "response = requests.get(url)\n",
    "print(response.status_code)  # status_code: 200 代表成功 404 代表失敗\n",
    "# response.encoding = 'utf-8'  # 如果回傳亂碼，可以設定編碼試試看"
   ]
  },
  {
   "cell_type": "code",
   "execution_count": null,
   "metadata": {},
   "outputs": [],
   "source": [
    "print(response.text)"
   ]
  },
  {
   "cell_type": "markdown",
   "metadata": {},
   "source": [
    "## Step2: 下載CSV檔案到本地端"
   ]
  },
  {
   "cell_type": "code",
   "execution_count": null,
   "metadata": {},
   "outputs": [],
   "source": [
    "from pathlib import Path\n",
    "path = Path.cwd() / '..' / 'csv' / '新竹市_YouBike_站點名稱.csv'\n",
    "with open(path, 'w', encoding='utf-8') as f:\n",
    "    f.write(response.text)"
   ]
  },
  {
   "cell_type": "markdown",
   "metadata": {},
   "source": [
    "## Step3: 下載YouBike站點照片"
   ]
  },
  {
   "cell_type": "code",
   "execution_count": null,
   "metadata": {},
   "outputs": [],
   "source": [
    "import csv\n",
    "import requests\n",
    "from pathlib import Path\n",
    "\n",
    "csv_path = Path.cwd() / '..' / 'csv' / '新竹市_YouBike_站點名稱.csv'\n",
    "stations = []  # 每一個element是一個tuple，儲存圖片檔名以及圖片URL\n",
    "with open(csv_path, 'r', encoding='utf-8') as file:\n",
    "    reader = csv.DictReader(file)\n",
    "    # header_row = reader.fieldnames\n",
    "    for row in reader:\n",
    "        station_name = row['站點名稱']+'.jpg'\n",
    "        station_img_url = row['圖片']\n",
    "        stations.append((station_name, station_img_url)) \n",
    "print(stations)          # 印出所有站點的圖片檔名以及圖片URL"
   ]
  },
  {
   "cell_type": "code",
   "execution_count": null,
   "metadata": {},
   "outputs": [],
   "source": [
    "\n",
    "for station in stations:\n",
    "    url = station[1]\n",
    "    if url != '':\n",
    "        r = requests.get(url)\n",
    "        if r.status_code == 200:\n",
    "            img_path = Path.cwd() / '..' / 'images' / '新竹市_YouBike_image' / station[0]\n",
    "        with open(img_path, 'wb') as file:\n",
    "            file.write(r.content)"
   ]
  },
  {
   "cell_type": "markdown",
   "metadata": {},
   "source": [
    "## Step4: 下載網頁圖片"
   ]
  },
  {
   "cell_type": "code",
   "execution_count": null,
   "metadata": {},
   "outputs": [],
   "source": [
    "# with open method\n",
    "url = \"https://img.youtube.com/vi/qo3H-VgXmHE/sddefault.jpg\"\n",
    "img_path = Path.cwd() / 'demo_source_files' / '九天玄女.jpg'\n",
    "r = requests.get(url)\n",
    "with open(img_path, 'wb') as file:\n",
    "    file.write(r.content)"
   ]
  },
  {
   "cell_type": "code",
   "execution_count": null,
   "metadata": {},
   "outputs": [],
   "source": [
    "# wget method\n",
    "# !wget -O ./demo_source_files/google.png https://www.google.com/images/branding/googlelogo/1x/googlelogo_color_272x92dp.png\n",
    "# !wget -O ./demo_source_files/nycu_laser.png https://it.stem.lasercenter.nycu.edu.tw/img/lasercenter_nycu_logo.png"
   ]
  },
  {
   "cell_type": "code",
   "execution_count": null,
   "metadata": {},
   "outputs": [],
   "source": []
  },
  {
   "cell_type": "markdown",
   "metadata": {},
   "source": [
    "## Lab"
   ]
  },
  {
   "cell_type": "markdown",
   "metadata": {},
   "source": [
    "1. 下載新竹縣政府警察局固定測速地點表 (https://ws.hsinchu.gov.tw/001/Upload/1/opendata/8774/297/7b30f0da-06f9-45d1-9b20-fde41cdd7616.csv)  \n",
    "2. 下載 NYCU 校徽"
   ]
  },
  {
   "cell_type": "markdown",
   "metadata": {},
   "source": []
  }
 ],
 "metadata": {
  "kernelspec": {
   "display_name": ".venv",
   "language": "python",
   "name": "python3"
  },
  "language_info": {
   "codemirror_mode": {
    "name": "ipython",
    "version": 3
   },
   "file_extension": ".py",
   "mimetype": "text/x-python",
   "name": "python",
   "nbconvert_exporter": "python",
   "pygments_lexer": "ipython3",
   "version": "3.13.0"
  }
 },
 "nbformat": 4,
 "nbformat_minor": 2
}
