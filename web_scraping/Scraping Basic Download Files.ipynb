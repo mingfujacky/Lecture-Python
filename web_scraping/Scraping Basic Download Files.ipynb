{
 "cells": [
  {
   "cell_type": "markdown",
   "metadata": {},
   "source": [
    "## Requests Library\n",
    "- Download CSV and image file"
   ]
  },
  {
   "cell_type": "markdown",
   "metadata": {},
   "source": [
    "## Step1: 讀取遠端資料"
   ]
  },
  {
   "cell_type": "markdown",
   "metadata": {},
   "source": [
    "- 新竹市公共自行車租賃系統(YouBike2.0): https://data.gov.tw/dataset/67781\n",
    "1. YouBike 站點名稱、緯度、經度、圖片、站點位置: https://odws.hccg.gov.tw/001/Upload/25/opendataback/9059/59/5776ed30-fa3c-48f4-9876-d8fb28df0501.csv\n",
    "2. YouBike 使用人次: https://odws.hccg.gov.tw/001/Upload/25/opendataback/9059/105/493866bb-b21a-44f6-93c9-2f7adc3be4bf.csv"
   ]
  },
  {
   "cell_type": "code",
   "execution_count": null,
   "metadata": {},
   "outputs": [],
   "source": [
    "import requests\n",
    "url = 'https://odws.hccg.gov.tw/001/Upload/25/opendataback/9059/59/5776ed30-fa3c-48f4-9876-d8fb28df0501.csv'\n",
    "response = requests.get(url)\n",
    "print(response.status_code)  # status_code: 200 代表成功 404 代表失敗\n",
    "# response.encoding = 'utf-8'  # 如果回傳亂碼，可以設定編碼試試看"
   ]
  },
  {
   "cell_type": "code",
   "execution_count": null,
   "metadata": {},
   "outputs": [],
   "source": [
    "print(response.text)"
   ]
  },
  {
   "cell_type": "markdown",
   "metadata": {},
   "source": [
    "## Step2: 下載CSV檔案到本地端"
   ]
  },
  {
   "cell_type": "code",
   "execution_count": 3,
   "metadata": {},
   "outputs": [],
   "source": [
    "from pathlib import Path\n",
    "path = Path.cwd() / '..' / 'csv' / '新竹市_YouBike_站點名稱.csv'\n",
    "with open(path, 'w', encoding='utf-8') as f:\n",
    "    f.write(response.text)"
   ]
  },
  {
   "cell_type": "markdown",
   "metadata": {},
   "source": [
    "## Step3: 下載YouBike站點照片"
   ]
  },
  {
   "cell_type": "code",
   "execution_count": null,
   "metadata": {},
   "outputs": [
    {
     "name": "stdout",
     "output_type": "stream",
     "text": [
      "[('北新竹火車站(新竹高工).jpg', 'https://odws.hccg.gov.tw/001/Upload/25/relpic/9059/59/d01089db-9367-41a1-a9c6-4d38e3ab125a.jpg'), ('明志書院立體停車場.jpg', 'https://odws.hccg.gov.tw/001/Upload/25/relpic/9059/59/d1eed034-e654-4769-b8d5-41816698a8dd.jpg'), ('十八尖山(新竹高商).jpg', 'https://odws.hccg.gov.tw/001/Upload/25/relpic/9059/59/7afd88ee-f5cf-43a7-a41f-029e1d763700.jpg'), ('清華大學(小吃部).jpg', 'https://odws.hccg.gov.tw/001/Upload/25/relpic/9059/59/3a6af678-376f-4e06-96c1-51bb0309414f.jpg'), ('陽明交通大學(大學路).jpg', 'https://odws.hccg.gov.tw/001/Upload/25/relpic/9059/59/220dace9-a5e8-4d0c-894f-df0e0348e498.jpg'), ('陽明交通大學(逐風廣場).jpg', 'https://odws.hccg.gov.tw/001/Upload/25/relpic/9059/59/bd921708-39b2-4f7c-bd4d-da7f1d803b34.jpg'), ('新竹轉運站.jpg', 'https://odws.hccg.gov.tw/001/Upload/25/relpic/9059/59/57555c6f-b8b4-458e-844c-3d52686954d8.jpg'), ('清華大學(北校門).jpg', 'https://odws.hccg.gov.tw/001/Upload/25/relpic/9059/59/6e10e2dd-d36e-4fdc-a1a5-38166438ae04.jpg'), ('新竹馬偕紀念醫院.jpg', 'https://odws.hccg.gov.tw/001/Upload/25/relpic/9059/59/c6c00732-6114-4a8b-9577-36b8114b4af1.jpg'), ('經國民生路口.jpg', 'https://odws.hccg.gov.tw/001/Upload/25/relpic/9059/59/77af0532-191f-4d1f-bfd7-d850202f3491.jpg'), ('建國公園(城隍廟).jpg', 'https://odws.hccg.gov.tw/001/Upload/25/relpic/9059/59/d1d28818-4514-42ea-9b7c-b634caa72b65.jpg'), ('新竹三民公園.jpg', 'https://odws.hccg.gov.tw/001/Upload/25/relpic/9059/59/98e86f7e-3004-4767-bb14-df2bb463f14d.jpg'), ('天公壇.jpg', 'https://odws.hccg.gov.tw/001/Upload/25/relpic/9059/59/4d343ab9-d7cd-4161-a2a6-f306be796b22.jpg'), ('新竹棒球場.jpg', 'https://odws.hccg.gov.tw/001/Upload/25/relpic/9059/59/910d4bd4-c498-4637-8b86-72068f65ef6a.jpg'), ('新竹市政府.jpg', 'https://odws.hccg.gov.tw/001/Upload/25/relpic/9059/59/63cdf5ef-d041-4fbf-b80d-6ecbeae5fc85.jpg'), ('辛志平校長故居.jpg', 'https://odws.hccg.gov.tw/001/Upload/25/relpic/9059/59/8cf6c9a0-da0a-4e7b-8537-267d9034d7a8.jpg'), ('光復關新路口.jpg', 'https://odws.hccg.gov.tw/001/Upload/25/relpic/9059/59/d3e82058-fdc9-4bb6-8871-3f5becfd9167.jpg'), ('新莊火車站.jpg', 'https://odws.hccg.gov.tw/001/Upload/25/relpic/9059/59/c9f2c08a-23b8-4edf-b0b7-2c260cadc6a9.jpg'), ('清華大學(台達館).jpg', 'https://odws.hccg.gov.tw/001/Upload/25/relpic/9059/59/6463ee4f-0a96-4382-8d67-2a8ae1661665.jpg'), ('湳雅公園.jpg', 'https://odws.hccg.gov.tw/001/Upload/25/relpic/9059/59/41a7a692-5045-45b9-a390-65e5d0a9857c.jpg'), ('新竹公園(公園路).jpg', 'https://odws.hccg.gov.tw/001/Upload/25/relpic/9059/59/0b104f1d-cba2-42f0-9d8c-1a3e3aa39ac9.jpg'), ('香山國小.jpg', 'https://odws.hccg.gov.tw/001/Upload/25/relpic/9059/59/a46efa53-d66f-4812-8585-6f8265c51b76.jpg'), ('樹林頭公園.jpg', 'https://odws.hccg.gov.tw/001/Upload/25/relpic/9059/59/a08bb292-ce49-4d5f-84a9-a8a3e1f26c96.jpg'), ('新竹和平公園.jpg', 'https://odws.hccg.gov.tw/001/Upload/25/relpic/9059/59/6617b2ba-cd04-4c49-9564-bcb0075a0c5f.jpg'), ('虎林棒球場.jpg', 'https://odws.hccg.gov.tw/001/Upload/25/relpic/9059/59/6d16bc93-f2a5-4c26-8fa7-0e7438ff32fb.jpg'), ('大庄國小.jpg', 'https://odws.hccg.gov.tw/001/Upload/25/relpic/9059/59/d93d243f-de65-4255-825d-a75df913b1c7.jpg'), ('新源建功一路口.jpg', 'https://odws.hccg.gov.tw/001/Upload/25/relpic/9059/59/8f59f5bf-6086-4600-be47-697035d8c735.jpg'), ('綠光公園.jpg', 'https://odws.hccg.gov.tw/001/Upload/25/relpic/9059/59/f96d21f3-a9ba-44d3-b0b1-73f1a30307fd.jpg'), ('竹蓮寺.jpg', 'https://odws.hccg.gov.tw/001/Upload/25/relpic/9059/59/53384fb0-33e4-48aa-bf13-3ec3b4d472f6.jpg'), ('千甲火車站.jpg', 'https://odws.hccg.gov.tw/001/Upload/25/relpic/9059/59/3852c649-6572-4f2e-bceb-368432f7f744.jpg'), ('三姓橋火車站.jpg', 'https://odws.hccg.gov.tw/001/Upload/25/relpic/9059/59/5d8d4095-d937-48f9-a2ff-9e29709f6165.jpg'), ('香山火車站.jpg', 'https://odws.hccg.gov.tw/001/Upload/25/relpic/9059/59/76bef51e-4a67-4275-afc7-84da1b75ad9f.jpg'), ('元培醫事科技大學.jpg', 'https://odws.hccg.gov.tw/001/Upload/25/relpic/9059/59/5350d37d-85ac-4669-b3db-a5a3d6d302cd.jpg'), ('新莊公園.jpg', 'https://odws.hccg.gov.tw/001/Upload/25/relpic/9059/59/540a9270-5a26-4154-90d3-e102a27b7d7d.jpg'), ('東大武陵路口.jpg', 'https://odws.hccg.gov.tw/001/Upload/25/relpic/9059/59/730c85a5-52d3-432c-a495-ef23759815bd.jpg'), ('青草湖(煙波大飯店).jpg', 'https://odws.hccg.gov.tw/001/Upload/25/relpic/9059/59/aaf275e8-09f9-4071-a5d1-e2e92e75e67a.jpg'), ('新竹市文化局.jpg', 'https://odws.hccg.gov.tw/001/Upload/25/relpic/9059/59/b7580637-441b-47b5-b61e-9eb42254b1a9.jpg'), ('延平停車場.jpg', 'https://odws.hccg.gov.tw/001/Upload/25/relpic/9059/59/f428b4b4-2e6b-46a7-b330-38406361045d.jpg'), ('北區區公所.jpg', 'https://odws.hccg.gov.tw/001/Upload/25/relpic/9059/59/8d7d4297-790a-4101-bf7d-558c48c85234.jpg'), ('金山街(集福宮).jpg', 'https://odws.hccg.gov.tw/001/Upload/25/relpic/9059/59/da0f1e73-18f9-4d07-ada4-301b132d50d2.jpg'), ('國賓大飯店.jpg', 'https://odws.hccg.gov.tw/001/Upload/25/relpic/9059/59/5d51d3c1-da58-4f52-8b6c-22070bc79058.jpg'), ('赤土崎公園.jpg', 'https://odws.hccg.gov.tw/001/Upload/25/relpic/9059/59/13770fb7-6031-430a-84c3-298415162a24.jpg'), ('新竹火車站(前站).jpg', 'https://odws.hccg.gov.tw/001/Upload/25/relpic/9059/59/fdf4c0a0-5a02-47fd-9dae-92734ab5abf9.jpg'), ('東門圓環.jpg', 'https://odws.hccg.gov.tw/001/Upload/25/relpic/9059/59/77e5ad62-e66b-4228-aed0-7f5cdee4021f.jpg'), ('中正北大路口.jpg', 'https://odws.hccg.gov.tw/001/Upload/25/relpic/9059/59/3637fc0d-10ca-438e-a3cd-8b45d6d55fb8.jpg'), ('遠東巨城購物中心.jpg', 'https://odws.hccg.gov.tw/001/Upload/25/relpic/9059/59/6f93f05b-7ba1-4820-8f2e-0bd38280c722.jpg'), ('清華大學（南大校區）.jpg', 'https://odws.hccg.gov.tw/001/Upload/25/relpic/9059/59/f82b7de8-6a71-48e5-a5d0-520a8691d6ce.jpg'), ('新竹動物園.jpg', 'https://odws.hccg.gov.tw/001/Upload/25/relpic/9059/59/886e7c77-6048-4982-a22a-ab5690efabf7.jpg'), ('陽明交通大學(研三舍).jpg', 'https://odws.hccg.gov.tw/001/Upload/25/relpic/9059/59/34719796-5974-43e5-b4bd-cf20256a39d2.jpg'), ('幸福城邦.jpg', 'https://odws.hccg.gov.tw/001/Upload/25/relpic/9059/59/e6a91173-0c85-4a21-99c5-db6c3b00f58a.jpg'), ('新竹高中.jpg', 'https://odws.hccg.gov.tw/001/Upload/25/relpic/9059/59/8c051e28-241c-4b1b-90d9-07884446f119.jpg'), ('竹蓮國小.jpg', 'https://odws.hccg.gov.tw/001/Upload/25/relpic/9059/59/1e44a68b-ea03-4a0e-8e94-50ac6158094f.jpg'), ('一品公園.jpg', 'https://odws.hccg.gov.tw/001/Upload/25/relpic/9059/59/ae0bfeb9-b997-4144-83c0-5b1cbcc99e65.jpg'), ('北新竹火車站(後站).jpg', 'https://odws.hccg.gov.tw/001/Upload/25/relpic/9059/59/8eb12e4f-4607-427f-998a-6cbfec75ecaa.jpg'), ('中華路一段(頭前溪左岸出入口).jpg', 'https://odws.hccg.gov.tw/001/Upload/25/relpic/9059/59/3495497f-6688-4c88-bf82-33439afec765.jpg'), ('舊社出入口停車場.jpg', 'https://odws.hccg.gov.tw/001/Upload/25/relpic/9059/59/3b8c4031-ade9-4776-96b5-d1168cdcf7e2.jpg'), ('古賢出入口-舊港橋下.jpg', 'https://odws.hccg.gov.tw/001/Upload/25/relpic/9059/59/793c6378-cf56-4d59-b148-357f47cf27b9.jpg'), ('港南濱海風景區.jpg', 'https://odws.hccg.gov.tw/001/Upload/25/relpic/9059/59/397e02ff-bb59-4a82-8b0f-08546f9b232c.jpg'), ('香山天后宮.jpg', 'https://odws.hccg.gov.tw/001/Upload/25/relpic/9059/59/c6621dde-b773-4b6b-8ed8-56c9af33b225.jpg'), ('南港賞鳥區.jpg', 'https://odws.hccg.gov.tw/001/Upload/25/relpic/9059/59/dffa90f1-2d3b-4832-9c38-0fab97fe4d1a.jpg'), ('新科國民運動中心(新科國中).jpg', 'https://odws.hccg.gov.tw/001/Upload/25/relpic/9059/59/e3e6273b-fb5a-4991-9b1c-d5ab125a06fa.jpg'), ('建功高中.jpg', 'https://odws.hccg.gov.tw/001/Upload/25/relpic/9059/59/faa843d0-53bb-4ce6-b54a-ac8dbf8e6e8c.jpg'), ('世界高中(介壽路).jpg', 'https://odws.hccg.gov.tw/001/Upload/25/relpic/9059/59/835a6260-246d-4f8f-bde4-fa330915ce99.jpg'), ('兒童探索館.jpg', 'https://odws.hccg.gov.tw/001/Upload/25/relpic/9059/59/89a45a56-2ac8-44dc-a596-a6689c8a7bda.jpg'), ('台大新竹分院.jpg', 'https://odws.hccg.gov.tw/001/Upload/25/relpic/9059/59/34e615e1-1696-476a-8167-c4b3e0a99c45.jpg'), ('賞蟹步道.jpg', 'https://odws.hccg.gov.tw/001/Upload/25/relpic/9059/59/852812a0-e460-4a4b-a1ab-635d6323950d.jpg'), ('育賢國中.jpg', 'https://odws.hccg.gov.tw/001/Upload/25/relpic/9059/59/13ea24aa-327b-4cdc-a3ff-124122043010.jpg'), ('民富國小.jpg', 'https://odws.hccg.gov.tw/001/Upload/25/relpic/9059/59/1b258dac-ee2f-4079-86b4-76a8e3dfa7f1.jpg'), ('慈雲路停車場.jpg', 'https://odws.hccg.gov.tw/001/Upload/25/relpic/9059/59/de1bd058-3b78-4e30-a4b2-a34614c3e08d.jpg'), ('竹光國中(竹光國民運動中心).jpg', 'https://odws.hccg.gov.tw/001/Upload/25/relpic/9059/59/f89660c9-d8bd-4f8b-8e33-f3745c4b670a.jpg'), ('光武國中站(光復路).jpg', 'https://odws.hccg.gov.tw/001/Upload/25/relpic/9059/59/91834258-3e23-4b8e-9a97-2a63ec6c91a5.jpg'), ('關埔國小站(慈濟路).jpg', 'https://odws.hccg.gov.tw/001/Upload/25/relpic/9059/59/c3cbd303-bbef-40e0-9f48-4a6ed115874f.jpg'), ('關埔公園.jpg', 'https://odws.hccg.gov.tw/001/Upload/25/relpic/9059/59/707d3d09-b1d0-4925-bffb-f24977ab82c1.jpg'), ('慈濟埔頂一路口.jpg', 'https://odws.hccg.gov.tw/001/Upload/25/relpic/9059/59/80cc514e-102d-4036-a434-336d6c4a7a89.jpg'), ('科園社區龍山圖書館.jpg', 'https://odws.hccg.gov.tw/001/Upload/25/relpic/9059/59/004cc50b-8c65-4791-8cff-da6a886fc24f.jpg'), ('將軍村停車場.jpg', 'https://odws.hccg.gov.tw/001/Upload/25/relpic/9059/59/4c8175a1-48a4-4559-ae26-bb5e34b105ab.jpg'), ('經濟部經貿人員培訓所.jpg', 'https://odws.hccg.gov.tw/001/Upload/25/relpic/9059/59/2278b99e-1f03-4b42-a521-1b68d5159bc4.jpg'), ('金山十八街停車場.jpg', 'https://odws.hccg.gov.tw/001/Upload/25/relpic/9059/59/adc134fe-a84e-4088-9893-08c5eb72ca7d.jpg'), ('公道五交流道口.jpg', 'https://odws.hccg.gov.tw/001/Upload/25/relpic/9059/59/e43208f4-042e-40bf-b95f-7a6f2275d920.jpg'), ('清大夜市.jpg', 'https://odws.hccg.gov.tw/001/Upload/25/relpic/9059/59/3ce51119-b4a7-4b15-aa06-4522ef0382d6.jpg'), ('工研院光復院區.jpg', 'https://odws.hccg.gov.tw/001/Upload/25/relpic/9059/59/2948581f-4f57-4d3d-994b-e108792672cd.jpg'), ('芙洛麗大飯店(新竹女中).jpg', 'https://odws.hccg.gov.tw/001/Upload/25/relpic/9059/59/9735c73b-6737-4707-b8c6-23ceeee4e906.jpg'), ('公道五建中路口.jpg', 'https://odws.hccg.gov.tw/001/Upload/25/relpic/9059/59/379e074e-8fb7-4c8a-828a-09a92c6e390a.jpg'), ('明湖里社區公園.jpg', 'https://odws.hccg.gov.tw/001/Upload/25/relpic/9059/59/a528875a-a46c-487e-8fcf-9a9f9561a92f.jpg'), ('舊社國小.jpg', 'https://odws.hccg.gov.tw/001/Upload/25/relpic/9059/59/baf039fb-506c-46f1-b413-92fb3ae48290.jpg'), ('光華國中.jpg', 'https://odws.hccg.gov.tw/001/Upload/25/relpic/9059/59/2637fd15-5f97-4234-8ddf-c0fa07e19607.jpg'), ('中正成功路口.jpg', 'https://odws.hccg.gov.tw/001/Upload/25/relpic/9059/59/371fb6dd-9dc4-4407-8584-2b5acd52cd54.jpg'), ('延平竹光路口.jpg', 'https://odws.hccg.gov.tw/001/Upload/25/relpic/9059/59/fce20e83-c20b-4971-91c5-068f956ac71b.jpg'), ('長和公園.jpg', 'https://odws.hccg.gov.tw/001/Upload/25/relpic/9059/59/a1994210-bddb-4bc6-b287-311635926313.jpg'), ('虎林國小.jpg', 'https://odws.hccg.gov.tw/001/Upload/25/relpic/9059/59/491dc3ca-c855-45ca-8bc5-fae0c7be0e86.jpg'), ('玄奘大學.jpg', 'https://odws.hccg.gov.tw/001/Upload/25/relpic/9059/59/1a17076b-be43-41de-b1dc-e0146b42f64e.jpg'), ('埔前市民活動中心.jpg', 'https://odws.hccg.gov.tw/001/Upload/25/relpic/9059/59/dd880e8a-f425-4fc2-bbfe-36335dd68632.jpg'), ('陽明交通大學(博愛校區).jpg', 'https://odws.hccg.gov.tw/001/Upload/25/relpic/9059/59/2eb865b2-3fb3-4318-a56e-f4a97124c7ef.jpg'), ('經國自由路口.jpg', 'https://odws.hccg.gov.tw/001/Upload/25/relpic/9059/59/9e5546d5-cc78-44c9-813a-3ca05cadeee2.jpg'), ('新竹火車站(前站)_1.jpg', 'https://odws.hccg.gov.tw/001/Upload/25/relpic/9059/59/0ff9ba1c-6c37-42b0-ab77-7edd4538ebe4.jpg'), ('新竹市環境保護局(南寮溫水游泳池).jpg', 'https://odws.hccg.gov.tw/001/Upload/25/relpic/9059/59/e0870f4d-84af-41ea-8148-0e5d32030569.jpg'), ('金雅市民活動中心.jpg', 'https://odws.hccg.gov.tw/001/Upload/25/relpic/9059/59/f4be2b55-8a6e-4f25-9bb9-53a30c93e793.jpg'), ('磐石高中.jpg', 'https://odws.hccg.gov.tw/001/Upload/25/relpic/9059/59/0f3a289c-5f78-4174-add6-814e90d0516b.jpg'), ('新竹神社遺址(成德高中).jpg', 'https://odws.hccg.gov.tw/001/Upload/25/relpic/9059/59/bf5dcfb6-15d2-43fe-ad13-5f86fdb17984.jpg'), ('香山區行政大樓.jpg', 'https://odws.hccg.gov.tw/001/Upload/25/relpic/9059/59/cd3bef2d-3c2b-40ce-97b9-7d1a59076d2b.jpg'), ('慈濟新竹靜思堂.jpg', 'https://odws.hccg.gov.tw/001/Upload/25/relpic/9059/59/b4a0c17b-8ba4-4e6d-865b-dfe8fa83a5ce.jpg'), ('新竹馬偕紀念醫院(水源街).jpg', 'https://odws.hccg.gov.tw/001/Upload/25/relpic/9059/59/1cefb60b-30e2-4962-ace6-8e1b810550a7.jpg'), ('中華大學.jpg', 'https://odws.hccg.gov.tw/001/Upload/25/relpic/9059/59/3a4ab0c0-7c70-413c-9d5e-6ae58f3f5b56.jpg')]\n"
     ]
    }
   ],
   "source": [
    "import csv\n",
    "import requests\n",
    "from pathlib import Path\n",
    "\n",
    "csv_path = Path.cwd() / '..' / 'csv' / '新竹市_YouBike_站點名稱.csv'\n",
    "stations = []  # 每一個element是一個tuple，儲存圖片檔名以及圖片URL\n",
    "with open(csv_path, 'r', encoding='utf-8') as file:\n",
    "    reader = csv.DictReader(file)\n",
    "    # header_row = reader.fieldnames\n",
    "    for row in reader:\n",
    "        station_name = row['站點名稱']+'.jpg'\n",
    "        station_img_url = row['圖片']\n",
    "        stations.append((station_name, station_img_url)) \n",
    "print(stations)          # 印出所有站點的圖片檔名以及圖片URL"
   ]
  },
  {
   "cell_type": "code",
   "execution_count": null,
   "metadata": {},
   "outputs": [],
   "source": [
    "\n",
    "for station in stations:\n",
    "    url = station[1]\n",
    "    if url != '':\n",
    "        r = requests.get(url)\n",
    "        if r.status_code == 200:\n",
    "            img_path = Path.cwd() / '..' / 'images' / '新竹市_YouBike_image' / station[0]\n",
    "        with open(img_path, 'wb') as file:\n",
    "            file.write(r.content)"
   ]
  },
  {
   "cell_type": "markdown",
   "metadata": {},
   "source": [
    "## Step4: 下載網頁圖片"
   ]
  },
  {
   "cell_type": "code",
   "execution_count": null,
   "metadata": {},
   "outputs": [],
   "source": [
    "# with open method\n",
    "url = \"https://img.youtube.com/vi/qo3H-VgXmHE/sddefault.jpg\"\n",
    "img_path = Path.cwd() / 'demo_source_files' / '九天玄女.jpg'\n",
    "r = requests.get(url)\n",
    "with open(img_path, 'wb') as file:\n",
    "    file.write(r.content)"
   ]
  },
  {
   "cell_type": "code",
   "execution_count": null,
   "metadata": {},
   "outputs": [],
   "source": [
    "# wget method\n",
    "# !wget -O ./demo_source_files/google.png https://www.google.com/images/branding/googlelogo/1x/googlelogo_color_272x92dp.png\n",
    "# !wget -O ./demo_source_files/nycu_laser.png https://it.stem.lasercenter.nycu.edu.tw/img/lasercenter_nycu_logo.png"
   ]
  },
  {
   "cell_type": "code",
   "execution_count": null,
   "metadata": {},
   "outputs": [],
   "source": []
  },
  {
   "cell_type": "markdown",
   "metadata": {},
   "source": [
    "## Lab"
   ]
  },
  {
   "cell_type": "markdown",
   "metadata": {},
   "source": [
    "1. 下載新竹縣政府警察局固定測速地點表 (https://ws.hsinchu.gov.tw/001/Upload/1/opendata/8774/297/7b30f0da-06f9-45d1-9b20-fde41cdd7616.csv)  \n",
    "2. 下載 NYCU 校徽"
   ]
  },
  {
   "cell_type": "markdown",
   "metadata": {},
   "source": []
  }
 ],
 "metadata": {
  "kernelspec": {
   "display_name": ".venv",
   "language": "python",
   "name": "python3"
  },
  "language_info": {
   "codemirror_mode": {
    "name": "ipython",
    "version": 3
   },
   "file_extension": ".py",
   "mimetype": "text/x-python",
   "name": "python",
   "nbconvert_exporter": "python",
   "pygments_lexer": "ipython3",
   "version": "3.13.0"
  }
 },
 "nbformat": 4,
 "nbformat_minor": 2
}
