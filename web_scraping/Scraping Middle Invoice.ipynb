{
 "cells": [
  {
   "cell_type": "markdown",
   "metadata": {
    "id": "nON_r7sqCo4P"
   },
   "source": [
    "## 專題：統一發票開獎號碼\n",
    "- https://invoice.etax.nat.gov.tw"
   ]
  },
  {
   "cell_type": "markdown",
   "metadata": {},
   "source": [
    "#### 建立連線"
   ]
  },
  {
   "cell_type": "code",
   "execution_count": null,
   "metadata": {
    "colab": {
     "base_uri": "https://localhost:8080/"
    },
    "id": "bcRuMI24j-4Z",
    "outputId": "baa4846f-8d20-4928-bfa7-f7ab7a5b955a"
   },
   "outputs": [],
   "source": [
    "import requests\n",
    "from bs4 import BeautifulSoup\n",
    "url = \"https://invoice.etax.nat.gov.tw/index.html\"\n",
    "response = requests.get(url)\n",
    "response.encoding = 'utf-8'\n",
    "response.status_code"
   ]
  },
  {
   "cell_type": "markdown",
   "metadata": {},
   "source": [
    "#### 解析網頁"
   ]
  },
  {
   "cell_type": "code",
   "execution_count": null,
   "metadata": {},
   "outputs": [],
   "source": [
    "sp = BeautifulSoup(response.text, 'html.parser')\n",
    "print(sp.title)"
   ]
  },
  {
   "cell_type": "markdown",
   "metadata": {},
   "source": [
    "#### 找開獎號碼的區塊"
   ]
  },
  {
   "cell_type": "code",
   "execution_count": null,
   "metadata": {},
   "outputs": [],
   "source": [
    "# 嘗試找到開獎號碼的區塊(方法一)\n",
    "target_block = sp.select('.etw-mobile')[1].select('.etw-tbiggest')\n",
    "print(len(target_block))  # 5 elements\n",
    "# 嘗試找到開獎號碼的區塊(方法二)\n",
    "target_block = sp.find_all(class_='etw-mobile')[1].find_all(class_='etw-tbiggest')\n",
    "print(len(target_block))  # 5 elements\n",
    "\n",
    "print(target_block[0])\n",
    "print(target_block[0].parent.parent.select('.text-center')[0].text)\n",
    "print(target_block[0].text.strip())\n",
    "print('-'*50)\n",
    "print(target_block[1])\n",
    "print(target_block[1].parent.parent.select('.text-center')[0].text)\n",
    "print(target_block[1].text.strip())\n",
    "print('-'*50)\n",
    "print(target_block[2])\n",
    "print(target_block[2].parent.parent.select('.text-center')[0].text)\n",
    "print(target_block[2].text.strip())\n",
    "print('-'*50)\n",
    "print(target_block[3])\n",
    "print(target_block[3].parent.parent.select('.text-center')[0].text)\n",
    "print(target_block[3].text.strip())\n",
    "print('-'*50)\n",
    "print(target_block[4])\n",
    "print(target_block[4].parent.parent.select('.text-center')[0].text)\n",
    "print(target_block[4].text.strip())"
   ]
  },
  {
   "cell_type": "markdown",
   "metadata": {},
   "source": [
    "#### Write a script"
   ]
  },
  {
   "cell_type": "code",
   "execution_count": null,
   "metadata": {},
   "outputs": [],
   "source": [
    "import requests\n",
    "from bs4 import BeautifulSoup\n",
    "url = \"https://invoice.etax.nat.gov.tw/index.html\"\n",
    "response = requests.get(url)\n",
    "response.encoding = 'utf-8'\n",
    "sp = BeautifulSoup(response.text, 'html.parser')\n",
    "\n",
    "target_block = sp.select('.etw-mobile')[1].select('.etw-tbiggest')\n",
    "for item in target_block:\n",
    "    print(item.parent.parent.select('.text-center')[0].text)\n",
    "    print(item.text.strip())\n",
    "    print('-'*50)"
   ]
  }
 ],
 "metadata": {
  "colab": {
   "collapsed_sections": [],
   "name": "數據資料的爬取.ipynb",
   "provenance": [],
   "toc_visible": true
  },
  "kernelspec": {
   "display_name": ".venv",
   "language": "python",
   "name": "python3"
  },
  "language_info": {
   "codemirror_mode": {
    "name": "ipython",
    "version": 3
   },
   "file_extension": ".py",
   "mimetype": "text/x-python",
   "name": "python",
   "nbconvert_exporter": "python",
   "pygments_lexer": "ipython3",
   "version": "3.13.0"
  }
 },
 "nbformat": 4,
 "nbformat_minor": 0
}
