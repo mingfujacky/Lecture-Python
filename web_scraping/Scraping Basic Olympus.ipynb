{
 "cells": [
  {
   "cell_type": "markdown",
   "id": "2570eab6",
   "metadata": {},
   "source": [
    "- url = 'http://olympus.realpython.org/profiles'  \n",
    "- 題目：儲存網頁內的照片"
   ]
  },
  {
   "cell_type": "markdown",
   "id": "ae720f6f",
   "metadata": {},
   "source": [
    "#### 1. 載入模組"
   ]
  },
  {
   "cell_type": "code",
   "execution_count": null,
   "id": "b8cf9378",
   "metadata": {},
   "outputs": [],
   "source": [
    "from pathlib import Path\n",
    "import requests\n",
    "from bs4 import BeautifulSoup\n",
    "import webbrowser"
   ]
  },
  {
   "cell_type": "markdown",
   "id": "9792a229",
   "metadata": {},
   "source": [
    "#### 2. 連接網頁"
   ]
  },
  {
   "cell_type": "code",
   "execution_count": null,
   "id": "8784eac0",
   "metadata": {},
   "outputs": [],
   "source": [
    "url = 'http://olympus.realpython.org/profiles/dionysus'\n",
    "response= requests.get(url)\n",
    "print('Status code: ', response.status_code)  # 200 means success"
   ]
  },
  {
   "cell_type": "code",
   "execution_count": null,
   "id": "a7883913",
   "metadata": {},
   "outputs": [],
   "source": [
    "sp = BeautifulSoup(response.text, 'html.parser')\n",
    "print('Page title: ', sp.title.text)  # can get page title?"
   ]
  },
  {
   "cell_type": "markdown",
   "id": "96fd3b8f",
   "metadata": {},
   "source": [
    "#### 3. 擷取網頁內容"
   ]
  },
  {
   "cell_type": "code",
   "execution_count": null,
   "id": "5b5091d8",
   "metadata": {},
   "outputs": [],
   "source": [
    "# 印出網頁HTML內容\n",
    "print('------------ response.text(印出來的內容不太好看)---')\n",
    "print(response.text)\n",
    "print('------------ sp (印出來的內容不太好看)-----')\n",
    "print(sp)\n",
    "print('------------ sp.prettify() 印出HTML排版後內容 ---')\n",
    "print(sp.prettify())"
   ]
  },
  {
   "cell_type": "code",
   "execution_count": null,
   "id": "df6a4a71",
   "metadata": {},
   "outputs": [],
   "source": [
    "#將網頁輸出存檔到local\n",
    "file_path = Path.cwd() / 'demo_source_files' / 'dionysus.htm'\n",
    "with open(file_path, 'w', encoding = 'utf-8') as html_file:\n",
    "    html_file.write(sp.prettify())"
   ]
  },
  {
   "cell_type": "code",
   "execution_count": null,
   "id": "cd19a98a",
   "metadata": {},
   "outputs": [],
   "source": [
    "#打開圖檔 & 儲存圖檔\n",
    "images = sp.find_all('img')\n",
    "for i in range(0, len(images)):\n",
    "    image_url = 'http://olympus.realpython.org' + images[i]['src']\n",
    "    webbrowser.open(image_url)\n",
    "    image_path = Path.cwd() / 'demo_source_files' / images[i]['src'][8:]\n",
    "    response = requests.get(image_url)\n",
    "    with open(image_path, 'wb') as image_file:\n",
    "        image_file.write(response.content)"
   ]
  }
 ],
 "metadata": {
  "kernelspec": {
   "display_name": ".venv",
   "language": "python",
   "name": "python3"
  },
  "language_info": {
   "codemirror_mode": {
    "name": "ipython",
    "version": 3
   },
   "file_extension": ".py",
   "mimetype": "text/x-python",
   "name": "python",
   "nbconvert_exporter": "python",
   "pygments_lexer": "ipython3",
   "version": "3.13.0"
  }
 },
 "nbformat": 4,
 "nbformat_minor": 5
}
