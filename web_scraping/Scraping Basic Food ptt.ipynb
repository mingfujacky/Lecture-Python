{
 "cells": [
  {
   "cell_type": "markdown",
   "metadata": {
    "id": "1KyqN0rcg2Oj"
   },
   "source": [
    "批批踢美食討論版  \n",
    "https://www.ptt.cc/bbs/Food/index.html"
   ]
  },
  {
   "cell_type": "markdown",
   "metadata": {},
   "source": [
    "### 印出第一頁的全部貼文\n",
    "格式: 貼文標題 貼文連結 貼文日期 "
   ]
  },
  {
   "cell_type": "code",
   "execution_count": 3,
   "metadata": {
    "colab": {
     "base_uri": "https://localhost:8080/"
    },
    "executionInfo": {
     "elapsed": 399,
     "status": "ok",
     "timestamp": 1728222124007,
     "user": {
      "displayName": "林志偉",
      "userId": "13117312472561068650"
     },
     "user_tz": -480
    },
    "id": "1qbCp99AgUbr",
    "outputId": "97baf9d7-f47a-4fdb-d004-1f0d307899c4"
   },
   "outputs": [
    {
     "name": "stdout",
     "output_type": "stream",
     "text": [
      "Status code:  200\n",
      "看板 Food 文章列表 - 批踢踢實業坊\n"
     ]
    }
   ],
   "source": [
    "import requests\n",
    "from bs4 import BeautifulSoup\n",
    "url = 'https://www.ptt.cc/bbs/Food/index.html'\n",
    "response= requests.get(url)\n",
    "print('Status code: ', response.status_code)\n",
    "sp = BeautifulSoup(response.text, 'html.parser')\n",
    "print(sp.title.text)"
   ]
  },
  {
   "cell_type": "code",
   "execution_count": null,
   "metadata": {},
   "outputs": [],
   "source": [
    "posts = html.find_all('div', class_='r-ent')\n",
    "print(len(posts))\n",
    "print(posts[0].prettify())"
   ]
  },
  {
   "cell_type": "code",
   "execution_count": 6,
   "metadata": {},
   "outputs": [
    {
     "name": "stdout",
     "output_type": "stream",
     "text": [
      "[食記] 台北大安 春日好日~外帶拿鐵CP值超高~大 https://www.ptt.cc/bbs/Food/M.1731831053.A.FE8.html 11/17\n"
     ]
    }
   ],
   "source": [
    "post_title = posts[0].find('div', class_='title').find('a').text\n",
    "post_link = posts[0].find('div', class_='title').find('a')['href']\n",
    "post_date = posts[0].find('div', class_='meta').find('div', class_='date').text\n",
    "post_link = 'https://www.ptt.cc'+ post_link\n",
    "print(post_title, post_link, post_date)"
   ]
  },
  {
   "cell_type": "code",
   "execution_count": 10,
   "metadata": {},
   "outputs": [
    {
     "name": "stdout",
     "output_type": "stream",
     "text": [
      "[食記] 台北大安 春日好日~外帶拿鐵CP值超高~大 https://www.ptt.cc/bbs/Food/M.1731831053.A.FE8.html 11/17\n",
      "[食記] 新北 板橋區｜三颯舞和洋酒食 居酒屋 https://www.ptt.cc/bbs/Food/M.1731835684.A.A8F.html 11/17\n",
      "[公告] Food板 板規 V3.91 https://www.ptt.cc/bbs/Food/M.1355673582.A.5F7.html 12/16\n",
      "[公告] 發文請在標題加上地區及提供地址電話。^^ https://www.ptt.cc/bbs/Food/M.1190944426.A.E6C.html  9/28\n",
      "[公告] 文章被刪除者請洽精華區的資源回收桶 https://www.ptt.cc/bbs/Food/M.1128132666.A.0FD.html 10/01\n",
      "[公告] 新增板規22：發文禁附延伸閱讀連結 https://www.ptt.cc/bbs/Food/M.1496532469.A.C36.html  6/04\n"
     ]
    }
   ],
   "source": [
    "for post in posts:\n",
    "    post_title = post.find('div', class_='title').find('a').text\n",
    "    post_link = post.find('div', class_='title').find('a')['href']\n",
    "    post_date = post.find('div', class_='meta').find('div', class_='date').text\n",
    "    post_link = 'https://www.ptt.cc'+ post_link\n",
    "    print(post_title, post_link, post_date)"
   ]
  },
  {
   "cell_type": "markdown",
   "metadata": {
    "id": "717jQ0Amg0_X"
   },
   "source": [
    "### 印出前三頁的全部貼文\n",
    "格式: 貼文標題 貼文連結 貼文日期 "
   ]
  },
  {
   "cell_type": "code",
   "execution_count": 6,
   "metadata": {},
   "outputs": [],
   "source": [
    "import requests\n",
    "from bs4 import BeautifulSoup"
   ]
  },
  {
   "cell_type": "code",
   "execution_count": 19,
   "metadata": {},
   "outputs": [
    {
     "name": "stdout",
     "output_type": "stream",
     "text": [
      "3\n",
      "<a class=\"btn wide\" href=\"/bbs/Food/index1.html\">最舊</a>\n",
      "<a class=\"btn wide\" href=\"/bbs/Food/index7000.html\">‹ 上頁</a>\n",
      "<a class=\"btn wide\" href=\"/bbs/Food/index.html\">最新</a>\n",
      "/bbs/Food/index7000.html\n",
      "https://www.ptt.cc/bbs/Food/index7000.html\n"
     ]
    }
   ],
   "source": [
    "# 試著找找前一頁的url\n",
    "url = 'https://www.ptt.cc/bbs/Food/index.html'\n",
    "response= requests.get(url)\n",
    "sp = BeautifulSoup(response.text, 'html.parser')\n",
    "print(len(sp.find_all('a', class_='btn wide')))\n",
    "print(sp.find_all('a', class_='btn wide')[0])\n",
    "print(sp.find_all('a', class_='btn wide')[1])  # we need this\n",
    "print(sp.find_all('a', class_='btn wide')[2])\n",
    "\n",
    "print(sp.find_all('a', class_='btn wide')[1]['href'])\n",
    "previous_page = 'https://www.ptt.cc' + sp.find_all('a', class_='btn wide')[1]['href']\n",
    "print(previous_page)"
   ]
  },
  {
   "cell_type": "code",
   "execution_count": 20,
   "metadata": {},
   "outputs": [
    {
     "name": "stdout",
     "output_type": "stream",
     "text": [
      "Page#: 1\n",
      "[食記] 台北大安 春日好日~外帶拿鐵CP值超高~大 https://www.ptt.cc/bbs/Food/M.1731831053.A.FE8.html 11/17\n",
      "[食記] 新北 板橋區｜三颯舞和洋酒食 居酒屋 https://www.ptt.cc/bbs/Food/M.1731835684.A.A8F.html 11/17\n",
      "[公告] Food板 板規 V3.91 https://www.ptt.cc/bbs/Food/M.1355673582.A.5F7.html 12/16\n",
      "[公告] 發文請在標題加上地區及提供地址電話。^^ https://www.ptt.cc/bbs/Food/M.1190944426.A.E6C.html  9/28\n",
      "[公告] 文章被刪除者請洽精華區的資源回收桶 https://www.ptt.cc/bbs/Food/M.1128132666.A.0FD.html 10/01\n",
      "[公告] 新增板規22：發文禁附延伸閱讀連結 https://www.ptt.cc/bbs/Food/M.1496532469.A.C36.html  6/04\n",
      "Page#: 2\n",
      "[食記] 麗評哈爾濱燒烤 中國浙江 燒烤配上鍋包肉 https://www.ptt.cc/bbs/Food/M.1731590336.A.AC2.html 11/14\n",
      "[食記] 桃園。力行炒麵 https://www.ptt.cc/bbs/Food/M.1731595004.A.3D3.html 11/14\n",
      "[食記] 台北士林 余家羊肉麵線 神奇的配法 https://www.ptt.cc/bbs/Food/M.1731600692.A.68C.html 11/15\n",
      "[食記] 花蓮光復 大陸餃子館 https://www.ptt.cc/bbs/Food/M.1731634166.A.745.html 11/15\n",
      "[食記] 日本名古屋-只營業中午鰻魚飯-Unagi Hiru https://www.ptt.cc/bbs/Food/M.1731639409.A.396.html 11/15\n",
      "[食記] 彰化 暗黑色系質感高級燒肉 脂本燒肉 https://www.ptt.cc/bbs/Food/M.1731655099.A.496.html 11/15\n",
      "[食記] 新北市蘆洲拉麵新品牌-麵屋銷魂 https://www.ptt.cc/bbs/Food/M.1731656028.A.3DF.html 11/15\n",
      "[食記] 由紀 心中夢寐以求的漢堡排 https://www.ptt.cc/bbs/Food/M.1731658909.A.E29.html 11/15\n",
      "[請益] 請推薦台北的外燴 https://www.ptt.cc/bbs/Food/M.1731664557.A.A63.html 11/15\n",
      "[食記] 台北 OUVERT SEOUL  https://www.ptt.cc/bbs/Food/M.1731672144.A.13A.html 11/15\n",
      "Fw: [食記] 日本 沖繩 おでんまつやま 40年的關東煮 https://www.ptt.cc/bbs/Food/M.1731672262.A.25A.html 11/15\n",
      "[食記] 台中 豐原區｜印度藏堡廚坊 https://www.ptt.cc/bbs/Food/M.1731729385.A.F6A.html 11/16\n",
      "[請益] 台北台中高級燒肉推薦 https://www.ptt.cc/bbs/Food/M.1731749247.A.6B6.html 11/16\n",
      "[食記] 桃園。三丁友香港冰室 https://www.ptt.cc/bbs/Food/M.1731767590.A.B19.html 11/16\n",
      "[食記] 南岭精緻麵館 台北松山 清甜而鮮獅子頭麵 https://www.ptt.cc/bbs/Food/M.1731770086.A.C08.html 11/16\n",
      "[食記] 消夜晚餐都滿足–基隆崁仔頂碳烤三明治 https://www.ptt.cc/bbs/Food/M.1731770494.A.720.html 11/16\n",
      "[食記] 新北 鬧彆牛廣興店 https://www.ptt.cc/bbs/Food/M.1731773206.A.9A5.html 11/17\n",
      "[食記] 捷克布拉格 2家煙囪捲店 Trdelnik https://www.ptt.cc/bbs/Food/M.1731783138.A.5A1.html 11/17\n",
      "[食記] 義大利杜林 Italo Club Torino高鐵貴賓室 https://www.ptt.cc/bbs/Food/M.1731784490.A.66A.html 11/17\n",
      "[食記] 基隆 天一香滷肉飯 https://www.ptt.cc/bbs/Food/M.1731823524.A.99F.html 11/17\n",
      "Page#: 3\n",
      "[食記] 新竹 宅梗．小食光 https://www.ptt.cc/bbs/Food/M.1731400342.A.ECE.html 11/12\n",
      "[食記] 佐藤お帰り 基隆安樂 綠咖喱雞肉冷烏龍麵 https://www.ptt.cc/bbs/Food/M.1731405011.A.73A.html 11/12\n",
      "Fw: [食記] 日本 沖繩 空港食堂 便宜好吃豬腳麵 https://www.ptt.cc/bbs/Food/M.1731411602.A.9E1.html 11/12\n",
      "[食記] 台南 金子半之助 https://www.ptt.cc/bbs/Food/M.1731416213.A.84C.html 11/12\n",
      "[食記] 新加坡 Gather 法式薄餅 https://www.ptt.cc/bbs/Food/M.1731426895.A.011.html 11/12\n",
      "[食記] 頭份 饕霸薑母鴨 https://www.ptt.cc/bbs/Food/M.1731487091.A.DB7.html 11/13\n",
      "Fw: [食記] 日本 沖繩 素食 Gajimaru Cafe&Bar https://www.ptt.cc/bbs/Food/M.1731500099.A.566.html 11/13\n",
      "[食記] 台北 大安區｜云滇 Yundish 敦化店 https://www.ptt.cc/bbs/Food/M.1731502643.A.F2B.html 11/13\n",
      "[食記] 台中豐原 烤察室燒烤 平價串燒/晚餐/宵夜 https://www.ptt.cc/bbs/Food/M.1731503214.A.7D7.html 11/13\n",
      "[轉讓] 11/17 饗A joy 午餐1 三位 https://www.ptt.cc/bbs/Food/M.1731510654.A.928.html 11/13\n",
      "[食記] 東京 鈴懸(すずかけ) https://www.ptt.cc/bbs/Food/M.1731512253.A.800.html 11/13\n",
      "[廣宣] 新北 中和復古風美味串燒居酒屋-醇串時代 https://www.ptt.cc/bbs/Food/M.1731548698.A.7C6.html 11/14\n",
      "[食記] 吉隆坡 意發飽餃點心 富都的深夜飲茶宵夜 https://www.ptt.cc/bbs/Food/M.1731560457.A.4B9.html 11/14\n",
      "[食記] 苗栗三灣 耕讀食坊 https://www.ptt.cc/bbs/Food/M.1731571351.A.7F7.html 11/14\n",
      "Fw: [心得] 在越南的朔莊體驗越南餐館 https://www.ptt.cc/bbs/Food/M.1731572098.A.99A.html 11/14\n",
      "[食記] 高雄 旗山老街 碧蓮餐館 https://www.ptt.cc/bbs/Food/M.1731581710.A.5FA.html 11/14\n",
      "Fw: [食記] 日本 沖繩 らぁめん酒場まうろあ 煮干醬油拉麵 https://www.ptt.cc/bbs/Food/M.1731584200.A.2B6.html 11/14\n",
      "[食記] 台南 hitoiki日式寂靜風格咖啡店 https://www.ptt.cc/bbs/Food/M.1731587497.A.DB5.html 11/14\n",
      "[食記] 台北 星胡同  星宇航空 x 胡同燒肉  https://www.ptt.cc/bbs/Food/M.1731588484.A.4DC.html 11/14\n",
      "[食記] 台北大同 中山站 waku waku pasta赤峰店 https://www.ptt.cc/bbs/Food/M.1731589698.A.9A8.html 11/14\n"
     ]
    }
   ],
   "source": [
    "url = 'https://www.ptt.cc/bbs/Food/index.html'\n",
    "for page in range(3):\n",
    "    print('Page#:', page + 1)\n",
    "    response= requests.get(url)\n",
    "    sp = BeautifulSoup(response.text, 'html.parser')\n",
    "    posts = sp.find_all('div', class_='r-ent')\n",
    "    for post in posts:\n",
    "        post_title = post.find('div', class_='title').find('a').text\n",
    "        post_link = post.find('div', class_='title').find('a').get('href')\n",
    "        post_date = post.find('div', class_='meta').find('div', class_='date').text\n",
    "        post_link = 'https://www.ptt.cc'+ post_link\n",
    "        print(post_title, post_link, post_date)\n",
    "    previous_page = 'https://www.ptt.cc' + sp.find_all('a', class_='btn wide')[1].get('href')\n",
    "    url = previous_page\n",
    "\n"
   ]
  },
  {
   "cell_type": "markdown",
   "metadata": {},
   "source": [
    "### Lab"
   ]
  },
  {
   "cell_type": "markdown",
   "metadata": {},
   "source": [
    "- 試試NBA討論區 'https://www.ptt.cc/bbs/NBA/index.html'\n",
    "- 印出第一頁的全部貼文\n",
    "- 格式: 貼文標題 貼文連結 貼文日期"
   ]
  },
  {
   "cell_type": "code",
   "execution_count": 22,
   "metadata": {},
   "outputs": [
    {
     "name": "stdout",
     "output_type": "stream",
     "text": [
      "看板 NBA 文章列表 - 批踢踢實業坊\n",
      "\n",
      "[食記] 台北大安 春日好日~外帶拿鐵CP值超高~大\n",
      " https://www.ptt.cc/bbs/Food/M.1731831053.A.FE8.html 11/17\n",
      "\n",
      "[食記] 新北 板橋區｜三颯舞和洋酒食 居酒屋\n",
      " https://www.ptt.cc/bbs/Food/M.1731835684.A.A8F.html 11/17\n",
      "\n",
      "[公告] Food板 板規 V3.91\n",
      " https://www.ptt.cc/bbs/Food/M.1355673582.A.5F7.html 12/16\n",
      "\n",
      "[公告] 發文請在標題加上地區及提供地址電話。^^\n",
      " https://www.ptt.cc/bbs/Food/M.1190944426.A.E6C.html  9/28\n",
      "\n",
      "[公告] 文章被刪除者請洽精華區的資源回收桶\n",
      " https://www.ptt.cc/bbs/Food/M.1128132666.A.0FD.html 10/01\n",
      "\n",
      "[公告] 新增板規22：發文禁附延伸閱讀連結\n",
      " https://www.ptt.cc/bbs/Food/M.1496532469.A.C36.html  6/04\n"
     ]
    }
   ],
   "source": [
    "import requests\n",
    "from bs4 import BeautifulSoup\n",
    "url = 'https://www.ptt.cc/bbs/NBA/index.html'\n",
    "response= requests.get(url)\n",
    "sp = BeautifulSoup(response.text, 'html.parser')\n",
    "print(sp.title.text)\n",
    "posts = html.find_all('div', class_='r-ent')\n",
    "for post in posts:\n",
    "    if post.find('a'):\n",
    "        post_title = post.find('div', class_='title').text\n",
    "        post_link = post.find('div', class_='title').find('a').get('href')\n",
    "        post_date = post.find('div', class_='meta').find('div', class_='date').text\n",
    "        post_link = 'https://www.ptt.cc'+ post_link\n",
    "        print(post_title, post_link, post_date)"
   ]
  }
 ],
 "metadata": {
  "colab": {
   "authorship_tag": "ABX9TyM+ZafkdUfzIpU+VgrT12Qq",
   "provenance": []
  },
  "kernelspec": {
   "display_name": ".venv",
   "language": "python",
   "name": "python3"
  },
  "language_info": {
   "codemirror_mode": {
    "name": "ipython",
    "version": 3
   },
   "file_extension": ".py",
   "mimetype": "text/x-python",
   "name": "python",
   "nbconvert_exporter": "python",
   "pygments_lexer": "ipython3",
   "version": "3.13.0"
  }
 },
 "nbformat": 4,
 "nbformat_minor": 0
}
