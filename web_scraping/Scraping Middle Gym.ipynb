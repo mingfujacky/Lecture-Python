{
 "cells": [
  {
   "attachments": {},
   "cell_type": "markdown",
   "id": "c5ab799f-426f-4a34-b522-bd8a82774fb3",
   "metadata": {},
   "source": [
    "## 爬蟲的預備知識\n",
    "\n",
    "爬蟲, Web scraping, Web crawler, Spider\n",
    "\n",
    "Technology\n",
    "- Request-response: [web access request-response cycle](https://media.geeksforgeeks.org/wp-content/uploads/20210905091508/ImageOfHTTPRequestResponse.png)  \n",
    "- HTML 結構 (DOM, Document Object Model): [DOM](https://steam.oxxostudio.tw/webp/python/spider/beautiful-soup-03.webp)\n",
    "- HTTP Response: [Response](https://media.geeksforgeeks.org/wp-content/uploads/20210905094321/StructureOfAHTTPResponse.png)\n",
    "  \n",
    "\n",
    "爬蟲禮儀\n",
    "- 設計適當的等待延遲, 不造成網站主機負擔\n",
    "- 盡可能使用網站提供的API取得資料\n",
    "- 閱讀並遵從網站內robots.txt的規定 (https://www.tsg.com.tw/robots.txt) (https://www.iana.org/robots.txt)\n",
    "\n",
    "範例網站\n",
    "- Inter Assigned Numbers Authority (https://www.iana.org/domains/)\n",
    "- Code-Gym (https://code-gym.github.io/spider_demo/)\n",
    "- 文淵閣 (http://ehappy.tw/bsdemo1.htm')\n",
    "  \n",
    "需要的 python 模組\n",
    "- pip3 install requests  \n",
    "- pip3 install bs4  \n",
    "\n",
    "工作流程 \n",
    "- analysis web page manually\n",
    "- build connection (requests module)\n",
    "- parse HTML (BeautifulSoup module)\n",
    "- find data (BeautifulSoup's find, find_all)"
   ]
  },
  {
   "cell_type": "code",
   "execution_count": null,
   "id": "d547f56c-8fe8-47e9-9376-c8de8c7d0466",
   "metadata": {},
   "outputs": [],
   "source": [
    "import requests\n",
    "from bs4 import BeautifulSoup"
   ]
  },
  {
   "cell_type": "markdown",
   "id": "da77c268-801b-4cee-9e74-77044be6ce0b",
   "metadata": {},
   "source": [
    "## Build connection and parse HTML\n",
    "- 常見的解析器有 lxml、html5lib、html.parser(內建) 這三個工具，參數主要是告訴 BeatifulSoup 要如何將原始碼HTML的**純文字**，轉換成可供分析取用的**標籤樹**，差異是「容錯率」跟「效能速度」有所不同\n",
    "- 使用 print 觀察網頁內容, 若利用prettify函式, 可得到較佳排列"
   ]
  },
  {
   "cell_type": "code",
   "execution_count": null,
   "id": "98b842b7-9c99-4bcd-8d6d-ce3785a1395e",
   "metadata": {
    "jp-MarkdownHeadingCollapsed": true
   },
   "outputs": [],
   "source": [
    "url = 'https://code-gym.github.io/spider_demo/'\n",
    "response = requests.get(url)\n",
    "print(response.status_code, '\\n')"
   ]
  },
  {
   "cell_type": "markdown",
   "id": "c5d0be2d",
   "metadata": {},
   "source": [
    "## Parse HTML (BeautifulSoup module)"
   ]
  },
  {
   "cell_type": "code",
   "execution_count": null,
   "id": "ba60d4ea",
   "metadata": {},
   "outputs": [],
   "source": [
    "sp = BeautifulSoup(response.text, 'html5lib')\n",
    "print(sp.title,'\\n')\n",
    "print(sp.prettify())"
   ]
  },
  {
   "cell_type": "markdown",
   "id": "039d3549",
   "metadata": {},
   "source": [
    "## Find data (BeautifulSoup's find, find_all)"
   ]
  },
  {
   "cell_type": "code",
   "execution_count": null,
   "id": "4d894c74-9307-41ed-b490-305850cc821a",
   "metadata": {},
   "outputs": [],
   "source": [
    "# find data\n",
    "print(sp.h1); print(sp.h1.text)\n",
    "print(sp.find('h1')); print(sp.find('h1').text)"
   ]
  },
  {
   "cell_type": "code",
   "execution_count": null,
   "id": "ad79464f-6d5d-4f7b-9cb6-9637f4c141f1",
   "metadata": {},
   "outputs": [],
   "source": [
    "# 找出網站的文章列表 find_all data\n",
    "article_list = sp.find_all('h3')\n",
    "print(article_list[0].prettify())\n",
    "print(article_list[1].prettify())\n",
    "print(article_list[1].text.strip(),'\\n')\n",
    "print(article_list[1].a['href'],'\\n')\n",
    "\n",
    "print('--- Artical List ---')\n",
    "i = 0\n",
    "for h3_element in sp.find_all('h3'):\n",
    "    print(i, '-->', (h3_element.text.strip()))\n",
    "    if h3_element.a is not None:\n",
    "        print('(' + h3_element.a['href'].upper()+')')\n",
    "    i += 1\n",
    "    # print(h3.prettify())\n",
    "    #if h3.a is not None:\n",
    "    #    print(h3.a.prettify())"
   ]
  },
  {
   "cell_type": "markdown",
   "id": "03a4213e-62dd-4530-a91a-b4905ef217d9",
   "metadata": {},
   "source": [
    "## 常見的反爬蟲方式\n",
    "- 判斷瀏覽器headers資訊\n",
    "- *使用動態頁面*\n",
    "- *加入使用者行為判斷*\n",
    "- *模擬真實用戶登入授權*\n",
    "- ***加入驗證碼機制***\n",
    "- ***封鎖代理伺服器與第三方 IP***"
   ]
  },
  {
   "cell_type": "code",
   "execution_count": 3,
   "id": "5c9bcc59-a788-4046-889a-b27e17a3823d",
   "metadata": {},
   "outputs": [
    {
     "data": {
      "text/plain": [
       "400"
      ]
     },
     "execution_count": 3,
     "metadata": {},
     "output_type": "execute_result"
    }
   ],
   "source": [
    "# 加入headers資訊來模擬瀏覽器的行為\n",
    "import requests\n",
    "url = \"https://www.kingstone.com.tw\"\n",
    "headers_chrome = {'user-agent': 'Mozilla/5.0 (Macintosh; Intel Mac OS X 10_15_7) AppleWebKit/537.36 (KHTML, like Gecko) Chrome/120.0.0.0 Safari/537.36'}\n",
    "headers_safari = {'user-agent': 'Mozilla/5.0 (Macintosh; Intel Mac OS X 10_15_7) AppleWebKit/605.1.15 (KHTML, like Gecko) Version/17.2.1 Safari/605.1.15'}\n",
    "\n",
    "response = requests.get(url)\n",
    "#response = requests.get(url, headers = headers_chrome)\n",
    "#response = requests.get(url, headers = headers_safari)\n",
    "response.status_code"
   ]
  },
  {
   "cell_type": "markdown",
   "id": "3c85ae8f",
   "metadata": {},
   "source": [
    "## 使用 webbrowser 打開網頁\n"
   ]
  },
  {
   "cell_type": "code",
   "execution_count": null,
   "id": "da541c15-55d9-4018-b6e3-318c9394b0f3",
   "metadata": {},
   "outputs": [],
   "source": [
    "import webbrowser\n",
    "\n",
    "address = \"新竹市大學路1001號\"\n",
    "map_url = 'http://www.google.com/maps/place/' + address\n",
    "print(map_url)\n",
    "f_ctrler = webbrowser.get(\"safari\") # 取得 webbrowser controller\n",
    "f_ctrler.open(map_url)"
   ]
  }
 ],
 "metadata": {
  "kernelspec": {
   "display_name": ".venv",
   "language": "python",
   "name": "python3"
  },
  "language_info": {
   "codemirror_mode": {
    "name": "ipython",
    "version": 3
   },
   "file_extension": ".py",
   "mimetype": "text/x-python",
   "name": "python",
   "nbconvert_exporter": "python",
   "pygments_lexer": "ipython3",
   "version": "3.13.0"
  }
 },
 "nbformat": 4,
 "nbformat_minor": 5
}
