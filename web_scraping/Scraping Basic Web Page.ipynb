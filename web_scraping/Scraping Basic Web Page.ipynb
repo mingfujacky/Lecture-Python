{
 "cells": [
  {
   "cell_type": "markdown",
   "metadata": {
    "id": "67Pcatw7vY7W"
   },
   "source": [
    "## requests 模組: 讀取網頁原始碼"
   ]
  },
  {
   "cell_type": "markdown",
   "metadata": {},
   "source": [
    "- 開啟本機網頁服務：cd 到網頁的目錄後，執行 python3 -m http.server\n",
    "- 瀏覽器打開 http://localhost:8000/demo1.html"
   ]
  },
  {
   "cell_type": "code",
   "execution_count": null,
   "metadata": {
    "colab": {
     "base_uri": "https://localhost:8080/"
    },
    "id": "6gkohlk7uYOe",
    "outputId": "e1fd5414-5907-445f-b6cb-6ecf98ca81db"
   },
   "outputs": [],
   "source": [
    "import requests\n",
    "url = \"http://localhost:8000/demo1.html\"\n",
    "response = requests.get(url)\n",
    "# 檢查HTTP回應碼是否為200(requests.code.ok)\n",
    "print(response.status_code)"
   ]
  },
  {
   "cell_type": "markdown",
   "metadata": {
    "id": "4ByWJud04AFI"
   },
   "source": [
    "## BeautifulSoup 模組：網頁解析"
   ]
  },
  {
   "cell_type": "code",
   "execution_count": null,
   "metadata": {
    "id": "7B2RJfqLy3fS",
    "vscode": {
     "languageId": "html"
    }
   },
   "outputs": [],
   "source": [
    "# 認識網頁的結構\n",
    "# /Users/jacky/Documents/Lecture Python/files/html/demo1.html\n",
    "'''\n",
    "<!DOCTYPE html>\n",
    "<html>\n",
    "<head>\n",
    "  <encoding=\"UTF-8\">  \n",
    "  <title>我是網頁標題</title>\n",
    "</head>\n",
    "<body>\n",
    "    <h1 class=\"large\">我是標題</h1>\n",
    "    <div>\n",
    "      <p>我是段落</p>\n",
    "      <img src=\"https://www.nycu.edu.tw/userfiles/nycuch/images/20230915173911063.png\" alt=\"我是圖片\"><br>\n",
    "      <a href=\"https://steam.nycu.edu.tw\">學士後電子與光子學士學位學程</a>\n",
    "    </div>\n",
    "</body>\n",
    "</html>\n",
    "'''"
   ]
  },
  {
   "cell_type": "markdown",
   "metadata": {},
   "source": [
    "## 列印指定標籤的內容"
   ]
  },
  {
   "cell_type": "code",
   "execution_count": null,
   "metadata": {
    "colab": {
     "base_uri": "https://localhost:8080/"
    },
    "id": "NZTxcMOv4fCR",
    "outputId": "98f0c2cd-b5f9-4dcc-c580-c5e012eecead"
   },
   "outputs": [],
   "source": [
    "import requests\n",
    "from bs4 import BeautifulSoup\n",
    "url = \"http://localhost:8000/demo1.html\"\n",
    "response = requests.get(url)\n",
    "response.encoding = 'UTF-8'\n",
    "sp = BeautifulSoup(response.text, 'html.parser')\n",
    "print(sp.title);  print(sp.title.text)"
   ]
  },
  {
   "cell_type": "code",
   "execution_count": null,
   "metadata": {},
   "outputs": [],
   "source": [
    "print(sp.h1)\n",
    "print(sp.h1.text)\n",
    "print(sp.p); print(sp.p.text)"
   ]
  },
  {
   "cell_type": "code",
   "execution_count": null,
   "metadata": {},
   "outputs": [],
   "source": [
    "# 下載圖片\n",
    "from pathlib import Path\n",
    "print(sp.img); print(sp.img[\"src\"])\n",
    "url = sp.img[\"src\"]\n",
    "response = requests.get(url)\n",
    "img_path = Path.cwd() / \"..\" / \"files\" / \"image\" / \"nycu_logo.png\"\n",
    "\n",
    "with open(img_path, \"wb\") as img_file:\n",
    "    img_file.write(response.content)"
   ]
  },
  {
   "cell_type": "code",
   "execution_count": null,
   "metadata": {},
   "outputs": [],
   "source": [
    "# 取得URL並開啟網頁\n",
    "print(sp.a)\n",
    "print(sp.a.text)\n",
    "print(sp.a[\"href\"])\n",
    "\n",
    "import webbrowser\n",
    "url = sp.a[\"href\"]\n",
    "webbrowser.open(url)"
   ]
  },
  {
   "cell_type": "markdown",
   "metadata": {
    "id": "dGNgc7Gm45sZ"
   },
   "source": [
    "## 找尋指定標籤的內容：find()、find_all()"
   ]
  },
  {
   "cell_type": "code",
   "execution_count": null,
   "metadata": {
    "vscode": {
     "languageId": "html"
    }
   },
   "outputs": [],
   "source": [
    "# \n",
    "# /Users/jacky/Documents/Lecture Python/files/html/demo2.html\n",
    "'''\n",
    "<!DOCTYPE html>\n",
    "<html>\n",
    "<head>\n",
    "    <!--TAG meta to set encoding, description, keywords, author-->\n",
    "    <!--TAG title to set title of browser tab--> \n",
    "    <meta charset=\"UTF-8\">\n",
    "    <title>爬蟲練習二</title>   \n",
    "</head>\n",
    "\n",
    "<body>\n",
    "    <!--h1~h6 標籤是用於定義標題-->\n",
    "    <h1>我是 h1 大小的標籤</h1>\n",
    "\n",
    "    <!--div 標籤是用於定義文檔中的分隔區塊, 可視為一個容器-->\n",
    "    <div></div>\n",
    "        <p id=\"x01\" style=\"color:brown\">我是文字一在段落內</p>\n",
    "        <p id=\"x02\" style=\"font-size:16pt\">我是文字二在段落內</p>\n",
    "        <p id=\"x03\" class=\"normal\">我是文字三在段落內</p>\n",
    "        <hr></hr>\n",
    "        <ul>\n",
    "            <li class=\"nycu\"><a href=\"http://www.nycu.edu.tw\" target=\"_blank\">連結陽明交大</a></li>\n",
    "            <li class=\"nthu\"><a href=\"http://www.nthu.edu.tw\" target=\"_blank\">連結清華大學</a></li>\n",
    "        </ul>\n",
    "        <img src=\"https://joycat.org/images/web_design/HTML5.png\" alt=\"HTML5示例圖像\" width=\"90\" height=\"60\">\n",
    "        <p>點擊連結至 <a href=\"https://zh.wikipedia.org/zh-tw/HTML\" target=\"_blank\">wiki HTML的說明</a></p>\n",
    "</body>\n",
    "</html>        \n",
    "'''"
   ]
  },
  {
   "cell_type": "code",
   "execution_count": null,
   "metadata": {
    "colab": {
     "base_uri": "https://localhost:8080/"
    },
    "id": "Q20bjJMqwrd1",
    "outputId": "816f4b7f-08b5-4cbb-c6f7-05b9631ece25"
   },
   "outputs": [],
   "source": [
    "import requests\n",
    "from bs4 import BeautifulSoup\n",
    "url = \"http://localhost:8000/demo2.html\"\n",
    "response = requests.get(url)\n",
    "response.encoding = 'UTF-8'\n",
    "sp = BeautifulSoup(response.text, 'html.parser')"
   ]
  },
  {
   "cell_type": "code",
   "execution_count": null,
   "metadata": {},
   "outputs": [],
   "source": [
    "# sp.tag_name only return the first tag\n",
    "print(sp.title.text)\n",
    "print(sp.p.text)\n",
    "print(sp.a.text)\n"
   ]
  },
  {
   "cell_type": "code",
   "execution_count": null,
   "metadata": {},
   "outputs": [],
   "source": [
    "# sp.find(tag_name) only return the first tag too. To get all tags, use find_all(tag_name)\n",
    "print(sp.find('p').text)\n",
    "print(sp.find_all('p'))\n",
    "print('there are', len(sp.find_all('p')), 'p tags')\n",
    "for i in range(3):\n",
    "    print(sp.find_all('p')[i].text)\n",
    "for i in range(3):\n",
    "    print(sp.find_all('a')[i].text)"
   ]
  },
  {
   "cell_type": "code",
   "execution_count": null,
   "metadata": {},
   "outputs": [],
   "source": [
    "print(sp.find('p', style='color:brown').text)\n",
    "print(sp.find('p', id='x02').text)\n",
    "print(sp.find('p', class_='normal').text)"
   ]
  },
  {
   "cell_type": "markdown",
   "metadata": {
    "id": "YViNrNs855ni"
   },
   "source": [
    "## 利用CSS選擇器找尋內容：select()"
   ]
  },
  {
   "cell_type": "code",
   "execution_count": null,
   "metadata": {
    "colab": {
     "base_uri": "https://localhost:8080/"
    },
    "id": "UkwcWVC556PB",
    "outputId": "00875ccd-646d-4cee-c52f-c7e84968823a"
   },
   "outputs": [],
   "source": [
    "# print(sp.select('title')[0].text)\n",
    "# for i in range(4):\n",
    "#     print(sp.select('p')[i].text)\n",
    "# for p in sp.select('p'):\n",
    "#     print(p.text)\n",
    "\n",
    "print(sp.select(\"#x01\")[0].text)\n",
    "print(sp.select('.normal')[0].text)"
   ]
  },
  {
   "cell_type": "markdown",
   "metadata": {
    "id": "ukfmGZfL66Ta"
   },
   "source": [
    "## *取得標籤的屬性內容*"
   ]
  },
  {
   "cell_type": "code",
   "execution_count": null,
   "metadata": {
    "colab": {
     "base_uri": "https://localhost:8080/"
    },
    "id": "vUxWes-a7Ymz",
    "outputId": "1f69e138-45f6-419a-89c0-1c63338b9281"
   },
   "outputs": [],
   "source": [
    "# sp.tag_name[attribute_name] vs sp.tag_name.get(attribute_name)\n",
    "print(sp.img['src'],'\\t', sp.img.get('src'), '\\n')\n",
    "# sp.tag_name vs sp.find(tag_name) vs sp.find_all(tag_name)\n",
    "print(sp.img['src'], '\\t', sp.find('img')['src'], '\\t', sp.find_all('img')[0]['src'], '\\n')\n",
    "# sp.tag_name vs sp.select(tag_name)\n",
    "print(sp.img['src'], '\\t', sp.select('img')[0]['src'], '\\n')\n",
    "\n",
    "print(sp.select('a')[0].get('href'), '\\t', sp.select('a')[0]['href'], '\\n')"
   ]
  },
  {
   "cell_type": "markdown",
   "metadata": {},
   "source": [
    "## Lab"
   ]
  },
  {
   "cell_type": "markdown",
   "metadata": {},
   "source": [
    "1. 分析網頁 http://ehappy.tw/bsdemo1.htm，取出它網頁中HTML 5 image的來源網址 \n",
    "2. 分析網頁 http://ehappy.tw/bsdemo2.htm，爬出它網頁中'我是段落一'的文字 \n",
    "3. 分析網頁 http://ehappy.tw/bsdemo2.htm，取出它網頁中'我是超連結2'的網址"
   ]
  }
 ],
 "metadata": {
  "colab": {
   "collapsed_sections": [],
   "name": "數據資料的爬取.ipynb",
   "provenance": [],
   "toc_visible": true
  },
  "kernelspec": {
   "display_name": ".venv",
   "language": "python",
   "name": "python3"
  },
  "language_info": {
   "codemirror_mode": {
    "name": "ipython",
    "version": 3
   },
   "file_extension": ".py",
   "mimetype": "text/x-python",
   "name": "python",
   "nbconvert_exporter": "python",
   "pygments_lexer": "ipython3",
   "version": "3.13.1"
  }
 },
 "nbformat": 4,
 "nbformat_minor": 0
}
