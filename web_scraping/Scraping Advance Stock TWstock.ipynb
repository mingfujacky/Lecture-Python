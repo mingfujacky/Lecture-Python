{
 "cells": [
  {
   "cell_type": "code",
   "execution_count": null,
   "id": "c2debd44-69c3-4be4-b7a8-b8c537e769b2",
   "metadata": {},
   "outputs": [],
   "source": [
    "import twstock\n",
    "import matplotlib.pyplot as plt\n",
    "import pandas as pd\n",
    "# %matplotlib inline"
   ]
  },
  {
   "cell_type": "code",
   "execution_count": null,
   "id": "679e6cb0-5861-4c55-b186-68fa47a8441b",
   "metadata": {},
   "outputs": [],
   "source": [
    "# Specify the stock code\n",
    "stock_code = '2330'"
   ]
  },
  {
   "cell_type": "code",
   "execution_count": null,
   "id": "3da712ac-dadd-44d0-a44d-7290912ca3b4",
   "metadata": {},
   "outputs": [],
   "source": [
    "# Fetch the stock data\n",
    "stock = twstock.Stock(stock_code)\n",
    "stock_data = stock.fetch(2024, 12)\n",
    "print(stock_data)"
   ]
  },
  {
   "cell_type": "code",
   "execution_count": null,
   "id": "eb07291d-800c-44ae-9c1e-09d588b91c9a",
   "metadata": {},
   "outputs": [],
   "source": [
    "# Extract the relevant data\n",
    "dates = [data.date for data in stock_data]\n",
    "close_prices = [data.close for data in stock_data]\n",
    "print(dates)"
   ]
  },
  {
   "cell_type": "code",
   "execution_count": null,
   "id": "a0319b23-342b-4c54-892c-496d9b6e1d7d",
   "metadata": {},
   "outputs": [],
   "source": [
    "# Plot the stock price over time\n",
    "plt.figure(figsize=(12, 6))\n",
    "plt.plot(dates, close_prices)\n",
    "plt.title(f'{stock_code} Stock Price')\n",
    "plt.xlabel('Date')\n",
    "plt.ylabel('Close Price')\n",
    "plt.xticks(rotation=90)\n",
    "plt.grid()"
   ]
  },
  {
   "cell_type": "code",
   "execution_count": null,
   "id": "c84fef79-5b29-45bb-bf05-79d2585955c9",
   "metadata": {},
   "outputs": [],
   "source": [
    "stock_pd = pd.DataFrame(stock_data)\n",
    "stock_pd"
   ]
  },
  {
   "cell_type": "code",
   "execution_count": null,
   "id": "a4dffb0d-3cf9-4952-97f2-d0aa43a6a7b7",
   "metadata": {},
   "outputs": [],
   "source": [
    "plt.rcParams['font.sans-serif'] = ['Heiti TC'] # 修改中文字體\n",
    "plt.rcParams['axes.unicode_minus'] = False # 顯示ASCII負號, NOT unicode 負號\n",
    "\n",
    "plt.figure(figsize=(15, 6))\n",
    "plt.plot(dates, stock_pd.close, '-' , label=\"收盤價\")\n",
    "plt.plot(dates, stock_pd.open, '-' , label=\"開盤價\")\n",
    "plt.title(f'{stock_code} Stock Price')\n",
    "plt.xlabel('日期')\n",
    "plt.ylabel('收盤價')\n",
    "plt.xticks(rotation=90)\n",
    "plt.grid(True, axis='y')\n",
    "plt.legend()"
   ]
  },
  {
   "cell_type": "code",
   "execution_count": null,
   "id": "30f2d7a9-1d9a-4de1-813d-f8f4626a4ce1",
   "metadata": {},
   "outputs": [],
   "source": []
  }
 ],
 "metadata": {
  "kernelspec": {
   "display_name": ".venv",
   "language": "python",
   "name": "python3"
  },
  "language_info": {
   "codemirror_mode": {
    "name": "ipython",
    "version": 3
   },
   "file_extension": ".py",
   "mimetype": "text/x-python",
   "name": "python",
   "nbconvert_exporter": "python",
   "pygments_lexer": "ipython3",
   "version": "3.13.1"
  }
 },
 "nbformat": 4,
 "nbformat_minor": 5
}
