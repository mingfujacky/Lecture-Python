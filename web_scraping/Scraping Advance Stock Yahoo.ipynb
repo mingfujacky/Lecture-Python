{
 "cells": [
  {
   "cell_type": "code",
   "execution_count": 2,
   "metadata": {},
   "outputs": [
    {
     "name": "stdout",
     "output_type": "stream",
     "text": [
      "Status code:  200\n",
      "台積電(2330.TW) 走勢圖 - Yahoo奇摩股市\n"
     ]
    }
   ],
   "source": [
    "import requests\n",
    "from bs4 import BeautifulSoup\n",
    "\n",
    "url = 'https://tw.stock.yahoo.com/quote/2330.TW'    # 台積電 Yahoo 股市網址\n",
    "\n",
    "response = requests.get(url)\n",
    "print('Status code: ', response.status_code)\n",
    "sp = BeautifulSoup(response.text, 'html.parser')\n",
    "print(sp.title.text)  "
   ]
  },
  {
   "cell_type": "code",
   "execution_count": 14,
   "metadata": {},
   "outputs": [
    {
     "name": "stdout",
     "output_type": "stream",
     "text": [
      "收盤價:  1,060\n",
      "漲跌值:  20.00\n"
     ]
    }
   ],
   "source": [
    "#找到h1的內容 (台積電)\n",
    "company = sp.find_all('h1')[1].text\n",
    "a = sp.select(r'.Fz\\(32px\\)')[0].text     # 找到第一個 class 為 Fz(32px) 的內容\n",
    "b = sp.select(r'.Fz\\(20px\\)')[0].text     # 找到第一個 class 為 Fz(20px) 的內容\n",
    "print('收盤價: ', a)\n",
    "print('漲跌值: ', b)"
   ]
  },
  {
   "cell_type": "code",
   "execution_count": 16,
   "metadata": {},
   "outputs": [
    {
     "name": "stdout",
     "output_type": "stream",
     "text": [
      "+\n"
     ]
    }
   ],
   "source": [
    "# 漲或跌的狀態\n",
    "s = ''\n",
    "c = sp.select('#main-0-QuoteHeader-Proxy')[0]\n",
    "if c.select(r'.C\\(\\$c-trend-down\\)'):\n",
    "    s = '-'\n",
    "elif c.select(r'.C\\(\\$c-trend-up\\)'):\n",
    "    s = '+'\n",
    "print(s)    "
   ]
  },
  {
   "cell_type": "code",
   "execution_count": 18,
   "metadata": {},
   "outputs": [
    {
     "name": "stdout",
     "output_type": "stream",
     "text": [
      "台積電 : 1,060 ( +20.00 )\n"
     ]
    }
   ],
   "source": [
    "# 列印結果\n",
    "print(f'{company} : {a} ( {s}{b} )')   # 印出結果\n"
   ]
  }
 ],
 "metadata": {
  "kernelspec": {
   "display_name": ".venv",
   "language": "python",
   "name": "python3"
  },
  "language_info": {
   "codemirror_mode": {
    "name": "ipython",
    "version": 3
   },
   "file_extension": ".py",
   "mimetype": "text/x-python",
   "name": "python",
   "nbconvert_exporter": "python",
   "pygments_lexer": "ipython3",
   "version": "3.13.1"
  }
 },
 "nbformat": 4,
 "nbformat_minor": 2
}
