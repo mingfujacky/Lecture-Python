{
 "cells": [
  {
   "cell_type": "code",
   "execution_count": 1,
   "metadata": {
    "id": "euYHrsadZgNd"
   },
   "outputs": [],
   "source": [
    "from matplotlib import pyplot as plt\n",
    "import pandas as pd\n",
    "from pathlib import Path"
   ]
  },
  {
   "cell_type": "markdown",
   "metadata": {
    "id": "buFQEiWqZgNg"
   },
   "source": [
    "# Load data"
   ]
  },
  {
   "cell_type": "code",
   "execution_count": null,
   "metadata": {
    "id": "DYouwStLZgNg"
   },
   "outputs": [],
   "source": [
    "#df = pd.read_csv(\"http://bit.ly/uforeports\")\n",
    "target_csv_path = Path.cwd() / '..' / 'files' / 'csv' / 'ufo.csv'\n",
    "df = pd.read_csv(target_csv_path)\n",
    "df"
   ]
  },
  {
   "cell_type": "code",
   "execution_count": null,
   "metadata": {
    "colab": {
     "base_uri": "https://localhost:8080/",
     "height": 206
    },
    "executionInfo": {
     "elapsed": 473,
     "status": "ok",
     "timestamp": 1725291586210,
     "user": {
      "displayName": "林志偉",
      "userId": "13117312472561068650"
     },
     "user_tz": -480
    },
    "id": "J4LXwM0_ZgNh",
    "outputId": "42c4cce7-d2e6-44b3-bda4-89e8b9c5d8a2"
   },
   "outputs": [],
   "source": [
    "df.head()"
   ]
  },
  {
   "cell_type": "markdown",
   "metadata": {
    "id": "C1vIEBVXZgNi"
   },
   "source": [
    "# Question\n",
    "我們想知道最常出現 UFO 的前五個州"
   ]
  },
  {
   "cell_type": "code",
   "execution_count": null,
   "metadata": {
    "id": "eXwiBE9BZgNi"
   },
   "outputs": [],
   "source": [
    "# 用 groupby 以州來分組，計算每一欄出現幾筆資料\n",
    "# Time 這欄表示不同州出現 UFO 的次數, 所以要根據 Time 來排序\n",
    "df_state = df.groupby(\"State\").count()\n",
    "df_state.head(5)"
   ]
  },
  {
   "cell_type": "code",
   "execution_count": null,
   "metadata": {
    "colab": {
     "base_uri": "https://localhost:8080/",
     "height": 1000
    },
    "collapsed": true,
    "executionInfo": {
     "elapsed": 490,
     "status": "ok",
     "timestamp": 1725291600896,
     "user": {
      "displayName": "林志偉",
      "userId": "13117312472561068650"
     },
     "user_tz": -480
    },
    "id": "d416TBw3ZgNj",
    "jupyter": {
     "outputs_hidden": true
    },
    "outputId": "a0c04333-dff2-4d76-9441-7b17db1f8590"
   },
   "outputs": [],
   "source": [
    "# inplace = True 指令讓你可以直接修改原本的 DataDrame。\n",
    "df_state.sort_values(by=\"Time\", ascending = False, inplace = True)\n",
    "df_state.head(5)"
   ]
  },
  {
   "cell_type": "code",
   "execution_count": null,
   "metadata": {
    "colab": {
     "base_uri": "https://localhost:8080/",
     "height": 394
    },
    "executionInfo": {
     "elapsed": 334,
     "status": "ok",
     "timestamp": 1725073978468,
     "user": {
      "displayName": "林志偉",
      "userId": "13117312472561068650"
     },
     "user_tz": -480
    },
    "id": "cSWsY_GaZgNk",
    "outputId": "c80c2943-3e70-48dc-cb97-47ccf0f4c9e1"
   },
   "outputs": [],
   "source": [
    "df_state[:5]"
   ]
  },
  {
   "cell_type": "markdown",
   "metadata": {
    "id": "a5bvkNMZZgNk"
   },
   "source": [
    "# 長條圖"
   ]
  },
  {
   "cell_type": "code",
   "execution_count": null,
   "metadata": {
    "colab": {
     "base_uri": "https://localhost:8080/",
     "height": 476
    },
    "executionInfo": {
     "elapsed": 554,
     "status": "ok",
     "timestamp": 1725291619229,
     "user": {
      "displayName": "林志偉",
      "userId": "13117312472561068650"
     },
     "user_tz": -480
    },
    "id": "RD1_-iSAZgNk",
    "outputId": "72e75b5b-d452-411b-8ba5-11d463165a0a"
   },
   "outputs": [],
   "source": [
    "df_state[:5].Time.plot(kind='bar')"
   ]
  }
 ],
 "metadata": {
  "colab": {
   "provenance": []
  },
  "kernelspec": {
   "display_name": ".venv",
   "language": "python",
   "name": "python3"
  },
  "language_info": {
   "codemirror_mode": {
    "name": "ipython",
    "version": 3
   },
   "file_extension": ".py",
   "mimetype": "text/x-python",
   "name": "python",
   "nbconvert_exporter": "python",
   "pygments_lexer": "ipython3",
   "version": "3.13.1"
  }
 },
 "nbformat": 4,
 "nbformat_minor": 0
}
