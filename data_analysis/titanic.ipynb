{
 "cells": [
  {
   "cell_type": "code",
   "execution_count": null,
   "metadata": {
    "id": "gmyPY2O8Lf3O",
    "outputId": "96deb1b3-86af-461e-bc78-1ac3afe57401"
   },
   "outputs": [],
   "source": [
    "import pandas as pd\n",
    "import sklearn\n",
    "from matplotlib import pyplot as plt\n",
    "from pathlib import Path"
   ]
  },
  {
   "cell_type": "code",
   "execution_count": null,
   "metadata": {
    "id": "RtkCd2FzLf3R"
   },
   "outputs": [],
   "source": [
    "target_csv_path = Path.cwd() / '..' / 'files' / 'csv' / 'titanic.csv'\n",
    "titanic = pd.read_csv(target_csv_path)\n",
    "titanic.head()"
   ]
  },
  {
   "cell_type": "markdown",
   "metadata": {
    "id": "6_7WfH_OLf3S"
   },
   "source": [
    "# Plotting"
   ]
  },
  {
   "cell_type": "markdown",
   "metadata": {
    "id": "dK0Zqx5NLf3T"
   },
   "source": [
    "### Histograms"
   ]
  },
  {
   "cell_type": "code",
   "execution_count": null,
   "metadata": {
    "id": "Pr69iuHSLf3T",
    "outputId": "7a4adfbc-94e2-4d94-e665-a5d125658f54"
   },
   "outputs": [],
   "source": [
    "import matplotlib.pyplot as plt\n",
    "plt.hist(titanic['Fare'])\n",
    "plt.title(\"Titanic Fare Histogram\")\n",
    "plt.xlabel(\"Price Paid (GBP)\")\n",
    "plt.ylabel(\"Number of Passengers\")\n",
    "plt.show()"
   ]
  },
  {
   "cell_type": "code",
   "execution_count": null,
   "metadata": {
    "id": "uOhVbgVhLf3T",
    "outputId": "3a4c572e-7079-439b-8451-4c23c47a4364"
   },
   "outputs": [],
   "source": [
    "titanic['Fare'].hist()"
   ]
  },
  {
   "cell_type": "markdown",
   "metadata": {
    "id": "38MqmVbLLf3U"
   },
   "source": [
    "### Other Graphs\n",
    "Pretty much any graph you can imagine is possible with these python based tools. Check out the [matplotlib gallery](http://matplotlib.org/gallery.html) for more."
   ]
  },
  {
   "cell_type": "markdown",
   "metadata": {
    "id": "lasxNQn9Lf3U"
   },
   "source": [
    "---\n",
    "# Simple Modeling\n",
    "What if we want to use this data to predict who survived?\n",
    "\n",
    "### Data Cleanup\n",
    "First we need to take all the variables that would be useful for making predictions. This can involve a little more art than science because in many cases you can create numerical variables out of text variables. For example if we understood the cabin numbering well we could make a variable that indicates which deck they were staying on, or if they were on the port or starboard side, etc.\n",
    "\n",
    "Here we'll keep it simple and convert the variables 'Sex' and 'Embarked' into numbers."
   ]
  },
  {
   "cell_type": "code",
   "execution_count": null,
   "metadata": {
    "id": "bH9vKBvoLf3U",
    "outputId": "dc342b47-d387-4e09-fa63-41acf865df35"
   },
   "outputs": [],
   "source": [
    "titanic.head(3).T"
   ]
  },
  {
   "cell_type": "code",
   "execution_count": null,
   "metadata": {
    "id": "BE7Ae8xwLf3V",
    "outputId": "7c124995-6e00-4471-ed1f-28292c13462e"
   },
   "outputs": [],
   "source": [
    "titanic_exploded = pd.get_dummies(\n",
    "    titanic[['Survived', 'Pclass', 'Sex', 'Age', 'SibSp',\n",
    "             'Parch', 'Fare', 'Embarked']])\n",
    "titanic_exploded.head()"
   ]
  },
  {
   "cell_type": "markdown",
   "metadata": {
    "id": "BKNlzY-gLf3V"
   },
   "source": [
    "As you can see the `get_dummies` command expanded the categorical variables into 1/0 flags where 1 means true and 0 means false. There are two extra categories though. If we know whether or not somebody is female, knowing whether or not they are male is redundant. Similarly we don't need a flag for each of the three ports somebody could have embarked from. If they didn't leave from Cherbourg or Queenstown then we know they must have boarded in Southhampton. So we'll remove these redundant variables."
   ]
  },
  {
   "cell_type": "code",
   "execution_count": null,
   "metadata": {
    "id": "D40xvEZBLf3V",
    "outputId": "c58e629d-1364-488a-bdaa-2e0db14989ee"
   },
   "outputs": [],
   "source": [
    "titanic_exploded.drop(['Sex_male', 'Embarked_S'], axis=1, inplace=True)\n",
    "titanic_exploded.head()"
   ]
  },
  {
   "cell_type": "markdown",
   "metadata": {
    "id": "8-jaZXoXLf3V"
   },
   "source": [
    "### Null Values\n",
    "The next thing we need to do before making a predictive model is check for null values. Luckily pandas includes the isnull() function to easily flag the nulls. We can use this to visualize some examples."
   ]
  },
  {
   "cell_type": "code",
   "execution_count": null,
   "metadata": {
    "id": "hNbueG7rLf3W",
    "outputId": "21f2f76e-021e-40fd-a59c-9c474cce489c"
   },
   "outputs": [],
   "source": [
    "titanic_exploded[titanic_exploded.isnull().any(axis=1)].head()"
   ]
  },
  {
   "cell_type": "markdown",
   "metadata": {
    "id": "1BanF7XmLf3W"
   },
   "source": [
    "We can use `isnull()` and sum to see how many nulls there are for each variable in our dataset."
   ]
  },
  {
   "cell_type": "code",
   "execution_count": null,
   "metadata": {
    "id": "wnUpZkuTLf3W",
    "outputId": "b94d0493-af1d-4599-dc41-ff8f717e4e90"
   },
   "outputs": [],
   "source": [
    "titanic_exploded.isnull().sum()"
   ]
  },
  {
   "cell_type": "markdown",
   "metadata": {
    "id": "lp2rSlYpLf3W"
   },
   "source": [
    "We now know age is null is about 20% of our data and it's the only piece of our numerical data that's ever null. Age seems like an important variable for our model, so we're going to simply drop the null records. This is often a point of debate though and often nulls are filled in with the mean or median value of that variable, or even will be predicted by another model."
   ]
  },
  {
   "cell_type": "code",
   "execution_count": null,
   "metadata": {
    "id": "8_S7NU83Lf3W"
   },
   "outputs": [],
   "source": [
    "titanic_non_null = titanic_exploded[titanic_exploded['Age'].notnull()]"
   ]
  },
  {
   "cell_type": "markdown",
   "metadata": {
    "id": "tyLnXRc4Lf3W"
   },
   "source": [
    "### Building the Model\n",
    "Next we try to build a statistical model. There are tons of different models we could choose here. If you're interested in learning more about difference statistical techniques I highly recommend reading [An Introduction to Statistical Learning](http://www-bcf.usc.edu/~gareth/ISL/). Most of the code samples are in R, but the book covers the techniques so well and concisely that it's by far the best introductory book on the subject. Also the author makes it free to download in pdf form at the link.\n",
    "\n",
    "For our example we're going to build a classification tree."
   ]
  },
  {
   "cell_type": "code",
   "execution_count": null,
   "metadata": {
    "id": "JzaaBn0dLf3W",
    "outputId": "4f865e18-4340-4d32-c6df-078a544b9e50"
   },
   "outputs": [],
   "source": [
    "# pip install scikit-learn\n",
    "from sklearn import tree\n",
    "from StringIO import StringIO\n",
    "from IPython.display import Image #needed to render in notebook\n",
    "import pydot\n",
    "\n",
    "c_tree = tree.DecisionTreeClassifier(max_depth=4, min_samples_leaf=10)\n",
    "c_tree = c_tree.fit(titanic_non_null.ix[:,'Pclass':], titanic_non_null['Survived'])\n",
    "\n",
    "dot_data = StringIO()\n",
    "tree.export_graphviz(c_tree, out_file=dot_data)\n",
    "graph = pydot.graph_from_dot_data(dot_data.getvalue())\n",
    "Image(graph.create_png())\n",
    "# graph.write_pdf(\"iris.pdf\") # could save as a pdf too"
   ]
  },
  {
   "cell_type": "markdown",
   "metadata": {
    "id": "NTVRPv_tLf3W"
   },
   "source": [
    "Unfortunately instead of using labels, this nice visualization package shows the variable as X[index] instead of using the variable name. So we'll list the column names below for reference.\n",
    "\n",
    "*For full disclosure, creating this tree visualization requires installing [graphviz](http://www.graphviz.org/Download..php). On a mac it's easiest to install using macports, on Linux it's easy to install (as always!) using apt-get, and I have no idea about Windows.*"
   ]
  },
  {
   "cell_type": "code",
   "execution_count": null,
   "metadata": {
    "id": "Qaq3EIXvLf3W",
    "outputId": "dfa6ed07-66eb-4c8c-bc07-a41901131e45"
   },
   "outputs": [],
   "source": [
    "list(titanic_non_null.ix[:,'Pclass':].columns.values)"
   ]
  },
  {
   "cell_type": "markdown",
   "metadata": {
    "id": "qf3WSU6dLf3X"
   },
   "source": [
    "An easy way to visualize how well the model is working is to look at a confusion matrix"
   ]
  },
  {
   "cell_type": "code",
   "execution_count": null,
   "metadata": {
    "id": "db-zeU5hLf3X",
    "outputId": "afe10ab3-8f39-4b69-982a-3dbd3148754f"
   },
   "outputs": [],
   "source": [
    "from sklearn.metrics import confusion_matrix\n",
    "\n",
    "# first we use the model to make predictions\n",
    "predictions = c_tree.predict(titanic_non_null.ix[:,'Pclass':])\n",
    "\n",
    "conf_mat = confusion_matrix(titanic_non_null['Survived'], predictions)\n",
    "print(conf_mat)"
   ]
  },
  {
   "cell_type": "markdown",
   "metadata": {
    "id": "SDpUAeMnLf3X"
   },
   "source": [
    "Or show a fancy graphic"
   ]
  },
  {
   "cell_type": "code",
   "execution_count": null,
   "metadata": {
    "id": "eCY1VCVDLf3X",
    "outputId": "dd62d5a6-405e-4abb-b95d-4396bd95306c"
   },
   "outputs": [],
   "source": [
    "plt.matshow(conf_mat)\n",
    "plt.title('Confusion matrix')\n",
    "plt.colorbar()\n",
    "plt.ylabel('True label')\n",
    "plt.xlabel('Predicted label')\n",
    "plt.show()"
   ]
  },
  {
   "cell_type": "markdown",
   "metadata": {
    "id": "DUBnFroCLf3X"
   },
   "source": [
    "---\n",
    "# Wrap Up\n",
    "This case study was just a short example of what you can do with these techniques. Machine learning and statistics are powerful tools that are being applied to almost all industries and problems today.\n",
    "\n",
    "For more cool statistics examples check out the [yhat blog](http://blog.yhathq.com/) or you can try your hand at a [kaggle competition](http://www.kaggle.com/competitions)."
   ]
  }
 ],
 "metadata": {
  "colab": {
   "provenance": []
  },
  "kernelspec": {
   "display_name": ".venv",
   "language": "python",
   "name": "python3"
  },
  "language_info": {
   "codemirror_mode": {
    "name": "ipython",
    "version": 3
   },
   "file_extension": ".py",
   "mimetype": "text/x-python",
   "name": "python",
   "nbconvert_exporter": "python",
   "pygments_lexer": "ipython3",
   "version": "3.13.1"
  }
 },
 "nbformat": 4,
 "nbformat_minor": 0
}
