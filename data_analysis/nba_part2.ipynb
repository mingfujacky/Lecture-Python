{
 "cells": [
  {
   "cell_type": "code",
   "execution_count": null,
   "metadata": {
    "id": "unxPZyTHM9QB"
   },
   "outputs": [],
   "source": [
    "import pandas as pd\n",
    "import requests\n",
    "\n",
    "download_url = 'https://raw.githubusercontent.com/fivethirtyeight/data/master/nba-elo/nbaallelo.csv'\n",
    "\n",
    "response = requests.get(download_url)\n",
    "\n",
    "with open('nba_all_elo.csv', 'wb') as f:\n",
    "    f.write(response.content)\n",
    "\n",
    "nba = pd.read_csv('nba_all_elo.csv')\n",
    "nba.head()"
   ]
  },
  {
   "cell_type": "code",
   "execution_count": null,
   "metadata": {
    "id": "nR_RyWNiM9QF"
   },
   "outputs": [],
   "source": [
    "knicks_pts_by_year = nba[nba['fran_id'] == 'Knicks'].groupby('year_id')['pts'].sum()"
   ]
  },
  {
   "cell_type": "code",
   "execution_count": null,
   "metadata": {
    "id": "f0b_PxsDM9QF",
    "outputId": "d8e86082-7a61-4b2a-e06b-d36d642d4458"
   },
   "outputs": [],
   "source": [
    "knicks_pts_by_year"
   ]
  },
  {
   "cell_type": "code",
   "execution_count": null,
   "metadata": {
    "id": "Z63Hs_XAM9QF",
    "outputId": "3925916f-fab7-4ae8-8eba-dc55333cf4ec"
   },
   "outputs": [],
   "source": [
    "knicks_pts_by_year.plot()"
   ]
  },
  {
   "cell_type": "code",
   "execution_count": null,
   "metadata": {
    "id": "mWOqt2zTM9QG",
    "outputId": "0a7ca046-bcd7-471e-b2da-156d3b00f458"
   },
   "outputs": [],
   "source": [
    "knicks_pts_by_year.tail(10).plot(kind='bar')"
   ]
  },
  {
   "cell_type": "code",
   "execution_count": null,
   "metadata": {
    "id": "dygz3DlNM9QG",
    "outputId": "f4be7e1a-3fb1-46ed-e247-306842e198d6"
   },
   "outputs": [],
   "source": [
    "nba[(nba['fran_id'] == 'Knicks') & (nba['year_id'] > 2000)].plot(kind='scatter', x='pts', y='opp_pts', s=0.5)"
   ]
  },
  {
   "cell_type": "code",
   "execution_count": null,
   "metadata": {
    "id": "clI9L1XiM9QH",
    "outputId": "07934400-2b60-4a3b-eca0-c4f46197a7ed"
   },
   "outputs": [],
   "source": [
    "nba[nba['pts'] == nba['opp_pts']].empty"
   ]
  },
  {
   "cell_type": "code",
   "execution_count": null,
   "metadata": {
    "id": "jlwmJQWCM9QH",
    "outputId": "bbb7ea35-1292-4518-84e7-5d7b35d7c998"
   },
   "outputs": [],
   "source": [
    "heat_13_wl = nba[\n",
    "    (nba['fran_id'] == 'Heat') &\n",
    "    (nba['year_id'] == 2013)\n",
    "]['game_result'].value_counts()\n",
    "heat_13_wl"
   ]
  },
  {
   "cell_type": "code",
   "execution_count": null,
   "metadata": {
    "id": "4AepYLIKM9QI",
    "outputId": "2c1f2236-bf1b-481e-fcb7-6904cf36a97d"
   },
   "outputs": [],
   "source": [
    "heat_13_wl.plot(kind='pie')"
   ]
  },
  {
   "cell_type": "code",
   "execution_count": null,
   "metadata": {
    "id": "4hEpqbyYM9QI"
   },
   "outputs": [],
   "source": []
  }
 ],
 "metadata": {
  "colab": {
   "provenance": []
  },
  "kernelspec": {
   "display_name": "Python 3",
   "language": "python",
   "name": "python3"
  },
  "language_info": {
   "codemirror_mode": {
    "name": "ipython",
    "version": 3
   },
   "file_extension": ".py",
   "mimetype": "text/x-python",
   "name": "python",
   "nbconvert_exporter": "python",
   "pygments_lexer": "ipython3",
   "version": "3.8.5"
  }
 },
 "nbformat": 4,
 "nbformat_minor": 0
}
