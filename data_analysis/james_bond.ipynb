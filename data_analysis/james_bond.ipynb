{
 "cells": [
  {
   "cell_type": "code",
   "execution_count": null,
   "metadata": {},
   "outputs": [],
   "source": [
    "import numpy as np\n",
    "import pandas as pd\n",
    "from pathlib import Path"
   ]
  },
  {
   "cell_type": "markdown",
   "metadata": {},
   "source": [
    "# Load data set"
   ]
  },
  {
   "cell_type": "code",
   "execution_count": null,
   "metadata": {},
   "outputs": [],
   "source": [
    "path = Path.cwd() / '..' / 'files' / 'csv' / 'james_bond_data.csv'\n",
    "james_bond_data = pd.read_csv(path).convert_dtypes()\n",
    "james_bond_data.head()\n",
    "james_bond_data"
   ]
  },
  {
   "cell_type": "markdown",
   "metadata": {},
   "source": [
    "Heading | Meaning\n",
    "--------|--------\n",
    "Release | The release date of the movie\n",
    "Movie | The title of the movie\n",
    "Bond | The actor playing the title role\n",
    "Bond_Car_MFG | The manufacturer of James Bond’s car\n",
    "US_Gross | The movie’s gross US earnings\n",
    "World_Gross | The movie’s gross worldwide earnings\n",
    "Budget ($ 000s) | The movie’s budget, in thousands of US dollars\n",
    "Film_Length | The running time of the movie\n",
    "Avg_User_IMDB | The average user rating from IMDb\n",
    "Avg_User_Rtn_Tom | The average user rating from Rotten Tomatoes\n",
    "Martinis | The number of martinis that Bond drank in the movie\n",
    "Kills_Bond | The number of killed enemies\n"
   ]
  },
  {
   "cell_type": "code",
   "execution_count": null,
   "metadata": {},
   "outputs": [],
   "source": [
    "# Structure of data set\n",
    "print(james_bond_data.shape) \n",
    "# print(james_bond_data.dtypes)\n",
    "print(james_bond_data.info(memory_usage='deep'))"
   ]
  },
  {
   "cell_type": "code",
   "execution_count": null,
   "metadata": {},
   "outputs": [],
   "source": [
    "# Creating meaningful column names \n",
    "new_column_names = {\n",
    "    \"Release\": \"release_date\",\n",
    "    \"Movie\": \"movie_title\",\n",
    "    \"Bond\": \"bond_actor\",\n",
    "    \"Bond_Car_MFG\": \"car_manufacturer\",\n",
    "    \"US_Gross\": \"income_usa\",\n",
    "    \"World_Gross\": \"income_world\",\n",
    "    \"Budget ($ 000s)\": \"movie_budget\",\n",
    "    \"Film_Length\": \"film_length\",\n",
    "    \"Avg_User_IMDB\": \"imdb\",\n",
    "    \"Avg_User_Rtn_Tom\": \"rotten_tomatoes\",\n",
    "    \"Martinis\": \"martinis_consumed\",\n",
    "    \"Kills_Bond\": \"bond_kills\",\n",
    "   }\n",
    "data = james_bond_data.rename(columns=new_column_names)\n",
    "print(data.columns)\n",
    "data\n"
   ]
  },
  {
   "cell_type": "markdown",
   "metadata": {},
   "source": [
    "# Dealing With Missing Data"
   ]
  },
  {
   "cell_type": "code",
   "execution_count": null,
   "metadata": {},
   "outputs": [],
   "source": [
    "mask = data.isna().any(axis=\"columns\")\n",
    "mask"
   ]
  },
  {
   "cell_type": "code",
   "execution_count": null,
   "metadata": {},
   "outputs": [],
   "source": [
    "data.loc[data.isna().any(axis=\"columns\")]"
   ]
  },
  {
   "cell_type": "code",
   "execution_count": null,
   "metadata": {},
   "outputs": [],
   "source": [
    "foo = pd.DataFrame({\"imdb\": {10: 7.1}, \"rotten_tomatoes\": {10: 6.8}})\n",
    "foo"
   ]
  },
  {
   "cell_type": "code",
   "execution_count": null,
   "metadata": {},
   "outputs": [],
   "source": [
    "data = james_bond_data.rename(columns=new_column_names).combine_first(pd.DataFrame({\"imdb\": {10: 7.1}, \"rotten_tomatoes\": {10: 6.8}}))\n",
    "print(data.loc[data.isna().any(axis=\"columns\")])\n",
    "data"
   ]
  },
  {
   "cell_type": "markdown",
   "metadata": {},
   "source": [
    "# Correcting Invalid Data Types"
   ]
  },
  {
   "cell_type": "code",
   "execution_count": null,
   "metadata": {},
   "outputs": [],
   "source": [
    "# remove $ and , in financial related columns \n",
    "data[[\"income_usa\", \"income_world\", \"movie_budget\", \"film_length\"]].head()"
   ]
  },
  {
   "cell_type": "code",
   "execution_count": null,
   "metadata": {},
   "outputs": [],
   "source": [
    "#foo1 = data[\"income_usa\"].replace(\"[$,]\", \"\", regex=True).astype(\"Float64\")\n",
    "#foo2 = data[\"income_world\"].replace(\"[$,]\", \"\", regex=True).astype(\"Float64\")\n",
    "foo3 = data[\"movie_budget\"].replace(\"[$,]\", \"\", regex=True).astype(\"Float64\")\n",
    "foo3"
   ]
  },
  {
   "cell_type": "code",
   "execution_count": null,
   "metadata": {},
   "outputs": [],
   "source": [
    "data = (james_bond_data\n",
    "        .rename(columns=new_column_names)\n",
    "        .combine_first(pd.DataFrame({\"imdb\": {10: 7.1}, \"rotten_tomatoes\": {10: 6.8}}))\n",
    "        .assign(\n",
    "            income_usa = lambda data: (data[\"income_usa\"].replace(\"[$,]\", \"\", regex=True)).astype(\"Float64\"),\n",
    "            income_world = lambda data: (data[\"income_world\"].replace(\"[$,]\", \"\", regex=True)).astype(\"Float64\"),\n",
    "            movie_budget = lambda data: (data[\"movie_budget\"].replace(\"[$,]\", \"\", regex=True)).astype(\"Float64\")))"
   ]
  },
  {
   "cell_type": "code",
   "execution_count": null,
   "metadata": {},
   "outputs": [],
   "source": [
    "data.info()"
   ]
  },
  {
   "cell_type": "code",
   "execution_count": null,
   "metadata": {},
   "outputs": [],
   "source": [
    "data[\"film_length\"].head(3)"
   ]
  },
  {
   "cell_type": "code",
   "execution_count": null,
   "metadata": {},
   "outputs": [],
   "source": [
    "# remove mins from film_length\n",
    "foo = data[\"film_length\"].str.removesuffix(\"mins\").astype(\"Int64\")\n",
    "foo.head(3)"
   ]
  },
  {
   "cell_type": "code",
   "execution_count": null,
   "metadata": {},
   "outputs": [],
   "source": [
    "data = (james_bond_data\n",
    "        .rename(columns=new_column_names)\n",
    "        .combine_first(pd.DataFrame({\"imdb\": {10: 7.1}, \"rotten_tomatoes\": {10: 6.8}}))\n",
    "        .assign(\n",
    "            income_usa = lambda data: (data[\"income_usa\"].replace(\"[$,]\", \"\", regex=True)).astype(\"Float64\"),\n",
    "            income_world = lambda data: (data[\"income_world\"].replace(\"[$,]\", \"\", regex=True)).astype(\"Float64\"),\n",
    "            movie_budget = lambda data: (data[\"movie_budget\"].replace(\"[$,]\", \"\", regex=True)).astype(\"Float64\"),\n",
    "            film_length = lambda data: (data[\"film_length\"].str.removesuffix(\"mins\").astype(\"Int64\"))))"
   ]
  },
  {
   "cell_type": "code",
   "execution_count": null,
   "metadata": {},
   "outputs": [],
   "source": [
    "data['release_date'].head(3)"
   ]
  },
  {
   "cell_type": "code",
   "execution_count": null,
   "metadata": {},
   "outputs": [],
   "source": [
    "# adjust release date as datatime type and add a new release_year column\n",
    "#foo1 = pd.to_datetime(data[\"release_date\"], format=\"%B, %Y\")\n",
    "foo2 = pd.to_datetime(data[\"release_date\"], format=\"%B, %Y\").dt.year.astype(\"Int64\")\n",
    "foo2.head(3)"
   ]
  },
  {
   "cell_type": "code",
   "execution_count": null,
   "metadata": {},
   "outputs": [],
   "source": [
    "data = (james_bond_data\n",
    "        .rename(columns=new_column_names)\n",
    "        .combine_first(pd.DataFrame({\"imdb\": {10: 7.1}, \"rotten_tomatoes\": {10: 6.8}}))\n",
    "        .assign(\n",
    "            income_usa = lambda data: (data[\"income_usa\"].replace(\"[$,]\", \"\", regex=True)).astype(\"Float64\"),\n",
    "            income_world = lambda data: (data[\"income_world\"].replace(\"[$,]\", \"\", regex=True)).astype(\"Float64\"),\n",
    "            movie_budget = lambda data: (data[\"movie_budget\"].replace(\"[$,]\", \"\", regex=True)).astype(\"Float64\"),\n",
    "            film_length = lambda data: (data[\"film_length\"].str.removesuffix(\"mins\").astype(\"Int64\")),\n",
    "            release_date = lambda data: (pd.to_datetime(data[\"release_date\"], format=\"%B, %Y\")),\n",
    "            release_year = lambda data: (pd.to_datetime(data[\"release_date\"], format=\"%B, %Y\").dt.year.astype(\"Int64\"))))"
   ]
  },
  {
   "cell_type": "code",
   "execution_count": null,
   "metadata": {},
   "outputs": [],
   "source": [
    "data.info()"
   ]
  },
  {
   "cell_type": "markdown",
   "metadata": {},
   "source": [
    "# Fixing Inconsistencies in Data"
   ]
  },
  {
   "cell_type": "code",
   "execution_count": null,
   "metadata": {},
   "outputs": [],
   "source": [
    "# movie_budget * 1,000 to make amount align\n",
    "foo = data[\"movie_budget\"].replace(\"[$,]\", \"\", regex=True).astype(\"Float64\")*1000\n",
    "foo.head(3)"
   ]
  },
  {
   "cell_type": "code",
   "execution_count": null,
   "metadata": {},
   "outputs": [],
   "source": [
    "data = (james_bond_data\n",
    "        .rename(columns=new_column_names)\n",
    "        .combine_first(pd.DataFrame({\"imdb\": {10: 7.1}, \"rotten_tomatoes\": {10: 6.8}}))\n",
    "        .assign(\n",
    "            income_usa = lambda data: (data[\"income_usa\"].replace(\"[$,]\", \"\", regex=True)).astype(\"Float64\"),\n",
    "            income_world = lambda data: (data[\"income_world\"].replace(\"[$,]\", \"\", regex=True)).astype(\"Float64\"),\n",
    "            movie_budget = lambda data: (data[\"movie_budget\"].replace(\"[$,]\", \"\", regex=True)).astype(\"Float64\") * 1000,\n",
    "            film_length = lambda data: (data[\"film_length\"].str.removesuffix(\"mins\").astype(\"Int64\")),\n",
    "            release_date = lambda data: (pd.to_datetime(data[\"release_date\"], format=\"%B, %Y\")),\n",
    "            release_year = lambda data: (pd.to_datetime(data[\"release_date\"], format=\"%B, %Y\").dt.year.astype(\"Int64\"))))"
   ]
  },
  {
   "cell_type": "code",
   "execution_count": null,
   "metadata": {},
   "outputs": [],
   "source": [
    "# Check spelling errors\n",
    "data[\"bond_actor\"].value_counts()"
   ]
  },
  {
   "cell_type": "code",
   "execution_count": null,
   "metadata": {},
   "outputs": [],
   "source": [
    "foo = (data[\"bond_actor\"] \n",
    ".str.replace(\"Shawn\", \"Sean\") \n",
    ".str.replace(\"MOORE\", \"Moore\"))"
   ]
  },
  {
   "cell_type": "code",
   "execution_count": null,
   "metadata": {},
   "outputs": [],
   "source": [
    "data = (james_bond_data\n",
    "        .rename(columns=new_column_names)\n",
    "        .combine_first(pd.DataFrame({\"imdb\": {10: 7.1}, \"rotten_tomatoes\": {10: 6.8}}))\n",
    "        .assign(\n",
    "            income_usa = lambda data: (data[\"income_usa\"].replace(\"[$,]\", \"\", regex=True)).astype(\"Float64\"),\n",
    "            income_world = lambda data: (data[\"income_world\"].replace(\"[$,]\", \"\", regex=True)).astype(\"Float64\"),\n",
    "            movie_budget = lambda data: (data[\"movie_budget\"].replace(\"[$,]\", \"\", regex=True)).astype(\"Float64\") * 1000,\n",
    "            film_length = lambda data: (data[\"film_length\"].str.removesuffix(\"mins\").astype(\"Int64\")),\n",
    "            release_date = lambda data: (pd.to_datetime(data[\"release_date\"], format=\"%B, %Y\")),\n",
    "            release_year = lambda data: (pd.to_datetime(data[\"release_date\"], format=\"%B, %Y\").dt.year.astype(\"Int64\")),\n",
    "            bond_actor = lambda data: (data[\"bond_actor\"].str.replace(\"Shawn\", \"Sean\").str.replace(\"MOORE\", \"Moore\"))))"
   ]
  },
  {
   "cell_type": "code",
   "execution_count": null,
   "metadata": {},
   "outputs": [],
   "source": [
    "data['car_manufacturer'].value_counts()"
   ]
  },
  {
   "cell_type": "code",
   "execution_count": null,
   "metadata": {},
   "outputs": [],
   "source": [
    "data = (james_bond_data\n",
    "        .rename(columns=new_column_names)\n",
    "        .combine_first(pd.DataFrame({\"imdb\": {10: 7.1}, \"rotten_tomatoes\": {10: 6.8}}))\n",
    "        .assign(\n",
    "            income_usa = lambda data: (data[\"income_usa\"].replace(\"[$,]\", \"\", regex=True)).astype(\"Float64\"),\n",
    "            income_world = lambda data: (data[\"income_world\"].replace(\"[$,]\", \"\", regex=True)).astype(\"Float64\"),\n",
    "            movie_budget = lambda data: (data[\"movie_budget\"].replace(\"[$,]\", \"\", regex=True)).astype(\"Float64\") * 1000,\n",
    "            film_length = lambda data: (data[\"film_length\"].str.removesuffix(\"mins\").astype(\"Int64\")),\n",
    "            release_date = lambda data: (pd.to_datetime(data[\"release_date\"], format=\"%B, %Y\")),\n",
    "            release_year = lambda data: (pd.to_datetime(data[\"release_date\"], format=\"%B, %Y\").dt.year.astype(\"Int64\")),\n",
    "            bond_actor = lambda data: (data[\"bond_actor\"].str.replace(\"Shawn\", \"Sean\").str.replace(\"MOORE\", \"Moore\")),\n",
    "            car_manufacturer = lambda data:(data[\"car_manufacturer\"].str.replace(\"Astin\",\"Aston\"))))"
   ]
  },
  {
   "cell_type": "code",
   "execution_count": null,
   "metadata": {},
   "outputs": [],
   "source": [
    "data['car_manufacturer'].value_counts()"
   ]
  },
  {
   "cell_type": "code",
   "execution_count": null,
   "metadata": {},
   "outputs": [],
   "source": [
    "# Checking for Invalid Outliers\n",
    "data[[\"film_length\", \"martinis_consumed\"]].describe()"
   ]
  },
  {
   "cell_type": "code",
   "execution_count": null,
   "metadata": {},
   "outputs": [],
   "source": [
    "data = (james_bond_data\n",
    "        .rename(columns=new_column_names)\n",
    "        .combine_first(pd.DataFrame({\"imdb\": {10: 7.1}, \"rotten_tomatoes\": {10: 6.8}}))\n",
    "        .assign(\n",
    "            income_usa = lambda data: (data[\"income_usa\"].replace(\"[$,]\", \"\", regex=True)).astype(\"Float64\"),\n",
    "            income_world = lambda data: (data[\"income_world\"].replace(\"[$,]\", \"\", regex=True)).astype(\"Float64\"),\n",
    "            movie_budget = lambda data: (data[\"movie_budget\"].replace(\"[$,]\", \"\", regex=True)).astype(\"Float64\") * 1000,\n",
    "            film_length = lambda data: (data[\"film_length\"].str.removesuffix(\"mins\").astype(\"Int64\")).replace(1200, 120),\n",
    "            release_date = lambda data: (pd.to_datetime(data[\"release_date\"], format=\"%B, %Y\")),\n",
    "            release_year = lambda data: (pd.to_datetime(data[\"release_date\"], format=\"%B, %Y\").dt.year.astype(\"Int64\")),\n",
    "            bond_actor = lambda data: (data[\"bond_actor\"].str.replace(\"Shawn\", \"Sean\").str.replace(\"MOORE\", \"Moore\")),\n",
    "            car_manufacturer = lambda data:(data[\"car_manufacturer\"].str.replace(\"Astin\",\"Aston\")),\n",
    "            martinis_consumed = lambda data:(data[\"martinis_consumed\"].replace(-6, 6))))"
   ]
  },
  {
   "cell_type": "markdown",
   "metadata": {},
   "source": [
    "# Removing Duplicate Data"
   ]
  },
  {
   "cell_type": "code",
   "execution_count": null,
   "metadata": {},
   "outputs": [],
   "source": [
    "mask = data.duplicated(keep=False)\n",
    "mask"
   ]
  },
  {
   "cell_type": "code",
   "execution_count": null,
   "metadata": {},
   "outputs": [],
   "source": [
    "data.loc[data.duplicated(keep=False)]"
   ]
  },
  {
   "cell_type": "code",
   "execution_count": null,
   "metadata": {},
   "outputs": [],
   "source": [
    "data = (james_bond_data\n",
    "        .rename(columns=new_column_names)\n",
    "        .combine_first(pd.DataFrame({\"imdb\": {10: 7.1}, \"rotten_tomatoes\": {10: 6.8}}))\n",
    "        .assign(\n",
    "            income_usa = lambda data: (data[\"income_usa\"].replace(\"[$,]\", \"\", regex=True)).astype(\"Float64\"),\n",
    "            income_world = lambda data: (data[\"income_world\"].replace(\"[$,]\", \"\", regex=True)).astype(\"Float64\"),\n",
    "            movie_budget = lambda data: (data[\"movie_budget\"].replace(\"[$,]\", \"\", regex=True)).astype(\"Float64\") * 1000,\n",
    "            film_length = lambda data: (data[\"film_length\"].str.removesuffix(\"mins\").astype(\"Int64\")).replace(1200, 120),\n",
    "            release_date = lambda data: (pd.to_datetime(data[\"release_date\"], format=\"%B, %Y\")),\n",
    "            release_year = lambda data: (pd.to_datetime(data[\"release_date\"], format=\"%B, %Y\").dt.year.astype(\"Int64\")),\n",
    "            bond_actor = lambda data: (data[\"bond_actor\"].str.replace(\"Shawn\", \"Sean\").str.replace(\"MOORE\", \"Moore\")),\n",
    "            car_manufacturer = lambda data:(data[\"car_manufacturer\"].str.replace(\"Astin\",\"Aston\")),\n",
    "            martinis_consumed = lambda data:(data[\"martinis_consumed\"].replace(-6, 6)))\n",
    "        .drop_duplicates(ignore_index=True))"
   ]
  },
  {
   "cell_type": "markdown",
   "metadata": {},
   "source": [
    "# Storing Your Cleansed Data"
   ]
  },
  {
   "cell_type": "code",
   "execution_count": null,
   "metadata": {},
   "outputs": [],
   "source": [
    "path = Path.cwd() / '..' / 'files' / 'csv' /'james_bond_data_cleansed.csv'\n",
    "\n",
    "data.to_csv(path, index=False)"
   ]
  },
  {
   "cell_type": "markdown",
   "metadata": {},
   "source": [
    "# Performing Data Analysis Using Python"
   ]
  },
  {
   "cell_type": "code",
   "execution_count": null,
   "metadata": {},
   "outputs": [],
   "source": [
    "# Q1: Regression analysis to see if the Rotten Tomatoes and IMDb rating sets are related.\n",
    "import pandas as pd\n",
    "import matplotlib.pyplot as plt\n",
    "path = Path.cwd() / '..' / 'files' / 'csv' /'james_bond_data_cleansed.csv'\n",
    "data = pd.read_csv(path).convert_dtypes()"
   ]
  },
  {
   "cell_type": "code",
   "execution_count": null,
   "metadata": {},
   "outputs": [],
   "source": [
    "data.info()"
   ]
  },
  {
   "cell_type": "code",
   "execution_count": null,
   "metadata": {},
   "outputs": [],
   "source": [
    "fig, ax = plt.subplots()\n",
    "ax.scatter(data[\"imdb\"], data[\"rotten_tomatoes\"])\n",
    "ax.set_title(\"Scatter Plot of Ratings\")\n",
    "ax.set_xlabel(\"Average IMDb Rating\")\n",
    "ax.set_ylabel(\"Average Rotten Tomatoes Rating\")\n",
    "fig.show()"
   ]
  },
  {
   "cell_type": "code",
   "execution_count": null,
   "metadata": {},
   "outputs": [],
   "source": [
    "from sklearn.linear_model import LinearRegression\n",
    "regr = LinearRegression()\n",
    "x = data.loc[:, [\"imdb\"]]\n",
    "y = data.loc[:, \"rotten_tomatoes\"]\n",
    "regr.fit(x, y)\n",
    "r_squared = f\"R-Squared: {regr.score(x, y):.2f}\"\n",
    "best_fit = f\"y = {regr.coef_[0]:.4f}x{regr.intercept_:+.4f}\"\n",
    "y_pred = regr.predict(x)\n",
    "print(r_squared)\n",
    "print(best_fit)\n",
    "print('y_pred: ',y_pred)\n",
    "print('x: ', x)\n"
   ]
  },
  {
   "cell_type": "code",
   "execution_count": null,
   "metadata": {},
   "outputs": [],
   "source": [
    "fig, ax = plt.subplots()\n",
    "ax.scatter(x, y)\n",
    "ax.plot(x, y_pred, color=\"red\")\n",
    "ax.text(7.25, 5.5, r_squared, fontsize=10)\n",
    "ax.text(7.25, 7, best_fit, fontsize=10)\n",
    "ax.set_title(\"Scatter Plot of Ratings\")\n",
    "ax.set_xlabel(\"Average IMDb Rating\")\n",
    "ax.set_ylabel(\"Average Rotten Tomatoes Rating\")\n",
    "fig.show()"
   ]
  },
  {
   "cell_type": "code",
   "execution_count": null,
   "metadata": {},
   "outputs": [],
   "source": [
    "# Q2: Are there any insights to be gleaned from analyzing the lengths of the movies?\n",
    "# prepare dataset\n",
    "length = data[\"film_length\"].value_counts(bins=7).sort_index()\n",
    "print(type(length))\n",
    "length"
   ]
  },
  {
   "cell_type": "code",
   "execution_count": null,
   "metadata": {},
   "outputs": [],
   "source": [
    "fig, ax = plt.subplots()\n",
    "length.plot.bar(\n",
    "     ax=ax,\n",
    "     title=\"Film Length Distribution\",\n",
    "     xlabel=\"Time Range (mins)\",\n",
    "     ylabel=\"Count\",\n",
    ")\n",
    "fig.show()"
   ]
  },
  {
   "cell_type": "code",
   "execution_count": null,
   "metadata": {},
   "outputs": [],
   "source": [
    "data[\"film_length\"].agg([\"min\", \"max\", \"mean\", \"std\"])"
   ]
  },
  {
   "cell_type": "code",
   "execution_count": null,
   "metadata": {},
   "outputs": [],
   "source": [
    "# Q3 Is there a relationship between the number of enemies James Bond has killed and \n",
    "# the user ratings of the movie in which they were killed?\n",
    "fig, ax = plt.subplots()\n",
    "ax.scatter(data[\"imdb\"], data[\"bond_kills\"])\n",
    "ax.set_title(\"Scatter Plot of Kills vs Ratings\")\n",
    "ax.set_xlabel(\"Average IMDb Rating\")\n",
    "ax.set_ylabel(\"Kills by Bond\")\n",
    "fig.show()"
   ]
  },
  {
   "cell_type": "markdown",
   "metadata": {},
   "source": [
    "# Communicating Your Findings"
   ]
  },
  {
   "cell_type": "code",
   "execution_count": null,
   "metadata": {},
   "outputs": [],
   "source": [
    "'''communicate your findings to other interested parties. \n",
    "After all, they’re not For Your Eyes Only. \n",
    "You could do this using a report or presentation. \n",
    "You’ll likely discuss your data sources and analysis methodology before stating your conclusions. \n",
    "Having the data and methodology behind your conclusions gives them authority. \n",
    "'''"
   ]
  },
  {
   "cell_type": "markdown",
   "metadata": {},
   "source": [
    "# Conclusion"
   ]
  },
  {
   "cell_type": "code",
   "execution_count": null,
   "metadata": {},
   "outputs": [],
   "source": [
    "# The importance of a data analysis workflow\n",
    "# The purpose of the main stages in a data analysis workflow\n",
    "# Common techniques for cleansing data\n",
    "# How to use some common data analysis methods to meet objectives\n",
    "# How to display the results of a data analysis graphically."
   ]
  },
  {
   "cell_type": "markdown",
   "metadata": {},
   "source": []
  }
 ],
 "metadata": {
  "kernelspec": {
   "display_name": ".venv",
   "language": "python",
   "name": "python3"
  },
  "language_info": {
   "codemirror_mode": {
    "name": "ipython",
    "version": 3
   },
   "file_extension": ".py",
   "mimetype": "text/x-python",
   "name": "python",
   "nbconvert_exporter": "python",
   "pygments_lexer": "ipython3",
   "version": "3.13.5"
  }
 },
 "nbformat": 4,
 "nbformat_minor": 2
}
