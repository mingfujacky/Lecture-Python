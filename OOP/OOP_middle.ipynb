{
 "cells": [
  {
   "cell_type": "markdown",
   "metadata": {},
   "source": [
    "# Object-oriented-programming (OOP)\n",
    "- 到目前為止，我們寫作的程式，都是寫一系列的 statement為主，加上 reusable 的函式，Python便會由上到下的執行 statement，這就是所謂的程序導向設計 (Procedure-Oriented Programming, POP)\n",
    "- 雖然，Python的資料型別本身都是 object (像 str, int, float, list, set等)，但由於我們在設計程式時，並沒把物件 (Object) 當成基本元件，融入我們設計程式的思考，所以在今天之前，基本上都是POP\n",
    "- 為了讓大家更容易理解，學習程式，許多程式語言都有引進'擬人化'或'擬物化'的設計，以人更容易想像的方式來組織或管理程式，這就是所謂的物件導向程式設計(OOP).\n",
    "- OOP 把物件 (Object) 當成基本元件，並在思考程式設計時，將物件建構跟使用納入其中，將object封裝進類別 (Class)，藉由將「物件」作為程式的基本單元，將程式和資料封裝其中，以提高軟體的重用性、靈活性和擴充性"
   ]
  },
  {
   "cell_type": "markdown",
   "metadata": {},
   "source": [
    "# Object (物件) = Attribute(屬性，特性) + Function(方法，行為)"
   ]
  },
  {
   "cell_type": "code",
   "execution_count": 1,
   "metadata": {},
   "outputs": [
    {
     "name": "stdout",
     "output_type": "stream",
     "text": [
      "<class '__main__.Car'>\n",
      "Car\n",
      "{}\n",
      "True\n"
     ]
    }
   ],
   "source": [
    "class Car:\n",
    "    pass\n",
    "my_car = Car()\n",
    "his_car = Car()\n",
    "print(my_car.__class__)\n",
    "print(my_car.__class__.__name__)\n",
    "print(my_car.__dict__)\n",
    "print(isinstance(my_car, Car))"
   ]
  },
  {
   "cell_type": "code",
   "execution_count": 2,
   "metadata": {},
   "outputs": [
    {
     "name": "stdout",
     "output_type": "stream",
     "text": [
      "white\n",
      "red\n",
      "black\n",
      "{'brand': 'Tesla', 'color': 'black', 'mileage': 11000}\n"
     ]
    }
   ],
   "source": [
    "# Object attribute\n",
    "class Car:\n",
    "    def __init__(self, brand, color, mileage):  # 物件初始化\n",
    "        self.brand = brand\n",
    "        self.color = color\n",
    "        self.mileage = mileage\n",
    "\n",
    "# alt1 to set attribute \n",
    "my_car = Car('Tesla', 'white', 11_000); print(my_car.color)\n",
    "# alt2 to set attribute\n",
    "my_car.color = 'red'; print(my_car.color)\n",
    "# alt3 to set attribute\n",
    "setattr(my_car, 'color', 'black'); print(getattr(my_car,'color'))\n",
    "\n",
    "print(my_car.__dict__)"
   ]
  },
  {
   "cell_type": "code",
   "execution_count": 3,
   "metadata": {},
   "outputs": [
    {
     "name": "stdout",
     "output_type": "stream",
     "text": [
      "11100\n",
      "Ba!Ba!Ba!\n",
      "Bee!Bee!Bee!\n",
      "{'brand': 'Tesla', 'color': 'white', 'mileage': 11100}\n"
     ]
    }
   ],
   "source": [
    "# Object function\n",
    "class Car:\n",
    "    def __init__(self, brand, color, mileage):  # 物件初始化\n",
    "        self.brand = brand\n",
    "        self.color = color\n",
    "        self.mileage = mileage\n",
    "\n",
    "    def drive(self, miles):\n",
    "        self.mileage += miles\n",
    "\n",
    "    def trumpet(self, sound = 'Ba'):\n",
    "        print((sound + '!') * 3)\n",
    "\n",
    "my_car = Car('Tesla', 'white', 11_000)\n",
    "my_car.drive(100)\n",
    "print(my_car.mileage)\n",
    "my_car.trumpet()\n",
    "my_car.trumpet('Bee')\n",
    "print(my_car.__dict__)"
   ]
  },
  {
   "cell_type": "code",
   "execution_count": 4,
   "metadata": {},
   "outputs": [
    {
     "name": "stdout",
     "output_type": "stream",
     "text": [
      "4\n",
      "{'__module__': '__main__', '__firstlineno__': 2, 'number_of_wheels': 4, '__init__': <function Car.__init__ at 0x1074937e0>, 'drive': <function Car.drive at 0x107493880>, 'trumpet': <function Car.trumpet at 0x107493920>, '__static_attributes__': ('brand', 'color', 'mileage'), '__dict__': <attribute '__dict__' of 'Car' objects>, '__weakref__': <attribute '__weakref__' of 'Car' objects>, '__doc__': None}\n"
     ]
    }
   ],
   "source": [
    "# Class attribute\n",
    "class Car:\n",
    "    number_of_wheels = 4\n",
    "\n",
    "    def __init__(self, brand, color, mileage):  # 物件初始化\n",
    "        self.brand = brand\n",
    "        self.color = color\n",
    "        self.mileage = mileage\n",
    "\n",
    "    def drive(self, miles):\n",
    "        self.mileage += miles\n",
    "\n",
    "    def trumpet(self, sound = 'Ba'):\n",
    "        print((sound + '!') * 3)\n",
    "\n",
    "print(Car.number_of_wheels)  \n",
    "print(Car.__dict__)      "
   ]
  },
  {
   "cell_type": "code",
   "execution_count": 5,
   "metadata": {},
   "outputs": [
    {
     "name": "stdout",
     "output_type": "stream",
     "text": [
      "1\n",
      "2\n",
      "2\n"
     ]
    }
   ],
   "source": [
    "# Class attribute\n",
    "class Car:\n",
    "    number_of_wheels = 4\n",
    "    count = 0\n",
    "\n",
    "    def __init__(self, brand, color, mileage):  # 物件初始化\n",
    "        self.brand = brand\n",
    "        self.color = color\n",
    "        self.mileage = mileage\n",
    "        Car.count += 1\n",
    "\n",
    "    def drive(self, miles):\n",
    "        self.mileage += miles\n",
    "\n",
    "    def trumpet(self, sound = 'Ba'):\n",
    "        print((sound + '!') * 3)\n",
    "\n",
    "my_car = Car('Tesla', 'white', 11_000)\n",
    "print(Car.count)\n",
    "his_car = Car('Toyota', 'black', 12_000)\n",
    "print(Car.count)\n",
    "print(my_car.count) # 也可以透過物件存取類別屬性"
   ]
  },
  {
   "cell_type": "code",
   "execution_count": 6,
   "metadata": {},
   "outputs": [
    {
     "name": "stdout",
     "output_type": "stream",
     "text": [
      "500\n",
      "-100\n"
     ]
    }
   ],
   "source": [
    "class Car:\n",
    "\n",
    "    def __init__(self, brand, color, mileage):  # 物件初始化\n",
    "        self.brand = brand\n",
    "        self.color = color\n",
    "        self.mileage = mileage\n",
    "\n",
    "    def set_mileage(self, miles):\n",
    "        self.mileage = miles\n",
    "\n",
    "    def get_mileage(self):\n",
    "        return self.mileage\n",
    "    \n",
    "my_car = Car('Tesla', 'white', 0)\n",
    "my_car.set_mileage(500)\n",
    "print(my_car.get_mileage())\n",
    "\n",
    "my_car.set_mileage(-100)\n",
    "print(my_car.get_mileage())\n"
   ]
  },
  {
   "cell_type": "code",
   "execution_count": 7,
   "metadata": {},
   "outputs": [
    {
     "name": "stdout",
     "output_type": "stream",
     "text": [
      "500\n",
      "-100\n"
     ]
    }
   ],
   "source": [
    "class Car:\n",
    "\n",
    "    def __init__(self, brand, color, mileage):  # 物件初始化\n",
    "        self.brand = brand\n",
    "        self.color = color\n",
    "        self.mileage = mileage\n",
    "\n",
    "    def set_mileage(self, miles):\n",
    "        if miles >= 0:\n",
    "            self.mileage = miles\n",
    "        else:\n",
    "            raise ValueError('里程數不能為負數')    \n",
    "\n",
    "    def get_mileage(self):\n",
    "        return self.mileage\n",
    "    \n",
    "my_car = Car('Tesla', 'white', 0)\n",
    "my_car.set_mileage(500)\n",
    "print(my_car.get_mileage())\n",
    "\n",
    "# my_car.set_mileage(-100)\n",
    "my_car.mileage = -100\n",
    "print(my_car.get_mileage()) # 這樣就可以設定負數的里程數了，被繞過去了"
   ]
  },
  {
   "cell_type": "code",
   "execution_count": 8,
   "metadata": {},
   "outputs": [
    {
     "name": "stdout",
     "output_type": "stream",
     "text": [
      "Tesla\n",
      "Toyota\n"
     ]
    }
   ],
   "source": [
    "class Car:\n",
    "\n",
    "    def __init__(self, brand, color, mileage):  # 物件初始化\n",
    "        self.brand = brand\n",
    "        self.color = color\n",
    "        self._mileage = mileage\n",
    "\n",
    "    @property # 定義裝飾器，會得到 getter\n",
    "    def mileage(self):\n",
    "        return self._mileage  \n",
    "    def brand(self):\n",
    "        return self.brand  \n",
    "\n",
    "    @mileage.setter # # 裝飾器 setter\n",
    "    def mileage(self, mileage):\n",
    "        if mileage < 0:\n",
    "            raise ValueError('里程數不能為負數')\n",
    "        self.mileage = mileage\n",
    "    def brand(self, brand):\n",
    "        self.brand = brand    \n",
    "\n",
    "my_car = Car('Tesla', 'white', 100)\n",
    "print(my_car.brand)\n",
    "my_car.brand = 'Toyota'\n",
    "print(my_car.brand)\n",
    "\n",
    "# my_car.mileage = -500\n",
    "# print(my_car.mileage)        "
   ]
  }
 ],
 "metadata": {
  "kernelspec": {
   "display_name": ".venv",
   "language": "python",
   "name": "python3"
  },
  "language_info": {
   "codemirror_mode": {
    "name": "ipython",
    "version": 3
   },
   "file_extension": ".py",
   "mimetype": "text/x-python",
   "name": "python",
   "nbconvert_exporter": "python",
   "pygments_lexer": "ipython3",
   "version": "3.13.1"
  }
 },
 "nbformat": 4,
 "nbformat_minor": 2
}
