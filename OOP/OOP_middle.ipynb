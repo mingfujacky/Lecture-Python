{
 "cells": [
  {
   "cell_type": "markdown",
   "metadata": {},
   "source": [
    "Object-oriented-programming (OOP)\n",
    "- 到目前為止，我們寫作的程式，都是寫一系列的 statement為主，加上 reusable 的函式，Python便會由上到下的執行 statement，這就是所謂的程序導向設計 (Procedure-Oriented Programming, POP)\n",
    "- 雖然，Python的資料型別本身都是 object (像 str, int, float, list, set等)，但由於我們在設計程式時，並沒把物件 (Object) 當成基本元件，融入我們設計程式的思考，所以在今天之前，基本上都是POP\n",
    "- 為了讓大家更容易理解，學習程式，許多程式語言都有引進'擬人化'或'擬物化'的設計，以人更容易想像的方式來組織或管理程式，這就是所謂的物件導向程式設計(OOP).\n",
    "- OOP 把物件 (Object) 當成基本元件，並在思考程式設計時，將物件建構跟使用納入其中，將object封裝進類別 (Class)，藉由將「物件」作為程式的基本單元，將程式和資料封裝其中，以提高軟體的重用性、靈活性和擴充性"
   ]
  },
  {
   "cell_type": "markdown",
   "metadata": {},
   "source": [
    "# Object = Variables + Methods"
   ]
  },
  {
   "cell_type": "code",
   "execution_count": 3,
   "metadata": {},
   "outputs": [
    {
     "name": "stdout",
     "output_type": "stream",
     "text": [
      "<__main__.Car object at 0x1037ebe00>\n",
      "<class '__main__.Car'>\n",
      "True\n"
     ]
    }
   ],
   "source": [
    "class Car:\n",
    "    pass\n",
    "\n",
    "my_car = Car()\n",
    "his_car = Car()\n",
    "print(my_car)\n",
    "print(my_car.__class__)\n",
    "print(isinstance(my_car, Car))"
   ]
  },
  {
   "cell_type": "code",
   "execution_count": 8,
   "metadata": {},
   "outputs": [
    {
     "name": "stdout",
     "output_type": "stream",
     "text": [
      "white\n",
      "red\n",
      "{'brand': 'Tesla', 'color': 'red', 'mileage': 11000}\n"
     ]
    }
   ],
   "source": [
    "# Object attribute\n",
    "class Car:\n",
    "    def __init__(self, br, co, mi):  # 物件初始化\n",
    "        self.brand = br\n",
    "        self.color = co\n",
    "        self.mileage = mi\n",
    " \n",
    "my_car = Car('Tesla', 'white', 11_000)\n",
    "print(my_car.color)\n",
    "my_car.color = 'red'\n",
    "print(my_car.color)\n",
    "\n",
    "print(my_car.__dict__)"
   ]
  },
  {
   "cell_type": "code",
   "execution_count": 11,
   "metadata": {},
   "outputs": [
    {
     "name": "stdout",
     "output_type": "stream",
     "text": [
      "11100\n",
      "Ba!Ba!Ba!\n",
      "Bee!Bee!Bee!\n",
      "{'brand': 'Tesla', 'color': 'white', 'mileage': 11100}\n",
      "['brand', 'color', 'mileage', '__module__', '__firstlineno__', '__init__', 'drive', 'trumpet', '__static_attributes__', '__dict__', '__weakref__', '__doc__', '__new__', '__repr__', '__hash__', '__str__', '__getattribute__', '__setattr__', '__delattr__', '__lt__', '__le__', '__eq__', '__ne__', '__gt__', '__ge__', '__reduce_ex__', '__reduce__', '__getstate__', '__subclasshook__', '__init_subclass__', '__format__', '__sizeof__', '__dir__', '__class__']\n"
     ]
    }
   ],
   "source": [
    "# Object method\n",
    "class Car:\n",
    "    def __init__(self, br, co, mi):  # 物件初始化\n",
    "        self.brand = br\n",
    "        self.color = co\n",
    "        self.mileage = mi\n",
    "\n",
    "    def drive(self, miles):\n",
    "        self.mileage += miles\n",
    "\n",
    "    def trumpet(self, sound = 'Ba'):\n",
    "        print((sound + '!') * 3)\n",
    "\n",
    "my_car = Car('Tesla', 'white', 11_000)\n",
    "my_car.drive(100)\n",
    "print(my_car.mileage)\n",
    "my_car.trumpet()\n",
    "my_car.trumpet('Bee')\n",
    "print(my_car.__dict__)\n",
    "print(my_car.__dir__())"
   ]
  },
  {
   "cell_type": "markdown",
   "metadata": {},
   "source": [
    "# Example of Time class"
   ]
  },
  {
   "cell_type": "code",
   "execution_count": 5,
   "metadata": {},
   "outputs": [
    {
     "name": "stdout",
     "output_type": "stream",
     "text": [
      "<class '__main__.Time'>\n",
      "Represent a time of day\n"
     ]
    }
   ],
   "source": [
    "class Time:\n",
    "    ''' Represent a time of day'''\n",
    "    pass\n",
    "print(Time)\n",
    "print(Time.__doc__) # docstring of the class"
   ]
  },
  {
   "cell_type": "code",
   "execution_count": 13,
   "metadata": {},
   "outputs": [
    {
     "name": "stdout",
     "output_type": "stream",
     "text": [
      "<class '__main__.Time'>\n",
      "<__main__.Time object at 0x1070eb350>\n"
     ]
    }
   ],
   "source": [
    "lunch = Time()\n",
    "print(type(lunch))\n",
    "print(lunch)"
   ]
  },
  {
   "cell_type": "code",
   "execution_count": 32,
   "metadata": {},
   "outputs": [
    {
     "name": "stdout",
     "output_type": "stream",
     "text": [
      "12:00:00\n",
      "13:00:00\n",
      "12:60:00\n"
     ]
    }
   ],
   "source": [
    "# version 1\n",
    "import copy\n",
    "class Time:\n",
    "    ''' Represent a time of day'''\n",
    "\n",
    "    def __init__(self, h, m, s):\n",
    "        self.hours = h\n",
    "        self.minutes = m\n",
    "        self.seconds = s\n",
    "\n",
    "    def add_time(self, t):\n",
    "        total = copy.copy(self)\n",
    "        total.hours += t.hours\n",
    "        total.minutes += t.minutes\n",
    "        total.seconds += t.seconds\n",
    "        return total\n",
    "\n",
    "    def __str__(self):\n",
    "        return f'{self.hours:02d}:{self.minutes:02d}:{self.seconds:02d}'\n",
    "\n",
    "lunch = Time(12, 0, 0)\n",
    "print(lunch)\n",
    "rest = Time(1, 0, 0) # 午休 1 hour\n",
    "print(lunch.add_time(rest))\n",
    "rest = Time(0, 60, 0) # 午休 60 minutes\n",
    "print(lunch.add_time(rest)) # 有點怪的輸出"
   ]
  },
  {
   "cell_type": "code",
   "execution_count": 33,
   "metadata": {},
   "outputs": [
    {
     "name": "stdout",
     "output_type": "stream",
     "text": [
      "12:00:00\n",
      "13:00:00\n",
      "13:00:00\n",
      "13:00:00\n"
     ]
    }
   ],
   "source": [
    "# version 2\n",
    "import copy\n",
    "class Time:\n",
    "    ''' Represent a time of day'''\n",
    "\n",
    "    def __init__(self, h, m, s):\n",
    "        self.hours = h\n",
    "        self.minutes = m\n",
    "        self.seconds = s\n",
    "\n",
    "    def add_time(self, t):\n",
    "        total = copy.copy(self)\n",
    "        total.seconds = total.seconds + t.seconds\n",
    "        carry, total.seconds = divmod(total.seconds, 60)\n",
    "        total.minutes = total.minutes + t.minutes + carry\n",
    "        carry, total.minutes = divmod(total.minutes, 60)\n",
    "        total.hours = total.hours + t.hours + carry\n",
    "        return total\n",
    "\n",
    "    def __str__(self):\n",
    "        return f'{self.hours:02d}:{self.minutes:02d}:{self.seconds:02d}'\n",
    "\n",
    "lunch = Time(12, 0, 0)\n",
    "print(lunch)\n",
    "rest = Time(1, 0, 0) # 午休 1 hour\n",
    "print(lunch.add_time(rest))\n",
    "rest = Time(0, 60, 0) # 午休 60 minutes\n",
    "print(lunch.add_time(rest))\n",
    "est = Time(0, 0, 3600) # 午休 3600 seconds\n",
    "print(lunch.add_time(rest))"
   ]
  },
  {
   "cell_type": "code",
   "execution_count": 53,
   "metadata": {},
   "outputs": [
    {
     "name": "stdout",
     "output_type": "stream",
     "text": [
      "12:00:00\n",
      "13:30:00\n",
      "13:30:00\n",
      "13:30:00\n",
      "11:20:00\n"
     ]
    }
   ],
   "source": [
    "# version 2\n",
    "import copy\n",
    "class Time:\n",
    "    ''' Represent a time of day'''\n",
    "\n",
    "    def __init__(self, h, m, s):\n",
    "        self.hours = h\n",
    "        self.minutes = m\n",
    "        self.seconds = s\n",
    "    \n",
    "    def add_time(self, t):\n",
    "        s = (self.hours * 3600 + self.minutes * 60 + self.seconds) +\\\n",
    "            (t.hours * 3600 + t.minutes * 60 + t.seconds)\n",
    "        time = Time(0, 0, 0)\n",
    "        time.hours, s = divmod(s, 3600)\n",
    "        time.minutes, time.seconds = divmod(s, 60)\n",
    "        return time\n",
    "    \n",
    "    # def sub_time(self, t):\n",
    "    #     s = abs((self.hours * 3600 + self.minutes * 60 + self.seconds) -\\\n",
    "    #         (t.hours * 3600 + t.minutes * 60 + t.seconds))\n",
    "    #     time = Time(0, 0, 0)\n",
    "    #     time.hours, s = divmod(s, 3600)\n",
    "    #     time.minutes, time.seconds = divmod(s, 60)\n",
    "    #     return time\n",
    "\n",
    "    def __str__(self):\n",
    "        return f'{self.hours:02d}:{self.minutes:02d}:{self.seconds:02d}'\n",
    "\n",
    "lunch = Time(12, 0, 0)\n",
    "print(lunch)\n",
    "rest = Time(1, 30, 0)\n",
    "print(lunch.add_time(rest))\n",
    "rest = Time(0, 90, 0)\n",
    "print(lunch.add_time(rest))\n",
    "rest = Time(1, 0, 1800)\n",
    "print(lunch.add_time(rest))\n",
    "# ahead = Time(0, 0, 2400)\n",
    "# print(lunch.sub_time(ahead))"
   ]
  },
  {
   "cell_type": "markdown",
   "metadata": {},
   "source": [
    "# Lab\n",
    "在 Time 中新增 method: sub_time(self, t)，計算兩個時間的差，不得為負數，並以 hh:mm:ss 格式印出 "
   ]
  },
  {
   "cell_type": "markdown",
   "metadata": {},
   "source": [
    "# 靜態方法, 物件方法與類別方法"
   ]
  },
  {
   "cell_type": "code",
   "execution_count": 51,
   "metadata": {},
   "outputs": [
    {
     "name": "stdout",
     "output_type": "stream",
     "text": [
      "78.53975\n",
      "31.4159\n",
      "78.53975\n"
     ]
    }
   ],
   "source": [
    "## 靜態方法 vs 一般物件方法\n",
    "class Circle:\n",
    "    pi = 3.14159\n",
    "    def __init__(self, radius):\n",
    "        self.radius = radius\n",
    "\n",
    "    @staticmethod # 靜態方法, 不需要 self 參數\n",
    "    def area(radius):\n",
    "        return Circle.pi * radius ** 2\n",
    "\n",
    "    def circumference(self): # 一般物件方法, 需要 self 參數\n",
    "        return 2 * Circle.pi * self.radius\n",
    "\n",
    "c1 = Circle(5)\n",
    "print(Circle.area(5))   \n",
    "print(c1.circumference())\n",
    "print(c1.area(5)) # 如果沒有放 @staticmethod 會報錯\n",
    "\n",
    "# print(Circle.area())\n",
    "# print(Circle.circumference())\n",
    "# print(Circle.circumference(5))\n",
    "\n",
    "    "
   ]
  },
  {
   "cell_type": "code",
   "execution_count": 53,
   "metadata": {},
   "outputs": [
    {
     "name": "stdout",
     "output_type": "stream",
     "text": [
      "15.70795\n"
     ]
    }
   ],
   "source": [
    "## 類別方法 vs 一般物件方法\n",
    "class Circle:\n",
    "    all_circles = []\n",
    "    pi = 3.14159\n",
    "\n",
    "    def __init__(self, radius):\n",
    "        self.radius = radius\n",
    "        self.__class__.all_circles.append(self)\n",
    "        \n",
    "    def area(self): # 一般物件方法, 需要 self 參數\n",
    "        return self.__class__.pi * self.radius ** 2\n",
    "    \n",
    "    @classmethod # 類別方法, 需要 cls 參數\n",
    "    def total_area(cls):\n",
    "        total = 0\n",
    "        for c in cls.all_circles:\n",
    "            total = total + c.area()\n",
    "        return total\n",
    "    \n",
    "c1 = Circle(1)\n",
    "c2 = Circle(2)\n",
    "print(Circle.total_area())\n",
    "    "
   ]
  },
  {
   "cell_type": "markdown",
   "metadata": {},
   "source": [
    "# 類別的繼承 (inheritance)"
   ]
  },
  {
   "cell_type": "code",
   "execution_count": 56,
   "metadata": {},
   "outputs": [],
   "source": [
    "class Square:\n",
    "    def __init__(self, side, x, y):\n",
    "        self.side = side\n",
    "        self.x = x\n",
    "        self.y = y\n",
    "    def area(self):\n",
    "        return self.side ** 2\n",
    "\n",
    "class Circle:\n",
    "    def __init__(self, radius, x, y):\n",
    "        self.radius = radius\n",
    "        self.x = x\n",
    "        self.y = y\n",
    "    def area(self):\n",
    "        return 3.14159 * self.radius ** 2\n",
    "# 這樣的寫法不好，因為每個 class 都有自己的定位座標 x, y，不好維護，應該要用繼承的方式    "
   ]
  },
  {
   "cell_type": "code",
   "execution_count": 55,
   "metadata": {},
   "outputs": [
    {
     "name": "stdout",
     "output_type": "stream",
     "text": [
      "It is a circle. Position x: 1 and y: 2\n",
      "Area: 3.14159\n",
      "It is a square. Position x: 0 and y: 0\n",
      "Area: 4\n"
     ]
    }
   ],
   "source": [
    "class Shape:\n",
    "    def __init__(self, x, y):\n",
    "        self.x = x\n",
    "        self.y = y\n",
    "\n",
    "    # 增加一個方法，用來計算定位座標的移動，這樣的寫法，可以讓所有繼承 shape 的子類別都可以使用 move 方法\n",
    "    def move(self, delta_x, delta_y):\n",
    "        self.x = self.x + delta_x\n",
    "        self.y = self.y + delta_y\n",
    "\n",
    "    def __str__(self):\n",
    "        return f'It is a {self.__class__.__name__}. Position x: {self.x} and y: {self.y}'    \n",
    "\n",
    "class square(Shape): # square 繼承 shape\n",
    "    def __init__(self, side, x, y):\n",
    "        super().__init__(x, y) # 呼叫父類別的 __init__, 初始化父類別中的 x, y\n",
    "        self.side = side # 初始化 square 特有的屬性\n",
    "    def area(self):\n",
    "        return self.side ** 2\n",
    "    \n",
    "class circle(shape):\n",
    "    def __init__(self, radius, x, y):\n",
    "        super().__init__(x, y)\n",
    "        self.radius = radius\n",
    "    def area(self):\n",
    "        return 3.14159 * self.radius ** 2    \n",
    "    \n",
    "c1 = circle(1, 0, 0)\n",
    "c1.move(1, 2)\n",
    "print(c1)\n",
    "print('Area:',c1.area())\n",
    "\n",
    "s1 = square(2, 0, 0)\n",
    "print(s1) \n",
    "print('Area:',s1.area())"
   ]
  },
  {
   "cell_type": "markdown",
   "metadata": {},
   "source": [
    "# 類別變數與物件變數的繼承"
   ]
  },
  {
   "cell_type": "code",
   "execution_count": 25,
   "metadata": {},
   "outputs": [
    {
     "name": "stdout",
     "output_type": "stream",
     "text": [
      "P\n",
      "P\n",
      "C\n",
      "C\n",
      "hello hello hello\n",
      "world world hello\n",
      "world python hello\n"
     ]
    }
   ],
   "source": [
    "class P:\n",
    "    z = 'hello'\n",
    "    def set_p(self):\n",
    "        self.x = 'P'\n",
    "    def show_p(self):\n",
    "        print(self.x)\n",
    "\n",
    "class C(P):\n",
    "    def set_c(self):\n",
    "        self.x = 'C'\n",
    "    def show_c(self):\n",
    "        print(self.x)\n",
    "\n",
    "c = C()\n",
    "c.set_p()\n",
    "c.show_p()\n",
    "c.show_c()\n",
    "\n",
    "c.set_c()\n",
    "c.show_c()\n",
    "c.show_p()\n",
    "\n",
    "print(c.z, C.z, P.z) # hello hello hello\n",
    "C.z = 'world'\n",
    "print(C.z, c.z, P.z) # world world hello\n",
    "c.z = 'python'\n",
    "print(C.z, c.z, P.z) # world python hello "
   ]
  },
  {
   "cell_type": "markdown",
   "metadata": {},
   "source": [
    "# Recap Class"
   ]
  },
  {
   "cell_type": "code",
   "execution_count": 76,
   "metadata": {},
   "outputs": [
    {
     "name": "stdout",
     "output_type": "stream",
     "text": [
      "c1: A Circle. radius = 1, x = 2, y = 2\n",
      "c2: A Circle. radius = 2, x = 1, y = 1\n",
      "Total area: 15.70\n"
     ]
    }
   ],
   "source": [
    "class Shape:\n",
    "    def __init__(self, x, y):\n",
    "        self.x = x\n",
    "        self.y = y\n",
    "    def move(self, delta_x, delta_y):\n",
    "        self.x = self.x + delta_x\n",
    "        self.y = self.y + delta_y\n",
    "    def __str__(self): #magic function for print()\n",
    "        return f'A {self.__class__.__name__}. radius = {self.radius}, x = {self.x}, y = {self.y}'\n",
    "    \n",
    "class Circle(Shape): # Circle 繼承 Shape\n",
    "    pi = 3.14\n",
    "    all_circles = []\n",
    "    def __init__(self, radius, x, y):\n",
    "        super().__init__(x, y) # 呼叫父類別的 __init__, 初始化父類別中的 x, y\n",
    "        self.radius = radius\n",
    "        Circle.all_circles.append(self)\n",
    "\n",
    "    @staticmethod # 靜態方法, 不需要 self 參數\n",
    "    def circle_area(radius):\n",
    "        return Circle.pi * (radius ** 2) \n",
    "\n",
    "    @classmethod # 類別方法, 需要 cls 參數\n",
    "    def total_area(cls):\n",
    "        total = 0\n",
    "        for c in cls.all_circles:\n",
    "            total = total + cls.circle_area(c.radius)\n",
    "        return total\n",
    "    \n",
    "c1 = Circle(1, 0, 0)\n",
    "c1.move(2, 2)\n",
    "print('c1:', c1)\n",
    "c2 = Circle(2, 1, 1)\n",
    "print('c2:', c2)\n",
    "print(f'Total area: {Circle.total_area():.2f}')    "
   ]
  }
 ],
 "metadata": {
  "kernelspec": {
   "display_name": ".venv",
   "language": "python",
   "name": "python3"
  },
  "language_info": {
   "codemirror_mode": {
    "name": "ipython",
    "version": 3
   },
   "file_extension": ".py",
   "mimetype": "text/x-python",
   "name": "python",
   "nbconvert_exporter": "python",
   "pygments_lexer": "ipython3",
   "version": "3.13.1"
  }
 },
 "nbformat": 4,
 "nbformat_minor": 2
}
