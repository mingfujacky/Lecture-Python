{
 "cells": [
  {
   "cell_type": "markdown",
   "metadata": {},
   "source": [
    "# 私有變數與私有方法"
   ]
  },
  {
   "cell_type": "code",
   "execution_count": null,
   "metadata": {},
   "outputs": [],
   "source": [
    "# 變數名稱開頭若有兩個底線，則為私有變數，系統不允許存取\n",
    "# 變數名稱開頭若有一個底線，默契上為私有變數，雖然系統允許存取，一般而言不建議存取\n",
    "class Mine:\n",
    "    def __init__(self):\n",
    "        self.x = 2\n",
    "        self.__y = 3\n",
    "        self._z = 4\n",
    "\n",
    "    def show_variables(self):\n",
    "        print('x:', self.x, 'y:', self.__y, 'z:', self._z)    \n",
    "\n",
    "m = Mine()\n",
    "# 一般物件變數可以直接存取\n",
    "print(f'{m.x = }')\n",
    "\n",
    "# 私有物件變數不可以直接存取\n",
    "# print(m.__y) # Get attributeError, __y 是一個私有變數\n",
    "# 雖然透過下列這種方式可以存取私有變數，但強烈不建議這麼作\n",
    "# print(f'{m._Mine__y = }') # \n",
    "\n",
    "# 下列這種方式，雖然不會報錯，但私有物件變數不要直接存取是共同的默契，所以不建議這麼作\n",
    "print(f'{m._z = }')\n",
    "# 建議透過物件方法存取\n",
    "m.show_variables()"
   ]
  },
  {
   "cell_type": "markdown",
   "metadata": {},
   "source": [
    "# 使用 @property 修飾器來實作更靈活的變數\n",
    "- A property in Python is a tool for creating managed attributes in classes.\n",
    "- The @property decorator allows you to define getter, setter, and deleter methods for attributes."
   ]
  },
  {
   "cell_type": "code",
   "execution_count": null,
   "metadata": {},
   "outputs": [],
   "source": [
    "class Car:\n",
    "    models = ['Toyota', 'Nissan', 'Honda']\n",
    "    def __init__(self, model, color, mileage):\n",
    "        if model in Car.models: # check model if it is in models\n",
    "            self.model = model\n",
    "        else:\n",
    "            raise ValueError(f'{model} is not in {Car.models}')     \n",
    "        self.color = color\n",
    "        self.mileage = mileage    \n",
    "\n",
    "    def __str__(self):\n",
    "        return f'{self.model}, {self.color}, {self.mileage} km'\n",
    "    \n",
    "\n",
    "my_car = Car('Toyota', 'Red', 1000)\n",
    "print(my_car)\n",
    "# his_car = Car('Tesla', 'Red', 1000)\n",
    "my_car.mileage = 500 # 違法調低里程數，需阻擋此更新，但此版本做不到\n",
    "print(my_car)\n",
    "dir(my_car)"
   ]
  },
  {
   "cell_type": "code",
   "execution_count": null,
   "metadata": {},
   "outputs": [],
   "source": [
    "class Car:\n",
    "    def __init__(self, model, color, mileage):\n",
    "        self.model = model     \n",
    "        self.color = color\n",
    "        self.__mileage = mileage \n",
    "    def __str__(self):\n",
    "        return f'{self.model}, {self.color}, {self.__mileage} km'\n",
    "my_car = Car('Toyota', 'Red', 1000)\n",
    "# print(my_car.__mileage) # Get attributeError, __mileage 是一個私有變數\n",
    "my_car.__mileage = 0 # 里程歸零，系統不是改變私有變數(因為它已經被改名成_Car__mileage)，而是新增一個物件變數 __mileage\n",
    "print(\"__mileage:\", my_car.__mileage)\n",
    "print(\"_Car__mileage:\", my_car._Car__mileage)\n",
    "print(my_car)\n",
    "# 總之，不要嘗試直接存跟取私有變數，這是共同的默契"
   ]
  },
  {
   "cell_type": "code",
   "execution_count": null,
   "metadata": {},
   "outputs": [],
   "source": [
    "class Car:\n",
    "    def __init__(self, model, color, mileage):\n",
    "        self.__model = model     \n",
    "        self.color = color\n",
    "        self.__mileage = mileage \n",
    "    def __str__(self):\n",
    "        return f'{self.__model}, {self.color}, {self.__mileage} km'\n",
    "    \n",
    "    def get_model(self):\n",
    "        return self.__model\n",
    "    \n",
    "    @property # getter 裝飾器，讓讀 model 的 method 成為一個屬性 (object.model) and do some check\n",
    "    def model(self):\n",
    "        return self.__model.upper()\n",
    "    \n",
    "    @property\n",
    "    def mileage(self):\n",
    "        return self.__mileage\n",
    "    \n",
    "    @mileage.setter # setter 裝飾器，讓改 mileage 的 method 成為一個屬性 and do some check\n",
    "    def mileage(self, mileage):\n",
    "        if mileage < self.__mileage:\n",
    "            raise ValueError('里程數不可以往下調喔!!')\n",
    "        self.__mileage = mileage\n",
    "    \n",
    "my_car = Car('Toyota', 'Red', 1000)\n",
    "print(my_car.get_model()) # 呼叫 get_model method\n",
    "print(my_car.model)       # 呼叫 getter,  也就是 @property def model(self)\n",
    "my_car.mileage = 1100     # 呼叫 setter,  也就是 @mileage.setter def mileage(self, mileage)\n",
    "print(my_car.mileage)     # 呼叫 getter,  也就是 @property def mileage(self)\n",
    "print(my_car)\n",
    "\n",
    "my_car.mileage = 500     # ValueError: 里程數不可以往下調喔!!"
   ]
  },
  {
   "cell_type": "markdown",
   "metadata": {},
   "source": [
    "# (Supplement) Magic methods"
   ]
  },
  {
   "cell_type": "markdown",
   "metadata": {},
   "source": [
    "![Special method names](https://miro.medium.com/v2/resize:fit:1400/format:webp/1*9itY7WulYALw38HEURjwmw.png)"
   ]
  },
  {
   "cell_type": "markdown",
   "metadata": {},
   "source": [
    "![Special method names for operators](https://miro.medium.com/v2/resize:fit:4800/format:webp/1*FQ4YIuvGLmMqTiuQHzpmpw.png)"
   ]
  },
  {
   "cell_type": "code",
   "execution_count": null,
   "metadata": {},
   "outputs": [],
   "source": [
    "class Vector:\n",
    "    def __init__(self, x=0, y=0):\n",
    "        self.x = x\n",
    "        self.y = y\n",
    "    def __repr__(self):\n",
    "        return 'Vector(%r, %r)' % (self.x, self.y)\n",
    "    def __abs__(self):\n",
    "        return (self.x ** 2 + self.y ** 2) ** 0.5\n",
    "    def __bool__(self):\n",
    "        return bool(abs(self))\n",
    "    def __add__(self, other):\n",
    "        x = self.x + other.x\n",
    "        y = self.y + other.y\n",
    "        return Vector(x, y)\n",
    "    def __mul__(self, scalar):\n",
    "        return Vector(self.x * scalar, self.y * scalar)\n",
    "    \n",
    "v1 = Vector(1, 4)\n",
    "v2 = Vector(2, 0)\n",
    "v3 = v1 + v2\n",
    "v4 = Vector(0, 0)\n",
    "print(v3)\n",
    "print(abs(v3))\n",
    "print(bool(v4))\n",
    "print(v1 * 2)"
   ]
  }
 ],
 "metadata": {
  "kernelspec": {
   "display_name": ".venv",
   "language": "python",
   "name": "python3"
  },
  "language_info": {
   "codemirror_mode": {
    "name": "ipython",
    "version": 3
   },
   "file_extension": ".py",
   "mimetype": "text/x-python",
   "name": "python",
   "nbconvert_exporter": "python",
   "pygments_lexer": "ipython3",
   "version": "3.13.2"
  }
 },
 "nbformat": 4,
 "nbformat_minor": 2
}
