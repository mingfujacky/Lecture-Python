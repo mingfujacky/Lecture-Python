{
 "cells": [
  {
   "cell_type": "markdown",
   "metadata": {},
   "source": [
    "# 私有變數"
   ]
  },
  {
   "cell_type": "code",
   "execution_count": null,
   "metadata": {},
   "outputs": [],
   "source": [
    "# 變數名稱開頭若有兩個底線，則為class的私有變數，系統不允許存取，系統會報錯\n",
    "# 變數名稱開頭若有一個底線，則為默契上的私有變數，雖然系統允許存取，一般而言不建議存取\n",
    "class Mine:\n",
    "    def __init__(self, v1, v2, v3):\n",
    "        self.x = v1\n",
    "        self._y = v2 # 默契的私有變數\n",
    "        self.__z = v3 # class的私有變數\n",
    "\n",
    "    def show_variables(self):\n",
    "        print('x:', self.x, '_y:', self._y, '__z:', self.__z)    \n",
    "\n",
    "m = Mine(1, 2, 3)\n",
    "\n",
    "\n",
    "print(\"m.x = \", m.x)   # 一般物件變數可以直接存取\n",
    "print(\"m._y = \", m._y) # 默契的私有變數, 雖然不會報錯，但不要直接存取是共同的默契，所以不建議這麼作\n",
    "# print(\"m.__z = \", m.__z) # # class的私有變數, 直接存會報錯\n",
    "\n",
    "# 雖然透過下列這種方式可以存取class的私有變數，但強烈不建議這麼作\n",
    "print(\"m._Mine__z = \", m._Mine__z) # class的私有變數, Python會透過名稱重整(Name Mangling)來防止外部直接訪問。\n",
    "                                   # 事實上，Python 會將 __z 轉換成 _Mine__z\n",
    "\n",
    "# 因此建議在 class 內, 寫一個 show variable的 method 來讀取默契的私有變數和class的私有變數\n",
    "m.show_variables()"
   ]
  },
  {
   "cell_type": "markdown",
   "metadata": {},
   "source": [
    "## Python 的變數命名規範\n",
    "Naming Convention | Purpose\n",
    "------------------|--------\n",
    "var|General variable\n",
    "_var|Single leading underscore: Indicates internal use, but not enforced <br>(Python suggests you avoid using it externally).\n",
    "__var|Double leading underscore: Triggers name mangling, preventing accidental access from outside the class.\n",
    "\\_\\_var\\_\\_|Double leading and trailing underscores.<br> Python reserved special variables or magic methods (e.g., \\_\\_name\\_\\_, \\_\\_init\\_\\_). Avoid using this for general variables.\n",
    "var_|Trailing underscore: Used to avoid conflicts with Python keywords (e.g., class_).\n"
   ]
  },
  {
   "cell_type": "markdown",
   "metadata": {},
   "source": [
    "# 使用 @property 修飾器來實作更靈活的變數\n",
    "- A property in Python is a tool for creating managed attributes in classes.\n",
    "- The @property decorator allows you to define getter, setter, and deleter methods for attributes."
   ]
  },
  {
   "cell_type": "code",
   "execution_count": null,
   "metadata": {},
   "outputs": [],
   "source": [
    "class Car:\n",
    "    models = ['Toyota', 'Nissan', 'Honda']\n",
    "    def __init__(self, model, color, mileage):\n",
    "        if model in Car.models: # check model if it is in models\n",
    "            self.model = model\n",
    "        else:\n",
    "            raise ValueError(f'{model} is not in {Car.models}')     \n",
    "        self.color = color\n",
    "        self.mileage = mileage    \n",
    "\n",
    "    def __str__(self):\n",
    "        return f'{self.model}, {self.color}, {self.mileage} km'\n",
    "    \n",
    "\n",
    "my_car = Car('Toyota', 'Red', 1000)\n",
    "print(my_car)\n",
    "# his_car = Car('Tesla', 'Red', 1000)\n",
    "my_car.mileage = 500 # 違法調低里程數，需阻擋此更新，但此版本的 class 做不到\n",
    "print(my_car)"
   ]
  },
  {
   "cell_type": "code",
   "execution_count": null,
   "metadata": {},
   "outputs": [],
   "source": [
    "class Car:\n",
    "    def __init__(self, model, color, mileage):\n",
    "        self.model = model     \n",
    "        self.color = color\n",
    "        self.__mileage = mileage # 把 mileage 定義為私有變數, 外界不得讀取和更改\n",
    "    def __str__(self):\n",
    "        return f'{self.model}, {self.color}, {self.__mileage} km'\n",
    "\n",
    "my_car = Car('Toyota', 'Red', 1000)\n",
    "# print(my_car.__mileage) # Get error, __mileage 是一個class的私有變數\n",
    "my_car.__mileage = 0 \n",
    "print(my_car) # 還是沒改到\n",
    "\n",
    "# 系統不是改變class的私有變數(因為它已經被改名成_Car__mileage)，而是新增一個物件變數 __mileage\n",
    "print(\"__mileage:\", my_car.__mileage)\n",
    "print(\"_Car__mileage:\", my_car._Car__mileage)\n",
    "# 總之，不要嘗試直接存跟取私有變數，這是共同的默契"
   ]
  },
  {
   "cell_type": "code",
   "execution_count": null,
   "metadata": {},
   "outputs": [],
   "source": [
    "class Car:\n",
    "    def __init__(self, model, color, mileage):\n",
    "        self.__model = model     \n",
    "        self.color = color\n",
    "        self.__mileage = mileage \n",
    "    def __str__(self):\n",
    "        return f'{self.__model}, {self.color}, {self.__mileage} km'\n",
    "    \n",
    "    # ALT1 to get model value via method\n",
    "    def get_model(self):\n",
    "        return self.__model\n",
    "    \n",
    "    # ALT2 to get model value via property 中的 getter 裝飾器，\n",
    "    # 用屬性 (object.model)的方式來讀 model value\n",
    "    @property \n",
    "    def model(self):\n",
    "        return self.__model.upper()\n",
    "    \n",
    "    @property\n",
    "    def mileage(self):\n",
    "        return self.__mileage\n",
    "    \n",
    "    @mileage.setter # setter 裝飾器，讓改 mileage 的 method 成為一個屬性 and do some check\n",
    "    def mileage(self, mileage):\n",
    "        if mileage < self.__mileage:\n",
    "            raise ValueError('里程數不可以往下調喔!!')\n",
    "        self.__mileage = mileage\n",
    "    \n",
    "my_car = Car('Toyota', 'Red', 1000)\n",
    "print(my_car.get_model()) # ALT1 - 呼叫 get_model method\n",
    "print(my_car.model)       # 呼叫 getter,  也就是 @property def model(self)\n",
    "my_car.mileage = 1100     # 呼叫 setter,  也就是 @mileage.setter def mileage(self, mileage)\n",
    "print(my_car.mileage)     # 呼叫 getter,  也就是 @property def mileage(self)\n",
    "print(my_car)\n",
    "\n",
    "my_car.mileage = 500     # 呼叫 setter,  也就是 @mileage.setter def mileage(self, mileage), 條件不符所以報錯"
   ]
  },
  {
   "cell_type": "markdown",
   "metadata": {},
   "source": [
    "# (Supplement) Magic methods"
   ]
  },
  {
   "cell_type": "markdown",
   "metadata": {},
   "source": [
    "![Special method names for operators](https://miro.medium.com/v2/resize:fit:4800/format:webp/1*FQ4YIuvGLmMqTiuQHzpmpw.png)"
   ]
  },
  {
   "cell_type": "code",
   "execution_count": null,
   "metadata": {},
   "outputs": [],
   "source": [
    "class Vector:\n",
    "    \n",
    "    def __init__(self, x=0, y=0):\n",
    "        self.x = x\n",
    "        self.y = y\n",
    "    \n",
    "    def __repr__(self):\n",
    "        return f'Vector({self.x}, {self.y})'\n",
    "    \n",
    "    def __abs__(self):\n",
    "        return (self.x ** 2 + self.y ** 2) ** 0.5\n",
    "    \n",
    "    def __bool__(self):\n",
    "        return bool(abs(self))\n",
    "    \n",
    "    def __add__(self, other):\n",
    "        x = self.x + other.x\n",
    "        y = self.y + other.y\n",
    "        return Vector(x, y)\n",
    "    \n",
    "    def __mul__(self, scalar):\n",
    "        return Vector(self.x * scalar, self.y * scalar)\n",
    "    \n",
    "v1 = Vector(1, 4)\n",
    "v2 = Vector(2, 0)  \n",
    "v3 = v1 + v2     # call __add__ method\n",
    "print(v3)\n",
    "print(abs(v3))  # call __abs__ method\n",
    "print(v1 * 2)   # call __mul__ method"
   ]
  }
 ],
 "metadata": {
  "kernelspec": {
   "display_name": ".venv",
   "language": "python",
   "name": "python3"
  },
  "language_info": {
   "codemirror_mode": {
    "name": "ipython",
    "version": 3
   },
   "file_extension": ".py",
   "mimetype": "text/x-python",
   "name": "python",
   "nbconvert_exporter": "python",
   "pygments_lexer": "ipython3",
   "version": "3.13.2"
  }
 },
 "nbformat": 4,
 "nbformat_minor": 2
}
