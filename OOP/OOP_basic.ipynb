{
 "cells": [
  {
   "cell_type": "markdown",
   "metadata": {},
   "source": [
    "# Class\n",
    "- 類別與類別屬性\n",
    "- 類別與實體物件，實體屬性\n",
    "- 屬性包含變數及函式"
   ]
  },
  {
   "cell_type": "markdown",
   "metadata": {},
   "source": [
    "# 類別與類別屬性"
   ]
  },
  {
   "cell_type": "code",
   "execution_count": 2,
   "metadata": {},
   "outputs": [
    {
     "name": "stdout",
     "output_type": "stream",
     "text": [
      "0\n",
      "count: 1\n",
      "1\n"
     ]
    }
   ],
   "source": [
    "class Counter:     # 類別\n",
    "    count = 0      # 類別屬性：變數\n",
    "\n",
    "    def add_one(): # 類別屬性：函式\n",
    "        Counter.count += 1\n",
    "\n",
    "    def sub_one():\n",
    "        Counter.count -= 1\n",
    "\n",
    "    def show_count():\n",
    "        print('count:', Counter.count)\n",
    "\n",
    "print(Counter.count) # 類別名稱.變數名稱\n",
    "Counter.add_one() # 類別名稱.函式名稱()\n",
    "Counter.add_one()\n",
    "Counter.sub_one()\n",
    "Counter.show_count() \n",
    "print(Counter.count)\n"
   ]
  },
  {
   "cell_type": "code",
   "execution_count": 3,
   "metadata": {},
   "outputs": [
    {
     "name": "stdout",
     "output_type": "stream",
     "text": [
      "red\n",
      "['red', 'green', 'yellow']\n",
      "color blue is wrong\n",
      "current color: green\n"
     ]
    }
   ],
   "source": [
    "class Traffic_Light:\n",
    "    colors = ['red', 'green', 'yellow'] # 類別屬性：變數\n",
    "    current_color = 'red' # 類別屬性：變數\n",
    "\n",
    "    def change_color(color): # 類別屬性：函式\n",
    "        if color not in Traffic_Light.colors:\n",
    "            print(f'color {color} is wrong')\n",
    "        else:\n",
    "            Traffic_Light.current_color = color    \n",
    "\n",
    "    def show_color(): # 類別屬性：函式\n",
    "        print('current color:', Traffic_Light.current_color)\n",
    "\n",
    "print(Traffic_Light.current_color) # 類別名稱.變數名稱\n",
    "print(Traffic_Light.colors)\n",
    "\n",
    "Traffic_Light.change_color('blue') # 類別名稱.函式名稱()\n",
    "Traffic_Light.change_color('green')\n",
    "Traffic_Light.show_color()"
   ]
  },
  {
   "cell_type": "markdown",
   "metadata": {},
   "source": [
    "# 類別與實體物件，實體屬性"
   ]
  },
  {
   "cell_type": "markdown",
   "metadata": {},
   "source": [
    "- Class -> Instance / Object\n",
    "- Object -> Property\n",
    "- Property -> Variable / Attribute and Function / Method"
   ]
  },
  {
   "cell_type": "markdown",
   "metadata": {},
   "source": [
    "# Build class (data type) to store poker card"
   ]
  },
  {
   "cell_type": "markdown",
   "metadata": {},
   "source": [
    "- suit = 0-梅花 1-鑽石 2-紅心 3-黑桃\n",
    "- rank = 0-A 1-2 2-3 ... 9-10 10-J 11-Q 12-K\n",
    "- build Card data type (class), which has two properties"
   ]
  },
  {
   "cell_type": "code",
   "execution_count": 4,
   "metadata": {},
   "outputs": [
    {
     "name": "stdout",
     "output_type": "stream",
     "text": [
      "1 12\n",
      "<class '__main__.Card'>\n"
     ]
    }
   ],
   "source": [
    "# V1: basic class definition\n",
    "\n",
    "class Card:\n",
    "    suit = 0 \n",
    "    rank = 0\n",
    "\n",
    "# initiate card1 as 鑽石K    \n",
    "card1 = Card()  # initiate an instance, named card1\n",
    "card1.suit = 1  # assign value to instance's property\n",
    "card1.rank = 12\n",
    "print(card1.suit, card1.rank)\n",
    "print(type(card1))"
   ]
  },
  {
   "cell_type": "code",
   "execution_count": 5,
   "metadata": {},
   "outputs": [
    {
     "name": "stdout",
     "output_type": "stream",
     "text": [
      "2 11\n"
     ]
    }
   ],
   "source": [
    "# V2: enhance to use magic method to initiate instance with parameters\n",
    "# __init__(), is a Python Magic method, which is the method starting and ending with double underscores '__'. \n",
    "# used to assign properties\n",
    "\n",
    "class Card:\n",
    "    def __init__(self, s, r):\n",
    "        self.suit = s\n",
    "        self.rank = r\n",
    "\n",
    "# initiate card2 as 紅心Q    \n",
    "card2 = Card(2,11)  # initiate an instance\n",
    "print(card2.suit, card2.rank)\n"
   ]
  },
  {
   "cell_type": "code",
   "execution_count": 6,
   "metadata": {},
   "outputs": [
    {
     "name": "stdout",
     "output_type": "stream",
     "text": [
      "♥Q\n",
      "<__main__.Card object at 0x107cffe00>\n"
     ]
    }
   ],
   "source": [
    "# V3: print card with show() function\n",
    "class Card:\n",
    "    SUITS = ['♣', '♦', '♥', '♠']\n",
    "    RANKS = ['A', '2', '3', '4', '5', '6',\\\n",
    "             '7', '8', '9', '10', 'J', 'Q', 'K']\n",
    "    \n",
    "    def __init__(self, s, r):\n",
    "        self.suit = s\n",
    "        self.rank = r\n",
    "\n",
    "    def show(self):\n",
    "        print(self.SUITS[self.suit] + self.RANKS[self.rank])\n",
    "        \n",
    "# initiate card3 as 紅心Q    \n",
    "card3 = Card(2,11)  # initiate an instance\n",
    "card3.show() # call show() function to print card\n",
    "print(card3) # a little bit strange\n"
   ]
  },
  {
   "cell_type": "code",
   "execution_count": 7,
   "metadata": {},
   "outputs": [
    {
     "name": "stdout",
     "output_type": "stream",
     "text": [
      "♥Q\n"
     ]
    }
   ],
   "source": [
    "# V4: enhance to use __str__() function to print card\n",
    "# suit = 0梅花 1鑽石 2紅心 3黑桃\n",
    "# rank = 0-A 1-2 2-3 ... 9-10 10-J 11-Q 12-K\n",
    "\n",
    "class Card:\n",
    "    SUITS = ['♣', '♦', '♥', '♠']\n",
    "    RANKS = ['A', '2', '3', '4', '5', '6',\\\n",
    "             '7', '8', '9', '10', 'J', 'Q', 'K']\n",
    "    \n",
    "    def __init__(self, s, r):\n",
    "        self.suit = s\n",
    "        self.rank = r\n",
    "    \n",
    "    # def show(self):\n",
    "    #     print(self.SUITS[self.suit] + self.RANKS[self.rank])\n",
    "\n",
    "    def __str__(self):\n",
    "        return self.SUITS[self.suit] + self.RANKS[self.rank]\n",
    "   \n",
    "card4 = Card(2,11)\n",
    "print(card4) # print card with __str__() function"
   ]
  },
  {
   "cell_type": "markdown",
   "metadata": {},
   "source": [
    "# 建構 Class & 實例化 Object"
   ]
  },
  {
   "cell_type": "code",
   "execution_count": 8,
   "metadata": {},
   "outputs": [
    {
     "name": "stdout",
     "output_type": "stream",
     "text": [
      "radius: 2\n",
      "radius: 1\n",
      "area: 3.14\n",
      "The circule radius is 1 and its area is 3.14\n"
     ]
    }
   ],
   "source": [
    "# construct a Circle class and initiate an instance\n",
    "class Circle:\n",
    "    def __init__(self, radius):\n",
    "        self.radius = radius\n",
    "\n",
    "    def change_radius(self, radius):\n",
    "        self.radius = radius\n",
    "    \n",
    "    def get_radius (self):\n",
    "        return self.radius\n",
    "    \n",
    "    def get_area (self):\n",
    "        return (self.radius ** 2) * 3.14\n",
    "    \n",
    "    def __str__(self):\n",
    "        return f'The circule radius is {self.radius} and its area is {self.get_area()}'\n",
    "\n",
    "# main program to initiate an instance\n",
    "circle_A = Circle(2)\n",
    "print('radius:', circle_A.get_radius())\n",
    "circle_A.change_radius(1)\n",
    "print('radius:', circle_A.get_radius())\n",
    "print('area:',circle_A.get_area())\n",
    "print(circle_A)"
   ]
  },
  {
   "cell_type": "code",
   "execution_count": 26,
   "metadata": {},
   "outputs": [
    {
     "name": "stdout",
     "output_type": "stream",
     "text": [
      "(x, y) = 3, 4\n",
      "(3, 4)\n",
      "5.0\n",
      "(x, y) = 3, -1\n",
      "(3, -1)\n",
      "5.0\n"
     ]
    }
   ],
   "source": [
    "class Point:\n",
    "    def __init__(self, x, y):\n",
    "        self.x = x\n",
    "        self.y = y\n",
    "\n",
    "    def show(self):\n",
    "        print(f'(x, y) = {self.x}, {self.y}')\n",
    "\n",
    "    def distance(self, other):\n",
    "        return ((self.x - other.x)**2 + (self.y - other.y)**2)**0.5\n",
    "\n",
    "    def __str__(self):\n",
    "        return (f'({self.x}, {self.y})')\n",
    "A = Point(3, 4)\n",
    "B = Point(3, -1)\n",
    "A.show()\n",
    "print(A)\n",
    "print(A.distance(B))\n",
    "\n",
    "B.show()\n",
    "print(B)\n",
    "print(B.distance(A))"
   ]
  },
  {
   "cell_type": "code",
   "execution_count": 19,
   "metadata": {},
   "outputs": [
    {
     "name": "stdout",
     "output_type": "stream",
     "text": [
      "Hello a Great World!\n",
      "File: /Users/jacky/Lecture-Python/OOP/../files/txt/demofile.txt\n",
      "----------------------------------------------------------------------------------------------------\n",
      "write first line\n",
      "append second line\n",
      "\n",
      "File: /Users/jacky/Lecture-Python/OOP/../files/txt/demofile2.txt\n"
     ]
    }
   ],
   "source": [
    "class File:\n",
    "    def __init__(self, name):\n",
    "        self.name = name\n",
    "        self.file = None\n",
    "\n",
    "    def read(self):\n",
    "        with open(self.name, 'r', encoding = 'utf-8') as self.file:\n",
    "            return (self.file.read())\n",
    "    \n",
    "    def __str__(self):\n",
    "        return f'File: {self.name}'\n",
    "    \n",
    "from pathlib import Path\n",
    "file_path_1 = Path.cwd() / '..' / 'files' / 'txt' / 'demofile.txt'\n",
    "file1 = File(file_path_1)\n",
    "print(file1.read())\n",
    "print(file1)\n",
    "print('-' * 100)\n",
    "file_path_2 = Path.cwd() / '..' / 'files' / 'txt' / 'demofile2.txt'\n",
    "file2 = File(file_path_2)\n",
    "print(file2.read())\n",
    "print(file2)"
   ]
  },
  {
   "cell_type": "markdown",
   "metadata": {},
   "source": [
    "# Lab\n",
    "- Create a rectangle class\n",
    "- Attribute: length, width\n",
    "- Function: set_length, set_width, get_length, get_width, get_area, \\_\\_str\\_\\_ "
   ]
  },
  {
   "cell_type": "markdown",
   "metadata": {},
   "source": [
    "# W3School"
   ]
  },
  {
   "cell_type": "markdown",
   "metadata": {},
   "source": [
    "- [Classes] https://www.w3schools.com/python/exercise.asp?x=xrcise_classes1"
   ]
  },
  {
   "cell_type": "markdown",
   "metadata": {},
   "source": [
    "# Illustration of object-oriented programming (OOP)"
   ]
  },
  {
   "cell_type": "markdown",
   "metadata": {},
   "source": [
    "![OOP](https://www.techtarget.com/rms/onlineimages/whatis-object_oriented_programming.png)"
   ]
  }
 ],
 "metadata": {
  "kernelspec": {
   "display_name": ".venv",
   "language": "python",
   "name": "python3"
  },
  "language_info": {
   "codemirror_mode": {
    "name": "ipython",
    "version": 3
   },
   "file_extension": ".py",
   "mimetype": "text/x-python",
   "name": "python",
   "nbconvert_exporter": "python",
   "pygments_lexer": "ipython3",
   "version": "3.13.1"
  }
 },
 "nbformat": 4,
 "nbformat_minor": 2
}
