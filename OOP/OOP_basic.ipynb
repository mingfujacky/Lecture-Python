{
 "cells": [
  {
   "cell_type": "markdown",
   "metadata": {},
   "source": [
    "# Class\n",
    "- Class, Class variable, )\n",
    "- 類別與實體物件，實體屬性 (Class, Object, Object Attribute)\n",
    "- 屬性包含變數及函式 (Attribute = Variable + Method)"
   ]
  },
  {
   "cell_type": "markdown",
   "metadata": {},
   "source": [
    "# 類別與類別屬性"
   ]
  },
  {
   "cell_type": "markdown",
   "metadata": {},
   "source": [
    "**Class 基本語法**\n",
    "```python\n",
    "class ClassName:  # CapWords convention\n",
    "    <variable-1>\n",
    "    <variable-2>\n",
    "    <method-1>\n",
    "    <method-2>\n",
    "```    "
   ]
  },
  {
   "cell_type": "code",
   "execution_count": null,
   "metadata": {},
   "outputs": [],
   "source": [
    "class Counter:     # class\n",
    "    count = 0      # class variable\n",
    "\n",
    "    def add_one(): # class method\n",
    "        Counter.count += 1\n",
    "\n",
    "    def sub_one():\n",
    "        Counter.count -= 1\n",
    "\n",
    "    def show_count():\n",
    "        print('count:', Counter.count)\n",
    "\n",
    "print(Counter.count) # ClassName.VariableName\n",
    "Counter.add_one() # ClassName.MethodName()\n",
    "Counter.add_one()\n",
    "Counter.show_count() \n",
    "Counter.sub_one()\n",
    "Counter.show_count() \n",
    "print(Counter.count)"
   ]
  },
  {
   "cell_type": "code",
   "execution_count": null,
   "metadata": {},
   "outputs": [],
   "source": [
    "class TrafficLight:\n",
    "    colors = ['red', 'green', 'yellow']\n",
    "    current_color = 'red'\n",
    "\n",
    "    def change_color(color):\n",
    "        if color not in TrafficLight.colors:\n",
    "            print(f'color {color} is wrong')\n",
    "        else:\n",
    "            TrafficLight.current_color = color    \n",
    "\n",
    "    def show_color(): \n",
    "        print('current color:', TrafficLight.current_color)\n",
    "\n",
    "print(TrafficLight.current_color)\n",
    "print(TrafficLight.colors)\n",
    "\n",
    "TrafficLight.change_color('blue')\n",
    "TrafficLight.change_color('green')\n",
    "TrafficLight.show_color()"
   ]
  },
  {
   "cell_type": "markdown",
   "metadata": {},
   "source": [
    "# 類別與實體物件，實體屬性"
   ]
  },
  {
   "cell_type": "markdown",
   "metadata": {},
   "source": [
    "- Class -> Objects (Instances)\n",
    "- Object -> Attributes\n",
    "- Attribute -> Variables and Methods"
   ]
  },
  {
   "cell_type": "markdown",
   "metadata": {},
   "source": [
    "# Build class Card \n",
    "User define his/her data type (or data structure) to store poker card"
   ]
  },
  {
   "cell_type": "markdown",
   "metadata": {},
   "source": [
    "- suit = 0-梅花 1-鑽石 2-紅心 3-黑桃\n",
    "- rank = 0-A 1-2 2-3 ... 9-10 10-J 11-Q 12-K\n",
    "- build Card data type (class), which has two variables"
   ]
  },
  {
   "cell_type": "code",
   "execution_count": null,
   "metadata": {},
   "outputs": [],
   "source": [
    "# V1: basic class definition\n",
    "\n",
    "class Card:\n",
    "    suit = 0 \n",
    "    rank = 0\n",
    "\n",
    "# initiate card1 as 鑽石K    \n",
    "card1 = Card()  # initiate an object, named card1\n",
    "card1.suit = 1  # assign a value to object's variable\n",
    "card1.rank = 12\n",
    "print(card1.suit, card1.rank)\n",
    "print(type(card1))\n",
    "\n",
    "# initiate card2 as 紅心A    \n",
    "card2 = Card()\n",
    "card2.suit = 2  # assign a value to object's variable\n",
    "card2.rank = 0\n",
    "print(card2.suit, card2.rank)\n"
   ]
  },
  {
   "cell_type": "code",
   "execution_count": null,
   "metadata": {},
   "outputs": [],
   "source": [
    "# V2: enhance to use magic method to initiate instance with parameters\n",
    "# __init__(), is a Python Magic method used to assign initial values to variables\n",
    "\n",
    "class Card:\n",
    "    def __init__(self, s, r):\n",
    "        self.suit = s\n",
    "        self.rank = r\n",
    "\n",
    "# initiate card1 and card2    \n",
    "card1 = Card(1,12)  # initiate an object\n",
    "card2 = Card(2,0)  # initiate an object\n",
    "print(card1.suit, card1.rank)\n",
    "print(card2.suit, card2.rank)"
   ]
  },
  {
   "cell_type": "code",
   "execution_count": null,
   "metadata": {},
   "outputs": [],
   "source": [
    "# V3: print card with show() function\n",
    "class Card:\n",
    "    SUITS = ['♣', '♦', '♥', '♠']\n",
    "    RANKS = ['A', '2', '3', '4', '5', '6',\\\n",
    "              '7', '8', '9', '10', 'J', 'Q', 'K']\n",
    "    \n",
    "    def __init__(self, s, r):\n",
    "        self.suit = s\n",
    "        self.rank = r\n",
    "\n",
    "    def show(self):\n",
    "        print(self.SUITS[self.suit] + self.RANKS[self.rank])\n",
    "        \n",
    "card1 = Card(1,12)  # initiate an object\n",
    "card2 = Card(2,0)  # initiate an object\n",
    "card1.show() # call show() method to print card\n",
    "card2.show()\n",
    "print(card1) # a little bit strange\n"
   ]
  },
  {
   "cell_type": "code",
   "execution_count": null,
   "metadata": {},
   "outputs": [],
   "source": [
    "# V4: enhance to use __str__() method to print card\n",
    "# suit = 0梅花 1鑽石 2紅心 3黑桃\n",
    "# rank = 0-A 1-2 2-3 ... 9-10 10-J 11-Q 12-K\n",
    "\n",
    "class Card:\n",
    "    SUITS = ['♣', '♦', '♥', '♠']\n",
    "    RANKS = ['A', '2', '3', '4', '5', '6',\\\n",
    "             '7', '8', '9', '10', 'J', 'Q', 'K']\n",
    "    \n",
    "    def __init__(self, s, r):\n",
    "        self.suit = s\n",
    "        self.rank = r\n",
    "    \n",
    "    # def show(self):\n",
    "    #     print(self.SUITS[self.suit] + self.RANKS[self.rank])\n",
    "\n",
    "    def __str__(self):\n",
    "        return self.SUITS[self.suit] + self.RANKS[self.rank]\n",
    "   \n",
    "card1 = Card(1,12)  # initiate an object\n",
    "print(card1) # print card with __str__() method"
   ]
  },
  {
   "cell_type": "markdown",
   "metadata": {},
   "source": [
    "# 建構 Class & 實例化 Object"
   ]
  },
  {
   "cell_type": "code",
   "execution_count": null,
   "metadata": {},
   "outputs": [],
   "source": [
    "# construct a Circle class and initiate an object\n",
    "class Circle:\n",
    "    def __init__(self, radius):\n",
    "        self.radius = radius\n",
    "\n",
    "    def change_radius(self, radius):\n",
    "        self.radius = radius\n",
    "    \n",
    "    def get_radius (self):\n",
    "        return self.radius\n",
    "    \n",
    "    def get_area (self):\n",
    "        return (self.radius ** 2) * 3.14\n",
    "    \n",
    "    def __str__(self):\n",
    "        return f'The circle radius is {self.radius} and its area is {self.get_area()}'\n",
    "\n",
    "# main program to initiate an object\n",
    "circle_A = Circle(2)\n",
    "print('radius:', circle_A.get_radius())\n",
    "\n",
    "circle_A.change_radius(1)\n",
    "print('radius:', circle_A.get_radius())\n",
    "print('area:',circle_A.get_area())\n",
    "print(circle_A)"
   ]
  },
  {
   "cell_type": "code",
   "execution_count": null,
   "metadata": {},
   "outputs": [],
   "source": [
    "class Point:\n",
    "    def __init__(self, x, y):\n",
    "        self.x = x\n",
    "        self.y = y\n",
    "\n",
    "    def show(self):\n",
    "        print(f'(x, y) = {self.x}, {self.y}')\n",
    "\n",
    "    def distance(self, other):\n",
    "        return ((self.x - other.x)**2 + (self.y - other.y)**2)**0.5\n",
    "\n",
    "    def __str__(self):\n",
    "        return (f'({self.x}, {self.y})')\n",
    "A = Point(3, 4)\n",
    "B = Point(3, -1)\n",
    "A.show()\n",
    "print('Point A:', A)\n",
    "print('Point B:', B)\n",
    "print('Distance between A and B:',A.distance(B))"
   ]
  },
  {
   "cell_type": "code",
   "execution_count": null,
   "metadata": {},
   "outputs": [],
   "source": [
    "class File:\n",
    "    def __init__(self, name):\n",
    "        self.name = name\n",
    "        self.file = None\n",
    "\n",
    "    def read_content(self):\n",
    "        with open(self.name, 'r', encoding = 'utf-8') as self.file:\n",
    "            return (self.file.read())\n",
    "    \n",
    "    def __str__(self):\n",
    "        return f'File Name: {self.name}'\n",
    "\n",
    "\n",
    "from pathlib import Path\n",
    "file_path_1 = Path.cwd() / '..' / 'files' / 'txt' / 'demofile.txt'\n",
    "file1 = File(file_path_1)\n",
    "\n",
    "print(file1)\n",
    "print('Content of File:')\n",
    "print(file1.read_content())\n"
   ]
  },
  {
   "cell_type": "markdown",
   "metadata": {},
   "source": [
    "# Lab\n",
    "- Create a rectangle class\n",
    "- Variables: length, width\n",
    "- Methods: set_length, set_width, get_length, get_width, get_area, \\_\\_str\\_\\_ "
   ]
  },
  {
   "cell_type": "markdown",
   "metadata": {},
   "source": [
    "# W3School"
   ]
  },
  {
   "cell_type": "markdown",
   "metadata": {},
   "source": [
    "- [Classes] https://www.w3schools.com/python/exercise.asp?x=xrcise_classes1"
   ]
  },
  {
   "cell_type": "markdown",
   "metadata": {},
   "source": [
    "# Illustration of object-oriented programming (OOP)"
   ]
  },
  {
   "cell_type": "markdown",
   "metadata": {},
   "source": [
    "![OOP](https://www.techtarget.com/rms/onlineimages/whatis-object_oriented_programming.png)"
   ]
  }
 ],
 "metadata": {
  "kernelspec": {
   "display_name": ".venv",
   "language": "python",
   "name": "python3"
  },
  "language_info": {
   "codemirror_mode": {
    "name": "ipython",
    "version": 3
   },
   "file_extension": ".py",
   "mimetype": "text/x-python",
   "name": "python",
   "nbconvert_exporter": "python",
   "pygments_lexer": "ipython3",
   "version": "3.13.5"
  }
 },
 "nbformat": 4,
 "nbformat_minor": 2
}
