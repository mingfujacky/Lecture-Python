{
 "cells": [
  {
   "cell_type": "markdown",
   "metadata": {},
   "source": [
    "# Build your own data type / data structure\n",
    "Object: Class, Attribute, Method"
   ]
  },
  {
   "cell_type": "markdown",
   "metadata": {},
   "source": [
    "# Build a data type (class) to store poker card"
   ]
  },
  {
   "cell_type": "markdown",
   "metadata": {},
   "source": [
    "- suit = 0-梅花 1-鑽石 2-紅心 3-黑桃\n",
    "- rank = 0-A 1-2 2-3 ... 9-10 10-J 11-Q 12-K\n",
    "- build Card data type (class), which has two properties"
   ]
  },
  {
   "cell_type": "code",
   "execution_count": 7,
   "metadata": {},
   "outputs": [
    {
     "name": "stdout",
     "output_type": "stream",
     "text": [
      "<class '__main__.Card'>\n",
      "0 0\n"
     ]
    }
   ],
   "source": [
    "# V1: basic class definition\n",
    "\n",
    "class Card:\n",
    "    suit = 0 \n",
    "    rank = 0\n",
    "\n",
    "# initiate card1 as 梅花A    \n",
    "card1 = Card()  # initiate an instance, named card1\n",
    "card1.suit = 0  # assign value to instance's property\n",
    "card1.rank = 0\n",
    "print(type(card1))\n",
    "print(card1.suit, card1.rank)\n"
   ]
  },
  {
   "cell_type": "code",
   "execution_count": 8,
   "metadata": {},
   "outputs": [
    {
     "name": "stdout",
     "output_type": "stream",
     "text": [
      "2 11\n"
     ]
    }
   ],
   "source": [
    "# V2: enhance to use magic method to initiate instance with parameters\n",
    "# __init__(), is a Python Magic method, which is the method starting and ending with double underscores '__'. \n",
    "# used to assign properties\n",
    "\n",
    "class Card:\n",
    "    def __init__(self, s, r):\n",
    "        self.suit = s\n",
    "        self.rank = r\n",
    "\n",
    "# initiate card3 as 紅心Q    \n",
    "card2 = Card(2,11)  # initiate an instance\n",
    "print(card2.suit, card2.rank)\n"
   ]
  },
  {
   "cell_type": "code",
   "execution_count": 9,
   "metadata": {},
   "outputs": [
    {
     "name": "stdout",
     "output_type": "stream",
     "text": [
      "♥Q\n",
      "<__main__.Card object at 0x1075d8050>\n"
     ]
    }
   ],
   "source": [
    "# V3: print card with show() method\n",
    "class Card:\n",
    "    SUITS = ['♣', '♦', '♥', '♠']\n",
    "    RANKS = ['A', '2', '3', '4', '5', '6',\\\n",
    "             '7', '8', '9', '10', 'J', 'Q', 'K']\n",
    "    \n",
    "    def __init__(self, s, r):\n",
    "        self.suit = s\n",
    "        self.rank = r\n",
    "\n",
    "    def show(self):\n",
    "        print(self.SUITS[self.suit] + self.RANKS[self.rank])\n",
    "        \n",
    "# initiate card3 as 紅心Q    \n",
    "card3 = Card(2,11)  # initiate an instance\n",
    "card3.show()\n",
    "print(card3) # a little bit strange\n"
   ]
  },
  {
   "cell_type": "code",
   "execution_count": 10,
   "metadata": {},
   "outputs": [
    {
     "name": "stdout",
     "output_type": "stream",
     "text": [
      "♥Q\n",
      "♣K\n"
     ]
    }
   ],
   "source": [
    "# V4: enhance to use __str__() method to print card\n",
    "# suit = 0梅花 1鑽石 2紅心 3黑桃\n",
    "# rank = 0-A 1-2 2-3 ... 9-10 10-J 11-Q 12-K\n",
    "\n",
    "class Card:\n",
    "    SUITS = ['♣', '♦', '♥', '♠']\n",
    "    RANKS = ['A', '2', '3', '4', '5', '6',\\\n",
    "             '7', '8', '9', '10', 'J', 'Q', 'K']\n",
    "    \n",
    "    def __init__(self, s, r):\n",
    "        self.suit = s\n",
    "        self.rank = r\n",
    "\n",
    "    def __str__(self):\n",
    "        return self.SUITS[self.suit] + self.RANKS[self.rank]\n",
    "     \n",
    "   #  or def __repr__(self)\n",
    "   \n",
    "card4 = Card(2,11)\n",
    "print(card4)\n",
    "card5 = Card(0,12)\n",
    "print(card5)"
   ]
  }
 ],
 "metadata": {
  "kernelspec": {
   "display_name": ".venv",
   "language": "python",
   "name": "python3"
  },
  "language_info": {
   "codemirror_mode": {
    "name": "ipython",
    "version": 3
   },
   "file_extension": ".py",
   "mimetype": "text/x-python",
   "name": "python",
   "nbconvert_exporter": "python",
   "pygments_lexer": "ipython3",
   "version": "3.13.1"
  }
 },
 "nbformat": 4,
 "nbformat_minor": 2
}
