{
 "cells": [
  {
   "cell_type": "markdown",
   "metadata": {},
   "source": [
    "# Class\n",
    "- 類別與類別屬性\n",
    "- 類別與實體物件，實體屬性"
   ]
  },
  {
   "cell_type": "markdown",
   "metadata": {},
   "source": [
    "# 類別與類別屬性"
   ]
  },
  {
   "cell_type": "code",
   "execution_count": 9,
   "metadata": {},
   "outputs": [
    {
     "name": "stdout",
     "output_type": "stream",
     "text": [
      "count: 1\n",
      "count: 2\n",
      "count: 1\n"
     ]
    }
   ],
   "source": [
    "class Counter:     # 類別\n",
    "    count = 0      # 類別屬性：變數\n",
    "\n",
    "    def add_one(): # 類別屬性：函數\n",
    "        Counter.count += 1\n",
    "\n",
    "    def sub_one():\n",
    "        Counter.count -= 1\n",
    "\n",
    "    def show_count():\n",
    "        print('count:', Counter.count)\n",
    "\n",
    "Counter.add_one(); Counter.show_count() \n",
    "Counter.add_one(); Counter.show_count()\n",
    "Counter.sub_one(); Counter.show_count()          "
   ]
  },
  {
   "cell_type": "markdown",
   "metadata": {},
   "source": [
    "# Build your own data type / data structure\n",
    "- Class, Attribute / Variable, Method / Function, Object\n",
    "- Property = variable and function"
   ]
  },
  {
   "cell_type": "markdown",
   "metadata": {},
   "source": []
  },
  {
   "cell_type": "markdown",
   "metadata": {},
   "source": [
    "Class Traffic_Light:\n"
   ]
  },
  {
   "cell_type": "code",
   "execution_count": null,
   "metadata": {},
   "outputs": [],
   "source": []
  },
  {
   "cell_type": "markdown",
   "metadata": {},
   "source": [
    "# Build a data type (class) to store poker card"
   ]
  },
  {
   "cell_type": "markdown",
   "metadata": {},
   "source": [
    "- suit = 0-梅花 1-鑽石 2-紅心 3-黑桃\n",
    "- rank = 0-A 1-2 2-3 ... 9-10 10-J 11-Q 12-K\n",
    "- build Card data type (class), which has two properties"
   ]
  },
  {
   "cell_type": "code",
   "execution_count": 4,
   "metadata": {},
   "outputs": [
    {
     "name": "stdout",
     "output_type": "stream",
     "text": [
      "1 12\n",
      "<class '__main__.Card'>\n",
      "<class '__main__.Card'>\n",
      "{'suit': 1, 'rank': 12}\n"
     ]
    }
   ],
   "source": [
    "# V1: basic class definition\n",
    "\n",
    "class Card:\n",
    "    suit = 0 \n",
    "    rank = 0\n",
    "\n",
    "# initiate card1 as 鑽石K    \n",
    "card1 = Card()  # initiate an instance, named card1\n",
    "card1.suit = 1  # assign value to instance's property\n",
    "card1.rank = 12\n",
    "print(card1.suit, card1.rank)\n",
    "print(type(card1))"
   ]
  },
  {
   "cell_type": "code",
   "execution_count": null,
   "metadata": {},
   "outputs": [],
   "source": [
    "# V2: enhance to use magic method to initiate instance with parameters\n",
    "# __init__(), is a Python Magic method, which is the method starting and ending with double underscores '__'. \n",
    "# used to assign properties\n",
    "\n",
    "class Card:\n",
    "    def __init__(self, s, r):\n",
    "        self.suit = s\n",
    "        self.rank = r\n",
    "\n",
    "# initiate card2 as 紅心Q    \n",
    "card2 = Card(2,11)  # initiate an instance\n",
    "print(card2.suit, card2.rank)\n"
   ]
  },
  {
   "cell_type": "code",
   "execution_count": null,
   "metadata": {},
   "outputs": [],
   "source": [
    "# V3: print card with show() function\n",
    "class Card:\n",
    "    SUITS = ['♣', '♦', '♥', '♠']\n",
    "    RANKS = ['A', '2', '3', '4', '5', '6',\\\n",
    "             '7', '8', '9', '10', 'J', 'Q', 'K']\n",
    "    \n",
    "    def __init__(self, s, r):\n",
    "        self.suit = s\n",
    "        self.rank = r\n",
    "\n",
    "    def show(self):\n",
    "        print(self.SUITS[self.suit] + self.RANKS[self.rank])\n",
    "        \n",
    "# initiate card3 as 紅心Q    \n",
    "card3 = Card(2,11)  # initiate an instance\n",
    "card3.show() # call show() function to print card\n",
    "print(card3) # a little bit strange\n"
   ]
  },
  {
   "cell_type": "code",
   "execution_count": null,
   "metadata": {},
   "outputs": [],
   "source": [
    "# V4: enhance to use __str__() function to print card\n",
    "# suit = 0梅花 1鑽石 2紅心 3黑桃\n",
    "# rank = 0-A 1-2 2-3 ... 9-10 10-J 11-Q 12-K\n",
    "\n",
    "class Card:\n",
    "    SUITS = ['♣', '♦', '♥', '♠']\n",
    "    RANKS = ['A', '2', '3', '4', '5', '6',\\\n",
    "             '7', '8', '9', '10', 'J', 'Q', 'K']\n",
    "    \n",
    "    def __init__(self, s, r):\n",
    "        self.suit = s\n",
    "        self.rank = r\n",
    "    \n",
    "    # def show(self):\n",
    "    #     print(self.SUITS[self.suit] + self.RANKS[self.rank])\n",
    "\n",
    "    def __str__(self):\n",
    "        return self.SUITS[self.suit] + self.RANKS[self.rank]\n",
    "   \n",
    "card4 = Card(2,11)\n",
    "print(card4) # print card with __str__() function"
   ]
  },
  {
   "cell_type": "markdown",
   "metadata": {},
   "source": [
    "# 建構 Class & 實例化 Object"
   ]
  },
  {
   "cell_type": "code",
   "execution_count": null,
   "metadata": {},
   "outputs": [],
   "source": [
    "# construct a Circle class and initiate an instance\n",
    "class Circle:\n",
    "    def __init__(self, radius):\n",
    "        self.radius = radius\n",
    "\n",
    "    def change_radius(self, radius):\n",
    "        self.radius = radius\n",
    "    \n",
    "    def get_radius (self):\n",
    "        return self.radius\n",
    "    \n",
    "    def get_area (self):\n",
    "        return (self.radius ** 2) * 3.14\n",
    "    \n",
    "    def __str__(self):\n",
    "        return f'The circule radius is {self.radius} and its area is {self.get_area()}'\n",
    "\n",
    "# main program to initiate an instance\n",
    "circle_A = Circle(2)\n",
    "print('radius:', circle_A.get_radius())\n",
    "circle_A.change_radius(1)\n",
    "print('radius:', circle_A.get_radius())\n",
    "print('area:',circle_A.get_area())\n",
    "print(circle_A)"
   ]
  },
  {
   "cell_type": "markdown",
   "metadata": {},
   "source": [
    "# Lab\n",
    "- Create a rectangle class\n",
    "- Attribute: length, width\n",
    "- Function: set_length, set_width, get_length, get_width, get_area, \\_\\_str\\_\\_ "
   ]
  },
  {
   "cell_type": "markdown",
   "metadata": {},
   "source": [
    "# W3School"
   ]
  },
  {
   "cell_type": "markdown",
   "metadata": {},
   "source": [
    "- [Classes] https://www.w3schools.com/python/exercise.asp?x=xrcise_classes1"
   ]
  },
  {
   "cell_type": "markdown",
   "metadata": {},
   "source": [
    "# Illustration of object-oriented programming (OOP)"
   ]
  },
  {
   "cell_type": "markdown",
   "metadata": {},
   "source": [
    "![OOP](https://www.techtarget.com/rms/onlineimages/whatis-object_oriented_programming.png)"
   ]
  }
 ],
 "metadata": {
  "kernelspec": {
   "display_name": ".venv",
   "language": "python",
   "name": "python3"
  },
  "language_info": {
   "codemirror_mode": {
    "name": "ipython",
    "version": 3
   },
   "file_extension": ".py",
   "mimetype": "text/x-python",
   "name": "python",
   "nbconvert_exporter": "python",
   "pygments_lexer": "ipython3",
   "version": "3.13.1"
  }
 },
 "nbformat": 4,
 "nbformat_minor": 2
}
