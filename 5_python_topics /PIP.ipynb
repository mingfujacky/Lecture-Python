{
 "cells": [
  {
   "cell_type": "markdown",
   "metadata": {},
   "source": [
    "# PIP"
   ]
  },
  {
   "cell_type": "markdown",
   "metadata": {},
   "source": [
    "- PIP is a package manager for Python library, packages or modules\n",
    "- Library: A collection of Packages.\n",
    "- Package: A collection of Python files in a directory.\n",
    "- Module: A Python file.\n",
    "- If you have Python version 3.4 or later, PIP is included by default."
   ]
  },
  {
   "cell_type": "markdown",
   "metadata": {},
   "source": [
    "![Library, Package, Module](https://substackcdn.com/image/fetch/f_auto,q_auto:good,fl_progressive:steep/https%3A%2F%2Fsubstack-post-media.s3.amazonaws.com%2Fpublic%2Fimages%2Ff0a8ad30-3720-419b-8250-6ea00d95585c_544x419.png)"
   ]
  },
  {
   "cell_type": "markdown",
   "metadata": {},
   "source": [
    "## Working In Thonny"
   ]
  },
  {
   "cell_type": "markdown",
   "metadata": {},
   "source": [
    "- 在Thonny中打開終端機: Thonny的視窗功能列 Tools --> Open system shell\n",
    "- Check if PIP is installed\n",
    "  - pip3 --version (in Mac)\n",
    "  - pip --version (in Windows)\n",
    "- Download library, package\n",
    "  - pip3 install numpy (in Mac)\n",
    "  - pip install numpy (in Windows)\n",
    "- Remove a library, package\n",
    "  - pip3 uninstall numpy (in Mac)\n",
    "  - pip uninstall numpy (in Windows)\n",
    "- List library, package which you are installed\n",
    "  - pip3 list (in Mac)\n",
    "  - pip list (in Windows)\n",
    "- Check Python version\n",
    "  - where python3 (in Mac), where python (in Windows)\n",
    "  - which python3 (in Mac), but it do not work in Windows\n",
    "  - Windows 使用 echo %PATH% 環境變數來搜尋執行檔"
   ]
  },
  {
   "cell_type": "markdown",
   "metadata": {},
   "source": [
    "## Working in 作業系統 Mac or Windows"
   ]
  },
  {
   "cell_type": "markdown",
   "metadata": {},
   "source": [
    "- 打開終端機或命令提示字元, 並鍵入 where python and which python\n",
    "  - where python3 (in Mac), where python (in Windows)\n",
    "    1. /opt/homebrew/bin/python3 (install from Homebrew)\n",
    "    2. /Library/Frameworks/Python.framework/Versions/3.13/bin/python3 (install from Python.org by .pkg)\n",
    "    3. /usr/local/bin/python3 (Link to item 2)\n",
    "    4. /usr/bin/python3 (MacOS pre-built)\n",
    "  - which python3 (in Mac), which python (in Windows)\n",
    "    - /opt/homebrew/bin/python3 (current active version when type python3)"
   ]
  }
 ],
 "metadata": {
  "kernelspec": {
   "display_name": ".venv",
   "language": "python",
   "name": "python3"
  },
  "language_info": {
   "codemirror_mode": {
    "name": "ipython",
    "version": 3
   },
   "file_extension": ".py",
   "mimetype": "text/x-python",
   "name": "python",
   "nbconvert_exporter": "python",
   "pygments_lexer": "ipython3",
   "version": "3.13.2"
  }
 },
 "nbformat": 4,
 "nbformat_minor": 2
}
