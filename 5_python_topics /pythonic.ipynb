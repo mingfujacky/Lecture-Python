{
 "cells": [
  {
   "cell_type": "markdown",
   "metadata": {},
   "source": [
    "Under construction. Please check the code and the result carefully!!"
   ]
  },
  {
   "cell_type": "markdown",
   "metadata": {},
   "source": [
    "# zip fucntion"
   ]
  },
  {
   "cell_type": "code",
   "execution_count": null,
   "metadata": {},
   "outputs": [],
   "source": [
    "fruits = ['apple', 'banana', 'cherry']\n",
    "colors = ['red', 'yellow', 'green']\n",
    "for pair in zip(fruits, colors):\n",
    "    print(pair)"
   ]
  },
  {
   "cell_type": "code",
   "execution_count": null,
   "metadata": {},
   "outputs": [],
   "source": [
    "numbers = [1, 2, 3]\n",
    "letters = ['a', 'b', 'c']\n",
    "names = ['John', 'Mary', 'Tom']\n",
    "for pair in zip(numbers, letters, names):\n",
    "    print(pair)\n"
   ]
  },
  {
   "cell_type": "code",
   "execution_count": null,
   "metadata": {},
   "outputs": [],
   "source": [
    "# Fun tricks with zip\n",
    "foo = [[1, 2, 3], [4, 5, 6]]\n",
    "boo = list(zip(*foo))\n",
    "print(f'{boo=}')\n"
   ]
  },
  {
   "cell_type": "code",
   "execution_count": null,
   "metadata": {},
   "outputs": [],
   "source": [
    "# Dividing a list into groups of n\n",
    "l = [1, 4, 7, 2, 5, 8, 3, 6, 9]\n",
    "result = zip(*([iter(l)] * 3))\n",
    "for item in result:\n",
    "    print(item)"
   ]
  },
  {
   "cell_type": "code",
   "execution_count": null,
   "metadata": {},
   "outputs": [],
   "source": [
    "#Choosing a random letter with uppercase\n",
    "import random\n",
    "import string\n",
    "letter = random.choice(string.ascii_uppercase)\n",
    "print(f'{string.ascii_uppercase =}')\n",
    "print(f'{letter =}')\n",
    "\n",
    "#Identify if any characters are numbers\n",
    "my_string = '1abc'\n",
    "print(any(map(str.isnumeric, my_string))) # any() returns True if any of the elements in the iterable are true\n",
    "print(all(map(str.isnumeric, my_string))) # all() returns True if all of the elements in the iterable are true"
   ]
  },
  {
   "cell_type": "markdown",
   "metadata": {},
   "source": [
    "# Iterator (迭代器)"
   ]
  },
  {
   "cell_type": "markdown",
   "metadata": {},
   "source": [
    "- 在使用列表的時候，有時候需要對列表進行遍歷，但是又不希望把整個列表都加載到內存中。這時候，可以使用列表的迭代器\n",
    "- 這個例子中，我們使用 iter 函式將列表轉換成迭代器，然後使用 next 函式來取出下一個元素。這樣的方式可以節省內存空間，特別是當列表很大的時候。"
   ]
  },
  {
   "cell_type": "code",
   "execution_count": null,
   "metadata": {},
   "outputs": [],
   "source": [
    "a = [1, 2, 3, 4, 5]\n",
    "it = iter(a)\n",
    "print(next(it)) # 1\n",
    "print(next(it)) # 2\n",
    "print(next(it)) # 3\n",
    "print(it[4]) # TypeError: 'list_iterator' object is not subscriptable"
   ]
  },
  {
   "cell_type": "markdown",
   "metadata": {},
   "source": [
    "# Walrus Operator (海象運算子)"
   ]
  },
  {
   "cell_type": "markdown",
   "metadata": {},
   "source": [
    "- Python 3.8 推出 1 個新的運算子 — Walrus Operator, 又稱海象運算子，其運算符號為 :=\n",
    "- NAME := expr\n",
    "- 海象運算子的作用為先執行完運算子右側的 expr 之後，再將 expr 的值指派給 NAME 變數"
   ]
  },
  {
   "cell_type": "code",
   "execution_count": null,
   "metadata": {},
   "outputs": [],
   "source": [
    "my_list = [1, 2, 3, 4, 5, 6, 7, 8, 9]\n",
    "n = len(my_list)\n",
    "if n < 10:\n",
    "    print(f\"We have {n} items in our list.\")"
   ]
  },
  {
   "cell_type": "code",
   "execution_count": null,
   "metadata": {},
   "outputs": [],
   "source": [
    "my_list = [1, 2, 3, 4, 5, 6, 7, 8, 9]\n",
    "if (n := len(my_list)) < 10:\n",
    "    print(f\"We have {n} items in our list.\")"
   ]
  },
  {
   "cell_type": "markdown",
   "metadata": {},
   "source": [
    "# Metasyntactic Variables (元語法變數)"
   ]
  },
  {
   "cell_type": "markdown",
   "metadata": {},
   "source": [
    "- General: foo, bar, baz, qux, foobar, quxx, corge, grault, garply, waldo, fred, plugh, xyzyx, thud\n",
    "- Python: spam, ham, eggs"
   ]
  },
  {
   "cell_type": "code",
   "execution_count": null,
   "metadata": {},
   "outputs": [],
   "source": [
    "a =3\n",
    "v = ('No','Yes')[a>5] # Ternary operator\n",
    "print(v)"
   ]
  }
 ],
 "metadata": {
  "kernelspec": {
   "display_name": ".venv",
   "language": "python",
   "name": "python3"
  },
  "language_info": {
   "codemirror_mode": {
    "name": "ipython",
    "version": 3
   },
   "file_extension": ".py",
   "mimetype": "text/x-python",
   "name": "python",
   "nbconvert_exporter": "python",
   "pygments_lexer": "ipython3",
   "version": "3.13.1"
  }
 },
 "nbformat": 4,
 "nbformat_minor": 2
}
