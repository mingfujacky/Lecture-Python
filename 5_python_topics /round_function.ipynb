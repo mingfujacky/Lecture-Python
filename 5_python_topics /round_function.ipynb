{
 "cells": [
  {
   "cell_type": "markdown",
   "metadata": {},
   "source": [
    "# round(number, digits)\n",
    "Parameter|Description\n",
    "---------|-----------\n",
    "number   |Required. The number to be rounded\n",
    "digits   |Optional. The number of decimals to use when rounding the number. Default is 0\n"
   ]
  },
  {
   "cell_type": "markdown",
   "metadata": {},
   "source": [
    "# 有無 digits 參數的差異"
   ]
  },
  {
   "cell_type": "code",
   "execution_count": null,
   "metadata": {},
   "outputs": [],
   "source": [
    "# 當参數 digits 不存在时，round()函數的輸出為整数。\n",
    "# 當参數 digits 存在時，即使為0，round()函數的輸出也會是一個浮點數\n",
    "print(round(2.01))  # 2\n",
    "print(round(2.01,0))  # 2.0"
   ]
  },
  {
   "cell_type": "markdown",
   "metadata": {},
   "source": [
    "# 偶數捨入法 (round half to even or tie to even)"
   ]
  },
  {
   "cell_type": "code",
   "execution_count": null,
   "metadata": {},
   "outputs": [],
   "source": [
    "# round() 採用的並不是四捨五入, 而是依照指定的位數, 往前或是往後取最接近的數\n",
    "print(round(2.2241,2))  # 2.22\n",
    "print(round(2.2251,2))  # 2.23\n",
    "\n",
    "# round() 是取最接近的數值, 可是當往前與往後的數值等距時, 會取偶數\n",
    "print(round(3.5, 0))  # 4.0\n",
    "print(round(2.5, 0))  # 2.0\n",
    "print(round(4.5, 0))  # 4.0\n",
    "print(round(0.5))  # 0\n",
    "print(round(1.5))  # 2\n",
    "print(round(-2.5))  # -2"
   ]
  },
  {
   "cell_type": "code",
   "execution_count": null,
   "metadata": {},
   "outputs": [],
   "source": [
    "print(round(2.2249, 2))  # 2.22\n",
    "print(round(2.2260, 2))  # 2.23\n",
    "print(round(2.2251, 2))  # 2.23\n",
    "print(round(2.2250, 2))  # 2.23\n",
    "print(f'{2.2250:.17f}')  # 2.22500000000000009, print the number with 17 digits of precision\n",
    "print(round(2.675, 2))  # 2.67\n",
    "print(f'{2.675:.17f}')  # 2.67499999999999982, print the number with 17 digits of precision"
   ]
  },
  {
   "cell_type": "code",
   "execution_count": null,
   "metadata": {},
   "outputs": [],
   "source": [
    "print(round(6571.2468,0)) # 6571.0\n",
    "print(round(6571.2468,-1)) # 6570.0\n",
    "print(round(6571.2468,-2)) # 6600.0\n",
    "print(round(6571.2468,-3)) # 7000.0"
   ]
  },
  {
   "cell_type": "code",
   "execution_count": null,
   "metadata": {},
   "outputs": [],
   "source": [
    "print(round(0.5))  # 0\n",
    "print(f'{1.1:.30f}')  # Prints the number with 17 digits of precision\n",
    "print(round(1.5))  # 2\n",
    "print(round(-2.5))"
   ]
  },
  {
   "cell_type": "code",
   "execution_count": null,
   "metadata": {},
   "outputs": [],
   "source": [
    "print(round(2.2250,2))  # 2.23\n",
    "print(round(2.2350,2))  # 2.23\n",
    "\n",
    "print(f'{2.2250:.17f}')  # 2.22500000000000009, print the number with 17 digits of precision\n",
    "print(f'{2.2350:.17f}')  # 2.23499999999999990, print the number with 17 digits of precision"
   ]
  },
  {
   "cell_type": "code",
   "execution_count": null,
   "metadata": {},
   "outputs": [],
   "source": [
    "import math\n",
    "print(math.ceil(3.14)) # 無條件進位\n",
    "print(math.floor(3.14)) # 無條件捨去"
   ]
  }
 ],
 "metadata": {
  "kernelspec": {
   "display_name": ".venv",
   "language": "python",
   "name": "python3"
  },
  "language_info": {
   "codemirror_mode": {
    "name": "ipython",
    "version": 3
   },
   "file_extension": ".py",
   "mimetype": "text/x-python",
   "name": "python",
   "nbconvert_exporter": "python",
   "pygments_lexer": "ipython3",
   "version": "3.13.1"
  }
 },
 "nbformat": 4,
 "nbformat_minor": 2
}
