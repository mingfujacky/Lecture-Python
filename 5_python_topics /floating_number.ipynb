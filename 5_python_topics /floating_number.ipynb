{
 "cells": [
  {
   "cell_type": "markdown",
   "metadata": {},
   "source": [
    "# 浮點數潛在的誤差"
   ]
  },
  {
   "cell_type": "markdown",
   "metadata": {},
   "source": [
    "- 在計算機架構中，浮點數 (floating-point number) 是以基數為 2（二進位）的小數表示。例如說，在十進位小數中 0.625 可被分為 6 * 1/10 + 2 * 1/100 + 5 * 1/1000; 同樣的道理，二進位小數 0.101 可被分為 1 * 1/2 + 0 * 1/4 + 1 * 1/8。這兩個小數有相同的數值，而唯一真正的不同在於前者以十進位表示，後者以二進位表示。\n",
    "- 不幸的是，大多數十進位小數無法精準地以二進位小數表示。一般的結果為，你輸入的十進位浮點數只能由實際儲存在計算機中的二進位浮點數近似。當只顯示幾位小數時是分辨不出來的, 但若是顯示多位小數, 就可以看出差別\n",
    "- 例如，print(f'{2.2250:.17f}')  # 2.22500000000000009\n",
    "- 如果對於浮點數的誤差很介意, 那麼可以試試看使用 decimal 模組內的 Decimal 類別, 這是專以 10 進位觀點設計的數值類別\n",
    "- 不要使用浮點數進行相等比較: 0.1 + 0.2 == 0.3 (return False), 可以改用 math.isclose() 函數進行相等比較"
   ]
  },
  {
   "cell_type": "code",
   "execution_count": 1,
   "metadata": {},
   "outputs": [
    {
     "name": "stdout",
     "output_type": "stream",
     "text": [
      "2.22500\n",
      "2.22500000000000009\n"
     ]
    }
   ],
   "source": [
    "print(f'{2.2250:.5f}') # 2.22500\n",
    "print(f'{2.2250:.17f}')  # 2.22500000000000009"
   ]
  },
  {
   "cell_type": "code",
   "execution_count": 9,
   "metadata": {},
   "outputs": [
    {
     "name": "stdout",
     "output_type": "stream",
     "text": [
      "0.10000000000000000555\n",
      "0.20000000000000001110\n",
      "0.30000000000000004441\n",
      "False\n",
      "0.29999999999999998890\n"
     ]
    }
   ],
   "source": [
    "print(f'{0.1:.20f}')  # 0.10000000000000000555 \n",
    "print(f'{0.2:.20f}')  # 0.20000000000000001110\n",
    "print(f'{0.1 + 0.2:.20f}')  # 0.30000000000000004441\n",
    "print((0.1 + 0.2) == 0.3)  # False\n",
    "print(f'{0.3:.20f}')  # 0.29999999999999998890"
   ]
  },
  {
   "cell_type": "code",
   "execution_count": 36,
   "metadata": {},
   "outputs": [
    {
     "data": {
      "text/plain": [
       "True"
      ]
     },
     "execution_count": 36,
     "metadata": {},
     "output_type": "execute_result"
    }
   ],
   "source": [
    "import math\n",
    "math.isclose(0.1 + 0.2, 0.3)  # True"
   ]
  },
  {
   "cell_type": "markdown",
   "metadata": {},
   "source": [
    "# Decimal module "
   ]
  },
  {
   "cell_type": "markdown",
   "metadata": {},
   "source": [
    "如果你真的非常注重浮點數的精確度，比如說核子反應爐或是太空船登陸軌跡的計算，你可以使用 decimal module 來控制浮點數的精確度"
   ]
  },
  {
   "cell_type": "code",
   "execution_count": 41,
   "metadata": {},
   "outputs": [
    {
     "name": "stdout",
     "output_type": "stream",
     "text": [
      "0.3\n",
      "0.30000000000000004\n",
      "0.3\n"
     ]
    }
   ],
   "source": [
    "from decimal import Decimal\n",
    "\n",
    "# Creating Decimal objects\n",
    "a = Decimal('0.1')\n",
    "b = Decimal('0.2')\n",
    "\n",
    "# Arithmetic operations\n",
    "result = a + b\n",
    "print(result)  # Output: 0.3 (exact)\n",
    "\n",
    "# Comparison with floats\n",
    "print(0.1 + 0.2)         # Output: 0.30000000000000004 (due to floating-point issues)\n",
    "print(Decimal('0.1') + Decimal('0.2'))  # Output: 0.3"
   ]
  },
  {
   "cell_type": "code",
   "execution_count": 42,
   "metadata": {},
   "outputs": [
    {
     "name": "stdout",
     "output_type": "stream",
     "text": [
      "0.14286\n",
      "0.1428571429\n"
     ]
    }
   ],
   "source": [
    "from decimal import Decimal, getcontext\n",
    "\n",
    "# Set global precision\n",
    "getcontext().prec = 5\n",
    "\n",
    "# Operations with limited precision\n",
    "result = Decimal('1') / Decimal('7')\n",
    "print(result)  # Output: 0.14286 (rounded to 5 digits)\n",
    "\n",
    "# Reset precision\n",
    "getcontext().prec = 10\n",
    "result = Decimal('1') / Decimal('7')\n",
    "print(result)  # Output: 0.1428571429"
   ]
  }
 ],
 "metadata": {
  "kernelspec": {
   "display_name": ".venv",
   "language": "python",
   "name": "python3"
  },
  "language_info": {
   "codemirror_mode": {
    "name": "ipython",
    "version": 3
   },
   "file_extension": ".py",
   "mimetype": "text/x-python",
   "name": "python",
   "nbconvert_exporter": "python",
   "pygments_lexer": "ipython3",
   "version": "3.13.1"
  }
 },
 "nbformat": 4,
 "nbformat_minor": 2
}
