{
 "cells": [
  {
   "cell_type": "markdown",
   "metadata": {},
   "source": [
    "# Make alias"
   ]
  },
  {
   "cell_type": "code",
   "execution_count": null,
   "metadata": {},
   "outputs": [],
   "source": [
    "# make alias of list\n",
    "a = [1, 2, 3]\n",
    "b = a # b is an alias of a\n",
    "print('same memory address? ', id(a) == id(b), a is b)\n",
    "print('same content? ', a == b)\n",
    "# side effect of alias\n",
    "a[0] = 100\n",
    "print('a = ', a)\n",
    "print('b = ', b)"
   ]
  },
  {
   "cell_type": "markdown",
   "metadata": {},
   "source": [
    "![List alias](https://pythonbook.cc/assets/images/same-list-76149a9a599381daa0815984b932b721.webp)"
   ]
  },
  {
   "cell_type": "markdown",
   "metadata": {},
   "source": [
    "# list function"
   ]
  },
  {
   "cell_type": "code",
   "execution_count": null,
   "metadata": {},
   "outputs": [],
   "source": [
    "a = [1, 2, 3]\n",
    "b = list(a) # copy a list\n",
    "print('same memory address? ', id(a) == id(b), a is b)\n",
    "print('same content? ', a == b)\n",
    "# side effect of alias\n",
    "a[0] = 100\n",
    "print('a = ', a)\n",
    "print('b = ', b)\n"
   ]
  },
  {
   "cell_type": "markdown",
   "metadata": {},
   "source": [
    "# sorted() fuction"
   ]
  },
  {
   "cell_type": "code",
   "execution_count": null,
   "metadata": {},
   "outputs": [],
   "source": [
    "a = [3, 1, 2]\n",
    "b = sorted(a) # NOT in place sort\n",
    "print('same memory address? ', id(a) == id(b), a is b)\n",
    "print('same content? ', a == b)\n",
    "a[0] = 100\n",
    "print('a = ', a)\n",
    "print('b = ', b)\n",
    "\n",
    "# in place sort\n",
    "foo = [3, 1, 2]\n",
    "foo.sort()\n",
    "print(f'{foo = }')\n"
   ]
  },
  {
   "cell_type": "markdown",
   "metadata": {},
   "source": [
    "# loop"
   ]
  },
  {
   "cell_type": "code",
   "execution_count": null,
   "metadata": {},
   "outputs": [],
   "source": [
    "a = [1, 2, 3]\n",
    "b = []\n",
    "for _ in a:\n",
    "    b.append(_)\n",
    "    \n",
    "print('same memory address? ', id(a) == id(b), a is b)\n",
    "print('same content? ', a == b)"
   ]
  },
  {
   "cell_type": "code",
   "execution_count": null,
   "metadata": {},
   "outputs": [],
   "source": [
    "a = [1, 2, 3]\n",
    "b = a[:]\n",
    "print('same memory address? ', id(a) == id(b), a is b)\n",
    "print('same content? ', a == b)"
   ]
  },
  {
   "cell_type": "markdown",
   "metadata": {},
   "source": [
    "# .copy() method (shallow copy)"
   ]
  },
  {
   "cell_type": "code",
   "execution_count": null,
   "metadata": {},
   "outputs": [],
   "source": [
    "bag1 = ['Peggy', 'Fred', 'Lee', 'Josephine']\n",
    "print('list bag1:', id(bag1))\n",
    "print('element Peggy:', id(bag1[0]))\n",
    "print('element Fred:', id(bag1[1]))\n",
    "print('element Lee:', id(bag1[2]))\n",
    "print('element Josephine:', id(bag1[3]))"
   ]
  },
  {
   "cell_type": "code",
   "execution_count": null,
   "metadata": {},
   "outputs": [],
   "source": [
    "bag1 = ['Peggy', 'Fred', 'Lee', 'Josephine']\n",
    "bag2 = bag1.copy()\n",
    "print('list bag1:', '\\t', id(bag1),'\\t', 'list bag2:', '\\t', id(bag2))\n",
    "print('element 0:', '\\t', id(bag1[0]),'\\t', id(bag2[0]))\n",
    "print('element 1:', '\\t', id(bag1[1]), '\\t', id(bag2[1]))\n",
    "print('element 2:', '\\t', id(bag1[2]), '\\t', id(bag2[2]))\n",
    "print('element 3:', '\\t', id(bag1[3]), '\\t', id(bag2[3]))"
   ]
  },
  {
   "cell_type": "code",
   "execution_count": null,
   "metadata": {},
   "outputs": [],
   "source": [
    "bag1 = ['Peggy', 'Fred', 'Lee', 'Josephine']\n",
    "bag2 = bag1.copy()\n",
    "print('list bag1:', '\\t', id(bag1),'\\t', 'list bag2:', '\\t', id(bag2))\n",
    "print('element 0:', '\\t', id(bag1[0]),'\\t', id(bag2[0]))\n",
    "print('element 1:', '\\t', id(bag1[1]), '\\t', id(bag2[1]))\n",
    "print('element 2:', '\\t', id(bag1[2]), '\\t', id(bag2[2]))\n",
    "print('element 3:', '\\t', id(bag1[3]), '\\t', id(bag2[3]))"
   ]
  },
  {
   "cell_type": "code",
   "execution_count": null,
   "metadata": {},
   "outputs": [],
   "source": [
    "bag1 = ['Peggy', 'Fred', 'Lee', 'Josephine']\n",
    "bag2 = bag1.copy()\n",
    "bag1[0] = 'Jacky'\n",
    "print('bag1:', bag1)\n",
    "print('bag2:', bag2)\n",
    "print('list bag1:', '\\t', id(bag1),'\\t', 'list bag2:', '\\t', id(bag2))"
   ]
  },
  {
   "cell_type": "code",
   "execution_count": null,
   "metadata": {},
   "outputs": [],
   "source": [
    "# side effect of shawllow copy\n",
    "bag1 = ['Peggy', 'Fred', 'Lee', ['John', 'Mary']]\n",
    "bag2 = bag1.copy()\n",
    "print('list bag1:', '\\t', id(bag1),'\\t', 'list bag2:', '\\t', id(bag2))\n",
    "print('element 3:', '\\t', id(bag1[3]), '\\t', id(bag2[3]))\n",
    "bag1[3][0] = 'Andy'\n",
    "\n",
    "print('list bag1:', '\\t', id(bag1),'\\t', 'list bag2:', '\\t', id(bag2))\n",
    "print('element 3:', '\\t', id(bag1[3]), '\\t', id(bag2[3]))\n",
    "\n",
    "print('bag1:', bag1)\n",
    "print('bag2:', bag2)"
   ]
  },
  {
   "cell_type": "markdown",
   "metadata": {},
   "source": [
    "![shallow copy](https://media.geeksforgeeks.org/wp-content/uploads/shallow-copy.jpg)"
   ]
  },
  {
   "cell_type": "markdown",
   "metadata": {},
   "source": [
    "# .deepcopy() method"
   ]
  },
  {
   "cell_type": "code",
   "execution_count": null,
   "metadata": {},
   "outputs": [],
   "source": [
    "import copy\n",
    "bag1 = ['Peggy', 'Fred', 'Lee', ['John', 'Mary']]\n",
    "bag2 = copy.deepcopy(bag1)\n",
    "print('list:','\\t', 'bag1:', '\\t', id(bag1),'\\t', 'bag2:', '\\t', id(bag2))\n",
    "print('element 0:', '\\t', id(bag1[0]),'\\t', id(bag2[0]))\n",
    "print('element 1:', '\\t', id(bag1[1]), '\\t', id(bag2[1]))\n",
    "print('element 2:', '\\t', id(bag1[2]), '\\t', id(bag2[2]))\n",
    "print('element 3:', '\\t', id(bag1[3]), '\\t', id(bag2[3]))\n",
    "bag1[3][0] = 'Andy'\n",
    "print('bag1:', bag1)\n",
    "print('bag2:', bag2)"
   ]
  },
  {
   "cell_type": "markdown",
   "metadata": {},
   "source": [
    "![deep copy](https://media.geeksforgeeks.org/wp-content/uploads/deep-copy.jpg)"
   ]
  },
  {
   "cell_type": "markdown",
   "metadata": {},
   "source": [
    "# W3 School\n",
    "- [Copy Lists] https://www.w3schools.com/python/exercise.asp?x=xrcise_lists_copy1 <br>"
   ]
  }
 ],
 "metadata": {
  "kernelspec": {
   "display_name": ".venv",
   "language": "python",
   "name": "python3"
  },
  "language_info": {
   "codemirror_mode": {
    "name": "ipython",
    "version": 3
   },
   "file_extension": ".py",
   "mimetype": "text/x-python",
   "name": "python",
   "nbconvert_exporter": "python",
   "pygments_lexer": "ipython3",
   "version": "3.12.10"
  }
 },
 "nbformat": 4,
 "nbformat_minor": 2
}
