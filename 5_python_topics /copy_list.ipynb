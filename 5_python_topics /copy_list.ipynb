{
 "cells": [
  {
   "cell_type": "markdown",
   "metadata": {},
   "source": [
    "# Make alias"
   ]
  },
  {
   "cell_type": "code",
   "execution_count": 18,
   "metadata": {},
   "outputs": [
    {
     "name": "stdout",
     "output_type": "stream",
     "text": [
      "same memory address?  True True\n",
      "same content?  True\n",
      "a =  [100, 2, 3]\n",
      "b =  [100, 2, 3]\n"
     ]
    }
   ],
   "source": [
    "# make alias of list\n",
    "a = [1, 2, 3]\n",
    "b = a # b is an alias of a\n",
    "print('same memory address? ', id(a) == id(b), a is b)\n",
    "print('same content? ', a == b)\n",
    "# side effect of alias\n",
    "a[0] = 100\n",
    "print('a = ', a)\n",
    "print('b = ', b)"
   ]
  },
  {
   "cell_type": "markdown",
   "metadata": {},
   "source": [
    "![List alias](https://pythonbook.cc/assets/images/same-list-76149a9a599381daa0815984b932b721.webp)"
   ]
  },
  {
   "cell_type": "markdown",
   "metadata": {},
   "source": [
    "# list function"
   ]
  },
  {
   "cell_type": "code",
   "execution_count": 20,
   "metadata": {},
   "outputs": [
    {
     "name": "stdout",
     "output_type": "stream",
     "text": [
      "same memory address?  False False\n",
      "same content?  True\n",
      "a =  [100, 2, 3]\n",
      "b =  [1, 2, 3]\n"
     ]
    }
   ],
   "source": [
    "a = [1, 2, 3]\n",
    "b = list(a) # copy a list\n",
    "print('same memory address? ', id(a) == id(b), a is b)\n",
    "print('same content? ', a == b)\n",
    "# side effect of alias\n",
    "a[0] = 100\n",
    "print('a = ', a)\n",
    "print('b = ', b)\n"
   ]
  },
  {
   "cell_type": "markdown",
   "metadata": {},
   "source": [
    "# sorted() fuction"
   ]
  },
  {
   "cell_type": "code",
   "execution_count": 25,
   "metadata": {},
   "outputs": [
    {
     "name": "stdout",
     "output_type": "stream",
     "text": [
      "same memory address?  False False\n",
      "same content?  False\n",
      "a =  [100, 1, 2]\n",
      "b =  [1, 2, 3]\n",
      "foo = [1, 2, 3]\n"
     ]
    }
   ],
   "source": [
    "a = [3, 1, 2]\n",
    "b = sorted(a) # NOT in place sort\n",
    "print('same memory address? ', id(a) == id(b), a is b)\n",
    "print('same content? ', a == b)\n",
    "a[0] = 100\n",
    "print('a = ', a)\n",
    "print('b = ', b)\n",
    "\n",
    "# in place sort\n",
    "foo = [3, 1, 2]\n",
    "foo.sort()\n",
    "print(f'{foo = }')\n"
   ]
  },
  {
   "cell_type": "markdown",
   "metadata": {},
   "source": [
    "# loop"
   ]
  },
  {
   "cell_type": "code",
   "execution_count": 27,
   "metadata": {},
   "outputs": [
    {
     "name": "stdout",
     "output_type": "stream",
     "text": [
      "same memory address?  False False\n",
      "same content?  True\n"
     ]
    }
   ],
   "source": [
    "a = [1, 2, 3]\n",
    "b = []\n",
    "for _ in a:\n",
    "    b.append(_)\n",
    "    \n",
    "print('same memory address? ', id(a) == id(b), a is b)\n",
    "print('same content? ', a == b)"
   ]
  },
  {
   "cell_type": "code",
   "execution_count": 38,
   "metadata": {},
   "outputs": [
    {
     "name": "stdout",
     "output_type": "stream",
     "text": [
      "same memory address?  False False\n",
      "same content?  True\n"
     ]
    }
   ],
   "source": [
    "a = [1, 2, 3]\n",
    "b = a[:]\n",
    "print('same memory address? ', id(a) == id(b), a is b)\n",
    "print('same content? ', a == b)"
   ]
  },
  {
   "cell_type": "markdown",
   "metadata": {},
   "source": [
    "# .copy() method (shallow copy)"
   ]
  },
  {
   "cell_type": "code",
   "execution_count": 37,
   "metadata": {},
   "outputs": [
    {
     "name": "stdout",
     "output_type": "stream",
     "text": [
      "list bag1: 4380425664\n",
      "element Peggy: 4375383088\n",
      "element Fred: 4375392880\n",
      "element Lee: 4375683232\n",
      "element Josephine: 4380403632\n"
     ]
    }
   ],
   "source": [
    "bag1 = ['Peggy', 'Fred', 'Lee', 'Josephine']\n",
    "print('list bag1:', id(bag1))\n",
    "print('element Peggy:', id(bag1[0]))\n",
    "print('element Fred:', id(bag1[1]))\n",
    "print('element Lee:', id(bag1[2]))\n",
    "print('element Josephine:', id(bag1[3]))"
   ]
  },
  {
   "cell_type": "markdown",
   "metadata": {},
   "source": [
    "![memory address of list](https://help.perforce.com/sourcepro/current/HTML/SourcePro_Core/images/copy_bag_1.png)"
   ]
  },
  {
   "cell_type": "markdown",
   "metadata": {},
   "source": [
    "![shallow and deep copy](https://help.perforce.com/sourcepro/current/HTML/SourcePro_Core/images/copy_bag_2.png)"
   ]
  },
  {
   "cell_type": "code",
   "execution_count": 58,
   "metadata": {},
   "outputs": [
    {
     "name": "stdout",
     "output_type": "stream",
     "text": [
      "list bag1: \t 4841278528 \t list bag2: \t 4380584000\n",
      "element 0: \t 4375383088 \t 4375383088\n",
      "element 1: \t 4375392880 \t 4375392880\n",
      "element 2: \t 4375683232 \t 4375683232\n",
      "element 3: \t 4380403632 \t 4380403632\n"
     ]
    }
   ],
   "source": [
    "bag1 = ['Peggy', 'Fred', 'Lee', 'Josephine']\n",
    "bag2 = bag1.copy()\n",
    "print('list bag1:', '\\t', id(bag1),'\\t', 'list bag2:', '\\t', id(bag2))\n",
    "print('element 0:', '\\t', id(bag1[0]),'\\t', id(bag2[0]))\n",
    "print('element 1:', '\\t', id(bag1[1]), '\\t', id(bag2[1]))\n",
    "print('element 2:', '\\t', id(bag1[2]), '\\t', id(bag2[2]))\n",
    "print('element 3:', '\\t', id(bag1[3]), '\\t', id(bag2[3]))"
   ]
  },
  {
   "cell_type": "code",
   "execution_count": 67,
   "metadata": {},
   "outputs": [
    {
     "name": "stdout",
     "output_type": "stream",
     "text": [
      "list bag1: \t 4841700032 \t list bag2: \t 4841543552\n",
      "element 0: \t 4375383088 \t 4375383088\n",
      "element 1: \t 4375392880 \t 4375392880\n",
      "element 2: \t 4375683232 \t 4375683232\n",
      "element 3: \t 4380403632 \t 4380403632\n"
     ]
    }
   ],
   "source": [
    "bag1 = ['Peggy', 'Fred', 'Lee', 'Josephine']\n",
    "bag2 = bag1.copy()\n",
    "print('list bag1:', '\\t', id(bag1),'\\t', 'list bag2:', '\\t', id(bag2))\n",
    "print('element 0:', '\\t', id(bag1[0]),'\\t', id(bag2[0]))\n",
    "print('element 1:', '\\t', id(bag1[1]), '\\t', id(bag2[1]))\n",
    "print('element 2:', '\\t', id(bag1[2]), '\\t', id(bag2[2]))\n",
    "print('element 3:', '\\t', id(bag1[3]), '\\t', id(bag2[3]))"
   ]
  },
  {
   "cell_type": "code",
   "execution_count": 68,
   "metadata": {},
   "outputs": [
    {
     "name": "stdout",
     "output_type": "stream",
     "text": [
      "bag1: ['Jacky', 'Fred', 'Lee', 'Josephine']\n",
      "bag2: ['Peggy', 'Fred', 'Lee', 'Josephine']\n",
      "list bag1: \t 4841688960 \t list bag2: \t 4841671040\n",
      "element 0: \t 4375497968 \t 4375383088\n",
      "element 1: \t 4375392880 \t 4375392880\n",
      "element 2: \t 4375683232 \t 4375683232\n",
      "element 3: \t 4380403632 \t 4380403632\n"
     ]
    }
   ],
   "source": [
    "bag1 = ['Peggy', 'Fred', 'Lee', 'Josephine']\n",
    "bag2 = bag1.copy()\n",
    "bag1[0] = 'Jacky'\n",
    "print('bag1:', bag1)\n",
    "print('bag2:', bag2)\n",
    "print('list bag1:', '\\t', id(bag1),'\\t', 'list bag2:', '\\t', id(bag2))"
   ]
  },
  {
   "cell_type": "code",
   "execution_count": 75,
   "metadata": {},
   "outputs": [
    {
     "name": "stdout",
     "output_type": "stream",
     "text": [
      "list bag1: \t 4841518080 \t list bag2: \t 4841511936\n",
      "element 3: \t 4841692800 \t 4841692800\n",
      "list bag1: \t 4841518080 \t list bag2: \t 4841511936\n",
      "element 3: \t 4841692800 \t 4841692800\n",
      "bag1: ['Peggy', 'Fred', 'Lee', ['Andy', 'Mary']]\n",
      "bag2: ['Peggy', 'Fred', 'Lee', ['Andy', 'Mary']]\n"
     ]
    }
   ],
   "source": [
    "# side effect of shawllow copy\n",
    "bag1 = ['Peggy', 'Fred', 'Lee', ['John', 'Mary']]\n",
    "bag2 = bag1.copy()\n",
    "print('list bag1:', '\\t', id(bag1),'\\t', 'list bag2:', '\\t', id(bag2))\n",
    "print('element 3:', '\\t', id(bag1[3]), '\\t', id(bag2[3]))\n",
    "bag1[3][0] = 'Andy'\n",
    "\n",
    "print('list bag1:', '\\t', id(bag1),'\\t', 'list bag2:', '\\t', id(bag2))\n",
    "print('element 3:', '\\t', id(bag1[3]), '\\t', id(bag2[3]))\n",
    "\n",
    "print('bag1:', bag1)\n",
    "print('bag2:', bag2)"
   ]
  },
  {
   "cell_type": "markdown",
   "metadata": {},
   "source": [
    "# .deepcopy() method"
   ]
  },
  {
   "cell_type": "code",
   "execution_count": 82,
   "metadata": {},
   "outputs": [
    {
     "name": "stdout",
     "output_type": "stream",
     "text": [
      "list: \t bag1: \t 4841692800 \t bag2: \t 4841660608\n",
      "element 0: \t 4375383088 \t 4375383088\n",
      "element 1: \t 4375392880 \t 4375392880\n",
      "element 2: \t 4375683232 \t 4375683232\n",
      "element 3: \t 4841654720 \t 4841518080\n",
      "bag1: ['Peggy', 'Fred', 'Lee', ['Andy', 'Mary']]\n",
      "bag2: ['Peggy', 'Fred', 'Lee', ['John', 'Mary']]\n"
     ]
    }
   ],
   "source": [
    "import copy\n",
    "bag1 = ['Peggy', 'Fred', 'Lee', ['John', 'Mary']]\n",
    "bag2 = copy.deepcopy(bag1)\n",
    "print('list:','\\t', 'bag1:', '\\t', id(bag1),'\\t', 'bag2:', '\\t', id(bag2))\n",
    "print('element 0:', '\\t', id(bag1[0]),'\\t', id(bag2[0]))\n",
    "print('element 1:', '\\t', id(bag1[1]), '\\t', id(bag2[1]))\n",
    "print('element 2:', '\\t', id(bag1[2]), '\\t', id(bag2[2]))\n",
    "print('element 3:', '\\t', id(bag1[3]), '\\t', id(bag2[3]))\n",
    "bag1[3][0] = 'Andy'\n",
    "print('bag1:', bag1)\n",
    "print('bag2:', bag2)"
   ]
  }
 ],
 "metadata": {
  "kernelspec": {
   "display_name": ".venv",
   "language": "python",
   "name": "python3"
  },
  "language_info": {
   "codemirror_mode": {
    "name": "ipython",
    "version": 3
   },
   "file_extension": ".py",
   "mimetype": "text/x-python",
   "name": "python",
   "nbconvert_exporter": "python",
   "pygments_lexer": "ipython3",
   "version": "3.13.1"
  }
 },
 "nbformat": 4,
 "nbformat_minor": 2
}
