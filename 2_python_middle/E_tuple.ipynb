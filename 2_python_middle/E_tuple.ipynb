{
 "cells": [
  {
   "cell_type": "markdown",
   "metadata": {},
   "source": [
    "# 元組運算\n",
    "- Tuple 意指元素組合，可以翻譯為元組或是序對\n",
    "- 可以將任何型別的物件(元素 element)依序儲存，也就是由一連串有順序的資料所組成\n",
    "- Tuple一但被定義之後，裡面的元素就不能更改 (immutable)\n",
    "- Tuple 是以逗號區隔元素來表示\n",
    "- 但是在可能會混淆語法的地方應加上圓括號 ( ) 區隔開，避免解譯錯誤 "
   ]
  },
  {
   "cell_type": "markdown",
   "metadata": {},
   "source": [
    "# 創建元組"
   ]
  },
  {
   "cell_type": "code",
   "execution_count": null,
   "metadata": {},
   "outputs": [],
   "source": [
    "zoo = ('python', 'elephant', 'penguin')\n",
    "foo = (1, 'a', 9.9, False, (3, 4), [1,2])\n",
    "boo = 5, 3, 'Jerry'; print(type(boo))\n",
    "spam1 = (3,); print(type(spam1))\n",
    "spam2 = (3); print(type(spam2))\n",
    "spam3 = () # 空tuple\n",
    "eggs = tuple([11, 12, 13])\n",
    "bar = tuple('python')"
   ]
  },
  {
   "cell_type": "markdown",
   "metadata": {},
   "source": [
    "# 元組運算子\n",
    "- <p> + ,* <br>\n",
    "- <p> >, >=, <, <=, ==, !=</p>\n",
    "- <p> in, not in </p>"
   ]
  },
  {
   "cell_type": "code",
   "execution_count": null,
   "metadata": {},
   "outputs": [],
   "source": [
    "# 運算子\n",
    "spam = (1, 2) + (3, 4)  # (1, 2, 3, 4)\n",
    "ham = (1, 2) * 3  # (1, 2, 1, 2, 1, 2)\n",
    "\n",
    "# >, >=, <, <=, ==, !=\n",
    "var = (1, 2, 3) > (1, 2, 5)  # False\n",
    "\n",
    "# in, not in\n",
    "chk1 = 1 in (1, 2, 3, 4)  # True\n",
    "chk2 = 5 in (1, 2, (5, 6))  # False\n",
    "chk3 = (5, 6) in  (1, 2, (5, 6))  # True\n",
    "\n",
    "# tuple is immutable\n",
    "# spam[0] = 5 # error"
   ]
  },
  {
   "cell_type": "code",
   "execution_count": null,
   "metadata": {},
   "outputs": [],
   "source": [
    "# 內建函示\n",
    "spam = tuple([10, 20, 30])\n",
    "print(len(spam), max(spam), min(spam), sum(spam), sep=\"\\t\")"
   ]
  },
  {
   "cell_type": "code",
   "execution_count": null,
   "metadata": {},
   "outputs": [],
   "source": [
    "# 型別方法\n",
    "spam = (3, 8, 9, 1, 6, 3)\n",
    "print(spam.index(8), spam.count(3), sep=\"\\t\")"
   ]
  },
  {
   "cell_type": "code",
   "execution_count": null,
   "metadata": {},
   "outputs": [],
   "source": [
    "# Readability\n",
    "foo = 1, 2 > 1, 3\n",
    "print(foo)\n",
    "boo = (1, 2) > (1, 3)\n",
    "print(boo)"
   ]
  },
  {
   "cell_type": "markdown",
   "metadata": {},
   "source": [
    "# 索引及切片"
   ]
  },
  {
   "cell_type": "code",
   "execution_count": null,
   "metadata": {},
   "outputs": [],
   "source": [
    "# 索引 Indexing\n",
    "print((3, 5, '7', '9')[1])  # 5\n",
    "print((3, (3, 5), '7', '9')[1])  # (3, 5)\n",
    "print((3, (3, ('5', 7), 9), 'a')[1][1][1])  # 7\n",
    "(0, 1, 2)[5]  # IndexError"
   ]
  },
  {
   "cell_type": "code",
   "execution_count": null,
   "metadata": {},
   "outputs": [],
   "source": [
    "# 切片 Slicing [起始索引值 : 終止索引值 : 間隔值]\n",
    "print((1, 2, 3, 'a', 'b', 'c')[1:5])\n",
    "print((1, 2, 3, 'a', 'b', 'c')[5:0:-2])\n",
    "print((0, 1, 2)[1:9])\n",
    "print((0, 1, 2)[1:1])"
   ]
  },
  {
   "cell_type": "code",
   "execution_count": null,
   "metadata": {},
   "outputs": [],
   "source": [
    "# Use Tuple to 互換變數值\n",
    "foo = 'hello'\n",
    "boo = 'world'\n",
    "(boo, foo) = (foo, boo)\n",
    "print(foo, boo)"
   ]
  },
  {
   "cell_type": "markdown",
   "metadata": {},
   "source": [
    "# Lab"
   ]
  },
  {
   "cell_type": "markdown",
   "metadata": {},
   "source": [
    "```python\n",
    "# 下列哪一些是合法的tuple物件\n",
    "(“car”,)\n",
    "(“ferris wheel”, “rollercoaster”)\n",
    "(‘tickets’)\n",
    "((), ())\n",
    "(3)\n",
    "```\n",
    "```python\n",
    "# 下列程式碼的回傳值\n",
    "(“abc”, (1, 2, “3”))[1][2]\n",
    "(“abc”, (1, 2), “3”, 4, (“5”, “6”))[1:3]\n",
    "(“abc”, 123)[0][0]\n",
    "```\n",
    "```python\n",
    "# 求tpl的最大值、最小值與總和\n",
    "# 判別66是否在 tpl 裡\n",
    "# 找出元素 34 在 tpl 裡的索引\n",
    "# 統計元素37在 tpl 裡出現的個數\n",
    "tpl = (12, 65, 37, 37, 34, 65, 37)\n",
    "```"
   ]
  },
  {
   "cell_type": "markdown",
   "metadata": {},
   "source": [
    "# Lab: OJ#1857"
   ]
  },
  {
   "cell_type": "markdown",
   "metadata": {},
   "source": [
    "# W3 School"
   ]
  },
  {
   "cell_type": "markdown",
   "metadata": {},
   "source": [
    "- [Tuples] https://www.w3schools.com/python/exercise.asp?x=xrcise_tuples1\n",
    "- [Access Tuples] https://www.w3schools.com/python/exercise.asp?x=xrcise_tuples_access1\n",
    "- [Join Tuples] https://www.w3schools.com/python/exercise.asp?x=xrcise_tuples_join1"
   ]
  }
 ],
 "metadata": {
  "kernelspec": {
   "display_name": ".venv",
   "language": "python",
   "name": "python3"
  },
  "language_info": {
   "codemirror_mode": {
    "name": "ipython",
    "version": 3
   },
   "file_extension": ".py",
   "mimetype": "text/x-python",
   "name": "python",
   "nbconvert_exporter": "python",
   "pygments_lexer": "ipython3",
   "version": "3.13.1"
  }
 },
 "nbformat": 4,
 "nbformat_minor": 2
}
