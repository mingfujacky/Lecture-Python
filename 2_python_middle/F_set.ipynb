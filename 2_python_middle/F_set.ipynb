{
 "cells": [
  {
   "cell_type": "markdown",
   "metadata": {},
   "source": [
    "# 集合運算"
   ]
  },
  {
   "cell_type": "markdown",
   "metadata": {},
   "source": [
    "- Set (集合) 是由不重複且不可修改內容的元素所組成，集合內的元素是沒有順序的，因此無法用 indexing 來提取特定的元素\n",
    "- Set 是以逗號區隔元素來表示, 外面加上大括號 {} "
   ]
  },
  {
   "cell_type": "markdown",
   "metadata": {},
   "source": [
    "# 創建集合"
   ]
  },
  {
   "cell_type": "code",
   "execution_count": 1,
   "metadata": {},
   "outputs": [],
   "source": [
    "# 建立 (初始化) set 物件\n",
    "set1 = {1, 2, 'apple', 'pin', (1, 2)}\n",
    "set2 = {3, 6, 4, 3}  # 重複的元素會被自動移除\n",
    "set3 = set() # 代表空集合, not {}\n",
    "set5 = set((1, 2, 3))  # 用 tuple 建立\n",
    "set6 = set([1, 2, 3])  # 用 list 建立\n",
    "set8 = set('python')  # 用字串建立\n",
    "\n",
    "# do not use list, set as element\n",
    "# worng_set1 = {1, {2, 3}}\n",
    "# wrong_set2 = {1, [2, 3]}\n",
    "# wrong_set3 = {1, (2, {3, 4})}\n",
    "# wrong_set4 = {1, (2, [3, 4])}"
   ]
  },
  {
   "cell_type": "markdown",
   "metadata": {},
   "source": [
    "# 運算子"
   ]
  },
  {
   "cell_type": "markdown",
   "metadata": {},
   "source": [
    "- <p> &, |,  -, ^ </p>\n",
    "- <p> >, <, ==, >=, <= </p>\n",
    "- <p> in, not in </p>"
   ]
  },
  {
   "cell_type": "markdown",
   "metadata": {},
   "source": [
    "![Set Operator](https://miro.medium.com/v2/resize:fit:1400/format:webp/0*2epe0E5beYA3VlzV)"
   ]
  },
  {
   "cell_type": "code",
   "execution_count": null,
   "metadata": {},
   "outputs": [],
   "source": [
    "set1 = {1, 2, 3, 4}\n",
    "set2 = {3, 4, 5, 6}\n",
    "print(set1 & set2)   #交集 \n",
    "print(set1 | set2)   #聯集 \n",
    "print(set1 - set2)   #差集 \n",
    "print(set1 ^ set2)   #對稱差集\n",
    "print({1, 2} < set1) #包含\n",
    "print({1, 2, 3} > {1, 2, 3}) #被包含\n",
    "print({1, 2, 3} >= {1, 2, 3}) #被包含\n",
    "print({1, 2, 3} == {1, 1, 2, 2, 3}) #相等\n",
    "print(1 in set1) #是否存在\n",
    "print({1} in set1) #是否存在\n",
    "# set1[0] # set 不支援索引"
   ]
  },
  {
   "cell_type": "markdown",
   "metadata": {},
   "source": [
    "# 內建函示"
   ]
  },
  {
   "cell_type": "code",
   "execution_count": null,
   "metadata": {},
   "outputs": [],
   "source": [
    "foo = {1, 2, 3, 4}\n",
    "print(len(foo), max(foo), min(foo), sum(foo), sep='\\t')"
   ]
  },
  {
   "cell_type": "markdown",
   "metadata": {},
   "source": [
    "# 型別方法"
   ]
  },
  {
   "cell_type": "code",
   "execution_count": null,
   "metadata": {},
   "outputs": [
    {
     "name": "stdout",
     "output_type": "stream",
     "text": [
      "{1, 2, 3, 4, 5, 6}\n",
      "{3, 4}\n",
      "{1, 2}\n",
      "{1, 2, 5, 6}\n",
      "{4, 10}\n"
     ]
    }
   ],
   "source": [
    "set1 = {1, 2, 3, 4}\n",
    "set2 = {3, 4, 5, 6}\n",
    "print(set1.union(set2))\n",
    "print(set1.intersection(set2))\n",
    "print(set1.difference(set2))\n",
    "print(set1.symmetric_difference(set2))\n",
    "\n",
    "a = {1, 2, 3}\n",
    "\n",
    "set1.add(10) #加入一個元素    {1, 2, 3, 4, 10}\n",
    "set1.update({1, 2, 3}) # 加入多個元素 {1, 2, 3, 4, 10}\n",
    "\n",
    "set1.remove(1)  #移除元素 {2, 3, 4, 10}\n",
    "set1.discard(2) #移除元素 {3, 4, 10}\n",
    "set1.pop()      #隨機移除一個元素\n",
    "set1.clear()  #清空元素 set()"
   ]
  },
  {
   "cell_type": "markdown",
   "metadata": {},
   "source": [
    "# Lab"
   ]
  },
  {
   "cell_type": "markdown",
   "metadata": {},
   "source": [
    "- set.remove() 和 set.discard() 有什麼不同"
   ]
  },
  {
   "cell_type": "markdown",
   "metadata": {},
   "source": [
    "# W3 School"
   ]
  },
  {
   "cell_type": "markdown",
   "metadata": {},
   "source": [
    "- [Python Sets] https://www.w3schools.com/python/exercise.asp?x=xrcise_sets1 <br>\n",
    "- [Access Sets] https://www.w3schools.com/python/exercise.asp?x=xrcise_sets_access1 <br>\n",
    "- [Add Set Items] https://www.w3schools.com/python/exercise.asp?x=xrcise_sets_add1 <br>\n",
    "- [Remove Set Items] https://www.w3schools.com/python/exercise.asp?x=xrcise_sets_remove1 <br>\n",
    "- [Join Sets] https://www.w3schools.com/python/exercise.asp?x=xrcise_sets_join1 <br>"
   ]
  }
 ],
 "metadata": {
  "kernelspec": {
   "display_name": ".venv",
   "language": "python",
   "name": "python3"
  },
  "language_info": {
   "codemirror_mode": {
    "name": "ipython",
    "version": 3
   },
   "file_extension": ".py",
   "mimetype": "text/x-python",
   "name": "python",
   "nbconvert_exporter": "python",
   "pygments_lexer": "ipython3",
   "version": "3.13.1"
  }
 },
 "nbformat": 4,
 "nbformat_minor": 2
}
