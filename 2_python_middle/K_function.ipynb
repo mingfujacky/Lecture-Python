{
 "cells": [
  {
   "cell_type": "markdown",
   "metadata": {},
   "source": [
    "# Function"
   ]
  },
  {
   "cell_type": "markdown",
   "metadata": {},
   "source": [
    "```python\n",
    "def 函式名稱 (參數1,參數2 …) : \n",
    "   '''\n",
    "    說明文件\n",
    "   '''\n",
    "    statement 1\n",
    "    statement 2\n",
    "    statement n\n",
    "    return expression\n",
    "```"
   ]
  },
  {
   "cell_type": "markdown",
   "metadata": {},
   "source": [
    "- 撰寫函式\n",
    "  - 定義函數名稱\n",
    "  - 定義輸入參數\n",
    "  - 寫函式邏輯\n",
    "  - 決定回傳值\n",
    "  - 編寫 docstring 來描述函式的輸入，功能及輸出\n",
    "- 使用函式\n",
    "  - 呼叫函數\n",
    "  - 傳遞參數\n",
    "  - 接收回傳值"
   ]
  },
  {
   "cell_type": "code",
   "execution_count": null,
   "metadata": {},
   "outputs": [],
   "source": [
    "def compare_numbers(a, b):\n",
    "    '''\n",
    "    func compare_numbers is to determine which number is bigger\n",
    "    '''\n",
    "    if a > b:\n",
    "        print(f'{a} > {b}')\n",
    "        return a\n",
    "    else:\n",
    "        print(f'{a} < {b}')\n",
    "        return b\n",
    "    \n",
    "big_num = compare_numbers(3, 4)\n",
    "print('the bigger one is: ', big_num)"
   ]
  },
  {
   "cell_type": "markdown",
   "metadata": {},
   "source": [
    "# 用函式簡化程式思維"
   ]
  },
  {
   "cell_type": "markdown",
   "metadata": {},
   "source": [
    "## 判斷質數  \n",
    "題目: 判斷 2 ~ 10 的數字，誰是質數，誰是合成數<br>\n",
    "<br>\n",
    "想法: 架構先架出來，不好直接寫的部分，先用函式把細節藏起來<br>\n",
    "<br>\n",
    "虛擬碼:<br>\n",
    "```python\n",
    "for n in range(2, 11):\n",
    "    if n 是質數:\n",
    "        列印 ‘n 是質數’\n",
    "    else:\n",
    "        列印 ‘n 是合成數’\n",
    "```\n",
    "寫一個函數來判斷n是質數:<br>  \n",
    "```python\n",
    "def is_prime (n):\n",
    "    for i in range(2, n):\n",
    "        if n 能整除 i == 0:\n",
    "            return 'n 是合成數'\n",
    "    return 'n 是質數'\n",
    "```\n"
   ]
  },
  {
   "cell_type": "code",
   "execution_count": null,
   "metadata": {},
   "outputs": [],
   "source": [
    "# 寫一個函數來判斷n是質數\n",
    "def is_prime(number):\n",
    "    for i in range(2, number):\n",
    "        if number % i == 0:\n",
    "            return str(number) + '是合成數'\n",
    "    return str(number) + '是質數'\n",
    "\n",
    "# Main program\n",
    "for n in range(2, 11):\n",
    "    print(is_prime(n))\n"
   ]
  },
  {
   "cell_type": "markdown",
   "metadata": {},
   "source": [
    "## 印星星  \n",
    "題目: 印出五層星星<br>\n",
    "<br>\n",
    "想法: 先用簡單的近似方法，做一個差不多像的，再用函式將難的部分實作出來，也就是拆分大問題為小問題，一直到可以實作為止\n",
    "<br>\n",
    "<br>\n",
    "<p>\n",
    "* (N=1)<br>\n",
    "<br>\n",
    "<br>\n",
    "* <br>\n",
    "** (N=2) <br>\n",
    "<br>\n",
    "<br>\n",
    "* <br>\n",
    "** <br>\n",
    "*** (N=3) <br>\n",
    "\n",
    "觀察:\n",
    "- 總共有N層星星\n",
    "- 每一層的星星數與它在第幾層相同\n",
    "</p>"
   ]
  },
  {
   "cell_type": "code",
   "execution_count": null,
   "metadata": {},
   "outputs": [],
   "source": [
    "# 第一版\n",
    "N = 5\n",
    "for i in range(1, N+1):\n",
    "    print('*')"
   ]
  },
  {
   "cell_type": "code",
   "execution_count": null,
   "metadata": {},
   "outputs": [],
   "source": [
    "# 第二版: add a print_star 函式, 專門來印星星\n",
    "def print_star(n):\n",
    "    print('*'*n)\n",
    "\n",
    "# main program\n",
    "N = 5\n",
    "for i in range(1, N+1):\n",
    "    print_star(i)\n"
   ]
  },
  {
   "cell_type": "code",
   "execution_count": null,
   "metadata": {},
   "outputs": [],
   "source": [
    "# 第三版\n",
    "N = 5\n",
    "for i in range(1, N+1):\n",
    "    print(i*'*')"
   ]
  },
  {
   "cell_type": "markdown",
   "metadata": {},
   "source": [
    "# Lab"
   ]
  },
  {
   "cell_type": "markdown",
   "metadata": {},
   "source": [
    "1. 設計 sigma(n) 函數, 可以用來計算並傳回 1+2+3+ …+ n 的值\n",
    "2. 設計 pow(x, n) 函數, 可用來計算並傳回 x 的n次方\n",
    "3. 題目：印出 1 ~ 100的平方數如 1, 4, 9, 16,..100<br>\n",
    "   - 寫一個函式來判斷一個數字是否為平方數 (math.sqrt(n), number.is_integer()) \n",
    "   - 由小到大將該數取平方, 直到平方後超過100\n",
    "\n",
    "4. Write OJ#1849 <br>\n",
    "先用簡單的近似方法，做一個差不多像的，再用函式將難的部分實作出來，也就是拆分大問題為小問題，一直到可以實作為止"
   ]
  },
  {
   "cell_type": "markdown",
   "metadata": {},
   "source": [
    "# 撰寫函式"
   ]
  },
  {
   "cell_type": "markdown",
   "metadata": {},
   "source": [
    "## Parameter (形式參數)"
   ]
  },
  {
   "cell_type": "code",
   "execution_count": null,
   "metadata": {},
   "outputs": [],
   "source": [
    "# without parameter\n",
    "def say_hello():\n",
    "    print('Hello!')\n",
    "\n",
    "say_hello()"
   ]
  },
  {
   "cell_type": "code",
   "execution_count": null,
   "metadata": {},
   "outputs": [],
   "source": [
    "# with parameter\n",
    "def say_hello(name):\n",
    "    print('Hello, ' + name + ' !')\n",
    "    \n",
    "say_hello('王小明')\n"
   ]
  },
  {
   "cell_type": "markdown",
   "metadata": {},
   "source": [
    "## Return value (回傳值)"
   ]
  },
  {
   "cell_type": "code",
   "execution_count": null,
   "metadata": {},
   "outputs": [],
   "source": [
    "# No value return    \n",
    "def add_two_numbers(num1, num2):\n",
    "    print(num1 + num2)\n",
    "    \n",
    "print(add_two_numbers(3, 4))"
   ]
  },
  {
   "cell_type": "code",
   "execution_count": null,
   "metadata": {},
   "outputs": [],
   "source": [
    "# one value return\n",
    "def add_two_numbers(num1, num2):\n",
    "    return num1 + num2\n",
    "    \n",
    "print(add_two_numbers(3, 4))"
   ]
  },
  {
   "cell_type": "code",
   "execution_count": null,
   "metadata": {},
   "outputs": [],
   "source": [
    "#multiple values return\n",
    "def add_sub(n1, n2):\n",
    "    add = n1 + n2\n",
    "    sub = n1 - n2\n",
    "    return (add, sub)\n",
    "    \n",
    "(a, b) = add_sub(3, 4)\n",
    "print(a, b)\n",
    "print(add_sub(10, 5))\n"
   ]
  },
  {
   "cell_type": "code",
   "execution_count": null,
   "metadata": {},
   "outputs": [],
   "source": [
    "#statement under return won't be executed\n",
    "def get_word_length(w1, w2):\n",
    "    w3 = w1 + w2\n",
    "    return len(w3)\n",
    "    print('I am here')\n",
    "    \n",
    "print(get_word_length('abc', '123'))\n"
   ]
  },
  {
   "cell_type": "markdown",
   "metadata": {},
   "source": [
    "# 呼叫函式"
   ]
  },
  {
   "cell_type": "markdown",
   "metadata": {},
   "source": [
    "## Argument (引數)\n",
    "- 撰寫函式: 形式參數; formal parameter; parameter (name) <br>\n",
    "- 呼叫函式: 實際參數; actual parameter; argument (\"王小明\")"
   ]
  },
  {
   "cell_type": "markdown",
   "metadata": {},
   "source": [
    "## 位置參數法\n"
   ]
  },
  {
   "cell_type": "code",
   "execution_count": null,
   "metadata": {},
   "outputs": [],
   "source": [
    "def sayhi(name, title):\n",
    "    print(name + title + ' 你好')\n",
    "    \n",
    "sayhi('王小明', '先生')\n",
    "sayhi('先生', '王小明')\n"
   ]
  },
  {
   "cell_type": "markdown",
   "metadata": {},
   "source": [
    "## 指名參數法"
   ]
  },
  {
   "cell_type": "code",
   "execution_count": null,
   "metadata": {},
   "outputs": [],
   "source": [
    "def sayhi(name, title):\n",
    "    print(name + title + ' 你好')\n",
    "    \n",
    "sayhi(name = '王小明', title = '先生')\n",
    "sayhi(title = '先生', name = '王小明')"
   ]
  },
  {
   "cell_type": "markdown",
   "metadata": {},
   "source": [
    "## 混合參數法"
   ]
  },
  {
   "cell_type": "code",
   "execution_count": null,
   "metadata": {},
   "outputs": [],
   "source": [
    "def sayhi(name, title, greeting):\n",
    "    print(name + title + ' ' + greeting)\n",
    "    \n",
    "sayhi('王小明', '先生', '早安')\n",
    "sayhi('王小明', greeting = '早安', title = '先生')\n",
    "sayhi(greeting = '早安', '王小明', '先生') # error: 位置參數要在指名參數前\n"
   ]
  },
  {
   "cell_type": "markdown",
   "metadata": {},
   "source": [
    "# lambda function"
   ]
  },
  {
   "cell_type": "markdown",
   "metadata": {},
   "source": [
    "- simple function\n",
    "- func = lambda 參數1, 參數2, ... : 運算式\n",
    "- foo = lambda x: x ** 2"
   ]
  },
  {
   "cell_type": "code",
   "execution_count": null,
   "metadata": {},
   "outputs": [],
   "source": [
    "foo = lambda x: x ** 2\n",
    "print(foo(2))"
   ]
  },
  {
   "cell_type": "code",
   "execution_count": null,
   "metadata": {},
   "outputs": [],
   "source": [
    "add_number = lambda x,y : x+ y\n",
    "print(add_number(2,3))"
   ]
  },
  {
   "cell_type": "code",
   "execution_count": null,
   "metadata": {},
   "outputs": [],
   "source": [
    "def myfunc(n):\n",
    "  return lambda a : a * n\n",
    "\n",
    "mytripler = myfunc(3)\n",
    "print(mytripler)\n",
    "print(mytripler(11))"
   ]
  },
  {
   "cell_type": "markdown",
   "metadata": {},
   "source": [
    "# W3 School"
   ]
  },
  {
   "cell_type": "markdown",
   "metadata": {},
   "source": [
    "  - [lambda](https://www.w3schools.com/python/exercise.asp?x=xrcise_lambda1)"
   ]
  }
 ],
 "metadata": {
  "kernelspec": {
   "display_name": ".venv",
   "language": "python",
   "name": "python3"
  },
  "language_info": {
   "codemirror_mode": {
    "name": "ipython",
    "version": 3
   },
   "file_extension": ".py",
   "mimetype": "text/x-python",
   "name": "python",
   "nbconvert_exporter": "python",
   "pygments_lexer": "ipython3",
   "version": "3.13.2"
  }
 },
 "nbformat": 4,
 "nbformat_minor": 2
}
