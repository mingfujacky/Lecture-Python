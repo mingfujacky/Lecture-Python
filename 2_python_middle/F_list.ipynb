{
 "cells": [
  {
   "cell_type": "markdown",
   "metadata": {},
   "source": [
    "# 串列運算"
   ]
  },
  {
   "cell_type": "markdown",
   "metadata": {},
   "source": [
    "- List (串列) 指有儲存順序的可修改容器型別\n",
    "- List 是以逗號區隔元素來表示, 外面加上中括號 [ ]\n",
    "- List 內的元素可以是不同資料型別 "
   ]
  },
  {
   "cell_type": "markdown",
   "metadata": {},
   "source": [
    "# 創建串列"
   ]
  },
  {
   "cell_type": "code",
   "execution_count": null,
   "metadata": {},
   "outputs": [],
   "source": [
    "foo = [1, 'a', 9.9, False, (1, 2), [1,2]]\n",
    "boo = []  # empty list\n",
    "foo[0] = 100  # change the first element\n",
    "zoo = list((1, 2, 3))  # [1, 2, 3]\n",
    "spam = list('python')  # ['p', 'y', 't', 'h', 'o', 'n']"
   ]
  },
  {
   "cell_type": "markdown",
   "metadata": {},
   "source": [
    "# 運算子"
   ]
  },
  {
   "cell_type": "markdown",
   "metadata": {},
   "source": [
    "- <p> +, * </p>\n",
    "- <p> >, >=, <, <=, ==, != </p>\n",
    "- <p> in, not in </p>"
   ]
  },
  {
   "cell_type": "code",
   "execution_count": null,
   "metadata": {},
   "outputs": [],
   "source": [
    "foo = [1, 2] + [3, 4]  # [1, 2, 3, 4]\n",
    "boo = [1, 2] * 2  # [1, 2, 1, 2]\n",
    "bar = ['a', 'b'] > ['a', 'a']  # True\n",
    "spam = 1 in foo  # True"
   ]
  },
  {
   "cell_type": "code",
   "execution_count": null,
   "metadata": {},
   "outputs": [],
   "source": [
    "# 內建函式\n",
    "foo = [2, 5, 4, 9, 5]\n",
    "print(len(foo), min(foo), max(foo), sum(foo), sep='\\t')\n",
    "print(len([[1, 3, [4, 5], 6], 7]))\n",
    "print(sorted(foo))  # [2, 4, 5, 5, 9]\n",
    "print(foo)  # [2, 5, 4, 9, 5]   # foo 不變\n"
   ]
  },
  {
   "cell_type": "code",
   "execution_count": null,
   "metadata": {},
   "outputs": [],
   "source": [
    "# Sort elements in list by key\n",
    "heros = ['Batman', 'Superman', 'Wonder person', 'Ace', 'Spiderman']\n",
    "sorted(heros, key=len)  # ['Batman', 'Superman', 'Spiderman', 'Wonder person']"
   ]
  },
  {
   "cell_type": "markdown",
   "metadata": {},
   "source": [
    "# 索引及切片"
   ]
  },
  {
   "cell_type": "markdown",
   "metadata": {},
   "source": [
    "```python\n",
    "x = [\"first\", \"second\", \"third\", \"fourth\"]\n",
    "```\n",
    "#### (A) General view of list indexing\n",
    "![](../files/image/list_indixes.png)\n",
    "#### (B) Think of list indices as indicating positions between elements\n",
    "![](../files/image/index_as_point.png)"
   ]
  },
  {
   "cell_type": "code",
   "execution_count": null,
   "metadata": {},
   "outputs": [],
   "source": [
    "print([3, [3, ['5', 7], 9], 'a'][1][1][1]) # indexing\n",
    "print([1, 2, 3, 'a', 'b', 'c'][1:5])  # slicing"
   ]
  },
  {
   "cell_type": "code",
   "execution_count": null,
   "metadata": {},
   "outputs": [],
   "source": [
    "chars = ['a', 'b', 'c', 'd', 'e']\n",
    "chars[0:2] = ['1', '2', '3']\n",
    "print(chars)"
   ]
  },
  {
   "cell_type": "code",
   "execution_count": null,
   "metadata": {},
   "outputs": [],
   "source": [
    "chars = ['a', 'b', 'c', 'd', 'e']\n",
    "chars[0:2] = ['1']\n",
    "print(chars)"
   ]
  },
  {
   "cell_type": "code",
   "execution_count": null,
   "metadata": {},
   "outputs": [],
   "source": [
    "chars = ['a', 'b', 'c', 'd', 'e']\n",
    "chars[len(chars):] = ['f', 'g']  # append elements\n",
    "print(chars)\n",
    "chars[:0] = ['0', '1']  # prepend elements\n",
    "print(chars)\n",
    "chars[1:-1] = []  # remove elements in the middle\n",
    "print(chars)"
   ]
  },
  {
   "cell_type": "code",
   "execution_count": null,
   "metadata": {},
   "outputs": [],
   "source": [
    "chars = ['a', 'b', 'c', 'd', 'e']\n",
    "chars[::2] = ['x', 'y', 'z']\n",
    "print(chars)"
   ]
  },
  {
   "cell_type": "markdown",
   "metadata": {},
   "source": [
    "# Add and remove items by object method"
   ]
  },
  {
   "cell_type": "code",
   "execution_count": 1,
   "metadata": {},
   "outputs": [
    {
     "name": "stdout",
     "output_type": "stream",
     "text": [
      "2\n",
      "0\n"
     ]
    }
   ],
   "source": [
    "# List methods\n",
    "spam = ['python', 'java', 'c++', 'java']\n",
    "print(spam.count('java'))\n",
    "print(spam.index('python'))"
   ]
  },
  {
   "cell_type": "code",
   "execution_count": null,
   "metadata": {},
   "outputs": [],
   "source": [
    "# Add elements of list\n",
    "spam = ['python', 'java', 'c++', 'java']\n",
    "spam.append('r')  # 加元素在最後\n",
    "print(spam)\n",
    "spam.insert(2, 'CSS')  # 加元素在index=2\n",
    "print(spam)\n",
    "spam.extend(['php', 'ruby'])  # 加多個元素在最後 \n",
    "print(spam)\n",
    "spam.insert(0, 'go')  # 加元素在index=0\n",
    "print(spam)\n",
    "spam.insert(-1, 'swift')\n",
    "print(spam)\n",
    "\n",
    "others = ['VB', 'c#']\n",
    "spam.append(others)\n",
    "print(spam)"
   ]
  },
  {
   "cell_type": "code",
   "execution_count": null,
   "metadata": {},
   "outputs": [
    {
     "name": "stdout",
     "output_type": "stream",
     "text": [
      "['a', 'c', 7, 9, 11]\n",
      "['c', 7, 9, 11]\n",
      "['a', 'c', 7, 9, 11]\n",
      "['a', 2, 'c', 7, 9]\n",
      "['a', 2, 'c', 9]\n",
      "['a', 'c', 9]\n",
      "['a', 'c']\n",
      "[]\n"
     ]
    }
   ],
   "source": [
    "# Delete elements of list\n",
    "\n",
    "x = ['a', 2, 'c', 7, 9, 11]\n",
    "del x[1]; print(x)\n",
    "\n",
    "x = ['a', 2, 'c', 7, 9, 11]\n",
    "del x[:2]; print(x)\n",
    "\n",
    "x = ['a', 2, 'c', 7, 9, 11]\n",
    "x.remove(2); print(x)\n",
    "\n",
    "# Delete elements into list\n",
    "x = ['a', 2, 'c', 7, 9, 11]\n",
    "x.pop(); print(x)    # 拿掉(出)最後一個元素\n",
    "x.pop(3); print(x)   # 拿掉(出)index=3的元素\n",
    "\n",
    "x.clear(); print(x)  # 清空list []"
   ]
  },
  {
   "cell_type": "code",
   "execution_count": null,
   "metadata": {},
   "outputs": [],
   "source": [
    "# Remove all designated elements in list\n",
    "spam = ['python', 'java', 'c++', 'java', 'java']\n",
    "while 'java' in spam:\n",
    "    spam.remove('java')\n",
    "print(spam)  "
   ]
  },
  {
   "cell_type": "markdown",
   "metadata": {},
   "source": [
    "# Sort items"
   ]
  },
  {
   "cell_type": "code",
   "execution_count": null,
   "metadata": {},
   "outputs": [
    {
     "name": "stdout",
     "output_type": "stream",
     "text": [
      "[3, 7, 9]\n",
      "[3, 9, 7]\n",
      "[2, 6, 8]\n",
      "[8, 6, 2]\n"
     ]
    }
   ],
   "source": [
    "# Use built-in function sorted()\n",
    "x = [3, 9, 7]\n",
    "y = sorted(x)\n",
    "print(y)\n",
    "print(x)\n",
    "\n",
    "# Use object method sort()\n",
    "x = [2, 8, 6]\n",
    "x.sort()\n",
    "print(x)\n",
    "\n",
    "x.sort(reverse=True)\n",
    "print(x)"
   ]
  },
  {
   "cell_type": "code",
   "execution_count": null,
   "metadata": {},
   "outputs": [],
   "source": [
    "fruits = ['Apple', 'Pie', 'Orange']\n",
    "fruits.reverse() # reverse the order of elements\n",
    "print(fruits)\n",
    "\n",
    "fruits = ['Apple', 'Pie', 'Orange']\n",
    "fruits.sort(reverse=True)  # sort in reverse order\n",
    "print(fruits)"
   ]
  },
  {
   "cell_type": "markdown",
   "metadata": {},
   "source": [
    "# 多層 (Nested) List"
   ]
  },
  {
   "cell_type": "code",
   "execution_count": null,
   "metadata": {},
   "outputs": [],
   "source": [
    "spam = [[1, 2, 3],\n",
    "        [4, 5, 6],\n",
    "        [7, 8, 9],\n",
    "        ]\n",
    "print(spam[1][1])  # 5  第二列第二行\n",
    "\n",
    "grades = [['math', 45, 67, 23],\n",
    "         ['english', 80, 70, 65],\n",
    "         ['chinese', 90, 87, 95],\n",
    "         ]\n",
    "\n",
    "print(grades[1][0].capitalize(), '的第三個學生分數是', grades[1][3])\n"
   ]
  },
  {
   "cell_type": "markdown",
   "metadata": {},
   "source": [
    "# Lab"
   ]
  },
  {
   "cell_type": "markdown",
   "metadata": {},
   "source": [
    "1. 請依照逗號( ,) 來分隔出個別的 email address\n",
    "- emails = ‘cat@yahoo.com, dog@google.com, tiger@icloud.com’ \n",
    "- 字串型別有一個物件函式 split, 可以分割字串\n",
    "- Output 應該是一個list, 包括三個元素 ['cat@yahoo.com’, ‘dog@google.com’, ‘tiger@icloud.com’] \n",
    "- When you print(email_list[1]), you will get ‘dog@google.com’"
   ]
  },
  {
   "cell_type": "code",
   "execution_count": null,
   "metadata": {},
   "outputs": [],
   "source": [
    "emails = 'cat@yahoo.com, dog@google.com, tiger@icloud.com'\n",
    "# handle the spaces before splitting\n",
    "# in_str = emails.split(\", \"). # alt 1\n",
    "# in_str = emails.replace(\" \",\"\").split(\",\"). # alt 2\n",
    "\n",
    "# handle the spaces after splitting\n",
    "in_str = emails.split(\",\")\n",
    "email_list = []\n",
    "for email in in_str:\n",
    "    email_list.append(email.strip())\n",
    "print(email_list)    "
   ]
  },
  {
   "cell_type": "markdown",
   "metadata": {},
   "source": [
    "2. 利用 list 實作一個stack (first-in-last-out, last-in-first-out)\n",
    "- 先放三個隨機的1~10的整數進去stack\n",
    "- 拿出一個整數\n",
    "- 再放兩個隨機整數進去\n",
    "\n",
    "![stack](https://cdn.programiz.com/sites/tutorial2program/files/stack.png)"
   ]
  },
  {
   "cell_type": "markdown",
   "metadata": {},
   "source": [
    "3. Write OJ# 1875"
   ]
  },
  {
   "cell_type": "markdown",
   "metadata": {},
   "source": [
    "# W3 School"
   ]
  },
  {
   "cell_type": "markdown",
   "metadata": {},
   "source": [
    "- [Python Lists] https://www.w3schools.com/python/exercise.asp?x=xrcise_lists1<br>\n",
    "- [Access Lists] https://www.w3schools.com/python/exercise.asp?x=xrcise_lists_access1<br>\n",
    "- [Change Lists] https://www.w3schools.com/python/exercise.asp?x=xrcise_lists_change1 <br>\n",
    "- [Add List Items] https://www.w3schools.com/python/exercise.asp?x=xrcise_lists_add1 <br>\n",
    "- [Remove list Items] https://www.w3schools.com/python/exercise.asp?x=xrcise_lists_remove1<br>\n",
    "- [Sort Lists] https://www.w3schools.com/python/exercise.asp?x=xrcise_lists_sort1 <br>\n",
    "- [Join Lists] https://www.w3schools.com/python/exercise.asp?x=xrcise_lists_join1<br>\n",
    "- [Arrays] https://www.w3schools.com/python/exercise.asp?x=xrcise_arrays1"
   ]
  }
 ],
 "metadata": {
  "kernelspec": {
   "display_name": ".venv",
   "language": "python",
   "name": "python3"
  },
  "language_info": {
   "codemirror_mode": {
    "name": "ipython",
    "version": 3
   },
   "file_extension": ".py",
   "mimetype": "text/x-python",
   "name": "python",
   "nbconvert_exporter": "python",
   "pygments_lexer": "ipython3",
   "version": "3.12.10"
  }
 },
 "nbformat": 4,
 "nbformat_minor": 2
}
