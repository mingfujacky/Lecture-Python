{
 "cells": [
  {
   "cell_type": "markdown",
   "metadata": {},
   "source": [
    "# 介紹模組\n",
    "- 模組 (Module) 是一個Python檔案，裡面可能會包含一些函數、變數和類別<br>\n",
    "- 透過模組的設計，可以讓程式碼更有組織性，也更容易維護，也方便重複使用<br>\n",
    "- 模組 (Module) -> 套件 (Package) -> 函式庫(Library)"
   ]
  },
  {
   "cell_type": "markdown",
   "metadata": {},
   "source": [
    "# 使用模組"
   ]
  },
  {
   "cell_type": "code",
   "execution_count": null,
   "metadata": {},
   "outputs": [],
   "source": [
    "import math\n",
    "print(math.sqrt(9))"
   ]
  },
  {
   "cell_type": "code",
   "execution_count": null,
   "metadata": {},
   "outputs": [],
   "source": [
    "# 搜尋模組的路徑\n",
    "import sys\n",
    "sys.path"
   ]
  },
  {
   "cell_type": "code",
   "execution_count": 1,
   "metadata": {},
   "outputs": [
    {
     "data": {
      "text/plain": [
       "['/Library/Frameworks/Python.framework/Versions/3.13/lib/python313.zip',\n",
       " '/Library/Frameworks/Python.framework/Versions/3.13/lib/python3.13',\n",
       " '/Library/Frameworks/Python.framework/Versions/3.13/lib/python3.13/lib-dynload',\n",
       " '',\n",
       " '/Users/jacky/Documents/Lecture_Python/.venv/lib/python3.13/site-packages',\n",
       " '/Users/jacky/Documents/Lecture_Python']"
      ]
     },
     "execution_count": 1,
     "metadata": {},
     "output_type": "execute_result"
    }
   ],
   "source": [
    "# add my path to sys.path\n",
    "import sys\n",
    "sys.path.append('/Users/jacky/Documents/Lecture_Python')\n",
    "sys.path"
   ]
  },
  {
   "cell_type": "markdown",
   "metadata": {},
   "source": [
    "|--- utils <br><br>\n",
    "|&nbsp;&nbsp;&nbsp;&nbsp;&nbsp;&nbsp;|--- goodbye <br>\n",
    "|&nbsp;&nbsp;&nbsp;&nbsp;&nbsp;&nbsp;|&nbsp;&nbsp;&nbsp;&nbsp;&nbsp;&nbsp;|--- \\_\\_init\\_\\_.py <br>\n",
    "|&nbsp;&nbsp;&nbsp;&nbsp;&nbsp;&nbsp;|&nbsp;&nbsp;&nbsp;&nbsp;&nbsp;&nbsp;|--- greeting.py <br><br>\n",
    "|&nbsp;&nbsp;&nbsp;&nbsp;&nbsp;&nbsp;|--- hello <br>\n",
    "|&nbsp;&nbsp;&nbsp;&nbsp;&nbsp;&nbsp;|&nbsp;&nbsp;&nbsp;&nbsp;&nbsp;&nbsp;|--- \\_\\_init\\_\\_.py <br>\n",
    "|&nbsp;&nbsp;&nbsp;&nbsp;&nbsp;&nbsp;|&nbsp;&nbsp;&nbsp;&nbsp;&nbsp;&nbsp;|--- greeting.py <br><br>\n",
    "|&nbsp;&nbsp;&nbsp;&nbsp;&nbsp;&nbsp;|--- \\_\\_init.py\\_\\_ <br><br>"
   ]
  },
  {
   "cell_type": "code",
   "execution_count": 2,
   "metadata": {},
   "outputs": [],
   "source": [
    "import utils"
   ]
  },
  {
   "cell_type": "code",
   "execution_count": null,
   "metadata": {},
   "outputs": [],
   "source": [
    "from utils.hello import greeting as gr\n",
    "# import utils.hello.greeting as gr\n",
    "gr.hello()\n",
    "gr.hi()\n",
    "print(gr.place)"
   ]
  },
  {
   "cell_type": "code",
   "execution_count": null,
   "metadata": {},
   "outputs": [],
   "source": [
    "from utils.goodbye import greeting as bye\n",
    "# import utils.goodbye.greeting as bye\n",
    "bye.goodbye()\n",
    "bye.seeyou()"
   ]
  },
  {
   "cell_type": "code",
   "execution_count": null,
   "metadata": {},
   "outputs": [],
   "source": [
    "# risk of use from module import *\n",
    "from utils.hello import *\n",
    "from utils.goodbye import *\n",
    "# greeting.goodbye()\n",
    "greeting.hello() # error"
   ]
  }
 ],
 "metadata": {
  "kernelspec": {
   "display_name": ".venv",
   "language": "python",
   "name": "python3"
  },
  "language_info": {
   "codemirror_mode": {
    "name": "ipython",
    "version": 3
   },
   "file_extension": ".py",
   "mimetype": "text/x-python",
   "name": "python",
   "nbconvert_exporter": "python",
   "pygments_lexer": "ipython3",
   "version": "3.13.1"
  }
 },
 "nbformat": 4,
 "nbformat_minor": 2
}
