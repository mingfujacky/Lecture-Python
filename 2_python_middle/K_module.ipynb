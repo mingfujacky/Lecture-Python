{
 "cells": [
  {
   "cell_type": "markdown",
   "metadata": {},
   "source": [
    "# 介紹模組\n",
    "- 模組 (Module) 是一個Python檔案，裡面可能會包含一些函數、變數和類別<br>\n",
    "- 透過模組的設計，可以讓程式碼更有組織性，也更容易維護，也方便重複使用<br>\n",
    "- 模組 (Module) -> 套件 (Package) -> 函式庫(Library)"
   ]
  },
  {
   "cell_type": "markdown",
   "metadata": {},
   "source": [
    "# 使用模組"
   ]
  },
  {
   "cell_type": "code",
   "execution_count": 1,
   "metadata": {},
   "outputs": [
    {
     "name": "stdout",
     "output_type": "stream",
     "text": [
      "3.0\n"
     ]
    }
   ],
   "source": [
    "import math\n",
    "print(math.sqrt(9))"
   ]
  },
  {
   "cell_type": "code",
   "execution_count": 3,
   "metadata": {},
   "outputs": [
    {
     "name": "stdout",
     "output_type": "stream",
     "text": [
      "/Library/Frameworks/Python.framework/Versions/3.13/lib/python313.zip\n",
      "/Library/Frameworks/Python.framework/Versions/3.13/lib/python3.13\n",
      "/Library/Frameworks/Python.framework/Versions/3.13/lib/python3.13/lib-dynload\n",
      "\n",
      "/Users/jacky/Library/Mobile Documents/com~apple~CloudDocs/交大教學/Python/Lecture-Python/.venv/lib/python3.13/site-packages\n"
     ]
    }
   ],
   "source": [
    "# 搜尋模組的路徑\n",
    "import sys\n",
    "for _ in sys.path:\n",
    "    print(_)"
   ]
  },
  {
   "cell_type": "code",
   "execution_count": 7,
   "metadata": {},
   "outputs": [
    {
     "data": {
      "text/plain": [
       "['/Library/Frameworks/Python.framework/Versions/3.13/lib/python313.zip',\n",
       " '/Library/Frameworks/Python.framework/Versions/3.13/lib/python3.13',\n",
       " '/Library/Frameworks/Python.framework/Versions/3.13/lib/python3.13/lib-dynload',\n",
       " '',\n",
       " '/Users/jacky/Library/Mobile Documents/com~apple~CloudDocs/交大教學/Python/Lecture-Python/.venv/lib/python3.13/site-packages',\n",
       " '/Users/jacky/Lecture-Python',\n",
       " '/Users/jacky/Library/Mobile Documents/com~apple~CloudDocs/交大教學/Python/Lecture-Python']"
      ]
     },
     "execution_count": 7,
     "metadata": {},
     "output_type": "execute_result"
    }
   ],
   "source": [
    "# add my path to sys.path\n",
    "import sys\n",
    "sys.path.append('/Users/jacky/Library/Mobile Documents/com~apple~CloudDocs/交大教學/Python/Lecture-Python')\n",
    "sys.path\n"
   ]
  },
  {
   "cell_type": "markdown",
   "metadata": {},
   "source": [
    "# Build modules"
   ]
  },
  {
   "cell_type": "markdown",
   "metadata": {},
   "source": [
    "|--- utils <br>\n",
    "|&nbsp;&nbsp;&nbsp;&nbsp;&nbsp;&nbsp;|--- goodbye <br>\n",
    "|&nbsp;&nbsp;&nbsp;&nbsp;&nbsp;&nbsp;|&nbsp;&nbsp;&nbsp;&nbsp;&nbsp;&nbsp;|--- \\_\\_init\\_\\_.py <br>\n",
    "|&nbsp;&nbsp;&nbsp;&nbsp;&nbsp;&nbsp;|&nbsp;&nbsp;&nbsp;&nbsp;&nbsp;&nbsp;|--- greeting.py <br>\n",
    "|&nbsp;&nbsp;&nbsp;&nbsp;&nbsp;&nbsp;|--- hello <br>\n",
    "|&nbsp;&nbsp;&nbsp;&nbsp;&nbsp;&nbsp;|&nbsp;&nbsp;&nbsp;&nbsp;&nbsp;&nbsp;|--- \\_\\_init\\_\\_.py <br>\n",
    "|&nbsp;&nbsp;&nbsp;&nbsp;&nbsp;&nbsp;|&nbsp;&nbsp;&nbsp;&nbsp;&nbsp;&nbsp;|--- greeting.py <br>\n",
    "|&nbsp;&nbsp;&nbsp;&nbsp;&nbsp;&nbsp;|--- \\_\\_init.py\\_\\_ <br>\n",
    "|&nbsp;&nbsp;&nbsp;&nbsp;&nbsp;&nbsp;|--- math_operators.py <br>"
   ]
  },
  {
   "cell_type": "code",
   "execution_count": 8,
   "metadata": {},
   "outputs": [
    {
     "name": "stdout",
     "output_type": "stream",
     "text": [
      "7\n",
      "-1\n",
      "12\n",
      "0.75\n",
      "<module 'utils.math_operators' from '/Users/jacky/Library/Mobile Documents/com~apple~CloudDocs/交大教學/Python/Lecture-Python/utils/math_operators.py'>\n",
      "['__builtins__', '__cached__', '__doc__', '__file__', '__loader__', '__name__', '__package__', '__spec__', 'add', 'div', 'mul', 'sub']\n"
     ]
    }
   ],
   "source": [
    "from utils import math_operators as mo\n",
    "print(mo.add(3, 4))\n",
    "print(mo.sub(3, 4))\n",
    "print(mo.mul(3, 4))\n",
    "print(mo.div(3, 4))\n",
    "print(mo)\n",
    "print(dir(mo))"
   ]
  },
  {
   "cell_type": "code",
   "execution_count": null,
   "metadata": {},
   "outputs": [],
   "source": [
    "from utils.math_operators import add, sub, mul, div\n",
    "print(add(3, 4)) # 7\n",
    "print(sub(3, 4)) # -1\n",
    "print(mul(3, 4)) # 12\n",
    "print(div(3, 4)) # 0.75"
   ]
  },
  {
   "cell_type": "code",
   "execution_count": null,
   "metadata": {},
   "outputs": [],
   "source": [
    "from utils.math_operators import *\n",
    "print(add(3, 4)) # 7"
   ]
  },
  {
   "cell_type": "code",
   "execution_count": null,
   "metadata": {},
   "outputs": [],
   "source": [
    "import sys\n",
    "sys.modules"
   ]
  },
  {
   "cell_type": "markdown",
   "metadata": {},
   "source": [
    "# Risk of use from module import *"
   ]
  },
  {
   "cell_type": "code",
   "execution_count": null,
   "metadata": {},
   "outputs": [],
   "source": [
    "from utils.hello import greeting as gr\n",
    "# import utils.hello.greeting as gr\n",
    "gr.hello()\n",
    "gr.hi()\n",
    "print(gr.place)"
   ]
  },
  {
   "cell_type": "code",
   "execution_count": null,
   "metadata": {},
   "outputs": [],
   "source": [
    "from utils.goodbye import greeting as bye\n",
    "# import utils.goodbye.greeting as bye\n",
    "bye.goodbye()\n",
    "bye.seeyou()"
   ]
  },
  {
   "cell_type": "code",
   "execution_count": null,
   "metadata": {},
   "outputs": [],
   "source": [
    "import sys\n",
    "sys.modules"
   ]
  },
  {
   "cell_type": "code",
   "execution_count": null,
   "metadata": {},
   "outputs": [],
   "source": [
    "# risk of use from module import *\n",
    "from utils.hello import *\n",
    "from utils.goodbye import *\n",
    "# greeting.goodbye()\n",
    "greeting.hello() # error"
   ]
  },
  {
   "cell_type": "markdown",
   "metadata": {},
   "source": [
    "# \\_\\_init\\_\\_\n",
    "any module that contains a __path__ attribute is considered as a package"
   ]
  },
  {
   "cell_type": "markdown",
   "metadata": {},
   "source": [
    "# import module vs test module \n",
    "if __name__ == '__main__':<br>\n",
    "&nbsp;&nbsp;&nbsp;&nbsp;&nbsp;&nbsp;test case 1<br>\n",
    "&nbsp;&nbsp;&nbsp;&nbsp;&nbsp;&nbsp;test case 2<br>"
   ]
  }
 ],
 "metadata": {
  "kernelspec": {
   "display_name": ".venv",
   "language": "python",
   "name": "python3"
  },
  "language_info": {
   "codemirror_mode": {
    "name": "ipython",
    "version": 3
   },
   "file_extension": ".py",
   "mimetype": "text/x-python",
   "name": "python",
   "nbconvert_exporter": "python",
   "pygments_lexer": "ipython3",
   "version": "3.13.1"
  }
 },
 "nbformat": 4,
 "nbformat_minor": 2
}
