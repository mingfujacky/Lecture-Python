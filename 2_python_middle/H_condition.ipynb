{
 "cells": [
  {
   "cell_type": "markdown",
   "metadata": {},
   "source": [
    "# 條件運算"
   ]
  },
  {
   "cell_type": "markdown",
   "metadata": {},
   "source": [
    "- if\n",
    "- if-else\n",
    "- if-elif-else\n",
    "- nested if"
   ]
  },
  {
   "cell_type": "code",
   "execution_count": null,
   "metadata": {},
   "outputs": [],
   "source": [
    "# 只用 if 敘述來計算 a - b 的絕對值 \n",
    "a = 5;  b = 6\n",
    "\n",
    "if a > b:\n",
    "    c = a - b\n",
    "    print('|a - b| = ', c)\n",
    "\n",
    "if a == b:\n",
    "    print('|a - b| = 0')\n",
    "\n",
    "if a < b:\n",
    "    c = b - a\n",
    "    print('|a - b| = ', c)\n",
    " \n",
    "print('code finished')"
   ]
  },
  {
   "cell_type": "code",
   "execution_count": null,
   "metadata": {},
   "outputs": [],
   "source": [
    "# 用 if-else 敘述來計算 a - b 的絕對值\n",
    "a = 5; b = 6\n",
    "\n",
    "if a > b:\n",
    "    c = a - b\n",
    "    print('|a - b| = ', c)\n",
    "else:\n",
    "    c = b - a\n",
    "    print('|a - b| = ', c)\n",
    "\n",
    "print('code finished')\n"
   ]
  },
  {
   "cell_type": "code",
   "execution_count": null,
   "metadata": {},
   "outputs": [],
   "source": [
    "# 用 if-elif-else 敘述來計算 a - b 的絕對值\n",
    "a = 7; b = 8\n",
    "\n",
    "if a > b:\n",
    "    c = a - b\n",
    "    print('|a - b| = ', c)\n",
    "elif a == b:\n",
    "    print('|a - b| = 0')\n",
    "else:\n",
    "    c = b - a\n",
    "    print('|a - b| = ', c)\n",
    "\n",
    "print('code finished')\n"
   ]
  },
  {
   "cell_type": "markdown",
   "metadata": {},
   "source": [
    "# 用程式解決問題的流程"
   ]
  },
  {
   "cell_type": "markdown",
   "metadata": {},
   "source": [
    "1. 思考 (Think) : \n",
    "   - 設計演算法 (畫流程圖, 寫虛擬碼)\n",
    "   - 設計測試資料\n",
    "\n",
    "2. 寫程式 (Code) : 實作演算法\n",
    "\n",
    "3. 測試 (Test): 驗證程式\n",
    "\n",
    "4. 除錯 (Debug): 修正程式\n",
    "\n",
    "5. 重複執行 1, 2, 3, 4"
   ]
  },
  {
   "cell_type": "markdown",
   "metadata": {},
   "source": [
    "![Solving problem with programming](https://drek4537l1klr.cloudfront.net/bell/Figures/02fig03.jpg)"
   ]
  },
  {
   "cell_type": "markdown",
   "metadata": {},
   "source": [
    "- 設計一個簡單的評分系統, 需求如下\n",
    "  - 輸入分數得在 0 ~ 100 間\n",
    "  - 分數 >= 80 得 A\n",
    "  - 分數 在 60 和 80 得 B\n",
    "  - 分數 在 50 和 60 得 C\n",
    "  - 分數 小於 50 得 不及格"
   ]
  },
  {
   "cell_type": "markdown",
   "metadata": {},
   "source": [
    "## 畫流程圖<br>\n",
    "![Flow Chart](https://online.visual-paradigm.com/repository/images/beb3e2a7-0885-4a8a-b061-9906c5e7f676/flowchart-design/.png)"
   ]
  },
  {
   "cell_type": "markdown",
   "metadata": {},
   "source": [
    "![Flowchart symbol](https://venngage-wordpress.s3.amazonaws.com/uploads/2024/02/flowchart-symbols-meaning-1.png)"
   ]
  },
  {
   "cell_type": "markdown",
   "metadata": {},
   "source": [
    "## 設計測試資料"
   ]
  },
  {
   "cell_type": "markdown",
   "metadata": {},
   "source": [
    "|分數|等級\n",
    "|---|---\n",
    "|101|重新輸入\n",
    "|-10|重新輸入\n",
    "|93|A\n",
    "|76|B\n",
    "|55|C\n",
    "|40|不及格\n",
    "|100|A\n",
    "|80|A\n",
    "|60|B\n",
    "|50|C\n",
    "|0|不及格\n"
   ]
  },
  {
   "cell_type": "markdown",
   "metadata": {},
   "source": [
    "# Lab"
   ]
  },
  {
   "cell_type": "markdown",
   "metadata": {},
   "source": [
    "1. 請撰寫上述的簡單的評分系統"
   ]
  },
  {
   "cell_type": "markdown",
   "metadata": {},
   "source": [
    "2. 使用循序串接的條件式，實作下列需求\n",
    "![seq if](../files/image/循序串接的條件式.png)\n"
   ]
  },
  {
   "cell_type": "markdown",
   "metadata": {},
   "source": [
    "3. 使用巢狀的條件式，實作下列需求\n",
    "![nested if](../files/image/巢狀的條件式.png)"
   ]
  },
  {
   "cell_type": "markdown",
   "metadata": {},
   "source": [
    "4. 輸入月份 輸出季別. 如3月為第一季"
   ]
  },
  {
   "cell_type": "markdown",
   "metadata": {},
   "source": [
    "# W3 School"
   ]
  },
  {
   "cell_type": "markdown",
   "metadata": {},
   "source": [
    "- [If Else] https://www.w3schools.com/python/exercise.asp?x=xrcise_conditions1\n",
    "- []"
   ]
  }
 ],
 "metadata": {
  "kernelspec": {
   "display_name": ".venv",
   "language": "python",
   "name": "python3"
  },
  "language_info": {
   "codemirror_mode": {
    "name": "ipython",
    "version": 3
   },
   "file_extension": ".py",
   "mimetype": "text/x-python",
   "name": "python",
   "nbconvert_exporter": "python",
   "pygments_lexer": "ipython3",
   "version": "3.13.0"
  }
 },
 "nbformat": 4,
 "nbformat_minor": 2
}
