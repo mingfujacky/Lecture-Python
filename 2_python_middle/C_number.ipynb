{
 "cells": [
  {
   "cell_type": "markdown",
   "metadata": {},
   "source": [
    "# 數值運算\n",
    "- 整數\n",
    "- 浮點數\n",
    "- 複數"
   ]
  },
  {
   "cell_type": "markdown",
   "metadata": {},
   "source": [
    "## 列印數值"
   ]
  },
  {
   "cell_type": "code",
   "execution_count": null,
   "metadata": {},
   "outputs": [],
   "source": [
    "print(1, 3.14, 8+9j)  # 列印多個數值\n",
    "print(1 + 2 + 3)  # 數值相加"
   ]
  },
  {
   "cell_type": "markdown",
   "metadata": {},
   "source": [
    "## 算數運算子(arithmetic operator)\n",
    "- **+** , - , * , /<br>\n",
    "- // (整數除法),  % (餘數)<br>\n",
    "- ** (次方)<br>\n",
    "- ***執行順序***<br>\n",
    "\n",
    "|優先級|\t運算子|\t說明|\t結合性\n",
    "|-----|---------|----|-------\n",
    "1|\t()|\t圓括號，改變優先順序或函式調用|\t左至右\n",
    "2|\t**|\t指數（次方）\t|右至左\n",
    "3|\t+、-（一元）|\t正號、負號\t|右至左\n",
    "4|\t*、/、//、%\t|乘、除、整數除法、取餘數\t|左至右\n",
    "5|\t+、-（二元）|\t加法、減法\t|左至右\n",
    "\n",
    "- **>**, >=, <, <=, ==, !="
   ]
  },
  {
   "cell_type": "code",
   "execution_count": null,
   "metadata": {},
   "outputs": [],
   "source": [
    "print(2 + 3 * 5**2)  # low readability\n",
    "print(2 + (3 * (5**2)))  # high readability\n",
    "print(10*-2+4)  # low readability\n",
    "print(10*(-2+4))\n",
    "print((10*-2)+4)\n",
    "print(10 * (-2) + 4)"
   ]
  },
  {
   "cell_type": "markdown",
   "metadata": {},
   "source": [
    "## 數值內建函式(built-in function)\n",
    "***function(number)***\n",
    "- round(): 四捨五入\n",
    "- abs(): 絕對值\n",
    "- int(): 轉換型別為整數\n",
    "- float(): 轉換型別為浮點數"
   ]
  },
  {
   "cell_type": "code",
   "execution_count": null,
   "metadata": {},
   "outputs": [],
   "source": [
    "foo = 3.14159\n",
    "print(round(foo, 2))  # 四捨五入到小數點第二位"
   ]
  },
  {
   "cell_type": "code",
   "execution_count": null,
   "metadata": {},
   "outputs": [],
   "source": [
    "foo = -3\n",
    "print(abs(foo))  # 取絕對值"
   ]
  },
  {
   "cell_type": "code",
   "execution_count": null,
   "metadata": {},
   "outputs": [],
   "source": [
    "foo = 3.14159\n",
    "print(int(foo))  # 轉換為整數\n",
    "boo = -3.14159\n",
    "print(int(boo))  # 轉換為整數"
   ]
  },
  {
   "cell_type": "code",
   "execution_count": null,
   "metadata": {},
   "outputs": [],
   "source": [
    "foo = 3\n",
    "print(float(foo))  # 轉換為浮點數"
   ]
  },
  {
   "cell_type": "markdown",
   "metadata": {},
   "source": [
    "# 科學記號表示法"
   ]
  },
  {
   "cell_type": "code",
   "execution_count": null,
   "metadata": {},
   "outputs": [],
   "source": [
    "print(1.23e4)\n",
    "print(1.23e-4)"
   ]
  },
  {
   "cell_type": "markdown",
   "metadata": {},
   "source": [
    "# 轉換進位法"
   ]
  },
  {
   "cell_type": "markdown",
   "metadata": {},
   "source": [
    "- 十進位: 10\n",
    "- 二進位: 0b1010\n",
    "- 八進位: 0o12\n",
    "- 十六進位: 0xa\n",
    "- 十進位轉換到不同進位的函式: bin(), oct(), hex()\n",
    "- 不同進位轉換到十進位的函式: int()"
   ]
  },
  {
   "cell_type": "code",
   "execution_count": 1,
   "metadata": {},
   "outputs": [
    {
     "name": "stdout",
     "output_type": "stream",
     "text": [
      "10 0b1010 0o12 0xa\n",
      "<class 'int'> <class 'str'> <class 'str'> <class 'str'>\n"
     ]
    }
   ],
   "source": [
    "foo = 10\n",
    "foo_2 = bin(foo)  # 轉換為二進位\n",
    "foo_8 = oct(foo)  # 轉換為八進位  \n",
    "foo_16 = hex(foo)  # 轉換為十六進位\n",
    "print(foo, foo_2, foo_8, foo_16)\n",
    "print(type(foo), type(foo_2), type(foo_8), type(foo_16))"
   ]
  },
  {
   "cell_type": "code",
   "execution_count": null,
   "metadata": {},
   "outputs": [],
   "source": [
    "#不同進位轉換到十進位\n",
    "boo_0 = 11\n",
    "boo_1 = 0b11\n",
    "boo_2 = 0o11\n",
    "boo_3 = 0x11\n",
    "print(boo_0, boo_1, boo_2, boo_3)"
   ]
  },
  {
   "cell_type": "code",
   "execution_count": null,
   "metadata": {},
   "outputs": [],
   "source": [
    "egg = '0b1010' # \n",
    "print('egg is a ', type(egg), 'variable and converted to integer is ', int(egg,2))"
   ]
  },
  {
   "cell_type": "markdown",
   "metadata": {},
   "source": [
    "# 位元運算"
   ]
  },
  {
   "cell_type": "code",
   "execution_count": null,
   "metadata": {},
   "outputs": [],
   "source": [
    "print(25 >> 1) # 往右位移一位，相當於 25 除以 2\n",
    "print(bin(25)) # 0b11001\n",
    "print(25 << 2) #"
   ]
  },
  {
   "cell_type": "markdown",
   "metadata": {},
   "source": [
    "# Lab:\n",
    "1. OJ#1847 (你在說迴文嗎)\n",
    "2. OJ#1848 (數字位數加總)"
   ]
  }
 ],
 "metadata": {
  "kernelspec": {
   "display_name": ".venv",
   "language": "python",
   "name": "python3"
  },
  "language_info": {
   "codemirror_mode": {
    "name": "ipython",
    "version": 3
   },
   "file_extension": ".py",
   "mimetype": "text/x-python",
   "name": "python",
   "nbconvert_exporter": "python",
   "pygments_lexer": "ipython3",
   "version": "3.13.5"
  }
 },
 "nbformat": 4,
 "nbformat_minor": 2
}
