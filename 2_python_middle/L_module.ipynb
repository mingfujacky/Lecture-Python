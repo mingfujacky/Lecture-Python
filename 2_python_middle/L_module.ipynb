{
 "cells": [
  {
   "cell_type": "markdown",
   "metadata": {},
   "source": [
    "# 介紹模組\n",
    "- 模組 (Module) 是一個Python檔案，裡面可能會包含一些函數、變數和類別<br>\n",
    "- 透過模組的設計，可以讓程式碼更有組織性，也更容易維護，也方便重複使用<br>\n",
    "- 模組 (Module) -> 套件 (Package) -> 函式庫(Library)"
   ]
  },
  {
   "cell_type": "markdown",
   "metadata": {},
   "source": [
    "# 使用模組"
   ]
  },
  {
   "cell_type": "code",
   "execution_count": null,
   "metadata": {},
   "outputs": [],
   "source": [
    "import math\n",
    "print(math.sqrt(9))"
   ]
  },
  {
   "cell_type": "code",
   "execution_count": null,
   "metadata": {},
   "outputs": [],
   "source": [
    "# 搜尋模組的路徑\n",
    "import sys\n",
    "for _ in sys.path:\n",
    "    print(_)"
   ]
  },
  {
   "cell_type": "code",
   "execution_count": null,
   "metadata": {},
   "outputs": [],
   "source": [
    "# add my path to sys.path\n",
    "import sys\n",
    "sys.path.append('/Users/jacky/Library/Mobile Documents/com~apple~CloudDocs/交大教學/Python/Lecture-Python')\n",
    "sys.path\n"
   ]
  },
  {
   "cell_type": "markdown",
   "metadata": {},
   "source": [
    "# Build modules"
   ]
  },
  {
   "cell_type": "markdown",
   "metadata": {},
   "source": [
    "|--- utils <br>\n",
    "|&nbsp;&nbsp;&nbsp;&nbsp;&nbsp;&nbsp;|--- goodbye <br>\n",
    "|&nbsp;&nbsp;&nbsp;&nbsp;&nbsp;&nbsp;|&nbsp;&nbsp;&nbsp;&nbsp;&nbsp;&nbsp;|--- \\_\\_init\\_\\_.py <br>\n",
    "|&nbsp;&nbsp;&nbsp;&nbsp;&nbsp;&nbsp;|&nbsp;&nbsp;&nbsp;&nbsp;&nbsp;&nbsp;|--- greeting.py <br>\n",
    "|&nbsp;&nbsp;&nbsp;&nbsp;&nbsp;&nbsp;|--- hello <br>\n",
    "|&nbsp;&nbsp;&nbsp;&nbsp;&nbsp;&nbsp;|&nbsp;&nbsp;&nbsp;&nbsp;&nbsp;&nbsp;|--- \\_\\_init\\_\\_.py <br>\n",
    "|&nbsp;&nbsp;&nbsp;&nbsp;&nbsp;&nbsp;|&nbsp;&nbsp;&nbsp;&nbsp;&nbsp;&nbsp;|--- greeting.py <br>\n",
    "|&nbsp;&nbsp;&nbsp;&nbsp;&nbsp;&nbsp;|--- \\_\\_init.py\\_\\_ <br>\n",
    "|&nbsp;&nbsp;&nbsp;&nbsp;&nbsp;&nbsp;|--- math_operators.py <br>"
   ]
  },
  {
   "cell_type": "code",
   "execution_count": null,
   "metadata": {},
   "outputs": [],
   "source": [
    "from utils import math_operators as mo\n",
    "print(mo.add(3, 4))\n",
    "print(mo.sub(3, 4))\n",
    "print(mo.mul(3, 4))\n",
    "print(mo.div(3, 4))\n",
    "print(mo)\n",
    "print(dir(mo))"
   ]
  },
  {
   "cell_type": "code",
   "execution_count": null,
   "metadata": {},
   "outputs": [],
   "source": [
    "from utils.math_operators import add, sub, mul, div\n",
    "print(add(3, 4)) # 7\n",
    "print(sub(3, 4)) # -1\n",
    "print(mul(3, 4)) # 12\n",
    "print(div(3, 4)) # 0.75"
   ]
  },
  {
   "cell_type": "code",
   "execution_count": null,
   "metadata": {},
   "outputs": [],
   "source": [
    "from utils.math_operators import *\n",
    "print(add(3, 4)) # 7"
   ]
  },
  {
   "cell_type": "code",
   "execution_count": null,
   "metadata": {},
   "outputs": [],
   "source": [
    "'''sys.modules is a dictionary in Python that keeps track of all the imported modules in the current Python session.'''\n",
    "\n",
    "import sys\n",
    "sys.modules"
   ]
  },
  {
   "cell_type": "markdown",
   "metadata": {},
   "source": [
    "# Risk of use from module import *"
   ]
  },
  {
   "cell_type": "code",
   "execution_count": null,
   "metadata": {},
   "outputs": [],
   "source": [
    "from utils.hello import greeting as gr\n",
    "# import utils.hello.greeting as gr\n",
    "gr.hello()\n",
    "gr.hi()\n",
    "print(gr.place)"
   ]
  },
  {
   "cell_type": "code",
   "execution_count": null,
   "metadata": {},
   "outputs": [],
   "source": [
    "from utils.goodbye import greeting as bye\n",
    "# import utils.goodbye.greeting as bye\n",
    "bye.goodbye()\n",
    "bye.seeyou()"
   ]
  },
  {
   "cell_type": "code",
   "execution_count": null,
   "metadata": {},
   "outputs": [],
   "source": [
    "import sys\n",
    "sys.modules"
   ]
  },
  {
   "cell_type": "code",
   "execution_count": null,
   "metadata": {},
   "outputs": [],
   "source": [
    "# risk of use from module import *\n",
    "from utils.hello import *\n",
    "from utils.goodbye import *\n",
    "greeting.goodbye()\n",
    "# greeting.hello() # error"
   ]
  },
  {
   "cell_type": "markdown",
   "metadata": {},
   "source": [
    "# Create a package\n",
    "A package is a directory (folder) with \\_\\_init\\_\\_.py"
   ]
  },
  {
   "cell_type": "markdown",
   "metadata": {},
   "source": [
    "# Import module vs test module \n",
    "\n",
    "```python\n",
    "def hello():\n",
    "    pass\n",
    "\n",
    "def hi():\n",
    "    pass\n",
    "\n",
    "if __name__ == '__main__':\n",
    "    test case of function hello\n",
    "    test case of function hi\n",
    "```"
   ]
  }
 ],
 "metadata": {
  "kernelspec": {
   "display_name": ".venv",
   "language": "python",
   "name": "python3"
  },
  "language_info": {
   "codemirror_mode": {
    "name": "ipython",
    "version": 3
   },
   "file_extension": ".py",
   "mimetype": "text/x-python",
   "name": "python",
   "nbconvert_exporter": "python",
   "pygments_lexer": "ipython3",
   "version": "3.13.2"
  }
 },
 "nbformat": 4,
 "nbformat_minor": 2
}
