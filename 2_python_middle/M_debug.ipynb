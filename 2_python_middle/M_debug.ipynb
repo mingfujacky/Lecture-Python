{
 "cells": [
  {
   "cell_type": "markdown",
   "metadata": {},
   "source": [
    "# 程式錯誤與除錯\n",
    "身為一位程式設計師，能夠自己找答案這項能力比學習演算法或資料結構知識更為重要!!\n"
   ]
  },
  {
   "cell_type": "markdown",
   "metadata": {},
   "source": [
    "# 程式錯誤"
   ]
  },
  {
   "cell_type": "markdown",
   "metadata": {},
   "source": [
    "Syntax Error (語法錯誤): 又稱剖析錯誤 (parsing error)\n",
    "- if-else, for loop, def 沒有加冒號\n",
    "- 判斷式中將 == 寫成 =\n",
    "- 字串前後引號不成對"
   ]
  },
  {
   "cell_type": "code",
   "execution_count": null,
   "metadata": {},
   "outputs": [],
   "source": [
    "if 5 > 3\n",
    "    print(\"5 is greater than 3\")\n",
    "if 5 = 3:\n",
    "    print(\"5 is equal to 3\")\n",
    "if 5 != 3:\n",
    "    print(\"5 is not equal to 3)    "
   ]
  },
  {
   "cell_type": "markdown",
   "metadata": {},
   "source": [
    "Exception (例外): 語法正確但程式的執行因出錯而被迫中止\n",
    "- Name Error\n",
    "- Type Error \n",
    "- Zero Division Error\n",
    "- Index Error"
   ]
  },
  {
   "cell_type": "code",
   "execution_count": null,
   "metadata": {},
   "outputs": [],
   "source": [
    "print(\"Your name is\", name)\n",
    "print(1 + '2')\n",
    "print(6/0)\n",
    "print(\"Python\"[6])"
   ]
  },
  {
   "cell_type": "markdown",
   "metadata": {},
   "source": [
    "Environment Error (環境錯誤): 程式執行的外在環境所引發的錯誤\n",
    "- 記憶體不足\n",
    "- 讀一個不存在的檔案\n",
    "- 檔案權限不足"
   ]
  },
  {
   "cell_type": "code",
   "execution_count": null,
   "metadata": {},
   "outputs": [],
   "source": [
    "open(\"file_a.txt\")"
   ]
  },
  {
   "cell_type": "markdown",
   "metadata": {},
   "source": [
    "# 除錯工具\n",
    "- 利用 print() 將變數印出除錯\n",
    "- 利用除錯器 (Debugger) 除錯"
   ]
  },
  {
   "cell_type": "code",
   "execution_count": null,
   "metadata": {},
   "outputs": [],
   "source": [
    "# Print the value of variables\n",
    "def foo(word):\n",
    "    new_word = \"_\"\n",
    "    for i in range(len(word)):\n",
    "        new_word = word[i] + \"_\"\n",
    "        # print(new_word)\n",
    "    return new_word\n",
    "\n",
    "phrase = \"Hello\"\n",
    "print(foo(phrase))    "
   ]
  },
  {
   "cell_type": "code",
   "execution_count": null,
   "metadata": {},
   "outputs": [],
   "source": [
    "# Correct code\n",
    "def foo(word):\n",
    "    new_word = word[0]\n",
    "    for i in range(1,len(word)):\n",
    "        new_word = new_word + '_' + word[i]\n",
    "        # print(new_word)\n",
    "    return new_word\n",
    "\n",
    "phrase = 'hello'\n",
    "print(foo(phrase))"
   ]
  },
  {
   "cell_type": "code",
   "execution_count": null,
   "metadata": {},
   "outputs": [],
   "source": [
    "# Demo debugger function: step_over, step_in, step_out, breakpoint\n",
    "for i in range(1, 4):\n",
    "    j = i * 2\n",
    "    print(f\"i: {i}, j: {j}\")"
   ]
  },
  {
   "cell_type": "markdown",
   "metadata": {},
   "source": [
    "# Lab\n",
    "(A) 請執行下列程式碼，根據錯誤訊息給的線索，修正程式碼\n",
    "- 'hello'[-6]\n",
    "- 'hello'.upper('h’)\n",
    "- 'hello'.replace(‘a’)\n",
    "- 'hello'.count(3)\n",
    "- 'hello'.count(h)\n",
    "- 'hello' * '2'\n",
    " \n",
    "(B) Debug程式碼，讓執行得到正確的結果 \n",
    "```python\n",
    "# power_integer (2, 3) = 2 ** 3 = 8\n",
    "def power_integer(num, p):\n",
    "    result = 1\n",
    "    while (p >= 0):\n",
    "        result = result * num\n",
    "        p = p - 1\n",
    "    return result\n",
    "\n",
    "print(power_integer(2, 3))\n",
    "```\n"
   ]
  }
 ],
 "metadata": {
  "kernelspec": {
   "display_name": ".venv",
   "language": "python",
   "name": "python3"
  },
  "language_info": {
   "codemirror_mode": {
    "name": "ipython",
    "version": 3
   },
   "file_extension": ".py",
   "mimetype": "text/x-python",
   "name": "python",
   "nbconvert_exporter": "python",
   "pygments_lexer": "ipython3",
   "version": "3.13.2"
  }
 },
 "nbformat": 4,
 "nbformat_minor": 2
}
