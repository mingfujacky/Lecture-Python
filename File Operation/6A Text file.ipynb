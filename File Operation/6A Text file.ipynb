{
 "cells": [
  {
   "cell_type": "markdown",
   "metadata": {},
   "source": [
    "# 讀寫 Text File (文字檔)"
   ]
  },
  {
   "cell_type": "markdown",
   "metadata": {},
   "source": [
    "- 文字檔的副檔名為 .txt\n",
    "- 內容: 通常只包含字母、數字、標點符號、空白字符、tab (\\t) 和換行符號 (\\n)，不包含任何樣式、字體或其他格式屬性\n",
    "- 字元編碼: Mac, Windows 預設是UTF-8\n",
    "- 範例: /Users/jacky/Documents/交大教學/Python講義4/txt/蘇東坡定風波.txt\n",
    "  - 用 Notepad 打開檔案讀內容 (看不到隱藏字元)\n",
    "  - 用 Word 打開檔案讀內容 (可以看到隱藏字元)\n",
    "  - 用 Python 程式檔案讀內容 (通過變數的觀察，可以看到隱藏字元)"
   ]
  },
  {
   "cell_type": "code",
   "execution_count": null,
   "metadata": {},
   "outputs": [],
   "source": [
    "# 用 Python 程式檔案讀內容\n",
    "with open('/Users/jacky/Documents/交大教學/Python講義4/txt/定風波.txt', 'r', encoding = 'utf-8') as f:\n",
    "    foo = f.read()\n",
    "    print(repr(foo))\n",
    "    print(foo)"
   ]
  },
  {
   "cell_type": "markdown",
   "metadata": {},
   "source": [
    "# Open Text File"
   ]
  },
  {
   "cell_type": "markdown",
   "metadata": {},
   "source": [
    "- Alternative 1: **f = open(檔案名稱 ,模式 , encoding = 編碼方式)**\n",
    "- Alternative 2: **with open(檔案名稱 ,模式 , encoding = 編碼方式) as f:**\n",
    "- 模式: 預設是 r\n",
    "  - r &nbsp;&nbsp;&nbsp; Read - Default value. Opens a file for reading, error if the file does not exist<br>\n",
    "  - a &nbsp;&nbsp;&nbsp; Append - Opens a file for appending, creates the file if it does not exist (附加內容)<br>\n",
    "  - w &nbsp;&nbsp;&nbsp; Write - Opens a file for writing, creates the file if it does not exist (覆寫內容)<br>\n",
    "- 編碼方式: 預設是 uft-8\n",
    "- 檔案名稱: 利用絕對路徑或相對路徑來指定\n"
   ]
  },
  {
   "cell_type": "code",
   "execution_count": null,
   "metadata": {},
   "outputs": [],
   "source": [
    "# Alternative 1\n",
    "# mac 使用絕對路徑開檔案 (注意斜線/), 記得關檔案\n",
    "# 模式是 'r' (read) 代表讀取\n",
    "f = open('/Users/jacky/Documents/交大教學/Python講義4/txt/定風波.txt','r', encoding = 'utf-8')\n",
    "print(f.read())\n",
    "f.close()\n",
    "\n",
    "''' \n",
    "# windows 使用絕對路徑開檔案 (注意反斜線\\), 記得關檔案\n",
    "f = open(\"c:\\\\users\\\\tom\\\\documents\\\\demofile.txt”, 'r', encoding = 'utf-8')\n",
    "print(f.read())\n",
    "f.close()'''"
   ]
  },
  {
   "cell_type": "code",
   "execution_count": null,
   "metadata": {},
   "outputs": [],
   "source": [
    "# Alternative 2: with open(), not need call close function\n",
    "with open('/Users/jacky/Documents/交大教學/Python講義4/txt/定風波.txt','r', encoding = 'utf-8') as f:\n",
    "    print(f.read())"
   ]
  },
  {
   "cell_type": "markdown",
   "metadata": {},
   "source": [
    "# Open for read"
   ]
  },
  {
   "cell_type": "markdown",
   "metadata": {},
   "source": [
    "- read()\n",
    "- read(int)\n",
    "- readline()\n",
    "- readlines()\n",
    "- seek()"
   ]
  },
  {
   "cell_type": "code",
   "execution_count": null,
   "metadata": {},
   "outputs": [],
   "source": [
    "# Read all contents\n",
    "file_path = '/Users/jacky/Documents/交大教學/Python講義4/txt/定風波.txt'\n",
    "with open(file_path, 'r', encoding = 'utf-8') as f:\n",
    "    foo = f.read()\n",
    "    print(foo)"
   ]
  },
  {
   "cell_type": "code",
   "execution_count": 4,
   "metadata": {},
   "outputs": [
    {
     "name": "stdout",
     "output_type": "stream",
     "text": [
      "蘇東坡\n"
     ]
    }
   ],
   "source": [
    "# Read 3 characters\n",
    "with open(file_path, 'r', encoding = 'utf-8') as f:\n",
    "    print(f.read(3))"
   ]
  },
  {
   "cell_type": "code",
   "execution_count": 5,
   "metadata": {},
   "outputs": [
    {
     "name": "stdout",
     "output_type": "stream",
     "text": [
      "莫聽穿林打葉聲，何妨吟嘯且徐行。\n",
      "竹杖芒鞋輕勝馬，誰怕？一蓑煙雨任平生。\n",
      "料峭春風吹酒醒，微冷，山頭斜照卻相迎。\n",
      "回首向來蕭瑟處，歸去，也無風雨也無晴。"
     ]
    }
   ],
   "source": [
    "# Read three lines\n",
    "with open(file_path, 'r', encoding = 'utf-8') as f:\n",
    "    f.readline()\n",
    "    print(f.readline(), end='')\n",
    "    print(f.readline(), end='')\n",
    "    print(f.readline(), end='')\n",
    "    print(f.readline(), end='')"
   ]
  },
  {
   "cell_type": "code",
   "execution_count": null,
   "metadata": {},
   "outputs": [],
   "source": [
    "# Read lines and use for-Loop print line by line\n",
    "with open(file_path, 'r', encoding = 'utf-8') as f:\n",
    "    lines = f.readlines()\n",
    "    for line in lines:\n",
    "        print(line, end='')"
   ]
  },
  {
   "cell_type": "code",
   "execution_count": 6,
   "metadata": {},
   "outputs": [
    {
     "name": "stdout",
     "output_type": "stream",
     "text": [
      "蘇東坡 定風波\n",
      "19\n",
      "定風波"
     ]
    }
   ],
   "source": [
    "# operate cursor\n",
    "with open(file_path, 'r', encoding = 'utf-8') as f:\n",
    "    print(f.read(7))\n",
    "    print(f.tell())  # 以字節為單位\n",
    "    f.seek(10,0)\n",
    "    print(f.read(3), end='')"
   ]
  },
  {
   "cell_type": "code",
   "execution_count": 7,
   "metadata": {},
   "outputs": [
    {
     "name": "stdout",
     "output_type": "stream",
     "text": [
      "utf-8: 12\n",
      "utf-16: 10\n",
      "big5: 8\n"
     ]
    }
   ],
   "source": [
    "'''\n",
    "字節的算法依照編碼方式不同而有所不同\n",
    "UTF-8: 每個字符佔用 1 至 4 個字節。\n",
    "UTF-16: 每個字符通常佔用 2 或 4 個字節。\n",
    "Big5: 每個中文字符通常佔用 2 個字節。\n",
    "'''\n",
    "\n",
    "text = \"你好世界\"  # 中文\n",
    "utf8_bytes = text.encode('utf-8')  # UTF-8 編碼\n",
    "utf16_bytes = text.encode('utf-16')  # UTF-16 編碼\n",
    "big5_bytes = text.encode('big5')  # Big5 編碼\n",
    "\n",
    "print('utf-8:', len(utf8_bytes))  # UTF-8 的字節數\n",
    "print('utf-16:', len(utf16_bytes))  # UTF-16 的字節數\n",
    "print('big5:', len(big5_bytes))  # Big5 的字節數"
   ]
  },
  {
   "cell_type": "markdown",
   "metadata": {},
   "source": [
    "# Open for write"
   ]
  },
  {
   "cell_type": "markdown",
   "metadata": {},
   "source": [
    "- 模式是 w, 檔案不存在，建新檔案，若檔案存在，則蓋掉原來的內容\n",
    "- 模式是 a, 檔案不存在，建新檔案，若檔案存在，則加在原來的內容之後\n",
    "- 模式是 x, 檔案不存在，建新檔案，若檔案存在，則error\n",
    "- write(str)\n",
    "- writelines(list)"
   ]
  },
  {
   "cell_type": "code",
   "execution_count": null,
   "metadata": {},
   "outputs": [],
   "source": [
    "# 參數 w, 檔案不存在，建新檔案，若檔案存在，則蓋掉原來的內容\n",
    "file_path = '/Users/jacky/Documents/交大教學/Python講義4/txt/demofile.txt'\n",
    "with open(file_path, 'w', encoding='utf-8') as f:\n",
    "    f.write(\"write first line\\n\")\n",
    "with open(file_path, 'r', encoding='utf-8') as f:\n",
    "    print(f.read())"
   ]
  },
  {
   "cell_type": "code",
   "execution_count": null,
   "metadata": {},
   "outputs": [],
   "source": [
    "# 參數 a, 檔案不存在，建新檔案，若檔案存在，則加在原來的內容之後\n",
    "with open(file_path, 'a', encoding='utf-8') as f:\n",
    "    f.write(\"append second line\\n\")\n",
    "with open(file_path, 'r', encoding='utf-8') as f:\n",
    "    print(f.read())"
   ]
  },
  {
   "cell_type": "code",
   "execution_count": null,
   "metadata": {},
   "outputs": [],
   "source": [
    "\n",
    "# write again use w\n",
    "with open(file_path, 'w', encoding='utf-8') as f:\n",
    "    f.write(\"write again. existed content has been cleared\\n\")\n",
    "with open(file_path, 'r', encoding='utf-8') as f:\n",
    "    print(f.read())"
   ]
  },
  {
   "cell_type": "code",
   "execution_count": 8,
   "metadata": {},
   "outputs": [
    {
     "name": "stdout",
     "output_type": "stream",
     "text": [
      "[Errno 17] File exists: '/Users/jacky/Documents/交大教學/Python講義4/txt/定風波.txt'\n",
      "\n",
      "File existed. It can not be open for write\n"
     ]
    }
   ],
   "source": [
    "# 參數 x, 檔案不存在，建新檔案，若檔案存在，則error\n",
    "try:\n",
    "    with open(file_path, 'x', encoding='utf-8') as f:\n",
    "        f.write('use x parameter\\n')    \n",
    "except FileExistsError as e:\n",
    "    print(e)\n",
    "    print()\n",
    "    print('File existed. It can not be open for write')\n",
    "    "
   ]
  },
  {
   "cell_type": "markdown",
   "metadata": {},
   "source": [
    "# Write strings to file"
   ]
  },
  {
   "cell_type": "code",
   "execution_count": 9,
   "metadata": {},
   "outputs": [
    {
     "name": "stdout",
     "output_type": "stream",
     "text": [
      "write first line\n",
      "\n"
     ]
    }
   ],
   "source": [
    "# write(str)\n",
    "file_path = '/Users/jacky/Documents/交大教學/Python講義4/txt/demofile.txt'\n",
    "with open(file_path, 'w', encoding='utf-8') as f:\n",
    "    f.write(\"write first line\\n\")\n",
    "with open(file_path, 'r', encoding='utf-8') as f:\n",
    "    print(f.read())"
   ]
  },
  {
   "cell_type": "code",
   "execution_count": null,
   "metadata": {},
   "outputs": [],
   "source": [
    "# writelines(list)\n",
    "contents = [['Hello', 'a', 'Great', 'World!'], \n",
    "            ['Hello\\t', 'a\\t', 'Great\\t', 'World!\\t'],\n",
    "            ['Hello\\n', 'a\\n', 'Great\\n', 'World!'],\n",
    "            ['Hello ', 'a ', 'Great ', 'World!'],\n",
    "            ]\n",
    "for content in contents:\n",
    "    with open(file_path, 'w', encoding='utf-8') as f:\n",
    "        f.writelines(content)\n",
    "    with open(file_path, 'r', encoding='utf-8') as f:\n",
    "        print(f.read())\n",
    "        print('-' * 30)"
   ]
  },
  {
   "cell_type": "markdown",
   "metadata": {},
   "source": [
    "# Lab"
   ]
  },
  {
   "cell_type": "markdown",
   "metadata": {},
   "source": [
    "Assume a file name ’demo_file.txt’\n",
    "1. Write ‘Apple’ and ‘Google’ to this file\n",
    "2. Read this file\n",
    "3. Append ‘ 小米’ and ‘三星’ to this file\n",
    "4. Read the file again"
   ]
  }
 ],
 "metadata": {
  "kernelspec": {
   "display_name": ".venv",
   "language": "python",
   "name": "python3"
  },
  "language_info": {
   "codemirror_mode": {
    "name": "ipython",
    "version": 3
   },
   "file_extension": ".py",
   "mimetype": "text/x-python",
   "name": "python",
   "nbconvert_exporter": "python",
   "pygments_lexer": "ipython3",
   "version": "3.13.0"
  }
 },
 "nbformat": 4,
 "nbformat_minor": 2
}
