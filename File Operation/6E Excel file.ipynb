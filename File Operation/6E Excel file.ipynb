{
 "cells": [
  {
   "cell_type": "markdown",
   "metadata": {},
   "source": [
    "# Excel file"
   ]
  },
  {
   "cell_type": "markdown",
   "metadata": {},
   "source": [
    "# Read Excel file"
   ]
  },
  {
   "cell_type": "markdown",
   "metadata": {},
   "source": [
    "- doc link:\n",
    "https://docs.google.com/spreadsheets/d/19QFPZB-GXKes_UMhlsZfJFxQeWvNpV5C/edit?usp=sharing&ouid=111843019890099524984&rtpof=true&sd=true"
   ]
  },
  {
   "cell_type": "code",
   "execution_count": null,
   "metadata": {},
   "outputs": [],
   "source": [
    "# 找出 半導體與AI01班，林志偉講師的上課日期\n",
    "\n",
    "from pathlib import Path\n",
    "import openpyxl\n",
    "\n",
    "# set path\n",
    "file_path = Path.home() / 'documents' / '交大教學' / 'python講義4' / 'xls' / '職訓班課表.xlsx'\n",
    "#  讀取Excel檔案\n",
    "workbook = openpyxl.load_workbook(file_path)\n",
    "# 取得工作表\n",
    "# sheet = workbook.worksheets[0]  # by sheet index\n",
    "sheet = workbook['半導體與AI01']  # by sheet name\n",
    "# 取得總行、列數\n",
    "rows = sheet.max_row\n",
    "columns = sheet.max_column\n",
    "print(f'{rows = }, {columns = }')\n",
    "# 取得指定儲存格\n",
    "C4 = sheet['C4'].value\n",
    "print(f'{C4 = }')\n",
    "# 顯示 cell資料\n",
    "for i in range(1, rows + 1):\n",
    "    teacher_name = sheet.cell(i, 12).value\n",
    "    if ( teacher_name is not None and '林志偉' in teacher_name):\n",
    "        print(sheet.cell(i, 1).value)\n"
   ]
  },
  {
   "cell_type": "code",
   "execution_count": null,
   "metadata": {},
   "outputs": [],
   "source": [
    "# Read class.xlsx\n",
    "import openpyxl\n",
    "from pathlib import Path\n",
    "file_path = Path.home() / 'documents' / '交大教學' / 'python講義4' / 'xls' / 'class.xlsx'\n",
    "workbook = openpyxl.load_workbook(file_path)\n",
    "sheet = workbook.worksheets[0]\n",
    "foo = sheet['A1'].value\n",
    "num_of_column = sheet.max_column\n",
    "num_of_row = sheet.max_row\n",
    "for i in range(1, num_of_row + 1):\n",
    "    for j in range(1, num_of_column + 1):\n",
    "        print(sheet.cell(row=i, column=j).value, end = \"   \")\n",
    "    print()"
   ]
  },
  {
   "cell_type": "markdown",
   "metadata": {},
   "source": [
    "# Write Excel file"
   ]
  },
  {
   "cell_type": "code",
   "execution_count": 18,
   "metadata": {},
   "outputs": [],
   "source": [
    "# ‘半導體與AI01’班，put string ‘date time’ in A1 cell\n",
    "from pathlib import Path\n",
    "import openpyxl\n",
    "\n",
    "# set path\n",
    "file_path = Path.home() / 'documents' / '交大教學' / 'python講義4' / 'xls' / '職訓班課表.xlsx'\n",
    "\n",
    "#  get Excel檔案\n",
    "workbook = openpyxl.load_workbook(file_path)\n",
    "\n",
    "# 取得工作表\n",
    "sheet = workbook['半導體與AI01']  # by sheet name\n",
    "\n",
    "# set value in a cell\n",
    "sheet['A1'] = 'date & time'\n",
    "\n",
    "# save file\n",
    "workbook.save(file_path)\n"
   ]
  },
  {
   "cell_type": "code",
   "execution_count": 17,
   "metadata": {},
   "outputs": [],
   "source": [
    "# 製作第一次期中考成績單\n",
    "from pathlib import Path\n",
    "import openpyxl\n",
    "  \n",
    "# 建立一個空的工作簿     \n",
    "workbook=openpyxl.Workbook()\n",
    "file_path = Path.home() / 'documents' / '交大教學' / 'python講義4' / 'xls' / 'score.xlsx'\n",
    "\n",
    "# 取得第 1 個工作表\n",
    "sheet = workbook.worksheets[0]\n",
    "sheet.title = '一年甲班'\n",
    "\n",
    "# 以儲存格位置寫入資料\n",
    "sheet['A1'] = '第一次期中考成績單'\n",
    "\n",
    "# 以串列寫入資料\n",
    "title=['座號', '姓名', '國文', '英文', '數學']\n",
    "sheet.append(title)  \n",
    "\n",
    "datas=[[1, '葉大雄', 65, 62, 40],\n",
    "       [2, '陳靜香', 85, 90, 87],\n",
    "       [3, '王聰明', 92, 90, 95]]\n",
    "for data in datas:\n",
    "    sheet.append(data)\n",
    "\n",
    "# 儲存檔案    \n",
    "workbook.save(file_path)\n"
   ]
  }
 ],
 "metadata": {
  "kernelspec": {
   "display_name": ".venv",
   "language": "python",
   "name": "python3"
  },
  "language_info": {
   "codemirror_mode": {
    "name": "ipython",
    "version": 3
   },
   "file_extension": ".py",
   "mimetype": "text/x-python",
   "name": "python",
   "nbconvert_exporter": "python",
   "pygments_lexer": "ipython3",
   "version": "3.13.0"
  }
 },
 "nbformat": 4,
 "nbformat_minor": 2
}
