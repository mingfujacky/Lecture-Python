{
  "cells": [
    {
      "cell_type": "code",
      "execution_count": 1,
      "metadata": {
        "colab": {
          "base_uri": "https://localhost:8080/"
        },
        "id": "JozQdM1rcSB6",
        "outputId": "9eaf41e5-a274-4577-c331-0d69499c4315"
      },
      "outputs": [
        {
          "name": "stdout",
          "output_type": "stream",
          "text": [
            "Collecting pyspark\n",
            "  Downloading pyspark-3.5.3.tar.gz (317.3 MB)\n",
            "\u001b[2K     \u001b[90m━━━━━━━━━━━━━━━━━━━━━━━━━━━━━━━━━━━━━━\u001b[0m \u001b[32m317.3/317.3 MB\u001b[0m \u001b[31m42.9 MB/s\u001b[0m eta \u001b[36m0:00:00\u001b[0m00:01\u001b[0m00:01\u001b[0m\n",
            "\u001b[?25h  Installing build dependencies ... \u001b[?25ldone\n",
            "\u001b[?25h  Getting requirements to build wheel ... \u001b[?25ldone\n",
            "\u001b[?25h  Preparing metadata (pyproject.toml) ... \u001b[?25ldone\n",
            "\u001b[?25hCollecting py4j==0.10.9.7 (from pyspark)\n",
            "  Downloading py4j-0.10.9.7-py2.py3-none-any.whl.metadata (1.5 kB)\n",
            "Downloading py4j-0.10.9.7-py2.py3-none-any.whl (200 kB)\n",
            "Building wheels for collected packages: pyspark\n",
            "  Building wheel for pyspark (pyproject.toml) ... \u001b[?25ldone\n",
            "\u001b[?25h  Created wheel for pyspark: filename=pyspark-3.5.3-py2.py3-none-any.whl size=317840626 sha256=3bb1c2e50136d402fb359582d8568265e084266d8e086cedc25785b55bbbafb9\n",
            "  Stored in directory: /Users/jacky/Library/Caches/pip/wheels/07/a0/a3/d24c94bf043ab5c7e38c30491199a2a11fef8d2584e6df7fb7\n",
            "Successfully built pyspark\n",
            "Installing collected packages: py4j, pyspark\n",
            "Successfully installed py4j-0.10.9.7 pyspark-3.5.3\n",
            "Note: you may need to restart the kernel to use updated packages.\n"
          ]
        }
      ],
      "source": [
        "pip install pyspark\n"
      ]
    },
    {
      "cell_type": "code",
      "execution_count": 2,
      "metadata": {
        "id": "j0X_2G2ggD6K"
      },
      "outputs": [],
      "source": [
        "from pyspark.sql import SparkSession"
      ]
    },
    {
      "cell_type": "code",
      "execution_count": 3,
      "metadata": {
        "id": "J0NWIwd_gZDl"
      },
      "outputs": [
        {
          "name": "stderr",
          "output_type": "stream",
          "text": [
            "The operation couldn’t be completed. Unable to locate a Java Runtime.\n",
            "Please visit http://www.java.com for information on installing Java.\n",
            "\n",
            "/Users/jacky/Documents/交大教學/ipynb_demo/.venv/lib/python3.12/site-packages/pyspark/bin/spark-class: line 97: CMD: bad array subscript\n",
            "head: illegal line count -- -1\n"
          ]
        },
        {
          "ename": "PySparkRuntimeError",
          "evalue": "[JAVA_GATEWAY_EXITED] Java gateway process exited before sending its port number.",
          "output_type": "error",
          "traceback": [
            "\u001b[0;31m---------------------------------------------------------------------------\u001b[0m",
            "\u001b[0;31mPySparkRuntimeError\u001b[0m                       Traceback (most recent call last)",
            "Cell \u001b[0;32mIn[3], line 1\u001b[0m\n\u001b[0;32m----> 1\u001b[0m spark \u001b[38;5;241m=\u001b[39m \u001b[43mSparkSession\u001b[49m\u001b[38;5;241;43m.\u001b[39;49m\u001b[43mbuilder\u001b[49m\u001b[38;5;241;43m.\u001b[39;49m\u001b[43mmaster\u001b[49m\u001b[43m(\u001b[49m\u001b[38;5;124;43m\"\u001b[39;49m\u001b[38;5;124;43mlocal[*]\u001b[39;49m\u001b[38;5;124;43m\"\u001b[39;49m\u001b[43m)\u001b[49m\u001b[38;5;241;43m.\u001b[39;49m\u001b[43mgetOrCreate\u001b[49m\u001b[43m(\u001b[49m\u001b[43m)\u001b[49m\n",
            "File \u001b[0;32m~/Documents/交大教學/ipynb_demo/.venv/lib/python3.12/site-packages/pyspark/sql/session.py:497\u001b[0m, in \u001b[0;36mSparkSession.Builder.getOrCreate\u001b[0;34m(self)\u001b[0m\n\u001b[1;32m    495\u001b[0m     sparkConf\u001b[38;5;241m.\u001b[39mset(key, value)\n\u001b[1;32m    496\u001b[0m \u001b[38;5;66;03m# This SparkContext may be an existing one.\u001b[39;00m\n\u001b[0;32m--> 497\u001b[0m sc \u001b[38;5;241m=\u001b[39m \u001b[43mSparkContext\u001b[49m\u001b[38;5;241;43m.\u001b[39;49m\u001b[43mgetOrCreate\u001b[49m\u001b[43m(\u001b[49m\u001b[43msparkConf\u001b[49m\u001b[43m)\u001b[49m\n\u001b[1;32m    498\u001b[0m \u001b[38;5;66;03m# Do not update `SparkConf` for existing `SparkContext`, as it's shared\u001b[39;00m\n\u001b[1;32m    499\u001b[0m \u001b[38;5;66;03m# by all sessions.\u001b[39;00m\n\u001b[1;32m    500\u001b[0m session \u001b[38;5;241m=\u001b[39m SparkSession(sc, options\u001b[38;5;241m=\u001b[39m\u001b[38;5;28mself\u001b[39m\u001b[38;5;241m.\u001b[39m_options)\n",
            "File \u001b[0;32m~/Documents/交大教學/ipynb_demo/.venv/lib/python3.12/site-packages/pyspark/context.py:515\u001b[0m, in \u001b[0;36mSparkContext.getOrCreate\u001b[0;34m(cls, conf)\u001b[0m\n\u001b[1;32m    513\u001b[0m \u001b[38;5;28;01mwith\u001b[39;00m SparkContext\u001b[38;5;241m.\u001b[39m_lock:\n\u001b[1;32m    514\u001b[0m     \u001b[38;5;28;01mif\u001b[39;00m SparkContext\u001b[38;5;241m.\u001b[39m_active_spark_context \u001b[38;5;129;01mis\u001b[39;00m \u001b[38;5;28;01mNone\u001b[39;00m:\n\u001b[0;32m--> 515\u001b[0m         \u001b[43mSparkContext\u001b[49m\u001b[43m(\u001b[49m\u001b[43mconf\u001b[49m\u001b[38;5;241;43m=\u001b[39;49m\u001b[43mconf\u001b[49m\u001b[43m \u001b[49m\u001b[38;5;129;43;01mor\u001b[39;49;00m\u001b[43m \u001b[49m\u001b[43mSparkConf\u001b[49m\u001b[43m(\u001b[49m\u001b[43m)\u001b[49m\u001b[43m)\u001b[49m\n\u001b[1;32m    516\u001b[0m     \u001b[38;5;28;01massert\u001b[39;00m SparkContext\u001b[38;5;241m.\u001b[39m_active_spark_context \u001b[38;5;129;01mis\u001b[39;00m \u001b[38;5;129;01mnot\u001b[39;00m \u001b[38;5;28;01mNone\u001b[39;00m\n\u001b[1;32m    517\u001b[0m     \u001b[38;5;28;01mreturn\u001b[39;00m SparkContext\u001b[38;5;241m.\u001b[39m_active_spark_context\n",
            "File \u001b[0;32m~/Documents/交大教學/ipynb_demo/.venv/lib/python3.12/site-packages/pyspark/context.py:201\u001b[0m, in \u001b[0;36mSparkContext.__init__\u001b[0;34m(self, master, appName, sparkHome, pyFiles, environment, batchSize, serializer, conf, gateway, jsc, profiler_cls, udf_profiler_cls, memory_profiler_cls)\u001b[0m\n\u001b[1;32m    195\u001b[0m \u001b[38;5;28;01mif\u001b[39;00m gateway \u001b[38;5;129;01mis\u001b[39;00m \u001b[38;5;129;01mnot\u001b[39;00m \u001b[38;5;28;01mNone\u001b[39;00m \u001b[38;5;129;01mand\u001b[39;00m gateway\u001b[38;5;241m.\u001b[39mgateway_parameters\u001b[38;5;241m.\u001b[39mauth_token \u001b[38;5;129;01mis\u001b[39;00m \u001b[38;5;28;01mNone\u001b[39;00m:\n\u001b[1;32m    196\u001b[0m     \u001b[38;5;28;01mraise\u001b[39;00m \u001b[38;5;167;01mValueError\u001b[39;00m(\n\u001b[1;32m    197\u001b[0m         \u001b[38;5;124m\"\u001b[39m\u001b[38;5;124mYou are trying to pass an insecure Py4j gateway to Spark. This\u001b[39m\u001b[38;5;124m\"\u001b[39m\n\u001b[1;32m    198\u001b[0m         \u001b[38;5;124m\"\u001b[39m\u001b[38;5;124m is not allowed as it is a security risk.\u001b[39m\u001b[38;5;124m\"\u001b[39m\n\u001b[1;32m    199\u001b[0m     )\n\u001b[0;32m--> 201\u001b[0m \u001b[43mSparkContext\u001b[49m\u001b[38;5;241;43m.\u001b[39;49m\u001b[43m_ensure_initialized\u001b[49m\u001b[43m(\u001b[49m\u001b[38;5;28;43mself\u001b[39;49m\u001b[43m,\u001b[49m\u001b[43m \u001b[49m\u001b[43mgateway\u001b[49m\u001b[38;5;241;43m=\u001b[39;49m\u001b[43mgateway\u001b[49m\u001b[43m,\u001b[49m\u001b[43m \u001b[49m\u001b[43mconf\u001b[49m\u001b[38;5;241;43m=\u001b[39;49m\u001b[43mconf\u001b[49m\u001b[43m)\u001b[49m\n\u001b[1;32m    202\u001b[0m \u001b[38;5;28;01mtry\u001b[39;00m:\n\u001b[1;32m    203\u001b[0m     \u001b[38;5;28mself\u001b[39m\u001b[38;5;241m.\u001b[39m_do_init(\n\u001b[1;32m    204\u001b[0m         master,\n\u001b[1;32m    205\u001b[0m         appName,\n\u001b[0;32m   (...)\u001b[0m\n\u001b[1;32m    215\u001b[0m         memory_profiler_cls,\n\u001b[1;32m    216\u001b[0m     )\n",
            "File \u001b[0;32m~/Documents/交大教學/ipynb_demo/.venv/lib/python3.12/site-packages/pyspark/context.py:436\u001b[0m, in \u001b[0;36mSparkContext._ensure_initialized\u001b[0;34m(cls, instance, gateway, conf)\u001b[0m\n\u001b[1;32m    434\u001b[0m \u001b[38;5;28;01mwith\u001b[39;00m SparkContext\u001b[38;5;241m.\u001b[39m_lock:\n\u001b[1;32m    435\u001b[0m     \u001b[38;5;28;01mif\u001b[39;00m \u001b[38;5;129;01mnot\u001b[39;00m SparkContext\u001b[38;5;241m.\u001b[39m_gateway:\n\u001b[0;32m--> 436\u001b[0m         SparkContext\u001b[38;5;241m.\u001b[39m_gateway \u001b[38;5;241m=\u001b[39m gateway \u001b[38;5;129;01mor\u001b[39;00m \u001b[43mlaunch_gateway\u001b[49m\u001b[43m(\u001b[49m\u001b[43mconf\u001b[49m\u001b[43m)\u001b[49m\n\u001b[1;32m    437\u001b[0m         SparkContext\u001b[38;5;241m.\u001b[39m_jvm \u001b[38;5;241m=\u001b[39m SparkContext\u001b[38;5;241m.\u001b[39m_gateway\u001b[38;5;241m.\u001b[39mjvm\n\u001b[1;32m    439\u001b[0m     \u001b[38;5;28;01mif\u001b[39;00m instance:\n",
            "File \u001b[0;32m~/Documents/交大教學/ipynb_demo/.venv/lib/python3.12/site-packages/pyspark/java_gateway.py:107\u001b[0m, in \u001b[0;36mlaunch_gateway\u001b[0;34m(conf, popen_kwargs)\u001b[0m\n\u001b[1;32m    104\u001b[0m     time\u001b[38;5;241m.\u001b[39msleep(\u001b[38;5;241m0.1\u001b[39m)\n\u001b[1;32m    106\u001b[0m \u001b[38;5;28;01mif\u001b[39;00m \u001b[38;5;129;01mnot\u001b[39;00m os\u001b[38;5;241m.\u001b[39mpath\u001b[38;5;241m.\u001b[39misfile(conn_info_file):\n\u001b[0;32m--> 107\u001b[0m     \u001b[38;5;28;01mraise\u001b[39;00m PySparkRuntimeError(\n\u001b[1;32m    108\u001b[0m         error_class\u001b[38;5;241m=\u001b[39m\u001b[38;5;124m\"\u001b[39m\u001b[38;5;124mJAVA_GATEWAY_EXITED\u001b[39m\u001b[38;5;124m\"\u001b[39m,\n\u001b[1;32m    109\u001b[0m         message_parameters\u001b[38;5;241m=\u001b[39m{},\n\u001b[1;32m    110\u001b[0m     )\n\u001b[1;32m    112\u001b[0m \u001b[38;5;28;01mwith\u001b[39;00m \u001b[38;5;28mopen\u001b[39m(conn_info_file, \u001b[38;5;124m\"\u001b[39m\u001b[38;5;124mrb\u001b[39m\u001b[38;5;124m\"\u001b[39m) \u001b[38;5;28;01mas\u001b[39;00m info:\n\u001b[1;32m    113\u001b[0m     gateway_port \u001b[38;5;241m=\u001b[39m read_int(info)\n",
            "\u001b[0;31mPySparkRuntimeError\u001b[0m: [JAVA_GATEWAY_EXITED] Java gateway process exited before sending its port number."
          ]
        }
      ],
      "source": [
        "spark = SparkSession.builder.master(\"local[*]\").getOrCreate()"
      ]
    },
    {
      "cell_type": "code",
      "execution_count": 4,
      "metadata": {
        "colab": {
          "base_uri": "https://localhost:8080/",
          "height": 219
        },
        "id": "03BmYUgvgzkR",
        "outputId": "8aa91282-7451-4cdc-91de-367cc4603851"
      },
      "outputs": [
        {
          "ename": "NameError",
          "evalue": "name 'spark' is not defined",
          "output_type": "error",
          "traceback": [
            "\u001b[0;31m---------------------------------------------------------------------------\u001b[0m",
            "\u001b[0;31mNameError\u001b[0m                                 Traceback (most recent call last)",
            "Cell \u001b[0;32mIn[4], line 1\u001b[0m\n\u001b[0;32m----> 1\u001b[0m \u001b[43mspark\u001b[49m\n",
            "\u001b[0;31mNameError\u001b[0m: name 'spark' is not defined"
          ]
        }
      ],
      "source": [
        "spark"
      ]
    },
    {
      "cell_type": "code",
      "execution_count": 5,
      "metadata": {
        "id": "PdJRHEoOg3Bc"
      },
      "outputs": [],
      "source": [
        "from pyspark.sql.functions import col"
      ]
    },
    {
      "cell_type": "code",
      "execution_count": 6,
      "metadata": {
        "id": "GwDxXwACEcGE"
      },
      "outputs": [],
      "source": [
        "df = spark.read.csv(\"/content/drive/MyDrive/Spark/weatherAUS.csv\",header=True,inferSchema=True)\n"
      ]
    },
    {
      "cell_type": "code",
      "execution_count": 7,
      "metadata": {
        "colab": {
          "base_uri": "https://localhost:8080/"
        },
        "id": "sCLzfQQL2se_",
        "outputId": "47a7c344-983f-4787-853a-5f74e696c789"
      },
      "outputs": [
        {
          "data": {
            "text/plain": [
              "DataFrame[Date: string, Location: string, MinTemp: string, MaxTemp: string, Rainfall: string, WindGustDir: string, WindGustSpeed: string, WindDir9am: string, WindDir3pm: string, WindSpeed9am: string, WindSpeed3pm: string, Humidity9am: string, Humidity3pm: string, Pressure9am: string, Pressure3pm: string, Temp9am: string, Temp3pm: string, RainToday: string, RainTomorrow: string]"
            ]
          },
          "execution_count": 7,
          "metadata": {},
          "output_type": "execute_result"
        }
      ],
      "source": [
        "df"
      ]
    },
    {
      "cell_type": "code",
      "execution_count": 10,
      "metadata": {
        "colab": {
          "base_uri": "https://localhost:8080/"
        },
        "id": "Jh80wfEc4BZN",
        "outputId": "f42ce7b2-06fb-4dc5-fee3-bbb27cc845a5"
      },
      "outputs": [
        {
          "name": "stdout",
          "output_type": "stream",
          "text": [
            "+---------+--------+-------+-------+--------+-----------+-------------+----------+----------+------------+------------+-----------+-----------+-----------+-----------+-------+-------+---------+------------+\n",
            "|     Date|Location|MinTemp|MaxTemp|Rainfall|WindGustDir|WindGustSpeed|WindDir9am|WindDir3pm|WindSpeed9am|WindSpeed3pm|Humidity9am|Humidity3pm|Pressure9am|Pressure3pm|Temp9am|Temp3pm|RainToday|RainTomorrow|\n",
            "+---------+--------+-------+-------+--------+-----------+-------------+----------+----------+------------+------------+-----------+-----------+-----------+-----------+-------+-------+---------+------------+\n",
            "|12/1/2008|  Albury|   13.4|   22.9|     0.6|          W|           44|         W|       WNW|          20|          24|         71|         22|     1007.7|     1007.1|   16.9|   21.8|       No|          No|\n",
            "|12/2/2008|  Albury|    7.4|   25.1|       0|        WNW|           44|       NNW|       WSW|           4|          22|         44|         25|     1010.6|     1007.8|   17.2|   24.3|       No|          No|\n",
            "|12/3/2008|  Albury|   12.9|   25.7|       0|        WSW|           46|         W|       WSW|          19|          26|         38|         30|     1007.6|     1008.7|     21|   23.2|       No|          No|\n",
            "|12/4/2008|  Albury|    9.2|     28|       0|         NE|           24|        SE|         E|          11|           9|         45|         16|     1017.6|     1012.8|   18.1|   26.5|       No|          No|\n",
            "|12/5/2008|  Albury|   17.5|   32.3|       1|          W|           41|       ENE|        NW|           7|          20|         82|         33|     1010.8|       1006|   17.8|   29.7|       No|          No|\n",
            "+---------+--------+-------+-------+--------+-----------+-------------+----------+----------+------------+------------+-----------+-----------+-----------+-----------+-------+-------+---------+------------+\n",
            "\n"
          ]
        }
      ],
      "source": [
        "df.limit(5).show()"
      ]
    },
    {
      "cell_type": "code",
      "execution_count": 9,
      "metadata": {
        "colab": {
          "base_uri": "https://localhost:8080/"
        },
        "id": "tgbaIBuN4pus",
        "outputId": "c14d44a4-fbd0-4bc1-e1d3-1ddcb9d4ab40"
      },
      "outputs": [
        {
          "name": "stdout",
          "output_type": "stream",
          "text": [
            "+----------+--------+-------+-------+--------+-----------+-------------+----------+----------+------------+------------+-----------+-----------+-----------+-----------+-------+-------+---------+------------+\n",
            "|      Date|Location|MinTemp|MaxTemp|Rainfall|WindGustDir|WindGustSpeed|WindDir9am|WindDir3pm|WindSpeed9am|WindSpeed3pm|Humidity9am|Humidity3pm|Pressure9am|Pressure3pm|Temp9am|Temp3pm|RainToday|RainTomorrow|\n",
            "+----------+--------+-------+-------+--------+-----------+-------------+----------+----------+------------+------------+-----------+-----------+-----------+-----------+-------+-------+---------+------------+\n",
            "| 12/1/2008|  Albury|   13.4|   22.9|     0.6|          W|           44|         W|       WNW|          20|          24|         71|         22|     1007.7|     1007.1|   16.9|   21.8|       No|          No|\n",
            "| 12/2/2008|  Albury|    7.4|   25.1|       0|        WNW|           44|       NNW|       WSW|           4|          22|         44|         25|     1010.6|     1007.8|   17.2|   24.3|       No|          No|\n",
            "| 12/3/2008|  Albury|   12.9|   25.7|       0|        WSW|           46|         W|       WSW|          19|          26|         38|         30|     1007.6|     1008.7|     21|   23.2|       No|          No|\n",
            "| 12/4/2008|  Albury|    9.2|     28|       0|         NE|           24|        SE|         E|          11|           9|         45|         16|     1017.6|     1012.8|   18.1|   26.5|       No|          No|\n",
            "| 12/5/2008|  Albury|   17.5|   32.3|       1|          W|           41|       ENE|        NW|           7|          20|         82|         33|     1010.8|       1006|   17.8|   29.7|       No|          No|\n",
            "| 12/6/2008|  Albury|   14.6|   29.7|     0.2|        WNW|           56|         W|         W|          19|          24|         55|         23|     1009.2|     1005.4|   20.6|   28.9|       No|          No|\n",
            "| 12/7/2008|  Albury|   14.3|     25|       0|          W|           50|        SW|         W|          20|          24|         49|         19|     1009.6|     1008.2|   18.1|   24.6|       No|          No|\n",
            "| 12/8/2008|  Albury|    7.7|   26.7|       0|          W|           35|       SSE|         W|           6|          17|         48|         19|     1013.4|     1010.1|   16.3|   25.5|       No|          No|\n",
            "| 12/9/2008|  Albury|    9.7|   31.9|       0|        NNW|           80|        SE|        NW|           7|          28|         42|          9|     1008.9|     1003.6|   18.3|   30.2|       No|         Yes|\n",
            "|12/10/2008|  Albury|   13.1|   30.1|     1.4|          W|           28|         S|       SSE|          15|          11|         58|         27|       1007|     1005.7|   20.1|   28.2|      Yes|          No|\n",
            "|12/11/2008|  Albury|   13.4|   30.4|       0|          N|           30|       SSE|       ESE|          17|           6|         48|         22|     1011.8|     1008.7|   20.4|   28.8|       No|         Yes|\n",
            "|12/12/2008|  Albury|   15.9|   21.7|     2.2|        NNE|           31|        NE|       ENE|          15|          13|         89|         91|     1010.5|     1004.2|   15.9|     17|      Yes|         Yes|\n",
            "|12/13/2008|  Albury|   15.9|   18.6|    15.6|          W|           61|       NNW|       NNW|          28|          28|         76|         93|      994.3|        993|   17.4|   15.8|      Yes|         Yes|\n",
            "|12/14/2008|  Albury|   12.6|     21|     3.6|         SW|           44|         W|       SSW|          24|          20|         65|         43|     1001.2|     1001.8|   15.8|   19.8|      Yes|          No|\n",
            "|12/15/2008|  Albury|    8.4|   24.6|       0|         NA|           NA|         S|       WNW|           4|          30|         57|         32|     1009.7|     1008.7|   15.9|   23.5|       No|          NA|\n",
            "|12/16/2008|  Albury|    9.8|   27.7|      NA|        WNW|           50|        NA|       WNW|          NA|          22|         50|         28|     1013.4|     1010.3|   17.3|   26.2|       NA|          No|\n",
            "|12/17/2008|  Albury|   14.1|   20.9|       0|        ENE|           22|       SSW|         E|          11|           9|         69|         82|     1012.2|     1010.4|   17.2|   18.1|       No|         Yes|\n",
            "|12/18/2008|  Albury|   13.5|   22.9|    16.8|          W|           63|         N|       WNW|           6|          20|         80|         65|     1005.8|     1002.2|     18|   21.5|      Yes|         Yes|\n",
            "|12/19/2008|  Albury|   11.2|   22.5|    10.6|        SSE|           43|       WSW|        SW|          24|          17|         47|         32|     1009.4|     1009.7|   15.5|     21|      Yes|          No|\n",
            "|12/20/2008|  Albury|    9.8|   25.6|       0|        SSE|           26|        SE|       NNW|          17|           6|         45|         26|     1019.2|     1017.1|   15.8|   23.2|       No|          No|\n",
            "+----------+--------+-------+-------+--------+-----------+-------------+----------+----------+------------+------------+-----------+-----------+-----------+-----------+-------+-------+---------+------------+\n",
            "only showing top 20 rows\n",
            "\n"
          ]
        }
      ],
      "source": [
        "df.select(\"*\").show()"
      ]
    },
    {
      "cell_type": "code",
      "execution_count": 14,
      "metadata": {
        "colab": {
          "base_uri": "https://localhost:8080/"
        },
        "id": "CZpFiLvg8kt0",
        "outputId": "c36a2230-6fe5-4320-a8b4-e3535dfa9f58"
      },
      "outputs": [
        {
          "name": "stdout",
          "output_type": "stream",
          "text": [
            "root\n",
            " |-- Date: string (nullable = true)\n",
            " |-- Location: string (nullable = true)\n",
            " |-- MinTemp: string (nullable = true)\n",
            " |-- MaxTemp: string (nullable = true)\n",
            " |-- Rainfall: string (nullable = true)\n",
            " |-- WindGustDir: string (nullable = true)\n",
            " |-- WindGustSpeed: string (nullable = true)\n",
            " |-- WindDir9am: string (nullable = true)\n",
            " |-- WindDir3pm: string (nullable = true)\n",
            " |-- WindSpeed9am: string (nullable = true)\n",
            " |-- WindSpeed3pm: string (nullable = true)\n",
            " |-- Humidity9am: string (nullable = true)\n",
            " |-- Humidity3pm: string (nullable = true)\n",
            " |-- Pressure9am: string (nullable = true)\n",
            " |-- Pressure3pm: string (nullable = true)\n",
            " |-- Temp9am: string (nullable = true)\n",
            " |-- Temp3pm: string (nullable = true)\n",
            " |-- RainToday: string (nullable = true)\n",
            " |-- RainTomorrow: string (nullable = true)\n",
            "\n"
          ]
        }
      ],
      "source": [
        "df.printSchema()"
      ]
    },
    {
      "cell_type": "code",
      "execution_count": 15,
      "metadata": {
        "colab": {
          "base_uri": "https://localhost:8080/"
        },
        "id": "yoZCU_vm-RXQ",
        "outputId": "c3f8e2ae-9fee-4ec6-8f7c-eb571bf98639"
      },
      "outputs": [
        {
          "name": "stdout",
          "output_type": "stream",
          "text": [
            "+---------+--------+-------+-------+--------+-----------+-------------+----------+----------+------------+------------+-----------+-----------+-----------+-----------+-------+-------+---------+------------+\n",
            "|Date     |Location|MinTemp|MaxTemp|Rainfall|WindGustDir|WindGustSpeed|WindDir9am|WindDir3pm|WindSpeed9am|WindSpeed3pm|Humidity9am|Humidity3pm|Pressure9am|Pressure3pm|Temp9am|Temp3pm|RainToday|RainTomorrow|\n",
            "+---------+--------+-------+-------+--------+-----------+-------------+----------+----------+------------+------------+-----------+-----------+-----------+-----------+-------+-------+---------+------------+\n",
            "|12/1/2008|Albury  |13.4   |22.9   |0.6     |W          |44           |W         |WNW       |20          |24          |71         |22         |1007.7     |1007.1     |16.9   |21.8   |No       |No          |\n",
            "|12/2/2008|Albury  |7.4    |25.1   |0       |WNW        |44           |NNW       |WSW       |4           |22          |44         |25         |1010.6     |1007.8     |17.2   |24.3   |No       |No          |\n",
            "|12/3/2008|Albury  |12.9   |25.7   |0       |WSW        |46           |W         |WSW       |19          |26          |38         |30         |1007.6     |1008.7     |21     |23.2   |No       |No          |\n",
            "|12/4/2008|Albury  |9.2    |28     |0       |NE         |24           |SE        |E         |11          |9           |45         |16         |1017.6     |1012.8     |18.1   |26.5   |No       |No          |\n",
            "+---------+--------+-------+-------+--------+-----------+-------------+----------+----------+------------+------------+-----------+-----------+-----------+-----------+-------+-------+---------+------------+\n",
            "only showing top 4 rows\n",
            "\n"
          ]
        }
      ],
      "source": [
        "df.show(4,False)"
      ]
    },
    {
      "cell_type": "code",
      "execution_count": 16,
      "metadata": {
        "colab": {
          "base_uri": "https://localhost:8080/"
        },
        "id": "GndHiV-6-Xvf",
        "outputId": "d1d2429d-abcd-4993-f627-42db4f1adec1"
      },
      "outputs": [
        {
          "data": {
            "text/plain": [
              "145460"
            ]
          },
          "execution_count": 16,
          "metadata": {},
          "output_type": "execute_result"
        }
      ],
      "source": [
        "df.count()\n"
      ]
    },
    {
      "cell_type": "code",
      "execution_count": 18,
      "metadata": {
        "colab": {
          "base_uri": "https://localhost:8080/"
        },
        "id": "ZZRDu0_8IRis",
        "outputId": "8e9aea44-5f94-4be9-842c-a48d38a57d10"
      },
      "outputs": [
        {
          "name": "stdout",
          "output_type": "stream",
          "text": [
            "+---------+--------+--------+\n",
            "|     Date|Location|Rainfall|\n",
            "+---------+--------+--------+\n",
            "|12/1/2008|  Albury|     0.6|\n",
            "|12/2/2008|  Albury|       0|\n",
            "|12/3/2008|  Albury|       0|\n",
            "|12/4/2008|  Albury|       0|\n",
            "|12/5/2008|  Albury|       1|\n",
            "+---------+--------+--------+\n",
            "only showing top 5 rows\n",
            "\n"
          ]
        }
      ],
      "source": [
        "df.select(\"Date\", \"Location\", \"Rainfall\").show(5)\n"
      ]
    },
    {
      "cell_type": "code",
      "execution_count": 21,
      "metadata": {
        "colab": {
          "base_uri": "https://localhost:8080/"
        },
        "id": "Xd9AuEXQMO1y",
        "outputId": "09ff8caa-e9d0-45b0-ed14-8b2080d37bae"
      },
      "outputs": [
        {
          "data": {
            "text/plain": [
              "['Date',\n",
              " 'Location',\n",
              " 'MinTemp',\n",
              " 'MaxTemp',\n",
              " 'Rainfall',\n",
              " 'WindGustDir',\n",
              " 'WindGustSpeed',\n",
              " 'WindDir9am',\n",
              " 'WindDir3pm',\n",
              " 'WindSpeed9am',\n",
              " 'WindSpeed3pm',\n",
              " 'Humidity9am',\n",
              " 'Humidity3pm',\n",
              " 'Pressure9am',\n",
              " 'Pressure3pm',\n",
              " 'Temp9am',\n",
              " 'Temp3pm',\n",
              " 'RainToday',\n",
              " 'RainTomorrow']"
            ]
          },
          "execution_count": 21,
          "metadata": {},
          "output_type": "execute_result"
        }
      ],
      "source": [
        "df.columns"
      ]
    },
    {
      "cell_type": "code",
      "execution_count": 23,
      "metadata": {
        "colab": {
          "base_uri": "https://localhost:8080/"
        },
        "id": "W4i5AhoVMOzN",
        "outputId": "1502f8aa-b8de-4a2f-b202-3a77737260d6"
      },
      "outputs": [
        {
          "name": "stdout",
          "output_type": "stream",
          "text": [
            "+----------+\n",
            "|      Date|\n",
            "+----------+\n",
            "| 12/1/2008|\n",
            "| 12/2/2008|\n",
            "| 12/3/2008|\n",
            "| 12/4/2008|\n",
            "| 12/5/2008|\n",
            "| 12/6/2008|\n",
            "| 12/7/2008|\n",
            "| 12/8/2008|\n",
            "| 12/9/2008|\n",
            "|12/10/2008|\n",
            "+----------+\n",
            "only showing top 10 rows\n",
            "\n"
          ]
        }
      ],
      "source": [
        "df.select(\"Date\").show(10)"
      ]
    },
    {
      "cell_type": "code",
      "execution_count": 24,
      "metadata": {
        "colab": {
          "base_uri": "https://localhost:8080/"
        },
        "id": "PMo0YBAqMOv3",
        "outputId": "e3719690-0a7b-43b4-a371-28a6a0c41e8d"
      },
      "outputs": [
        {
          "name": "stdout",
          "output_type": "stream",
          "text": [
            "+--------+----------+\n",
            "|Location|      Date|\n",
            "+--------+----------+\n",
            "|  Albury| 12/1/2008|\n",
            "|  Albury| 12/2/2008|\n",
            "|  Albury| 12/3/2008|\n",
            "|  Albury| 12/4/2008|\n",
            "|  Albury| 12/5/2008|\n",
            "|  Albury| 12/6/2008|\n",
            "|  Albury| 12/7/2008|\n",
            "|  Albury| 12/8/2008|\n",
            "|  Albury| 12/9/2008|\n",
            "|  Albury|12/10/2008|\n",
            "+--------+----------+\n",
            "only showing top 10 rows\n",
            "\n"
          ]
        }
      ],
      "source": [
        "df.select(\"Location\",\"Date\").show(10)"
      ]
    },
    {
      "cell_type": "code",
      "execution_count": 25,
      "metadata": {
        "colab": {
          "base_uri": "https://localhost:8080/"
        },
        "id": "vOPPd1QzFh7Z",
        "outputId": "f2cc97b2-62a9-4b19-b098-06b19cd8a849"
      },
      "outputs": [
        {
          "name": "stdout",
          "output_type": "stream",
          "text": [
            "+--------+---------+\n",
            "|Location|     Date|\n",
            "+--------+---------+\n",
            "|  Albury|12/1/2008|\n",
            "|  Albury|12/2/2008|\n",
            "|  Albury|12/3/2008|\n",
            "|  Albury|12/4/2008|\n",
            "|  Albury|12/5/2008|\n",
            "+--------+---------+\n",
            "\n"
          ]
        }
      ],
      "source": [
        "df.select(\"Location\",\"Date\").limit(5).show()"
      ]
    },
    {
      "cell_type": "markdown",
      "metadata": {
        "id": "NuKXNpJHF01O"
      },
      "source": [
        "## How to filter out some data:\n",
        "\n",
        "We will do as we do in SQL we will use where"
      ]
    },
    {
      "cell_type": "code",
      "execution_count": 26,
      "metadata": {
        "colab": {
          "base_uri": "https://localhost:8080/"
        },
        "id": "EWkw97m6Fh25",
        "outputId": "5da5d643-32f9-42da-bbc5-ff693304ea96"
      },
      "outputs": [
        {
          "name": "stdout",
          "output_type": "stream",
          "text": [
            "+----------+--------+-------+-------+--------+-----------+-------------+----------+----------+------------+------------+-----------+-----------+-----------+-----------+-------+-------+---------+------------+\n",
            "|      Date|Location|MinTemp|MaxTemp|Rainfall|WindGustDir|WindGustSpeed|WindDir9am|WindDir3pm|WindSpeed9am|WindSpeed3pm|Humidity9am|Humidity3pm|Pressure9am|Pressure3pm|Temp9am|Temp3pm|RainToday|RainTomorrow|\n",
            "+----------+--------+-------+-------+--------+-----------+-------------+----------+----------+------------+------------+-----------+-----------+-----------+-----------+-------+-------+---------+------------+\n",
            "| 9/23/2009|  Albury|    9.3|   16.8|    28.8|          W|           56|         W|       WSW|          26|          30|         82|         54|      997.8|     1003.8|   13.1|   15.9|      Yes|         Yes|\n",
            "|  2/5/2010|  Albury|   19.2|   26.1|    52.2|         SE|           33|         S|       SSW|           9|          13|         83|         70|     1009.9|     1009.4|   22.1|     25|      Yes|         Yes|\n",
            "|  3/8/2010|  Albury|   18.1|   25.5|      66|         NW|           56|         N|       NNW|          11|          37|         79|         38|     1008.7|     1007.5|   19.8|   24.1|      Yes|         Yes|\n",
            "| 5/29/2010|  Albury|    9.4|     15|      28|          N|           26|         E|        SE|           9|          11|         99|         89|     1005.7|     1002.8|   12.1|     14|      Yes|         Yes|\n",
            "|10/16/2010|  Albury|    4.8|   12.8|    32.8|          W|           52|       WSW|         W|          20|          28|         72|         61|     1004.6|     1008.3|    6.4|   11.2|      Yes|          No|\n",
            "+----------+--------+-------+-------+--------+-----------+-------------+----------+----------+------------+------------+-----------+-----------+-----------+-----------+-------+-------+---------+------------+\n",
            "\n"
          ]
        }
      ],
      "source": [
        "df.where((df.Rainfall > 25)& (df.Location==\"Albury\")).limit(5).show()"
      ]
    },
    {
      "cell_type": "markdown",
      "metadata": {
        "id": "tALdMCZOGgz5"
      },
      "source": [
        "## How to aggregate the data:\n"
      ]
    },
    {
      "cell_type": "code",
      "execution_count": 31,
      "metadata": {
        "id": "QCDOtRV3FhqC"
      },
      "outputs": [],
      "source": [
        "#df.groupBy(\"MinTemp\").agg({\"WindDir9am\":\"WSW\"})"
      ]
    },
    {
      "cell_type": "markdown",
      "metadata": {
        "id": "IwtLlHjAH0m9"
      },
      "source": [
        "## How to create a new temp view :\n",
        "\n",
        "If we want to create a new temp view and load the data frame on it"
      ]
    },
    {
      "cell_type": "code",
      "execution_count": 32,
      "metadata": {
        "id": "DQ_ZkKZfFhmv"
      },
      "outputs": [],
      "source": [
        "df.createOrReplaceTempView(\"WeatherAUS\")"
      ]
    },
    {
      "cell_type": "markdown",
      "metadata": {
        "id": "ryRnWQEZH7JR"
      },
      "source": [
        "## A good feature of Spark is that we can use SQL syntax by using Spark.sql"
      ]
    },
    {
      "cell_type": "code",
      "execution_count": 33,
      "metadata": {
        "colab": {
          "base_uri": "https://localhost:8080/"
        },
        "id": "i4lKJAMkICxX",
        "outputId": "9ec5c781-1fd2-4da0-dc96-4e968618a145"
      },
      "outputs": [
        {
          "name": "stdout",
          "output_type": "stream",
          "text": [
            "+----------+--------+-------+-------+--------+-----------+-------------+----------+----------+------------+------------+-----------+-----------+-----------+-----------+-------+-------+---------+------------+\n",
            "|      Date|Location|MinTemp|MaxTemp|Rainfall|WindGustDir|WindGustSpeed|WindDir9am|WindDir3pm|WindSpeed9am|WindSpeed3pm|Humidity9am|Humidity3pm|Pressure9am|Pressure3pm|Temp9am|Temp3pm|RainToday|RainTomorrow|\n",
            "+----------+--------+-------+-------+--------+-----------+-------------+----------+----------+------------+------------+-----------+-----------+-----------+-----------+-------+-------+---------+------------+\n",
            "| 12/1/2008|  Albury|   13.4|   22.9|     0.6|          W|           44|         W|       WNW|          20|          24|         71|         22|     1007.7|     1007.1|   16.9|   21.8|       No|          No|\n",
            "| 12/2/2008|  Albury|    7.4|   25.1|       0|        WNW|           44|       NNW|       WSW|           4|          22|         44|         25|     1010.6|     1007.8|   17.2|   24.3|       No|          No|\n",
            "| 12/3/2008|  Albury|   12.9|   25.7|       0|        WSW|           46|         W|       WSW|          19|          26|         38|         30|     1007.6|     1008.7|     21|   23.2|       No|          No|\n",
            "| 12/4/2008|  Albury|    9.2|     28|       0|         NE|           24|        SE|         E|          11|           9|         45|         16|     1017.6|     1012.8|   18.1|   26.5|       No|          No|\n",
            "| 12/5/2008|  Albury|   17.5|   32.3|       1|          W|           41|       ENE|        NW|           7|          20|         82|         33|     1010.8|       1006|   17.8|   29.7|       No|          No|\n",
            "| 12/6/2008|  Albury|   14.6|   29.7|     0.2|        WNW|           56|         W|         W|          19|          24|         55|         23|     1009.2|     1005.4|   20.6|   28.9|       No|          No|\n",
            "| 12/7/2008|  Albury|   14.3|     25|       0|          W|           50|        SW|         W|          20|          24|         49|         19|     1009.6|     1008.2|   18.1|   24.6|       No|          No|\n",
            "| 12/8/2008|  Albury|    7.7|   26.7|       0|          W|           35|       SSE|         W|           6|          17|         48|         19|     1013.4|     1010.1|   16.3|   25.5|       No|          No|\n",
            "| 12/9/2008|  Albury|    9.7|   31.9|       0|        NNW|           80|        SE|        NW|           7|          28|         42|          9|     1008.9|     1003.6|   18.3|   30.2|       No|         Yes|\n",
            "|12/10/2008|  Albury|   13.1|   30.1|     1.4|          W|           28|         S|       SSE|          15|          11|         58|         27|       1007|     1005.7|   20.1|   28.2|      Yes|          No|\n",
            "|12/11/2008|  Albury|   13.4|   30.4|       0|          N|           30|       SSE|       ESE|          17|           6|         48|         22|     1011.8|     1008.7|   20.4|   28.8|       No|         Yes|\n",
            "|12/12/2008|  Albury|   15.9|   21.7|     2.2|        NNE|           31|        NE|       ENE|          15|          13|         89|         91|     1010.5|     1004.2|   15.9|     17|      Yes|         Yes|\n",
            "|12/13/2008|  Albury|   15.9|   18.6|    15.6|          W|           61|       NNW|       NNW|          28|          28|         76|         93|      994.3|        993|   17.4|   15.8|      Yes|         Yes|\n",
            "|12/14/2008|  Albury|   12.6|     21|     3.6|         SW|           44|         W|       SSW|          24|          20|         65|         43|     1001.2|     1001.8|   15.8|   19.8|      Yes|          No|\n",
            "|12/15/2008|  Albury|    8.4|   24.6|       0|         NA|           NA|         S|       WNW|           4|          30|         57|         32|     1009.7|     1008.7|   15.9|   23.5|       No|          NA|\n",
            "|12/16/2008|  Albury|    9.8|   27.7|      NA|        WNW|           50|        NA|       WNW|          NA|          22|         50|         28|     1013.4|     1010.3|   17.3|   26.2|       NA|          No|\n",
            "|12/17/2008|  Albury|   14.1|   20.9|       0|        ENE|           22|       SSW|         E|          11|           9|         69|         82|     1012.2|     1010.4|   17.2|   18.1|       No|         Yes|\n",
            "|12/18/2008|  Albury|   13.5|   22.9|    16.8|          W|           63|         N|       WNW|           6|          20|         80|         65|     1005.8|     1002.2|     18|   21.5|      Yes|         Yes|\n",
            "|12/19/2008|  Albury|   11.2|   22.5|    10.6|        SSE|           43|       WSW|        SW|          24|          17|         47|         32|     1009.4|     1009.7|   15.5|     21|      Yes|          No|\n",
            "|12/20/2008|  Albury|    9.8|   25.6|       0|        SSE|           26|        SE|       NNW|          17|           6|         45|         26|     1019.2|     1017.1|   15.8|   23.2|       No|          No|\n",
            "+----------+--------+-------+-------+--------+-----------+-------------+----------+----------+------------+------------+-----------+-----------+-----------+-----------+-------+-------+---------+------------+\n",
            "only showing top 20 rows\n",
            "\n"
          ]
        }
      ],
      "source": [
        "spark.sql(\"select * from WeatherAUS\").show()"
      ]
    },
    {
      "cell_type": "markdown",
      "metadata": {
        "id": "KpGIYZg4-1AL"
      },
      "source": [
        "## 1-  Use !wget to download the dataset to the server"
      ]
    },
    {
      "cell_type": "markdown",
      "metadata": {
        "id": "whslpZAP_hCn"
      },
      "source": [
        "Colab is actually a Centos virtual machine with GPU. You can directly use the linux wget command to download the dataset to the server. The default is to download to the /content path\n",
        "\n",
        "Download and unzip the dataset command:"
      ]
    },
    {
      "cell_type": "code",
      "execution_count": null,
      "metadata": {
        "id": "Uy0pTv-z-0te"
      },
      "outputs": [],
      "source": [
        "#!wget https://download.pytorch.org/tutorial/hymenoptera_data.zip\n",
        "#!unzip hymenoptera_data.zip -d ./"
      ]
    },
    {
      "cell_type": "markdown",
      "metadata": {
        "id": "_PkS_L31ARzm"
      },
      "source": [
        "Load dataset command:\n",
        "\n"
      ]
    },
    {
      "cell_type": "code",
      "execution_count": null,
      "metadata": {
        "id": "HGNPaqwGATP3"
      },
      "outputs": [],
      "source": [
        "# Define the dataset using ImageFolder\n",
        "# define data preprocessing\n",
        "#train_tf = tfs.Compose([\n",
        " #  tfs.RandomResizedCrop(224),\n",
        " #  tfs.RandomHorizontalFlip(),\n",
        " #  tfs.ToTensor(),\n",
        " #  tfs.Normalize([0.485, 0.456, 0.406], [0.229, 0.224, 0.225]) # Use ImageNet mean and variance\n",
        "#])\n",
        "#train_set = ImageFolder('./hymenoptera_data/train/', train_tf)"
      ]
    },
    {
      "cell_type": "markdown",
      "metadata": {
        "id": "9DsKr860AhrV"
      },
      "source": [
        "## 2- Loading data into PySpark from github\n",
        "Spark has a variety of modules to read data of different formats. It also automatically determines the data type for each column, but it has to go over it once.\n",
        "\n",
        "For this article, I have created a sample JSON dataset in Github. You can download the file directly into Colab using the ‘wget’ command like this:"
      ]
    },
    {
      "cell_type": "code",
      "execution_count": null,
      "metadata": {
        "id": "V8MlCkAhAqB1"
      },
      "outputs": [],
      "source": [
        "#!wget --continue https://raw.githubusercontent.com/GarvitArya/pyspark-\n",
        "#demo/main/sample_books.json -O /tmp/sample_books.json"
      ]
    },
    {
      "cell_type": "markdown",
      "metadata": {
        "id": "EGarK0mhA3Vz"
      },
      "source": [
        "Now read this file into a Spark dataframe using the read module."
      ]
    },
    {
      "cell_type": "code",
      "execution_count": null,
      "metadata": {
        "id": "1en2jBVmA4gj"
      },
      "outputs": [],
      "source": [
        "#df = spark.read.json(\"/tmp/sample_books.json\")\n"
      ]
    },
    {
      "cell_type": "markdown",
      "metadata": {
        "id": "CggfR44a_Hih"
      },
      "source": [
        "# 3- Use Google Cloud Disk to load datasets\n",
        "\n"
      ]
    },
    {
      "cell_type": "markdown",
      "metadata": {
        "id": "IYRrCoL4BPdO"
      },
      "source": [
        "\n",
        "\n",
        "First, the command to mount Google Cloud Disk in Colab is as follows. After execution, you will be asked to enter the key of your Google account to mount"
      ]
    },
    {
      "cell_type": "code",
      "execution_count": null,
      "metadata": {
        "id": "E_rSlpk4-z6t"
      },
      "outputs": [],
      "source": [
        "#from google.colab import drive\n",
        "#drive.mount('/content/drive/')"
      ]
    },
    {
      "cell_type": "markdown",
      "metadata": {
        "id": "9zhzZtYhBdox"
      },
      "source": [
        "Upload the file to Google Drive, such as data/data.csv. One way to upload is to upload manually, the other is to download to Google Cloud Disk through the wget command, and then load it for use\n",
        "\n",
        "The advantage of storing in Google Cloud Disk is that the data will not be lost the next time you connect like the first method. The disadvantage is that The Google cloud disk is only 15g, which is not suitable for large data sets. The command to download the data set to the Google cloud disk is as follows:"
      ]
    },
    {
      "cell_type": "code",
      "execution_count": null,
      "metadata": {
        "id": "s-Ztn2y4-z3s"
      },
      "outputs": [],
      "source": [
        "#import os\n",
        "#Change the current working directory to the path of Google Cloud Drive\n",
        "#path=\"/content/drive/My Drive/Colab Notebooks/\"\n",
        "#os.chdir(path)\n",
        "#os.listdir(path)\n",
        "#Use the wget command to download the dataset to this path\n",
        "#!wget https://dl.fbaipublicfiles.com/fasttext/vectors-crawl/data.csv"
      ]
    },
    {
      "cell_type": "markdown",
      "metadata": {
        "id": "eLvumcueBzhk"
      },
      "source": [
        "Load dataset\n",
        "\n"
      ]
    },
    {
      "cell_type": "code",
      "execution_count": null,
      "metadata": {
        "id": "na1COwe8-z0a"
      },
      "outputs": [],
      "source": [
        "#train = pd.read_csv('/content/drive/My Drive/Colab Notebooks/data/data.csv')\n"
      ]
    },
    {
      "cell_type": "markdown",
      "metadata": {
        "id": "cF804uObB5EI"
      },
      "source": [
        "## 4. Load dataset from kaggle\n",
        "\n",
        "If you are playing a game on kaggle, the data set you need is prepared on it, and you can download it directly using the kaggle command. You need to choose to create an api token in the my profile of kaggle, and then generate the username and key locally"
      ]
    },
    {
      "cell_type": "code",
      "execution_count": null,
      "metadata": {
        "id": "hnNAI_-fB-io"
      },
      "outputs": [],
      "source": [
        "#{\"username\":\"gongenbo\",\"key\":\"f26dfa65d06321a37f6b8502cd6b8XXX\"}\n"
      ]
    },
    {
      "cell_type": "markdown",
      "metadata": {
        "id": "Lic2Bum0CTXp"
      },
      "source": [
        "Command to download data via kaggle"
      ]
    },
    {
      "cell_type": "code",
      "execution_count": null,
      "metadata": {
        "id": "wAdHyocRCT7V"
      },
      "outputs": [],
      "source": [
        "#!pip install -U -q kaggle\n",
        "#!mkdir -p ~/.kaggle\n",
        "#!echo '{\"username\":\"gongenbo\",\"key\":\"f26dfa65d06321a37f6b8502cd6b8XXX\"}' > ~/.kaggle/kaggle.json\n",
        "#!chmod 600 ~/.kaggle/kaggle.json\n",
        "#!kaggle competitions download -c state-farm-distracted-driver-detection"
      ]
    },
    {
      "cell_type": "markdown",
      "metadata": {
        "id": "zkMvfTiYCbXB"
      },
      "source": [
        "Command to submit scores to kaggle after training\n",
        "\n"
      ]
    },
    {
      "cell_type": "code",
      "execution_count": null,
      "metadata": {
        "id": "jzvfoirYCiC7"
      },
      "outputs": [],
      "source": [
        "#!kaggle competitions submit -c state-farm-distracted-driver-detection -f submission.csv -m \"Message\"\n"
      ]
    },
    {
      "cell_type": "markdown",
      "metadata": {
        "id": "mXp-1ikHClNk"
      },
      "source": [
        "## 5. Upload to disk using the upload button\n",
        "\n",
        "Google provides 67G of disk space. Use the upload button to upload the image below. This method is suitable for small datasets or own datasets:\n",
        "\n",
        "![1111.png](data:image/png;base64,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)"
      ]
    },
    {
      "cell_type": "markdown",
      "metadata": {
        "id": "O-FlUPlnDZB1"
      },
      "source": [
        "## 6-There is a library in jovian called open datasets.\n",
        "\n",
        "First, install it into colab using-\n",
        "The URL can be any link be it google or kaggle links.\n",
        "\n"
      ]
    },
    {
      "cell_type": "code",
      "execution_count": null,
      "metadata": {
        "id": "UEl4Uj0rC2m4"
      },
      "outputs": [],
      "source": [
        "#!pip install opendatasets --upgrade\n",
        "#import opendatasets as od\n",
        "#dataset_url = 'https://www.kaggle.com/tunguz/us-elections-dataset'\n",
        "#od.download(dataset_url)"
      ]
    },
    {
      "cell_type": "markdown",
      "metadata": {
        "id": "3irGze45DxV1"
      },
      "source": [
        "Reference:\n",
        "\n",
        "https://stackoverflow.com/questions/71619540/how-to-upload-a-62-gb-datasets-to-google-colab\n",
        "https://blog.devgenius.io/get-started-with-pyspark-and-google-colab-notebook-in-4-minutes-94b4e2cecad7"
      ]
    },
    {
      "cell_type": "markdown",
      "metadata": {
        "id": "OhKrERZ3UxJW"
      },
      "source": [
        "If you have any question feel free to ask, stay tuned to next works\n",
        "\n",
        "\n",
        "**Author :Parissan Ahmadi**\n",
        "\n",
        "Linkdin : https://www.linkedin.com/in/parisan-ahmadi-1410a0a9/\n",
        "\n",
        "Github : https://github.com/parisa-ahmadi\n",
        "\n",
        "TelegramChannel : https://t.me/AIwithParissan\n",
        "\n",
        "Happy Learning!\n",
        "\n",
        "Stick To The Plan ✌"
      ]
    },
    {
      "cell_type": "code",
      "execution_count": 33,
      "metadata": {
        "id": "NOXrPON6DxBe"
      },
      "outputs": [],
      "source": []
    }
  ],
  "metadata": {
    "colab": {
      "provenance": []
    },
    "kernelspec": {
      "display_name": ".venv",
      "language": "python",
      "name": "python3"
    },
    "language_info": {
      "codemirror_mode": {
        "name": "ipython",
        "version": 3
      },
      "file_extension": ".py",
      "mimetype": "text/x-python",
      "name": "python",
      "nbconvert_exporter": "python",
      "pygments_lexer": "ipython3",
      "version": "3.12.6"
    }
  },
  "nbformat": 4,
  "nbformat_minor": 0
}
