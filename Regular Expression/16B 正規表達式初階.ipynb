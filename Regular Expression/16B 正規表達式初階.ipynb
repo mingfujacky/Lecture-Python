{
 "cells": [
  {
   "cell_type": "markdown",
   "metadata": {
    "id": "1Bc7nC73n7z4"
   },
   "source": [
    "# 使用正規表達式"
   ]
  },
  {
   "cell_type": "markdown",
   "metadata": {
    "id": "X24-X2J-oIQG"
   },
   "source": [
    "## 建立正規表達式物件 (Regular Expression)\n",
    "用一定的規則處理字串的方式, 來篩選與搜尋具有一定pattern的字串\n",
    "http://pythex.org\n"
   ]
  },
  {
   "cell_type": "code",
   "execution_count": 1,
   "metadata": {
    "id": "spxxGh3DD234"
   },
   "outputs": [],
   "source": [
    "import re\n",
    "m = re.search(r'[0-9]+','abc123xyz')"
   ]
  },
  {
   "cell_type": "markdown",
   "metadata": {
    "id": "X4Nf5WvNoelO"
   },
   "source": [
    "### match()方法"
   ]
  },
  {
   "cell_type": "code",
   "execution_count": 22,
   "metadata": {
    "colab": {
     "base_uri": "https://localhost:8080/"
    },
    "id": "rkKSTwGloave",
    "outputId": "3c8c3659-130d-45a5-ff41-c156a6573df1"
   },
   "outputs": [
    {
     "name": "stdout",
     "output_type": "stream",
     "text": [
      "<re.Match object; span=(0, 3), match='abc'>\n"
     ]
    }
   ],
   "source": [
    "import re\n",
    "m = re.match(r'[a-z]+','abc123xyz')\n",
    "print(m)"
   ]
  },
  {
   "cell_type": "code",
   "execution_count": 23,
   "metadata": {
    "colab": {
     "base_uri": "https://localhost:8080/"
    },
    "id": "a6Y--kNWoy5e",
    "outputId": "ce895713-172c-4733-fdc1-b54c0ec409a4"
   },
   "outputs": [
    {
     "name": "stdout",
     "output_type": "stream",
     "text": [
      "abc\n",
      "0\n",
      "3\n",
      "(0, 3)\n"
     ]
    }
   ],
   "source": [
    "if m != None:\n",
    "    print(m.group())    #abc\n",
    "    print(m.start())    #0\n",
    "    print(m.end())      #3\n",
    "    print(m.span())     #(0, 3)"
   ]
  },
  {
   "cell_type": "markdown",
   "metadata": {
    "id": "MVTQyg-Co8x-"
   },
   "source": [
    "### search()方法"
   ]
  },
  {
   "cell_type": "code",
   "execution_count": 24,
   "metadata": {
    "colab": {
     "base_uri": "https://localhost:8080/"
    },
    "id": "QruC_zPCozBu",
    "outputId": "a027020c-c1a1-4c31-9bc7-a15d9c8aefee"
   },
   "outputs": [
    {
     "name": "stdout",
     "output_type": "stream",
     "text": [
      "<re.Match object; span=(0, 3), match='abc'>\n",
      "abc\n",
      "0\n",
      "3\n",
      "(0, 3)\n"
     ]
    }
   ],
   "source": [
    "import re\n",
    "m = re.search(r'[a-z]+', 'abc123xyz')\n",
    "print(m)    # <re.Match object; span=(0, 3), match='abc'>\n",
    "if m != None:\n",
    "    print(m.group())  # abc\n",
    "    print(m.start())  # 0\n",
    "    print(m.end())    # 3\n",
    "    print(m.span())   # (0,3)"
   ]
  },
  {
   "cell_type": "markdown",
   "metadata": {
    "id": "fZkls1-npiG_"
   },
   "source": [
    "### findall()方法"
   ]
  },
  {
   "cell_type": "code",
   "execution_count": 25,
   "metadata": {
    "colab": {
     "base_uri": "https://localhost:8080/"
    },
    "id": "9Q0TxTxzpihX",
    "outputId": "2b9e5c77-01e5-4b84-d217-6a380d7a5362"
   },
   "outputs": [
    {
     "name": "stdout",
     "output_type": "stream",
     "text": [
      "['abc', 'xyz']\n"
     ]
    }
   ],
   "source": [
    "import re\n",
    "m = re.findall(r'[a-z]+', 'abc123xyz')\n",
    "print(m)    # ['abc', 'xyz'] "
   ]
  },
  {
   "cell_type": "markdown",
   "metadata": {
    "id": "kNCJ6WcPpp8o"
   },
   "source": [
    "## 使用正規表達式取代內容"
   ]
  },
  {
   "cell_type": "code",
   "execution_count": 26,
   "metadata": {
    "colab": {
     "base_uri": "https://localhost:8080/"
    },
    "id": "wH7AxNS-pqOO",
    "outputId": "d71f0dcf-0663-4658-9339-d35a9dcdbab3"
   },
   "outputs": [
    {
     "name": "stdout",
     "output_type": "stream",
     "text": [
      "Password:*,ID:*\n"
     ]
    }
   ],
   "source": [
    "import re\n",
    "result = re.sub(r\"\\d+\", \"*\", \"Password:1234,ID:5678\")\n",
    "print(result)\t\t# Password:*,ID:*"
   ]
  },
  {
   "cell_type": "markdown",
   "metadata": {
    "id": "IWJjCqhrp1Nf"
   },
   "source": [
    "## 範例：正規表示式練習"
   ]
  },
  {
   "cell_type": "code",
   "execution_count": 27,
   "metadata": {
    "id": "jj-OLmkZp1UZ"
   },
   "outputs": [],
   "source": [
    "html = \"\"\"\n",
    "<div class=\"content\">\n",
    "    E-Mail：<a href=\"mailto:mail@test.com.tw\">\n",
    "      mail</a><br>\n",
    "    E-Mail2：<a href=\"mailto:mail2@test.com.tw\">\n",
    "      mail2</a><br>\n",
    "    <ul class=\"price\">定價：360元 </ul>\n",
    "    <img src=\"http://test.com.tw/p1.jpg\">\n",
    "    <img src=\"http://test.com.tw/p2.png\">\n",
    "    電話：(04)-76543210、0937-123456\n",
    "</div>\n",
    "\"\"\""
   ]
  },
  {
   "cell_type": "code",
   "execution_count": 28,
   "metadata": {
    "colab": {
     "base_uri": "https://localhost:8080/"
    },
    "id": "a-7fDNkIp9Xf",
    "outputId": "437be839-3a6d-4c4e-c204-e6f6f1e8b684"
   },
   "outputs": [
    {
     "name": "stdout",
     "output_type": "stream",
     "text": [
      "mail@test.com.tw\n",
      "mail2@test.com.tw\n",
      "360\n",
      "http://test.com.tw/p1.jpg\n",
      "http://test.com.tw/p2.png\n",
      "(04)-76543210\n",
      "0937-123456\n"
     ]
    }
   ],
   "source": [
    "import re\n",
    "pattern=r'[a-zA-Z0-9_.+-]+@[a-zA-Z0-9-]+\\.[a-zA-Z0-9-.]+'\n",
    "emails = re.findall(pattern,html)\n",
    "for email in emails: #顯示 email\n",
    "    print(email)\n",
    "\n",
    "price=re.findall(r'[\\d]+元',html)[0].split('元')[0] #價格\n",
    "print(price) #顯示定價金額\n",
    "\n",
    "imglist = re.findall(r'[http://]+[a-zA-Z0-9-/.]+\\.[jpgpng]+',html)\n",
    "for img in imglist: #\n",
    "    print(img) #顯示圖片網址\n",
    "    \n",
    "phonelist = re.findall(r'\\(?\\d{2,4}\\)?\\-\\d{6,8}',html)\n",
    "for phone in phonelist:\n",
    "    print(phone) #顯示電話號碼 "
   ]
  },
  {
   "cell_type": "markdown",
   "metadata": {},
   "source": [
    "# W3 School"
   ]
  },
  {
   "cell_type": "markdown",
   "metadata": {},
   "source": [
    "- [RegEx] https://www.w3schools.com/python/exercise.asp?x=xrcise_regex1"
   ]
  }
 ],
 "metadata": {
  "colab": {
   "collapsed_sections": [],
   "name": "數據資料的爬取.ipynb",
   "provenance": [],
   "toc_visible": true
  },
  "kernelspec": {
   "display_name": ".venv",
   "language": "python",
   "name": "python3"
  },
  "language_info": {
   "codemirror_mode": {
    "name": "ipython",
    "version": 3
   },
   "file_extension": ".py",
   "mimetype": "text/x-python",
   "name": "python",
   "nbconvert_exporter": "python",
   "pygments_lexer": "ipython3",
   "version": "3.13.0"
  }
 },
 "nbformat": 4,
 "nbformat_minor": 0
}
