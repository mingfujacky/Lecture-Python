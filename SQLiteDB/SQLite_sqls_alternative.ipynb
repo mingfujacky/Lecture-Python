{
 "cells": [
  {
   "cell_type": "code",
   "execution_count": 1,
   "metadata": {},
   "outputs": [],
   "source": [
    "import sqlite3\n",
    "from pathlib import Path\n",
    "path = Path.cwd() / 'db_bigdata_demo.sqlite'\n",
    "conn= sqlite3.connect(path)\n",
    "cur = conn.cursor()"
   ]
  },
  {
   "cell_type": "markdown",
   "metadata": {},
   "source": [
    "### Alt1 execute SQL cur.execute()"
   ]
  },
  {
   "cell_type": "code",
   "execution_count": 2,
   "metadata": {},
   "outputs": [
    {
     "data": {
      "text/plain": [
       "<function Connection.commit()>"
      ]
     },
     "execution_count": 2,
     "metadata": {},
     "output_type": "execute_result"
    }
   ],
   "source": [
    "cur.execute(\"\"\"\n",
    "            CREATE TABLE IF NOT EXISTS names\n",
    "            (first_name TEXT, last_name TEXT)\n",
    "\"\"\")\n",
    "conn.commit"
   ]
  },
  {
   "cell_type": "markdown",
   "metadata": {},
   "source": [
    "### Alt2 execute SQL cur.executemany()"
   ]
  },
  {
   "cell_type": "code",
   "execution_count": 4,
   "metadata": {},
   "outputs": [],
   "source": [
    "name_list = [\n",
    "    ('Smith', 'John'),\n",
    "    ('Johnson', 'Jane'),\n",
    "    ('Lee', 'Samantha'),\n",
    "    ('Patel', 'Raj'),\n",
    "    ('Hernandez', 'Maria'),\n",
    "]\n",
    "cur.executemany(\"\"\"\n",
    "                INSERT INTO names (first_name, last_name) VALUES (?, ?)\n",
    "                \"\"\", name_list)\n",
    "conn.commit()"
   ]
  },
  {
   "cell_type": "markdown",
   "metadata": {},
   "source": [
    "### Alt3 execute SQL cur.executescript()"
   ]
  },
  {
   "cell_type": "code",
   "execution_count": 5,
   "metadata": {},
   "outputs": [
    {
     "data": {
      "text/plain": [
       "<sqlite3.Cursor at 0x1078de4c0>"
      ]
     },
     "execution_count": 5,
     "metadata": {},
     "output_type": "execute_result"
    }
   ],
   "source": [
    "sql_path = Path.cwd() / 'sql_members_insert.sql'\n",
    "try:\n",
    "    with open(sql_path, \"r\", encoding='utf-8') as file:\n",
    "        sql_script = file.read()\n",
    "except UnicodeDecodeError:\n",
    "    print(\"Error: Unable to decode the file contents.\")\n",
    "cur.executescript(sql_script)"
   ]
  },
  {
   "cell_type": "code",
   "execution_count": 6,
   "metadata": {},
   "outputs": [],
   "source": [
    "cur.close()\n",
    "conn.close()"
   ]
  },
  {
   "cell_type": "code",
   "execution_count": null,
   "metadata": {},
   "outputs": [],
   "source": []
  }
 ],
 "metadata": {
  "kernelspec": {
   "display_name": ".venv",
   "language": "python",
   "name": "python3"
  },
  "language_info": {
   "codemirror_mode": {
    "name": "ipython",
    "version": 3
   },
   "file_extension": ".py",
   "mimetype": "text/x-python",
   "name": "python",
   "nbconvert_exporter": "python",
   "pygments_lexer": "ipython3",
   "version": "3.13.0"
  }
 },
 "nbformat": 4,
 "nbformat_minor": 2
}
