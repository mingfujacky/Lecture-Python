{
 "cells": [
  {
   "cell_type": "markdown",
   "metadata": {},
   "source": [
    "### Import Library"
   ]
  },
  {
   "cell_type": "code",
   "execution_count": 1,
   "metadata": {},
   "outputs": [],
   "source": [
    "import sqlite3\n",
    "from pathlib import Path"
   ]
  },
  {
   "cell_type": "markdown",
   "metadata": {},
   "source": [
    "### Build Connection"
   ]
  },
  {
   "cell_type": "code",
   "execution_count": 2,
   "metadata": {},
   "outputs": [],
   "source": [
    "db_path = Path.cwd() / 'db_bigdata_demo.sqlite'\n",
    "connection = sqlite3.connect(db_path)"
   ]
  },
  {
   "cell_type": "markdown",
   "metadata": {},
   "source": [
    "### Create Tables "
   ]
  },
  {
   "cell_type": "code",
   "execution_count": 3,
   "metadata": {},
   "outputs": [],
   "source": [
    "# create a cursor object when working with a database connection.\n",
    "# cursor object is the primary way to execute SQL queries and fetch data from DB\n",
    "cursor = connection.cursor()\n",
    "\n",
    "# 1. make a SQL statement as a string to create a table\n",
    "create_scores_table = \"\"\"\n",
    "CREATE TABLE IF NOT EXISTS scores (\n",
    "    id TEXT PRIMARY KEY NOT NULL,\n",
    "    name TEXT NOT NULL,\n",
    "    chinese INTEGER NOT NULL,\n",
    "    math INTEGER NOT NULL,\n",
    "    english INTEGER NOT NULL\n",
    ");\n",
    "\"\"\"\n",
    "# 2. execute SQL statement with cursor object\n",
    "cursor.execute(create_scores_table)\n",
    "# 3. commit the transaction\n",
    "connection.commit()"
   ]
  },
  {
   "cell_type": "markdown",
   "metadata": {},
   "source": [
    "### [C]reate Records"
   ]
  },
  {
   "cell_type": "code",
   "execution_count": 4,
   "metadata": {},
   "outputs": [],
   "source": [
    "insert_scores = \"\"\"\n",
    "INSERT INTO\n",
    "    scores (id, name, chinese, math, english)\n",
    "VALUES\n",
    "    (\"001\", 'John', 90, 80, 70),\n",
    "    (\"002\", 'Mary', 55, 60, 75),\n",
    "    (\"003\", 'Tom', 90, 95, 100);\n",
    "\"\"\"    \n",
    "cursor.execute(insert_scores)\n",
    "connection.commit()"
   ]
  },
  {
   "cell_type": "markdown",
   "metadata": {},
   "source": [
    "### [R]ead Records"
   ]
  },
  {
   "cell_type": "code",
   "execution_count": 5,
   "metadata": {},
   "outputs": [
    {
     "name": "stdout",
     "output_type": "stream",
     "text": [
      "[('001', 'John', 90, 80, 70), ('002', 'Mary', 55, 60, 75), ('003', 'Tom', 90, 95, 100)]\n",
      "ID: 001, Name: John, Chinese: 90, Math: 80, English: 70\n",
      "ID: 002, Name: Mary, Chinese: 55, Math: 60, English: 75\n",
      "ID: 003, Name: Tom, Chinese: 90, Math: 95, English: 100\n"
     ]
    }
   ],
   "source": [
    "read_scores = \"\"\"\n",
    "SELECT * FROM scores;\n",
    "\"\"\"\n",
    "# the cursor object will execute the SELECT * FROM scores query on the database\n",
    "# and prepare the results for further processing.\n",
    "cursor.execute(read_scores)\n",
    "\n",
    "# fetchall() method to get all the rows from the result set\n",
    "# fetchone() method to get the first row from the result set\n",
    "# fetchmany() method to get a specific number of rows from the result set\n",
    "rows = cursor.fetchall()\n",
    "print(rows)\n",
    "for row in rows:\n",
    "    print(f'ID: {row[0]}, Name: {row[1]}, Chinese: {row[2]}, Math: {row[3]}, English: {row[4]}')"
   ]
  },
  {
   "cell_type": "code",
   "execution_count": 6,
   "metadata": {},
   "outputs": [
    {
     "name": "stdout",
     "output_type": "stream",
     "text": [
      "[('003', 'Tom', 90, 95, 100)]\n",
      "ID: 003, Name: Tom, Chinese: 90, Math: 95, English: 100\n"
     ]
    }
   ],
   "source": [
    "read_scores = \"\"\"\n",
    "SELECT * FROM scores where math > 90;\n",
    "\"\"\"\n",
    "cursor.execute(read_scores)\n",
    "rows = cursor.fetchall()\n",
    "print(rows)\n",
    "for row in rows:\n",
    "    print(f'ID: {row[0]}, Name: {row[1]}, Chinese: {row[2]}, Math: {row[3]}, English: {row[4]}')"
   ]
  },
  {
   "cell_type": "markdown",
   "metadata": {},
   "source": [
    "### [U]pdate Records"
   ]
  },
  {
   "cell_type": "code",
   "execution_count": 7,
   "metadata": {},
   "outputs": [],
   "source": [
    "update_scores = \"\"\"\n",
    "UPDATE\n",
    "    scores\n",
    "SET\n",
    "    math = 83\n",
    "WHERE\n",
    "    id = '002'        \n",
    "\"\"\"\n",
    "cursor.execute(update_scores)\n",
    "connection.commit()"
   ]
  },
  {
   "cell_type": "markdown",
   "metadata": {},
   "source": [
    "### [D]elete Records"
   ]
  },
  {
   "cell_type": "code",
   "execution_count": 8,
   "metadata": {},
   "outputs": [],
   "source": [
    "delete_records = \"DELETE FROM scores WHERE id = '002';\"\n",
    "cursor.execute(delete_records)\n",
    "connection.commit()"
   ]
  },
  {
   "cell_type": "markdown",
   "metadata": {},
   "source": [
    "### Close Connection"
   ]
  },
  {
   "cell_type": "code",
   "execution_count": 10,
   "metadata": {},
   "outputs": [],
   "source": [
    "connection.close()"
   ]
  },
  {
   "cell_type": "markdown",
   "metadata": {},
   "source": []
  },
  {
   "cell_type": "markdown",
   "metadata": {},
   "source": [
    "### Drop Tables"
   ]
  },
  {
   "cell_type": "code",
   "execution_count": 12,
   "metadata": {},
   "outputs": [
    {
     "ename": "OperationalError",
     "evalue": "no such table: scores",
     "output_type": "error",
     "traceback": [
      "\u001b[0;31m---------------------------------------------------------------------------\u001b[0m",
      "\u001b[0;31mOperationalError\u001b[0m                          Traceback (most recent call last)",
      "Cell \u001b[0;32mIn[12], line 3\u001b[0m\n\u001b[1;32m      1\u001b[0m db_path \u001b[38;5;241m=\u001b[39m Path\u001b[38;5;241m.\u001b[39mcwd() \u001b[38;5;241m/\u001b[39m \u001b[38;5;124m'\u001b[39m\u001b[38;5;124mdb_bigdata_demo.sqlite\u001b[39m\u001b[38;5;124m'\u001b[39m\n\u001b[1;32m      2\u001b[0m connection \u001b[38;5;241m=\u001b[39m sqlite3\u001b[38;5;241m.\u001b[39mconnect(db_path)\n\u001b[0;32m----> 3\u001b[0m \u001b[43mconnection\u001b[49m\u001b[38;5;241;43m.\u001b[39;49m\u001b[43mexecute\u001b[49m\u001b[43m(\u001b[49m\u001b[38;5;124;43m\"\u001b[39;49m\u001b[38;5;124;43mDROP TABLE scores\u001b[39;49m\u001b[38;5;124;43m\"\u001b[39;49m\u001b[43m)\u001b[49m\n\u001b[1;32m      4\u001b[0m connection\u001b[38;5;241m.\u001b[39mcommit()\n\u001b[1;32m      5\u001b[0m connection\u001b[38;5;241m.\u001b[39mclose()\n",
      "\u001b[0;31mOperationalError\u001b[0m: no such table: scores"
     ]
    }
   ],
   "source": [
    "db_path = Path.cwd() / 'db_bigdata_demo.sqlite'\n",
    "connection = sqlite3.connect(db_path)\n",
    "connection.execute(\"DROP TABLE scores\")\n",
    "connection.commit()\n",
    "connection.close()"
   ]
  }
 ],
 "metadata": {
  "kernelspec": {
   "display_name": ".venv",
   "language": "python",
   "name": "python3"
  },
  "language_info": {
   "codemirror_mode": {
    "name": "ipython",
    "version": 3
   },
   "file_extension": ".py",
   "mimetype": "text/x-python",
   "name": "python",
   "nbconvert_exporter": "python",
   "pygments_lexer": "ipython3",
   "version": "3.13.0"
  }
 },
 "nbformat": 4,
 "nbformat_minor": 2
}
