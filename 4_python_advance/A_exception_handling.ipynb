{
 "cells": [
  {
   "cell_type": "markdown",
   "metadata": {},
   "source": [
    "# 例外處理 (Execeptional Handling)\n",
    "- 程式執行時的安全帶\n",
    "- 若無例外處理(安全帶)，則程式遇見錯誤時將直接終止\n",
    "- try-except\n",
    "- try-except-else\n",
    "- try-except-finally\n",
    "- try-except-else-finally"
   ]
  },
  {
   "cell_type": "markdown",
   "metadata": {},
   "source": [
    "![bg right:50% w:600](https://realpython.com/cdn-cgi/image/width=1394,format=auto/https://files.realpython.com/media/try_except_else_finally.a7fac6c36c55.png)"
   ]
  },
  {
   "cell_type": "code",
   "execution_count": null,
   "metadata": {},
   "outputs": [],
   "source": [
    "# Try-except\n",
    "\n",
    "try:\n",
    "    num = int(input(\"Number: \"))\n",
    "    result = 1024 / num\n",
    "    print(f\"{result=}\")\n",
    "    with open('a.txt',\"w\") as f:\n",
    "        f.write(result)\n",
    "except ValueError as e:\n",
    "    print(\"不能把字串轉換為整數!\")\n",
    "    print(\"錯誤訊息 --> \", e)\n",
    "except ZeroDivisionError:\n",
    "    print(\"不能除以0\")\n",
    "except:\n",
    "    print('Ran into trouble. Please contact help desk!')"
   ]
  },
  {
   "cell_type": "code",
   "execution_count": null,
   "metadata": {},
   "outputs": [],
   "source": [
    "# Try-except-else-finally\n",
    "\n",
    "try:\n",
    "    num1 = int(input(\"First Number: \"))\n",
    "    num2 = int(input(\"Second Number: \"))\n",
    "    result = num1 // num2\n",
    "except ValueError:\n",
    "    print('Do NOT input non-number.')\n",
    "except ZeroDivisionError:\n",
    "    print('Second Number can NOT be zero.')\n",
    "except:\n",
    "    print('We got a trouble')\n",
    "else:\n",
    "    print(f\"{num1} // {num2} = {result}\")\n",
    "finally:\n",
    "    print(\"\\ncode end!!\")"
   ]
  },
  {
   "cell_type": "markdown",
   "metadata": {},
   "source": [
    "# Lab"
   ]
  },
  {
   "cell_type": "code",
   "execution_count": null,
   "metadata": {},
   "outputs": [],
   "source": [
    "# 練習 try-except, 請寫一段例外處理的程式，來避免程式當掉\n",
    "# Raise error\n",
    "my_dict = {'name': 'John', 'age': 30}\n",
    "print(my_dict['address'])"
   ]
  },
  {
   "cell_type": "code",
   "execution_count": 5,
   "metadata": {},
   "outputs": [
    {
     "name": "stdout",
     "output_type": "stream",
     "text": [
      "key: 'address' is not in my_dict\n"
     ]
    }
   ],
   "source": [
    "# 用 try-except 來捕捉 KeyError\n",
    "try:\n",
    "    my_dict = {'name': 'John', 'age': 30};\n",
    "    print(my_dict['address'])\n",
    "\n",
    "except KeyError as e:\n",
    "    print(f\"key: {e} is not in my_dict\")"
   ]
  },
  {
   "cell_type": "markdown",
   "metadata": {},
   "source": [
    "# W3 School\n",
    "- [Try Except] https://www.w3schools.com/python/exercise.asp?x=xrcise_try_except1"
   ]
  }
 ],
 "metadata": {
  "kernelspec": {
   "display_name": ".venv",
   "language": "python",
   "name": "python3"
  },
  "language_info": {
   "codemirror_mode": {
    "name": "ipython",
    "version": 3
   },
   "file_extension": ".py",
   "mimetype": "text/x-python",
   "name": "python",
   "nbconvert_exporter": "python",
   "pygments_lexer": "ipython3",
   "version": "3.13.2"
  }
 },
 "nbformat": 4,
 "nbformat_minor": 2
}
