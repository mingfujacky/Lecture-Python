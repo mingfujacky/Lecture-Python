{
 "cells": [
  {
   "cell_type": "markdown",
   "metadata": {},
   "source": [
    "# 列印物件與輸入字串"
   ]
  },
  {
   "cell_type": "markdown",
   "metadata": {},
   "source": [
    "**print(objects, sep, end)**\n",
    "- objects: 要印出的物件，可以用逗號分隔多個物件\n",
    "- sep: 每個印出的物件，在印出時的間隔符號，預設為一個空白\n",
    "- end: 最後印出時的結尾符號， 預設為換行(\\n)"
   ]
  },
  {
   "cell_type": "markdown",
   "metadata": {},
   "source": [
    "# 列印基本資料型別"
   ]
  },
  {
   "cell_type": "code",
   "execution_count": 1,
   "metadata": {},
   "outputs": [
    {
     "name": "stdout",
     "output_type": "stream",
     "text": [
      "1 2 3\n",
      "1& 2& 3\n",
      "1& 2& 3!1 2 3\n"
     ]
    }
   ],
   "source": [
    "# 列印數字\n",
    "print(1, 2, 3)\n",
    "print(1, 2, 3, sep='& ')\n",
    "print(1, 2, 3, sep='& ', end='')\n",
    "print(1, 2, 3)"
   ]
  },
  {
   "cell_type": "code",
   "execution_count": 1,
   "metadata": {},
   "outputs": [
    {
     "name": "stdout",
     "output_type": "stream",
     "text": [
      "True\n",
      "False\n"
     ]
    }
   ],
   "source": [
    "# 列印布林值\n",
    "print(10 > 2)\n",
    "print(10 < 2)"
   ]
  },
  {
   "cell_type": "code",
   "execution_count": 2,
   "metadata": {},
   "outputs": [
    {
     "name": "stdout",
     "output_type": "stream",
     "text": [
      "Hello World\n",
      "10 20 30\n",
      "I*am*good!!Hello \n",
      " python\n",
      "Hello*\n",
      "*python\n"
     ]
    }
   ],
   "source": [
    "# 列印字串\n",
    "print('Hello World')\n",
    "print('10', '20', '30')\n",
    "print('I', 'am', 'good', sep = '*', end = '!!')\n",
    "print(\"Hello\",\"\\n\",\"python\") # Hello🔲\\n🔲python\n",
    "print(\"Hello\",\"\\n\",\"python\", sep='*') # Hello*\\n*python"
   ]
  },
  {
   "cell_type": "code",
   "execution_count": null,
   "metadata": {},
   "outputs": [],
   "source": [
    "# 列印連接的字串\n",
    "x = 'Hello'\n",
    "y = 'World!'\n",
    "print(x, y)\n",
    "print(x + y)\n",
    "p = 10\n",
    "q = 'years old'\n",
    "# print(p+q)   # Error, different type can not be added\n",
    "print(str(p)+q)\n",
    "print(str(p)+' '+q)\n",
    "print(p, q)  # different type can be printed separately as different variable"
   ]
  },
  {
   "cell_type": "markdown",
   "metadata": {},
   "source": [
    "# 列印容器資料型別"
   ]
  },
  {
   "cell_type": "code",
   "execution_count": 1,
   "metadata": {},
   "outputs": [
    {
     "name": "stdout",
     "output_type": "stream",
     "text": [
      "(1, 2, 3)\n",
      "['apple', 'google', 'microsoft']\n",
      "{10, 20, 30}\n",
      "{1: 'red', 2: 'blue'}\n"
     ]
    }
   ],
   "source": [
    "foo = (1, 2, 3)\n",
    "boo = ['apple', 'google', 'microsoft']\n",
    "ham = {10, 20, 30}\n",
    "eggs = {1: \"red\", 2:\"blue\"}\n",
    "print(foo)\n",
    "print(boo)\n",
    "print(ham)\n",
    "print(eggs)"
   ]
  },
  {
   "cell_type": "markdown",
   "metadata": {},
   "source": [
    "# 列印 Escape Character (轉義字元，跳脫字元)"
   ]
  },
  {
   "cell_type": "markdown",
   "metadata": {},
   "source": [
    "![escape character](https://blogger.googleusercontent.com/img/b/R29vZ2xl/AVvXsEhwicFyegOLM5xM_U1AhTL_5zu0-d3abMBNDrMiSedkJ98j_JNYPI9ZtrmPLl4gYq1sgaT8K1i_PiH7yFYXjwiHfiCjMBJkMEkwtq4oHtwGzS31F5BfrVR5gngMH_Rwbp3v47QO_02Ialw/s1600/table6-1.JPG)"
   ]
  },
  {
   "cell_type": "code",
   "execution_count": null,
   "metadata": {},
   "outputs": [],
   "source": [
    "print('I\\'m a boy.')\n",
    "print(\"I'm a boy.\")\n",
    "print(\"Hello\\tWorld!\")\n",
    "print(\"Hello\\nWorld!\")\n",
    "print('this is a book\\rthat is a ox')  # \\r 回車符號\n",
    "print('c:\\\\windows\\\\system32\\\\test.txt')  # 路徑"
   ]
  },
  {
   "cell_type": "markdown",
   "metadata": {},
   "source": [
    "# 列印字串的格式化"
   ]
  },
  {
   "cell_type": "markdown",
   "metadata": {},
   "source": [
    "- % 格式\n",
    "- format 函數: the .format() method can be a better choice when the format string itself needs to be constructed dynamically, as it separates the format template from the data being inserted, making the code more readable and maintainable.\n",
    "\n",
    "- f-string"
   ]
  },
  {
   "cell_type": "markdown",
   "metadata": {},
   "source": [
    "## Modulo %"
   ]
  },
  {
   "cell_type": "code",
   "execution_count": null,
   "metadata": {},
   "outputs": [],
   "source": [
    "name = \"Alice\"; age = 25\n",
    "print(\"My name is %s and I am %d years old.\" % (name, age))\n",
    "\n",
    "price = 19.99\n",
    "print(\"The price is $%0.2f.\" % price)\n",
    "\n",
    "pi = 3.14159\n",
    "print(\"Pi is approximately %6.3f.\" % pi)\n",
    "\n",
    "print(\"The price is $%08.2f.\" % 123.45)\n"
   ]
  },
  {
   "cell_type": "markdown",
   "metadata": {},
   "source": [
    "## format 格式"
   ]
  },
  {
   "cell_type": "code",
   "execution_count": null,
   "metadata": {},
   "outputs": [],
   "source": [
    "name = \"Alice\"; age = 25\n",
    "print(\"My name is {} and I am {} years old.\".format(name, age))\n",
    "print(\"My name is {0} and I am {1} years old.\".format(name, age))\n",
    "price = 19.99\n",
    "print(\"The price is {:.2f}.\".format(price))\n",
    "print(\"{:<10}\".format(\"left\"))\n",
    "print(\"{:>10}\".format(\"right\"))\n",
    "print(\"{:^10}\".format(\"center\"))\n",
    "print(\"{:0>10}\".format(7))\n",
    "print(\"{1} and {0}\".format(\"spam\", \"eggs\"))\n",
    "\n",
    "# you can create reusable strings with placeholders:\n",
    "greeting = \"Hello, {}!\"\n",
    "print(greeting.format(\"World\"))\n",
    "print(greeting.format(\"Jack\"))\n",
    "\n",
    "print(\"My name is {name} and I am {age} years old.\".format(name=\"Charlie\", age=35))\n"
   ]
  },
  {
   "cell_type": "markdown",
   "metadata": {},
   "source": [
    "## f-string"
   ]
  },
  {
   "cell_type": "markdown",
   "metadata": {},
   "source": [
    "**:[align][+][#][0][width][,][.precision][%][type]**\n",
    "- <p> align: 靠左 <, 置中 ^, 靠右 > </p>\n",
    "- <p> + : 一律加上正負號\n",
    "- <p> # : 如果 type 設定為2, 8, 16進位時，則在數字前加 0b, 0o, 0x</p>\n",
    "- <p> 0 : 若數字位數不足，數字左邊補零</p> \n",
    "- <p> width : 數字或字串的寬度 </p>\n",
    "- <p> , : 千位數符號 </p>\n",
    "- <p> .precision : 小數位數 </p>\n",
    "- <p> % : 百分比符號\n",
    "- <p> type : 要顯示的型別 </p>\n",
    "|type|item\n",
    "|----|----\n",
    "|s|字串\n",
    "|d|十進位整數\n",
    "|b|二進位整數\n",
    "|o|八進位整數\n",
    "|x|十六進位整數\n",
    "|f|浮點數\n",
    "|e|科學記號"
   ]
  },
  {
   "cell_type": "code",
   "execution_count": 1,
   "metadata": {},
   "outputs": [
    {
     "name": "stdout",
     "output_type": "stream",
     "text": [
      "My name is Alice and I am 25 years old.\n",
      "The price is $19.99.\n",
      "Alice     \n",
      "     Alice\n",
      "  Alice   \n",
      "0000000007\n",
      "I am 25 years old.\n",
      "The square of 3 is 9.\n",
      "name='Alice', age=25\n"
     ]
    }
   ],
   "source": [
    "# f-string\n",
    "name = \"Alice\"; age = 25; number = 3\n",
    "print(f\"My name is {name} and I am {age} years old.\")\n",
    "price = 19.99\n",
    "print(f\"The price is ${price:.2f}.\")\n",
    "print(f\"{name:<10}\")\n",
    "print(f\"{name:>10}\")\n",
    "print(f\"{name:^10}\")\n",
    "print(f\"{7:0>10}\")\n",
    "print(f\"I am {'underage' if age < 18 else age} years old.\")\n",
    "print(f\"The square of {number} is {number**2}.\")\n",
    "print(f'{name=}, {age=}')"
   ]
  },
  {
   "cell_type": "code",
   "execution_count": 5,
   "metadata": {},
   "outputs": [
    {
     "name": "stdout",
     "output_type": "stream",
     "text": [
      "Hello, Pythonista! Today is Friday.\n",
      "Hello, Pythonista! Today is Friday.\n",
      "Hello, Pythonista! Today is Friday.\n",
      "Hello, Pythonista! Today is Friday.\n"
     ]
    }
   ],
   "source": [
    "# string concatenation\n",
    "name = \"Pythonista\"\n",
    "day = \"Friday\"\n",
    "foo = \"Hello, \" + name + \"! Today is \" + day + \".\"\n",
    "print(foo)\n",
    "# string interpolation by modulo operator (%)\n",
    "boo = \"Hello, %s! Today is %s.\" % (name, day)\n",
    "print(boo)\n",
    "# string interpolation by str.format() method\n",
    "coo = \"Hello, {}! Today is {}.\".format(name, day)\n",
    "print(coo)\n",
    "# string interpolation by f-string after Python 3.6\n",
    "doo = f\"Hello, {name}! Today is {day}.\"\n",
    "print(doo)"
   ]
  },
  {
   "cell_type": "code",
   "execution_count": 1,
   "metadata": {},
   "outputs": [
    {
     "name": "stdout",
     "output_type": "stream",
     "text": [
      "foo=1, boo=2\n"
     ]
    }
   ],
   "source": [
    "foo = 1\n",
    "boo = 2\n",
    "print(f'{foo=}, {boo=}')"
   ]
  },
  {
   "cell_type": "markdown",
   "metadata": {},
   "source": [
    "# input"
   ]
  },
  {
   "cell_type": "markdown",
   "metadata": {},
   "source": [
    "***input(提示字串)***\n",
    "- 提示字串非必要, 在Formosa OJ, 千萬不要使用\n",
    "- input()回傳的是字串，切記!!"
   ]
  },
  {
   "cell_type": "code",
   "execution_count": null,
   "metadata": {},
   "outputs": [],
   "source": [
    "user_name = input('Please input your name: ')\n",
    "user_age = int(input('Please input your age: '))\n",
    "print(user_name, 'is', user_age, 'years old')"
   ]
  },
  {
   "cell_type": "markdown",
   "metadata": {},
   "source": [
    "# Lab"
   ]
  },
  {
   "cell_type": "markdown",
   "metadata": {},
   "source": [
    "- 請使用f-sting 將 a, 12670 和 b, 12.344 印出，格式如下, ^ 代表一個空格\n",
    "1. 輸出: a = ^^12670, b = ^12.34\n",
    "2. 輸出: a = ^+12670, b = 012.34\n",
    "3. 輸出: a = +12,670, b = 0012.3\n",
    "4. 輸出: a = 012,670, b = ^^^+12"
   ]
  },
  {
   "cell_type": "markdown",
   "metadata": {},
   "source": [
    "- 輸入一個十進位數字, 印出它的兩進位形式但0b不要\n",
    "  - 輸入:10\n",
    "  - 輸出: 10的二進位數字是1010"
   ]
  },
  {
   "cell_type": "markdown",
   "metadata": {},
   "source": [
    "# W3 School"
   ]
  },
  {
   "cell_type": "markdown",
   "metadata": {},
   "source": [
    "- [Format Strings] https://www.w3schools.com/python/exercise.asp?x=xrcise_strings_format1\n",
    "- [String Formatting] https://www.w3schools.com/python/exercise.asp?x=xrcise_string_formatting1"
   ]
  }
 ],
 "metadata": {
  "kernelspec": {
   "display_name": ".venv",
   "language": "python",
   "name": "python3"
  },
  "language_info": {
   "codemirror_mode": {
    "name": "ipython",
    "version": 3
   },
   "file_extension": ".py",
   "mimetype": "text/x-python",
   "name": "python",
   "nbconvert_exporter": "python",
   "pygments_lexer": "ipython3",
   "version": "3.13.1"
  }
 },
 "nbformat": 4,
 "nbformat_minor": 2
}
