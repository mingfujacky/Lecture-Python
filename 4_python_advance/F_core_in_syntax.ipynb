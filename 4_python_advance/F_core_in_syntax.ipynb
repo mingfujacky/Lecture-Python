{
 "cells": [
  {
   "cell_type": "markdown",
   "metadata": {},
   "source": [
    "# Core Concepts in Syntax"
   ]
  },
  {
   "cell_type": "markdown",
   "metadata": {},
   "source": [
    "| **Category**         | **Context**          | **Description**                                        | **Example**         |\n",
    "|----------------------|----------------------|--------------------------------------------------------|---------------------|\n",
    "| **Statement**        | Control / Definition | A command that controls or defines program structure   | `if`, `def`, `for`  |\n",
    "| **Operator**         | Symbolic Action      | A symbol that operates on variables or values          | `+`, `==`, `in`     |\n",
    "| **Built-in Function**| Predefined Function  | A function always available without needing to import anything.   | `len()`, `print()`  |\n",
    "| **Object Method**    | Bound Function       | A function that acts on a specific object              | `'hi'.upper()`      |"
   ]
  },
  {
   "cell_type": "markdown",
   "metadata": {},
   "source": [
    "## Statements"
   ]
  },
  {
   "cell_type": "markdown",
   "metadata": {},
   "source": [
    "### 🔹 Control flow statements\n",
    "\n",
    "| **Statement**     | **Purpose**                                      | **Example**                          |\n",
    "|------------------|--------------------------------------------------|--------------------------------------|\n",
    "| `if / elif / else` | Conditional execution                          | `if x > 0: print(\"Positive\")`        |\n",
    "| `for`            | Iterate over a sequence                          | `for i in range(5): print(i)`        |\n",
    "| `while`          | Loop while a condition is true                   | `while x > 0: x -= 1`                |\n",
    "| `break`          | Exit the nearest enclosing loop                  | `break`                              |\n",
    "| `continue`       | Skip to next iteration of the loop               | `continue`                           |\n",
    "| `pass`           | Do nothing (placeholder)                         | `if x == 0: pass`                    |\n",
    "| `return`         | Exit function and return a value                 | `return x + y`                       |\n",
    "| `yield`          | Yield a value from a generator                   | `yield x`                            |\n",
    "| `match / case`   | Structural pattern matching                      | `match x: case 1: ...`               |"
   ]
  },
  {
   "cell_type": "markdown",
   "metadata": {},
   "source": [
    "### 🔹 Exception handling statements\n",
    "\n",
    "| **Statement**     | **Purpose**                                      | **Example**                          |\n",
    "|------------------|--------------------------------------------------|--------------------------------------|\n",
    "| `try / except`   | Catch and handle exceptions                      | `try: ... except ValueError:`        |\n",
    "| `finally`        | Always run after try/except                      | `finally: print(\"Done\")`             |\n",
    "| `raise`          | Raise an exception manually                      | `raise ValueError(\"Invalid\")`        |\n",
    "| `assert`         | Debugging: ensure condition is true              | `assert x > 0`                       |"
   ]
  },
  {
   "cell_type": "markdown",
   "metadata": {},
   "source": [
    "### 🔹 Definition Statements\n",
    "\n",
    "| **Statement**     | **Purpose**                                      | **Example**                          |\n",
    "|------------------|--------------------------------------------------|--------------------------------------|\n",
    "| `def`            | Define a function                                | `def greet(): print(\"Hi\")`           |\n",
    "| `class`          | Define a class                                   | `class Dog: pass`                    |\n",
    "| `with`           | Context management (e.g., open files)            | `with open(\"file.txt\") as f:`        |\n"
   ]
  },
  {
   "cell_type": "markdown",
   "metadata": {},
   "source": [
    "### 🔹 Import Statements\n",
    "\n",
    "| **Statement**         | **Purpose**                                 | **Example**                          |\n",
    "|----------------------|---------------------------------------------|--------------------------------------|\n",
    "| `import`             | Import a module                             | `import math`                        |\n",
    "| `from ... import`    | Import specific items from a module         | `from math import pi`                |\n",
    "| `as`                 | Alias a module or item                       | `import numpy as np`                 |"
   ]
  },
  {
   "cell_type": "markdown",
   "metadata": {},
   "source": [
    "### 🔹 Assignment and Deletion Statements\n",
    "\n",
    "| **Statement**     | **Purpose**                                      | **Example**                          |\n",
    "|------------------|--------------------------------------------------|--------------------------------------|\n",
    "| `global`         | Declare global variable inside a function        | `global count`                       |\n",
    "| `nonlocal`       | Use a variable from enclosing (non-global) scope | `nonlocal x`                         |\n",
    "| `del`            | Delete variables or data structure elements      | `del my_list[0]`                     |"
   ]
  },
  {
   "cell_type": "markdown",
   "metadata": {},
   "source": [
    "## Operators"
   ]
  },
  {
   "cell_type": "markdown",
   "metadata": {},
   "source": [
    "| **類型**         | **運算子**                              | **範例程式碼**                            |\n",
    "|------------------------------------|------------------------------------------|--------------------------------------------|\n",
    "| 賦值運算子 / Assignment Operator   | `=`, `+=`, `-=`, `*=`, `/=`, `//=`, `%=` | `x = 10`<br>`x += 5`                        |\n",
    "| 算術運算子 / Arithmetic Operator   | `+`, `-`, `*`, `/`, `//`, `%`, `**`      | `3 + 2`, `5 ** 2`, `10 % 3`                 |\n",
    "| 比較運算子 / Comparison Operator   | `==`, `!=`, `<`, `>`, `<=`, `>=`         | `a == b`, `x != y`, `a < 10`                |\n",
    "| 邏輯運算子 / Logical Operator      | `and`, `or`, `not`                       | `a and b`, `not x`, `a or b`                |\n",
    "| 成員運算子 / Membership Operator   | `in`, `not in`                           | `'a' in 'apple'`, `3 not in [1, 2, 3]`      |\n",
    "| 身份運算子 / Identity Operator     | `is`, `is not`                           | `a is b`, `x is not y`                      |\n",
    "| 位元運算子 / Bitwise Operator      | `&`, `|`, `^`, `~`, `<<`, `>>`           | `5 & 3`, `4 << 1`, `~2`                     |\n",
    "| 跨列運算子 / Line Continuation     | `\\` (反斜線)                              | `total = 1 + 2 + \\`<br>`3 + 4`              |"
   ]
  },
  {
   "cell_type": "markdown",
   "metadata": {},
   "source": [
    "## Built-in Functions\n",
    "[Python Built-in Functions](https://docs.python.org/3/library/functions.html)"
   ]
  },
  {
   "cell_type": "markdown",
   "metadata": {},
   "source": [
    "## Object Methods\n",
    "- Based on the type of the object, methods can be called directly on the object.\n",
    "- Notation: object.method(arguments)\n",
    "- For example, [String methods] (https://www.w3schools.com/python/python_ref_string.asp)"
   ]
  }
 ],
 "metadata": {
  "kernelspec": {
   "display_name": ".venv",
   "language": "python",
   "name": "python3"
  },
  "language_info": {
   "codemirror_mode": {
    "name": "ipython",
    "version": 3
   },
   "file_extension": ".py",
   "mimetype": "text/x-python",
   "name": "python",
   "nbconvert_exporter": "python",
   "pygments_lexer": "ipython3",
   "version": "3.13.1"
  }
 },
 "nbformat": 4,
 "nbformat_minor": 2
}
