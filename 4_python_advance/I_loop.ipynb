{
 "cells": [
  {
   "cell_type": "code",
   "execution_count": null,
   "metadata": {},
   "outputs": [],
   "source": [
    "def tricky_function(lst):\n",
    "    result=[]\n",
    "    for i in range(len(lst)):\n",
    "        if i%2==0:\n",
    "            result.append(lst[i]**2)\n",
    "        else:\n",
    "            result.append(sum(lst[:i]))\n",
    "    return result\n",
    "\n",
    "dataset = [1, 2, 3, 4, 5]\n",
    "print(tricky_function(dataset))"
   ]
  },
  {
   "cell_type": "markdown",
   "metadata": {},
   "source": [
    "# for loop + enumerate() 和 _"
   ]
  },
  {
   "cell_type": "code",
   "execution_count": null,
   "metadata": {},
   "outputs": [],
   "source": [
    "# find where is 'apple'\n",
    "fruits = ['apple', 'kiwi', 'orange', 'apple', 'grape', 'apple']\n",
    "for i, fruit in enumerate(fruits):\n",
    "    if fruit == 'apple':\n",
    "        print('find ' + fruit + ' in pos ' + str(i))"
   ]
  },
  {
   "cell_type": "code",
   "execution_count": null,
   "metadata": {},
   "outputs": [],
   "source": [
    "# 抽六張撲克牌\n",
    "import random\n",
    "cards=[]\n",
    "for _ in range(6):\n",
    "    card = random.randint(1, 13)\n",
    "    cards.append(card)\n",
    "print(cards)"
   ]
  },
  {
   "cell_type": "code",
   "execution_count": null,
   "metadata": {},
   "outputs": [],
   "source": [
    "# 枚舉列表中的元素\n",
    "fruits = ['apple', 'banana', 'cherry']\n",
    "for i, fruit in enumerate(fruits, start=1):\n",
    "    print(i, fruit)\n"
   ]
  },
  {
   "cell_type": "code",
   "execution_count": null,
   "metadata": {},
   "outputs": [],
   "source": [
    "# 枚舉字典中的鍵值對\n",
    "person = {'name': 'John', 'age': 30, 'city': 'New York'}\n",
    "for i, (key, value) in enumerate(person.items()):\n",
    "    print(i, key, value)\n"
   ]
  },
  {
   "cell_type": "markdown",
   "metadata": {},
   "source": [
    "# List Comprehension to replace loop"
   ]
  },
  {
   "cell_type": "markdown",
   "metadata": {},
   "source": [
    "- 數學的集合描述法\n",
    "$$\n",
    "B = \\{ x \\mid x \\in \\mathbb{Z}, 3 < x < 6 \\}, \\text{其中} \\mathbb{Z} \\text{代表整數集合，則} B = \\{ 4, 5 \\}\n",
    "$$\n",
    "$$\n",
    "C = \\{ x \\mid x > 0 \\text{ 且 } x < 10 \\text{ 且 } x \\text{ 是偶數} \\}\n",
    "$$\n",
    "$$\n",
    "D = \\{ 2n \\mid n \\text{ 為 } 1 \\sim 4 \\text{ 的自然數} \\}\n",
    "$$\n",
    "- List Comprehension 是一個重整List的方法。透過原來的List，加以一些簡單的處理，去製做一個新的List\n",
    "- [結果 for 個體 in 集合]\n",
    "- [expression for item in iterable]\n",
    "  - expression：可以是 item 或運算式\n",
    "  - item：接收可疊代的物件(Iterable Object)元素\n",
    "  - iterable：可疊代的物件(Iterable Object)\n",
    "- [結果 for 個體 in 集合 if 條件判斷]\n",
    "- [expression for item in iterable if condition]\n"
   ]
  },
  {
   "cell_type": "code",
   "execution_count": 1,
   "metadata": {},
   "outputs": [
    {
     "name": "stdout",
     "output_type": "stream",
     "text": [
      "[0, 3, 6, 9, 12, 15, 18, 21, 24, 27]\n"
     ]
    }
   ],
   "source": [
    "# use loop to handle every element in iterable \n",
    "eggs = []\n",
    "for x in range(10):\n",
    "    eggs.append(x * 3)\n",
    "print(eggs)    "
   ]
  },
  {
   "cell_type": "code",
   "execution_count": 2,
   "metadata": {},
   "outputs": [
    {
     "name": "stdout",
     "output_type": "stream",
     "text": [
      "[0, 3, 6, 9, 12, 15, 18, 21, 24, 27]\n",
      "[15, 18, 21, 24, 27]\n"
     ]
    }
   ],
   "source": [
    "# list comprehension\n",
    "foo = [x * 3 for x in range(10)]\n",
    "print(foo)\n",
    "# list comprehension w/ condition\n",
    "boo = [x * 3 for x in range(10) if x > 4]\n",
    "print(boo)"
   ]
  },
  {
   "cell_type": "code",
   "execution_count": null,
   "metadata": {},
   "outputs": [],
   "source": [
    "numbers = [50, 2, 12, 30, 27, 4]\n",
    "spam1 = [x for x in numbers if x > 10]\n",
    "print(spam1)\n",
    "\n",
    "spam2 = [x if x > 10 else 0 for x in numbers]\n",
    "print(spam2)\n"
   ]
  },
  {
   "cell_type": "code",
   "execution_count": 1,
   "metadata": {},
   "outputs": [
    {
     "data": {
      "text/plain": [
       "['banana']"
      ]
     },
     "execution_count": 1,
     "metadata": {},
     "output_type": "execute_result"
    }
   ],
   "source": [
    "fruits = ['apple', 'banana', 'cherry']\n",
    "newlist = [x for x in fruits if x == 'banana']\n",
    "newlist"
   ]
  },
  {
   "cell_type": "code",
   "execution_count": 2,
   "metadata": {},
   "outputs": [
    {
     "data": {
      "text/plain": [
       "['apple', 'apple', 'apple']"
      ]
     },
     "execution_count": 2,
     "metadata": {},
     "output_type": "execute_result"
    }
   ],
   "source": [
    "fruits = ['apple', 'banana', 'cherry']\n",
    "newlist = ['apple' for x in fruits]\n",
    "newlist"
   ]
  },
  {
   "cell_type": "code",
   "execution_count": 4,
   "metadata": {},
   "outputs": [
    {
     "name": "stdout",
     "output_type": "stream",
     "text": [
      "['A', 'P', 'P', 'L', 'E']\n",
      "[3.1, 1.4, 2.7]\n"
     ]
    }
   ],
   "source": [
    "foo = [char.upper() for char in 'aPpLe']\n",
    "print(foo)\n",
    "boo = [round(num,1) for num in [3.14159, 1.4142, 2.71828]]\n",
    "print(boo)"
   ]
  },
  {
   "cell_type": "code",
   "execution_count": null,
   "metadata": {},
   "outputs": [],
   "source": [
    "foo = [0 for _ in range(10)]\n",
    "print(foo)\n",
    "boo = [0] * 10\n",
    "print(boo)"
   ]
  },
  {
   "cell_type": "code",
   "execution_count": null,
   "metadata": {},
   "outputs": [],
   "source": [
    "pairs = [(x, y) for x in range(1, 3) for y in ['a', 'b']]\n",
    "print(pairs)"
   ]
  },
  {
   "cell_type": "code",
   "execution_count": null,
   "metadata": {},
   "outputs": [],
   "source": [
    "nums = [1, 2, 3, 4, 5, 5, 4, 3, 2, 1]\n",
    "unique_nums = {x for x in nums}\n",
    "print(unique_nums)"
   ]
  },
  {
   "cell_type": "code",
   "execution_count": null,
   "metadata": {},
   "outputs": [],
   "source": [
    "ascii_dict = {chr(x): x for x in range(97, 123)}\n",
    "print(ascii_dict)"
   ]
  },
  {
   "cell_type": "code",
   "execution_count": null,
   "metadata": {},
   "outputs": [],
   "source": [
    "# 坑 坑 坑 串列內有可變物件時，操作時要特別小心\n",
    "empty_lists = [[]] * 3\n",
    "print(empty_lists)\n",
    "empty_lists[0].append(100)\n",
    "print(empty_lists)\n",
    "\n",
    "empty_lists = [[] for _ in range(3)]\n",
    "print(empty_lists)\n",
    "empty_lists[0].append(100)\n",
    "print(empty_lists)"
   ]
  },
  {
   "cell_type": "code",
   "execution_count": null,
   "metadata": {},
   "outputs": [],
   "source": [
    "spam = [[1, 2, 3]]\n",
    "double_spam = spam + spam\n",
    "print(double_spam)\n",
    "double_spam[0][0] = 100\n",
    "print(double_spam)"
   ]
  },
  {
   "cell_type": "code",
   "execution_count": null,
   "metadata": {},
   "outputs": [],
   "source": [
    "# 九九乘法表\n",
    "for i in range(1, 10):\n",
    "    for j in range(1, 10):\n",
    "        print(f'{i} x {j} = {i*j}')"
   ]
  },
  {
   "cell_type": "code",
   "execution_count": null,
   "metadata": {},
   "outputs": [],
   "source": [
    "# 九九乘法表\n",
    "foo = [f\"{i} x {j} = {i*j}\" for i in range(1, 10) for j in range(1, 10)]\n",
    "print(foo)\n",
    "print('\\n'.join(foo))"
   ]
  },
  {
   "cell_type": "markdown",
   "metadata": {},
   "source": [
    "## 使用 list 產生一個 3 * 3 的矩陣, 預設值為 nan"
   ]
  },
  {
   "cell_type": "code",
   "execution_count": null,
   "metadata": {},
   "outputs": [],
   "source": [
    "# Alt1 - use loop to generate a list with 9 elements, then cast to 3 * 3 matrix\n",
    "import numpy as np\n",
    "\n",
    "my_list = []\n",
    "for i in range(9):\n",
    "    my_list.append(float('nan'))\n",
    "\n",
    "print(my_list)\n",
    "matrix = np.array(my_list).reshape(3,3)\n",
    "\n",
    "matrix[1,1] = 1.0\n",
    "matrix[2, 2] = 2.0\n",
    "print(matrix)"
   ]
  },
  {
   "cell_type": "code",
   "execution_count": null,
   "metadata": {},
   "outputs": [],
   "source": [
    "# Alt2 - generate a comprehensive list with 9 elements, then cast to 3 * 3 matrix\n",
    "import numpy as np\n",
    "my_list = [[float('nan') for x in range(3)] for y in range(3)]\n",
    "print(my_list)\n",
    "matrix = np.array(my_list)\n",
    "\n",
    "matrix[1, 1] = 1.0\n",
    "matrix[2, 2] = 2.0\n",
    "print(matrix)"
   ]
  },
  {
   "cell_type": "code",
   "execution_count": null,
   "metadata": {},
   "outputs": [],
   "source": [
    "# Alt3 - directly use numpy to generate a 3 * 3 matrix\n",
    "import numpy as np\n",
    "\n",
    "matrix1 = np.empty((3, 3))\n",
    "matrix1.fill(float('nan'))\n",
    "matrix1[1,1] = 1.0\n",
    "matrix1[2, 2] = 2.0\n",
    "print(matrix1)\n",
    "\n",
    "matrix2 = np.full((3, 3), float('nan'))\n",
    "matrix2[1, 1] = 1.0\n",
    "matrix2[2, 2] = 2.0\n",
    "print(matrix2)"
   ]
  },
  {
   "cell_type": "code",
   "execution_count": 1,
   "metadata": {},
   "outputs": [
    {
     "name": "stdout",
     "output_type": "stream",
     "text": [
      "[[nan, nan, nan], [nan, 1.0, nan], [nan, nan, nan]]\n"
     ]
    }
   ],
   "source": [
    "my_list = []\n",
    "for i in range(3):\n",
    "    row = [float('nan')] * 3\n",
    "    my_list.append(row)\n",
    "my_list[1][1] = 1.0\n",
    "print(my_list)"
   ]
  },
  {
   "cell_type": "markdown",
   "metadata": {},
   "source": [
    "# Memory reference when multiply list"
   ]
  },
  {
   "cell_type": "code",
   "execution_count": 2,
   "metadata": {},
   "outputs": [
    {
     "name": "stdout",
     "output_type": "stream",
     "text": [
      "[1, 2, 1, 2, 1, 2]\n"
     ]
    }
   ],
   "source": [
    "# See pythontutor.com\n",
    "my_list = [1, 2]\n",
    "new_list = my_list * 3\n",
    "my_list[1] = 100\n",
    "print(new_list)"
   ]
  },
  {
   "cell_type": "code",
   "execution_count": 3,
   "metadata": {},
   "outputs": [
    {
     "name": "stdout",
     "output_type": "stream",
     "text": [
      "[[1, 100], [1, 100], [1, 100]]\n"
     ]
    }
   ],
   "source": [
    "# Cause memory reference issue, see pythontutor.com\n",
    "my_list = [[1, 2]]\n",
    "new_list = my_list * 3\n",
    "my_list[0][1] = 100\n",
    "print(new_list)"
   ]
  },
  {
   "cell_type": "code",
   "execution_count": 4,
   "metadata": {},
   "outputs": [
    {
     "name": "stdout",
     "output_type": "stream",
     "text": [
      "[[nan, 1.0, nan], [nan, 1.0, nan], [nan, 1.0, nan]]\n",
      "4426144448 4426144448 4426144448\n"
     ]
    }
   ],
   "source": [
    "# Not alternative - cause memory reference issue, see pythontutor.com\n",
    "row = [[float('nan')] * 3]\n",
    "my_list = row * 3\n",
    "my_list[0][1] = 1.0 # this will change all elements in nested_list\n",
    "print(my_list)\n",
    "\n",
    "print(id(my_list[0]), id(my_list[1]), id(my_list[2]))\n"
   ]
  },
  {
   "cell_type": "markdown",
   "metadata": {},
   "source": [
    "# Lab"
   ]
  },
  {
   "cell_type": "markdown",
   "metadata": {},
   "source": [
    "- 列印撲克牌的所有牌\n",
    "- suit = list(\"♣♦♥♠\")\n",
    "- rank = \"A,2,3,4,5,6,7,8,9,10,J,Q,K\".split(',')\n",
    "- output: ♣A, ♣2, ♣3\n",
    "- card = [(s, r) for s in suit for r in rank]\n"
   ]
  },
  {
   "cell_type": "code",
   "execution_count": null,
   "metadata": {},
   "outputs": [],
   "source": []
  }
 ],
 "metadata": {
  "kernelspec": {
   "display_name": ".venv",
   "language": "python",
   "name": "python3"
  },
  "language_info": {
   "codemirror_mode": {
    "name": "ipython",
    "version": 3
   },
   "file_extension": ".py",
   "mimetype": "text/x-python",
   "name": "python",
   "nbconvert_exporter": "python",
   "pygments_lexer": "ipython3",
   "version": "3.13.1"
  }
 },
 "nbformat": 4,
 "nbformat_minor": 2
}
