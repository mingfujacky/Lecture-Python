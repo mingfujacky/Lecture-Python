{
 "cells": [
  {
   "cell_type": "markdown",
   "metadata": {},
   "source": [
    "# `__str__` vs `__repr__`"
   ]
  },
  {
   "cell_type": "markdown",
   "metadata": {},
   "source": [
    "When we want to quickly inspect an object to see its content. We can convert the object to a string and “print” it.\n",
    "\n",
    "Python provides two methods for the purpose: `__str__` and `__repr__`. <br>\n",
    "- __str__: defines the object’s readability, usually for human-friendly output.\n",
    "- __repr__: defines the object’s reproducibility, and should ideally return a string that allows developers to reconstruct the object (or at least understand all its attributes)."
   ]
  },
  {
   "cell_type": "code",
   "execution_count": null,
   "metadata": {},
   "outputs": [],
   "source": [
    "# No __str__ and __repr__ methods defined, so default behavior is used, which is to return the class name and object address\n",
    "\n",
    "class Car:\n",
    "    def __init__(self, color, mileage):\n",
    "        self.color = color\n",
    "        self.mileage = mileage\n",
    "\n",
    "my_car = Car('red', 3812)\n",
    "# only get class name and object address\n",
    "print(my_car)\n",
    "my_car"
   ]
  },
  {
   "cell_type": "code",
   "execution_count": null,
   "metadata": {},
   "outputs": [],
   "source": [
    "# add __str__ method. it is used by print() and str() and .format()\n",
    "class Car:\n",
    "    def __init__(self, color, mileage):\n",
    "        self.color = color\n",
    "        self.mileage = mileage\n",
    "\n",
    "    def __str__(self):\n",
    "        return f\"This is a {self.color} car, its mileage is {self.mileage})\"\n",
    "my_car = Car('red', 3812)\n",
    "# invoke __str__\n",
    "print(my_car) \n",
    "print(str(my_car))\n",
    "print('{}'.format(my_car))"
   ]
  },
  {
   "cell_type": "code",
   "execution_count": null,
   "metadata": {},
   "outputs": [],
   "source": [
    "# add __repr__ method. it is used by repr() and in interactive mode\n",
    "class Car:\n",
    "    def __init__(self, color, mileage):\n",
    "        self.color = color\n",
    "        self.mileage = mileage\n",
    "\n",
    "    def __str__(self):\n",
    "        return f\"This is a {self.color} car, its mileage is {self.mileage}\"\n",
    "    \n",
    "    def __repr__(self):\n",
    "        return f\"Car(color={self.color!r}, mileage={self.mileage!r})\"\n",
    "\n",
    "my_car = Car('red', 3812)\n",
    "print(repr(my_car))\n",
    "my_car"
   ]
  },
  {
   "cell_type": "code",
   "execution_count": null,
   "metadata": {},
   "outputs": [],
   "source": [
    "# example of \"reconstruct the object\"\n",
    "foo = Car(color='red', mileage=3812)\n",
    "print(foo)"
   ]
  },
  {
   "cell_type": "code",
   "execution_count": 27,
   "metadata": {},
   "outputs": [
    {
     "name": "stdout",
     "output_type": "stream",
     "text": [
      "Car(color='red', mileage=3812)\n"
     ]
    },
    {
     "data": {
      "text/plain": [
       "Car(color='red', mileage=3812)"
      ]
     },
     "execution_count": 27,
     "metadata": {},
     "output_type": "execute_result"
    }
   ],
   "source": [
    "# The best way is to define both of them (__str__ and __repr__).\n",
    "# At least __repr__ should be defined (if __str__ is not defined, __repr__ will be used)\n",
    "# Otherwise, the default behavior is used. (only class name and object address)\n",
    "\n",
    "class Car:\n",
    "    def __init__(self, color, mileage):\n",
    "        self.color = color\n",
    "        self.mileage = mileage\n",
    "    \n",
    "    def __repr__(self):\n",
    "        return f\"{self.__class__.__name__}(color={self.color!r}, mileage={self.mileage!r})\"\n",
    "    \n",
    "my_car = Car('red', 3812)\n",
    "print(repr(my_car))\n",
    "my_car   "
   ]
  }
 ],
 "metadata": {
  "kernelspec": {
   "display_name": ".venv",
   "language": "python",
   "name": "python3"
  },
  "language_info": {
   "codemirror_mode": {
    "name": "ipython",
    "version": 3
   },
   "file_extension": ".py",
   "mimetype": "text/x-python",
   "name": "python",
   "nbconvert_exporter": "python",
   "pygments_lexer": "ipython3",
   "version": "3.13.5"
  }
 },
 "nbformat": 4,
 "nbformat_minor": 2
}
