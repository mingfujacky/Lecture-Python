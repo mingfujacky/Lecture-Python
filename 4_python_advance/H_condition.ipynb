{
 "cells": [
  {
   "cell_type": "markdown",
   "metadata": {
    "vscode": {
     "languageId": "plaintext"
    }
   },
   "source": [
    "# Ternary Operator (三元運算符)\n",
    "Syntax: true_value if condition else false_value"
   ]
  },
  {
   "cell_type": "code",
   "execution_count": 1,
   "metadata": {},
   "outputs": [
    {
     "name": "stdout",
     "output_type": "stream",
     "text": [
      "a is minimum\n",
      "Greater than 5\n",
      "You have 1 outstanding invoice\n",
      "You have 3 outstanding invoices\n"
     ]
    }
   ],
   "source": [
    "a = 10\n",
    "b = 20\n",
    "min = \"a is minimum\" if a < b else \"b is minimum\"\n",
    "print(min)\n",
    "\n",
    "x = 10\n",
    "result = \"Greater than 5\" if x > 5 else \"5 or less\"\n",
    "print(result)\n",
    "\n",
    "invoice_count = 1\n",
    "print(f\"You have {invoice_count} outstanding invoice{'s' if invoice_count != 1 else ''}\")\n",
    "invoice_count = 3\n",
    "print(f\"You have {invoice_count} outstanding invoice{'s' if invoice_count != 1 else ''}\")\n"
   ]
  },
  {
   "cell_type": "markdown",
   "metadata": {},
   "source": [
    "# Match Statement (選擇性敘述)"
   ]
  },
  {
   "cell_type": "code",
   "execution_count": 2,
   "metadata": {},
   "outputs": [
    {
     "name": "stdout",
     "output_type": "stream",
     "text": [
      "Fail\n"
     ]
    }
   ],
   "source": [
    "score = int(input(\"Enter your score: \"))\n",
    "grade = score // 10\n",
    "match grade:\n",
    "    case 10 | 9:\n",
    "        print(\"Get A\")\n",
    "    case 8:\n",
    "        print(\"Get B\")\n",
    "    case 7:\n",
    "        print(\"Get C\")\n",
    "    case 6:\n",
    "        print(\"Get D\")\n",
    "    case _:\n",
    "        print(\"Fail\")"
   ]
  },
  {
   "cell_type": "markdown",
   "metadata": {},
   "source": [
    "# Chain Comparison Operators"
   ]
  },
  {
   "cell_type": "code",
   "execution_count": 1,
   "metadata": {},
   "outputs": [
    {
     "name": "stdout",
     "output_type": "stream",
     "text": [
      "x is less than y and y is less than z\n"
     ]
    }
   ],
   "source": [
    "x = 10; y = 20; z = 30\n",
    "if x < y and y < z:\n",
    "    print(\"x is less than y and y is less than z\")\n",
    "\n",
    "# Using chain comparison\n",
    "if x < y < z:\n",
    "    print(\"x is less than y and y is less than z\")    "
   ]
  },
  {
   "cell_type": "code",
   "execution_count": 6,
   "metadata": {},
   "outputs": [
    {
     "name": "stdout",
     "output_type": "stream",
     "text": [
      "x is not equal to n and n is between 1 and 9\n",
      "x is not equal to n and n is between 1 and 9\n"
     ]
    }
   ],
   "source": [
    "x = 10; n = 5\n",
    "if (x != n) and (n in range(1, 10)):\n",
    "    print(\"x is not equal to n and n is between 1 and 9\")\n",
    "\n",
    "# Using chain comparison\n",
    "if x != n in range(1, 10):\n",
    "    print(\"x is not equal to n and n is between 1 and 9\")"
   ]
  },
  {
   "cell_type": "code",
   "execution_count": 8,
   "metadata": {},
   "outputs": [
    {
     "name": "stdout",
     "output_type": "stream",
     "text": [
      "True\n",
      "True\n"
     ]
    }
   ],
   "source": [
    "print(1 < 2 in [1, 2, 3] >= [1, 2])\n",
    "print((1 < 2) and (2 in [1, 2, 3]) and ([1, 2, 3] >= [1, 2]))\n"
   ]
  }
 ],
 "metadata": {
  "kernelspec": {
   "display_name": ".venv",
   "language": "python",
   "name": "python3"
  },
  "language_info": {
   "codemirror_mode": {
    "name": "ipython",
    "version": 3
   },
   "file_extension": ".py",
   "mimetype": "text/x-python",
   "name": "python",
   "nbconvert_exporter": "python",
   "pygments_lexer": "ipython3",
   "version": "3.13.1"
  }
 },
 "nbformat": 4,
 "nbformat_minor": 2
}
