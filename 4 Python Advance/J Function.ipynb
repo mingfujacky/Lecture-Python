{
 "cells": [
  {
   "cell_type": "markdown",
   "metadata": {},
   "source": [
    "# 設定參數預設值"
   ]
  },
  {
   "cell_type": "code",
   "execution_count": null,
   "metadata": {},
   "outputs": [],
   "source": [
    "def print_ch(char, n=5):\n",
    "    print(char * n)\n",
    "\n",
    "print_ch('^', 10)\n",
    "print_ch('*')"
   ]
  },
  {
   "cell_type": "markdown",
   "metadata": {},
   "source": [
    "# *args: 接收多個位置參數(as a tuple)"
   ]
  },
  {
   "cell_type": "code",
   "execution_count": null,
   "metadata": {},
   "outputs": [],
   "source": [
    "def add(label, *nums):  # *nums is a tuple\n",
    "    total = 0\n",
    "    for i in nums:\n",
    "        total += i\n",
    "    return (label, total)\n",
    "\n",
    "print(add('apple', 1, 2, 3))\n",
    "print(add('egg', 1, 2))\n",
    "print(add('pen', 1))\n",
    "print(add('dimond'))"
   ]
  },
  {
   "cell_type": "code",
   "execution_count": null,
   "metadata": {},
   "outputs": [],
   "source": [
    "def my_function(*kids):\n",
    "  print(\"第三大的小孩是 \" + kids[2])\n",
    "  \n",
    "my_function('John', 'Mary', 'Setevn', 'Lance') "
   ]
  },
  {
   "cell_type": "markdown",
   "metadata": {},
   "source": [
    "# **kwargs 接收多個指名參數 (as a dict)"
   ]
  },
  {
   "cell_type": "code",
   "execution_count": null,
   "metadata": {},
   "outputs": [],
   "source": [
    "def print_label(name, title, **info):\n",
    "    print(f'來賓: {name}{title}')\n",
    "    for key in info.keys():\n",
    "        value = info[key]\n",
    "        print(key,':',value)\n",
    "    \n",
    "args = {'中餐':'葷食', '電話':'0919123456', 'email':'wang@zyz.com'}\n",
    "print_label(name = '王小明', title = '先生', **args)\n"
   ]
  },
  {
   "cell_type": "markdown",
   "metadata": {},
   "source": [
    "# lambda function"
   ]
  },
  {
   "cell_type": "markdown",
   "metadata": {},
   "source": [
    "- simple function\n",
    "- func = lambda 參數1, 參數2, ... : 運算式\n",
    "- foo = lambda x: x ** 2"
   ]
  },
  {
   "cell_type": "code",
   "execution_count": null,
   "metadata": {},
   "outputs": [],
   "source": [
    "foo = lambda x: x ** 2\n",
    "print(foo(2))"
   ]
  },
  {
   "cell_type": "code",
   "execution_count": null,
   "metadata": {},
   "outputs": [],
   "source": [
    "add_number = lambda x,y : x+ y\n",
    "print(add_number(2,3))"
   ]
  },
  {
   "cell_type": "code",
   "execution_count": null,
   "metadata": {},
   "outputs": [],
   "source": [
    "def myfunc(n):\n",
    "  return lambda a : a * n\n",
    "\n",
    "mytripler = myfunc(3)\n",
    "print(mytripler)\n",
    "print(mytripler(11))"
   ]
  },
  {
   "cell_type": "markdown",
   "metadata": {},
   "source": [
    "# map function\n",
    "apply function to all elements of a list"
   ]
  },
  {
   "cell_type": "code",
   "execution_count": null,
   "metadata": {},
   "outputs": [],
   "source": [
    "# 美元換台幣計算\n",
    "def usd2twd(usd_amount):\n",
    "    return change_rate * usd_amount\n",
    "\n",
    "change_rate = 31.23\n",
    "print(usd2twd(5))"
   ]
  },
  {
   "cell_type": "code",
   "execution_count": null,
   "metadata": {},
   "outputs": [],
   "source": [
    "# 方法一：多個值算匯兌\n",
    "prices = [10, 25, 17]\n",
    "for price in prices:\n",
    "    print(usd2twd(price))"
   ]
  },
  {
   "cell_type": "code",
   "execution_count": null,
   "metadata": {},
   "outputs": [],
   "source": [
    "# 方法二：多個值算匯兌\n",
    "print(list(map(usd2twd, prices)))"
   ]
  },
  {
   "cell_type": "code",
   "execution_count": null,
   "metadata": {},
   "outputs": [],
   "source": [
    "# 方法三：多個值算匯兌\n",
    "foo = lambda x: x * change_rate\n",
    "print(list(map(foo, prices)))"
   ]
  },
  {
   "cell_type": "code",
   "execution_count": null,
   "metadata": {},
   "outputs": [],
   "source": [
    "# 方法四：多個值算匯兌\n",
    "print(list(map(lambda x: x * change_rate, prices)))"
   ]
  },
  {
   "cell_type": "markdown",
   "metadata": {},
   "source": [
    "# filter function\n",
    "select elements of a list by True condition"
   ]
  },
  {
   "cell_type": "code",
   "execution_count": null,
   "metadata": {},
   "outputs": [],
   "source": [
    "#篩選偶數的函式\n",
    "def isEven(n):\n",
    "    return n%2 == 0"
   ]
  },
  {
   "cell_type": "code",
   "execution_count": null,
   "metadata": {},
   "outputs": [],
   "source": [
    "# 篩選偶數 A\n",
    "nums = list(range(1, 21))\n",
    "for num in nums:\n",
    "    if isEven(num):\n",
    "        print(num, end=' ')\n",
    "print('\\n')"
   ]
  },
  {
   "cell_type": "code",
   "execution_count": null,
   "metadata": {},
   "outputs": [],
   "source": [
    "# 篩選偶數 B\n",
    "nums = list(range(1, 21))\n",
    "print(list(filter(isEven, nums)))"
   ]
  },
  {
   "cell_type": "code",
   "execution_count": null,
   "metadata": {},
   "outputs": [],
   "source": [
    "# 篩選偶數 C\n",
    "nums = list(range(1, 21))\n",
    "print(list(filter(lambda x: x%2 == 0, nums)))"
   ]
  },
  {
   "cell_type": "code",
   "execution_count": null,
   "metadata": {},
   "outputs": [],
   "source": [
    "# 篩選偶數 D\n",
    "nums = list(range(1, 21))\n",
    "print([k for k in nums if k%2 == 0])\n"
   ]
  },
  {
   "cell_type": "code",
   "execution_count": null,
   "metadata": {},
   "outputs": [],
   "source": [
    "# 拿掉第一個 'java' in spam list\n",
    "spam = ['python', 'java', 'CSS', 'c++', 'java', 'r', 'php', 'ruby']\n",
    "spam.remove('java')  # 拿掉第一個 'java'\n",
    "print(spam)"
   ]
  },
  {
   "cell_type": "code",
   "execution_count": null,
   "metadata": {},
   "outputs": [],
   "source": [
    "# Remove all 'java' in spam list\n",
    "spam = ['python', 'java', 'CSS', 'c++', 'java', 'r', 'php', 'ruby']\n",
    "foo = list(filter(lambda x: x != 'java', spam))\n",
    "print(foo)"
   ]
  },
  {
   "cell_type": "markdown",
   "metadata": {},
   "source": [
    "# 全域 / 區域變數 (global / local variable)"
   ]
  },
  {
   "cell_type": "code",
   "execution_count": null,
   "metadata": {},
   "outputs": [],
   "source": [
    "def foo():\n",
    "    y = 24    # 區域變數\n",
    "    print(y)\n",
    "    x = 10    # 區域變數\n",
    "    print(x)\n",
    "\n",
    "x = 23 # 全域變數    \n",
    "foo()\n",
    "print(x)"
   ]
  },
  {
   "cell_type": "code",
   "execution_count": null,
   "metadata": {},
   "outputs": [],
   "source": [
    "def foo():\n",
    "    x = 'alice'  # 區域變數\n",
    "    return x\n",
    "\n",
    "x = 42  # 全域變數\n",
    "print(foo())\n",
    "print(x)\n"
   ]
  },
  {
   "cell_type": "code",
   "execution_count": null,
   "metadata": {},
   "outputs": [],
   "source": [
    "def foo():\n",
    "    global x    \n",
    "    x = 'alice'\n",
    "    return x\n",
    "\n",
    "x = 42\n",
    "print(foo())\n",
    "print(x)"
   ]
  },
  {
   "cell_type": "markdown",
   "metadata": {},
   "source": [
    "# Lab"
   ]
  },
  {
   "cell_type": "markdown",
   "metadata": {},
   "source": [
    "1. 寫一個 temperature.py 程式，定義兩個函式\n",
    "- convert_cel_to_far(), 取一個表示攝氏溫度的浮點數參數，再用這個公式換算，然後傳回一個表示華氏溫度的浮點數 (F=C*9/5+32)\n",
    "- convert_far_to_cel(), 取一個表示華氏溫度的浮點數參數，再用這個公式換算，然後傳回一個表示攝氏溫度的浮點數 (C = (F - 32) * 5/9)\n",
    "- 程式應該要進行以下操作：\n",
    "  - 讓使用者選擇要做的轉換是華式轉換攝氏還是攝氏轉換華式\n",
    "  - 讓使用者輸入華式單位的溫度，然後顯示換算為攝氏的溫度\n",
    "  - 讓使用者輸入攝式單位的溫度，然後顯示換算為華氏的溫度\n"
   ]
  },
  {
   "cell_type": "markdown",
   "metadata": {},
   "source": [
    "2. Assume nums = [1, 11, 111, 1111] generate another list to calculate square of elements of nums. Output: [1, 121, 12321, 1234321]"
   ]
  },
  {
   "cell_type": "markdown",
   "metadata": {},
   "source": [
    "3. Assume prices = [1350, 2400, 800, 7980, 5000]\n",
    "- find all elements in prices which is <= 2000 (filter)\n",
    "- identify the positions of elements which is <=2000 (enumerate)\n",
    "- example of output: item 0's price 1350 is <=2000"
   ]
  },
  {
   "cell_type": "markdown",
   "metadata": {},
   "source": [
    "# W3 School"
   ]
  },
  {
   "cell_type": "markdown",
   "metadata": {},
   "source": [
    "- [Global Variable] https://www.w3schools.com/python/exercise.asp?x=xrcise_variables_global1\n",
    "- [Unpack Tuples] https://www.w3schools.com/python/exercise.asp?x=xrcise_tuples_unpack1\n",
    "- [Lambda] https://www.w3schools.com/python/exercise.asp?x=xrcise_lambda1\n",
    "- [Scope] https://www.w3schools.com/python/exercise.asp?x=xrcise_scope1"
   ]
  },
  {
   "cell_type": "markdown",
   "metadata": {},
   "source": [
    "# 遞回函式（recursive function)"
   ]
  },
  {
   "cell_type": "markdown",
   "metadata": {},
   "source": [
    "- 簡單來說就是在一個函式當中再去呼叫它自己, 如\n",
    "- 階乘 (factorial) : 5! = 5 x 4 x 3 x 2 x 1\n",
    "- 費氏數列 (Fibonacci sequence): 0, 1, 1, 2, 3, 5, 8, 13, 21, 34, 55 (第 n 項 = 第 n-1 項 + 第 n-2 項)"
   ]
  },
  {
   "cell_type": "markdown",
   "metadata": {},
   "source": [
    "# 階乘"
   ]
  },
  {
   "cell_type": "code",
   "execution_count": null,
   "metadata": {},
   "outputs": [],
   "source": [
    "def factorial (num):\n",
    "    if (num == 1):\n",
    "        return num\n",
    "    else:\n",
    "        return num * factorial(num - 1)\n",
    "\n",
    "print(factorial(4))"
   ]
  },
  {
   "cell_type": "markdown",
   "metadata": {},
   "source": [
    "![階乘](https://i.imgur.com/U92Q9ms.gif)"
   ]
  },
  {
   "cell_type": "markdown",
   "metadata": {},
   "source": [
    "# 費氏數列\n",
    "第 0 項 = 0, 第 1 項 = 1, 第 n 項 = 第 n-1 項 + 第 n-2 項 <br>\n",
    "0, 1, 1, 2, 3, 5, 8, 13, 21, 34"
   ]
  },
  {
   "cell_type": "markdown",
   "metadata": {},
   "source": [
    "![費氏數列1](https://miro.medium.com/v2/resize:fit:1400/format:webp/0*FPJnP_K_Jz3cBorR.jpeg)"
   ]
  },
  {
   "cell_type": "markdown",
   "metadata": {},
   "source": [
    "![費氏數列2](https://miro.medium.com/v2/resize:fit:1400/format:webp/0*8l3i67OHS_YSXPKX.jpeg)"
   ]
  },
  {
   "cell_type": "code",
   "execution_count": null,
   "metadata": {},
   "outputs": [],
   "source": [
    "# 第 0 項 = 0, 第 1 項 = 1, 第 n 項 = 第 n-1 項 + 第 n-2 項\n",
    "def fibo(n):\n",
    "  if (n == 0):\n",
    "    return 0\n",
    "  elif (n == 1):\n",
    "    return 1\n",
    "  else:\n",
    "    return fibo(n-1) + fibo(n-2)\n",
    "\n",
    "for i in range(10):\n",
    "  print(fibo(i))  # 0, 1, 1, 2, 3, 5, 8, 13, 21, 34"
   ]
  },
  {
   "cell_type": "markdown",
   "metadata": {},
   "source": [
    "# Lab "
   ]
  },
  {
   "cell_type": "markdown",
   "metadata": {},
   "source": [
    "反轉字串: 輸入一個字串，使用遞迴反轉它。"
   ]
  },
  {
   "cell_type": "code",
   "execution_count": null,
   "metadata": {},
   "outputs": [],
   "source": [
    "def reverse_string(s):\n",
    "    # 基底條件\n",
    "    if len(s) == 0:\n",
    "        return \"\"\n",
    "    # 遞迴計算\n",
    "    return s[-1] + reverse_string(s[:-1])\n",
    "\n",
    "# 測試\n",
    "input_string = \"hello\"\n",
    "print(f\"字串 '{input_string}' 的反轉結果：{reverse_string(input_string)}\")"
   ]
  },
  {
   "cell_type": "markdown",
   "metadata": {},
   "source": [
    "# Homework"
   ]
  },
  {
   "cell_type": "markdown",
   "metadata": {},
   "source": [
    "## 使用遞迴函數實作河內塔問題 (Tower of Hanoi) "
   ]
  }
 ],
 "metadata": {
  "kernelspec": {
   "display_name": ".venv",
   "language": "python",
   "name": "python3"
  },
  "language_info": {
   "codemirror_mode": {
    "name": "ipython",
    "version": 3
   },
   "file_extension": ".py",
   "mimetype": "text/x-python",
   "name": "python",
   "nbconvert_exporter": "python",
   "pygments_lexer": "ipython3",
   "version": "3.13.1"
  }
 },
 "nbformat": 4,
 "nbformat_minor": 2
}
