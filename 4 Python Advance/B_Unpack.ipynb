{
 "cells": [
  {
   "cell_type": "markdown",
   "metadata": {},
   "source": [
    "# Unpacking 開箱"
   ]
  },
  {
   "cell_type": "code",
   "execution_count": null,
   "metadata": {},
   "outputs": [],
   "source": [
    "foo = [1, 2, 3]\n",
    "a = foo[0]\n",
    "b = foo[1]\n",
    "c = foo[2]\n",
    "print(a, b, c)"
   ]
  },
  {
   "cell_type": "code",
   "execution_count": null,
   "metadata": {},
   "outputs": [],
   "source": [
    "# tuple unpacking\n",
    "a, b, c = (1, 2, 3); print(a, b, c)\n",
    "# list unpacking\n",
    "a, b, c = [1, 2, 3]; print(a, b, c)\n",
    "# string unpacking\n",
    "a, b, c, d, e = 'hello'; print(f'{a=}, {b=}, {c=}, {d=}, {e=}')"
   ]
  },
  {
   "cell_type": "code",
   "execution_count": null,
   "metadata": {},
   "outputs": [],
   "source": [
    "# swapping values\n",
    "x = 1; y = 2\n",
    "y, x = x, y\n",
    "print(x, y)"
   ]
  },
  {
   "cell_type": "code",
   "execution_count": null,
   "metadata": {},
   "outputs": [],
   "source": [
    "a, *b = [1, 2, 3, 4, 5]\n",
    "print(f'{a=}, {b=}')\n",
    "a, *b, c = [1, 2, 3, 4, 5]\n",
    "print(f'{a=}, {b=}, {c=}')\n",
    "foo, *_, boo = [1, 2, 3, 4, 5]\n",
    "print(f'{foo=}, {boo=}')\n",
    "data = ['Jacky', [1, 2], (0.1, 0.2, 100)]\n",
    "name, *_, (*_, score) = data\n",
    "print(f'{name=}, {score=}')"
   ]
  },
  {
   "cell_type": "code",
   "execution_count": null,
   "metadata": {},
   "outputs": [],
   "source": [
    "name = ['Jacky', 'Mary', 'Andy', 'Lynn']\n",
    "for i, name in enumerate(name, 1):\n",
    "    print(f'{i} {name}')"
   ]
  },
  {
   "cell_type": "code",
   "execution_count": null,
   "metadata": {},
   "outputs": [],
   "source": [
    "print(list(range(5)))\n",
    "print([*range(5)])"
   ]
  },
  {
   "cell_type": "code",
   "execution_count": null,
   "metadata": {},
   "outputs": [],
   "source": [
    "foo = [1, 2, 3]\n",
    "boo = [4, 5, 6]\n",
    "a = foo + boo\n",
    "b = [*foo, *boo]\n",
    "print(a)\n",
    "print(b)\n",
    "\n",
    "foo = [1, 2, 3]\n",
    "boo = [4, 5, 6]\n",
    "foo.extend(boo)\n",
    "print(foo)"
   ]
  }
 ],
 "metadata": {
  "kernelspec": {
   "display_name": ".venv",
   "language": "python",
   "name": "python3"
  },
  "language_info": {
   "codemirror_mode": {
    "name": "ipython",
    "version": 3
   },
   "file_extension": ".py",
   "mimetype": "text/x-python",
   "name": "python",
   "nbconvert_exporter": "python",
   "pygments_lexer": "ipython3",
   "version": "3.13.1"
  }
 },
 "nbformat": 4,
 "nbformat_minor": 2
}
