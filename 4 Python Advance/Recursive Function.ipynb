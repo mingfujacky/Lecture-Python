{
 "cells": [
  {
   "cell_type": "markdown",
   "metadata": {},
   "source": [
    "# 遞回函式（recursive function)"
   ]
  },
  {
   "cell_type": "markdown",
   "metadata": {},
   "source": [
    "- 簡單來說就是在一個函式當中再去呼叫它自己, 如\n",
    "- 階乘 (factorial) : 5! = 5 x 4 x 3 x 2 x 1\n",
    "- 費氏數列 (Fibonacci sequence): 0, 1, 1, 2, 3, 5, 8, 13, 21, 34, 55 (第 n 項 = 第 n-1 項 + 第 n-2 項)"
   ]
  },
  {
   "cell_type": "markdown",
   "metadata": {},
   "source": [
    "# 階乘"
   ]
  },
  {
   "cell_type": "code",
   "execution_count": null,
   "metadata": {},
   "outputs": [],
   "source": [
    "def factorial (num):\n",
    "    if (num == 1):\n",
    "        return num\n",
    "    else:\n",
    "        return num * factorial(num - 1)\n",
    "\n",
    "print(factorial(4))"
   ]
  },
  {
   "cell_type": "markdown",
   "metadata": {},
   "source": [
    "![階乘](https://i.imgur.com/U92Q9ms.gif)"
   ]
  },
  {
   "cell_type": "markdown",
   "metadata": {},
   "source": [
    "# 費氏數列\n",
    "第 0 項 = 0, 第 1 項 = 1, 第 n 項 = 第 n-1 項 + 第 n-2 項 <br>\n",
    "0, 1, 1, 2, 3, 5, 8, 13, 21, 34"
   ]
  },
  {
   "cell_type": "markdown",
   "metadata": {},
   "source": [
    "![費氏數列1](https://miro.medium.com/v2/resize:fit:1400/format:webp/0*FPJnP_K_Jz3cBorR.jpeg)"
   ]
  },
  {
   "cell_type": "markdown",
   "metadata": {},
   "source": [
    "![費氏數列2](https://miro.medium.com/v2/resize:fit:1400/format:webp/0*8l3i67OHS_YSXPKX.jpeg)"
   ]
  },
  {
   "cell_type": "code",
   "execution_count": 8,
   "metadata": {},
   "outputs": [
    {
     "name": "stdout",
     "output_type": "stream",
     "text": [
      "0\n",
      "1\n",
      "1\n",
      "2\n",
      "3\n",
      "5\n",
      "8\n",
      "13\n",
      "21\n",
      "34\n"
     ]
    }
   ],
   "source": [
    "# 第 0 項 = 0, 第 1 項 = 1, 第 n 項 = 第 n-1 項 + 第 n-2 項\n",
    "def fibo(n):\n",
    "  if (n == 0):\n",
    "    return 0\n",
    "  elif (n == 1):\n",
    "    return 1\n",
    "  else:\n",
    "    return fibo(n-1) + fibo(n-2)\n",
    "\n",
    "for i in range(10):\n",
    "  print(fibo(i))  # 0, 1, 1, 2, 3, 5, 8, 13, 21, 34"
   ]
  },
  {
   "cell_type": "markdown",
   "metadata": {},
   "source": [
    "# Lab "
   ]
  },
  {
   "cell_type": "markdown",
   "metadata": {},
   "source": [
    "反轉字串: 輸入一個字串，使用遞迴反轉它。"
   ]
  },
  {
   "cell_type": "code",
   "execution_count": 9,
   "metadata": {},
   "outputs": [
    {
     "name": "stdout",
     "output_type": "stream",
     "text": [
      "字串 'hello' 的反轉結果：olleh\n"
     ]
    }
   ],
   "source": [
    "def reverse_string(s):\n",
    "    # 基底條件\n",
    "    if len(s) == 0:\n",
    "        return \"\"\n",
    "    # 遞迴計算\n",
    "    return s[-1] + reverse_string(s[:-1])\n",
    "\n",
    "# 測試\n",
    "input_string = \"hello\"\n",
    "print(f\"字串 '{input_string}' 的反轉結果：{reverse_string(input_string)}\")"
   ]
  },
  {
   "cell_type": "markdown",
   "metadata": {},
   "source": [
    "# Homework"
   ]
  },
  {
   "cell_type": "markdown",
   "metadata": {},
   "source": [
    "## 使用遞迴函數實作河內塔問題 (Tower of Hanoi) "
   ]
  }
 ],
 "metadata": {
  "kernelspec": {
   "display_name": ".venv",
   "language": "python",
   "name": "python3"
  },
  "language_info": {
   "codemirror_mode": {
    "name": "ipython",
    "version": 3
   },
   "file_extension": ".py",
   "mimetype": "text/x-python",
   "name": "python",
   "nbconvert_exporter": "python",
   "pygments_lexer": "ipython3",
   "version": "3.13.0"
  }
 },
 "nbformat": 4,
 "nbformat_minor": 2
}
