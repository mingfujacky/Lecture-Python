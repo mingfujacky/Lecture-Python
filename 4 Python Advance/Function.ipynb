{
 "cells": [
  {
   "cell_type": "markdown",
   "metadata": {},
   "source": [
    "# 設定參數預設值"
   ]
  },
  {
   "cell_type": "code",
   "execution_count": null,
   "metadata": {},
   "outputs": [],
   "source": [
    "def print_ch(char, n=5):\n",
    "    print(char * n)\n",
    "\n",
    "print_ch('^', 10)\n",
    "print_ch('*')"
   ]
  },
  {
   "cell_type": "markdown",
   "metadata": {},
   "source": [
    "# *args: 接收多個位置參數(as a tuple)"
   ]
  },
  {
   "cell_type": "code",
   "execution_count": null,
   "metadata": {},
   "outputs": [],
   "source": [
    "def add(label, *nums):  # *nums is a tuple\n",
    "    total = 0\n",
    "    for i in nums:\n",
    "        total += i\n",
    "    return (label, total)\n",
    "\n",
    "print(add('apple', 1, 2, 3))\n",
    "print(add('egg', 1, 2))\n",
    "print(add('pen', 1))\n",
    "print(add('dimond'))"
   ]
  },
  {
   "cell_type": "code",
   "execution_count": null,
   "metadata": {},
   "outputs": [],
   "source": [
    "def my_function(*kids):\n",
    "  print(\"第三大的小孩是 \" + kids[2])\n",
    "  \n",
    "my_function('John', 'Mary', 'Setevn', 'Lance') "
   ]
  },
  {
   "cell_type": "markdown",
   "metadata": {},
   "source": [
    "# **kwargs 接收多個指名參數 (as a dict)"
   ]
  },
  {
   "cell_type": "code",
   "execution_count": 8,
   "metadata": {},
   "outputs": [
    {
     "name": "stdout",
     "output_type": "stream",
     "text": [
      "來賓: 王小明先生\n",
      "中餐 : 葷食\n",
      "電話 : 0919123456\n",
      "email : wang@zyz.com\n"
     ]
    }
   ],
   "source": [
    "def print_label(name, title, **info):\n",
    "    print(f'來賓: {name}{title}')\n",
    "    for key in info.keys():\n",
    "        value = info[key]\n",
    "        print(key,':',value)\n",
    "    \n",
    "args = {'中餐':'葷食', '電話':'0919123456', 'email':'wang@zyz.com'}\n",
    "print_label(name = '王小明', title = '先生', **args)\n"
   ]
  },
  {
   "cell_type": "markdown",
   "metadata": {},
   "source": [
    "# lambda function"
   ]
  },
  {
   "cell_type": "markdown",
   "metadata": {},
   "source": [
    "- simple function\n",
    "- func = lambda 參數1, 參數2, ... : 運算式\n",
    "- foo = lambda x: x ** 2"
   ]
  },
  {
   "cell_type": "code",
   "execution_count": 15,
   "metadata": {},
   "outputs": [
    {
     "name": "stdout",
     "output_type": "stream",
     "text": [
      "4\n"
     ]
    }
   ],
   "source": [
    "foo = lambda x: x ** 2\n",
    "print(foo(2))"
   ]
  },
  {
   "cell_type": "code",
   "execution_count": 16,
   "metadata": {},
   "outputs": [
    {
     "name": "stdout",
     "output_type": "stream",
     "text": [
      "5\n"
     ]
    }
   ],
   "source": [
    "add_number = lambda x,y : x+ y\n",
    "print(add_number(2,3))"
   ]
  },
  {
   "cell_type": "code",
   "execution_count": 18,
   "metadata": {},
   "outputs": [
    {
     "name": "stdout",
     "output_type": "stream",
     "text": [
      "<function myfunc.<locals>.<lambda> at 0x110bb3ba0>\n",
      "33\n"
     ]
    }
   ],
   "source": [
    "def myfunc(n):\n",
    "  return lambda a : a * n\n",
    "\n",
    "mytripler = myfunc(3)\n",
    "print(mytripler)\n",
    "print(mytripler(11))"
   ]
  },
  {
   "cell_type": "markdown",
   "metadata": {},
   "source": [
    "# map function\n",
    "apply function to all elements of a list"
   ]
  },
  {
   "cell_type": "code",
   "execution_count": 9,
   "metadata": {},
   "outputs": [
    {
     "name": "stdout",
     "output_type": "stream",
     "text": [
      "156.15\n"
     ]
    }
   ],
   "source": [
    "# 美元換台幣計算\n",
    "def usd2twd(usd_amount):\n",
    "    return change_rate * usd_amount\n",
    "\n",
    "change_rate = 31.23\n",
    "print(usd2twd(5))"
   ]
  },
  {
   "cell_type": "code",
   "execution_count": null,
   "metadata": {},
   "outputs": [
    {
     "name": "stdout",
     "output_type": "stream",
     "text": [
      "312.3\n",
      "780.75\n",
      "530.91\n"
     ]
    }
   ],
   "source": [
    "# 方法一：多個值算匯兌\n",
    "prices = [10, 25, 17]\n",
    "for price in prices:\n",
    "    print(usd2twd(price))"
   ]
  },
  {
   "cell_type": "code",
   "execution_count": 11,
   "metadata": {},
   "outputs": [
    {
     "name": "stdout",
     "output_type": "stream",
     "text": [
      "[312.3, 780.75, 530.91]\n"
     ]
    }
   ],
   "source": [
    "# 方法二：多個值算匯兌\n",
    "print(list(map(usd2twd, prices)))"
   ]
  },
  {
   "cell_type": "code",
   "execution_count": 12,
   "metadata": {},
   "outputs": [
    {
     "name": "stdout",
     "output_type": "stream",
     "text": [
      "[312.3, 780.75, 530.91]\n"
     ]
    }
   ],
   "source": [
    "# 方法三：多個值算匯兌\n",
    "foo = lambda x: x * change_rate\n",
    "print(list(map(foo, prices)))"
   ]
  },
  {
   "cell_type": "code",
   "execution_count": 13,
   "metadata": {},
   "outputs": [
    {
     "name": "stdout",
     "output_type": "stream",
     "text": [
      "[312.3, 780.75, 530.91]\n"
     ]
    }
   ],
   "source": [
    "# 方法四：多個值算匯兌\n",
    "print(list(map(lambda x: x * change_rate, prices)))"
   ]
  },
  {
   "cell_type": "markdown",
   "metadata": {},
   "source": [
    "# filter function\n",
    "select elements of a list by True condition"
   ]
  },
  {
   "cell_type": "code",
   "execution_count": 21,
   "metadata": {},
   "outputs": [],
   "source": [
    "#篩選偶數的函式\n",
    "def isEven(n):\n",
    "    return n%2 == 0"
   ]
  },
  {
   "cell_type": "code",
   "execution_count": 22,
   "metadata": {},
   "outputs": [
    {
     "name": "stdout",
     "output_type": "stream",
     "text": [
      "2 4 6 8 10 12 14 16 18 20 \n",
      "\n"
     ]
    }
   ],
   "source": [
    "# 篩選偶數 A\n",
    "nums = list(range(1, 21))\n",
    "for num in nums:\n",
    "    if isEven(num):\n",
    "        print(num, end=' ')\n",
    "print('\\n')"
   ]
  },
  {
   "cell_type": "code",
   "execution_count": 24,
   "metadata": {},
   "outputs": [
    {
     "name": "stdout",
     "output_type": "stream",
     "text": [
      "[2, 4, 6, 8, 10, 12, 14, 16, 18, 20]\n"
     ]
    }
   ],
   "source": [
    "# 篩選偶數 B\n",
    "nums = list(range(1, 21))\n",
    "print(list(filter(isEven, nums)))"
   ]
  },
  {
   "cell_type": "code",
   "execution_count": 25,
   "metadata": {},
   "outputs": [
    {
     "name": "stdout",
     "output_type": "stream",
     "text": [
      "[2, 4, 6, 8, 10, 12, 14, 16, 18, 20]\n"
     ]
    }
   ],
   "source": [
    "# 篩選偶數 C\n",
    "nums = list(range(1, 21))\n",
    "print(list(filter(lambda x: x%2 == 0, nums)))"
   ]
  },
  {
   "cell_type": "code",
   "execution_count": 27,
   "metadata": {},
   "outputs": [
    {
     "name": "stdout",
     "output_type": "stream",
     "text": [
      "[2, 4, 6, 8, 10, 12, 14, 16, 18, 20]\n"
     ]
    }
   ],
   "source": [
    "# 篩選偶數 D\n",
    "nums = list(range(1, 21))\n",
    "print([k for k in nums if k%2 == 0])\n"
   ]
  },
  {
   "cell_type": "markdown",
   "metadata": {},
   "source": [
    "# 全域 / 區域變數 (global / local variable)"
   ]
  },
  {
   "cell_type": "code",
   "execution_count": 28,
   "metadata": {},
   "outputs": [
    {
     "name": "stdout",
     "output_type": "stream",
     "text": [
      "24\n",
      "10\n",
      "23\n"
     ]
    }
   ],
   "source": [
    "def foo():\n",
    "    y = 24    # 區域變數\n",
    "    print(y)\n",
    "    x = 10    # 區域變數\n",
    "    print(x)\n",
    "\n",
    "x = 23 # 全域變數    \n",
    "foo()\n",
    "print(x)"
   ]
  },
  {
   "cell_type": "code",
   "execution_count": null,
   "metadata": {},
   "outputs": [
    {
     "name": "stdout",
     "output_type": "stream",
     "text": [
      "alice\n",
      "42\n"
     ]
    }
   ],
   "source": [
    "def foo():\n",
    "    x = 'alice'  # 區域變數\n",
    "    return x\n",
    "\n",
    "x = 42  # 全域變數\n",
    "print(foo())\n",
    "print(x)\n"
   ]
  },
  {
   "cell_type": "code",
   "execution_count": 30,
   "metadata": {},
   "outputs": [
    {
     "name": "stdout",
     "output_type": "stream",
     "text": [
      "alice\n",
      "alice\n"
     ]
    }
   ],
   "source": [
    "def foo():\n",
    "    global x    \n",
    "    x = 'alice'\n",
    "    return x\n",
    "\n",
    "x = 42\n",
    "print(foo())\n",
    "print(x)"
   ]
  },
  {
   "cell_type": "markdown",
   "metadata": {},
   "source": [
    "# Lab"
   ]
  },
  {
   "cell_type": "markdown",
   "metadata": {},
   "source": [
    "1. 寫一個 temperature.py 程式，定義兩個函式\n",
    "- convert_cel_to_far(), 取一個表示攝氏溫度的浮點數參數，再用這個公式換算，然後傳回一個表示華氏溫度的浮點數 (F=C*9/5+32)\n",
    "- convert_far_to_cel(), 取一個表示華氏溫度的浮點數參數，再用這個公式換算，然後傳回一個表示攝氏溫度的浮點數 (C = (F - 32) * 5/9)\n",
    "- 程式應該要進行以下操作：\n",
    "  - 讓使用者選擇要做的轉換是華式轉換攝氏還是攝氏轉換華式\n",
    "  - 讓使用者輸入華式單位的溫度，然後顯示換算為攝氏的溫度\n",
    "  - 讓使用者輸入攝式單位的溫度，然後顯示換算為華氏的溫度\n"
   ]
  },
  {
   "cell_type": "markdown",
   "metadata": {},
   "source": [
    "2. Assume nums = [1, 11, 111, 1111] generate another list to calculate square of elements of nums. Output: [1, 121, 12321, 1234321]"
   ]
  },
  {
   "cell_type": "markdown",
   "metadata": {},
   "source": [
    "3. Assume prices = [1350, 2400, 800, 7980, 5000]\n",
    "- find all elements in prices which is <= 2000 (filter)\n",
    "- identify the positions of elements which is <=2000 (enumerate)\n",
    "- example of output: item 0's price 1350 is <=2000"
   ]
  },
  {
   "cell_type": "code",
   "execution_count": null,
   "metadata": {},
   "outputs": [],
   "source": []
  }
 ],
 "metadata": {
  "kernelspec": {
   "display_name": ".venv",
   "language": "python",
   "name": "python3"
  },
  "language_info": {
   "codemirror_mode": {
    "name": "ipython",
    "version": 3
   },
   "file_extension": ".py",
   "mimetype": "text/x-python",
   "name": "python",
   "nbconvert_exporter": "python",
   "pygments_lexer": "ipython3",
   "version": "3.13.0"
  }
 },
 "nbformat": 4,
 "nbformat_minor": 2
}
