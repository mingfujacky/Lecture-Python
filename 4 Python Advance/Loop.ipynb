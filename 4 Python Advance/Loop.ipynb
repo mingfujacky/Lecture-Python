{
 "cells": [
  {
   "cell_type": "code",
   "execution_count": 1,
   "metadata": {},
   "outputs": [
    {
     "name": "stdout",
     "output_type": "stream",
     "text": [
      "[1, 1, 9, 6, 25]\n"
     ]
    }
   ],
   "source": [
    "def tricky_function(lst):\n",
    "    result=[]\n",
    "    for i in range(len(lst)):\n",
    "        if i%2==0:\n",
    "            result.append(lst[i]**2)\n",
    "        else:\n",
    "            result.append(sum(lst[:i]))\n",
    "    return result\n",
    "\n",
    "dataset = [1, 2, 3, 4, 5]\n",
    "print(tricky_function(dataset))"
   ]
  },
  {
   "cell_type": "markdown",
   "metadata": {},
   "source": [
    "# for loop + enumerate() 和 _"
   ]
  },
  {
   "cell_type": "code",
   "execution_count": null,
   "metadata": {},
   "outputs": [],
   "source": [
    "# find where is 'apple'\n",
    "fruits = ['apple', 'kiwi', 'orange', 'apple', 'grape', 'apple']\n",
    "for i, fruit in enumerate(fruits):\n",
    "    if fruit == 'apple':\n",
    "        print('find ' + fruit + ' in pos ' + str(i))"
   ]
  },
  {
   "cell_type": "code",
   "execution_count": null,
   "metadata": {},
   "outputs": [],
   "source": [
    "# 抽六張撲克牌\n",
    "import random\n",
    "cards=[]\n",
    "for _ in range(6):\n",
    "    card = random.randint(1, 13)\n",
    "    cards.append(card)\n",
    "print(cards)"
   ]
  },
  {
   "cell_type": "markdown",
   "metadata": {},
   "source": [
    "# List Comprehension to replace loop"
   ]
  },
  {
   "cell_type": "markdown",
   "metadata": {},
   "source": [
    "- List Comprehension 是一個重整List的方法。透過原來的List，加以一些簡單的處理，去製做一個新的List\n",
    "- [expression for item in iterable]\n",
    "  - expression：可以是 item 或運算式\n",
    "  - item：接收可疊代的物件(Iterable Object)元素\n",
    "  - iterable：可疊代的物件(Iterable Object)\n",
    "- [expression for item in iterable if condition]\n"
   ]
  },
  {
   "cell_type": "code",
   "execution_count": 2,
   "metadata": {},
   "outputs": [
    {
     "name": "stdout",
     "output_type": "stream",
     "text": [
      "[0, 3, 6, 9, 12, 15, 18, 21, 24, 27]\n"
     ]
    }
   ],
   "source": [
    "# use loop to handle every element in iterable \n",
    "eggs = []\n",
    "for x in range(10):\n",
    "    eggs.append(x * 3)\n",
    "print(eggs)    "
   ]
  },
  {
   "cell_type": "code",
   "execution_count": 3,
   "metadata": {},
   "outputs": [
    {
     "name": "stdout",
     "output_type": "stream",
     "text": [
      "[0, 3, 6, 9, 12, 15, 18, 21, 24, 27]\n",
      "[15, 18, 21, 24, 27]\n"
     ]
    }
   ],
   "source": [
    "# list comprehension\n",
    "foo = [x * 3 for x in range(10)]\n",
    "print(foo)\n",
    "# list comprehension w/ condition\n",
    "boo = [x * 3 for x in range(10) if x > 4]\n",
    "print(boo)"
   ]
  },
  {
   "cell_type": "code",
   "execution_count": 8,
   "metadata": {},
   "outputs": [
    {
     "name": "stdout",
     "output_type": "stream",
     "text": [
      "[50, 12, 30, 27]\n",
      "[50, 0, 12, 30, 27, 0]\n"
     ]
    }
   ],
   "source": [
    "numbers = [50, 2, 12, 30, 27, 4]\n",
    "spam1 = [x for x in numbers if x > 10]\n",
    "print(spam1)\n",
    "\n",
    "spam2 = [x if x > 10 else 0 for x in numbers]\n",
    "print(spam2)\n"
   ]
  },
  {
   "cell_type": "markdown",
   "metadata": {},
   "source": [
    "# Lab"
   ]
  },
  {
   "cell_type": "markdown",
   "metadata": {},
   "source": [
    "- 列印撲克牌的所有牌\n",
    "- suit = list(\"♣♦♥♠\")\n",
    "- rank = \"A,2,3,4,5,6,7,8,9,10,J,Q,K\".split(',')\n",
    "- output: ♣A, ♣2, ♣3\n",
    "- card = [(s, r) for s in suit for r in rank]\n"
   ]
  },
  {
   "cell_type": "code",
   "execution_count": null,
   "metadata": {},
   "outputs": [],
   "source": []
  }
 ],
 "metadata": {
  "kernelspec": {
   "display_name": ".venv",
   "language": "python",
   "name": "python3"
  },
  "language_info": {
   "codemirror_mode": {
    "name": "ipython",
    "version": 3
   },
   "file_extension": ".py",
   "mimetype": "text/x-python",
   "name": "python",
   "nbconvert_exporter": "python",
   "pygments_lexer": "ipython3",
   "version": "3.13.0"
  }
 },
 "nbformat": 4,
 "nbformat_minor": 2
}
