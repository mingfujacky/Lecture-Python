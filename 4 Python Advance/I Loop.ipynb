{
 "cells": [
  {
   "cell_type": "code",
   "execution_count": null,
   "metadata": {},
   "outputs": [],
   "source": [
    "def tricky_function(lst):\n",
    "    result=[]\n",
    "    for i in range(len(lst)):\n",
    "        if i%2==0:\n",
    "            result.append(lst[i]**2)\n",
    "        else:\n",
    "            result.append(sum(lst[:i]))\n",
    "    return result\n",
    "\n",
    "dataset = [1, 2, 3, 4, 5]\n",
    "print(tricky_function(dataset))"
   ]
  },
  {
   "cell_type": "markdown",
   "metadata": {},
   "source": [
    "# for loop + enumerate() 和 _"
   ]
  },
  {
   "cell_type": "code",
   "execution_count": null,
   "metadata": {},
   "outputs": [],
   "source": [
    "# find where is 'apple'\n",
    "fruits = ['apple', 'kiwi', 'orange', 'apple', 'grape', 'apple']\n",
    "for i, fruit in enumerate(fruits):\n",
    "    if fruit == 'apple':\n",
    "        print('find ' + fruit + ' in pos ' + str(i))"
   ]
  },
  {
   "cell_type": "code",
   "execution_count": null,
   "metadata": {},
   "outputs": [],
   "source": [
    "# 抽六張撲克牌\n",
    "import random\n",
    "cards=[]\n",
    "for _ in range(6):\n",
    "    card = random.randint(1, 13)\n",
    "    cards.append(card)\n",
    "print(cards)"
   ]
  },
  {
   "cell_type": "markdown",
   "metadata": {},
   "source": [
    "# List Comprehension to replace loop"
   ]
  },
  {
   "cell_type": "markdown",
   "metadata": {},
   "source": [
    "- 數學的集合描述法\n",
    "$$\n",
    "B = \\{ x \\mid x \\in \\mathbb{Z}, 3 < x < 6 \\}, \\text{其中} \\mathbb{Z} \\text{代表整數集合，則} B = \\{ 4, 5 \\}\n",
    "$$\n",
    "$$\n",
    "C = \\{ x \\mid x > 0 \\text{ 且 } x < 10 \\text{ 且 } x \\text{ 是偶數} \\}\n",
    "$$\n",
    "$$\n",
    "D = \\{ 2n \\mid n \\text{ 為 } 1 \\sim 4 \\text{ 的自然數} \\}\n",
    "$$\n",
    "- List Comprehension 是一個重整List的方法。透過原來的List，加以一些簡單的處理，去製做一個新的List\n",
    "- [結果 for 個體 in 集合]\n",
    "- [expression for item in iterable]\n",
    "  - expression：可以是 item 或運算式\n",
    "  - item：接收可疊代的物件(Iterable Object)元素\n",
    "  - iterable：可疊代的物件(Iterable Object)\n",
    "- [結果 for 個體 in 集合 if 條件判斷]\n",
    "- [expression for item in iterable if condition]\n"
   ]
  },
  {
   "cell_type": "code",
   "execution_count": null,
   "metadata": {},
   "outputs": [],
   "source": [
    "# use loop to handle every element in iterable \n",
    "eggs = []\n",
    "for x in range(10):\n",
    "    eggs.append(x * 3)\n",
    "print(eggs)    "
   ]
  },
  {
   "cell_type": "code",
   "execution_count": null,
   "metadata": {},
   "outputs": [],
   "source": [
    "# list comprehension\n",
    "foo = [x * 3 for x in range(10)]\n",
    "print(foo)\n",
    "# list comprehension w/ condition\n",
    "boo = [x * 3 for x in range(10) if x > 4]\n",
    "print(boo)"
   ]
  },
  {
   "cell_type": "code",
   "execution_count": null,
   "metadata": {},
   "outputs": [],
   "source": [
    "numbers = [50, 2, 12, 30, 27, 4]\n",
    "spam1 = [x for x in numbers if x > 10]\n",
    "print(spam1)\n",
    "\n",
    "spam2 = [x if x > 10 else 0 for x in numbers]\n",
    "print(spam2)\n"
   ]
  },
  {
   "cell_type": "code",
   "execution_count": null,
   "metadata": {},
   "outputs": [],
   "source": [
    "foo = [char.upper() for char in 'aPpLe']\n",
    "print(foo)\n",
    "boo = [round(num,1) for num in [3.14159, 1.4142, 2.71828]]\n",
    "print(boo)"
   ]
  },
  {
   "cell_type": "code",
   "execution_count": null,
   "metadata": {},
   "outputs": [],
   "source": [
    "foo = [0 for _ in range(10)]\n",
    "print(foo)\n",
    "boo = [0] * 10\n",
    "print(boo)"
   ]
  },
  {
   "cell_type": "code",
   "execution_count": null,
   "metadata": {},
   "outputs": [],
   "source": [
    "# 坑 坑 坑 串列內有可變物件時，操作時要特別小心\n",
    "empty_lists = [[]] * 3\n",
    "print(empty_lists)\n",
    "empty_lists[0].append(100)\n",
    "print(empty_lists)\n",
    "\n",
    "empty_lists = [[] for _ in range(3)]\n",
    "print(empty_lists)\n",
    "empty_lists[0].append(100)\n",
    "print(empty_lists)"
   ]
  },
  {
   "cell_type": "code",
   "execution_count": null,
   "metadata": {},
   "outputs": [],
   "source": [
    "spam = [[1, 2, 3]]\n",
    "double_spam = spam + spam\n",
    "print(double_spam)\n",
    "double_spam[0][0] = 100\n",
    "print(double_spam)"
   ]
  },
  {
   "cell_type": "code",
   "execution_count": null,
   "metadata": {},
   "outputs": [],
   "source": [
    "# 九九乘法表\n",
    "for i in range(1, 10):\n",
    "    for j in range(1, 10):\n",
    "        print(f'{i} x {j} = {i*j}')"
   ]
  },
  {
   "cell_type": "code",
   "execution_count": null,
   "metadata": {},
   "outputs": [],
   "source": [
    "# 九九乘法表\n",
    "foo = [f\"{i} x {j} = {i*j}\" for i in range(1, 10) for j in range(1, 10)]\n",
    "print(foo)\n",
    "print('\\n'.join(foo))"
   ]
  },
  {
   "cell_type": "markdown",
   "metadata": {},
   "source": [
    "# Lab"
   ]
  },
  {
   "cell_type": "markdown",
   "metadata": {},
   "source": [
    "- 列印撲克牌的所有牌\n",
    "- suit = list(\"♣♦♥♠\")\n",
    "- rank = \"A,2,3,4,5,6,7,8,9,10,J,Q,K\".split(',')\n",
    "- output: ♣A, ♣2, ♣3\n",
    "- card = [(s, r) for s in suit for r in rank]\n"
   ]
  },
  {
   "cell_type": "code",
   "execution_count": null,
   "metadata": {},
   "outputs": [],
   "source": []
  }
 ],
 "metadata": {
  "kernelspec": {
   "display_name": ".venv",
   "language": "python",
   "name": "python3"
  },
  "language_info": {
   "codemirror_mode": {
    "name": "ipython",
    "version": 3
   },
   "file_extension": ".py",
   "mimetype": "text/x-python",
   "name": "python",
   "nbconvert_exporter": "python",
   "pygments_lexer": "ipython3",
   "version": "3.13.1"
  }
 },
 "nbformat": 4,
 "nbformat_minor": 2
}
