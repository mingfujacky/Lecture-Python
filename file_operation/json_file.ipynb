{
 "cells": [
  {
   "cell_type": "markdown",
   "metadata": {},
   "source": [
    "# JSON file"
   ]
  },
  {
   "cell_type": "markdown",
   "metadata": {},
   "source": [
    "- JSON（JavaScript Object Notation）是一種輕量級的數據交換格式，易於人讀寫，也易於機器解析和生成。\n",
    "- 以純文字為基礎，用來儲存簡單的資料，幾乎所有與網路開發相關的語言都會有JSON函式庫, 適合用於數據交換\n",
    "- JSON 主要數據結構 (data structures)\n",
    "  - Data (資料): 鍵值對 “name” : “John”\n",
    "  - Object (物件): 由 {} 包圍，包含多個Data (鍵值對) ，例如：{\"name\": \"Alice\", \"age\": 25}\n",
    "  - Array (陣列): 由 [] 包圍，包含多個Object或其他數據類型，<br>\n",
    "    - employees包含3個Objects, each object is a record of a person\n",
    "    - courses 包含兩個字串\n",
    "- JSON 支持以下數據類型 (data types)\n",
    "  - 字符串(String): 必須用雙引號括起來，例如 \"Hello\"\n",
    "  - 數字(Number):不需要引號，例如 42 或 3.14\n",
    "  - 布林值(Boolean): true 或 false (lower case)\n",
    "  - 空值(Null): 用 null 表示\n",
    "```JSON\n",
    "{\n",
    "\"employees\":[\n",
    "  {\"firstName\":\"John\", \"lastName\":\"Doe\"},\n",
    "  {\"firstName\":\"Anna\", \"lastName\":\"Smith\"},\n",
    "  {\"firstName\":\"Peter\", \"lastName\":\"Jones\"}\n",
    "]\n",
    "}\n",
    "```\n",
    "\n",
    "```JSON\n",
    "{\n",
    "  \"name\": \"Alice\",\n",
    "  \"age\": 25,\n",
    "  \"isStudent\": false,\n",
    "  \"courses\": [\"Math\", \"Science\"],\n",
    "  \"address\": {\n",
    "    \"street\": \"123 Main St\",\n",
    "    \"city\": \"Wonderland\"\n",
    "  }\n",
    "}\n",
    "```\n"
   ]
  },
  {
   "cell_type": "markdown",
   "metadata": {},
   "source": [
    "# JSON Validation (https://jsonlint.com)"
   ]
  },
  {
   "cell_type": "markdown",
   "metadata": {},
   "source": [
    "[Wrong JSON](/Users/jacky/Documents/交大教學/Python講義4/json/wrong_sample.json)\n",
    "```JSON\n",
    "{\n",
    "    \"name\": 'Frieda',\n",
    "    \"address\": {\n",
    "        \"work\": null, //Doesn't pay rent either\n",
    "        \"home\": \"Berlin\",\n",
    "    },\n",
    "    \"friends\": [\n",
    "        {\n",
    "            \"name\": \"Philipp\",\n",
    "            \"hobbies\": [\"eating\", \"sleeping\", \"reading\",]\n",
    "        }\n",
    "    ]\n",
    "}\n",
    "```"
   ]
  },
  {
   "cell_type": "markdown",
   "metadata": {},
   "source": [
    "# Read JSON file"
   ]
  },
  {
   "cell_type": "markdown",
   "metadata": {},
   "source": [
    "[Score.json](/Users/jacky/Lecture-Python/files/json/score.json)\n",
    "\n",
    "|id|name|chinese|math|english\n",
    "|--|----|-------|----|-------\n",
    "|1|John|90|80|70\n",
    "|2|Mary|55|60|75\n",
    "|3|Tom|90|95|100\n",
    "\n"
   ]
  },
  {
   "cell_type": "code",
   "execution_count": 1,
   "metadata": {},
   "outputs": [
    {
     "ename": "FileNotFoundError",
     "evalue": "[Errno 2] No such file or directory: '/Users/jacky/Lecture-Python/files/json/score.json'",
     "output_type": "error",
     "traceback": [
      "\u001b[0;31m---------------------------------------------------------------------------\u001b[0m",
      "\u001b[0;31mFileNotFoundError\u001b[0m                         Traceback (most recent call last)",
      "Cell \u001b[0;32mIn[1], line 5\u001b[0m\n\u001b[1;32m      3\u001b[0m \u001b[38;5;28;01mimport\u001b[39;00m \u001b[38;5;21;01mjson\u001b[39;00m\n\u001b[1;32m      4\u001b[0m file_path \u001b[38;5;241m=\u001b[39m Path\u001b[38;5;241m.\u001b[39mhome() \u001b[38;5;241m/\u001b[39m \u001b[38;5;124m'\u001b[39m\u001b[38;5;124mLecture-Python\u001b[39m\u001b[38;5;124m'\u001b[39m \u001b[38;5;241m/\u001b[39m \u001b[38;5;124m'\u001b[39m\u001b[38;5;124mfiles\u001b[39m\u001b[38;5;124m'\u001b[39m \u001b[38;5;241m/\u001b[39m \u001b[38;5;124m'\u001b[39m\u001b[38;5;124mjson\u001b[39m\u001b[38;5;124m'\u001b[39m \u001b[38;5;241m/\u001b[39m \u001b[38;5;124m'\u001b[39m\u001b[38;5;124mscore.json\u001b[39m\u001b[38;5;124m'\u001b[39m\n\u001b[0;32m----> 5\u001b[0m \u001b[38;5;28;01mwith\u001b[39;00m \u001b[38;5;28;43mopen\u001b[39;49m\u001b[43m(\u001b[49m\u001b[43mfile_path\u001b[49m\u001b[43m,\u001b[49m\u001b[43m \u001b[49m\u001b[38;5;124;43m'\u001b[39;49m\u001b[38;5;124;43mr\u001b[39;49m\u001b[38;5;124;43m'\u001b[39;49m\u001b[43m,\u001b[49m\u001b[43m \u001b[49m\u001b[43mencoding\u001b[49m\u001b[38;5;241;43m=\u001b[39;49m\u001b[38;5;124;43m'\u001b[39;49m\u001b[38;5;124;43mutf-8\u001b[39;49m\u001b[38;5;124;43m'\u001b[39;49m\u001b[43m)\u001b[49m \u001b[38;5;28;01mas\u001b[39;00m f:\n\u001b[1;32m      6\u001b[0m   contents \u001b[38;5;241m=\u001b[39m json\u001b[38;5;241m.\u001b[39mload(f)  \u001b[38;5;66;03m# 讀取json檔案, 讀回來一個list, element 是 dictionary\u001b[39;00m\n\u001b[1;32m      7\u001b[0m   \u001b[38;5;28;01mfor\u001b[39;00m content \u001b[38;5;129;01min\u001b[39;00m contents:\n",
      "File \u001b[0;32m~/Library/Mobile Documents/com~apple~CloudDocs/交大教學/BigData/Lecture-Big-Data/.venv/lib/python3.13/site-packages/IPython/core/interactiveshell.py:324\u001b[0m, in \u001b[0;36m_modified_open\u001b[0;34m(file, *args, **kwargs)\u001b[0m\n\u001b[1;32m    317\u001b[0m \u001b[38;5;28;01mif\u001b[39;00m file \u001b[38;5;129;01min\u001b[39;00m {\u001b[38;5;241m0\u001b[39m, \u001b[38;5;241m1\u001b[39m, \u001b[38;5;241m2\u001b[39m}:\n\u001b[1;32m    318\u001b[0m     \u001b[38;5;28;01mraise\u001b[39;00m \u001b[38;5;167;01mValueError\u001b[39;00m(\n\u001b[1;32m    319\u001b[0m         \u001b[38;5;124mf\u001b[39m\u001b[38;5;124m\"\u001b[39m\u001b[38;5;124mIPython won\u001b[39m\u001b[38;5;124m'\u001b[39m\u001b[38;5;124mt let you open fd=\u001b[39m\u001b[38;5;132;01m{\u001b[39;00mfile\u001b[38;5;132;01m}\u001b[39;00m\u001b[38;5;124m by default \u001b[39m\u001b[38;5;124m\"\u001b[39m\n\u001b[1;32m    320\u001b[0m         \u001b[38;5;124m\"\u001b[39m\u001b[38;5;124mas it is likely to crash IPython. If you know what you are doing, \u001b[39m\u001b[38;5;124m\"\u001b[39m\n\u001b[1;32m    321\u001b[0m         \u001b[38;5;124m\"\u001b[39m\u001b[38;5;124myou can use builtins\u001b[39m\u001b[38;5;124m'\u001b[39m\u001b[38;5;124m open.\u001b[39m\u001b[38;5;124m\"\u001b[39m\n\u001b[1;32m    322\u001b[0m     )\n\u001b[0;32m--> 324\u001b[0m \u001b[38;5;28;01mreturn\u001b[39;00m \u001b[43mio_open\u001b[49m\u001b[43m(\u001b[49m\u001b[43mfile\u001b[49m\u001b[43m,\u001b[49m\u001b[43m \u001b[49m\u001b[38;5;241;43m*\u001b[39;49m\u001b[43margs\u001b[49m\u001b[43m,\u001b[49m\u001b[43m \u001b[49m\u001b[38;5;241;43m*\u001b[39;49m\u001b[38;5;241;43m*\u001b[39;49m\u001b[43mkwargs\u001b[49m\u001b[43m)\u001b[49m\n",
      "\u001b[0;31mFileNotFoundError\u001b[0m: [Errno 2] No such file or directory: '/Users/jacky/Lecture-Python/files/json/score.json'"
     ]
    }
   ],
   "source": [
    "# Read score.json file and print student id and name\n",
    "from pathlib import Path\n",
    "import json\n",
    "file_path = Path.home() / 'Lecture-Python' / 'files' / 'json' / 'score.json'\n",
    "with open(file_path, 'r', encoding='utf-8') as f:\n",
    "  contents = json.load(f)  # 讀取json檔案, 讀回來一個list, element 是 dictionary\n",
    "  for content in contents:\n",
    "      student_id = content['id']\n",
    "      name = content['name']\n",
    "      print(f'{student_id=}, {name=}')\n"
   ]
  },
  {
   "cell_type": "code",
   "execution_count": null,
   "metadata": {},
   "outputs": [],
   "source": [
    "# Read dog.json\n",
    "from pathlib import Path\n",
    "import json\n",
    "file_path = Path.home() / 'Lecture-Python' / 'files' / 'json' / 'dog.json'\n",
    "with open(file_path, mode=\"r\", encoding=\"utf-8\") as f:\n",
    "    content = json.load(f)\n",
    "print(type(content))\n",
    "print(content[\"name\"])\n",
    "print(content[\"hobbies\"][0])"
   ]
  },
  {
   "cell_type": "markdown",
   "metadata": {},
   "source": [
    "# Write JSON file"
   ]
  },
  {
   "cell_type": "code",
   "execution_count": null,
   "metadata": {},
   "outputs": [],
   "source": [
    "from pathlib import Path\n",
    "import json\n",
    "\n",
    "more_record = {\n",
    "    'id': 4,\n",
    "    'name': 'Selina',\n",
    "    'chinese': 100,\n",
    "    'math': 100,\n",
    "    'english': 100,\n",
    "    }\n",
    "\n",
    "file_path = Path.home() / 'Lecture-Python' / 'files' / 'json' / 'score.json'\n",
    "with open(file_path, 'r', encoding='utf-8') as f:\n",
    "  contents = json.load(f)\n",
    "\n",
    "contents.append(more_record)\n",
    "\n",
    "with open(file_path, 'w', encoding='utf-8') as f:\n",
    "  json.dump(contents, f, ensure_ascii = False)"
   ]
  },
  {
   "cell_type": "markdown",
   "metadata": {},
   "source": [
    "# Case study"
   ]
  },
  {
   "cell_type": "markdown",
   "metadata": {},
   "source": [
    "## 112年新竹市政府公務人員考試新進人員人數\n",
    "[政府資料開放平台](https://opendata.hccg.gov.tw/OpenDataDetail.aspx?n=1&s=1513)\n",
    "```json\n",
    "[\n",
    "  {\n",
    "    \"序號\": \"1\",\n",
    "    \"考試種類及等別\": \"公務人員高考三級\",\n",
    "    \"新竹市政府公務人員考試新進人員人數\": \"7\"\n",
    "  },\n",
    "  {\n",
    "    \"序號\": \"2\",\n",
    "    \"考試種類及等別\": \"公務人員普通考試\",\n",
    "    \"新竹市政府公務人員考試新進人員人數\": \"5\"\n",
    "  },\n",
    "  {\n",
    "    \"序號\": \"3\",\n",
    "    \"考試種類及等別\": \"地方政府特考四等\",\n",
    "    \"新竹市政府公務人員考試新進人員人數\": \"1\"\n",
    "  }\n",
    "]\n",
    "```"
   ]
  },
  {
   "cell_type": "code",
   "execution_count": null,
   "metadata": {},
   "outputs": [],
   "source": [
    "import requests\n",
    "import json\n",
    "url = 'https://odws.hccg.gov.tw/001/Upload/25/opendataback/9059/1513/bf9c3fd0-c5c5-4199-816f-089161e6e1b4.json'\n",
    "response = requests.get(url)\n",
    "if response.status_code != 200:\n",
    "    print('Fail to open')\n",
    "\n",
    "datas = response.content.decode('utf-8-sig')  # 將json檔案轉成字串, utf-8-sig是為了去掉BOM, BOM是為了告訴編譯器這是utf-8編碼\n",
    "items = json.loads(datas)\n",
    "print('序號', '考試種類及等別', '   新竹市政府公務人員考試新進人員人數')\n",
    "for item in items:\n",
    "    print(item['序號'],' ',item['考試種類及等別'],' ',item['新竹市政府公務人員考試新進人員人數']) \n"
   ]
  },
  {
   "cell_type": "markdown",
   "metadata": {},
   "source": [
    "## 下載政府公開資料 JSON Format"
   ]
  },
  {
   "cell_type": "code",
   "execution_count": null,
   "metadata": {},
   "outputs": [],
   "source": [
    "import requests\n",
    "from requests.exceptions import JSONDecodeError\n",
    "import json\n",
    "\n",
    "url = 'https://stats.moe.gov.tw/files/detail/112/112_base2.json'\n",
    "response = requests.get(url)\n",
    "# 檢查HTTP回應碼是否為200(requests.code.ok)\n",
    "if response.status_code != 200:\n",
    "    print('Fail to open')\n",
    "datas = json.loads(response.content)\n",
    "for data in datas:\n",
    "    print(data['學校名稱'],' ',data['一年級男學生數'],' ',data['一年級女學生數'])    "
   ]
  },
  {
   "cell_type": "markdown",
   "metadata": {},
   "source": [
    "# W3 School"
   ]
  },
  {
   "cell_type": "markdown",
   "metadata": {},
   "source": [
    "- [JSON] https://www.w3schools.com/python/exercise.asp?x=xrcise_json1"
   ]
  }
 ],
 "metadata": {
  "kernelspec": {
   "display_name": ".venv",
   "language": "python",
   "name": "python3"
  },
  "language_info": {
   "codemirror_mode": {
    "name": "ipython",
    "version": 3
   },
   "file_extension": ".py",
   "mimetype": "text/x-python",
   "name": "python",
   "nbconvert_exporter": "python",
   "pygments_lexer": "ipython3",
   "version": "3.13.5"
  }
 },
 "nbformat": 4,
 "nbformat_minor": 2
}
