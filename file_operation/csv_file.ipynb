{
 "cells": [
  {
   "cell_type": "markdown",
   "metadata": {},
   "source": [
    "# CSV File"
   ]
  },
  {
   "cell_type": "markdown",
   "metadata": {},
   "source": [
    "- CSV (Comma-Separated Values，逗號分隔值) 為常見的一種「純文字」資料儲存的檔案格式，將所有資料以半形的逗號隔開，一般的試算表軟體均能處理並儲存CSV格式\n",
    "- 健保署的「醫事機構名單」開放資料格式提供的就是CSV檔，可以用Excel開啟\n",
    "  [醫事機構名單](/Users/jacky/Documents/交大教學/Python講義4/csv/醫事機構名單.csv)\n",
    "- CSV檔可以用一般文字編輯軟體來開啟，例如用記事本開啟，但無法像試算表軟體那樣對齊\n"
   ]
  },
  {
   "cell_type": "markdown",
   "metadata": {},
   "source": [
    "# Read no-heading CSV file"
   ]
  },
  {
   "cell_type": "code",
   "execution_count": null,
   "metadata": {},
   "outputs": [],
   "source": [
    "from pathlib import Path\n",
    "import csv\n",
    "data_points = []\n",
    "file_path = Path.cwd() / '..' / 'files' / 'csv' / 'numbers.csv'\n",
    "with open(file_path, 'r', encoding='utf-8') as f:\n",
    "    reader = csv.reader(f) # return a list with str elements\n",
    "    rows = list(reader)\n",
    "    print(rows)\n",
    "    print(\"-\" * 100)\n",
    "    for row in rows:\n",
    "        int_row = [int(value) for value in row]  # convert str to int\n",
    "        data_points.append(int_row)  # append the int list to data_points\n",
    "print(data_points)\n"
   ]
  },
  {
   "cell_type": "markdown",
   "metadata": {},
   "source": [
    "# Read with-heading CSV file"
   ]
  },
  {
   "cell_type": "code",
   "execution_count": null,
   "metadata": {},
   "outputs": [],
   "source": [
    "# 使用 csv module 中的 csv.DictReader 來讀有標題的CSV\n",
    "from pathlib import Path\n",
    "import csv\n",
    "file_path = Path.cwd() / '..' / 'files' / 'csv' / 'employees.csv'\n",
    "with open(file_path, 'r', encoding='utf-8') as f:\n",
    "    reader = csv.DictReader(f)  # return a list with dict elements\n",
    "    header_row = reader.fieldnames\n",
    "    print('header row: ', header_row)\n",
    "    contents = list(reader)\n",
    "    print('contents: ')\n",
    "    for row in contents:\n",
    "        print(row)"
   ]
  },
  {
   "cell_type": "code",
   "execution_count": null,
   "metadata": {},
   "outputs": [],
   "source": [
    "# Change salary from str to float\n",
    "def process_row(row):\n",
    "    row['salary'] = float(row['salary'])\n",
    "    return row\n",
    "\n",
    "from pathlib import Path\n",
    "import csv\n",
    "file_path = Path.cwd() / '..' / 'files' / 'csv' / 'employees.csv'\n",
    "with open(file_path, 'r', encoding='utf-8') as f:\n",
    "    reader = csv.DictReader(f)\n",
    "    print('contents: ')\n",
    "    for row in reader:\n",
    "        print(process_row(row))"
   ]
  },
  {
   "cell_type": "markdown",
   "metadata": {},
   "source": [
    "# Write no-heading CSV file"
   ]
  },
  {
   "cell_type": "code",
   "execution_count": null,
   "metadata": {},
   "outputs": [],
   "source": [
    "# 使用 csv module 來操作CSV檔\n",
    "# writer.writerow(), writer.writerows() \n",
    "from pathlib import Path\n",
    "import csv\n",
    "datas = [\n",
    "    [1, 2, 3],\n",
    "    [4, 5, 6],\n",
    "    [7, 8, 9],\n",
    "    ]\n",
    "file_path = Path.cwd() / '..' / 'files' / 'csv' / 'test data.csv'\n",
    "with open(file_path, 'w', encoding='utf-8', newline='') as f:\n",
    "    writer = csv.writer(f)\n",
    "    writer.writerows(datas)\n",
    "\n",
    "with open(file_path, 'r', encoding='utf-8') as file:\n",
    "    print(file.read())\n"
   ]
  },
  {
   "cell_type": "markdown",
   "metadata": {},
   "source": [
    "# Write with-heading CSV file"
   ]
  },
  {
   "cell_type": "code",
   "execution_count": null,
   "metadata": {},
   "outputs": [],
   "source": [
    "from pathlib import Path\n",
    "import csv\n",
    "people = [\n",
    "    {'name':'Jacky', 'age':50},\n",
    "    {'name':'Mary', 'age':45},\n",
    "    {'name':'Steven', 'age':30},\n",
    "    ]\n",
    "file_path = Path.cwd() / '..' / 'files' / 'csv' / 'test data.csv'\n",
    "\n",
    "with open(file_path, 'w', encoding='utf-8', newline='') as f:\n",
    "    writer = csv.DictWriter(f, fieldnames = ['name','age'])\n",
    "    writer.writeheader()\n",
    "    writer.writerows(people)\n",
    "\n",
    "with open(file_path, 'r', encoding='utf-8') as f:\n",
    "    reader = csv.DictReader(f)  # return a list with dict elements\n",
    "    contents = list(reader)\n",
    "    for row in contents:\n",
    "        print(row)\n",
    "        \n",
    "print(\"-\" * 100)\n",
    "with open(file_path, 'r', encoding='utf-8') as f:\n",
    "    print(f.read())  "
   ]
  },
  {
   "cell_type": "markdown",
   "metadata": {},
   "source": [
    "# Lab"
   ]
  },
  {
   "cell_type": "markdown",
   "metadata": {},
   "source": [
    "- 請將下方表格內容, 寫入city.csv\n",
    "- 讀city.csv, 並且印出 header row 和csv content row\n",
    "\n",
    "|country|city\n",
    "|-------|----\n",
    "|Taiwan|Taipei\n",
    "|USA|New York\n",
    "|Japan|Tokyo"
   ]
  }
 ],
 "metadata": {
  "kernelspec": {
   "display_name": ".venv",
   "language": "python",
   "name": "python3"
  },
  "language_info": {
   "codemirror_mode": {
    "name": "ipython",
    "version": 3
   },
   "file_extension": ".py",
   "mimetype": "text/x-python",
   "name": "python",
   "nbconvert_exporter": "python",
   "pygments_lexer": "ipython3",
   "version": "3.13.1"
  }
 },
 "nbformat": 4,
 "nbformat_minor": 2
}
