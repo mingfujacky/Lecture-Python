{
 "cells": [
  {
   "cell_type": "markdown",
   "metadata": {},
   "source": [
    "# 檔案路徑操作"
   ]
  },
  {
   "cell_type": "markdown",
   "metadata": {},
   "source": [
    "## Windows\n",
    "![Windows file manager](https://uis.georgetown.edu/wp-content/uploads/2019/05/win10-fileexplorer-addrbar.png)\n",
    "\n",
    "C:\\Documents\\Project Docs\\Fiscal Year 2016.doc\n",
    "- 資料夾 (folder): C:\\Documents\\Project Docs\\\n",
    "- 主檔名: Fiscal Year 2016\n",
    "- 副檔名: doc"
   ]
  },
  {
   "cell_type": "markdown",
   "metadata": {},
   "source": [
    "## MacOS\n",
    "\n",
    "![Mac file finder](../files/image/mac_directory.png)\n",
    "<br>\n",
    "/users/jacky/demo_path/files/txt/定風波.txt\n",
    "- 資料夾 (folder): /users/jacky/demo_path/files/txt/\n",
    "- 主檔名: 定風波\n",
    "- 副檔名: txt"
   ]
  },
  {
   "cell_type": "markdown",
   "metadata": {},
   "source": [
    "## 絕對路徑和相對路徑"
   ]
  },
  {
   "cell_type": "markdown",
   "metadata": {},
   "source": [
    "- 絕對路徑: 以根目錄開頭 (/, C:\\\\) 的路徑\n",
    "  - WIN: C:\\users\\jen\\pers\\art.html\n",
    "  - MAC: /users/jen/pers/art.html\n",
    "- 相對路徑: 不以根目錄開頭的路徑, 表示工作目錄下的某路徑\n",
    "  - WIN: pers\\art.html\n",
    "  - MAC: pers/art.html"
   ]
  },
  {
   "cell_type": "markdown",
   "metadata": {},
   "source": [
    "![相對絕對路徑](https://flinhong.github.io/images/201509/html-path.png)\n",
    "\n",
    "- 目前工作目錄是 /users/jen\n",
    "- 絕對路徑：/users/jen/pers/art.html\n",
    "- 相對路徑：pers/art.html\n",
    "- 都是指到相同的檔案 art.html"
   ]
  },
  {
   "cell_type": "code",
   "execution_count": 4,
   "metadata": {},
   "outputs": [
    {
     "name": "stdout",
     "output_type": "stream",
     "text": [
      "Ford\n",
      "Tesla\n",
      "BMW\n",
      "Toyota\n",
      "Mi\n",
      "\n",
      "Ford\n",
      "Tesla\n",
      "BMW\n",
      "Toyota\n",
      "Mi\n",
      "\n"
     ]
    }
   ],
   "source": [
    "abs_path = \"/Users/jacky/demo_path/files/txt/car.txt\"\n",
    "with open(abs_path, 'r', encoding = \"utf-8\") as f:  # 使用 with 語句開啟檔案\n",
    "    print(f.read())\n",
    "\n",
    "relative_path = '../../../../../../../demo_path/files/txt/car.txt' # used in VS Code\n",
    "# relative_path = 'demo_path/files/txt/car.txt' # used in Thonny\n",
    "\n",
    "with open(relative_path, 'r', encoding = \"utf-8\") as f:  # 使用 with 語句開啟檔案\n",
    "    print(f.read())"
   ]
  },
  {
   "cell_type": "markdown",
   "metadata": {},
   "source": [
    "# Library Pathlib"
   ]
  },
  {
   "cell_type": "code",
   "execution_count": null,
   "metadata": {},
   "outputs": [],
   "source": [
    "from pathlib import Path  # 載入模組\n",
    "print(Path.cwd())  # 詢問 working directory (工作目錄)\n",
    "print(Path.home())  # 詢問 home directory (家目錄)"
   ]
  },
  {
   "cell_type": "markdown",
   "metadata": {},
   "source": [
    "## 替資料夾或檔名建立Path物件"
   ]
  },
  {
   "cell_type": "code",
   "execution_count": 6,
   "metadata": {},
   "outputs": [
    {
     "name": "stdout",
     "output_type": "stream",
     "text": [
      "/Users/jacky/demo_path/files/txt/demofile.txt\n",
      "Hello\n",
      "a\n",
      "Great\n",
      "World!\n",
      "/Users/jacky/Library/Mobile Documents/com~apple~CloudDocs/交大教學/Python/Lecture-Python/file_operation/../../../../../../../demo_path/files/txt/demofile.txt\n",
      "Hello\n",
      "a\n",
      "Great\n",
      "World!\n"
     ]
    }
   ],
   "source": [
    "from pathlib import Path  # 載入模組\n",
    "# use Path.home(), Path.cwd() and '/' to create path\n",
    "my_path = Path.home()/ 'demo_path'/ 'files'/ 'txt' / 'demofile.txt'\n",
    "print(my_path)\n",
    "with open(my_path, 'r', encoding='utf-8') as f:\n",
    "    print(f.read())\n",
    "\n",
    "# relative_path = 'demo_path/files/txt/car.txt'\n",
    "my_path = Path.cwd() / \"../../../../../../../\" / \"demo_path\" / 'files' / 'txt'/ 'demofile.txt'\n",
    "# my_path = Path.cwd() / 'demo_path' / 'files' / 'txt' / 'car.txt'\n",
    "\n",
    "print(my_path)\n",
    "with open(my_path, 'r', encoding='utf-8') as f:\n",
    "    print(f.read())"
   ]
  },
  {
   "cell_type": "markdown",
   "metadata": {},
   "source": [
    "# 檢查檔案是否存在"
   ]
  },
  {
   "cell_type": "code",
   "execution_count": null,
   "metadata": {},
   "outputs": [],
   "source": [
    "from pathlib import Path\n",
    "my_path = Path.home()/ 'demo_path'/ 'files'/ 'txt' / 'demofile.txt'\n",
    "print('(1) A File? ', my_path.is_file(), ' (2) A directory? ', my_path.is_dir(), '(3) Exists? ', my_path.exists())\n",
    "if my_path.exists():\n",
    "    with open(my_path, 'r', encoding='utf-8') as f:\n",
    "        print(f.read())"
   ]
  },
  {
   "cell_type": "markdown",
   "metadata": {},
   "source": [
    "# Backup"
   ]
  },
  {
   "cell_type": "markdown",
   "metadata": {},
   "source": [
    "## 存取檔案路徑中的檔案"
   ]
  },
  {
   "cell_type": "code",
   "execution_count": null,
   "metadata": {},
   "outputs": [],
   "source": [
    "from pathlib import Path\n",
    "dir = Path.cwd()/ '..'/ 'files' / 'txt'\n",
    "foo = list(dir.glob('demo*.txt'))\n",
    "print('File List:')\n",
    "print('=' * 30)\n",
    "for i, file in list(enumerate(dir.glob('demo*.txt'))):\n",
    "    print(f'({i}) {file.name}')\n",
    "print('=' * 30, '\\n\\n')\n",
    "\n",
    "print('File Contents:')\n",
    "for i, file in list(enumerate(dir.glob('demo*.txt'))):\n",
    "    print(f'({i}) {file.name}')\n",
    "    print('-' * 20)\n",
    "    with open(file, 'r', encoding='utf-8') as f:\n",
    "        print(f.read()) "
   ]
  },
  {
   "cell_type": "markdown",
   "metadata": {},
   "source": [
    "## 檢查檔案的編碼方式"
   ]
  },
  {
   "cell_type": "code",
   "execution_count": null,
   "metadata": {},
   "outputs": [],
   "source": [
    "import chardet\n",
    "file_path = '/Users/jacky/demo_path/files/txt/定風波.txt'\n",
    "with open(file_path, 'rb') as file:\n",
    "    raw_data = file.read()\n",
    "    result = chardet.detect(raw_data)\n",
    "    encoding = result['encoding']\n",
    "    print(f\"Detected encoding: {encoding}\")\n",
    "\n",
    "# 用檢測到的編碼讀取\n",
    "with open(file_path, 'r', encoding=encoding) as file:\n",
    "    data = file.read()\n",
    "    print(data)\n",
    "    print()\n",
    "    print(repr(data))"
   ]
  },
  {
   "cell_type": "markdown",
   "metadata": {},
   "source": [
    "## 绝對和相對路径"
   ]
  },
  {
   "cell_type": "markdown",
   "metadata": {},
   "source": [
    "- cwd = D:\\Data\\Shapefiles\\Landuse\n",
    "- .. = 上一層\n",
    "- . = 自己這一層\n",
    "- ~ = 家目錄"
   ]
  },
  {
   "cell_type": "markdown",
   "metadata": {},
   "source": [
    "![Path](https://desktop.arcgis.com/zh-cn/arcmap/latest/tools/supplement/GUID-787809E8-335F-458A-A776-5079B2847765-web.gif)"
   ]
  },
  {
   "cell_type": "markdown",
   "metadata": {},
   "source": [
    "\n",
    "|路径|\t结果\n",
    "|---|-----\n",
    "|..|D:\\Data\\Shapefiles\n",
    "|..\\\\..|D:\\Data\n",
    "|..\\\\..\\\\Final|D:\\\\Data\\\\Final\n",
    "|.|D:\\Data\\Shapefiles\\Landuse - 当前目录。\n",
    "|.\\\\..\\\\Soils|D:\\Data\\Shapefiles\\Soils\n",
    "|..\\\\..\\\\.\\\\Final\\\\..\\\\Shapefiles\\\\.\\\\Landuse|D:\\Data\\Shapefiles\\Landuse"
   ]
  }
 ],
 "metadata": {
  "kernelspec": {
   "display_name": ".venv",
   "language": "python",
   "name": "python3"
  },
  "language_info": {
   "codemirror_mode": {
    "name": "ipython",
    "version": 3
   },
   "file_extension": ".py",
   "mimetype": "text/x-python",
   "name": "python",
   "nbconvert_exporter": "python",
   "pygments_lexer": "ipython3",
   "version": "3.13.5"
  }
 },
 "nbformat": 4,
 "nbformat_minor": 2
}
