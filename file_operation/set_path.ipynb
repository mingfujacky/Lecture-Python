{
 "cells": [
  {
   "cell_type": "markdown",
   "metadata": {},
   "source": [
    "# 檔案路徑操作"
   ]
  },
  {
   "cell_type": "markdown",
   "metadata": {},
   "source": [
    "## Windows\n",
    "![Windows file manager](https://uis.georgetown.edu/wp-content/uploads/2019/05/win10-fileexplorer-addrbar.png)\n",
    "\n",
    "C:\\Documents\\Project Docs\\Fiscal Year 2016.doc\n",
    "- 資料夾 (folder): C:\\Documents\\Project Docs\\\n",
    "- 主檔名: Fiscal Year 2016\n",
    "- 副檔名: doc"
   ]
  },
  {
   "cell_type": "markdown",
   "metadata": {},
   "source": [
    "## MacOS\n",
    "\n",
    "![Mac file finder](https://osx86project.org/software/wp-content/uploads/2024/10/forklift-3-1.jpg)\n",
    "<br>\n",
    "/Users/admin/Downloads/some-stuff/field-1426.jpeg\n",
    "- 資料夾 (folder): /Users/admin/Downloads/some-stuff/\n",
    "- 主檔名: field-1426\n",
    "- 副檔名: jpeg"
   ]
  },
  {
   "cell_type": "markdown",
   "metadata": {},
   "source": [
    "## 絕對路徑和相對路徑"
   ]
  },
  {
   "cell_type": "markdown",
   "metadata": {},
   "source": [
    "- 絕對路徑: 以根目錄開頭 (/, C:\\\\) 的路徑\n",
    "  - WIN: C:\\users\\jen\\pers\\art.html\n",
    "  - MAC: /users/jen/pers/art.html\n",
    "- 相對路徑: 不以根目錄開頭的路徑, 表示工作目錄下的某路徑\n",
    "  - WIN: pers\\art.html\n",
    "  - MAC: pers/art.html"
   ]
  },
  {
   "cell_type": "markdown",
   "metadata": {},
   "source": [
    "![相對絕對路徑](https://flinhong.github.io/images/201509/html-path.png)\n",
    "\n",
    "- 目前工作目錄是 /users/jen\n",
    "- 絕對路徑：/users/jen/pers/art.html\n",
    "- 相對路徑：pers/art.html\n",
    "- 都是指到相同的檔案 art.html"
   ]
  },
  {
   "cell_type": "markdown",
   "metadata": {},
   "source": [
    "# Library Pathlib"
   ]
  },
  {
   "cell_type": "code",
   "execution_count": null,
   "metadata": {},
   "outputs": [],
   "source": [
    "from pathlib import Path  # 載入模組\n",
    "print(Path.cwd())  # 詢問 working directory (工作目錄)\n",
    "print(Path.home())  # 詢問 home directory (家目錄)"
   ]
  },
  {
   "cell_type": "markdown",
   "metadata": {},
   "source": [
    "## 替資料夾或檔名建立Path物件\n",
    "- 用字串建立\n",
    "- 用 Path.home() 或 Path.cwd() 和 ‘/’"
   ]
  },
  {
   "cell_type": "markdown",
   "metadata": {},
   "source": [
    "### use STRING to create path"
   ]
  },
  {
   "cell_type": "code",
   "execution_count": null,
   "metadata": {},
   "outputs": [],
   "source": [
    "from pathlib import Path\n",
    "# in MAC\n",
    "abs_path = '/Users/jacky/demo_path/files/txt/demofile.txt'\n",
    "rel_path = '/files/txt/demofile.txt'\n",
    "with open(abs_path, 'r', encoding='utf-8') as f:\n",
    "    print(f.read())\n",
    "with open(rel_path, 'r', encoding='utf-8') as f:\n",
    "    print(f.read())      "
   ]
  },
  {
   "cell_type": "markdown",
   "metadata": {},
   "source": [
    "**In Windows**\n",
    "- 模仿mac的斜線: path = Path('C:/Users/Jacky/Desktop/hello.txt')\n",
    "- 使用跳脫字元: path = Path('C:\\\\\\Users\\\\\\Jacky\\\\\\Desktop\\\\\\hello.txt')\n",
    "- 忽略跳脫字元: path = Path(r'C:\\Users\\Jacky\\Desktop\\hello.txt')\n",
    "\n",
    "r means raw"
   ]
  },
  {
   "cell_type": "markdown",
   "metadata": {},
   "source": [
    "### use Path.home(), Path.cwd() and '/' to create path"
   ]
  },
  {
   "cell_type": "code",
   "execution_count": null,
   "metadata": {},
   "outputs": [],
   "source": [
    "my_path = Path.home()/ 'demo_path'/ 'files'/ 'txt' / 'demofile.txt'\n",
    "print(my_path)\n",
    "with open(my_path, 'r', encoding='utf-8') as f:\n",
    "    print(f.read())\n",
    "\n",
    "my_path = Path.cwd() / '..' / 'files' / 'txt'/ 'demofile.txt'\n",
    "print(my_path)\n",
    "with open(my_path, 'r', encoding='utf-8') as f:\n",
    "    print(f.read())"
   ]
  },
  {
   "cell_type": "markdown",
   "metadata": {},
   "source": [
    "# 檢查檔案是否存在"
   ]
  },
  {
   "cell_type": "code",
   "execution_count": null,
   "metadata": {},
   "outputs": [],
   "source": [
    "from pathlib import Path\n",
    "my_path = Path.home()/ 'demo_path'/ 'files'/ 'txt' / 'demofile.txt'\n",
    "print('(1) A File? ', my_path.is_file(), ' (2) A directory? ', my_path.is_dir(), '(3) Directory or File Exists? ', my_path.exists())\n",
    "if my_path.exists():\n",
    "    with open(my_path, 'r', encoding='utf-8') as f:\n",
    "        print(f.read())"
   ]
  },
  {
   "cell_type": "markdown",
   "metadata": {},
   "source": [
    "# 存取檔案路徑中的檔案"
   ]
  },
  {
   "cell_type": "code",
   "execution_count": null,
   "metadata": {},
   "outputs": [],
   "source": [
    "from pathlib import Path\n",
    "dir = Path.cwd()/ '..'/ 'files' / 'txt'\n",
    "foo = list(dir.glob('demo*.txt'))\n",
    "print('File List:')\n",
    "print('=' * 30)\n",
    "for i, file in list(enumerate(dir.glob('demo*.txt'))):\n",
    "    print(f'({i}) {file.name}')\n",
    "print('=' * 30, '\\n\\n')\n",
    "\n",
    "print('File Contents:')\n",
    "for i, file in list(enumerate(dir.glob('demo*.txt'))):\n",
    "    print(f'({i}) {file.name}')\n",
    "    print('-' * 20)\n",
    "    with open(file, 'r', encoding='utf-8') as f:\n",
    "        print(f.read()) "
   ]
  },
  {
   "cell_type": "markdown",
   "metadata": {},
   "source": [
    "# Backup"
   ]
  },
  {
   "cell_type": "markdown",
   "metadata": {},
   "source": [
    "## 檢查檔案的編碼方式"
   ]
  },
  {
   "cell_type": "code",
   "execution_count": null,
   "metadata": {},
   "outputs": [],
   "source": [
    "import chardet\n",
    "file_path = '/Users/jacky/demo_path/files/txt/定風波.txt'\n",
    "with open(file_path, 'rb') as file:\n",
    "    raw_data = file.read()\n",
    "    result = chardet.detect(raw_data)\n",
    "    encoding = result['encoding']\n",
    "    print(f\"Detected encoding: {encoding}\")\n",
    "\n",
    "# 用檢測到的編碼讀取\n",
    "with open(file_path, 'r', encoding=encoding) as file:\n",
    "    data = file.read()\n",
    "    print(data)\n",
    "    print()\n",
    "    print(repr(data))"
   ]
  },
  {
   "cell_type": "markdown",
   "metadata": {},
   "source": [
    "# 绝對和相對路径"
   ]
  },
  {
   "cell_type": "markdown",
   "metadata": {},
   "source": [
    "- cwd = D:\\Data\\Shapefiles\\Landuse\n",
    "- .. = 上一層\n",
    "- . = 自己這一層\n",
    "- ~ = 家目錄"
   ]
  },
  {
   "cell_type": "markdown",
   "metadata": {},
   "source": [
    "![Path](https://desktop.arcgis.com/zh-cn/arcmap/latest/tools/supplement/GUID-787809E8-335F-458A-A776-5079B2847765-web.gif)"
   ]
  },
  {
   "cell_type": "markdown",
   "metadata": {},
   "source": [
    "\n",
    "|路径|\t结果\n",
    "|---|-----\n",
    "|..|D:\\Data\\Shapefiles\n",
    "|..\\\\..|D:\\Data\n",
    "|..\\\\..\\\\Final|D:\\\\Data\\\\Final\n",
    "|.|D:\\Data\\Shapefiles\\Landuse - 当前目录。\n",
    "|.\\\\..\\\\Soils|D:\\Data\\Shapefiles\\Soils\n",
    "|..\\\\..\\\\.\\\\Final\\\\..\\\\Shapefiles\\\\.\\\\Landuse|D:\\Data\\Shapefiles\\Landuse"
   ]
  }
 ],
 "metadata": {
  "kernelspec": {
   "display_name": ".venv",
   "language": "python",
   "name": "python3"
  },
  "language_info": {
   "codemirror_mode": {
    "name": "ipython",
    "version": 3
   },
   "file_extension": ".py",
   "mimetype": "text/x-python",
   "name": "python",
   "nbconvert_exporter": "python",
   "pygments_lexer": "ipython3",
   "version": "3.13.1"
  }
 },
 "nbformat": 4,
 "nbformat_minor": 2
}
