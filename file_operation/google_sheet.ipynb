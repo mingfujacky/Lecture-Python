{
 "cells": [
  {
   "cell_type": "markdown",
   "metadata": {},
   "source": [
    "# Google sheet"
   ]
  },
  {
   "cell_type": "markdown",
   "metadata": {},
   "source": [
    "# Read Google sheet"
   ]
  },
  {
   "cell_type": "code",
   "execution_count": 1,
   "metadata": {},
   "outputs": [
    {
     "name": "stdout",
     "output_type": "stream",
     "text": [
      "座號\n",
      "   座號   姓名   國文   英文   數學\n",
      "0   1  葉大雄   65   62   40\n",
      "1   2  陳靜香   85   90   87\n",
      "2   3  王聰明   92   90   95\n",
      "3   4  林志偉  100  100  100\n",
      "4   4  林志偉  100  100  100\n"
     ]
    }
   ],
   "source": [
    "import pygsheets\n",
    "import pandas as pd\n",
    "from pathlib import Path\n",
    "\n",
    "# 設定金鑰檔路徑 key 及選擇要操作的Google Sheet ss\n",
    "key = Path.home() / 'Documents' / '保固證明' / 'gsheet-key-nycu-sc314-python-a96c5ed5c8d9.json'\n",
    "\n",
    "url = 'https://docs.google.com/spreadsheets/d/1_FPEK-GOXh1WR-io7YpP-MeQxa_kPmrI9BmdQIfyXn4/edit?usp=drive_link'\n",
    "gc = pygsheets.authorize(service_file = key)\n",
    "ss = gc.open_by_url(url)\n",
    " \n",
    "# 讀取全部工作表\n",
    "wks_list = ss.worksheets()\n",
    "\n",
    "# Read data into DataFrame\n",
    "wks = ss.worksheet_by_title('七年一班')\n",
    "print(wks.get_value('A1'))\n",
    "df = wks.get_as_df(start='A1', header = 1, index_colum=None, empty_value='', include_tailing_empty=False) # index 從 1 開始算\n",
    "print(df)\n",
    "\n",
    "# add a new row\n",
    "new_record = pd.DataFrame({'座號': ['4'], '姓名': ['林志偉'], '國文': [100], '英文': [100], '數學': [100]})\n",
    "f = pd.concat([df, new_record], ignore_index=True)\n",
    "wks.set_dataframe(f, start='A1')  # Starts writing from cell A1\n"
   ]
  },
  {
   "cell_type": "markdown",
   "metadata": {},
   "source": [
    "# Write Google Spreadsheets"
   ]
  },
  {
   "cell_type": "code",
   "execution_count": null,
   "metadata": {},
   "outputs": [
    {
     "name": "stdout",
     "output_type": "stream",
     "text": [
      "New rows inserted.\n"
     ]
    }
   ],
   "source": [
    "import pygsheets\n",
    "import pandas as pd\n",
    "from pathlib import Path\n",
    "# wks means a worksheet, ss means spreadsheet, gc means google client\n",
    "# 設定金鑰檔路徑 key 及選擇要操作的Google Sheet ss\n",
    "key = Path.home() / 'Documents' / '保固證明' / 'gsheet-key-nycu-sc314-python-a96c5ed5c8d9.json'\n",
    "url = 'https://docs.google.com/spreadsheets/d/1_FPEK-GOXh1WR-io7YpP-MeQxa_kPmrI9BmdQIfyXn4/edit?usp=drive_link'\n",
    "gc = pygsheets.authorize(service_file = key)\n",
    "ss = gc.open_by_url(url)\n",
    "# 讀取全部工作表\n",
    "wks_list = ss.worksheets()\n",
    "# 指定工作表\n",
    "wks = ss.worksheet_by_title('七年一班') \n",
    "# 清除所有內容\n",
    "wks.clear() \n",
    "# 標題\n",
    "title=[['座號', '姓名', '國文', '英文', '數學']]\n",
    "wks.insert_rows(row=1, number=1)\n",
    "wks.update_values('A1', title)\n",
    "# 資料內容  \n",
    "datas=[[1, '葉大雄', 65, 62, 40],\n",
    "       [2, '陳靜香', 85, 90, 87],\n",
    "       [3, '王聰明', 92, 90, 95]]\n",
    "wks.insert_rows(row=2, number=3)\n",
    "wks.update_values('A2', datas)\n",
    "wks.update_value('F1', '總分')\n",
    "print(\"New rows inserted.\")"
   ]
  }
 ],
 "metadata": {
  "kernelspec": {
   "display_name": ".venv",
   "language": "python",
   "name": "python3"
  },
  "language_info": {
   "codemirror_mode": {
    "name": "ipython",
    "version": 3
   },
   "file_extension": ".py",
   "mimetype": "text/x-python",
   "name": "python",
   "nbconvert_exporter": "python",
   "pygments_lexer": "ipython3",
   "version": "3.13.0"
  }
 },
 "nbformat": 4,
 "nbformat_minor": 2
}
