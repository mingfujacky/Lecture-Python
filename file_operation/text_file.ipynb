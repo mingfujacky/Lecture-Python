{
 "cells": [
  {
   "cell_type": "markdown",
   "metadata": {},
   "source": [
    "# 讀寫 Text File (文字檔)"
   ]
  },
  {
   "cell_type": "markdown",
   "metadata": {},
   "source": [
    "- 文字檔的副檔名為 .txt\n",
    "- 內容: 通常只包含字母、數字、標點符號、空白字符、tab (\\t) 和換行符號 (\\n)，不包含任何樣式、字體或其他格式屬性\n",
    "- 字元編碼: Mac, Windows 預設是UTF-8\n",
    "- 範例: /Users/jacky/demo_path/files/txt/定風波.txt\n",
    "  - 用 Notepad 打開檔案讀內容 (看不到隱藏字元)\n",
    "  - 用 Word 打開檔案讀內容 (可以看到隱藏字元) (select UTF-8 encoding)\n",
    "  - 用 Python 程式檔案讀內容 (通過變數的觀察，可以看到隱藏字元)"
   ]
  },
  {
   "cell_type": "code",
   "execution_count": null,
   "metadata": {},
   "outputs": [],
   "source": [
    "# 用 Python 程式檔案讀內容\n",
    "from pathlib import Path\n",
    "file_path = Path.home() / \"demo_path\" / \"files\" / \"txt\" / \"定風波.txt\"\n",
    "\n",
    "with open(file_path, 'r', encoding = 'utf-8') as f:\n",
    "    foo = f.read()\n",
    "    print(repr(foo)) # 顯示字串的原始碼\n",
    "    print(foo) # 顯示字串的內容"
   ]
  },
  {
   "cell_type": "markdown",
   "metadata": {},
   "source": [
    "# Open Text File"
   ]
  },
  {
   "cell_type": "markdown",
   "metadata": {},
   "source": [
    "- Alternative 1: **f = open(檔案名稱 ,模式 , encoding = 編碼方式)**\n",
    "- Alternative 2: **with open(檔案名稱 ,模式 , encoding = 編碼方式) as f:**\n",
    "- 模式: 預設是 r\n",
    "  - r &nbsp;&nbsp;&nbsp; Read - Default value. Opens a file for reading, error if the file does not exist<br>\n",
    "  - a &nbsp;&nbsp;&nbsp; Append - Opens a file for appending, creates the file if it does not exist (附加內容)<br>\n",
    "  - w &nbsp;&nbsp;&nbsp; Write - Opens a file for writing, creates the file if it does not exist (覆寫內容)<br>\n",
    "  - x &nbsp;&nbsp;&nbsp; X - 檔案不存在，建新檔案，若檔案存在，則error\n",
    "- 編碼方式: 預設是 uft-8\n",
    "- 檔案名稱: 利用絕對路徑或相對路徑來指定\n"
   ]
  },
  {
   "cell_type": "code",
   "execution_count": null,
   "metadata": {},
   "outputs": [],
   "source": [
    "# Alternative 1\n",
    "# mac 使用絕對路徑開檔案 (注意斜線/), 記得關檔案\n",
    "# 模式是 'r' (read) 代表讀取\n",
    "from pathlib import Path\n",
    "file_path = Path.home() / \"demo_path\" / \"files\" / \"txt\" / \"定風波.txt\"\n",
    "f = open(file_path,'r', encoding = 'utf-8')\n",
    "print(f.read())\n",
    "f.close()"
   ]
  },
  {
   "cell_type": "code",
   "execution_count": null,
   "metadata": {},
   "outputs": [],
   "source": [
    "# Alternative 2: with open(), not need call close function\n",
    "from pathlib import Path\n",
    "file_path = Path.home() / \"demo_path\" / \"files\" / \"txt\" / \"定風波.txt\"\n",
    "with open(file_path,'r', encoding = 'utf-8') as f:\n",
    "    print(f.read())"
   ]
  },
  {
   "cell_type": "markdown",
   "metadata": {},
   "source": [
    "# Open for read"
   ]
  },
  {
   "cell_type": "markdown",
   "metadata": {},
   "source": [
    "- read()\n",
    "- read(int)\n",
    "- readline()\n",
    "- readlines()"
   ]
  },
  {
   "cell_type": "code",
   "execution_count": null,
   "metadata": {},
   "outputs": [],
   "source": [
    "# Read all contents\n",
    "from pathlib import Path\n",
    "file_path = Path.home() / \"demo_path\" / \"files\" / \"txt\" / \"定風波.txt\"\n",
    "with open(file_path, 'r', encoding = 'utf-8') as f:\n",
    "    foo = f.read()\n",
    "    print(foo)"
   ]
  },
  {
   "cell_type": "code",
   "execution_count": null,
   "metadata": {},
   "outputs": [],
   "source": [
    "# Read 3, 10, 2 characters\n",
    "from pathlib import Path\n",
    "file_path = Path.home() / \"demo_path\" / \"files\" / \"txt\" / \"定風波.txt\"\n",
    "with open(file_path, 'r', encoding = 'utf-8') as f:\n",
    "    print(f.read(3))\n",
    "    print(f.read(10))\n",
    "    print(f.read(2))"
   ]
  },
  {
   "cell_type": "code",
   "execution_count": null,
   "metadata": {},
   "outputs": [],
   "source": [
    "# Read four lines\n",
    "from pathlib import Path\n",
    "file_path = Path.home() / \"demo_path\" / \"files\" / \"txt\" / \"定風波.txt\"\n",
    "with open(file_path, 'r', encoding = 'utf-8') as f:\n",
    "    f.readline()\n",
    "    print(f.readline(), end='')\n",
    "    print(f.readline(), end='')\n",
    "    print(f.readline(), end='')\n",
    "    print(f.readline(), end='')"
   ]
  },
  {
   "cell_type": "code",
   "execution_count": null,
   "metadata": {},
   "outputs": [],
   "source": [
    "# Read lines and use for-Loop print line by line\n",
    "from pathlib import Path\n",
    "file_path = Path.home() / \"demo_path\" / \"files\" / \"txt\" / \"定風波.txt\"\n",
    "with open(file_path, 'r', encoding = 'utf-8') as f:\n",
    "    lines = f.readlines()\n",
    "    for line in lines:\n",
    "        print(line, end='')        "
   ]
  },
  {
   "cell_type": "markdown",
   "metadata": {},
   "source": [
    "# Open for write"
   ]
  },
  {
   "cell_type": "markdown",
   "metadata": {},
   "source": [
    "- 模式是 w, 檔案不存在，建新檔案，若檔案存在，則蓋掉原來的內容\n",
    "- 模式是 a, 檔案不存在，建新檔案，若檔案存在，則加在原來的內容之後\n",
    "- 模式是 x, 檔案不存在，建新檔案，若檔案存在，則error\n",
    "- write(str)\n",
    "- writelines(list)"
   ]
  },
  {
   "cell_type": "code",
   "execution_count": null,
   "metadata": {},
   "outputs": [],
   "source": [
    "# 參數 w, 檔案不存在，建新檔案，若檔案存在，則蓋掉原來的內容\n",
    "from pathlib import Path\n",
    "file_path = Path.home() / \"demo_path\" / \"files\" / \"txt\" / \"demofile.txt\"\n",
    "\n",
    "with open(file_path, 'w', encoding='utf-8') as f:\n",
    "    f.write(\"write first line\\n\")\n",
    "with open(file_path, 'r', encoding='utf-8') as f:\n",
    "    print(f.read())"
   ]
  },
  {
   "cell_type": "code",
   "execution_count": null,
   "metadata": {},
   "outputs": [],
   "source": [
    "# 參數 a, 檔案不存在，建新檔案，若檔案存在，則加在原來的內容之後\n",
    "from pathlib import Path\n",
    "file_path = Path.home() / \"demo_path\" / \"files\" / \"txt\" / \"demofile.txt\"\n",
    "with open(file_path, 'a', encoding='utf-8') as f:\n",
    "    f.write(\"append second line\\n\")\n",
    "with open(file_path, 'r', encoding='utf-8') as f:\n",
    "    print(f.read())"
   ]
  },
  {
   "cell_type": "code",
   "execution_count": null,
   "metadata": {},
   "outputs": [],
   "source": [
    "# write again use w\n",
    "from pathlib import Path\n",
    "file_path = Path.home() / \"demo_path\" / \"files\" / \"txt\" / \"demofile.txt\"\n",
    "with open(file_path, 'w', encoding='utf-8') as f:\n",
    "    f.write(\"write again. existed content has been cleared\\n\")\n",
    "with open(file_path, 'r', encoding='utf-8') as f:\n",
    "    print(f.read())"
   ]
  },
  {
   "cell_type": "code",
   "execution_count": null,
   "metadata": {},
   "outputs": [],
   "source": [
    "# 參數 x, 檔案不存在，建新檔案，則error若檔案存在，\n",
    "from pathlib import Path\n",
    "file_path = Path.home() / \"demo_path\" / \"files\" / \"txt\" / \"demofile.txt\"\n",
    "with open(file_path, 'x', encoding='utf-8') as f:\n",
    "        f.write('use x parameter\\n')"
   ]
  },
  {
   "cell_type": "markdown",
   "metadata": {},
   "source": [
    "# Write strings to file"
   ]
  },
  {
   "cell_type": "code",
   "execution_count": null,
   "metadata": {},
   "outputs": [],
   "source": [
    "# writelines(list)\n",
    "foo = ['Hello', 'a', 'Great', 'World!']\n",
    "file_path = '/Users/jacky/demo_path/files/txt/demofile.txt'\n",
    "with open(file_path, 'w', encoding='utf-8') as f:\n",
    "    f.writelines(foo) # 會將 list 中的元素寫入檔案，但不會自動換行\n",
    "with open(file_path, 'r', encoding='utf-8') as f:\n",
    "    print(f.read())"
   ]
  },
  {
   "cell_type": "code",
   "execution_count": null,
   "metadata": {},
   "outputs": [],
   "source": [
    "# writelines(list)\n",
    "foo = ['Hello\\n', 'a\\n', 'Great\\n', 'World!']\n",
    "file_path = '/Users/jacky/demo_path/files/txt/demofile.txt'\n",
    "with open(file_path, 'w', encoding='utf-8') as f:\n",
    "    f.writelines(foo) # 會將 list 中的元素寫入檔案，且因為'\\n'會自動換行\n",
    "with open(file_path, 'r', encoding='utf-8') as f:\n",
    "    print(f.read())"
   ]
  },
  {
   "cell_type": "markdown",
   "metadata": {},
   "source": [
    "# Lab"
   ]
  },
  {
   "cell_type": "markdown",
   "metadata": {},
   "source": [
    "Assume a file name ’demo_file.txt’\n",
    "1. Write ‘Apple’ and ‘Google’ to this file\n",
    "2. Read this file\n",
    "3. Append ‘ 小米’ and ‘三星’ to this file\n",
    "4. Read the file again"
   ]
  },
  {
   "cell_type": "markdown",
   "metadata": {},
   "source": [
    "# W3 School"
   ]
  },
  {
   "cell_type": "markdown",
   "metadata": {},
   "source": [
    "- [File Handling] https://www.w3schools.com/python/exercise.asp?x=xrcise_file_handling1\n",
    "- [Open File] https://www.w3schools.com/python/exercise.asp?x=xrcise_file_open1\n",
    "- [Write to File] https://www.w3schools.com/python/exercise.asp?x=xrcise_file_write1"
   ]
  },
  {
   "cell_type": "markdown",
   "metadata": {},
   "source": [
    "# Backup"
   ]
  },
  {
   "cell_type": "markdown",
   "metadata": {},
   "source": [
    "f.seek(offset, whence): 用於操作檔案指標位置的函數\n",
    "- offset：位移量，以字節（byte）為單位\n",
    "- whence：參考位置，決定了 offset 是基於哪個位置進行計算：\n",
    "  - 0（預設值）：檔案開頭。\n",
    "  - 1：當前指標位置。\n",
    "  - 2：檔案結尾。"
   ]
  },
  {
   "cell_type": "code",
   "execution_count": null,
   "metadata": {},
   "outputs": [],
   "source": [
    "# operate cursor\n",
    "from pathlib import Path\n",
    "file_path = Path.home() / \"demo_path\" / \"files\" / \"txt\" / \"定風波.txt\"\n",
    "with open(file_path, 'r', encoding = 'utf-8') as f:\n",
    "    print(f.read(7))\n",
    "    print(f.tell())  # 以字節為單位\n",
    "    f.seek(10,0)\n",
    "    print(f.read(3), end='')"
   ]
  },
  {
   "cell_type": "code",
   "execution_count": null,
   "metadata": {},
   "outputs": [],
   "source": [
    "'''\n",
    "字節的算法依照編碼方式不同而有所不同\n",
    "UTF-8: 每個字符佔用 1 至 4 個字節。\n",
    "UTF-16: 每個字符通常佔用 2 或 4 個字節。\n",
    "Big5: 每個中文字符通常佔用 2 個字節。\n",
    "'''\n",
    "\n",
    "text = \"你好世界\"  # 中文\n",
    "utf8_bytes = text.encode('utf-8')  # UTF-8 編碼\n",
    "utf16_bytes = text.encode('utf-16')  # UTF-16 編碼\n",
    "big5_bytes = text.encode('big5')  # Big5 編碼\n",
    "\n",
    "print('utf-8:', len(utf8_bytes))  # UTF-8 的字節數\n",
    "print('utf-16:', len(utf16_bytes))  # UTF-16 的字節數\n",
    "print('big5:', len(big5_bytes))  # Big5 的字節數"
   ]
  }
 ],
 "metadata": {
  "kernelspec": {
   "display_name": ".venv",
   "language": "python",
   "name": "python3"
  },
  "language_info": {
   "codemirror_mode": {
    "name": "ipython",
    "version": 3
   },
   "file_extension": ".py",
   "mimetype": "text/x-python",
   "name": "python",
   "nbconvert_exporter": "python",
   "pygments_lexer": "ipython3",
   "version": "3.13.2"
  }
 },
 "nbformat": 4,
 "nbformat_minor": 2
}
