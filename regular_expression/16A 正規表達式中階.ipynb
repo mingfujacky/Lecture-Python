{
 "cells": [
  {
   "cell_type": "code",
   "execution_count": 1,
   "metadata": {},
   "outputs": [],
   "source": [
    "import re"
   ]
  },
  {
   "cell_type": "markdown",
   "metadata": {},
   "source": [
    "### The first regular expression codes"
   ]
  },
  {
   "cell_type": "code",
   "execution_count": null,
   "metadata": {},
   "outputs": [],
   "source": [
    "import re\n",
    "s = 'foo123bar'\n",
    "if re.match('123', s):\n",
    "    print('Match fuction: Found a match.')\n",
    "else:\n",
    "    print('Match function: No match.')\n",
    "\n",
    "if re.search('123', s):\n",
    "    print('Search fuction: Found a match.')\n",
    "else:\n",
    "    print('Search fuction: No match.')  \n",
    "# search and match are different functions\n",
    "# re.search() and re.match return True or False\n",
    "foo1 = re.search('123', s)\n",
    "foo2 = re.search('[0-9][0-9][0-9]', s)\n",
    "foo3 = re.search('[0-9][0-9][0-9]', 'foo456bar')\n",
    "foo4 = re.search('[0-9][0-9][0-9]', '234baz')\n",
    "foo5 = re.search('[0-9][0-9][0-9]', 'qux678')\n",
    "foo6 = re.search('[0-9][0-9][0-9]', '12foo34')"
   ]
  },
  {
   "cell_type": "markdown",
   "metadata": {},
   "source": [
    "### re.search(): 收尋任何位置, 找到第一個就停, 回傳 match object"
   ]
  },
  {
   "cell_type": "code",
   "execution_count": null,
   "metadata": {},
   "outputs": [],
   "source": [
    "pattern1 = r'[a-z]+'\n",
    "pattern2 = r'[0-9]+'\n",
    "sentence = 'my phone number is 0919-123456'\n",
    "matches = re.search(pattern1, sentence)\n",
    "print(matches, matches.group(), matches.start(), matches.end(), matches.span(), sep='\\t')\n",
    "matches = re.search(pattern2, sentence)\n",
    "print(matches, matches.group(), matches.start(), matches.end(), matches.span(), sep='\\t')"
   ]
  },
  {
   "cell_type": "markdown",
   "metadata": {},
   "source": [
    "### re.match(): 從頭搜尋, 第一個字元就沒對到, 就是None, 回傳 match object"
   ]
  },
  {
   "cell_type": "code",
   "execution_count": null,
   "metadata": {},
   "outputs": [],
   "source": [
    "pattern1 = r'[a-z]+'\n",
    "pattern2 = r'[0-9]+'\n",
    "sentence = 'my phone number is 0919-123456'\n",
    "matches = re.match(pattern1, sentence)\n",
    "print(matches, matches.group(), matches.start(), matches.end(), matches.span(), sep='\\t')\n",
    "matches = re.match(pattern2, sentence)\n",
    "print(matches)"
   ]
  },
  {
   "cell_type": "markdown",
   "metadata": {},
   "source": [
    "### re.findall(): 收尋任何位置, 全部字串都找, 回傳 list object"
   ]
  },
  {
   "cell_type": "code",
   "execution_count": null,
   "metadata": {},
   "outputs": [],
   "source": [
    "pattern1 = r'[a-z]+'\n",
    "pattern2 = r'[0-9]+'\n",
    "sentence = 'my phone number is 0919-123456'\n",
    "matches = re.findall(pattern1, sentence)\n",
    "print(matches)\n",
    "matches = re.findall(pattern2, sentence)\n",
    "print(matches)"
   ]
  },
  {
   "cell_type": "markdown",
   "metadata": {},
   "source": [
    "### Regex Metacharacter"
   ]
  },
  {
   "cell_type": "code",
   "execution_count": 26,
   "metadata": {},
   "outputs": [],
   "source": [
    "boo1 = re.search('1.3', 'foo123bar')  # '123'\n",
    "boo2 = re.search('1.3', 'foo13bar')   # None\n",
    "boo2a = re.search('foo.bar', 'foo\\nbar')  # None\n",
    "boo3 = re.search('ba[artz]', 'foobarqux')  #bar\n",
    "boo4 = re.search('ba[artz]', 'foobazqux')  #baz\n",
    "boo5 = re.search('[a-z]', 'FOObar')  #b\n",
    "boo6 = re.search('[0-9][0-9]', 'foo123bar')  #'12'\n",
    "boo7 = re.search('[^0-9]', '12345foo')  #f\n",
    "boo8 = re.search('^The', 'The quick brown fox jumps over the lazy dog.')  # The\n",
    "boo9 = re.search('[#:^]', 'foo^bar:baz#qux')  #^"
   ]
  },
  {
   "cell_type": "code",
   "execution_count": 25,
   "metadata": {},
   "outputs": [],
   "source": [
    "egg1 = re.search('[-abc]', '123-456')  # '-'\n",
    "egg2 = re.search('[abc-]', '123-456')  # '-'\n",
    "egg3 = re.search('[ab\\-c]', '123-456') # '-'"
   ]
  },
  {
   "cell_type": "code",
   "execution_count": 32,
   "metadata": {},
   "outputs": [],
   "source": [
    "spam1 = re.search(r'\\w', '#(.a$@&')  # 'a'\n",
    "spam2 = re.search('[a-zA-Z0-9_]', '#(.a$@&')  #'a'\n",
    "spam3 = re.search(r'\\W', 'a_1*3Qb')  #'*'\n",
    "spam4 = re.search('[^a-zA-Z0-9_]', 'a_1*3Qb')  # '*'\n",
    "spam5 = re.search(r'\\d', 'abc4def')   # '4'\n",
    "spam6 = re.search(r'\\D', '234Q678')   # 'Q'\n"
   ]
  },
  {
   "cell_type": "markdown",
   "metadata": {},
   "source": [
    "### re.sub(): replace substring"
   ]
  },
  {
   "cell_type": "code",
   "execution_count": null,
   "metadata": {},
   "outputs": [],
   "source": [
    "string = 'ID: Jacky, Password: 1234'\n",
    "pattern = r'[0-9]+'\n",
    "string_revised = re.sub(pattern, '*', string)\n",
    "print(string_revised)"
   ]
  },
  {
   "cell_type": "markdown",
   "metadata": {},
   "source": [
    "### Parse a HTML page"
   ]
  },
  {
   "cell_type": "code",
   "execution_count": 2,
   "metadata": {},
   "outputs": [],
   "source": [
    "html = \"\"\"\n",
    "<div class=\"content\">\n",
    "    E-Mail:<a href=\"mailto:mail@test.com.tw\">\n",
    "      mail</a><br>\n",
    "    E-Mail2:<a href=\"mailto:mail2@test.com.tw\">\n",
    "      mail2</a><br>\n",
    "    <ul class=\"price\">定價:360元 </ul>\n",
    "    <img src=\"http://test.com.tw/p1.jpg\">\n",
    "    <img src=\"http://test.com.tw/p2.png\">\n",
    "    電話：(04)-76543210、0937-123456\n",
    "</div>\n",
    "\"\"\""
   ]
  },
  {
   "cell_type": "code",
   "execution_count": null,
   "metadata": {},
   "outputs": [],
   "source": [
    "import re\n",
    "email_pattern = r'''\n",
    "    [a-zA-Z0-9_.-]+\n",
    "    @\n",
    "    [a-zA-Z0-9_-]+\n",
    "    \\.\n",
    "    [a-zA-Z]{2,4}\n",
    "    \\.?\n",
    "    [a-zA-Z]{2,4}?\n",
    "'''\n",
    "print(email_pattern)\n",
    "email_matches = re.findall(email_pattern, html, re.VERBOSE)\n",
    "for email in email_matches: #顯示 email\n",
    "    print(email)"
   ]
  },
  {
   "cell_type": "code",
   "execution_count": null,
   "metadata": {},
   "outputs": [],
   "source": [
    "email_pattern = r'''\n",
    "    [a-zA-Z0-9_.-]+\n",
    "    @\n",
    "    [a-zA-Z0-9_-]+\n",
    "    \\.\n",
    "    [a-zA-Z]{2,4}\n",
    "    \\.?\n",
    "    [a-zA-Z]{2,4}?\n",
    "'''\n",
    "print(email_pattern)\n",
    "email_matches = re.findall(email_pattern, html, re.VERBOSE)\n",
    "for email in email_matches: #顯示 email\n",
    "    print(email)"
   ]
  },
  {
   "cell_type": "code",
   "execution_count": null,
   "metadata": {},
   "outputs": [],
   "source": [
    "import re\n",
    "pattern=r'[a-zA-Z0-9_.+-]+@[a-zA-Z0-9-]+\\.[a-zA-Z0-9-.]+'\n",
    "emails = re.findall(pattern,html)\n",
    "for email in emails: #顯示 email\n",
    "    print(email)\n",
    "\n",
    "price=re.findall(r'[\\d]+元',html)[0].split('元')[0] #價格\n",
    "print(price) #顯示定價金額\n",
    "\n",
    "imglist = re.findall(r'[http://]+[a-zA-Z0-9-/.]+\\.[jpgpng]+',html)\n",
    "for img in imglist: #\n",
    "    print(img) #顯示圖片網址\n",
    "    \n",
    "phonelist = re.findall(r'\\(?\\d{2,4}\\)?\\-\\d{6,8}',html)\n",
    "for phone in phonelist:\n",
    "    print(phone) #顯示電話號碼 "
   ]
  }
 ],
 "metadata": {
  "kernelspec": {
   "display_name": ".venv",
   "language": "python",
   "name": "python3"
  },
  "language_info": {
   "codemirror_mode": {
    "name": "ipython",
    "version": 3
   },
   "file_extension": ".py",
   "mimetype": "text/x-python",
   "name": "python",
   "nbconvert_exporter": "python",
   "pygments_lexer": "ipython3",
   "version": "3.12.5"
  }
 },
 "nbformat": 4,
 "nbformat_minor": 2
}
