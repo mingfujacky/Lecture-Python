{
 "cells": [
  {
   "cell_type": "code",
   "execution_count": null,
   "metadata": {
    "id": "V34wcCIEanob"
   },
   "outputs": [],
   "source": [
    "import sympy as sp\n",
    "sp.init_printing()"
   ]
  },
  {
   "cell_type": "markdown",
   "metadata": {
    "id": "ZRMavT96a5mu"
   },
   "source": [
    "## 基本代數運算"
   ]
  },
  {
   "cell_type": "code",
   "execution_count": null,
   "metadata": {
    "colab": {
     "base_uri": "https://localhost:8080/",
     "height": 38
    },
    "executionInfo": {
     "elapsed": 321,
     "status": "ok",
     "timestamp": 1725958479192,
     "user": {
      "displayName": "林志偉",
      "userId": "13117312472561068650"
     },
     "user_tz": -480
    },
    "id": "T3-uJ5e-a_45",
    "outputId": "b00edf2d-3570-4c5f-eb2e-8d947b61a007"
   },
   "outputs": [],
   "source": [
    "a, b, x = sp.symbols('a, b, x')\n",
    "a + sp.sin(a**2) + sp.cos(b**2)"
   ]
  },
  {
   "cell_type": "code",
   "execution_count": null,
   "metadata": {
    "colab": {
     "base_uri": "https://localhost:8080/",
     "height": 38
    },
    "executionInfo": {
     "elapsed": 312,
     "status": "ok",
     "timestamp": 1725958493559,
     "user": {
      "displayName": "林志偉",
      "userId": "13117312472561068650"
     },
     "user_tz": -480
    },
    "id": "pzt9PPbmbLfM",
    "outputId": "a6c8f982-a83c-43de-bd86-75924b30dd8a"
   },
   "outputs": [],
   "source": [
    "ex = sp.Abs(a) + sp.Abs(b)\n",
    "ex"
   ]
  },
  {
   "cell_type": "code",
   "execution_count": null,
   "metadata": {
    "colab": {
     "base_uri": "https://localhost:8080/",
     "height": 37
    },
    "executionInfo": {
     "elapsed": 329,
     "status": "ok",
     "timestamp": 1725958509861,
     "user": {
      "displayName": "林志偉",
      "userId": "13117312472561068650"
     },
     "user_tz": -480
    },
    "id": "Eu-KPcfxbTjH",
    "outputId": "3c3fe0fb-7e82-4a20-c558-9613a18fbae4"
   },
   "outputs": [],
   "source": [
    "ex.subs(a, -1).subs(b, 3)"
   ]
  },
  {
   "cell_type": "code",
   "execution_count": null,
   "metadata": {
    "colab": {
     "base_uri": "https://localhost:8080/",
     "height": 38
    },
    "executionInfo": {
     "elapsed": 340,
     "status": "ok",
     "timestamp": 1725958521456,
     "user": {
      "displayName": "林志偉",
      "userId": "13117312472561068650"
     },
     "user_tz": -480
    },
    "id": "0hBLhosHbeok",
    "outputId": "4befa5d1-bbaa-4432-d25a-81ca59e020db"
   },
   "outputs": [],
   "source": [
    "sp.Max(sp.pi, sp.E)"
   ]
  },
  {
   "cell_type": "code",
   "execution_count": null,
   "metadata": {
    "colab": {
     "base_uri": "https://localhost:8080/",
     "height": 57
    },
    "executionInfo": {
     "elapsed": 316,
     "status": "ok",
     "timestamp": 1725958525875,
     "user": {
      "displayName": "林志偉",
      "userId": "13117312472561068650"
     },
     "user_tz": -480
    },
    "id": "PxnXyWQAbkhK",
    "outputId": "fdc4a01f-f37e-41af-fc1d-80bdc9c39f5e"
   },
   "outputs": [],
   "source": [
    "sp.log(a, b)"
   ]
  },
  {
   "cell_type": "code",
   "execution_count": null,
   "metadata": {
    "colab": {
     "base_uri": "https://localhost:8080/",
     "height": 37
    },
    "executionInfo": {
     "elapsed": 328,
     "status": "ok",
     "timestamp": 1725958554576,
     "user": {
      "displayName": "林志偉",
      "userId": "13117312472561068650"
     },
     "user_tz": -480
    },
    "id": "QgdNzEBLboY4",
    "outputId": "8dede7fc-470b-4c05-9f55-b3eb658e9a28"
   },
   "outputs": [],
   "source": [
    "sp.log(512, 2)"
   ]
  },
  {
   "cell_type": "code",
   "execution_count": null,
   "metadata": {
    "colab": {
     "base_uri": "https://localhost:8080/",
     "height": 39
    },
    "executionInfo": {
     "elapsed": 315,
     "status": "ok",
     "timestamp": 1725958569531,
     "user": {
      "displayName": "林志偉",
      "userId": "13117312472561068650"
     },
     "user_tz": -480
    },
    "id": "x_EZkd-qbrQ_",
    "outputId": "0f44943a-52fc-45bf-93aa-859807363633"
   },
   "outputs": [],
   "source": [
    "sp.root(24, 3)"
   ]
  },
  {
   "cell_type": "code",
   "execution_count": null,
   "metadata": {
    "colab": {
     "base_uri": "https://localhost:8080/",
     "height": 38
    },
    "executionInfo": {
     "elapsed": 321,
     "status": "ok",
     "timestamp": 1725958583346,
     "user": {
      "displayName": "林志偉",
      "userId": "13117312472561068650"
     },
     "user_tz": -480
    },
    "id": "1qZXWKtHbwCl",
    "outputId": "44c14ec4-1724-420e-92e1-fd1dae8a6b7b"
   },
   "outputs": [],
   "source": [
    "ex = sp.factorial(x)\n",
    "ex"
   ]
  },
  {
   "cell_type": "code",
   "execution_count": null,
   "metadata": {
    "colab": {
     "base_uri": "https://localhost:8080/",
     "height": 37
    },
    "executionInfo": {
     "elapsed": 324,
     "status": "ok",
     "timestamp": 1725958590621,
     "user": {
      "displayName": "林志偉",
      "userId": "13117312472561068650"
     },
     "user_tz": -480
    },
    "id": "-91doZWtb5DJ",
    "outputId": "d9de8c96-73fa-44e6-a102-679e6f628a00"
   },
   "outputs": [],
   "source": [
    "ex.subs(x, 5)"
   ]
  },
  {
   "cell_type": "markdown",
   "metadata": {
    "id": "Gw4oGVYSb-3H"
   },
   "source": [
    "## 多項式與三角函式運算"
   ]
  },
  {
   "cell_type": "code",
   "execution_count": null,
   "metadata": {
    "colab": {
     "base_uri": "https://localhost:8080/",
     "height": 38
    },
    "executionInfo": {
     "elapsed": 320,
     "status": "ok",
     "timestamp": 1725958614237,
     "user": {
      "displayName": "林志偉",
      "userId": "13117312472561068650"
     },
     "user_tz": -480
    },
    "id": "Eatq_lcTb73Q",
    "outputId": "554bc753-c8b1-4114-9441-9beb90511ee4"
   },
   "outputs": [],
   "source": [
    "sp.expand((a+b)**3)  #多項式展開"
   ]
  },
  {
   "cell_type": "code",
   "execution_count": null,
   "metadata": {
    "colab": {
     "base_uri": "https://localhost:8080/",
     "height": 38
    },
    "executionInfo": {
     "elapsed": 319,
     "status": "ok",
     "timestamp": 1725958641031,
     "user": {
      "displayName": "林志偉",
      "userId": "13117312472561068650"
     },
     "user_tz": -480
    },
    "id": "cGd7hzsccKnc",
    "outputId": "33c7bfad-f600-435e-8637-99a91ecf081e"
   },
   "outputs": [],
   "source": [
    "sp.factor(a**2 - 2*a -3)  #多項式分解"
   ]
  },
  {
   "cell_type": "code",
   "execution_count": null,
   "metadata": {
    "colab": {
     "base_uri": "https://localhost:8080/",
     "height": 38
    },
    "executionInfo": {
     "elapsed": 331,
     "status": "ok",
     "timestamp": 1725958674786,
     "user": {
      "displayName": "林志偉",
      "userId": "13117312472561068650"
     },
     "user_tz": -480
    },
    "id": "3JaX4PwUcfPK",
    "outputId": "f5c0ee2d-d696-4bf2-e722-17cab3ca054e"
   },
   "outputs": [],
   "source": [
    "sp.collect(x**2 + x*a**2 + a*x*3 + 2, x)  #多項式用 x 降冪"
   ]
  },
  {
   "cell_type": "code",
   "execution_count": null,
   "metadata": {
    "colab": {
     "base_uri": "https://localhost:8080/",
     "height": 38
    },
    "executionInfo": {
     "elapsed": 328,
     "status": "ok",
     "timestamp": 1725958699552,
     "user": {
      "displayName": "林志偉",
      "userId": "13117312472561068650"
     },
     "user_tz": -480
    },
    "id": "ujNsAVTUdAZo",
    "outputId": "ac784f4c-f74f-410b-b076-d90bd36dee4b"
   },
   "outputs": [],
   "source": [
    "sp.collect(x**2 + x*a**2 + a*x*3, a)  #多項式用 a 降冪"
   ]
  },
  {
   "cell_type": "code",
   "execution_count": null,
   "metadata": {
    "colab": {
     "base_uri": "https://localhost:8080/",
     "height": 38
    },
    "executionInfo": {
     "elapsed": 287,
     "status": "ok",
     "timestamp": 1725958729200,
     "user": {
      "displayName": "林志偉",
      "userId": "13117312472561068650"
     },
     "user_tz": -480
    },
    "id": "0VK35COsdFVj",
    "outputId": "f4cd47e4-05b2-45d2-9889-759e2ce07967"
   },
   "outputs": [],
   "source": [
    "sp.expand(sp.sin(a+b), trig = True) # 三角函數展開"
   ]
  },
  {
   "cell_type": "code",
   "execution_count": null,
   "metadata": {
    "colab": {
     "base_uri": "https://localhost:8080/",
     "height": 38
    },
    "executionInfo": {
     "elapsed": 373,
     "status": "ok",
     "timestamp": 1725958784698,
     "user": {
      "displayName": "林志偉",
      "userId": "13117312472561068650"
     },
     "user_tz": -480
    },
    "id": "ru0lgYwLKODL",
    "outputId": "80ed7c2b-21a5-4f2b-e64e-e0657e5e74d0"
   },
   "outputs": [],
   "source": [
    "sp.sin(a)*sp.cos(b) + sp.sin(b)*sp.cos(a)"
   ]
  },
  {
   "cell_type": "code",
   "execution_count": null,
   "metadata": {
    "colab": {
     "base_uri": "https://localhost:8080/",
     "height": 38
    },
    "executionInfo": {
     "elapsed": 339,
     "status": "ok",
     "timestamp": 1725958795172,
     "user": {
      "displayName": "林志偉",
      "userId": "13117312472561068650"
     },
     "user_tz": -480
    },
    "id": "vtLTwiDOdhL6",
    "outputId": "cc1eb002-47d4-455c-f5d6-d5a2f885ed05"
   },
   "outputs": [],
   "source": [
    "sp.trigsimp(sp.sin(a)*sp.cos(b) + sp.sin(b)*sp.cos(a)) # 三角函數簡化"
   ]
  },
  {
   "cell_type": "code",
   "execution_count": null,
   "metadata": {
    "colab": {
     "base_uri": "https://localhost:8080/",
     "height": 52
    },
    "executionInfo": {
     "elapsed": 469,
     "status": "ok",
     "timestamp": 1725958809362,
     "user": {
      "displayName": "林志偉",
      "userId": "13117312472561068650"
     },
     "user_tz": -480
    },
    "id": "eVkfAOmDeZTg",
    "outputId": "0ed3dd51-8782-425e-caf0-ff86d6dd0aa2"
   },
   "outputs": [],
   "source": [
    "ex = (a-2) / (a**3 + 6*a**2 - a -30)\n",
    "ex"
   ]
  },
  {
   "cell_type": "code",
   "execution_count": null,
   "metadata": {
    "colab": {
     "base_uri": "https://localhost:8080/",
     "height": 52
    },
    "executionInfo": {
     "elapsed": 313,
     "status": "ok",
     "timestamp": 1725958830839,
     "user": {
      "displayName": "林志偉",
      "userId": "13117312472561068650"
     },
     "user_tz": -480
    },
    "id": "Ov_VRezxeo03",
    "outputId": "aa8fa772-7376-4cc3-a77c-a596deaa7c0c"
   },
   "outputs": [],
   "source": [
    "sp.cancel(ex)  #約分"
   ]
  },
  {
   "cell_type": "code",
   "execution_count": null,
   "metadata": {
    "colab": {
     "base_uri": "https://localhost:8080/",
     "height": 55
    },
    "executionInfo": {
     "elapsed": 327,
     "status": "ok",
     "timestamp": 1725958841116,
     "user": {
      "displayName": "林志偉",
      "userId": "13117312472561068650"
     },
     "user_tz": -480
    },
    "id": "H5b03tA3estN",
    "outputId": "11286888-9426-4555-cc6f-64622c084390"
   },
   "outputs": [],
   "source": [
    "sp.apart(ex) #部分分式是將有理函數分解成許多次數較低有理函數和的形式，來降低分子或分母多項式的次數"
   ]
  },
  {
   "cell_type": "markdown",
   "metadata": {
    "id": "PQ4CH_W1f0Vt"
   },
   "source": [
    "##解方程式"
   ]
  },
  {
   "cell_type": "code",
   "execution_count": null,
   "metadata": {
    "executionInfo": {
     "elapsed": 305,
     "status": "ok",
     "timestamp": 1725958895534,
     "user": {
      "displayName": "林志偉",
      "userId": "13117312472561068650"
     },
     "user_tz": -480
    },
    "id": "B5JXCmR1gVWi"
   },
   "outputs": [],
   "source": [
    "a, b, c, x, y = sp.symbols('a, b, c, x, y')"
   ]
  },
  {
   "cell_type": "code",
   "execution_count": null,
   "metadata": {
    "colab": {
     "base_uri": "https://localhost:8080/",
     "height": 38
    },
    "executionInfo": {
     "elapsed": 360,
     "status": "ok",
     "timestamp": 1725958900964,
     "user": {
      "displayName": "林志偉",
      "userId": "13117312472561068650"
     },
     "user_tz": -480
    },
    "id": "T73GOBjzgfc3",
    "outputId": "2111503d-22ca-4714-b725-0882ad634df8"
   },
   "outputs": [],
   "source": [
    "ex = x**2 + 3*x - a\n",
    "ex"
   ]
  },
  {
   "cell_type": "code",
   "execution_count": null,
   "metadata": {
    "colab": {
     "base_uri": "https://localhost:8080/",
     "height": 59
    },
    "executionInfo": {
     "elapsed": 322,
     "status": "ok",
     "timestamp": 1725958926190,
     "user": {
      "displayName": "林志偉",
      "userId": "13117312472561068650"
     },
     "user_tz": -480
    },
    "id": "T7JzjxaLglfm",
    "outputId": "9a4aac2a-431f-4e10-9e8b-03d9a354ee8b"
   },
   "outputs": [],
   "source": [
    "sp.solve(ex, x)  # solve 'x**2 + 3*x - a = 0 '中的 x"
   ]
  },
  {
   "cell_type": "code",
   "execution_count": null,
   "metadata": {
    "colab": {
     "base_uri": "https://localhost:8080/",
     "height": 38
    },
    "executionInfo": {
     "elapsed": 291,
     "status": "ok",
     "timestamp": 1725958970995,
     "user": {
      "displayName": "林志偉",
      "userId": "13117312472561068650"
     },
     "user_tz": -480
    },
    "id": "cCq_2KSDg5BG",
    "outputId": "612a90d3-7073-4182-dd7f-d1a52c7d8774"
   },
   "outputs": [],
   "source": [
    "sp.solve(ex, a)  # solve 'x**2 + 3*x - a = 0 '中的 a"
   ]
  },
  {
   "cell_type": "code",
   "execution_count": null,
   "metadata": {
    "colab": {
     "base_uri": "https://localhost:8080/",
     "height": 58
    },
    "executionInfo": {
     "elapsed": 316,
     "status": "ok",
     "timestamp": 1725959025714,
     "user": {
      "displayName": "林志偉",
      "userId": "13117312472561068650"
     },
     "user_tz": -480
    },
    "id": "8peHtCqZhARL",
    "outputId": "f07ad3d3-7cc5-4798-f2a1-21006e987e53"
   },
   "outputs": [],
   "source": [
    "ex1 = x + 4*y -1  #解二元一次方程式\n",
    "ex2 = 2*x -2*y -1\n",
    "sp.solve([ex1, ex2], [x, y])"
   ]
  },
  {
   "cell_type": "code",
   "execution_count": null,
   "metadata": {
    "colab": {
     "base_uri": "https://localhost:8080/",
     "height": 58
    },
    "executionInfo": {
     "elapsed": 319,
     "status": "ok",
     "timestamp": 1725959046485,
     "user": {
      "displayName": "林志偉",
      "userId": "13117312472561068650"
     },
     "user_tz": -480
    },
    "id": "lxwFPSCMhcz-",
    "outputId": "be135389-b23d-479c-8054-c2918f316bf1"
   },
   "outputs": [],
   "source": [
    "ex1 = x**2 + y -1  #解二元二次方程式\n",
    "ex2 = x - 2*y + 1\n",
    "sp.solve([ex1, ex2], [x, y])"
   ]
  },
  {
   "cell_type": "code",
   "execution_count": null,
   "metadata": {
    "colab": {
     "base_uri": "https://localhost:8080/",
     "height": 68
    },
    "executionInfo": {
     "elapsed": 307,
     "status": "ok",
     "timestamp": 1725959070727,
     "user": {
      "displayName": "林志偉",
      "userId": "13117312472561068650"
     },
     "user_tz": -480
    },
    "id": "7gwXiMvqiwpl",
    "outputId": "b9756313-66c8-4d78-9fa5-eedcba631831"
   },
   "outputs": [],
   "source": [
    "ex = x**3 + 2*x**2 - 1\n",
    "sp.solve(ex, x)"
   ]
  },
  {
   "cell_type": "code",
   "execution_count": null,
   "metadata": {
    "colab": {
     "base_uri": "https://localhost:8080/",
     "height": 37
    },
    "executionInfo": {
     "elapsed": 310,
     "status": "ok",
     "timestamp": 1725959086285,
     "user": {
      "displayName": "林志偉",
      "userId": "13117312472561068650"
     },
     "user_tz": -480
    },
    "id": "TWSr_zdphrOa",
    "outputId": "3b350a6e-c122-4d6a-c1f5-7f8f8bd59220"
   },
   "outputs": [],
   "source": [
    "ex = x**3 + 2*x**2 - 1\n",
    "sp.nroots(ex)"
   ]
  },
  {
   "cell_type": "markdown",
   "metadata": {
    "id": "PVYLNbm2nE_d"
   },
   "source": [
    "##解三角函式"
   ]
  },
  {
   "cell_type": "code",
   "execution_count": null,
   "metadata": {
    "colab": {
     "base_uri": "https://localhost:8080/",
     "height": 38
    },
    "executionInfo": {
     "elapsed": 365,
     "status": "ok",
     "timestamp": 1725959151012,
     "user": {
      "displayName": "林志偉",
      "userId": "13117312472561068650"
     },
     "user_tz": -480
    },
    "id": "4PPf20oVkLrz",
    "outputId": "9f62a586-d2c4-431e-e37c-41b14b601944"
   },
   "outputs": [],
   "source": [
    "ex = sp.sin(x) + sp.cos(x) -1\n",
    "ex"
   ]
  },
  {
   "cell_type": "code",
   "execution_count": null,
   "metadata": {
    "colab": {
     "base_uri": "https://localhost:8080/",
     "height": 48
    },
    "executionInfo": {
     "elapsed": 330,
     "status": "ok",
     "timestamp": 1725959163113,
     "user": {
      "displayName": "林志偉",
      "userId": "13117312472561068650"
     },
     "user_tz": -480
    },
    "id": "hLYVgXOSkqSS",
    "outputId": "755d955a-0a08-4c54-9044-7bc748ce0242"
   },
   "outputs": [],
   "source": [
    "sp.solve(ex, x)  # solve 'sin(x) + cos(x) -1 = 0'"
   ]
  },
  {
   "cell_type": "code",
   "execution_count": null,
   "metadata": {
    "colab": {
     "base_uri": "https://localhost:8080/",
     "height": 38
    },
    "executionInfo": {
     "elapsed": 373,
     "status": "ok",
     "timestamp": 1725959173805,
     "user": {
      "displayName": "林志偉",
      "userId": "13117312472561068650"
     },
     "user_tz": -480
    },
    "id": "40NB2Qnpkx2T",
    "outputId": "a71b5cfa-c8d3-43fe-afe2-f9b47fd08d51"
   },
   "outputs": [],
   "source": [
    "eq = sp.Eq(sp.sin(x) + sp.cos(x), 1)\n",
    "eq"
   ]
  },
  {
   "cell_type": "code",
   "execution_count": null,
   "metadata": {
    "colab": {
     "base_uri": "https://localhost:8080/",
     "height": 48
    },
    "executionInfo": {
     "elapsed": 294,
     "status": "ok",
     "timestamp": 1725959230110,
     "user": {
      "displayName": "林志偉",
      "userId": "13117312472561068650"
     },
     "user_tz": -480
    },
    "id": "G02QdhRilDaV",
    "outputId": "6deb0d51-8f21-4325-e83a-174c55e60e0d"
   },
   "outputs": [],
   "source": [
    "sp.solve(eq, x)"
   ]
  },
  {
   "cell_type": "markdown",
   "metadata": {
    "id": "UH6Z9AdpjJZZ"
   },
   "source": [
    "## 無法直接求解時, 畫方程式及求數值解"
   ]
  },
  {
   "cell_type": "code",
   "execution_count": null,
   "metadata": {
    "colab": {
     "base_uri": "https://localhost:8080/",
     "height": 38
    },
    "executionInfo": {
     "elapsed": 304,
     "status": "ok",
     "timestamp": 1725959284886,
     "user": {
      "displayName": "林志偉",
      "userId": "13117312472561068650"
     },
     "user_tz": -480
    },
    "id": "_7s4DmqRev-p",
    "outputId": "0acd0bbf-09b8-4c2f-9db8-37b9d9177296"
   },
   "outputs": [],
   "source": [
    "import sympy as sp\n",
    "sp.init_printing()\n",
    "\n",
    "x = sp.symbols('x')\n",
    "f = 5 * sp.sin(3*x) - x**2\n",
    "f"
   ]
  },
  {
   "cell_type": "code",
   "execution_count": null,
   "metadata": {
    "colab": {
     "base_uri": "https://localhost:8080/",
     "height": 316
    },
    "executionInfo": {
     "elapsed": 1492,
     "status": "error",
     "timestamp": 1725959314743,
     "user": {
      "displayName": "林志偉",
      "userId": "13117312472561068650"
     },
     "user_tz": -480
    },
    "id": "ve1ua0cogD5H",
    "outputId": "0d7ff644-f34f-4521-f613-983c81b773f6"
   },
   "outputs": [],
   "source": [
    "sp.solve(f, x) # Error: No algorithms are implemented to solve equation"
   ]
  },
  {
   "cell_type": "code",
   "execution_count": null,
   "metadata": {
    "colab": {
     "base_uri": "https://localhost:8080/",
     "height": 521
    },
    "executionInfo": {
     "elapsed": 758,
     "status": "ok",
     "timestamp": 1725959681134,
     "user": {
      "displayName": "林志偉",
      "userId": "13117312472561068650"
     },
     "user_tz": -480
    },
    "id": "gkjW4pbnjeNU",
    "outputId": "f0db1e66-f908-4551-e4ee-347a7febae43"
   },
   "outputs": [],
   "source": [
    "sp.plot(f, (x, -20, 20), line_color='red')"
   ]
  },
  {
   "cell_type": "code",
   "execution_count": null,
   "metadata": {
    "colab": {
     "base_uri": "https://localhost:8080/",
     "height": 37
    },
    "executionInfo": {
     "elapsed": 292,
     "status": "ok",
     "timestamp": 1725959609691,
     "user": {
      "displayName": "林志偉",
      "userId": "13117312472561068650"
     },
     "user_tz": -480
    },
    "id": "WKu55WVEj0Iw",
    "outputId": "59f73be6-7c18-4f49-d076-0cab87b30a0a"
   },
   "outputs": [],
   "source": [
    "(sp.nsolve(f, x, -2), sp.nsolve(f, x, -1), sp.nsolve(f, x, 0), sp.nsolve(f, x, 1))"
   ]
  }
 ],
 "metadata": {
  "colab": {
   "authorship_tag": "ABX9TyMXtc1cgx7O7YrKMb4xOHnn",
   "collapsed_sections": [
    "ZRMavT96a5mu",
    "Gw4oGVYSb-3H",
    "PQ4CH_W1f0Vt",
    "PVYLNbm2nE_d",
    "UH6Z9AdpjJZZ"
   ],
   "provenance": [],
   "toc_visible": true
  },
  "kernelspec": {
   "display_name": "Python 3",
   "name": "python3"
  },
  "language_info": {
   "name": "python"
  }
 },
 "nbformat": 4,
 "nbformat_minor": 0
}
