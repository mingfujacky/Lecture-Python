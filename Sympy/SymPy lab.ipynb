{
 "cells": [
  {
   "cell_type": "code",
   "execution_count": null,
   "metadata": {
    "executionInfo": {
     "elapsed": 2,
     "status": "ok",
     "timestamp": 1717124131450,
     "user": {
      "displayName": "林志偉",
      "userId": "13117312472561068650"
     },
     "user_tz": -480
    },
    "id": "WCNz1k_yHGXL"
   },
   "outputs": [],
   "source": [
    "import sympy as sp\n",
    "sp.init_printing()"
   ]
  },
  {
   "cell_type": "markdown",
   "metadata": {
    "id": "cvuzqv-PJStg"
   },
   "source": [
    "## PQ 線段長度"
   ]
  },
  {
   "cell_type": "code",
   "execution_count": null,
   "metadata": {
    "colab": {
     "base_uri": "https://localhost:8080/",
     "height": 39
    },
    "executionInfo": {
     "elapsed": 481,
     "status": "ok",
     "timestamp": 1717121575838,
     "user": {
      "displayName": "林志偉",
      "userId": "13117312472561068650"
     },
     "user_tz": -480
    },
    "id": "gC17unp0HOHn",
    "outputId": "8ea5a189-e92e-4f15-d3a3-4948d7364266"
   },
   "outputs": [],
   "source": [
    "x0, x1 = sp.symbols('x:2')\n",
    "y0, y1 = sp.symbols('y:2')\n",
    "x0, x1, y0, y1"
   ]
  },
  {
   "cell_type": "code",
   "execution_count": null,
   "metadata": {
    "colab": {
     "base_uri": "https://localhost:8080/",
     "height": 48
    },
    "executionInfo": {
     "elapsed": 302,
     "status": "ok",
     "timestamp": 1716629919029,
     "user": {
      "displayName": "林志偉",
      "userId": "13117312472561068650"
     },
     "user_tz": -480
    },
    "id": "xSOEHni8Hcm8",
    "outputId": "4660189d-fa74-45d2-dd85-ad9180305b2b"
   },
   "outputs": [],
   "source": [
    "ex = sp.sqrt(((x0 - x1)**2 + (y0 - y1)**2))\n",
    "ex"
   ]
  },
  {
   "cell_type": "markdown",
   "metadata": {
    "id": "HnSldF_yJaW0"
   },
   "source": [
    "## 展開 a+b+c的平方"
   ]
  },
  {
   "cell_type": "code",
   "execution_count": null,
   "metadata": {
    "colab": {
     "base_uri": "https://localhost:8080/",
     "height": 39
    },
    "executionInfo": {
     "elapsed": 323,
     "status": "ok",
     "timestamp": 1717121803440,
     "user": {
      "displayName": "林志偉",
      "userId": "13117312472561068650"
     },
     "user_tz": -480
    },
    "id": "Zbf9TmPDHgXS",
    "outputId": "e56942e2-1e9e-497e-f527-f7587eeb71f6"
   },
   "outputs": [],
   "source": [
    "a, b, c = sp.symbols('a, b, c')\n",
    "ex = a**2 + b**2 + c**2 +2*a*b + 2*b*c + 2*c*a\n",
    "ex"
   ]
  },
  {
   "cell_type": "code",
   "execution_count": null,
   "metadata": {
    "colab": {
     "base_uri": "https://localhost:8080/",
     "height": 37
    },
    "executionInfo": {
     "elapsed": 298,
     "status": "ok",
     "timestamp": 1717121806707,
     "user": {
      "displayName": "林志偉",
      "userId": "13117312472561068650"
     },
     "user_tz": -480
    },
    "id": "4Uz4O_9IHjWL",
    "outputId": "fb47defb-f2c2-4b07-fdc6-c06874d03dc9"
   },
   "outputs": [],
   "source": [
    "ex.subs(a,1).subs(b,2).subs(c, 3)"
   ]
  },
  {
   "cell_type": "markdown",
   "metadata": {
    "id": "mteLeYzIJhqg"
   },
   "source": [
    "## 圓周長公式"
   ]
  },
  {
   "cell_type": "code",
   "execution_count": null,
   "metadata": {
    "colab": {
     "base_uri": "https://localhost:8080/",
     "height": 39
    },
    "executionInfo": {
     "elapsed": 361,
     "status": "ok",
     "timestamp": 1716630052251,
     "user": {
      "displayName": "林志偉",
      "userId": "13117312472561068650"
     },
     "user_tz": -480
    },
    "id": "fKseLgtKH0qx",
    "outputId": "4534a8f2-3a00-415a-ca38-2d078ab51373"
   },
   "outputs": [],
   "source": [
    "r = sp.symbols('r')\n",
    "ex = 2* sp.pi * r\n",
    "ex"
   ]
  },
  {
   "cell_type": "markdown",
   "metadata": {
    "id": "mWVLwpvQJFR1"
   },
   "source": [
    "## 求兩圓的交點"
   ]
  },
  {
   "cell_type": "code",
   "execution_count": null,
   "metadata": {
    "colab": {
     "base_uri": "https://localhost:8080/",
     "height": 58
    },
    "executionInfo": {
     "elapsed": 315,
     "status": "ok",
     "timestamp": 1716630220696,
     "user": {
      "displayName": "林志偉",
      "userId": "13117312472561068650"
     },
     "user_tz": -480
    },
    "id": "9NUjItV1ILo1",
    "outputId": "7d5dff62-5efa-46fa-d963-99f3c8dc1c1f"
   },
   "outputs": [],
   "source": [
    "x, y = sp.symbols('x, y')\n",
    "eq1 = sp.Eq(x**2 + y**2, 1)\n",
    "eq2 = sp.Eq((x-2)**2 + (y-1)**2, 4)\n",
    "sp.solve([eq1, eq2], [x, y])"
   ]
  },
  {
   "cell_type": "code",
   "execution_count": null,
   "metadata": {
    "id": "eve2nkVHIoTa"
   },
   "outputs": [],
   "source": [
    "p1 = sp.plot_implicit(eq1, (x, -1, 4), (y, -2, 3), line_color='red', aspect_ratio=(1, 1), show=False)\n",
    "p2 = sp.plot_implicit(eq2, (x, -1, 4), (y, -2, 3), line_color='green', aspect_ratio=(1, 1), show=False)\n",
    "p1.extend(p2)\n",
    "p1.show()"
   ]
  },
  {
   "cell_type": "markdown",
   "metadata": {
    "id": "749XwM-pJun6"
   },
   "source": [
    "## 聯立解"
   ]
  },
  {
   "cell_type": "code",
   "execution_count": null,
   "metadata": {
    "colab": {
     "base_uri": "https://localhost:8080/",
     "height": 39
    },
    "executionInfo": {
     "elapsed": 8,
     "status": "ok",
     "timestamp": 1716630608881,
     "user": {
      "displayName": "林志偉",
      "userId": "13117312472561068650"
     },
     "user_tz": -480
    },
    "id": "u43trbOmJ0lf",
    "outputId": "ae6617ae-2a7e-4fb3-81c1-4724faee39ef"
   },
   "outputs": [],
   "source": [
    "x, y = sp.symbols('x, y')\n",
    "eq1 = sp.Eq(2*x + 3*y, 1)\n",
    "eq2 = sp.Eq(x**2 + y**2, 2)"
   ]
  },
  {
   "cell_type": "code",
   "execution_count": null,
   "metadata": {
    "colab": {
     "base_uri": "https://localhost:8080/",
     "height": 58
    },
    "executionInfo": {
     "elapsed": 8,
     "status": "ok",
     "timestamp": 1716630656134,
     "user": {
      "displayName": "林志偉",
      "userId": "13117312472561068650"
     },
     "user_tz": -480
    },
    "id": "6kheZ7vPKHQv",
    "outputId": "af361140-b88b-4333-b32c-c26f09a2d4cb"
   },
   "outputs": [],
   "source": [
    "# 數值解\n",
    "sp.solve([eq1, eq2], [x, y])"
   ]
  },
  {
   "cell_type": "code",
   "execution_count": null,
   "metadata": {
    "colab": {
     "base_uri": "https://localhost:8080/",
     "height": 486
    },
    "executionInfo": {
     "elapsed": 1300,
     "status": "ok",
     "timestamp": 1716630712590,
     "user": {
      "displayName": "林志偉",
      "userId": "13117312472561068650"
     },
     "user_tz": -480
    },
    "id": "3wqvwFZLKUAF",
    "outputId": "bb79c58e-7fc6-4186-9eb0-7d30257efaac"
   },
   "outputs": [],
   "source": [
    "p1 = sp.plot_implicit(eq1, (x, -3, 3), (y, -3, 3), line_color='red', aspect_ratio=(1, 1), show=False)\n",
    "p2 = sp.plot_implicit(eq2, (x, -3, 3), (y, -3, 3), line_color='green', aspect_ratio=(1, 1), show=False)\n",
    "p1.extend(p2)\n",
    "p1.show()"
   ]
  },
  {
   "cell_type": "markdown",
   "metadata": {
    "id": "kxaN35MwKmZq"
   },
   "source": [
    "## f(x)"
   ]
  },
  {
   "cell_type": "code",
   "execution_count": null,
   "metadata": {
    "colab": {
     "base_uri": "https://localhost:8080/",
     "height": 39
    },
    "executionInfo": {
     "elapsed": 4,
     "status": "ok",
     "timestamp": 1716631086720,
     "user": {
      "displayName": "林志偉",
      "userId": "13117312472561068650"
     },
     "user_tz": -480
    },
    "id": "mibSpucEKxi-",
    "outputId": "835d436f-5163-468b-b777-2933bfa7afb8"
   },
   "outputs": [],
   "source": [
    "x = sp.symbols('x')\n",
    "f = x**4 - 4*x**3 - sp.cos(3*x) - 3\n",
    "f"
   ]
  },
  {
   "cell_type": "code",
   "execution_count": null,
   "metadata": {
    "id": "Rfg9tC1_LzF9"
   },
   "outputs": [],
   "source": [
    "# sp.solve(f, x)  # get error"
   ]
  },
  {
   "cell_type": "code",
   "execution_count": null,
   "metadata": {
    "colab": {
     "base_uri": "https://localhost:8080/",
     "height": 498
    },
    "executionInfo": {
     "elapsed": 795,
     "status": "ok",
     "timestamp": 1716631322090,
     "user": {
      "displayName": "林志偉",
      "userId": "13117312472561068650"
     },
     "user_tz": -480
    },
    "id": "gD4bQOjlLESy",
    "outputId": "125ef6cf-daa8-4681-d8c4-d39117ec5911"
   },
   "outputs": [],
   "source": [
    "sp.plot(ex, (x, -5, 5), line_color='red')\n"
   ]
  },
  {
   "cell_type": "code",
   "execution_count": null,
   "metadata": {
    "colab": {
     "base_uri": "https://localhost:8080/",
     "height": 37
    },
    "executionInfo": {
     "elapsed": 268,
     "status": "ok",
     "timestamp": 1716631249495,
     "user": {
      "displayName": "林志偉",
      "userId": "13117312472561068650"
     },
     "user_tz": -480
    },
    "id": "V1jM1bKMMZTi",
    "outputId": "c1b3d395-e499-48d9-9258-53cc58a52eb3"
   },
   "outputs": [],
   "source": [
    "sp.nsolve(f, x, -1)"
   ]
  },
  {
   "cell_type": "code",
   "execution_count": null,
   "metadata": {
    "colab": {
     "base_uri": "https://localhost:8080/",
     "height": 37
    },
    "executionInfo": {
     "elapsed": 286,
     "status": "ok",
     "timestamp": 1716631267048,
     "user": {
      "displayName": "林志偉",
      "userId": "13117312472561068650"
     },
     "user_tz": -480
    },
    "id": "3csh2KsqMj1g",
    "outputId": "632c77dd-2fe0-4228-e6c9-37c95ee7cb52"
   },
   "outputs": [],
   "source": [
    "sp.nsolve(f, x, 4)"
   ]
  },
  {
   "cell_type": "code",
   "execution_count": null,
   "metadata": {
    "id": "Q5I05lxBM4Ct"
   },
   "outputs": [],
   "source": [
    "# sp.nsolve(f, x, 0) # ValueError: Could not find root within given tolerance."
   ]
  },
  {
   "cell_type": "markdown",
   "metadata": {
    "id": "5pCcls1RNLAP"
   },
   "source": [
    "## 反矩陣"
   ]
  },
  {
   "cell_type": "code",
   "execution_count": null,
   "metadata": {
    "colab": {
     "base_uri": "https://localhost:8080/",
     "height": 58
    },
    "executionInfo": {
     "elapsed": 269,
     "status": "ok",
     "timestamp": 1716631621275,
     "user": {
      "displayName": "林志偉",
      "userId": "13117312472561068650"
     },
     "user_tz": -480
    },
    "id": "kE7Gmi3_NN_1",
    "outputId": "3a975b08-0c41-4a5e-cec0-133c6f7e58ad"
   },
   "outputs": [],
   "source": [
    "alp, bet = sp.symbols('alpha, beta')\n",
    "m = sp.Matrix([[alp, bet], [1, 1]])\n",
    "m"
   ]
  },
  {
   "cell_type": "code",
   "execution_count": null,
   "metadata": {
    "colab": {
     "base_uri": "https://localhost:8080/",
     "height": 68
    },
    "executionInfo": {
     "elapsed": 310,
     "status": "ok",
     "timestamp": 1716631624289,
     "user": {
      "displayName": "林志偉",
      "userId": "13117312472561068650"
     },
     "user_tz": -480
    },
    "id": "49AmsO7bNr-i",
    "outputId": "85cf60cf-b79b-4d96-8125-bea4daacbbad"
   },
   "outputs": [],
   "source": [
    "m.inv()"
   ]
  },
  {
   "cell_type": "code",
   "execution_count": null,
   "metadata": {
    "id": "V9OQJcuDNzCa"
   },
   "outputs": [],
   "source": []
  }
 ],
 "metadata": {
  "colab": {
   "authorship_tag": "ABX9TyM9bOfSL+xXsxl9dCTZIjek",
   "provenance": [],
   "toc_visible": true
  },
  "kernelspec": {
   "display_name": "Python 3",
   "name": "python3"
  },
  "language_info": {
   "name": "python"
  }
 },
 "nbformat": 4,
 "nbformat_minor": 0
}
