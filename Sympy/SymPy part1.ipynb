{
 "cells": [
  {
   "cell_type": "code",
   "execution_count": null,
   "metadata": {
    "id": "OTVTzie7Vgwg"
   },
   "outputs": [],
   "source": [
    "import sympy as sp\n",
    "sp.init_printing()   #顯示數學式的環境"
   ]
  },
  {
   "cell_type": "markdown",
   "metadata": {
    "id": "-C8X0HwUO9df"
   },
   "source": [
    "## 建立物件符號"
   ]
  },
  {
   "cell_type": "code",
   "execution_count": null,
   "metadata": {
    "id": "64kR7M3HV5OS"
   },
   "outputs": [],
   "source": [
    "x = sp.Symbol('x')   #建立符號物件方法一, 一個符號物件\n",
    "y = sp.Symbol('y')\n",
    "x, y"
   ]
  },
  {
   "cell_type": "code",
   "execution_count": null,
   "metadata": {
    "colab": {
     "base_uri": "https://localhost:8080/",
     "height": 38
    },
    "executionInfo": {
     "elapsed": 477,
     "status": "ok",
     "timestamp": 1725955121925,
     "user": {
      "displayName": "林志偉",
      "userId": "13117312472561068650"
     },
     "user_tz": -480
    },
    "id": "dtQr3CaLV0-x",
    "outputId": "76ebb4f2-a804-43dd-8d31-ae485400774f"
   },
   "outputs": [],
   "source": [
    "ex = x**2 + y    # build a formula\n",
    "ex"
   ]
  },
  {
   "cell_type": "code",
   "execution_count": null,
   "metadata": {
    "colab": {
     "base_uri": "https://localhost:8080/",
     "height": 37
    },
    "executionInfo": {
     "elapsed": 471,
     "status": "ok",
     "timestamp": 1725955146533,
     "user": {
      "displayName": "林志偉",
      "userId": "13117312472561068650"
     },
     "user_tz": -480
    },
    "id": "WjnNl8pJWOl1",
    "outputId": "e92f6ca4-c2ad-4a02-eabc-4aad6dacd146"
   },
   "outputs": [],
   "source": [
    "ex.subs(x,-4).subs(y, -3)  # 代換數值到公式中"
   ]
  },
  {
   "cell_type": "code",
   "execution_count": null,
   "metadata": {
    "colab": {
     "base_uri": "https://localhost:8080/",
     "height": 38
    },
    "executionInfo": {
     "elapsed": 466,
     "status": "ok",
     "timestamp": 1725955206385,
     "user": {
      "displayName": "林志偉",
      "userId": "13117312472561068650"
     },
     "user_tz": -480
    },
    "id": "cDyCHM2rLNfU",
    "outputId": "8354104c-4e5c-4fa2-ea7c-6c385da8d93d"
   },
   "outputs": [],
   "source": [
    "a, b, c = sp.symbols('a, b, c')  #建立符號物件方法二, 多個符號物件\n",
    "ex = a**2 + c**3  - 2*a*b*c\n",
    "ex"
   ]
  },
  {
   "cell_type": "code",
   "execution_count": null,
   "metadata": {
    "colab": {
     "base_uri": "https://localhost:8080/",
     "height": 38
    },
    "executionInfo": {
     "elapsed": 476,
     "status": "ok",
     "timestamp": 1725955258444,
     "user": {
      "displayName": "林志偉",
      "userId": "13117312472561068650"
     },
     "user_tz": -480
    },
    "id": "BeEfJmydMjWb",
    "outputId": "1309de6b-b853-4917-b587-a1d7885196e6"
   },
   "outputs": [],
   "source": [
    "alp, bet, gam = sp.symbols('alpha, beta, gamma') #建立符號物件方法三, 希臘字母\n",
    "ex = alp**2 + bet**2 + gam**2\n",
    "ex"
   ]
  },
  {
   "cell_type": "code",
   "execution_count": null,
   "metadata": {
    "colab": {
     "base_uri": "https://localhost:8080/",
     "height": 48
    },
    "executionInfo": {
     "elapsed": 441,
     "status": "ok",
     "timestamp": 1725955311973,
     "user": {
      "displayName": "林志偉",
      "userId": "13117312472561068650"
     },
     "user_tz": -480
    },
    "id": "mitHe_n4Ni_Z",
    "outputId": "fcb11a08-3b09-4d16-d06d-c07bd7bf0dc0"
   },
   "outputs": [],
   "source": [
    "a0, a1, a2, a3, a4 = sp.symbols('a:5')   #建立符號物件方法四, 加底標\n",
    "ex = a0**0.5 + a1**2 + 2*a2 + a3/4 + a4\n",
    "ex"
   ]
  },
  {
   "cell_type": "code",
   "execution_count": null,
   "metadata": {
    "colab": {
     "base_uri": "https://localhost:8080/",
     "height": 38
    },
    "executionInfo": {
     "elapsed": 481,
     "status": "ok",
     "timestamp": 1725955353602,
     "user": {
      "displayName": "林志偉",
      "userId": "13117312472561068650"
     },
     "user_tz": -480
    },
    "id": "Veo0FtevALTZ",
    "outputId": "f5902ad9-d310-46a7-e3b4-543808a0e2fd"
   },
   "outputs": [],
   "source": [
    "a10 = sp.symbols('a10')\n",
    "a10"
   ]
  },
  {
   "cell_type": "markdown",
   "metadata": {
    "id": "gz3rwdPrPTXW"
   },
   "source": [
    "## 建立整數物件"
   ]
  },
  {
   "cell_type": "code",
   "execution_count": null,
   "metadata": {
    "colab": {
     "base_uri": "https://localhost:8080/",
     "height": 119
    },
    "executionInfo": {
     "elapsed": 502,
     "status": "ok",
     "timestamp": 1725955439197,
     "user": {
      "displayName": "林志偉",
      "userId": "13117312472561068650"
     },
     "user_tz": -480
    },
    "id": "hc2orgtBPZjt",
    "outputId": "22d0670b-e60f-43da-b93c-ef25a14e475f"
   },
   "outputs": [],
   "source": [
    "u = sp.S(120)\n",
    "print(u)\n",
    "print(type(u))\n",
    "print(2*u + 4)\n",
    "print(u/8)\n",
    "u/7  #不能整除用分數表示\n"
   ]
  },
  {
   "cell_type": "code",
   "execution_count": null,
   "metadata": {
    "colab": {
     "base_uri": "https://localhost:8080/"
    },
    "executionInfo": {
     "elapsed": 456,
     "status": "ok",
     "timestamp": 1725955471323,
     "user": {
      "displayName": "林志偉",
      "userId": "13117312472561068650"
     },
     "user_tz": -480
    },
    "id": "ZxX3p4VBP1k8",
    "outputId": "fca00372-4e1d-4f67-98f3-b24144f2b5bf"
   },
   "outputs": [],
   "source": [
    "print((u/7).evalf())  #分數求值\n",
    "print((u/7).evalf(4))"
   ]
  },
  {
   "cell_type": "markdown",
   "metadata": {
    "id": "y-OqKB2TQ9a5"
   },
   "source": [
    "## 建立分數物件"
   ]
  },
  {
   "cell_type": "code",
   "execution_count": null,
   "metadata": {
    "colab": {
     "base_uri": "https://localhost:8080/",
     "height": 85
    },
    "executionInfo": {
     "elapsed": 477,
     "status": "ok",
     "timestamp": 1725955513163,
     "user": {
      "displayName": "林志偉",
      "userId": "13117312472561068650"
     },
     "user_tz": -480
    },
    "id": "lKWLCV7CRFdy",
    "outputId": "7fbf09ac-20cb-4660-f458-9a30e6c4b1b4"
   },
   "outputs": [],
   "source": [
    "p = sp.Rational(11, 14)\n",
    "print(type(p))\n",
    "print(p) # 一般的方式輸出\n",
    "p        # 數學的方式輸出"
   ]
  },
  {
   "cell_type": "code",
   "execution_count": null,
   "metadata": {
    "colab": {
     "base_uri": "https://localhost:8080/",
     "height": 51
    },
    "executionInfo": {
     "elapsed": 467,
     "status": "ok",
     "timestamp": 1725955545599,
     "user": {
      "displayName": "林志偉",
      "userId": "13117312472561068650"
     },
     "user_tz": -480
    },
    "id": "ix-vhzQLSjkn",
    "outputId": "7c5a675e-074b-4531-f20a-8ce82f49fb24"
   },
   "outputs": [],
   "source": [
    "sp.Rational(11, 14) + sp.Rational(1, 14)"
   ]
  },
  {
   "cell_type": "code",
   "execution_count": null,
   "metadata": {
    "colab": {
     "base_uri": "https://localhost:8080/",
     "height": 51
    },
    "executionInfo": {
     "elapsed": 603,
     "status": "ok",
     "timestamp": 1725955558516,
     "user": {
      "displayName": "林志偉",
      "userId": "13117312472561068650"
     },
     "user_tz": -480
    },
    "id": "qE8A-qVNS1d5",
    "outputId": "022c0134-e88a-4e58-ed95-a09de8ba2587"
   },
   "outputs": [],
   "source": [
    "sp.Rational(11, 14) + sp.Rational(1, 14) + 5"
   ]
  },
  {
   "cell_type": "code",
   "execution_count": null,
   "metadata": {
    "colab": {
     "base_uri": "https://localhost:8080/",
     "height": 37
    },
    "executionInfo": {
     "elapsed": 454,
     "status": "ok",
     "timestamp": 1725955576259,
     "user": {
      "displayName": "林志偉",
      "userId": "13117312472561068650"
     },
     "user_tz": -480
    },
    "id": "ewcPOqirS6tU",
    "outputId": "acd21b8a-b3dc-400b-d389-aacd73ad08ea"
   },
   "outputs": [],
   "source": [
    "sp.Rational(11, 14) + sp.Rational(1, 14) + 5.0"
   ]
  },
  {
   "cell_type": "code",
   "execution_count": null,
   "metadata": {
    "colab": {
     "base_uri": "https://localhost:8080/",
     "height": 68
    },
    "executionInfo": {
     "elapsed": 474,
     "status": "ok",
     "timestamp": 1725955613337,
     "user": {
      "displayName": "林志偉",
      "userId": "13117312472561068650"
     },
     "user_tz": -480
    },
    "id": "KbvrqrauTARl",
    "outputId": "a6458ae1-20e5-4a50-d2c0-4d9f68643c93"
   },
   "outputs": [],
   "source": [
    "r = sp.Rational(0.25)\n",
    "print(f'r是{r}, 分子是{r.p}, 分母是{r.q}')\n",
    "r"
   ]
  },
  {
   "cell_type": "markdown",
   "metadata": {
    "id": "yZZy29qETq-I"
   },
   "source": [
    "## 常數物件\n",
    "圓周率 pi, 自然對數 E (2.718281828459) , 無窮大 oo, 虛數 I"
   ]
  },
  {
   "cell_type": "code",
   "execution_count": null,
   "metadata": {
    "colab": {
     "base_uri": "https://localhost:8080/",
     "height": 38
    },
    "executionInfo": {
     "elapsed": 439,
     "status": "ok",
     "timestamp": 1725955669925,
     "user": {
      "displayName": "林志偉",
      "userId": "13117312472561068650"
     },
     "user_tz": -480
    },
    "id": "-TuKkdpaTvrL",
    "outputId": "379341a3-57ff-497c-8f20-3c2c99b4236e"
   },
   "outputs": [],
   "source": [
    "r = sp.symbols('r')\n",
    "area = sp.pi * r**2\n",
    "area"
   ]
  },
  {
   "cell_type": "code",
   "execution_count": null,
   "metadata": {
    "colab": {
     "base_uri": "https://localhost:8080/",
     "height": 38
    },
    "executionInfo": {
     "elapsed": 692,
     "status": "ok",
     "timestamp": 1725955679535,
     "user": {
      "displayName": "林志偉",
      "userId": "13117312472561068650"
     },
     "user_tz": -480
    },
    "id": "nnw4AoquUPq0",
    "outputId": "d7bda1bf-a59c-458b-ff90-cdb6256db13d"
   },
   "outputs": [],
   "source": [
    "sp.exp(1)**sp.pi + 6"
   ]
  },
  {
   "cell_type": "code",
   "execution_count": null,
   "metadata": {
    "colab": {
     "base_uri": "https://localhost:8080/",
     "height": 38
    },
    "executionInfo": {
     "elapsed": 440,
     "status": "ok",
     "timestamp": 1725955693963,
     "user": {
      "displayName": "林志偉",
      "userId": "13117312472561068650"
     },
     "user_tz": -480
    },
    "id": "iMl0nrMBUhwl",
    "outputId": "774b3253-f6cc-4362-b535-14cc9df5c41a"
   },
   "outputs": [],
   "source": [
    "sp.E**sp.pi + 6"
   ]
  },
  {
   "cell_type": "code",
   "execution_count": null,
   "metadata": {
    "colab": {
     "base_uri": "https://localhost:8080/",
     "height": 37
    },
    "executionInfo": {
     "elapsed": 460,
     "status": "ok",
     "timestamp": 1725955713863,
     "user": {
      "displayName": "林志偉",
      "userId": "13117312472561068650"
     },
     "user_tz": -480
    },
    "id": "cb0waOMmVBV_",
    "outputId": "a3f61fe6-68fc-4fba-8092-662a05047ade"
   },
   "outputs": [],
   "source": [
    "sp.oo + 5"
   ]
  },
  {
   "cell_type": "code",
   "execution_count": null,
   "metadata": {
    "colab": {
     "base_uri": "https://localhost:8080/",
     "height": 38
    },
    "executionInfo": {
     "elapsed": 434,
     "status": "ok",
     "timestamp": 1725955722765,
     "user": {
      "displayName": "林志偉",
      "userId": "13117312472561068650"
     },
     "user_tz": -480
    },
    "id": "EcpZTTWOVPf-",
    "outputId": "00945daa-e908-4556-84d8-76df69505a38"
   },
   "outputs": [],
   "source": [
    "5 + 7*sp.I"
   ]
  },
  {
   "cell_type": "code",
   "execution_count": null,
   "metadata": {
    "colab": {
     "base_uri": "https://localhost:8080/",
     "height": 38
    },
    "executionInfo": {
     "elapsed": 434,
     "status": "ok",
     "timestamp": 1725955737081,
     "user": {
      "displayName": "林志偉",
      "userId": "13117312472561068650"
     },
     "user_tz": -480
    },
    "id": "XoelkopJWGtx",
    "outputId": "528e0e51-11d9-4d44-b04b-1c06e68cf42c"
   },
   "outputs": [],
   "source": [
    "# 歐拉恆等式\n",
    "#print(sp.E**(sp.I * sp.pi) + 1)\n",
    "z = sp.UnevaluatedExpr(sp.E)\n",
    "ex = z**(sp.I * sp.pi) + 1\n",
    "ex"
   ]
  },
  {
   "cell_type": "code",
   "execution_count": null,
   "metadata": {
    "colab": {
     "base_uri": "https://localhost:8080/",
     "height": 37
    },
    "executionInfo": {
     "elapsed": 462,
     "status": "ok",
     "timestamp": 1725955801949,
     "user": {
      "displayName": "林志偉",
      "userId": "13117312472561068650"
     },
     "user_tz": -480
    },
    "id": "QxixZem2E-WN",
    "outputId": "d7b3511b-cf7b-492f-8f26-dfc2dde8564a"
   },
   "outputs": [],
   "source": [
    "ex.doit()"
   ]
  },
  {
   "cell_type": "markdown",
   "metadata": {
    "id": "p8ffCxajW0Ka"
   },
   "source": [
    "將公式以latex的形式下是在markdown內, 公式頭尾加'\\$'  \n",
    "$1 + e^{i \\pi}$"
   ]
  },
  {
   "cell_type": "code",
   "execution_count": null,
   "metadata": {
    "id": "rxO5IHhIWqDy"
   },
   "outputs": [],
   "source": [
    "print(sp.latex(ex))"
   ]
  },
  {
   "cell_type": "markdown",
   "metadata": {
    "id": "NTfLsL01ZosU"
   },
   "source": [
    "## 解方程式"
   ]
  },
  {
   "cell_type": "code",
   "execution_count": null,
   "metadata": {
    "colab": {
     "base_uri": "https://localhost:8080/",
     "height": 38
    },
    "executionInfo": {
     "elapsed": 511,
     "status": "ok",
     "timestamp": 1725955845528,
     "user": {
      "displayName": "林志偉",
      "userId": "13117312472561068650"
     },
     "user_tz": -480
    },
    "id": "kH4faM2-CWbC",
    "outputId": "bfe5ffe0-d6d2-4d94-987e-ab62c921edb9"
   },
   "outputs": [],
   "source": [
    "x, y = sp.symbols('x, y')\n",
    "x, y"
   ]
  },
  {
   "cell_type": "code",
   "execution_count": null,
   "metadata": {
    "executionInfo": {
     "elapsed": 772,
     "status": "ok",
     "timestamp": 1725955866148,
     "user": {
      "displayName": "林志偉",
      "userId": "13117312472561068650"
     },
     "user_tz": -480
    },
    "id": "AbNP3_ZFDA50"
   },
   "outputs": [],
   "source": [
    "eq1 = sp.Eq(2*x + 3*y, 1)  #建立方程式\n",
    "eq2 = sp.Eq(x**2 + y**2, 2)"
   ]
  },
  {
   "cell_type": "code",
   "execution_count": null,
   "metadata": {
    "colab": {
     "base_uri": "https://localhost:8080/",
     "height": 38
    },
    "executionInfo": {
     "elapsed": 444,
     "status": "ok",
     "timestamp": 1725955870136,
     "user": {
      "displayName": "林志偉",
      "userId": "13117312472561068650"
     },
     "user_tz": -480
    },
    "id": "wC5JWIHUGCI0",
    "outputId": "2a23347f-c677-4b38-b1bb-84c479988c93"
   },
   "outputs": [],
   "source": [
    "eq1"
   ]
  },
  {
   "cell_type": "code",
   "execution_count": null,
   "metadata": {
    "colab": {
     "base_uri": "https://localhost:8080/",
     "height": 38
    },
    "executionInfo": {
     "elapsed": 496,
     "status": "ok",
     "timestamp": 1725955890002,
     "user": {
      "displayName": "林志偉",
      "userId": "13117312472561068650"
     },
     "user_tz": -480
    },
    "id": "4GmRvbBUGEfZ",
    "outputId": "dcd64158-2d84-4448-c551-fab8e4abd801"
   },
   "outputs": [],
   "source": [
    "eq2"
   ]
  },
  {
   "cell_type": "code",
   "execution_count": null,
   "metadata": {
    "colab": {
     "base_uri": "https://localhost:8080/",
     "height": 58
    },
    "executionInfo": {
     "elapsed": 459,
     "status": "ok",
     "timestamp": 1725955933138,
     "user": {
      "displayName": "林志偉",
      "userId": "13117312472561068650"
     },
     "user_tz": -480
    },
    "id": "iFIWopVVDBnz",
    "outputId": "10591590-19e9-4019-b2bd-bb2f23d2cd9e"
   },
   "outputs": [],
   "source": [
    "sp.solve([eq1, eq2], [x, y])  #解方程式"
   ]
  },
  {
   "cell_type": "code",
   "execution_count": null,
   "metadata": {
    "executionInfo": {
     "elapsed": 452,
     "status": "ok",
     "timestamp": 1725955969161,
     "user": {
      "displayName": "林志偉",
      "userId": "13117312472561068650"
     },
     "user_tz": -480
    },
    "id": "9LzYGIJTDMqz"
   },
   "outputs": [],
   "source": [
    "p1 = sp.plot_implicit(eq1, (x, -2, 2), (y, -2, 2), line_color='red', aspect_ratio=(1,1),show=False)"
   ]
  },
  {
   "cell_type": "code",
   "execution_count": null,
   "metadata": {
    "executionInfo": {
     "elapsed": 435,
     "status": "ok",
     "timestamp": 1725955973822,
     "user": {
      "displayName": "林志偉",
      "userId": "13117312472561068650"
     },
     "user_tz": -480
    },
    "id": "nX90cr_mFJJq"
   },
   "outputs": [],
   "source": [
    "p2 = sp.plot_implicit(eq2, (x, -2, 2), (y, -2, 2), line_color='blue', aspect_ratio=(1,1),show=False)"
   ]
  },
  {
   "cell_type": "code",
   "execution_count": null,
   "metadata": {
    "colab": {
     "base_uri": "https://localhost:8080/",
     "height": 487
    },
    "executionInfo": {
     "elapsed": 2474,
     "status": "ok",
     "timestamp": 1725956077469,
     "user": {
      "displayName": "林志偉",
      "userId": "13117312472561068650"
     },
     "user_tz": -480
    },
    "id": "R_mIRRCbFPJw",
    "outputId": "a685d503-62f9-4ca7-9e5b-8ddd62f1c644"
   },
   "outputs": [],
   "source": [
    "p1.extend(p2)\n",
    "p1.show()"
   ]
  },
  {
   "cell_type": "code",
   "execution_count": null,
   "metadata": {
    "executionInfo": {
     "elapsed": 454,
     "status": "ok",
     "timestamp": 1725957503881,
     "user": {
      "displayName": "林志偉",
      "userId": "13117312472561068650"
     },
     "user_tz": -480
    },
    "id": "UAMbzD6mFGzp"
   },
   "outputs": [],
   "source": [
    "x0, x1 = sp.symbols('x:2')"
   ]
  },
  {
   "cell_type": "code",
   "execution_count": null,
   "metadata": {
    "executionInfo": {
     "elapsed": 447,
     "status": "ok",
     "timestamp": 1725957535912,
     "user": {
      "displayName": "林志偉",
      "userId": "13117312472561068650"
     },
     "user_tz": -480
    },
    "id": "KxTBZlogFXd4"
   },
   "outputs": [],
   "source": [
    "y0, y1 = sp.symbols('y:2')"
   ]
  },
  {
   "cell_type": "code",
   "execution_count": null,
   "metadata": {
    "colab": {
     "base_uri": "https://localhost:8080/",
     "height": 48
    },
    "executionInfo": {
     "elapsed": 541,
     "status": "ok",
     "timestamp": 1725957628741,
     "user": {
      "displayName": "林志偉",
      "userId": "13117312472561068650"
     },
     "user_tz": -480
    },
    "id": "w3s8wM1mFYr5",
    "outputId": "4f9830c2-bebb-44d0-c1c7-ac65be3ac283"
   },
   "outputs": [],
   "source": [
    "ex = sp.sqrt((x0 - x1)**2 + (y0 - y1)**2)\n",
    "ex"
   ]
  },
  {
   "cell_type": "code",
   "execution_count": null,
   "metadata": {
    "executionInfo": {
     "elapsed": 464,
     "status": "ok",
     "timestamp": 1725957718116,
     "user": {
      "displayName": "林志偉",
      "userId": "13117312472561068650"
     },
     "user_tz": -480
    },
    "id": "I6AcCIf3GEBI"
   },
   "outputs": [],
   "source": [
    "a, b, c = sp.symbols('a, b, c')"
   ]
  },
  {
   "cell_type": "code",
   "execution_count": null,
   "metadata": {
    "colab": {
     "base_uri": "https://localhost:8080/",
     "height": 38
    },
    "executionInfo": {
     "elapsed": 480,
     "status": "ok",
     "timestamp": 1725957752451,
     "user": {
      "displayName": "林志偉",
      "userId": "13117312472561068650"
     },
     "user_tz": -480
    },
    "id": "kVy_UnmbGLxW",
    "outputId": "d57a0dab-06f3-45d3-b44c-debbff702a56"
   },
   "outputs": [],
   "source": [
    "ex = a**2 + b**2 + c**2 + 2*a*b + 2*b*c + 2*c*a\n",
    "ex"
   ]
  },
  {
   "cell_type": "code",
   "execution_count": null,
   "metadata": {
    "colab": {
     "base_uri": "https://localhost:8080/",
     "height": 37
    },
    "executionInfo": {
     "elapsed": 447,
     "status": "ok",
     "timestamp": 1725957824707,
     "user": {
      "displayName": "林志偉",
      "userId": "13117312472561068650"
     },
     "user_tz": -480
    },
    "id": "tK33Xk2bGWIC",
    "outputId": "e34dacbf-a5e1-4703-e04a-a7def8eb2aca"
   },
   "outputs": [],
   "source": [
    "ex.subs(a,1).subs(b, 2).subs(c,3)"
   ]
  },
  {
   "cell_type": "code",
   "execution_count": null,
   "metadata": {
    "executionInfo": {
     "elapsed": 458,
     "status": "ok",
     "timestamp": 1725957907169,
     "user": {
      "displayName": "林志偉",
      "userId": "13117312472561068650"
     },
     "user_tz": -480
    },
    "id": "sbA6fvZwG21h"
   },
   "outputs": [],
   "source": [
    "r = sp.symbols('r')"
   ]
  },
  {
   "cell_type": "code",
   "execution_count": null,
   "metadata": {
    "colab": {
     "base_uri": "https://localhost:8080/",
     "height": 38
    },
    "executionInfo": {
     "elapsed": 456,
     "status": "ok",
     "timestamp": 1725957922492,
     "user": {
      "displayName": "林志偉",
      "userId": "13117312472561068650"
     },
     "user_tz": -480
    },
    "id": "N6s7j9mjGyL3",
    "outputId": "1ddded15-c3cb-4217-8cfa-7018fc0c7c6a"
   },
   "outputs": [],
   "source": [
    "cycle_length = 2*sp.pi*r\n",
    "cycle_length"
   ]
  },
  {
   "cell_type": "code",
   "execution_count": null,
   "metadata": {
    "id": "vgrzfqvFG9qy"
   },
   "outputs": [],
   "source": []
  }
 ],
 "metadata": {
  "colab": {
   "authorship_tag": "ABX9TyNYau/qTfHy8d65DwJGs8qB",
   "collapsed_sections": [
    "gz3rwdPrPTXW",
    "y-OqKB2TQ9a5",
    "yZZy29qETq-I"
   ],
   "provenance": [],
   "toc_visible": true
  },
  "kernelspec": {
   "display_name": "Python 3",
   "name": "python3"
  },
  "language_info": {
   "name": "python"
  }
 },
 "nbformat": 4,
 "nbformat_minor": 0
}
