{
 "cells": [
  {
   "cell_type": "markdown",
   "metadata": {},
   "source": [
    "# Numpy"
   ]
  },
  {
   "cell_type": "markdown",
   "metadata": {},
   "source": [
    "- NumPy的矩陣是 ndarray 類別的物件 (N維陣列, n-dimensional array), 可以用多層list來建立, 只能儲存相同資料型別的物件\n",
    "- ndarray 運算子: +, -, *, /, @\n",
    "- ndarray 內建函式: \n",
    "  - array()\n",
    "  - dot() 內積: in 2D相當於@, in 1D 計算為一個純量\n",
    "  - multiply() 對應位置的乘積 (*)\n",
    "  - matmul() 矩陣乘法  (@): A@B is equal to np.matmul(A, B)\n"
   ]
  },
  {
   "cell_type": "markdown",
   "metadata": {},
   "source": [
    "- NumPy (Numerical Python) 是 Python 語言的一個第三方函式庫，支援多維度陣列(array)與矩陣運算(matrix)\n",
    "- Numpy 具備以下特性：\n",
    "  - 支援多維度陣列類別資料 **ndarray**\n",
    "  - 廣播運算的特性，使矩陣運算容易理解執行\n",
    "  - 底層由 C/C++ 和 Fortran 實作，執行效率佳\n",
    "  - 大量科學計算的實作函數，如線性代數、三角函數等\n",
    "  - 速度比list快50倍，因為其將元素們排在鄰近的記憶體區塊"
   ]
  },
  {
   "cell_type": "markdown",
   "metadata": {},
   "source": [
    "# Numpy 基本運算"
   ]
  },
  {
   "cell_type": "markdown",
   "metadata": {},
   "source": [
    "## ndarray 運算子"
   ]
  },
  {
   "cell_type": "code",
   "execution_count": null,
   "metadata": {},
   "outputs": [],
   "source": [
    "import numpy as np\n",
    "# creat matrix\n",
    "matrix1 = np.array([\n",
    "    [1, 2, 3],\n",
    "    [4, 5, 6],\n",
    "    [7, 8, 9],])\n",
    "foo = [['a', 'b', 'c'],\n",
    "       ['d', 'e', 'f'],\n",
    "       ['g', 'h', 'i'],]\n",
    "matrix2 = np.array(foo)\n",
    "\n",
    "print(matrix1[1][1], matrix2[1,2])\n",
    "\n",
    "# create 2X2 (two-dimension) matrix\n",
    "l22 = [[1, 2],\n",
    "       [3, 4],]\n",
    "m22 = np.array(l22)\n",
    "print(m22[1,1])\n",
    "\n",
    "# create 3X3 (two-dimension) matrix\n",
    "l33 = [[1, 2, 3],\n",
    "       [4, 5, 6],\n",
    "       [7, 8, 9],]\n",
    "m33 = np.array(l33)\n",
    "print(m33[1,1])\n",
    "\n",
    "matrix1[1]  ## get the second row\n",
    "matrix1[:,1]  ## get the second column"
   ]
  },
  {
   "cell_type": "code",
   "execution_count": null,
   "metadata": {},
   "outputs": [],
   "source": [
    "# create 2X3X3 (three-dimension) matrix\n",
    "l233 = [[[1, 2, 3],\n",
    "       [4, 5, 6],\n",
    "       [7, 8, 9]],\n",
    "       [[10, 11, 12],\n",
    "        [13, 14, 15],\n",
    "        [16, 17, 18]],]\n",
    "m233 = np.array(l233)\n",
    "print(m233[1,1,1])"
   ]
  },
  {
   "cell_type": "code",
   "execution_count": null,
   "metadata": {},
   "outputs": [],
   "source": [
    "# 對應位置的加減\n",
    "import numpy as np\n",
    "matrix1 = np.array([[1, 2],\n",
    "                    [3, 4],])\n",
    "matrix2 = np.array([[5, 6],\n",
    "                    [7, 8],])\n",
    "\n",
    "a = matrix1 + matrix2\n",
    "b = matrix1 - matrix2\n",
    "print(a)\n",
    "print(b)"
   ]
  },
  {
   "cell_type": "code",
   "execution_count": null,
   "metadata": {},
   "outputs": [],
   "source": [
    "# 對應位置的乘積 c1, c2\n",
    "# 在數學中, 阿達瑪乘積 (Hadamard product) , 又名舒爾乘積(Schur product) 或逐項乘積（entrywise product）\n",
    "import numpy as np\n",
    "matrix1 = np.array([[1, 2],\n",
    "                    [3, 4],])\n",
    "matrix2 = np.array([[5, 6],\n",
    "                    [7, 8],])\n",
    "c1 = matrix1 * matrix2\n",
    "c2 = np.multiply(matrix1, matrix2)\n",
    "d = matrix1 / matrix2\n",
    "print(c1)\n",
    "print(d)"
   ]
  },
  {
   "cell_type": "code",
   "execution_count": null,
   "metadata": {},
   "outputs": [],
   "source": [
    "# 矩陣乘法 e1, e2  \n",
    "import numpy as np\n",
    "matrix1 = np.array([[1, 2],\n",
    "                    [3, 4],])\n",
    "matrix2 = np.array([[5, 6],\n",
    "                    [7, 8],])\n",
    "e1 = matrix1 @ matrix2\n",
    "e2 = np.matmul(matrix1, matrix2)\n",
    "print(e1)"
   ]
  },
  {
   "cell_type": "code",
   "execution_count": null,
   "metadata": {},
   "outputs": [],
   "source": [
    "# 2D 計算為一個ndarray, 1D 計算為一個純量\n",
    "# Basically, @, np.dot(), np.matmul() is the same\n",
    "\n",
    "import numpy as np\n",
    "\n",
    "a = np.array([1, 2])\n",
    "b = np.array([3, 4])\n",
    "\n",
    "print(a @ b)\n",
    "print(np.dot(a, b))     # 11\n",
    "print(np.matmul(a, b))\n",
    "\n",
    "A = np.array([[1, 2], [3, 4]])\n",
    "B = np.array([[5, 6], [7, 8]])\n",
    "\n",
    "print(A @ B)            # array([[19, 22], [43, 50]])\n",
    "print(np.dot(A, B))     \n",
    "print(np.matmul(A, B))"
   ]
  },
  {
   "cell_type": "markdown",
   "metadata": {},
   "source": [
    "## ndarray 內建函式"
   ]
  },
  {
   "cell_type": "markdown",
   "metadata": {},
   "source": [
    "- vstack()\n",
    "- hstack()\n",
    "- reshape()\n",
    "- arange()"
   ]
  },
  {
   "cell_type": "code",
   "execution_count": 5,
   "metadata": {},
   "outputs": [],
   "source": [
    "import numpy as np\n",
    "A = np.array([[1, 2, 3],\n",
    "             [4, 5, 6],])\n",
    "B = np.array([[7, 8, 9],\n",
    "             [10, 11, 12],])\n",
    "\n",
    "C = np.vstack([A, B])\n",
    "D = np.hstack([A, B])\n",
    "E = A.reshape(6, 1) # not in place, need assign to another variable\n",
    "F = A.reshape(1, 6)\n",
    "G = A.reshape(3, 2)\n",
    "A.shape = (2, 3) #in place\n",
    "\n",
    "# create matrix by numpy\n",
    "nums = np.arange(1, 5)\n",
    "H = nums.reshape(2, 2)\n",
    "I = np.arange(1, 13).reshape(3, 2, 2)\n",
    "J = np.arange(1, 24, 2).reshape(3, 2, 2)"
   ]
  },
  {
   "cell_type": "code",
   "execution_count": null,
   "metadata": {},
   "outputs": [],
   "source": []
  },
  {
   "cell_type": "markdown",
   "metadata": {},
   "source": [
    "## ndarray 型別方法"
   ]
  },
  {
   "cell_type": "markdown",
   "metadata": {},
   "source": [
    "- shape\n",
    "- diagonal()\n",
    "- flatten()\n",
    "- transpose()\n",
    "- min()\n",
    "- max()\n",
    "- mean()\n",
    "- sum()"
   ]
  },
  {
   "cell_type": "code",
   "execution_count": null,
   "metadata": {},
   "outputs": [],
   "source": [
    "import numpy as np\n",
    "A = np.array([[1, 2, 3],\n",
    "              [4, 5, 6],\n",
    "              [7, 8, 9],])\n",
    "\n",
    "a = A.shape\n",
    "b = A.diagonal()\n",
    "c = A.flatten()\n",
    "d = A.transpose()\n",
    "e = A.min()\n",
    "f = A.max()\n",
    "g = A.mean()\n",
    "h = A.sum()"
   ]
  },
  {
   "cell_type": "markdown",
   "metadata": {},
   "source": [
    "## ndarray indexing"
   ]
  },
  {
   "cell_type": "code",
   "execution_count": null,
   "metadata": {},
   "outputs": [],
   "source": [
    "import numpy as np\n",
    "A = np.array([[1, 2, 3],\n",
    "              [4, 5, 6],\n",
    "              [7, 8, 9],])\n",
    "print(A[0][1])  # get the element in the first row and second column\n",
    "print(A[0, 1])  # get the element in the first row and second column\n",
    "print(A[0])     # get the first row\n",
    "print(A[:, 1])  # get the second column"
   ]
  },
  {
   "cell_type": "code",
   "execution_count": null,
   "metadata": {},
   "outputs": [],
   "source": [
    "l233 = [[[1, 2, 3],\n",
    "       [4, 5, 6],\n",
    "       [7, 8, 9]],\n",
    "       [[10, 11, 12],\n",
    "        [13, 14, 15],\n",
    "        [16, 17, 18]],]\n",
    "B = np.array(l233)\n",
    "\n",
    "print(B[0][1][0]) # get the element in the first row, second column and first depth\n",
    "print(B[0, 1, 0])\n",
    "print()\n",
    "print(B[0][1])  # get the element in the first row and second column\n",
    "print(B[0, 1])  # get the element in the first row and second column\n",
    "print()\n",
    "print(B[0])     # get the first 3*3 matrix\n",
    "print()\n",
    "print(B[:, 1])  # get the second row\n",
    "print()\n",
    "print(B[:, :, 1])  # get the second column"
   ]
  },
  {
   "cell_type": "markdown",
   "metadata": {},
   "source": [
    "# ndarray 廣播運算"
   ]
  },
  {
   "cell_type": "code",
   "execution_count": null,
   "metadata": {},
   "outputs": [],
   "source": [
    "import numpy as np\n",
    "A = np.array([[1, 2, 3],\n",
    "              [4, 5, 6],\n",
    "              [7, 8, 9],])\n",
    "print(A + 10)\n",
    "print(A - 10)\n",
    "print(A * 10)\n",
    "print(A / 10)\n",
    "print(A % 2)    # mod\n",
    "print(A ** 2)\n",
    "print(2 ** A)"
   ]
  },
  {
   "cell_type": "markdown",
   "metadata": {},
   "source": [
    "# Lab"
   ]
  },
  {
   "cell_type": "markdown",
   "metadata": {},
   "source": [
    "- use arange() and reshape() 產生下方的matrix\n",
    "![3*3*3 matrix](https://i.imgur.com/DJyW1ow.png)\n",
    "- 用 np.arange() 和 np.reshape(), 建立一個3x3 Numpy 陣列A, 內容是數字 3 到 11\n",
    "  - 求陣列 A 的所有元素的最小值，最大值，平均值，總和\n",
    "  - 將 A 的每個元素進行平方計算，並將結果存到 B\n",
    "- 設 a = (78, 22, 65, 87, 12, 98, 63, 79) 且 x = 57, 試著在a 中找出離 x 最近的數，請用Numpy廣播運算"
   ]
  },
  {
   "cell_type": "code",
   "execution_count": null,
   "metadata": {},
   "outputs": [],
   "source": [
    "import numpy as np\n",
    "\n",
    "# 定義數據\n",
    "a = np.array([78, 22, 65, 87, 12, 98, 63, 79])\n",
    "x = 57\n",
    "\n",
    "# 使用 Numpy 廣播運算找出最接近 x 的數\n",
    "closest_value = a[np.abs(a - x).argmin()]\n",
    "\n",
    "print(\"離 x 最近的數是:\", closest_value)"
   ]
  },
  {
   "cell_type": "code",
   "execution_count": null,
   "metadata": {},
   "outputs": [],
   "source": [
    "import numpy as np\n",
    "# Alt 1\n",
    "P1 = np.arange(1, 10).reshape(3, 3)   # page0 (1, 9)\n",
    "P2 = np.arange(11, 20).reshape(3, 3)  # page1 (11, 19)\n",
    "P3 = np.arange(21, 30).reshape(3, 3)  # page2 (21, 29)\n",
    "matrix = np.array([P1, P2, P3])\n",
    "print(matrix)\n",
    "\n",
    "# Alt 2\n",
    "raw = np.arange(1,31)\n",
    "filtered =raw[raw%10!=0]\n",
    "matrix =filtered.reshape(3,3,3)\n",
    "print(matrix)"
   ]
  }
 ],
 "metadata": {
  "kernelspec": {
   "display_name": ".venv",
   "language": "python",
   "name": "python3"
  },
  "language_info": {
   "codemirror_mode": {
    "name": "ipython",
    "version": 3
   },
   "file_extension": ".py",
   "mimetype": "text/x-python",
   "name": "python",
   "nbconvert_exporter": "python",
   "pygments_lexer": "ipython3",
   "version": "3.13.1"
  }
 },
 "nbformat": 4,
 "nbformat_minor": 2
}
