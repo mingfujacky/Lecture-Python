{
 "cells": [
  {
   "cell_type": "markdown",
   "metadata": {},
   "source": [
    "# ndarray 快速生成法"
   ]
  },
  {
   "cell_type": "code",
   "execution_count": null,
   "metadata": {},
   "outputs": [],
   "source": [
    "import numpy as np\n",
    "\n",
    "foo = [[x,y] for x in range(5) for y in range(3)]\n",
    "boo = np.array(foo)\n",
    "\n",
    "spam1 = np.zeros(10)\n",
    "spam2 = np.zeros((3, 3))\n",
    "\n",
    "eggs1 = np.ones(10)\n",
    "eggs2 = np.ones((3, 3))\n",
    "\n",
    "bar = np.eye(5)"
   ]
  },
  {
   "cell_type": "markdown",
   "metadata": {},
   "source": [
    "# Numpy Array 快篩法"
   ]
  },
  {
   "cell_type": "code",
   "execution_count": null,
   "metadata": {},
   "outputs": [],
   "source": [
    "import numpy as np\n",
    "from matplotlib import pyplot as plt\n",
    "L = np.array([-2, -1, 5, 8, 4, 87, -12])\n",
    "cond1 = L > 0\n",
    "cond2 = L != 8\n",
    "result1 = L[cond1]; print(result1)\n",
    "result2 = L[cond1 & cond2]; print(result2)\n",
    "\n",
    "# x = np.linspace(-5, 5, 100)\n",
    "# y = np.sinc(x)\n",
    "# plt.plot(x, y)\n",
    "# plt.show()\n",
    "\n",
    "# x = np.linspace(-5, 5, 1000)\n",
    "# y = np.sinc(x)\n",
    "# plt.plot(x, y)\n",
    "# plt.plot(x[y>0], y[y>0], 'o')\n",
    "# plt.show()\n"
   ]
  }
 ],
 "metadata": {
  "kernelspec": {
   "display_name": ".venv",
   "language": "python",
   "name": "python3"
  },
  "language_info": {
   "codemirror_mode": {
    "name": "ipython",
    "version": 3
   },
   "file_extension": ".py",
   "mimetype": "text/x-python",
   "name": "python",
   "nbconvert_exporter": "python",
   "pygments_lexer": "ipython3",
   "version": "3.13.0"
  }
 },
 "nbformat": 4,
 "nbformat_minor": 2
}
