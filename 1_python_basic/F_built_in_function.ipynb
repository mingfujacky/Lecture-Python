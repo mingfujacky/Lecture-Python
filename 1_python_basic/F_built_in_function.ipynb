{
 "cells": [
  {
   "cell_type": "markdown",
   "metadata": {},
   "source": [
    "# 內建函式 (built-in function)\n",
    "https://docs.python.org/3/library/functions.html"
   ]
  },
  {
   "cell_type": "markdown",
   "metadata": {},
   "source": [
    "- 數字編碼：bin(), oct(), hex()\n",
    "- 型別操作：type(), str(), int(), float(), bool(), tuple(), list(), set(), dict()\n",
    "- 輸出輸入：print(), input() \n",
    "- 數學函數：round(), abs(), divmod()\n",
    "- 統計函數：max(), min(), sum()\n",
    "- ASCII：ord(), chr()\n",
    "- 物件操作：id(), len(), sorted()"
   ]
  },
  {
   "cell_type": "markdown",
   "metadata": {},
   "source": [
    "## 數字編碼"
   ]
  },
  {
   "cell_type": "code",
   "execution_count": null,
   "metadata": {},
   "outputs": [],
   "source": [
    "print(bin(20))\n",
    "print(type(bin(20)))\n",
    "print(0b10100)\n",
    "print(int(\"10100\", 2))"
   ]
  },
  {
   "cell_type": "markdown",
   "metadata": {},
   "source": [
    "## 型別操作"
   ]
  },
  {
   "cell_type": "code",
   "execution_count": null,
   "metadata": {},
   "outputs": [],
   "source": [
    "foo = 3.14\n",
    "print(type(foo))\n",
    "print(int(foo))\n",
    "print(str(foo))\n",
    "boo = [1, 2, 3, 3]\n",
    "print(str(boo) + \" is a list\")\n",
    "print(tuple(boo))\n",
    "print(set(boo))\n",
    "print(list('python'))\n",
    "dict1 = {1: \"one\", 2: \"two\", 3: \"three\"}\n",
    "spam = [('003', 'Tom'), ('004', 'June')]  # list of tuple\n",
    "print(dict(spam))"
   ]
  },
  {
   "cell_type": "markdown",
   "metadata": {},
   "source": [
    "## 數學函數"
   ]
  },
  {
   "cell_type": "code",
   "execution_count": null,
   "metadata": {},
   "outputs": [],
   "source": [
    "print(abs(-3))\n",
    "print(round(3.14159, 2))  # round to 2 decimal places\n",
    "print(round(3.14159))  # round to 0 decimal places, return int \n",
    "print(round(3.14159,0))  # round to 0 decimal places, return float\n"
   ]
  },
  {
   "cell_type": "markdown",
   "metadata": {},
   "source": [
    "## 統計函數"
   ]
  },
  {
   "cell_type": "code",
   "execution_count": null,
   "metadata": {},
   "outputs": [],
   "source": [
    "foo = [3, 2, 9, 6]\n",
    "print(max(foo))\n",
    "print(min(foo))\n",
    "print(sum(foo))"
   ]
  },
  {
   "cell_type": "markdown",
   "metadata": {},
   "source": [
    "## ASCII"
   ]
  },
  {
   "cell_type": "code",
   "execution_count": null,
   "metadata": {},
   "outputs": [],
   "source": [
    "print(ord('a'))\n",
    "print(chr(97))"
   ]
  },
  {
   "cell_type": "markdown",
   "metadata": {},
   "source": [
    "## 物件操作"
   ]
  },
  {
   "cell_type": "code",
   "execution_count": null,
   "metadata": {},
   "outputs": [],
   "source": [
    "a = 1\n",
    "b = 2\n",
    "c = a\n",
    "print(id(a), id(b), id(c))\n",
    "print(len('python'))\n",
    "print(len([1, 2, 3, 4]))\n",
    "print(sorted([3, 1, 2, 4]))\n",
    "foo = (3, 1, 2, 4)\n",
    "boo = sorted(foo)  # what is the type of boo? it is a list, surprise!"
   ]
  },
  {
   "cell_type": "markdown",
   "metadata": {},
   "source": [
    "# Lab"
   ]
  },
  {
   "cell_type": "markdown",
   "metadata": {},
   "source": [
    "1. 列印十進位的整數20的八進位及十六進位的表示法\n",
    "2. divmod(10,3) 回傳的結果及其資料型別"
   ]
  }
 ],
 "metadata": {
  "kernelspec": {
   "display_name": ".venv",
   "language": "python",
   "name": "python3"
  },
  "language_info": {
   "codemirror_mode": {
    "name": "ipython",
    "version": 3
   },
   "file_extension": ".py",
   "mimetype": "text/x-python",
   "name": "python",
   "nbconvert_exporter": "python",
   "pygments_lexer": "ipython3",
   "version": "3.13.2"
  }
 },
 "nbformat": 4,
 "nbformat_minor": 2
}
