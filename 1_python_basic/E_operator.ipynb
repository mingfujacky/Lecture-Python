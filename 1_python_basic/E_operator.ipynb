{
 "cells": [
  {
   "cell_type": "markdown",
   "metadata": {},
   "source": [
    "# Python 運算子 (operator) 簡介\n",
    "本單元將介紹 Python 常見運算子的分類、語法與使用情境，並搭配範例與練習。\n",
    "- 賦值運算子 (assignment operator)\n",
    "- 算術運算子 (arithmetic operator)\n",
    "- 比較運算子 (comparison operator)\n",
    "- 邏輯運算子 (logical operator)\n",
    "- 成員運算子 (membership operator)\n",
    "- 身份運算子 (identity operator)\n",
    "- 位元運算子 (bitwise operator)\n",
    "- 跨列運算子 (line continuation character)"
   ]
  },
  {
   "cell_type": "markdown",
   "metadata": {},
   "source": [
    "## 賦值運算子"
   ]
  },
  {
   "cell_type": "code",
   "execution_count": null,
   "metadata": {},
   "outputs": [],
   "source": [
    "i = 100\n",
    "i += 1  # i = i + 1\n",
    "p, q = 10, 10  # assign multiple variables\n",
    "x = y = z = 'kiwi'  # assign single value to multiple variables at once"
   ]
  },
  {
   "cell_type": "markdown",
   "metadata": {},
   "source": [
    "## 算術運算子\n",
    "- <p> + , - , * , / </p>\n",
    "- <p> // (整數除法),  % (餘數) </p>\n",
    "- <p> ** (次方) </p>\n",
    "\n",
    "|優先級|\t運算子|\t說明|\t結合性\n",
    "|-----|---------|----|-------\n",
    "1|\t()|\t圓括號，改變優先順序或函式調用|\t左至右\n",
    "2|\t**|\t指數（次方）\t|右至左\n",
    "3|\t+、-（一元）|\t正號、負號\t|右至左\n",
    "4|\t*、/、//、%\t|乘、除、整數除法、取餘數\t|左至右\n",
    "5|\t+、-（二元）|\t加法、減法\t|左至右"
   ]
  },
  {
   "cell_type": "code",
   "execution_count": null,
   "metadata": {},
   "outputs": [],
   "source": [
    "# 用於數值資料\n",
    "print(\"15除以4的商是\", 15 // 4)  # 整數除法\n",
    "print(\"15除以4的餘數是\", 15 % 4) # 取餘數\n",
    "print(\"15除以3的值\", 15 / 3) # 浮點數除法\n",
    "print(\"2的3次方是\", 2 ** 3)  # 次方運算\n",
    "print(\"2的開平方是\", 2 ** 0.5)  # 次方運算\n",
    "print(\"2的負二次方是\", 2 ** -2)  # 次方運算"
   ]
  },
  {
   "cell_type": "code",
   "execution_count": null,
   "metadata": {},
   "outputs": [],
   "source": [
    "# 可讀性的重要性\n",
    "print(2+3*4**2)  # low readability\n",
    "print(2 + 3 * (4**2))  # high readability\n",
    "print()\n",
    "print(2--3**2)  # low readability\n",
    "print(2 - -3**2) # low readability\n",
    "print(2 - (-3)**2) # high readability\n",
    "print(2 - (-(3 ** 2)))  # high readability"
   ]
  },
  {
   "cell_type": "code",
   "execution_count": null,
   "metadata": {},
   "outputs": [],
   "source": [
    "# 用於字串資料\n",
    "print(\"Hello\" + \"World\")  # 字串串接\n",
    "print(\"Hello\" * 3)  # 字串重複"
   ]
  },
  {
   "cell_type": "code",
   "execution_count": null,
   "metadata": {},
   "outputs": [],
   "source": [
    "# 用於tuple資料\n",
    "print((1, 2) + (3, 4))  # Tuple串接\n",
    "print((1, 2) * 3)  # Tuple重複"
   ]
  },
  {
   "cell_type": "code",
   "execution_count": null,
   "metadata": {},
   "outputs": [],
   "source": [
    "# 用於list資料\n",
    "print([1, 2] + [3, 4])  # List串接\n",
    "print([1, 2] * 3)  # List重複"
   ]
  },
  {
   "cell_type": "code",
   "execution_count": null,
   "metadata": {},
   "outputs": [],
   "source": [
    "# 用於set資料\n",
    "# print({1, 2} + {3, 4})  # error\n",
    "# print({1, 2} * 3)  # error"
   ]
  },
  {
   "cell_type": "code",
   "execution_count": null,
   "metadata": {},
   "outputs": [],
   "source": [
    "# 用於dict資料\n",
    "# print({\"a\": 1, \"b\": 2} + {\"c\": 3, \"d\": 4})  # error\n",
    "# print({\"a\": 1, \"b\": 2} * 3)  # error"
   ]
  },
  {
   "cell_type": "markdown",
   "metadata": {},
   "source": [
    "## 比較運算子\n",
    "- 用來比較兩個物件的大小: >, >=, <, <=, ==, !=\n",
    "- 運算的結果只有 True 或是 False 兩種，常用於邏輯判斷使用"
   ]
  },
  {
   "cell_type": "code",
   "execution_count": null,
   "metadata": {},
   "outputs": [],
   "source": [
    "print(2 > 1)\n",
    "print('abc' > 'aBc')\n",
    "print((1, 2, 3) > (1, 2, 4))\n",
    "print([1, 2, 3] > [1, 2, 2.5])\n",
    "print({1, 2, 3} > {1, 2})  # 集合的 > 是檢查是否為子集合\n",
    "# print({\"a\": 1, \"b\": 2} > {\"a\": 1})  # 錯誤，字典之間的比較運算是未定義的\n",
    "a = 3\n",
    "b = 2\n",
    "print(a != b)\n",
    "print(a == b)"
   ]
  },
  {
   "cell_type": "markdown",
   "metadata": {},
   "source": [
    "## 邏輯運算子\n",
    "- <p>and</p>\n",
    "- <p>or</p>\n",
    "- <p>not</p>\n",
    "- <p>運算的結果只有 True 或是 False 兩種</p>\n",
    "- <p>優先順序: not -> and -> or</p><br>\n",
    "- and operator\n",
    "\n",
    "|p|\tq|\tp and q\n",
    "|-----|---------|----\n",
    "|T|T|T\n",
    "|T|F|F\n",
    "|F|T|F\n",
    "|F|F|F\n",
    "\n",
    "- or operator\n",
    "\n",
    "|p|\tq|\tp or q\n",
    "|-----|---------|----\n",
    "|T|T|T\n",
    "|T|F|T\n",
    "|F|T|T\n",
    "|F|F|F \n",
    "\n",
    "- not operator\n",
    "\n",
    "|p|\tnot p\n",
    "|-----|---\n",
    "|T|F\n",
    "|F|T "
   ]
  },
  {
   "cell_type": "code",
   "execution_count": null,
   "metadata": {},
   "outputs": [],
   "source": [
    "print((2 > 1) and (3 == 0))\n",
    "print((2 > 1) or  (3 == 0))\n",
    "print(not(3 >= 2))"
   ]
  },
  {
   "cell_type": "markdown",
   "metadata": {},
   "source": [
    "## 成員運算子\n",
    "- 使用 in 或 not in 判斷 b 是否包含 a\n",
    "- 運算的結果只有 True 或是 False 兩種"
   ]
  },
  {
   "cell_type": "code",
   "execution_count": null,
   "metadata": {},
   "outputs": [],
   "source": [
    "print('P' in 'Python')\n",
    "print('w' not in 'Python')\n",
    "print(0 in (0, 1, 2))\n",
    "print(1 in [0, 1, 2])\n",
    "print(2 in {1, 2, 3})\n",
    "print('b' in {\"a\": 1, \"b\": 2})\n"
   ]
  },
  {
   "cell_type": "markdown",
   "metadata": {},
   "source": [
    "## 身份運算子 \n",
    "- 使用 is 或 is not 可以判斷變數 a 和變數 b 是否指向相同物件\n",
    "- 運算的結果只有 True 或是 False 兩種"
   ]
  },
  {
   "cell_type": "code",
   "execution_count": null,
   "metadata": {},
   "outputs": [],
   "source": [
    "a = 1\n",
    "b = 2\n",
    "foo = b\n",
    "print(a is b)\n",
    "print(b is foo)\n",
    "print(\"a's address:\", id(a))\n",
    "print(\"b's address:\", id(b))\n",
    "print(\"foo's address:\", id(foo))"
   ]
  },
  {
   "cell_type": "markdown",
   "metadata": {},
   "source": [
    "## 位元運算子\n",
    "- 所有數值都是以二進位表現 (0和1)\n",
    "- 位元運算子會針對每個數值的二進位字元進行位元運算\n",
    "- <p> & (and) , | (or) </p>\n",
    "- <p> ^ (xor)  ,   ~ (not) </p>\n",
    "- <p> >> (shift right), << (shift left) </p>\n",
    "<p> 4 &nbsp&nbsp&nbsp 0100 </p>\n",
    "<p> 5 &nbsp&nbsp&nbsp 0101 </p>\n",
    "<p> ---------------------- </p>\n",
    "<p> & &nbsp&nbsp&nbsp 0100 </p>"
   ]
  },
  {
   "cell_type": "code",
   "execution_count": 1,
   "metadata": {},
   "outputs": [
    {
     "name": "stdout",
     "output_type": "stream",
     "text": [
      "4\n"
     ]
    }
   ],
   "source": [
    "print(4 & 5)"
   ]
  },
  {
   "cell_type": "markdown",
   "metadata": {},
   "source": [
    "## 跨列運算子\n",
    "- 寫程式時遇到「算式過長，需要換行」的程式碼，使用「反斜線 \\」放在一列的最後方，就可以將程式碼進行換列\n",
    "- 使用跨列運算子後不得加上空格或其它字元"
   ]
  },
  {
   "cell_type": "code",
   "execution_count": null,
   "metadata": {},
   "outputs": [],
   "source": [
    "print(1 + 2 + 3 +\\\n",
    "    4 + 5 + 6 +\\\n",
    "    7 + 8 + 9)"
   ]
  },
  {
   "cell_type": "markdown",
   "metadata": {},
   "source": [
    "# Lab"
   ]
  },
  {
   "cell_type": "markdown",
   "metadata": {},
   "source": [
    "1. 使用變數 team1, team2 分別代表兩隊隊名, 及score1, score2 分別代表兩隊比賽得分，然後列印中華隊與美國隊11/22的比賽結果:<br> \n",
    "**\"中華台北 vs 美國 (8：2)\"**<br><br>\n",
    "2. 印出三行字串如下：\n",
    "   <p>\n",
    "   ----------------------------------------<br>\n",
    "   我在陽明交大科學三館上課，天氣晴！<br>\n",
    "   ----------------------------------------<br>\n",
    "   </p>\n",
    "3. 假設 125分鐘 = X 小時 + Y 分鐘, X, Y 為整數, 寫一段程式求解X和Y, 輸出為 \"125分鐘 = 2 小時 + 5 分鐘\"\n"
   ]
  },
  {
   "cell_type": "markdown",
   "metadata": {},
   "source": [
    "# W3 School"
   ]
  },
  {
   "cell_type": "markdown",
   "metadata": {},
   "source": [
    "- [Operators] https://www.w3schools.com/python/exercise.asp?x=xrcise_operators1"
   ]
  }
 ],
 "metadata": {
  "kernelspec": {
   "display_name": ".venv",
   "language": "python",
   "name": "python3"
  },
  "language_info": {
   "codemirror_mode": {
    "name": "ipython",
    "version": 3
   },
   "file_extension": ".py",
   "mimetype": "text/x-python",
   "name": "python",
   "nbconvert_exporter": "python",
   "pygments_lexer": "ipython3",
   "version": "3.13.5"
  }
 },
 "nbformat": 4,
 "nbformat_minor": 2
}
