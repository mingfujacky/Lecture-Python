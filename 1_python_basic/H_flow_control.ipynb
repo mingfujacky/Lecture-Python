{
 "cells": [
  {
   "cell_type": "markdown",
   "metadata": {},
   "source": [
    "# 程式流程控制 (Program Flow Control)"
   ]
  },
  {
   "cell_type": "markdown",
   "metadata": {},
   "source": [
    "![Python Flow Control Statements](https://pynative.com/wp-content/uploads/2021/03/python-flow-control-statements.png)\n",
    "<p>Reference: https://pynative.com/wp-content/uploads/2021/03/python-flow-control-statements.png</p>\n",
    "<p>Visualization tool: https://pythontutor.com/python-compiler.html#mode=edit</p>"
   ]
  },
  {
   "cell_type": "markdown",
   "metadata": {},
   "source": [
    "# 條件敘述 (conditional statement)"
   ]
  },
  {
   "cell_type": "markdown",
   "metadata": {},
   "source": [
    "## `if` 條件敘述"
   ]
  },
  {
   "cell_type": "markdown",
   "metadata": {},
   "source": [
    "if condition:<br>\n",
    "&nbsp;&nbsp;&nbsp;&nbsp;    statement-1<br>\n",
    "&nbsp;&nbsp;&nbsp;&nbsp;    statement-2<br>\n",
    "&nbsp;&nbsp;&nbsp;&nbsp;    statement-n<br>\n",
    "\n",
    "![if control statements](https://pynative.com/wp-content/uploads/2021/03/python-if-statements.png)"
   ]
  },
  {
   "cell_type": "code",
   "execution_count": null,
   "metadata": {},
   "outputs": [],
   "source": [
    "a = 3\n",
    "b = 2\n",
    "if a > b:\n",
    "    print(\"a is greater than b\")  # 四個空格的縮排\n",
    "print('end')    "
   ]
  },
  {
   "cell_type": "markdown",
   "metadata": {},
   "source": [
    "## `if-else` 條件敘述"
   ]
  },
  {
   "cell_type": "markdown",
   "metadata": {},
   "source": [
    "if condition:<br>\n",
    "&nbsp;&nbsp;&nbsp;&nbsp;    statement-1<br>\n",
    "else:<br>\n",
    "&nbsp;&nbsp;&nbsp;&nbsp;    statement-2<br>\n",
    "\n",
    "![if-else control statements](https://pynative.com/wp-content/uploads/2021/03/python-if-else-statement.png)"
   ]
  },
  {
   "cell_type": "code",
   "execution_count": null,
   "metadata": {},
   "outputs": [],
   "source": [
    "a = 2\n",
    "b = 3\n",
    "if a > b:\n",
    "    print(\"a is greater than b\")\n",
    "    print(\"in 成立 part\")\n",
    "else:\n",
    "    print(\"a is not greater than b\")\n",
    "    print(\"in 不成立 part\")\n",
    "print('end')    "
   ]
  },
  {
   "cell_type": "markdown",
   "metadata": {},
   "source": [
    "## `if-elif-else` 條件敘述"
   ]
  },
  {
   "cell_type": "markdown",
   "metadata": {},
   "source": [
    "if condition-A:<br>\n",
    "&nbsp;&nbsp;&nbsp;&nbsp;    statement-1<br>\n",
    "elif condition-B:<br>\n",
    "&nbsp;&nbsp;&nbsp;&nbsp;    statement-2<br>\n",
    "else:<br>\n",
    "&nbsp;&nbsp;&nbsp;&nbsp;    statement-n<br>\n",
    "\n",
    "![if-elif-else control statements](https://www.scientecheasy.com/wp-content/uploads/2022/10/flowchart-if-elif-else.png)"
   ]
  },
  {
   "cell_type": "code",
   "execution_count": null,
   "metadata": {},
   "outputs": [],
   "source": [
    "a = 100\n",
    "b = 200\n",
    "if b > a:\n",
    "    print(\"b is greater than a\")\n",
    "elif a == b:\n",
    "    print(\"a and b are equal\")\n",
    "else:\n",
    "    print(\"a is greater than b\")"
   ]
  },
  {
   "cell_type": "markdown",
   "metadata": {},
   "source": [
    "# 迴圈敘述 (loop statement)"
   ]
  },
  {
   "cell_type": "markdown",
   "metadata": {},
   "source": [
    "## `for` 迴圈"
   ]
  },
  {
   "cell_type": "markdown",
   "metadata": {},
   "source": [
    "for element in sequence:<br>\n",
    "&nbsp;&nbsp;&nbsp;&nbsp;    statement-1<br>\n",
    "&nbsp;&nbsp;&nbsp;&nbsp;    statement-2<br>\n",
    "&nbsp;&nbsp;&nbsp;&nbsp;    statement-n<br>\n",
    "\n",
    "![for control statements](https://pynative.com/wp-content/uploads/2021/03/python-for-loop.png)"
   ]
  },
  {
   "cell_type": "code",
   "execution_count": null,
   "metadata": {},
   "outputs": [],
   "source": [
    "foo = range(1, 11)\n",
    "# foo is a range object. we can not print its elements\n",
    "# it is iterable (它的元素可以被循序訪問)\n",
    "# it can be converted to list\n",
    "print(type(foo), foo)  \n",
    "print(list(foo))"
   ]
  },
  {
   "cell_type": "code",
   "execution_count": null,
   "metadata": {},
   "outputs": [],
   "source": [
    "for i in range(5):\n",
    "    print(i)"
   ]
  },
  {
   "cell_type": "code",
   "execution_count": null,
   "metadata": {},
   "outputs": [],
   "source": [
    "fruits = [\"apple\", \"banana\", \"cherry\"]  # list can be iterated\n",
    "for fruit in fruits:\n",
    "    if fruit != \"banana\":\n",
    "        print(fruit)"
   ]
  },
  {
   "cell_type": "code",
   "execution_count": null,
   "metadata": {},
   "outputs": [],
   "source": [
    "for ch in \"banana\":  # string can be iterated\n",
    "  print(ch)"
   ]
  },
  {
   "cell_type": "markdown",
   "metadata": {},
   "source": [
    "## `while` 迴圈"
   ]
  },
  {
   "cell_type": "markdown",
   "metadata": {},
   "source": [
    "while condition:<br>\n",
    "&nbsp;&nbsp;&nbsp;&nbsp;    statement-1<br>\n",
    "&nbsp;&nbsp;&nbsp;&nbsp;    statement-2<br>\n",
    "&nbsp;&nbsp;&nbsp;&nbsp;    statement-n<br>\n",
    "\n",
    "![while control statements](https://pynative.com/wp-content/uploads/2021/03/python-while-loop.png)"
   ]
  },
  {
   "cell_type": "code",
   "execution_count": null,
   "metadata": {},
   "outputs": [],
   "source": [
    "i = 1\n",
    "while i < 6:\n",
    "    print(i)\n",
    "    i += 1"
   ]
  },
  {
   "cell_type": "code",
   "execution_count": null,
   "metadata": {},
   "outputs": [],
   "source": [
    "num = 10\n",
    "sum = 0\n",
    "i = 1\n",
    "while i <= num:\n",
    "    sum = sum + i\n",
    "    i = i + 1\n",
    "print(\"Sum of first 10 number is:\", sum)"
   ]
  },
  {
   "cell_type": "markdown",
   "metadata": {},
   "source": [
    "# Lab"
   ]
  },
  {
   "cell_type": "markdown",
   "metadata": {},
   "source": [
    "1. 輸入兩個數字 a, b, 使用條件敘述來求 a - b 的絕對值 (勿直接使用 abs()函式)\n",
    "2. 使用 `for loop` 來列印 1 ~ 20 的整數，但凡 3 的倍數不印\n",
    "3. 使用 `while loop` 將1到20間，所有3的倍數印出來，並在最後顯示總共有幾個數字被印出\n",
    "4. OJ#1879 (分數判斷)\n",
    "5. OJ#1846 (菜鳥的年資)"
   ]
  },
  {
   "cell_type": "markdown",
   "metadata": {},
   "source": [
    "# W3 School"
   ]
  },
  {
   "cell_type": "markdown",
   "metadata": {},
   "source": [
    "- [Syntax] https://www.w3schools.com/python/exercise.asp?x=xrcise_syntax1\n",
    "- [Comments] https://www.w3schools.com/python/exercise.asp?x=xrcise_comments2\n",
    "- [Loop Tuples] https://www.w3schools.com/python/exercise.asp?x=xrcise_tuples_loop1\n",
    "- [Loop Sets] https://www.w3schools.com/python/exercise.asp?x=xrcise_sets_loop1"
   ]
  }
 ],
 "metadata": {
  "kernelspec": {
   "display_name": ".venv",
   "language": "python",
   "name": "python3"
  },
  "language_info": {
   "codemirror_mode": {
    "name": "ipython",
    "version": 3
   },
   "file_extension": ".py",
   "mimetype": "text/x-python",
   "name": "python",
   "nbconvert_exporter": "python",
   "pygments_lexer": "ipython3",
   "version": "3.13.1"
  }
 },
 "nbformat": 4,
 "nbformat_minor": 2
}
