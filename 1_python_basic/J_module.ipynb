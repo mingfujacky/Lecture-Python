{
 "cells": [
  {
   "cell_type": "markdown",
   "metadata": {},
   "source": [
    "# 模組 (module)"
   ]
  },
  {
   "cell_type": "markdown",
   "metadata": {},
   "source": [
    "- 內建模組 (build-in module)\n",
    "  1. os:   作業系統相關的功能\n",
    "  2. sys:  Python 直譯器相關的功能\n",
    "  3. math: 數學相關的函數\n",
    "  4. random: 生成隨機數\n",
    "  5. datetime: 處理日期和時間\n",
    "  6. time: 時間相關的功能  \n",
    "- 第三方模組 (3-party module)\n",
    "  1. numpy: 矩陣處理\n",
    "  2. pandas: 數值分析\n",
    "  3. matplotlib: 畫圖工具"
   ]
  },
  {
   "cell_type": "markdown",
   "metadata": {},
   "source": [
    "# 內建模組"
   ]
  },
  {
   "cell_type": "code",
   "execution_count": 1,
   "metadata": {},
   "outputs": [
    {
     "name": "stdout",
     "output_type": "stream",
     "text": [
      "/Users/jacky/Lecture-Python/1_python_basic\n"
     ]
    }
   ],
   "source": [
    "import os\n",
    "print(os.getcwd())  # 獲取當前工作目錄"
   ]
  },
  {
   "cell_type": "code",
   "execution_count": 2,
   "metadata": {},
   "outputs": [
    {
     "name": "stdout",
     "output_type": "stream",
     "text": [
      "3.13.1 (v3.13.1:06714517797, Dec  3 2024, 14:00:22) [Clang 15.0.0 (clang-1500.3.9.4)]\n"
     ]
    }
   ],
   "source": [
    "import sys\n",
    "print(sys.version)  # 列出命令列參數"
   ]
  },
  {
   "cell_type": "code",
   "execution_count": 4,
   "metadata": {},
   "outputs": [
    {
     "name": "stdout",
     "output_type": "stream",
     "text": [
      "4.0\n",
      "3.141592653589793\n",
      "0.8414709848078965\n"
     ]
    }
   ],
   "source": [
    "import math\n",
    "print(math.sqrt(16))  # 計算平方根\n",
    "print(math.pi)        # 圓周率"
   ]
  },
  {
   "cell_type": "code",
   "execution_count": null,
   "metadata": {},
   "outputs": [],
   "source": [
    "import random\n",
    "print(random.randint(1, 10))  # 生成 1 到 10 的隨機整數\n",
    "print(random.choice(['A', 'B', 'C']))  # 隨機選取一個元素\n",
    "print(random.random())  # 生成一個浮點數，範圍在 [0,1)\n",
    "print(random.sample([1, 2, 3, 4, 5, 6], 2))  # 隨機選取多個元素"
   ]
  },
  {
   "cell_type": "code",
   "execution_count": 5,
   "metadata": {},
   "outputs": [
    {
     "name": "stdout",
     "output_type": "stream",
     "text": [
      "2025-01-09 13:49:53\n"
     ]
    }
   ],
   "source": [
    "import datetime\n",
    "now = datetime.datetime.now()\n",
    "print(now.strftime(\"%Y-%m-%d %H:%M:%S\"))  # 格式化日期"
   ]
  },
  {
   "cell_type": "code",
   "execution_count": 6,
   "metadata": {},
   "outputs": [
    {
     "name": "stdout",
     "output_type": "stream",
     "text": [
      "1736401889.06432\n",
      "1736401891.069087\n"
     ]
    }
   ],
   "source": [
    "import time\n",
    "print(time.time())  # 獲取當前時間戳\n",
    "time.sleep(2)       # 暫停 2 秒\n",
    "print(time.time())  # 獲取當前時間戳"
   ]
  },
  {
   "cell_type": "markdown",
   "metadata": {},
   "source": [
    "# 載入模組"
   ]
  },
  {
   "cell_type": "code",
   "execution_count": 7,
   "metadata": {},
   "outputs": [
    {
     "name": "stdout",
     "output_type": "stream",
     "text": [
      "3.141592653589793\n",
      "0.8414709848078965\n",
      "/Library/Frameworks/Python.framework/Versions/3.13/lib/python3.13/lib-dynload/math.cpython-313-darwin.so\n"
     ]
    }
   ],
   "source": [
    "import math  # 載入math模組的全部內容\n",
    "print(math.pi)  # 呼叫 math 模組中的常數\n",
    "print(math.sin(1.0))  # 呼叫 math 模組中的函數\n",
    "print(math.__file__)  # 顯示 math 模組的檔案位置"
   ]
  },
  {
   "cell_type": "code",
   "execution_count": null,
   "metadata": {},
   "outputs": [],
   "source": [
    "from math import pi  # 只載入math模組中的常數pi\n",
    "print(pi)  # 直接使用常數pi，不需要math.pi\n",
    "\n",
    "from math import sin  # 只載入math模組中的函數sin\n",
    "print(sin(1.0))  # 直接使用函數sin，不需要math.sin"
   ]
  },
  {
   "cell_type": "code",
   "execution_count": null,
   "metadata": {},
   "outputs": [],
   "source": [
    "import math as m  # 將math模組載入並取別名為m\n",
    "print(m.pi)  # 使用別名m代替math\n",
    "\n",
    "from math import pi as PI  # 將math模組中的常數pi取別名為p\n",
    "print(PI)  # 使用別名PI代替pi"
   ]
  },
  {
   "cell_type": "markdown",
   "metadata": {},
   "source": [
    "# 第三方模組"
   ]
  },
  {
   "cell_type": "markdown",
   "metadata": {},
   "source": [
    "- 第三方Python套件儲存網站 https://pypi.org/\n",
    "- PyPI.org 是 Python 程式語言的軟體存儲庫\n",
    "- PyPI 可查找和安裝由 Python 社區開發和共享的模組\n",
    "- 安裝第三方模組<br>\n",
    "  (A) Thonny (above v4.1.7): Tools -> Manage Packages -> type module name -> search on PyPI.org -> install<br>\n",
    "  (B) Colab: execute **! pip install pandas**"
   ]
  },
  {
   "cell_type": "markdown",
   "metadata": {},
   "source": [
    "# PIP"
   ]
  },
  {
   "cell_type": "markdown",
   "metadata": {},
   "source": [
    "- PIP is a package manager for Python library, packages or modules\n",
    "- Library: A collection of Packages.\n",
    "- Package: A collection of Python files in a directory.\n",
    "- Module: A Python file.\n",
    "- If you have Python version 3.4 or later, PIP is included by default."
   ]
  },
  {
   "cell_type": "markdown",
   "metadata": {},
   "source": [
    "![Library, Package, Module](https://substackcdn.com/image/fetch/f_auto,q_auto:good,fl_progressive:steep/https%3A%2F%2Fsubstack-post-media.s3.amazonaws.com%2Fpublic%2Fimages%2Ff0a8ad30-3720-419b-8250-6ea00d95585c_544x419.png)"
   ]
  },
  {
   "cell_type": "markdown",
   "metadata": {},
   "source": [
    "## Working In Thonny"
   ]
  },
  {
   "cell_type": "markdown",
   "metadata": {},
   "source": [
    "- 在Thonny中打開終端機: Thonny的視窗功能列 Tools --> Open system shell\n",
    "- Check if PIP is installed\n",
    "  - pip3 --version (in Mac)\n",
    "  - pip --version (in Windows)\n",
    "- Download library, package\n",
    "  - pip3 install numpy (in Mac)\n",
    "  - pip install numpy (in Windows)\n",
    "- Remove a library, package\n",
    "  - pip3 uninstall numpy (in Mac)\n",
    "  - pip uninstall numpy (in Windows)\n",
    "- List library, package which you are installed\n",
    "  - pip3 list (in Mac)\n",
    "  - pip list (in Windows)\n",
    "- Check Python version\n",
    "  - where python3 (in Mac), where python (in Windows)\n",
    "  - which python3 (in Mac), but it do not work in Windows\n",
    "  - Windows 使用 echo %PATH% 環境變數來搜尋執行檔"
   ]
  },
  {
   "cell_type": "markdown",
   "metadata": {},
   "source": [
    "## Working in 作業系統 Mac or Windows"
   ]
  },
  {
   "cell_type": "markdown",
   "metadata": {},
   "source": [
    "- 打開終端機或命令提示字元, 並鍵入 where python and which python\n",
    "  - where python3 (in Mac), where python (in Windows)\n",
    "    1. /opt/homebrew/bin/python3 (install from Homebrew)\n",
    "    2. /Library/Frameworks/Python.framework/Versions/3.13/bin/python3 (install from Python.org by .pkg)\n",
    "    3. /usr/local/bin/python3 (Link to item 2)\n",
    "    4. /usr/bin/python3 (MacOS pre-built)\n",
    "  - which python3 (in Mac), which python (in Windows)\n",
    "    - /opt/homebrew/bin/python3 (current active version when type python3)"
   ]
  },
  {
   "cell_type": "markdown",
   "metadata": {},
   "source": [
    "# Lab"
   ]
  },
  {
   "cell_type": "markdown",
   "metadata": {},
   "source": [
    "1. 找一個第三方模組來得到目前電腦的記憶體數量(GB)，已經使用的記憶體數量(GB)\n",
    "2. write OJ#1842 (圓周長及圓面積)\n",
    "3. 寫出一句文青詩作: 收集一些容易在詩裡出現的字眼, 亂數決定用那一些詞來寫成一句詩 <br>\n",
    "   我\n",
    "   我的\n",
    "   眼睛\n",
    "   妳\n",
    "   妳的\n",
    "   心\n",
    "   溫柔\n",
    "   日子\n",
    "   雨\n",
    "   風\n",
    "   天空\n",
    "   雲\n",
    "   等待\n",
    "   哭泣\n",
    "   戀愛\n",
    "   相遇\n",
    "   分離\n",
    "   忘記\n",
    "   \n"
   ]
  },
  {
   "cell_type": "markdown",
   "metadata": {},
   "source": [
    "# W3 School"
   ]
  },
  {
   "cell_type": "markdown",
   "metadata": {},
   "source": [
    "- [Modules] https://www.w3schools.com/python/exercise.asp?x=xrcise_modules1\n",
    "- [Dates] https://www.w3schools.com/python/exercise.asp?x=xrcise_dates1\n",
    "- [Math] https://www.w3schools.com/python/exercise.asp?x=xrcise_math1\n",
    "- [PIP] https://www.w3schools.com/python/exercise.asp?x=xrcise_pip1"
   ]
  }
 ],
 "metadata": {
  "kernelspec": {
   "display_name": ".venv",
   "language": "python",
   "name": "python3"
  },
  "language_info": {
   "codemirror_mode": {
    "name": "ipython",
    "version": 3
   },
   "file_extension": ".py",
   "mimetype": "text/x-python",
   "name": "python",
   "nbconvert_exporter": "python",
   "pygments_lexer": "ipython3",
   "version": "3.13.1"
  }
 },
 "nbformat": 4,
 "nbformat_minor": 2
}
