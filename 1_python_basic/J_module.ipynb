{
 "cells": [
  {
   "cell_type": "markdown",
   "metadata": {},
   "source": [
    "# 模組 (module)"
   ]
  },
  {
   "cell_type": "markdown",
   "metadata": {},
   "source": [
    "- **模組** 是一種可重複使用的程式碼集合，常用於分離功能與簡化主程式。\n",
    "- 內建模組 (built-in module)\n",
    "  1. os:   作業系統相關的功能\n",
    "  2. sys:  Python 直譯器相關的功能\n",
    "  3. math: 數學相關的函數\n",
    "  4. random: 生成隨機數\n",
    "  5. datetime: 處理日期和時間\n",
    "  6. time: 時間相關的功能  \n",
    "- 第三方模組 (third-party module)\n",
    "  1. numpy: 矩陣處理\n",
    "  2. pandas: 數值分析\n",
    "  3. matplotlib: 畫圖工具\n",
    "- 使用 `import` 可以將模組載入到程式中"
   ]
  },
  {
   "cell_type": "markdown",
   "metadata": {},
   "source": [
    "# 內建模組"
   ]
  },
  {
   "cell_type": "code",
   "execution_count": null,
   "metadata": {},
   "outputs": [],
   "source": [
    "import os\n",
    "folders = os.listdir()\n",
    "for folder in folders:\n",
    "    print(folder) # 顯示當前資料夾下的所有項目"
   ]
  },
  {
   "cell_type": "code",
   "execution_count": null,
   "metadata": {},
   "outputs": [],
   "source": [
    "import sys\n",
    "print(sys.version)  # 顯示 Python 版本"
   ]
  },
  {
   "cell_type": "code",
   "execution_count": null,
   "metadata": {},
   "outputs": [],
   "source": [
    "import math\n",
    "print(math.sqrt(16))  # 計算平方根\n",
    "print(math.pi)        # 圓周率"
   ]
  },
  {
   "cell_type": "code",
   "execution_count": null,
   "metadata": {},
   "outputs": [],
   "source": [
    "import random\n",
    "print(random.randint(1, 10))  # 生成 1 到 10 的隨機整數\n",
    "print(random.choice(['A', 'B', 'C']))  # 隨機選取一個元素\n",
    "print(random.random())  # 生成一個浮點數，範圍在 [0,1)\n",
    "print(random.sample([1, 2, 3, 4, 5, 6], 2))  # 隨機選取多個元素"
   ]
  },
  {
   "cell_type": "code",
   "execution_count": null,
   "metadata": {},
   "outputs": [],
   "source": [
    "import datetime\n",
    "print(datetime.date.today())\n",
    "x = datetime.datetime.now()\n",
    "print(x.strftime('%A'))\n",
    "print(x.strftime('%B'))\n",
    "# strftime() method to format date objects into readable strings. \n",
    "# https://www.w3schools.com/python/python_datetime.asp"
   ]
  },
  {
   "cell_type": "code",
   "execution_count": null,
   "metadata": {},
   "outputs": [],
   "source": [
    "import time\n",
    "start = time.time()  # 獲取當前時間戳\n",
    "\n",
    "# 執行某段程式，並計算執行時間\n",
    "result = 0\n",
    "for i in range(10_000_000):\n",
    "    result += i  # 計算從 0 到 999999 的總和\n",
    "print(result)  # 輸出結果\n",
    "\n",
    "end = time.time()  # 獲取當前時間戳\n",
    "# 計算執行時間\n",
    "print(f\"執行時間: {end - start} 秒\")  # 計算執行時間"
   ]
  },
  {
   "cell_type": "markdown",
   "metadata": {},
   "source": [
    "# 載入模組"
   ]
  },
  {
   "cell_type": "code",
   "execution_count": null,
   "metadata": {},
   "outputs": [],
   "source": [
    "import math  # 載入math模組的全部內容\n",
    "print(math.pi)  # 呼叫 math 模組中的常數\n",
    "print(math.sin(1.0))  # 呼叫 math 模組中的函數"
   ]
  },
  {
   "cell_type": "code",
   "execution_count": null,
   "metadata": {},
   "outputs": [],
   "source": [
    "from math import pi  # 只載入math模組中的常數pi\n",
    "print(pi)  # 直接使用常數pi，不需要math.pi\n",
    "\n",
    "from math import sin  # 只載入math模組中的函數sin\n",
    "print(sin(1.0))  # 直接使用函數sin，不需要math.sin"
   ]
  },
  {
   "cell_type": "code",
   "execution_count": null,
   "metadata": {},
   "outputs": [],
   "source": [
    "import math as m  # 將math模組載入並取別名為m\n",
    "print(m.pi)  # 使用別名m代替math\n",
    "\n",
    "from math import pi as PI  # 將math模組中的常數pi取別名為p\n",
    "print(PI)  # 使用別名PI代替pi"
   ]
  },
  {
   "cell_type": "markdown",
   "metadata": {},
   "source": [
    "# 第三方模組"
   ]
  },
  {
   "cell_type": "markdown",
   "metadata": {},
   "source": [
    "- 官方第三方套件網站：[PyPI.org](https://pypi.org/)\n",
    "- 安裝第三方模組<br>\n",
    "  (A) Thonny (above v4.1.7): Tools -> Manage Packages -> type module name -> search on PyPI.org -> install<br>\n",
    "  (B) Colab: in cell, execute **! pip install pandas** <br>\n",
    "  (C) Jupyter: in cell, execute **! pip install pandas**\n",
    "- 常見第三方模組：`requests`, `numpy`, `pandas`, `psutil` 等  "
   ]
  },
  {
   "cell_type": "markdown",
   "metadata": {},
   "source": [
    "# Lab"
   ]
  },
  {
   "cell_type": "markdown",
   "metadata": {},
   "source": [
    "1. 找一個第三方模組來得到目前電腦的記憶體數量(GB)，已經使用的記憶體數量(GB)\n",
    "2. write OJ#1842 (圓周長及圓面積)\n",
    "3. 寫出一句文青詩作: 收集一些容易在詩裡出現的字眼, 亂數決定用那一些詞來寫成一句詩 <br>\n",
    "我\n",
    "我的\n",
    "眼睛\n",
    "妳\n",
    "妳的\n",
    "心\n",
    "溫柔\n",
    "日子\n",
    "雨\n",
    "風\n",
    "天空\n",
    "雲\n",
    "等待\n",
    "哭泣\n",
    "戀愛\n",
    "相遇\n",
    "分離\n",
    "忘記"
   ]
  },
  {
   "cell_type": "markdown",
   "metadata": {},
   "source": [
    "# W3 School"
   ]
  },
  {
   "cell_type": "markdown",
   "metadata": {},
   "source": [
    "- [Modules] https://www.w3schools.com/python/exercise.asp?x=xrcise_modules1\n",
    "- [Dates] https://www.w3schools.com/python/exercise.asp?x=xrcise_dates1\n",
    "- [Math] https://www.w3schools.com/python/exercise.asp?x=xrcise_math1"
   ]
  }
 ],
 "metadata": {
  "kernelspec": {
   "display_name": ".venv",
   "language": "python",
   "name": "python3"
  },
  "language_info": {
   "codemirror_mode": {
    "name": "ipython",
    "version": 3
   },
   "file_extension": ".py",
   "mimetype": "text/x-python",
   "name": "python",
   "nbconvert_exporter": "python",
   "pygments_lexer": "ipython3",
   "version": "3.13.5"
  }
 },
 "nbformat": 4,
 "nbformat_minor": 2
}
