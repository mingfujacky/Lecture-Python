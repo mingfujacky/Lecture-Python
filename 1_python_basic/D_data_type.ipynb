{
 "cells": [
  {
   "cell_type": "markdown",
   "metadata": {},
   "source": [
    "# 互動式 Python 開發環境介紹\n",
    "- Google Colab\n",
    "- VS Code（搭配 Jupyter 擴充套件）\n",
    "- Jupyter Notebook / Jupyter Lab\n",
    "\n",
    "👉 適合初學者以 Notebook 形式互動式學習 Python"
   ]
  },
  {
   "cell_type": "code",
   "execution_count": null,
   "metadata": {},
   "outputs": [],
   "source": [
    "\"Hi, World!\"  # 在互動式模式下，自動印出字串結果"
   ]
  },
  {
   "cell_type": "code",
   "execution_count": null,
   "metadata": {},
   "outputs": [],
   "source": [
    "1 + 2 + 3 + 4 + 5  # 互動式模式下，直接執行數學運算，並輸出結果"
   ]
  },
  {
   "cell_type": "markdown",
   "metadata": {},
   "source": [
    "## 互動式模式說明\n",
    "\n",
    "在 Notebook 中，只有最後一行的運算結果會被自動顯示。  \n",
    "若要顯示多個輸出，請使用 `print()` 函數。"
   ]
  },
  {
   "cell_type": "code",
   "execution_count": null,
   "metadata": {},
   "outputs": [],
   "source": [
    "print(\"Help Python!!\")\n",
    "print(\"NYCU welcome you!!\")\n",
    "10 * 10 # 不會被顯示，因為不是最後一行\n",
    "1 + 2 + 3 + 4 +5 # 只會顯示這一行結果"
   ]
  },
  {
   "cell_type": "markdown",
   "metadata": {},
   "source": [
    "# 輸出與輸入：`print()` 和 `input()`"
   ]
  },
  {
   "cell_type": "code",
   "execution_count": null,
   "metadata": {},
   "outputs": [],
   "source": [
    "# print() 函數/函式: 可以印出字串, 也可以列印數字\n",
    "print('Hi, world!') # 字串可以用單引號刮起來\n",
    "print(\"Great Day\")  # 也可以用雙引號刮起來\n",
    "long_text = \"\"\"This is a long text.\n",
    "It can span multiple lines.\n",
    "It is very useful for documentation.\"\"\" # 換行的字串也可以用三個單引號或雙引號刮起來\n",
    "\n",
    "print(1000)\n",
    "print(1 + 2 + 3 + 4 + 5) # 列印運算結果\n",
    "print(3.14)"
   ]
  },
  {
   "cell_type": "code",
   "execution_count": null,
   "metadata": {},
   "outputs": [],
   "source": [
    "# 字串連接: 可以用 + 號連接兩個字串\n",
    "# 也可以用逗號 , 連接兩個字串，逗號會自動加上空格 (message from Copilot)\n",
    "# 但更好的解釋是使用逗號將多個參數傳遞給 print 函數，並在輸出時自動添加空格。\n",
    "sentence1 = \"Here is NYCU.\"\n",
    "sentence2 = \"Welcome to Python Class!!\"\n",
    "print(sentence1 + \" \" + sentence2)  # 字串連接\n",
    "print(sentence1, sentence2)  # 用逗號連接，會自動加上空格"
   ]
  },
  {
   "cell_type": "code",
   "execution_count": null,
   "metadata": {},
   "outputs": [],
   "source": [
    "# input() 函數: 接收使用者來自鍵盤的輸入\n",
    "name = input(\"Please input your name: \")  # 互動式模式下，會等待使用者輸入字串\n",
    "print(name)\n",
    "age = input(\"Please input your age: \")  # 互動式模式下，會等待使用者輸入字串\n",
    "print(age)\n",
    "# 想想看: 這裡的 name 和age 會是什麼資料型別？字串？整數？ 如果要將它轉換成數字，應該怎麼做？"
   ]
  },
  {
   "cell_type": "markdown",
   "metadata": {},
   "source": [
    "# 變數與賦值（Assignment）\n",
    "\n",
    "- 在 Python 中，變數是一個指向某個值(物件)的標記，可以是整數、浮點數、字串、布林值、串列、集合等。<br>\n",
    "- 使用賦值運算子 `=`：  \n",
    "  `變數名稱 = 物件`"
   ]
  },
  {
   "cell_type": "code",
   "execution_count": null,
   "metadata": {},
   "outputs": [],
   "source": [
    "age = 50\n",
    "greeting = \"Happy Birthday\"\n",
    "pi = 3.14\n",
    "num1, num2 = 10, 20  # 多重賦值"
   ]
  },
  {
   "cell_type": "markdown",
   "metadata": {},
   "source": [
    "# 資料型別\n",
    "- 基本資料型別：字串, 整數, 浮點數, 布林\n",
    "- 容器資料型別：元組(tuple), 串列(list), 集合(set), 字典(dict)"
   ]
  },
  {
   "cell_type": "markdown",
   "metadata": {},
   "source": [
    "## 基本資料型別\n"
   ]
  },
  {
   "cell_type": "code",
   "execution_count": null,
   "metadata": {},
   "outputs": [],
   "source": [
    "age = 5  # 整數 int, 代表年齡\n",
    "print(age)"
   ]
  },
  {
   "cell_type": "code",
   "execution_count": null,
   "metadata": {},
   "outputs": [],
   "source": [
    "exchange_rate = 30.5  # 浮點數 float, 代表匯率\n",
    "print(exchange_rate)"
   ]
  },
  {
   "cell_type": "code",
   "execution_count": null,
   "metadata": {},
   "outputs": [],
   "source": [
    "complex_number = 5 + 3j  # 複數 complex, 代表複數數字\n",
    "print(complex_number)"
   ]
  },
  {
   "cell_type": "code",
   "execution_count": null,
   "metadata": {},
   "outputs": [],
   "source": [
    "raining_today = True  # 布林 bool, 代表今天是否下雨\n",
    "print(raining_today)"
   ]
  },
  {
   "cell_type": "markdown",
   "metadata": {},
   "source": [
    "## 容器資料型別"
   ]
  },
  {
   "cell_type": "code",
   "execution_count": 4,
   "metadata": {},
   "outputs": [
    {
     "name": "stdout",
     "output_type": "stream",
     "text": [
      "('♣', '♦', '♥', '♠')\n",
      "♣\n",
      "♦\n",
      "('♦', '♥')\n"
     ]
    }
   ],
   "source": [
    "card_suit = (\"♣\", \"♦\", \"♥\", \"♠\")  # 元組 tuple, 代表撲克牌的花色\n",
    "print(card_suit)\n",
    "print(card_suit[0])  # 印出第一個元素\n",
    "print(card_suit[1])  # 印出第二個元素\n",
    "print(card_suit[1:3])"
   ]
  },
  {
   "cell_type": "code",
   "execution_count": null,
   "metadata": {},
   "outputs": [],
   "source": [
    "fruits = ['apple', 'banana', 'cherry']  # 串列 list, 代表水果清單\n",
    "print(fruits)"
   ]
  },
  {
   "cell_type": "code",
   "execution_count": null,
   "metadata": {},
   "outputs": [],
   "source": [
    "car_brand = {'A', 'B', 'C', 'D'}  # 集合 set, 代表汽車品牌\n",
    "print(car_brand)"
   ]
  },
  {
   "cell_type": "code",
   "execution_count": null,
   "metadata": {},
   "outputs": [],
   "source": [
    "student = {'name': 'John', 'age': 25}  # 字典 dict, 代表學生資訊\n",
    "print(student)"
   ]
  },
  {
   "cell_type": "markdown",
   "metadata": {},
   "source": [
    "## 型別間的轉換"
   ]
  },
  {
   "cell_type": "code",
   "execution_count": null,
   "metadata": {},
   "outputs": [],
   "source": [
    "age = int('20')  # str 轉 int, \"20\" to 20\n",
    "year = str(2000)  # int 轉 str, 2000 to '2000'\n",
    "print(age)\n",
    "print(year)\n",
    "print(type(age), type(year))\n",
    "print(\"This is a calendar for Y\" + str(2000))"
   ]
  },
  {
   "cell_type": "code",
   "execution_count": null,
   "metadata": {},
   "outputs": [],
   "source": [
    "age = input(\"Please input your age: \")  # age 是字串 str\n",
    "after_10_years = int(age) + 10  # 正確的寫法\n",
    "print(\"十年後，你將會是\", after_10_years, \"歲.\")\n",
    "print(after_10_years)\n",
    "NG_after_10_years = age + 10  # 會出現錯誤, 因為 age 是字串, 不能直接加上整數\n",
    "# print(NG_after_10_years)  # 取消註解這行會導致錯誤"
   ]
  },
  {
   "cell_type": "code",
   "execution_count": 3,
   "metadata": {},
   "outputs": [
    {
     "name": "stdout",
     "output_type": "stream",
     "text": [
      "13.14\n",
      "11\n"
     ]
    }
   ],
   "source": [
    "# 隱性轉換: Python 會自動將整數和浮點數進行隱性轉換\n",
    "num1 = 10  # 整數\n",
    "num2 = 3.14  # 浮點數\n",
    "result = num1 + num2  # 隱性轉換，整數轉為浮點數\n",
    "print(result)  # 輸出結果為 13.14\n",
    "\n",
    "x= 10\n",
    "y = True\n",
    "print(x + y)  # True 會被轉換為 1，輸出結果為 11"
   ]
  },
  {
   "cell_type": "markdown",
   "metadata": {},
   "source": [
    "# 註解\n",
    "- 註解在程式碼中不會被執行，主要用來說明程式碼的內容\n",
    "- 用 `#` 作為單行註解\n",
    "- 用`\"\"\"`或`'''`做多行註解"
   ]
  },
  {
   "cell_type": "markdown",
   "metadata": {},
   "source": [
    "✅ 函式與註解示範（Code）"
   ]
  },
  {
   "cell_type": "code",
   "execution_count": null,
   "metadata": {},
   "outputs": [],
   "source": [
    "''' \n",
    "    Purpose: 檢查身分證字號的正確性\n",
    "    Designer: Jacky Lin\n",
    "    Version: 0.9\n",
    "    Released date: 2024/10/08\n",
    "'''\n",
    "\n",
    "# 要求使用者輸入身分證字號的模組\n",
    "def input_id():\n",
    "    id = input('ID:' ) # 儲存身分證字號\n",
    "    return(id)\n",
    "\n",
    "person_id = input_id()  # 主程式開始\n",
    "print(person_id)"
   ]
  },
  {
   "cell_type": "markdown",
   "metadata": {},
   "source": [
    "# Lab 練習題\n",
    "1. 讓使用者輸入姓氏和名字，然後將他的全名印出\n",
    "2. 使用三個變數賦值及字串相加，印出 `\"pen pie pieapple apple pen\"`\n",
    "3. 創建一個元組(tuple), 包含所有母音的字母 (A, E, I, O, U)\n",
    "4. 創建一個串列(list), 包含班上三個同學的姓名\n",
    "5. 創建一個集合(set), 包含最新一期統一發票的頭獎號碼\n",
    "6. 創建一個字典(dict), 包含目前在上的課程名稱及講師姓名(三個key-value pairs) \n",
    "7. 該如何把浮點數 4.3 變成整數型態？\n",
    "8. 該如何把整數 3 變成浮點數型態呢？\n",
    "9. 該如何把字串 \"3\" 變成整數型態呢？\n",
    "10. `進階挑戰` 請設計一段程式，讓使用者輸入一個數字，並印出該數字的平方\n"
   ]
  },
  {
   "cell_type": "markdown",
   "metadata": {},
   "source": [
    "# 線上練習資源：W3Schools\n",
    "+ [Data Types 練習] https://www.w3schools.com/python/exercise.asp?x=xrcise_datatypes1\n",
    "+ [Numbers 練習] https://www.w3schools.com/python/exercise.asp?x=xrcise_numbers1\n",
    "+ [Casting 練習] https://www.w3schools.com/python/exercise.asp?x=xrcise_casting1\n",
    "+ [User Input 練習] https://www.w3schools.com/python/exercise.asp?x=xrcise_user_input1"
   ]
  }
 ],
 "metadata": {
  "kernelspec": {
   "display_name": ".venv",
   "language": "python",
   "name": "python3"
  },
  "language_info": {
   "codemirror_mode": {
    "name": "ipython",
    "version": 3
   },
   "file_extension": ".py",
   "mimetype": "text/x-python",
   "name": "python",
   "nbconvert_exporter": "python",
   "pygments_lexer": "ipython3",
   "version": "3.13.5"
  }
 },
 "nbformat": 4,
 "nbformat_minor": 2
}
