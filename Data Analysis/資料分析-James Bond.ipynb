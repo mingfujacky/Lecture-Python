{
 "cells": [
  {
   "cell_type": "code",
   "execution_count": 3,
   "metadata": {},
   "outputs": [],
   "source": [
    "import numpy as np\n",
    "import pandas as pd\n",
    "from pathlib import Path"
   ]
  },
  {
   "cell_type": "markdown",
   "metadata": {},
   "source": [
    "# Load data set"
   ]
  },
  {
   "cell_type": "code",
   "execution_count": 4,
   "metadata": {},
   "outputs": [],
   "source": [
    "path = Path.cwd() / 'demo source files' / 'james_bond_data.csv'"
   ]
  },
  {
   "cell_type": "code",
   "execution_count": null,
   "metadata": {},
   "outputs": [],
   "source": [
    "james_bond_data = pd.read_csv(path).convert_dtypes()\n",
    "#james_bond_data.head()\n",
    "james_bond_data.tail()"
   ]
  },
  {
   "cell_type": "code",
   "execution_count": 45,
   "metadata": {},
   "outputs": [
    {
     "name": "stdout",
     "output_type": "stream",
     "text": [
      "<class 'pandas.core.frame.DataFrame'>\n",
      "RangeIndex: 27 entries, 0 to 26\n",
      "Data columns (total 12 columns):\n",
      " #   Column            Non-Null Count  Dtype  \n",
      "---  ------            --------------  -----  \n",
      " 0   Release           27 non-null     string \n",
      " 1   Movie             27 non-null     string \n",
      " 2   Bond              27 non-null     string \n",
      " 3   Bond_Car_MFG      27 non-null     string \n",
      " 4   US_Gross          27 non-null     string \n",
      " 5   World_Gross       27 non-null     string \n",
      " 6   Budget ($ 000s)   27 non-null     string \n",
      " 7   Film_Length       27 non-null     string \n",
      " 8   Avg_User_IMDB     26 non-null     Float64\n",
      " 9   Avg_User_Rtn_Tom  26 non-null     Float64\n",
      " 10  Martinis          27 non-null     Int64  \n",
      " 11  Kills_Bond        27 non-null     Int64  \n",
      "dtypes: Float64(2), Int64(2), string(8)\n",
      "memory usage: 14.1 KB\n"
     ]
    }
   ],
   "source": [
    "# Structure of data set\n",
    "#james_bond_data.shape \n",
    "#james_bond_data.dtypes\n",
    "james_bond_data.info(memory_usage='deep')"
   ]
  },
  {
   "cell_type": "code",
   "execution_count": 29,
   "metadata": {},
   "outputs": [
    {
     "data": {
      "text/plain": [
       "Index(['release_date', 'movie_title', 'bond_actor', 'car_manufacturer',\n",
       "       'income_usa', 'income_world', 'movie_budget', 'film_length', 'imdb',\n",
       "       'rotten_tomatoes', 'martinis_consumed', 'bond_kills'],\n",
       "      dtype='object')"
      ]
     },
     "execution_count": 29,
     "metadata": {},
     "output_type": "execute_result"
    }
   ],
   "source": [
    "# Creating meaningful column names \n",
    "new_column_names = {\n",
    "    \"Release\": \"release_date\",\n",
    "    \"Movie\": \"movie_title\",\n",
    "    \"Bond\": \"bond_actor\",\n",
    "    \"Bond_Car_MFG\": \"car_manufacturer\",\n",
    "    \"US_Gross\": \"income_usa\",\n",
    "    \"World_Gross\": \"income_world\",\n",
    "    \"Budget ($ 000s)\": \"movie_budget\",\n",
    "    \"Film_Length\": \"film_length\",\n",
    "    \"Avg_User_IMDB\": \"imdb\",\n",
    "    \"Avg_User_Rtn_Tom\": \"rotten_tomatoes\",\n",
    "    \"Martinis\": \"martinis_consumed\",\n",
    "    \"Kills_Bond\": \"bond_kills\",\n",
    "   }\n",
    "data = james_bond_data.rename(columns=new_column_names)\n",
    "data.columns\n"
   ]
  },
  {
   "cell_type": "markdown",
   "metadata": {},
   "source": [
    "# Dealing With Missing Data"
   ]
  },
  {
   "cell_type": "code",
   "execution_count": null,
   "metadata": {},
   "outputs": [],
   "source": [
    "mask = data.isna().any(axis=\"columns\")\n",
    "mask"
   ]
  },
  {
   "cell_type": "code",
   "execution_count": 30,
   "metadata": {},
   "outputs": [
    {
     "data": {
      "text/html": [
       "<div>\n",
       "<style scoped>\n",
       "    .dataframe tbody tr th:only-of-type {\n",
       "        vertical-align: middle;\n",
       "    }\n",
       "\n",
       "    .dataframe tbody tr th {\n",
       "        vertical-align: top;\n",
       "    }\n",
       "\n",
       "    .dataframe thead th {\n",
       "        text-align: right;\n",
       "    }\n",
       "</style>\n",
       "<table border=\"1\" class=\"dataframe\">\n",
       "  <thead>\n",
       "    <tr style=\"text-align: right;\">\n",
       "      <th></th>\n",
       "      <th>release_date</th>\n",
       "      <th>movie_title</th>\n",
       "      <th>bond_actor</th>\n",
       "      <th>car_manufacturer</th>\n",
       "      <th>income_usa</th>\n",
       "      <th>income_world</th>\n",
       "      <th>movie_budget</th>\n",
       "      <th>film_length</th>\n",
       "      <th>imdb</th>\n",
       "      <th>rotten_tomatoes</th>\n",
       "      <th>martinis_consumed</th>\n",
       "      <th>bond_kills</th>\n",
       "    </tr>\n",
       "  </thead>\n",
       "  <tbody>\n",
       "    <tr>\n",
       "      <th>10</th>\n",
       "      <td>April, 1977</td>\n",
       "      <td>The Spy Who Loved Me</td>\n",
       "      <td>Roger Moore</td>\n",
       "      <td>Lotus</td>\n",
       "      <td>$46,800,000.00</td>\n",
       "      <td>$185,400,000.00</td>\n",
       "      <td>$14,000.00</td>\n",
       "      <td>125 mins</td>\n",
       "      <td>&lt;NA&gt;</td>\n",
       "      <td>&lt;NA&gt;</td>\n",
       "      <td>1</td>\n",
       "      <td>31</td>\n",
       "    </tr>\n",
       "  </tbody>\n",
       "</table>\n",
       "</div>"
      ],
      "text/plain": [
       "   release_date           movie_title   bond_actor car_manufacturer  \\\n",
       "10  April, 1977  The Spy Who Loved Me  Roger Moore            Lotus   \n",
       "\n",
       "          income_usa       income_world  movie_budget film_length  imdb  \\\n",
       "10   $46,800,000.00    $185,400,000.00    $14,000.00     125 mins  <NA>   \n",
       "\n",
       "    rotten_tomatoes  martinis_consumed  bond_kills  \n",
       "10             <NA>                  1          31  "
      ]
     },
     "execution_count": 30,
     "metadata": {},
     "output_type": "execute_result"
    }
   ],
   "source": [
    "data.loc[data.isna().any(axis=\"columns\")]"
   ]
  },
  {
   "cell_type": "code",
   "execution_count": 33,
   "metadata": {},
   "outputs": [
    {
     "data": {
      "text/html": [
       "<div>\n",
       "<style scoped>\n",
       "    .dataframe tbody tr th:only-of-type {\n",
       "        vertical-align: middle;\n",
       "    }\n",
       "\n",
       "    .dataframe tbody tr th {\n",
       "        vertical-align: top;\n",
       "    }\n",
       "\n",
       "    .dataframe thead th {\n",
       "        text-align: right;\n",
       "    }\n",
       "</style>\n",
       "<table border=\"1\" class=\"dataframe\">\n",
       "  <thead>\n",
       "    <tr style=\"text-align: right;\">\n",
       "      <th></th>\n",
       "      <th>imdb</th>\n",
       "      <th>rotten_tomatoes</th>\n",
       "    </tr>\n",
       "  </thead>\n",
       "  <tbody>\n",
       "    <tr>\n",
       "      <th>10</th>\n",
       "      <td>7.1</td>\n",
       "      <td>6.8</td>\n",
       "    </tr>\n",
       "  </tbody>\n",
       "</table>\n",
       "</div>"
      ],
      "text/plain": [
       "    imdb  rotten_tomatoes\n",
       "10   7.1              6.8"
      ]
     },
     "execution_count": 33,
     "metadata": {},
     "output_type": "execute_result"
    }
   ],
   "source": [
    "foo = pd.DataFrame({\"imdb\": {10: 7.1}, \"rotten_tomatoes\": {10: 6.8}})\n",
    "foo"
   ]
  },
  {
   "cell_type": "code",
   "execution_count": 35,
   "metadata": {},
   "outputs": [
    {
     "data": {
      "text/html": [
       "<div>\n",
       "<style scoped>\n",
       "    .dataframe tbody tr th:only-of-type {\n",
       "        vertical-align: middle;\n",
       "    }\n",
       "\n",
       "    .dataframe tbody tr th {\n",
       "        vertical-align: top;\n",
       "    }\n",
       "\n",
       "    .dataframe thead th {\n",
       "        text-align: right;\n",
       "    }\n",
       "</style>\n",
       "<table border=\"1\" class=\"dataframe\">\n",
       "  <thead>\n",
       "    <tr style=\"text-align: right;\">\n",
       "      <th></th>\n",
       "      <th>bond_actor</th>\n",
       "      <th>bond_kills</th>\n",
       "      <th>car_manufacturer</th>\n",
       "      <th>film_length</th>\n",
       "      <th>imdb</th>\n",
       "      <th>income_usa</th>\n",
       "      <th>income_world</th>\n",
       "      <th>martinis_consumed</th>\n",
       "      <th>movie_budget</th>\n",
       "      <th>movie_title</th>\n",
       "      <th>release_date</th>\n",
       "      <th>rotten_tomatoes</th>\n",
       "    </tr>\n",
       "  </thead>\n",
       "  <tbody>\n",
       "  </tbody>\n",
       "</table>\n",
       "</div>"
      ],
      "text/plain": [
       "Empty DataFrame\n",
       "Columns: [bond_actor, bond_kills, car_manufacturer, film_length, imdb, income_usa, income_world, martinis_consumed, movie_budget, movie_title, release_date, rotten_tomatoes]\n",
       "Index: []"
      ]
     },
     "execution_count": 35,
     "metadata": {},
     "output_type": "execute_result"
    }
   ],
   "source": [
    "data = james_bond_data.rename(columns=new_column_names).combine_first(pd.DataFrame({\"imdb\": {10: 7.1}, \"rotten_tomatoes\": {10: 6.8}}))\n",
    "data.loc[data.isna().any(axis=\"columns\")]"
   ]
  },
  {
   "cell_type": "markdown",
   "metadata": {},
   "source": [
    "# Correcting Invalid Data Types"
   ]
  },
  {
   "cell_type": "code",
   "execution_count": 36,
   "metadata": {},
   "outputs": [
    {
     "data": {
      "text/html": [
       "<div>\n",
       "<style scoped>\n",
       "    .dataframe tbody tr th:only-of-type {\n",
       "        vertical-align: middle;\n",
       "    }\n",
       "\n",
       "    .dataframe tbody tr th {\n",
       "        vertical-align: top;\n",
       "    }\n",
       "\n",
       "    .dataframe thead th {\n",
       "        text-align: right;\n",
       "    }\n",
       "</style>\n",
       "<table border=\"1\" class=\"dataframe\">\n",
       "  <thead>\n",
       "    <tr style=\"text-align: right;\">\n",
       "      <th></th>\n",
       "      <th>income_usa</th>\n",
       "      <th>income_world</th>\n",
       "      <th>movie_budget</th>\n",
       "      <th>film_length</th>\n",
       "    </tr>\n",
       "  </thead>\n",
       "  <tbody>\n",
       "    <tr>\n",
       "      <th>0</th>\n",
       "      <td>$16,067,035.00</td>\n",
       "      <td>$59,567,035.00</td>\n",
       "      <td>$1,000.00</td>\n",
       "      <td>110 mins</td>\n",
       "    </tr>\n",
       "    <tr>\n",
       "      <th>1</th>\n",
       "      <td>$24,800,000.00</td>\n",
       "      <td>$78,900,000.00</td>\n",
       "      <td>$2,000.00</td>\n",
       "      <td>115 mins</td>\n",
       "    </tr>\n",
       "    <tr>\n",
       "      <th>2</th>\n",
       "      <td>$51,100,000.00</td>\n",
       "      <td>$124,900,000.00</td>\n",
       "      <td>$3,000.00</td>\n",
       "      <td>110 mins</td>\n",
       "    </tr>\n",
       "    <tr>\n",
       "      <th>3</th>\n",
       "      <td>$63,600,000.00</td>\n",
       "      <td>$141,200,000.00</td>\n",
       "      <td>$9,000.00</td>\n",
       "      <td>130 mins</td>\n",
       "    </tr>\n",
       "    <tr>\n",
       "      <th>4</th>\n",
       "      <td>$43,100,000.00</td>\n",
       "      <td>$111,600,000.00</td>\n",
       "      <td>$9,500.00</td>\n",
       "      <td>117 mins</td>\n",
       "    </tr>\n",
       "  </tbody>\n",
       "</table>\n",
       "</div>"
      ],
      "text/plain": [
       "         income_usa       income_world movie_budget film_length\n",
       "0   $16,067,035.00     $59,567,035.00    $1,000.00     110 mins\n",
       "1   $24,800,000.00     $78,900,000.00    $2,000.00     115 mins\n",
       "2   $51,100,000.00    $124,900,000.00    $3,000.00     110 mins\n",
       "3   $63,600,000.00    $141,200,000.00    $9,000.00     130 mins\n",
       "4   $43,100,000.00    $111,600,000.00    $9,500.00     117 mins"
      ]
     },
     "execution_count": 36,
     "metadata": {},
     "output_type": "execute_result"
    }
   ],
   "source": [
    "# remove $ and , in financial related columns \n",
    "data[[\"income_usa\", \"income_world\", \"movie_budget\", \"film_length\"]].head()"
   ]
  },
  {
   "cell_type": "code",
   "execution_count": null,
   "metadata": {},
   "outputs": [],
   "source": [
    "#foo1 = data[\"income_usa\"].replace(\"[$,]\", \"\", regex=True).astype(\"Float64\")\n",
    "#foo2 = data[\"income_world\"].replace(\"[$,]\", \"\", regex=True).astype(\"Float64\")\n",
    "foo3 = data[\"movie_budget\"].replace(\"[$,]\", \"\", regex=True).astype(\"Float64\")\n",
    "foo3"
   ]
  },
  {
   "cell_type": "code",
   "execution_count": 49,
   "metadata": {},
   "outputs": [],
   "source": [
    "data = (james_bond_data\n",
    "        .rename(columns=new_column_names)\n",
    "        .combine_first(pd.DataFrame({\"imdb\": {10: 7.1}, \"rotten_tomatoes\": {10: 6.8}}))\n",
    "        .assign(\n",
    "            income_usa = lambda data: (data[\"income_usa\"].replace(\"[$,]\", \"\", regex=True)).astype(\"Float64\"),\n",
    "            income_world = lambda data: (data[\"income_world\"].replace(\"[$,]\", \"\", regex=True)).astype(\"Float64\"),\n",
    "            movie_budget = lambda data: (data[\"movie_budget\"].replace(\"[$,]\", \"\", regex=True)).astype(\"Float64\")))"
   ]
  },
  {
   "cell_type": "code",
   "execution_count": 50,
   "metadata": {},
   "outputs": [
    {
     "name": "stdout",
     "output_type": "stream",
     "text": [
      "<class 'pandas.core.frame.DataFrame'>\n",
      "Index: 27 entries, 0 to 26\n",
      "Data columns (total 12 columns):\n",
      " #   Column             Non-Null Count  Dtype  \n",
      "---  ------             --------------  -----  \n",
      " 0   bond_actor         27 non-null     string \n",
      " 1   bond_kills         27 non-null     Int64  \n",
      " 2   car_manufacturer   27 non-null     string \n",
      " 3   film_length        27 non-null     string \n",
      " 4   imdb               27 non-null     Float64\n",
      " 5   income_usa         27 non-null     Float64\n",
      " 6   income_world       27 non-null     Float64\n",
      " 7   martinis_consumed  27 non-null     Int64  \n",
      " 8   movie_budget       27 non-null     Float64\n",
      " 9   movie_title        27 non-null     string \n",
      " 10  release_date       27 non-null     string \n",
      " 11  rotten_tomatoes    27 non-null     Float64\n",
      "dtypes: Float64(5), Int64(2), string(5)\n",
      "memory usage: 2.9 KB\n"
     ]
    }
   ],
   "source": [
    "data.info()"
   ]
  },
  {
   "cell_type": "code",
   "execution_count": 51,
   "metadata": {},
   "outputs": [
    {
     "data": {
      "text/plain": [
       "0    110 mins\n",
       "1    115 mins\n",
       "2    110 mins\n",
       "Name: film_length, dtype: string"
      ]
     },
     "execution_count": 51,
     "metadata": {},
     "output_type": "execute_result"
    }
   ],
   "source": [
    "data[\"film_length\"].head(3)"
   ]
  },
  {
   "cell_type": "code",
   "execution_count": 52,
   "metadata": {},
   "outputs": [
    {
     "data": {
      "text/plain": [
       "0    110\n",
       "1    115\n",
       "2    110\n",
       "Name: film_length, dtype: Int64"
      ]
     },
     "execution_count": 52,
     "metadata": {},
     "output_type": "execute_result"
    }
   ],
   "source": [
    "# remove mins from film_length\n",
    "foo = data[\"film_length\"].str.removesuffix(\"mins\").astype(\"Int64\")\n",
    "foo.head(3)"
   ]
  },
  {
   "cell_type": "code",
   "execution_count": 53,
   "metadata": {},
   "outputs": [],
   "source": [
    "data = (james_bond_data\n",
    "        .rename(columns=new_column_names)\n",
    "        .combine_first(pd.DataFrame({\"imdb\": {10: 7.1}, \"rotten_tomatoes\": {10: 6.8}}))\n",
    "        .assign(\n",
    "            income_usa = lambda data: (data[\"income_usa\"].replace(\"[$,]\", \"\", regex=True)).astype(\"Float64\"),\n",
    "            income_world = lambda data: (data[\"income_world\"].replace(\"[$,]\", \"\", regex=True)).astype(\"Float64\"),\n",
    "            movie_budget = lambda data: (data[\"movie_budget\"].replace(\"[$,]\", \"\", regex=True)).astype(\"Float64\"),\n",
    "            film_length = lambda data: (data[\"film_length\"].str.removesuffix(\"mins\").astype(\"Int64\"))))"
   ]
  },
  {
   "cell_type": "code",
   "execution_count": 56,
   "metadata": {},
   "outputs": [
    {
     "data": {
      "text/plain": [
       "0      June, 1962\n",
       "1    August, 1963\n",
       "2       May, 1964\n",
       "Name: release_date, dtype: string"
      ]
     },
     "execution_count": 56,
     "metadata": {},
     "output_type": "execute_result"
    }
   ],
   "source": [
    "data['release_date'].head(3)"
   ]
  },
  {
   "cell_type": "code",
   "execution_count": 60,
   "metadata": {},
   "outputs": [
    {
     "data": {
      "text/plain": [
       "0    1962\n",
       "1    1963\n",
       "2    1964\n",
       "Name: release_date, dtype: Int64"
      ]
     },
     "execution_count": 60,
     "metadata": {},
     "output_type": "execute_result"
    }
   ],
   "source": [
    "# adjust release date as datatime type and add a new release_year column\n",
    "#foo1 = pd.to_datetime(data[\"release_date\"], format=\"%B, %Y\")\n",
    "foo2 = pd.to_datetime(data[\"release_date\"], format=\"%B, %Y\").dt.year.astype(\"Int64\")\n",
    "foo2.head(3)"
   ]
  },
  {
   "cell_type": "code",
   "execution_count": 61,
   "metadata": {},
   "outputs": [],
   "source": [
    "data = (james_bond_data\n",
    "        .rename(columns=new_column_names)\n",
    "        .combine_first(pd.DataFrame({\"imdb\": {10: 7.1}, \"rotten_tomatoes\": {10: 6.8}}))\n",
    "        .assign(\n",
    "            income_usa = lambda data: (data[\"income_usa\"].replace(\"[$,]\", \"\", regex=True)).astype(\"Float64\"),\n",
    "            income_world = lambda data: (data[\"income_world\"].replace(\"[$,]\", \"\", regex=True)).astype(\"Float64\"),\n",
    "            movie_budget = lambda data: (data[\"movie_budget\"].replace(\"[$,]\", \"\", regex=True)).astype(\"Float64\"),\n",
    "            film_length = lambda data: (data[\"film_length\"].str.removesuffix(\"mins\").astype(\"Int64\")),\n",
    "            release_date = lambda data: (pd.to_datetime(data[\"release_date\"], format=\"%B, %Y\")),\n",
    "            release_year = lambda data: (pd.to_datetime(data[\"release_date\"], format=\"%B, %Y\").dt.year.astype(\"Int64\"))))"
   ]
  },
  {
   "cell_type": "code",
   "execution_count": null,
   "metadata": {},
   "outputs": [],
   "source": [
    "data.info()"
   ]
  },
  {
   "cell_type": "markdown",
   "metadata": {},
   "source": [
    "# Fixing Inconsistencies in Data"
   ]
  },
  {
   "cell_type": "code",
   "execution_count": null,
   "metadata": {},
   "outputs": [],
   "source": [
    "# movie_budget * 1,000 to make amount align\n",
    "foo = data[\"movie_budget\"].replace(\"[$,]\", \"\", regex=True).astype(\"Float64\")*1000\n",
    "foo.head(3)"
   ]
  },
  {
   "cell_type": "code",
   "execution_count": 66,
   "metadata": {},
   "outputs": [],
   "source": [
    "data = (james_bond_data\n",
    "        .rename(columns=new_column_names)\n",
    "        .combine_first(pd.DataFrame({\"imdb\": {10: 7.1}, \"rotten_tomatoes\": {10: 6.8}}))\n",
    "        .assign(\n",
    "            income_usa = lambda data: (data[\"income_usa\"].replace(\"[$,]\", \"\", regex=True)).astype(\"Float64\"),\n",
    "            income_world = lambda data: (data[\"income_world\"].replace(\"[$,]\", \"\", regex=True)).astype(\"Float64\"),\n",
    "            movie_budget = lambda data: (data[\"movie_budget\"].replace(\"[$,]\", \"\", regex=True)).astype(\"Float64\") * 1000,\n",
    "            film_length = lambda data: (data[\"film_length\"].str.removesuffix(\"mins\").astype(\"Int64\")),\n",
    "            release_date = lambda data: (pd.to_datetime(data[\"release_date\"], format=\"%B, %Y\")),\n",
    "            release_year = lambda data: (pd.to_datetime(data[\"release_date\"], format=\"%B, %Y\").dt.year.astype(\"Int64\"))))"
   ]
  },
  {
   "cell_type": "code",
   "execution_count": 69,
   "metadata": {},
   "outputs": [
    {
     "data": {
      "text/plain": [
       "bond_actor\n",
       "Roger Moore       7\n",
       "Sean Connery      5\n",
       "Daniel Craig      5\n",
       "Pierce Brosnan    4\n",
       "Timothy Dalton    3\n",
       "George Lazenby    1\n",
       "Shawn Connery     1\n",
       "Roger MOORE       1\n",
       "Name: count, dtype: Int64"
      ]
     },
     "execution_count": 69,
     "metadata": {},
     "output_type": "execute_result"
    }
   ],
   "source": [
    "# Check spelling errors\n",
    "data[\"bond_actor\"].value_counts()"
   ]
  },
  {
   "cell_type": "code",
   "execution_count": null,
   "metadata": {},
   "outputs": [],
   "source": [
    "foo = (data[\"bond_actor\"] \n",
    ".str.replace(\"Shawn\", \"Sean\") \n",
    ".str.replace(\"MOORE\", \"Moore\"))"
   ]
  },
  {
   "cell_type": "code",
   "execution_count": 24,
   "metadata": {},
   "outputs": [],
   "source": [
    "data = (james_bond_data\n",
    "        .rename(columns=new_column_names)\n",
    "        .combine_first(pd.DataFrame({\"imdb\": {10: 7.1}, \"rotten_tomatoes\": {10: 6.8}}))\n",
    "        .assign(\n",
    "            income_usa = lambda data: (data[\"income_usa\"].replace(\"[$,]\", \"\", regex=True)).astype(\"Float64\"),\n",
    "            income_world = lambda data: (data[\"income_world\"].replace(\"[$,]\", \"\", regex=True)).astype(\"Float64\"),\n",
    "            movie_budget = lambda data: (data[\"movie_budget\"].replace(\"[$,]\", \"\", regex=True)).astype(\"Float64\") * 1000,\n",
    "            film_length = lambda data: (data[\"film_length\"].str.removesuffix(\"mins\").astype(\"Int64\")),\n",
    "            release_date = lambda data: (pd.to_datetime(data[\"release_date\"], format=\"%B, %Y\")),\n",
    "            release_year = lambda data: (pd.to_datetime(data[\"release_date\"], format=\"%B, %Y\").dt.year.astype(\"Int64\")),\n",
    "            bond_actor = lambda data: (data[\"bond_actor\"].str.replace(\"Shawn\", \"Sean\").str.replace(\"MOORE\", \"Moore\"))))"
   ]
  },
  {
   "cell_type": "code",
   "execution_count": null,
   "metadata": {},
   "outputs": [],
   "source": [
    "data['car_manufacturer'].value_counts()"
   ]
  },
  {
   "cell_type": "code",
   "execution_count": 74,
   "metadata": {},
   "outputs": [],
   "source": [
    "data = (james_bond_data\n",
    "        .rename(columns=new_column_names)\n",
    "        .combine_first(pd.DataFrame({\"imdb\": {10: 7.1}, \"rotten_tomatoes\": {10: 6.8}}))\n",
    "        .assign(\n",
    "            income_usa = lambda data: (data[\"income_usa\"].replace(\"[$,]\", \"\", regex=True)).astype(\"Float64\"),\n",
    "            income_world = lambda data: (data[\"income_world\"].replace(\"[$,]\", \"\", regex=True)).astype(\"Float64\"),\n",
    "            movie_budget = lambda data: (data[\"movie_budget\"].replace(\"[$,]\", \"\", regex=True)).astype(\"Float64\") * 1000,\n",
    "            film_length = lambda data: (data[\"film_length\"].str.removesuffix(\"mins\").astype(\"Int64\")),\n",
    "            release_date = lambda data: (pd.to_datetime(data[\"release_date\"], format=\"%B, %Y\")),\n",
    "            release_year = lambda data: (pd.to_datetime(data[\"release_date\"], format=\"%B, %Y\").dt.year.astype(\"Int64\")),\n",
    "            bond_actor = lambda data: (data[\"bond_actor\"].str.replace(\"Shawn\", \"Sean\").str.replace(\"MOORE\", \"Moore\")),\n",
    "            car_manufacturer = lambda data:(data[\"car_manufacturer\"].str.replace(\"Astin\",\"Aston\"))))"
   ]
  },
  {
   "cell_type": "code",
   "execution_count": null,
   "metadata": {},
   "outputs": [],
   "source": [
    "data['car_manufacturer'].value_counts()"
   ]
  },
  {
   "cell_type": "code",
   "execution_count": 28,
   "metadata": {},
   "outputs": [
    {
     "data": {
      "text/html": [
       "<div>\n",
       "<style scoped>\n",
       "    .dataframe tbody tr th:only-of-type {\n",
       "        vertical-align: middle;\n",
       "    }\n",
       "\n",
       "    .dataframe tbody tr th {\n",
       "        vertical-align: top;\n",
       "    }\n",
       "\n",
       "    .dataframe thead th {\n",
       "        text-align: right;\n",
       "    }\n",
       "</style>\n",
       "<table border=\"1\" class=\"dataframe\">\n",
       "  <thead>\n",
       "    <tr style=\"text-align: right;\">\n",
       "      <th></th>\n",
       "      <th>film_length</th>\n",
       "      <th>martinis_consumed</th>\n",
       "    </tr>\n",
       "  </thead>\n",
       "  <tbody>\n",
       "    <tr>\n",
       "      <th>count</th>\n",
       "      <td>27.0</td>\n",
       "      <td>27.0</td>\n",
       "    </tr>\n",
       "    <tr>\n",
       "      <th>mean</th>\n",
       "      <td>168.222222</td>\n",
       "      <td>0.62963</td>\n",
       "    </tr>\n",
       "    <tr>\n",
       "      <th>std</th>\n",
       "      <td>206.572083</td>\n",
       "      <td>1.547905</td>\n",
       "    </tr>\n",
       "    <tr>\n",
       "      <th>min</th>\n",
       "      <td>106.0</td>\n",
       "      <td>-6.0</td>\n",
       "    </tr>\n",
       "    <tr>\n",
       "      <th>25%</th>\n",
       "      <td>123.0</td>\n",
       "      <td>0.0</td>\n",
       "    </tr>\n",
       "    <tr>\n",
       "      <th>50%</th>\n",
       "      <td>130.0</td>\n",
       "      <td>1.0</td>\n",
       "    </tr>\n",
       "    <tr>\n",
       "      <th>75%</th>\n",
       "      <td>133.0</td>\n",
       "      <td>1.0</td>\n",
       "    </tr>\n",
       "    <tr>\n",
       "      <th>max</th>\n",
       "      <td>1200.0</td>\n",
       "      <td>3.0</td>\n",
       "    </tr>\n",
       "  </tbody>\n",
       "</table>\n",
       "</div>"
      ],
      "text/plain": [
       "       film_length  martinis_consumed\n",
       "count         27.0               27.0\n",
       "mean    168.222222            0.62963\n",
       "std     206.572083           1.547905\n",
       "min          106.0               -6.0\n",
       "25%          123.0                0.0\n",
       "50%          130.0                1.0\n",
       "75%          133.0                1.0\n",
       "max         1200.0                3.0"
      ]
     },
     "execution_count": 28,
     "metadata": {},
     "output_type": "execute_result"
    }
   ],
   "source": [
    "# Checking for Invalid Outliers\n",
    "data[[\"film_length\", \"martinis_consumed\"]].describe()"
   ]
  },
  {
   "cell_type": "code",
   "execution_count": 76,
   "metadata": {},
   "outputs": [],
   "source": [
    "data = (james_bond_data\n",
    "        .rename(columns=new_column_names)\n",
    "        .combine_first(pd.DataFrame({\"imdb\": {10: 7.1}, \"rotten_tomatoes\": {10: 6.8}}))\n",
    "        .assign(\n",
    "            income_usa = lambda data: (data[\"income_usa\"].replace(\"[$,]\", \"\", regex=True)).astype(\"Float64\"),\n",
    "            income_world = lambda data: (data[\"income_world\"].replace(\"[$,]\", \"\", regex=True)).astype(\"Float64\"),\n",
    "            movie_budget = lambda data: (data[\"movie_budget\"].replace(\"[$,]\", \"\", regex=True)).astype(\"Float64\") * 1000,\n",
    "            film_length = lambda data: (data[\"film_length\"].str.removesuffix(\"mins\").astype(\"Int64\")).replace(1200, 120),\n",
    "            release_date = lambda data: (pd.to_datetime(data[\"release_date\"], format=\"%B, %Y\")),\n",
    "            release_year = lambda data: (pd.to_datetime(data[\"release_date\"], format=\"%B, %Y\").dt.year.astype(\"Int64\")),\n",
    "            bond_actor = lambda data: (data[\"bond_actor\"].str.replace(\"Shawn\", \"Sean\").str.replace(\"MOORE\", \"Moore\")),\n",
    "            car_manufacturer = lambda data:(data[\"car_manufacturer\"].str.replace(\"Astin\",\"Aston\")),\n",
    "            martinis_consumed = lambda data:(data[\"martinis_consumed\"].replace(-6, 6))))"
   ]
  },
  {
   "cell_type": "markdown",
   "metadata": {},
   "source": [
    "# Removing Duplicate Data"
   ]
  },
  {
   "cell_type": "code",
   "execution_count": null,
   "metadata": {},
   "outputs": [],
   "source": [
    "mask = data.duplicated(keep=False)\n",
    "mask"
   ]
  },
  {
   "cell_type": "code",
   "execution_count": 30,
   "metadata": {},
   "outputs": [
    {
     "data": {
      "text/html": [
       "<div>\n",
       "<style scoped>\n",
       "    .dataframe tbody tr th:only-of-type {\n",
       "        vertical-align: middle;\n",
       "    }\n",
       "\n",
       "    .dataframe tbody tr th {\n",
       "        vertical-align: top;\n",
       "    }\n",
       "\n",
       "    .dataframe thead th {\n",
       "        text-align: right;\n",
       "    }\n",
       "</style>\n",
       "<table border=\"1\" class=\"dataframe\">\n",
       "  <thead>\n",
       "    <tr style=\"text-align: right;\">\n",
       "      <th></th>\n",
       "      <th>bond_actor</th>\n",
       "      <th>bond_kills</th>\n",
       "      <th>car_manufacturer</th>\n",
       "      <th>film_length</th>\n",
       "      <th>imdb</th>\n",
       "      <th>income_usa</th>\n",
       "      <th>income_world</th>\n",
       "      <th>martinis_consumed</th>\n",
       "      <th>movie_budget</th>\n",
       "      <th>movie_title</th>\n",
       "      <th>release_date</th>\n",
       "      <th>rotten_tomatoes</th>\n",
       "      <th>release_year</th>\n",
       "    </tr>\n",
       "  </thead>\n",
       "  <tbody>\n",
       "    <tr>\n",
       "      <th>8</th>\n",
       "      <td>Roger Moore</td>\n",
       "      <td>1</td>\n",
       "      <td>AMC</td>\n",
       "      <td>125</td>\n",
       "      <td>6.7</td>\n",
       "      <td>21000000.0</td>\n",
       "      <td>97600000.0</td>\n",
       "      <td>0</td>\n",
       "      <td>7000000.0</td>\n",
       "      <td>The Man with the Golden Gun</td>\n",
       "      <td>1974-07-01</td>\n",
       "      <td>5.1</td>\n",
       "      <td>1974</td>\n",
       "    </tr>\n",
       "    <tr>\n",
       "      <th>9</th>\n",
       "      <td>Roger Moore</td>\n",
       "      <td>1</td>\n",
       "      <td>AMC</td>\n",
       "      <td>125</td>\n",
       "      <td>6.7</td>\n",
       "      <td>21000000.0</td>\n",
       "      <td>97600000.0</td>\n",
       "      <td>0</td>\n",
       "      <td>7000000.0</td>\n",
       "      <td>The Man with the Golden Gun</td>\n",
       "      <td>1974-07-01</td>\n",
       "      <td>5.1</td>\n",
       "      <td>1974</td>\n",
       "    </tr>\n",
       "    <tr>\n",
       "      <th>15</th>\n",
       "      <td>Timothy Dalton</td>\n",
       "      <td>13</td>\n",
       "      <td>Rolls Royce</td>\n",
       "      <td>130</td>\n",
       "      <td>6.7</td>\n",
       "      <td>51185000.0</td>\n",
       "      <td>191200000.0</td>\n",
       "      <td>2</td>\n",
       "      <td>40000000.0</td>\n",
       "      <td>The Living Daylights</td>\n",
       "      <td>1987-05-01</td>\n",
       "      <td>6.3</td>\n",
       "      <td>1987</td>\n",
       "    </tr>\n",
       "    <tr>\n",
       "      <th>16</th>\n",
       "      <td>Timothy Dalton</td>\n",
       "      <td>13</td>\n",
       "      <td>Rolls Royce</td>\n",
       "      <td>130</td>\n",
       "      <td>6.7</td>\n",
       "      <td>51185000.0</td>\n",
       "      <td>191200000.0</td>\n",
       "      <td>2</td>\n",
       "      <td>40000000.0</td>\n",
       "      <td>The Living Daylights</td>\n",
       "      <td>1987-05-01</td>\n",
       "      <td>6.3</td>\n",
       "      <td>1987</td>\n",
       "    </tr>\n",
       "  </tbody>\n",
       "</table>\n",
       "</div>"
      ],
      "text/plain": [
       "        bond_actor  bond_kills car_manufacturer  film_length  imdb  \\\n",
       "8      Roger Moore           1              AMC          125   6.7   \n",
       "9      Roger Moore           1              AMC          125   6.7   \n",
       "15  Timothy Dalton          13      Rolls Royce          130   6.7   \n",
       "16  Timothy Dalton          13      Rolls Royce          130   6.7   \n",
       "\n",
       "    income_usa  income_world  martinis_consumed  movie_budget  \\\n",
       "8   21000000.0    97600000.0                  0     7000000.0   \n",
       "9   21000000.0    97600000.0                  0     7000000.0   \n",
       "15  51185000.0   191200000.0                  2    40000000.0   \n",
       "16  51185000.0   191200000.0                  2    40000000.0   \n",
       "\n",
       "                    movie_title release_date  rotten_tomatoes  release_year  \n",
       "8   The Man with the Golden Gun   1974-07-01              5.1          1974  \n",
       "9   The Man with the Golden Gun   1974-07-01              5.1          1974  \n",
       "15         The Living Daylights   1987-05-01              6.3          1987  \n",
       "16         The Living Daylights   1987-05-01              6.3          1987  "
      ]
     },
     "execution_count": 30,
     "metadata": {},
     "output_type": "execute_result"
    }
   ],
   "source": [
    "data.loc[data.duplicated(keep=False)]"
   ]
  },
  {
   "cell_type": "code",
   "execution_count": 78,
   "metadata": {},
   "outputs": [],
   "source": [
    "data = (james_bond_data\n",
    "        .rename(columns=new_column_names)\n",
    "        .combine_first(pd.DataFrame({\"imdb\": {10: 7.1}, \"rotten_tomatoes\": {10: 6.8}}))\n",
    "        .assign(\n",
    "            income_usa = lambda data: (data[\"income_usa\"].replace(\"[$,]\", \"\", regex=True)).astype(\"Float64\"),\n",
    "            income_world = lambda data: (data[\"income_world\"].replace(\"[$,]\", \"\", regex=True)).astype(\"Float64\"),\n",
    "            movie_budget = lambda data: (data[\"movie_budget\"].replace(\"[$,]\", \"\", regex=True)).astype(\"Float64\") * 1000,\n",
    "            film_length = lambda data: (data[\"film_length\"].str.removesuffix(\"mins\").astype(\"Int64\")).replace(1200, 120),\n",
    "            release_date = lambda data: (pd.to_datetime(data[\"release_date\"], format=\"%B, %Y\")),\n",
    "            release_year = lambda data: (pd.to_datetime(data[\"release_date\"], format=\"%B, %Y\").dt.year.astype(\"Int64\")),\n",
    "            bond_actor = lambda data: (data[\"bond_actor\"].str.replace(\"Shawn\", \"Sean\").str.replace(\"MOORE\", \"Moore\")),\n",
    "            car_manufacturer = lambda data:(data[\"car_manufacturer\"].str.replace(\"Astin\",\"Aston\")),\n",
    "            martinis_consumed = lambda data:(data[\"martinis_consumed\"].replace(-6, 6)))\n",
    "        .drop_duplicates(ignore_index=True))"
   ]
  },
  {
   "cell_type": "markdown",
   "metadata": {},
   "source": [
    "# Storing Your Cleansed Data"
   ]
  },
  {
   "cell_type": "code",
   "execution_count": 79,
   "metadata": {},
   "outputs": [],
   "source": [
    "path_o = Path.cwd() / 'demo source files' / 'james_bond_data_cleansed.csv'\n",
    "data.to_csv(path_o, index=False)"
   ]
  },
  {
   "cell_type": "markdown",
   "metadata": {},
   "source": [
    "# Performing Data Analysis Using Python"
   ]
  },
  {
   "cell_type": "code",
   "execution_count": 80,
   "metadata": {},
   "outputs": [],
   "source": [
    "# Q1: Regression analysis to see if the Rotten Tomatoes and IMDb rating sets are related.\n",
    "import pandas as pd\n",
    "import matplotlib.pyplot as plt\n",
    "path_i = Path.cwd() / 'demo source files' / 'james_bond_data_cleansed.csv'\n",
    "data = pd.read_csv(path_i).convert_dtypes()"
   ]
  },
  {
   "cell_type": "code",
   "execution_count": 83,
   "metadata": {},
   "outputs": [
    {
     "name": "stdout",
     "output_type": "stream",
     "text": [
      "<class 'pandas.core.frame.DataFrame'>\n",
      "RangeIndex: 25 entries, 0 to 24\n",
      "Data columns (total 13 columns):\n",
      " #   Column             Non-Null Count  Dtype  \n",
      "---  ------             --------------  -----  \n",
      " 0   bond_actor         25 non-null     string \n",
      " 1   bond_kills         25 non-null     Int64  \n",
      " 2   car_manufacturer   25 non-null     string \n",
      " 3   film_length        25 non-null     Int64  \n",
      " 4   imdb               25 non-null     Float64\n",
      " 5   income_usa         25 non-null     Int64  \n",
      " 6   income_world       25 non-null     Int64  \n",
      " 7   martinis_consumed  25 non-null     Int64  \n",
      " 8   movie_budget       25 non-null     Int64  \n",
      " 9   movie_title        25 non-null     string \n",
      " 10  release_date       25 non-null     string \n",
      " 11  rotten_tomatoes    25 non-null     Float64\n",
      " 12  release_year       25 non-null     Int64  \n",
      "dtypes: Float64(2), Int64(7), string(4)\n",
      "memory usage: 2.9 KB\n"
     ]
    }
   ],
   "source": [
    "data.info()"
   ]
  },
  {
   "cell_type": "code",
   "execution_count": 84,
   "metadata": {},
   "outputs": [
    {
     "name": "stderr",
     "output_type": "stream",
     "text": [
      "/var/folders/bg/gh3cf23s4w97s3sbk0rc8jjc0000gn/T/ipykernel_48059/4234930976.py:6: UserWarning: FigureCanvasAgg is non-interactive, and thus cannot be shown\n",
      "  fig.show()\n"
     ]
    },
    {
     "data": {
      "image/png": "[encoded data removed]",
      "text/plain": [
       "<Figure size 640x480 with 1 Axes>"
      ]
     },
     "metadata": {},
     "output_type": "display_data"
    }
   ],
   "source": [
    "fig, ax = plt.subplots()\n",
    "ax.scatter(data[\"imdb\"], data[\"rotten_tomatoes\"])\n",
    "ax.set_title(\"Scatter Plot of Ratings\")\n",
    "ax.set_xlabel(\"Average IMDb Rating\")\n",
    "ax.set_ylabel(\"Average Rotten Tomatoes Rating\")\n",
    "fig.show()"
   ]
  },
  {
   "cell_type": "code",
   "execution_count": null,
   "metadata": {},
   "outputs": [],
   "source": [
    "from sklearn.linear_model import LinearRegression\n",
    "regr = LinearRegression()\n",
    "x = data.loc[:, [\"imdb\"]]\n",
    "y = data.loc[:, \"rotten_tomatoes\"]\n",
    "regr.fit(x, y)\n",
    "r_squared = f\"R-Squared: {regr.score(x, y):.2f}\"\n",
    "best_fit = f\"y = {regr.coef_[0]:.4f}x{regr.intercept_:+.4f}\"\n",
    "y_pred = regr.predict(x)\n",
    "print(r_squared)\n",
    "print(best_fit)\n",
    "print('y_pred: ',y_pred)\n",
    "print('x: ', x)\n"
   ]
  },
  {
   "cell_type": "code",
   "execution_count": 36,
   "metadata": {},
   "outputs": [
    {
     "name": "stderr",
     "output_type": "stream",
     "text": [
      "/var/folders/bg/gh3cf23s4w97s3sbk0rc8jjc0000gn/T/ipykernel_96900/3276877428.py:9: UserWarning: FigureCanvasAgg is non-interactive, and thus cannot be shown\n",
      "  fig.show()\n"
     ]
    },
    {
     "data": {
      "image/png": "[encoded data removed]",
      "text/plain": [
       "<Figure size 640x480 with 1 Axes>"
      ]
     },
     "metadata": {},
     "output_type": "display_data"
    }
   ],
   "source": [
    "fig, ax = plt.subplots()\n",
    "ax.scatter(x, y)\n",
    "ax.plot(x, y_pred, color=\"red\")\n",
    "ax.text(7.25, 5.5, r_squared, fontsize=10)\n",
    "ax.text(7.25, 7, best_fit, fontsize=10)\n",
    "ax.set_title(\"Scatter Plot of Ratings\")\n",
    "ax.set_xlabel(\"Average IMDb Rating\")\n",
    "ax.set_ylabel(\"Average Rotten Tomatoes Rating\")\n",
    "fig.show()"
   ]
  },
  {
   "cell_type": "code",
   "execution_count": 92,
   "metadata": {},
   "outputs": [
    {
     "name": "stdout",
     "output_type": "stream",
     "text": [
      "<class 'pandas.core.series.Series'>\n"
     ]
    },
    {
     "data": {
      "text/plain": [
       "(105.942, 114.143]    3\n",
       "(114.143, 122.286]    5\n",
       "(122.286, 130.429]    8\n",
       "(130.429, 138.571]    4\n",
       "(138.571, 146.714]    3\n",
       "(146.714, 154.857]    1\n",
       "(154.857, 163.0]      1\n",
       "Name: count, dtype: int64"
      ]
     },
     "execution_count": 92,
     "metadata": {},
     "output_type": "execute_result"
    }
   ],
   "source": [
    "# Q2: Are there any insights to be gleaned from analyzing the lengths of the movies?\n",
    "# prepare dataset\n",
    "length = data[\"film_length\"].value_counts(bins=7).sort_index()\n",
    "print(type(length))\n",
    "length"
   ]
  },
  {
   "cell_type": "code",
   "execution_count": 93,
   "metadata": {},
   "outputs": [
    {
     "name": "stderr",
     "output_type": "stream",
     "text": [
      "/var/folders/bg/gh3cf23s4w97s3sbk0rc8jjc0000gn/T/ipykernel_48059/867927589.py:8: UserWarning: FigureCanvasAgg is non-interactive, and thus cannot be shown\n",
      "  fig.show()\n"
     ]
    },
    {
     "data": {
      "image/png": "[encoded data removed]",
      "text/plain": [
       "<Figure size 640x480 with 1 Axes>"
      ]
     },
     "metadata": {},
     "output_type": "display_data"
    }
   ],
   "source": [
    "fig, ax = plt.subplots()\n",
    "length.plot.bar(\n",
    "     ax=ax,\n",
    "     title=\"Film Length Distribution\",\n",
    "     xlabel=\"Time Range (mins)\",\n",
    "     ylabel=\"Count\",\n",
    ")\n",
    "fig.show()"
   ]
  },
  {
   "cell_type": "code",
   "execution_count": 52,
   "metadata": {},
   "outputs": [
    {
     "data": {
      "text/plain": [
       "min     106.000000\n",
       "max     163.000000\n",
       "mean    128.280000\n",
       "std      12.940634\n",
       "Name: film_length, dtype: float64"
      ]
     },
     "execution_count": 52,
     "metadata": {},
     "output_type": "execute_result"
    }
   ],
   "source": [
    "data[\"film_length\"].agg([\"min\", \"max\", \"mean\", \"std\"])"
   ]
  },
  {
   "cell_type": "code",
   "execution_count": 95,
   "metadata": {},
   "outputs": [
    {
     "name": "stderr",
     "output_type": "stream",
     "text": [
      "/var/folders/bg/gh3cf23s4w97s3sbk0rc8jjc0000gn/T/ipykernel_48059/2975264417.py:8: UserWarning: FigureCanvasAgg is non-interactive, and thus cannot be shown\n",
      "  fig.show()\n"
     ]
    },
    {
     "data": {
      "image/png": "[encoded data removed]",
      "text/plain": [
       "<Figure size 640x480 with 1 Axes>"
      ]
     },
     "metadata": {},
     "output_type": "display_data"
    }
   ],
   "source": [
    "# Q3 Is there a relationship between the number of enemies James Bond has killed and \n",
    "# the user ratings of the movie in which they were killed?\n",
    "fig, ax = plt.subplots()\n",
    "ax.scatter(data[\"imdb\"], data[\"bond_kills\"])\n",
    "ax.set_title(\"Scatter Plot of Kills vs Ratings\")\n",
    "ax.set_xlabel(\"Average IMDb Rating\")\n",
    "ax.set_ylabel(\"Kills by Bond\")\n",
    "fig.show()"
   ]
  },
  {
   "cell_type": "markdown",
   "metadata": {},
   "source": [
    "# Communicating Your Findings"
   ]
  },
  {
   "cell_type": "code",
   "execution_count": null,
   "metadata": {},
   "outputs": [],
   "source": [
    "'''communicate your findings to other interested parties. \n",
    "After all, they’re not For Your Eyes Only. \n",
    "You could do this using a report or presentation. \n",
    "You’ll likely discuss your data sources and analysis methodology before stating your conclusions. \n",
    "Having the data and methodology behind your conclusions gives them authority. \n",
    "'''"
   ]
  },
  {
   "cell_type": "markdown",
   "metadata": {},
   "source": [
    "# Conclusion"
   ]
  },
  {
   "cell_type": "code",
   "execution_count": null,
   "metadata": {},
   "outputs": [],
   "source": [
    "# The importance of a data analysis workflow\n",
    "# The purpose of the main stages in a data analysis workflow\n",
    "# Common techniques for cleansing data\n",
    "# How to use some common data analysis methods to meet objectives\n",
    "# How to display the results of a data analysis graphically."
   ]
  },
  {
   "cell_type": "markdown",
   "metadata": {},
   "source": []
  }
 ],
 "metadata": {
  "kernelspec": {
   "display_name": "Python 3",
   "language": "python",
   "name": "python3"
  },
  "language_info": {
   "codemirror_mode": {
    "name": "ipython",
    "version": 3
   },
   "file_extension": ".py",
   "mimetype": "text/x-python",
   "name": "python",
   "nbconvert_exporter": "python",
   "pygments_lexer": "ipython3",
   "version": "3.12.5"
  }
 },
 "nbformat": 4,
 "nbformat_minor": 2
}
