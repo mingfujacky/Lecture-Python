{
 "cells": [
  {
   "cell_type": "markdown",
   "metadata": {},
   "source": [
    "# 串列運算"
   ]
  },
  {
   "cell_type": "markdown",
   "metadata": {},
   "source": [
    "- List (串列) 指有儲存順序的可修改容器型別\n",
    "- List 是以逗號區隔元素來表示, 外面加上中括號 [ ]\n",
    "- List 內的元素可以是不同資料型別 "
   ]
  },
  {
   "cell_type": "markdown",
   "metadata": {},
   "source": [
    "# 創建串列"
   ]
  },
  {
   "cell_type": "code",
   "execution_count": null,
   "metadata": {},
   "outputs": [],
   "source": [
    "foo = [1, 'a', 9.9, False, (1, 2), [1,2]]\n",
    "boo = []  # empty list\n",
    "foo[0] = 100  # change the first element\n",
    "zoo = list((1, 2, 3))  # [1, 2, 3]\n",
    "spam = list('python')  # ['p', 'y', 't', 'h', 'o', 'n']"
   ]
  },
  {
   "cell_type": "markdown",
   "metadata": {},
   "source": [
    "# 運算子"
   ]
  },
  {
   "cell_type": "markdown",
   "metadata": {},
   "source": [
    "- <p> +, * </p>\n",
    "- <p> >, >=, <, <=, ==, != </p>\n",
    "- <p> in, not in </p>"
   ]
  },
  {
   "cell_type": "code",
   "execution_count": 5,
   "metadata": {},
   "outputs": [],
   "source": [
    "foo = [1, 2] + [3, 4]  # [1, 2, 3, 4]\n",
    "boo = [1, 2] * 2  # [1, 2, 1, 2]\n",
    "bar = ['a', 'b'] > ['a', 'a']  # True\n",
    "spam = 1 in foo  # True"
   ]
  },
  {
   "cell_type": "code",
   "execution_count": null,
   "metadata": {},
   "outputs": [],
   "source": [
    "# 內建函式\n",
    "foo = [2, 5, 4, 9, 5]\n",
    "print(len(foo), min(foo), max(foo), sum(foo), sep='\\t')\n",
    "print(sorted(foo))  # [2, 4, 5, 5, 9]\n",
    "print(foo)  # [2, 5, 4, 9, 5]   # foo 不變\n"
   ]
  },
  {
   "cell_type": "code",
   "execution_count": null,
   "metadata": {},
   "outputs": [],
   "source": [
    "# Sort elements in list by key\n",
    "heros = ['Batman', 'Superman', 'Wonder person', 'Ace', 'Spiderman']\n",
    "sorted(heros, key=len)  # ['Batman', 'Superman', 'Spiderman', 'Wonder person']"
   ]
  },
  {
   "cell_type": "markdown",
   "metadata": {},
   "source": [
    "# 型別方法"
   ]
  },
  {
   "cell_type": "code",
   "execution_count": null,
   "metadata": {},
   "outputs": [],
   "source": [
    "spam = ['python', 'java', 'c++', 'java']\n",
    "print(spam.count('java'), spam.index('c++'), sep='\\t')  # 2\t2 \n",
    "\n",
    "# Add elements of list\n",
    "spam.append('r')  # 加元素在最後  ['python', 'java', 'c++', 'java', 'r']\n",
    "spam.insert(2, 'CSS')  # 加元素在index=2 ['python', 'java', 'CSS', 'c++', 'java', 'r']\n",
    "spam.extend(['php', 'ruby'])  # 加多個元素在最後 ['python', 'java', 'CSS', 'c++', 'java', 'r', 'php', 'ruby']\n",
    "\n",
    "# Delete elements into list \n",
    "spam.pop()    # 拿掉(出)最後一個元素 ruby        ['python', 'java', 'CSS', 'c++', 'java', 'r', 'php']\n",
    "spam.pop(3)   # 拿掉(出)index=3的元素 c++       ['python', 'java', 'CSS', 'java', 'r', 'php']\n",
    "spam.remove('java')  # 拿掉第一個 'java'        ['python', 'CSS', 'java', 'r', 'php']\n",
    "spam.clear()  # 清空list []"
   ]
  },
  {
   "cell_type": "code",
   "execution_count": null,
   "metadata": {},
   "outputs": [],
   "source": [
    "# Remove all designated elements in list\n",
    "spam = ['python', 'java', 'c++', 'java', 'java']\n",
    "while 'java' in spam:\n",
    "    spam.remove('java')\n",
    "print(spam)  "
   ]
  },
  {
   "cell_type": "code",
   "execution_count": null,
   "metadata": {},
   "outputs": [],
   "source": [
    "# Sort elements in list\n",
    "nums = [3, 1, 4, 1, 5, 9, 2, 6, 5]\n",
    "nums.sort()  # [1, 1, 2, 3, 4, 5, 5, 6, 9]\n",
    "print(nums)\n",
    "nums.sort(reverse=True)  # [9, 6, 5, 5, 4, 3, 2, 1, 1]\n",
    "print(nums)"
   ]
  },
  {
   "cell_type": "markdown",
   "metadata": {},
   "source": [
    "# 索引及切片"
   ]
  },
  {
   "cell_type": "code",
   "execution_count": null,
   "metadata": {},
   "outputs": [],
   "source": [
    "print([3, [3, ['5', 7], 9], 'a'][1][1][1]) # 7\n",
    "print([1, 2, 3, 'a', 'b', 'c'][1:5])  # [2, 3, 'a', 'b']"
   ]
  },
  {
   "cell_type": "code",
   "execution_count": 3,
   "metadata": {},
   "outputs": [
    {
     "name": "stdout",
     "output_type": "stream",
     "text": [
      "['1', '2', 'c', 'd', 'e']\n"
     ]
    }
   ],
   "source": [
    "chars = ['a', 'b', 'c', 'd', 'e']\n",
    "chars[0:2] = ['1', '2']\n",
    "print(chars)"
   ]
  },
  {
   "cell_type": "code",
   "execution_count": 4,
   "metadata": {},
   "outputs": [
    {
     "name": "stdout",
     "output_type": "stream",
     "text": [
      "['1', '2', '3', '4', 'c', 'd', 'e']\n"
     ]
    }
   ],
   "source": [
    "chars = ['a', 'b', 'c', 'd', 'e']\n",
    "chars[0:2] = ['1', '2', '3', '4']\n",
    "print(chars)"
   ]
  },
  {
   "cell_type": "code",
   "execution_count": 5,
   "metadata": {},
   "outputs": [
    {
     "name": "stdout",
     "output_type": "stream",
     "text": [
      "['1', 'c', 'd', 'e']\n"
     ]
    }
   ],
   "source": [
    "chars = ['a', 'b', 'c', 'd', 'e']\n",
    "chars[0:2] = ['1']\n",
    "print(chars)"
   ]
  },
  {
   "cell_type": "code",
   "execution_count": 10,
   "metadata": {},
   "outputs": [
    {
     "name": "stdout",
     "output_type": "stream",
     "text": [
      "[0, 2, 0, 4, 0]\n"
     ]
    }
   ],
   "source": [
    "nums = [1, 2, 3, 4, 5]\n",
    "nums[::2] = [0, 0, 0]\n",
    "print(nums)"
   ]
  },
  {
   "cell_type": "markdown",
   "metadata": {},
   "source": [
    "# 多層 (Nested) List"
   ]
  },
  {
   "cell_type": "code",
   "execution_count": null,
   "metadata": {},
   "outputs": [],
   "source": [
    "spam = [[1, 2, 3],\n",
    "        [4, 5, 6],\n",
    "        [7, 8, 9],\n",
    "        ]\n",
    "print(spam[1][1])  # 5  第二列第二行\n",
    "\n",
    "grades = [['math', 45, 67, 23],\n",
    "         ['english', 80, 70, 65],\n",
    "         ['chinese', 90, 87, 95],\n",
    "         ]\n",
    "\n",
    "print(grades[1][0].capitalize(), '的第三個學生分數是', grades[1][3])\n"
   ]
  },
  {
   "cell_type": "markdown",
   "metadata": {},
   "source": [
    "# Lab"
   ]
  },
  {
   "cell_type": "markdown",
   "metadata": {},
   "source": [
    "請依照逗號( ,) 來分隔出個別的 email address\n",
    "- emails = ‘cat@yahoo.com, dog@google.com, tiger@icloud.com’ \n",
    "- 字串型別有一個物件函式 split, 可以分割字串\n",
    "- Output 應該是一個list, 包括三個元素 ['cat@yahoo.com’, ‘dog@google.com’, ‘tiger@icloud.com’] \n",
    "- When you print(email_list[1]), you will get ‘dog@google.com’"
   ]
  },
  {
   "cell_type": "markdown",
   "metadata": {},
   "source": [
    "利用 list 實作一個stack (first-in-last-out, last-in-first-out)\n",
    "- 先放三個隨機的1~10的整數進去stack\n",
    "- 拿出一個整數\n",
    "- 再放兩個隨機整數進去\n",
    "\n",
    "![stack](https://cdn.programiz.com/sites/tutorial2program/files/stack.png)"
   ]
  },
  {
   "cell_type": "markdown",
   "metadata": {},
   "source": [
    "# W3 School"
   ]
  },
  {
   "cell_type": "markdown",
   "metadata": {},
   "source": [
    "- [Python Lists] https://www.w3schools.com/python/exercise.asp?x=xrcise_lists1<br>\n",
    "- [Access Lists] https://www.w3schools.com/python/exercise.asp?x=xrcise_lists_access1<br>\n",
    "- [Change Lists] https://www.w3schools.com/python/exercise.asp?x=xrcise_lists_change1 <br>\n",
    "- [Add List Items] https://www.w3schools.com/python/exercise.asp?x=xrcise_lists_add1 <br>\n",
    "- [Remove list Items] https://www.w3schools.com/python/exercise.asp?x=xrcise_lists_remove1<br>\n",
    "- [Loop Lists] https://www.w3schools.com/python/exercise.asp?x=xrcise_lists_loop1 <br>\n",
    "- [List Comprehension] https://www.w3schools.com/python/exercise.asp?x=xrcise_lists_comprehension1 <br>\n",
    "- [Sort Lists] https://www.w3schools.com/python/exercise.asp?x=xrcise_lists_sort1 <br>\n",
    "- [Copy Lists] https://www.w3schools.com/python/exercise.asp?x=xrcise_lists_copy1 <br>\n",
    "- [Join Lists] https://www.w3schools.com/python/exercise.asp?x=xrcise_lists_join1<br>\n",
    "- [Arrays] https://www.w3schools.com/python/exercise.asp?x=xrcise_arrays1"
   ]
  }
 ],
 "metadata": {
  "kernelspec": {
   "display_name": ".venv",
   "language": "python",
   "name": "python3"
  },
  "language_info": {
   "codemirror_mode": {
    "name": "ipython",
    "version": 3
   },
   "file_extension": ".py",
   "mimetype": "text/x-python",
   "name": "python",
   "nbconvert_exporter": "python",
   "pygments_lexer": "ipython3",
   "version": "3.13.1"
  }
 },
 "nbformat": 4,
 "nbformat_minor": 2
}
