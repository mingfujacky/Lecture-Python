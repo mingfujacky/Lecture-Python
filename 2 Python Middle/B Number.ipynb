{
 "cells": [
  {
   "cell_type": "markdown",
   "metadata": {},
   "source": [
    "# 數值運算\n",
    "- 整數\n",
    "- 浮點數\n",
    "- 複數"
   ]
  },
  {
   "cell_type": "markdown",
   "metadata": {},
   "source": [
    "## 列印數值"
   ]
  },
  {
   "cell_type": "code",
   "execution_count": null,
   "metadata": {},
   "outputs": [],
   "source": [
    "print(1, 3.14, 8+9j)  # 列印多個數值\n",
    "print(1 + 2 + 3)  # 數值相加"
   ]
  },
  {
   "cell_type": "markdown",
   "metadata": {},
   "source": [
    "## 算數運算子(arithmetic operator)\n",
    "- **+** , - , * , /<br>\n",
    "- // (整數除法),  % (餘數)**<br>\n",
    "- ** (次方)<br>\n",
    "- ***執行順序***<br>\n",
    "\n",
    "|優先級|\t運算子|\t說明|\t結合性\n",
    "|-----|---------|----|-------\n",
    "1|\t()|\t圓括號，改變優先順序或函式調用|\t左至右\n",
    "2|\t**|\t指數（次方）\t|右至左\n",
    "3|\t+、-（一元）|\t正號、負號\t|右至左\n",
    "4|\t*、/、//、%\t|乘、除、整數除法、取餘數\t|左至右\n",
    "5|\t+、-（二元）|\t加法、減法\t|左至右\n",
    "\n",
    "- **>**, >=, <, <=, ==, !="
   ]
  },
  {
   "cell_type": "code",
   "execution_count": null,
   "metadata": {},
   "outputs": [],
   "source": [
    "print(2 + 3 * 5**2)  # low readability\n",
    "print(2 + (3 * (5**2)))  # high readability\n",
    "print(10*-2+4)  # low readability\n",
    "print(10*(-2+4))\n",
    "print((10*-2)+4)\n",
    "print(10 * (-2) + 4)"
   ]
  },
  {
   "cell_type": "markdown",
   "metadata": {},
   "source": [
    "## 數值內建函式(built-in function)\n",
    "***function(number)***\n",
    "- round(): 四捨五入\n",
    "- abs(): 絕對值\n",
    "- int(): 轉換型別為整數\n",
    "- float(): 轉換型別為浮點數"
   ]
  },
  {
   "cell_type": "markdown",
   "metadata": {},
   "source": [
    "# Lab:\n",
    "1. 了解數值內建函式 divmode() 的使用方式\n",
    "2. 了解數值內建函式 max() 的使用方式\n",
    "3. 了解數值內建函式 sum() 的使用方式\n",
    "4. 了解數值內建函式 pow() 的使用方式\n",
    "5. OJ#1847\n",
    "6. OJ#1848"
   ]
  }
 ],
 "metadata": {
  "kernelspec": {
   "display_name": ".venv",
   "language": "python",
   "name": "python3"
  },
  "language_info": {
   "codemirror_mode": {
    "name": "ipython",
    "version": 3
   },
   "file_extension": ".py",
   "mimetype": "text/x-python",
   "name": "python",
   "nbconvert_exporter": "python",
   "pygments_lexer": "ipython3",
   "version": "3.13.0"
  }
 },
 "nbformat": 4,
 "nbformat_minor": 2
}
