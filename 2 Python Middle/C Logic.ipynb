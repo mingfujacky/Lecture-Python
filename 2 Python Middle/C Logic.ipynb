{
 "cells": [
  {
   "cell_type": "markdown",
   "metadata": {},
   "source": [
    "# 邏輯運算\n",
    "- True / False\n",
    "- <p>>, >=, <, <=, ==, !=</p>\n",
    "- and(&), or(|), not"
   ]
  },
  {
   "cell_type": "markdown",
   "metadata": {},
   "source": [
    "# 布林值 (boolean)\n",
    "True or False "
   ]
  },
  {
   "cell_type": "code",
   "execution_count": null,
   "metadata": {},
   "outputs": [],
   "source": [
    "print(2 > 1)\n",
    "print('x' in 'banana')\n",
    "# 空空的東西都是False\n",
    "print(bool(0))\n",
    "print(bool(''))\n",
    "print(bool(0.0))\n",
    "print(bool([]))\n",
    "print(bool('False'))"
   ]
  },
  {
   "cell_type": "markdown",
   "metadata": {},
   "source": [
    "# 比較運算子(comparison operator)\n",
    "- <p> >, >= </p>\n",
    "- <p> <, <= </p>\n",
    "- <p> ==, != </p>"
   ]
  },
  {
   "cell_type": "markdown",
   "metadata": {},
   "source": [
    "# 邏輯運算子 (logical operator)\n",
    "- <p>and, & </p>\n",
    "- <p> or, | </p>\n",
    "- <p>not</p> <br>\n",
    "- 優先順序<br>\n",
    "  - not 運算符的優先級最高，會首先計算。\n",
    "  - and 運算符的優先級次之，會在 not 運算符之後計算。\n",
    "  - or 運算符的優先級最低，會在 not 和 and 運算符之後計算。  \n",
    "- and operator\n",
    "\n",
    "|p|\tq|\tp and q\n",
    "|-----|---------|----\n",
    "|T|T|T\n",
    "|T|F|F\n",
    "|F|T|F\n",
    "|F|F|F\n",
    "\n",
    "- or operator\n",
    "\n",
    "|p|\tq|\tp or q\n",
    "|-----|---------|----\n",
    "|T|T|T\n",
    "|T|F|T\n",
    "|F|T|T\n",
    "|F|F|F \n",
    "\n",
    "- not operator\n",
    "\n",
    "|p|\tnot p\n",
    "|-----|---\n",
    "|T|F\n",
    "|F|T "
   ]
  },
  {
   "cell_type": "code",
   "execution_count": null,
   "metadata": {},
   "outputs": [],
   "source": [
    "print((2 > 1) and (3 == 0))\n",
    "print((2 > 1) or  (3 == 0))\n",
    "print(not(3 >= 2))"
   ]
  },
  {
   "cell_type": "markdown",
   "metadata": {},
   "source": [
    "# Lab"
   ]
  },
  {
   "cell_type": "markdown",
   "metadata": {},
   "source": [
    "1. print(8!=2 or 4>5 and 1<0)，輸出為(a)True (b)False (c)None (d) 錯誤訊息"
   ]
  },
  {
   "cell_type": "markdown",
   "metadata": {},
   "source": [
    "2. boolean (True, False) 的應用 – 找出說謊者\n",
    "<p style=\"font-size: 13px;\">\n",
    "邏輯謎題是一種同時運動大腦兩半部的方式。試著解開由邏輯家 Raymond Smullyan 設計的謎題<br>\n",
    "你認識三胞胎約翰、詹姆斯與威廉，約翰與詹姆斯總是愛說謊，而威廉則只說實話。<br>\n",
    "不久前，你借了約翰一筆數目不小的錢，但他一直沒歸還<br>\n",
    "一天，你在街上遇見了三兄弟之一，如果他是約翰，你正好可以要回借他的錢，但實在看不出來前走來這位是約翰、詹姆斯還是威廉。<br>\n",
    "如何只能用一句話問出他是否就是約翰本人？<br>\n",
    "</p>\n",
    "<br>\n",
    "\n",
    "問話|John(説謊)|James(說謊)|William(說實話)\n",
    "---|---|---|---\n",
    "Are you John?|||\t\n",
    "Are you James?|||\n",
    "Are you William?||| \n"
   ]
  },
  {
   "cell_type": "markdown",
   "metadata": {},
   "source": [
    "3. 計算下列運算式的結果，以及思考如何使用括號將算式寫的容易讀 \n",
    "- 3 < 2**3 and 3==3\n",
    "- “a” in ”code” or “b” in “Python” and len(“program”) == 7\n",
    "- 3 + 2 > 5/2 and 7 * 8 != 6 + 7\n",
    "- 0!=4 or (3/3 == 1 and (5 + 1)/3 == 2)"
   ]
  },
  {
   "cell_type": "markdown",
   "metadata": {},
   "source": [
    "4. OJ#1869 (變數交換)"
   ]
  },
  {
   "cell_type": "markdown",
   "metadata": {},
   "source": [
    "# W3 School"
   ]
  },
  {
   "cell_type": "markdown",
   "metadata": {},
   "source": [
    "- [Booleans] https://www.w3schools.com/python/exercise.asp?x=xrcise_booleans1"
   ]
  }
 ],
 "metadata": {
  "kernelspec": {
   "display_name": ".venv",
   "language": "python",
   "name": "python3"
  },
  "language_info": {
   "codemirror_mode": {
    "name": "ipython",
    "version": 3
   },
   "file_extension": ".py",
   "mimetype": "text/x-python",
   "name": "python",
   "nbconvert_exporter": "python",
   "pygments_lexer": "ipython3",
   "version": "3.13.1"
  }
 },
 "nbformat": 4,
 "nbformat_minor": 2
}
