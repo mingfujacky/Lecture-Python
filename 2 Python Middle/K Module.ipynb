{
 "cells": [
  {
   "cell_type": "markdown",
   "metadata": {},
   "source": [
    "# 介紹模組\n",
    "- 模組 (Module) 是一個Python檔案，裡面可能會包含一些函數、變數和類別<br>\n",
    "- 透過模組的設計，可以讓程式碼更有組織性，也更容易維護，也方便重複使用<br>\n",
    "- 模組 (Module) -> 套件 (Package) -> 函式庫(Library)"
   ]
  },
  {
   "cell_type": "markdown",
   "metadata": {},
   "source": [
    "# 使用模組"
   ]
  },
  {
   "cell_type": "code",
   "execution_count": 2,
   "metadata": {},
   "outputs": [],
   "source": [
    "import math\n",
    "import hello"
   ]
  },
  {
   "cell_type": "code",
   "execution_count": 3,
   "metadata": {},
   "outputs": [
    {
     "data": {
      "text/plain": [
       "['/Library/Frameworks/Python.framework/Versions/3.13/lib/python313.zip',\n",
       " '/Library/Frameworks/Python.framework/Versions/3.13/lib/python3.13',\n",
       " '/Library/Frameworks/Python.framework/Versions/3.13/lib/python3.13/lib-dynload',\n",
       " '',\n",
       " '/Users/jacky/Documents/Lecture_Python/.venv/lib/python3.13/site-packages']"
      ]
     },
     "execution_count": 3,
     "metadata": {},
     "output_type": "execute_result"
    }
   ],
   "source": [
    "# whcih path to find a module\n",
    "import sys\n",
    "sys.path"
   ]
  },
  {
   "cell_type": "code",
   "execution_count": 1,
   "metadata": {},
   "outputs": [
    {
     "data": {
      "text/plain": [
       "['/Library/Frameworks/Python.framework/Versions/3.13/lib/python313.zip',\n",
       " '/Library/Frameworks/Python.framework/Versions/3.13/lib/python3.13',\n",
       " '/Library/Frameworks/Python.framework/Versions/3.13/lib/python3.13/lib-dynload',\n",
       " '',\n",
       " '/Users/jacky/Documents/Lecture_Python/.venv/lib/python3.13/site-packages',\n",
       " '/Users/jacky/Documents/Lecture_Python/utils']"
      ]
     },
     "execution_count": 1,
     "metadata": {},
     "output_type": "execute_result"
    }
   ],
   "source": [
    "# add my path to sys.path\n",
    "import sys\n",
    "sys.path.append('/Users/jacky/Documents/Lecture_Python/utils')\n",
    "sys.path"
   ]
  },
  {
   "cell_type": "code",
   "execution_count": 3,
   "metadata": {},
   "outputs": [
    {
     "name": "stdout",
     "output_type": "stream",
     "text": [
      "Hello 新竹\n",
      "新竹\n"
     ]
    }
   ],
   "source": [
    "import hello.greeting as gr\n",
    "gr.hello()\n",
    "print(gr.place)"
   ]
  }
 ],
 "metadata": {
  "kernelspec": {
   "display_name": ".venv",
   "language": "python",
   "name": "python3"
  },
  "language_info": {
   "codemirror_mode": {
    "name": "ipython",
    "version": 3
   },
   "file_extension": ".py",
   "mimetype": "text/x-python",
   "name": "python",
   "nbconvert_exporter": "python",
   "pygments_lexer": "ipython3",
   "version": "3.13.1"
  }
 },
 "nbformat": 4,
 "nbformat_minor": 2
}
