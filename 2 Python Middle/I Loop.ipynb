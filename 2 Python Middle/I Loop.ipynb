{
 "cells": [
  {
   "cell_type": "markdown",
   "metadata": {},
   "source": [
    "# 迴圈運算"
   ]
  },
  {
   "cell_type": "markdown",
   "metadata": {},
   "source": [
    "- 重複執行的作業\n",
    "- for loop\n",
    "- while loop\n",
    "- visual running: https://pythontutor.com/python-compiler.html#mode=edit"
   ]
  },
  {
   "cell_type": "code",
   "execution_count": null,
   "metadata": {},
   "outputs": [],
   "source": [
    "# 利用for迴圈及time模組來吼小孩\n",
    "import time\n",
    "\n",
    "print('我數到10喔!!')\n",
    "n = 10\n",
    "for i in range(1, n+1):  # 1~10\n",
    "    time.sleep(0.5)  # 暫停0.5秒\n",
    "    print(str(i) + '秒', end='\\n')\n",
    "\n",
    "print('時間到, 去睡覺!!')"
   ]
  },
  {
   "cell_type": "markdown",
   "metadata": {},
   "source": [
    "# for loop with range(): 用range()當迭代器"
   ]
  },
  {
   "cell_type": "code",
   "execution_count": null,
   "metadata": {},
   "outputs": [],
   "source": [
    "for i in range(5):\n",
    "    print(i, end='')\n",
    "print('\\n' + '-'*5)\n",
    "   \n",
    "for i in range(0, 3):\n",
    "    print(i, end='')\n",
    "print('\\n' + '-'*5) \n",
    "\n",
    "for i in range(10, 1, -1):\n",
    "    print(i, end='')\n",
    "print('\\n' + '-'*5) \n",
    "\n",
    "for i in range(1, 8, 2):\n",
    "    print('*'*i)"
   ]
  },
  {
   "cell_type": "markdown",
   "metadata": {},
   "source": [
    "# for loop with container: 用字串，串列，元組當迭代器"
   ]
  },
  {
   "cell_type": "code",
   "execution_count": null,
   "metadata": {},
   "outputs": [],
   "source": [
    "for ch in 'Hello':\n",
    "    print(ch)\n",
    "    \n",
    "for fruit in ['apple', 'banana', 'cherry']:\n",
    "    print(fruit)\n",
    "\n",
    "for name in ('David', 'Eva', 'Tom'):\n",
    "    print(name)    "
   ]
  },
  {
   "cell_type": "markdown",
   "metadata": {},
   "source": [
    "# for loop + break, continue, pass, else "
   ]
  },
  {
   "cell_type": "code",
   "execution_count": null,
   "metadata": {},
   "outputs": [],
   "source": [
    "# find where is tsmc in companies list\n",
    "companies = [\"acer\", \"tsmc\", \"umc\", \"intel\"]\n",
    "for company in companies:\n",
    "    if company == \"tsmc\":\n",
    "        print(companies.index(company))\n",
    "        break  # stop the loop"
   ]
  },
  {
   "cell_type": "code",
   "execution_count": null,
   "metadata": {},
   "outputs": [],
   "source": [
    "# 印出 1~10 但跳過5不印\n",
    "for i in range(11):\n",
    "    if i == 5:\n",
    "        continue  # skip 5\n",
    "    else:\n",
    "        print(i)\n"
   ]
  },
  {
   "cell_type": "code",
   "execution_count": null,
   "metadata": {},
   "outputs": [],
   "source": [
    "# 印出 1~3, loop 找不到下一個需要的 i 時 (正常結束後)\n",
    "for i in range(3):\n",
    "    print(i)\n",
    "else:  # for 正常結束後執行\n",
    "    print('for loop done')"
   ]
  },
  {
   "cell_type": "code",
   "execution_count": null,
   "metadata": {},
   "outputs": [],
   "source": [
    "# 需求未定, 先pass\n",
    "for j in range(10):\n",
    "    pass"
   ]
  },
  {
   "cell_type": "markdown",
   "metadata": {},
   "source": [
    "# Lab of for loop"
   ]
  },
  {
   "cell_type": "markdown",
   "metadata": {},
   "source": [
    "1. 列印 1 ~ 20 的整數，但凡 3 的倍數不印\n",
    "2. 寫一個三三乘法表"
   ]
  },
  {
   "cell_type": "code",
   "execution_count": null,
   "metadata": {},
   "outputs": [],
   "source": [
    "# Solution 1\n",
    "print('1 X 1 = 1')\n",
    "print('1 X 2 = 2')\n",
    "print('1 X 3 = 3')\n",
    "\n",
    "print('2 X 1 = 2')\n",
    "print('2 X 2 = 4')\n",
    "print('2 X 3 = 6')\n",
    "\n",
    "print('3 X 1 = 3')\n",
    "print('3 X 2 = 6')\n",
    "print('3 X 3 = 9')"
   ]
  },
  {
   "cell_type": "code",
   "execution_count": null,
   "metadata": {},
   "outputs": [],
   "source": [
    "# Solution 2\n",
    "for i in range(1, 4):\n",
    "    print(f'{i} X 1 =  {i*1}')\n",
    "    print(f'{i} X 2 =  {i*2}')\n",
    "    print(f'{i} X 3 =  {i*3}')"
   ]
  },
  {
   "cell_type": "code",
   "execution_count": null,
   "metadata": {},
   "outputs": [],
   "source": [
    "# Solution 3\n",
    "for i in range(1, 4):\n",
    "  for j in range(1, 4):\n",
    "      print(f'{i} X {j} =  {i*j}')"
   ]
  },
  {
   "cell_type": "markdown",
   "metadata": {},
   "source": [
    "# while loop"
   ]
  },
  {
   "cell_type": "code",
   "execution_count": null,
   "metadata": {},
   "outputs": [],
   "source": [
    "import time\n",
    "i = 1\n",
    "while i >= 1 and i <=10:\n",
    "    print(str(i) + '秒', end='\\n')\n",
    "    time.sleep(0.5)\n",
    "    i += 1\n",
    "\n",
    "print('時間到')\n"
   ]
  },
  {
   "cell_type": "code",
   "execution_count": null,
   "metadata": {},
   "outputs": [],
   "source": [
    "# 將1到20間，所有3的倍數印出來，並在最後顯示總共有幾個數字\n",
    "count = 0  # 計數器\n",
    "for i in range(1, 21):\n",
    "    if i % 3 == 0:\n",
    "        print(i, end=' ')\n",
    "        count += 1\n",
    "print('共' + str(count) + '個數字')        "
   ]
  },
  {
   "cell_type": "markdown",
   "metadata": {},
   "source": [
    "# while loop + break, continue, pass, else"
   ]
  },
  {
   "cell_type": "code",
   "execution_count": null,
   "metadata": {},
   "outputs": [],
   "source": [
    "# guess password solution 1\n",
    "s = input('Password? ')\n",
    "while True:\n",
    "    if s == 'bye':\n",
    "        print('bye')\n",
    "        break\n",
    "    if s == '1234':\n",
    "        print('correct')\n",
    "        break\n",
    "    print('wrong')\n",
    "    s = input('Password? ')"
   ]
  },
  {
   "cell_type": "code",
   "execution_count": null,
   "metadata": {},
   "outputs": [],
   "source": [
    "# 跳過5不印\n",
    "i = 1\n",
    "while i <= 10:\n",
    "    if i == 5:\n",
    "        i += 1\n",
    "        continue\n",
    "    print(i, end = ' ')\n",
    "    i += 1\n",
    "else:\n",
    "    print('end while loop')"
   ]
  },
  {
   "cell_type": "code",
   "execution_count": null,
   "metadata": {},
   "outputs": [],
   "source": [
    "# 無窮迴圈\n",
    "i = 1\n",
    "while i <= 10:\n",
    "    if i == 5:\n",
    "        continue\n",
    "        i += 1\n",
    "    print(i, end = ' ')\n",
    "    i += 1 "
   ]
  },
  {
   "cell_type": "markdown",
   "metadata": {},
   "source": [
    "# Lab of while loop"
   ]
  },
  {
   "cell_type": "markdown",
   "metadata": {},
   "source": [
    "## 1. 大樂透電腦開獎及對獎的程式(使用set)"
   ]
  },
  {
   "cell_type": "markdown",
   "metadata": {},
   "source": [
    "## 2. word count (使用dict)\n",
    "Input<br>\n",
    "<p> Happy birthday to you<br>\n",
    "Happy birthday to you<br>\n",
    "Happy birthday, happy birthday<br>\n",
    "Happy birthday to you<br>\n",
    "</p>\n",
    "Output<br>\n",
    "{'happy':5, 'birthday':5, 'to':3, 'you':3}"
   ]
  }
 ],
 "metadata": {
  "kernelspec": {
   "display_name": ".venv",
   "language": "python",
   "name": "python3"
  },
  "language_info": {
   "codemirror_mode": {
    "name": "ipython",
    "version": 3
   },
   "file_extension": ".py",
   "mimetype": "text/x-python",
   "name": "python",
   "nbconvert_exporter": "python",
   "pygments_lexer": "ipython3",
   "version": "3.13.0"
  }
 },
 "nbformat": 4,
 "nbformat_minor": 2
}
