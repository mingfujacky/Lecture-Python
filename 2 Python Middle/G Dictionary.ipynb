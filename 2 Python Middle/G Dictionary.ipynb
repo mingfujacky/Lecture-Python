{
 "cells": [
  {
   "cell_type": "markdown",
   "metadata": {},
   "source": [
    "# 字典運算"
   ]
  },
  {
   "cell_type": "markdown",
   "metadata": {},
   "source": [
    "- Dict (字典) 是由不重複的鍵值對 (key-value pair) 組成，沒有順序性，key 不重複，且可修改的特性，性質接近 set，無法用 indexing 來提取特定的元素, key 必須是immutable(不可變)\n",
    "- Dict 是以key-value pair 為元素，元素間用逗號區隔, 外面加上大括號 {} "
   ]
  },
  {
   "cell_type": "markdown",
   "metadata": {},
   "source": [
    "# 創建字典"
   ]
  },
  {
   "cell_type": "code",
   "execution_count": null,
   "metadata": {},
   "outputs": [],
   "source": [
    "a = {} # 代表空 dict\n",
    "b1 = {'color': 'red', 'age': 42} # 有兩個 key-value pair 的 dict\n",
    "b2 = {'color': 'red',\n",
    "     'age': 42,\n",
    "     }  # 用多行來定義 dict\n",
    "c1 = dict([('003', 'Tom'), ('004', 'June')])  # 用 list / tuple 建立 dict\n",
    "c2 = dict([['003', 'Tom'], ['004', 'June']])  # 用 list / list 建立 dict"
   ]
  },
  {
   "cell_type": "markdown",
   "metadata": {},
   "source": [
    "# 鍵值取值"
   ]
  },
  {
   "cell_type": "code",
   "execution_count": null,
   "metadata": {},
   "outputs": [],
   "source": [
    "a = {'001': 'Jacky',\n",
    "     '002':'Mary',\n",
    "     '003': 'Tom',}\n",
    "print(a['001'])  # Jacky\n",
    "a['002'] = 'Selina'  # 修改 key '002' 的 value\n",
    "a['004'] = 'John'  # 新增 key '004' 的 value\n",
    "del a['003']  # 刪除 key '003' 的 value\n"
   ]
  },
  {
   "cell_type": "markdown",
   "metadata": {},
   "source": [
    "# 運算子"
   ]
  },
  {
   "cell_type": "markdown",
   "metadata": {},
   "source": [
    "- <p> ==, != </p>\n",
    "- <p> in, not in </p>"
   ]
  },
  {
   "cell_type": "code",
   "execution_count": null,
   "metadata": {},
   "outputs": [],
   "source": [
    "d1 = dict([('003', 'Tom'), ('004', 'June')])\n",
    "d2 = dict([['003', 'Tom'], ['004', 'Mary']])\n",
    "print(d1 == d2)\n",
    "print('001' in d1)  # 檢查 key 是否存在\n",
    "print('003' in d1)\n",
    "print('Tom' in d1)\n"
   ]
  },
  {
   "cell_type": "markdown",
   "metadata": {},
   "source": [
    "# 內建函式"
   ]
  },
  {
   "cell_type": "code",
   "execution_count": null,
   "metadata": {},
   "outputs": [],
   "source": [
    "# dictionary內建函示\n",
    "b2 = {'color': 'red',\n",
    "     'age': 42,\n",
    "     } \n",
    "print(len(b2), min(b2), max(b2), sep = \"\\t\")  # 2, age, color"
   ]
  },
  {
   "cell_type": "markdown",
   "metadata": {},
   "source": [
    "# 型別方法"
   ]
  },
  {
   "cell_type": "code",
   "execution_count": null,
   "metadata": {},
   "outputs": [],
   "source": [
    "# Quickly create a dict\n",
    "foo = dict.fromkeys((1, 2, 3), 'No Value')  # 用 tuple 來建立 dict 的 key 並指定相同的 value\n",
    "print(\"foo = \", foo)  # {1: 'No Value', 2: 'No Value', 3: 'No Value'}\n",
    "boo = dict.fromkeys((1, 2, 3))  # 用 tuple 來建立 dict 的 key 並指定 None 為 value\n",
    "print(\"boo = \", boo)  # {1: None, 2: None, 3: None}"
   ]
  },
  {
   "cell_type": "code",
   "execution_count": null,
   "metadata": {},
   "outputs": [],
   "source": [
    "# Read Dict key and value\n",
    "a = {'001': 'Jacky',\n",
    "     '002':'Mary',\n",
    "     '003': 'Tom',}\n",
    "print(a['001'])  # Jacky\n",
    "# print(a['005'])  # 會出現 KeyError\n",
    "print(a.get('001'))  # Jacky\n",
    "print(a.get('005'))  # no such key, return None\n",
    "print(a.keys())\n",
    "print(a.values())\n",
    "print(a.items())\n",
    "for (key, value) in a.items():\n",
    "    print(f'{key = }, {value = }')"
   ]
  },
  {
   "cell_type": "code",
   "execution_count": null,
   "metadata": {},
   "outputs": [],
   "source": [
    "# Update Dict\n",
    "a = {'001': 'Jacky',\n",
    "     '002': 'Mary',\n",
    "     '003': 'Tom',}\n",
    "b = {'001': 'John',\n",
    "     '004': 'June',} # 有重複的 key  '001'           \n",
    "a.update(b)  # 用 dict b 更新 dict a, a = {'001': 'John', '002': 'Mary', '003': 'Tom', '004': 'June'}\n",
    "a.setdefault('002', 'Allen')  #      a = {'001': 'John', '002': 'Mary', '003': 'Tom', '004': 'June'} \n",
    "a.setdefault('005', 'Selina')  # 若 key '005' 不存在，則新增 key '005' 並指定 value 為 'Selina', \n",
    "                              #      a = {'001': 'John', '002': 'Mary', '003': 'Tom', '004': 'June', '005': 'Selina'}\n",
    "print(a)                              "
   ]
  },
  {
   "cell_type": "code",
   "execution_count": null,
   "metadata": {},
   "outputs": [],
   "source": [
    "# Delete Dict\n",
    "a = {'001': 'Jacky',\n",
    "     '002': 'Mary',\n",
    "     '003': 'Tom',}\n",
    "print(a.pop('001'))  # 刪除 key '001' 的 value 並回傳, a = {'002': 'Mary', '003': 'Tom'}\n",
    "print(a.pop('005', 'NA'))  # 刪除 key '005' 的 value 並回傳，若 key 不存在則回傳 'NA'\n",
    "a.delete('002')  # 刪除 key '002' 的 value 但不回傳 a = {'003': 'Tom'}\n",
    "a.clear()\n",
    "print(a)\n"
   ]
  },
  {
   "cell_type": "markdown",
   "metadata": {},
   "source": [
    "# Lab "
   ]
  },
  {
   "cell_type": "markdown",
   "metadata": {},
   "source": [
    "## 請將下列三個 dict 合併成一個 dict <br>\n",
    "{1:'tsmc', 2:'umc'} <br>\n",
    "{3:'samsung', 4:'KIA'} <br>\n",
    "{5:'intel', 6:'amd’} <br>"
   ]
  },
  {
   "cell_type": "code",
   "execution_count": null,
   "metadata": {},
   "outputs": [
    {
     "name": "stdout",
     "output_type": "stream",
     "text": [
      "{1: 'tsmc', 2: 'umc', 3: 'samsung', 4: 'kia', 5: 'intel', 6: 'amd'}\n",
      "{1: 'tsmc', 2: 'umc', 3: 'samsung', 4: 'kia', 5: 'intel', 6: 'amd'}\n",
      "{1: 'tsmc', 2: 'umc', 3: 'samsung', 4: 'kia', 5: 'intel', 6: 'amd'}\n"
     ]
    }
   ],
   "source": [
    "taiwan = {1:'tsmc',\n",
    "          2:'umc'}\n",
    "korea = {3:'samsung',\n",
    "         4:'kia'}\n",
    "usa = {5:'intel',\n",
    "       6:'amd'}\n",
    "\n",
    "# Alternative1: unpacking **\n",
    "company = {**taiwan, **korea, **usa}\n",
    "print(company)\n",
    "\n",
    "# Alternative2: update()\n",
    "company = taiwan.copy()\n",
    "company.update(korea)\n",
    "company.update(usa)\n",
    "print(company)\n",
    "\n",
    "# Alternative3: merger operator |\n",
    "company = taiwan | korea | usa\n",
    "print(company)"
   ]
  },
  {
   "cell_type": "markdown",
   "metadata": {},
   "source": [
    "## Add element into a dict <br>\n",
    "請將 key = ‘d’, value = 4 的 key-value pair 加入 <br>\n",
    "dict {‘a’: 1, ‘b’: 2, ‘c’: 3}"
   ]
  },
  {
   "cell_type": "code",
   "execution_count": 32,
   "metadata": {},
   "outputs": [
    {
     "data": {
      "text/plain": [
       "4"
      ]
     },
     "execution_count": 32,
     "metadata": {},
     "output_type": "execute_result"
    }
   ],
   "source": [
    "# assignment\n",
    "my_dict = {'a': 1,\n",
    "           'b': 2,\n",
    "           'c': 3}\n",
    "my_dict['d'] = 4\n",
    "\n",
    "# update()\n",
    "my_dict = {'a': 1,\n",
    "           'b': 2,\n",
    "           'c': 3}\n",
    "my_dict.update({'d': 4})\n",
    "\n",
    "# setdefault()\n",
    "my_dict.setdefault('d', 4) # 'f' is non-existed, default value is 6\n",
    "# my_dict.setdefault('a', 100) # if 'a' is existed, don't change {'a':1}, if 'a' is not existed, add {'a':100}\n",
    "# my_dict.setdefault('g') # 'g' is not existed and no default value, add {'g', None}"
   ]
  },
  {
   "cell_type": "markdown",
   "metadata": {},
   "source": [
    "## W3 School"
   ]
  },
  {
   "cell_type": "markdown",
   "metadata": {},
   "source": [
    "[Python Dict] https://www.w3schools.com/python/exercise.asp?x=xrcise_dictionaries1 <br>\n",
    "[Access Dict] https://www.w3schools.com/python/exercise.asp?x=xrcise_dictionaries_access1 <br>\n",
    "[Change Dict] https://www.w3schools.com/python/exercise.asp?x=xrcise_dictionaries_change1 <br>\n",
    "[Add Dict Items] https://www.w3schools.com/python/exercise.asp?x=xrcise_dictionaries_add1 <br>\n",
    "[Remove Dict Items] https://www.w3schools.com/python/exercise.asp?x=xrcise_dictionaries_remove1 <br>\n",
    "[Copy Dict] https://www.w3schools.com/python/exercise.asp?x=xrcise_dictionaries_copy1 <br>\n",
    "[Nested Dict] https://www.w3schools.com/python/exercise.asp?x=xrcise_dictionaries_nested1 <br>\n"
   ]
  }
 ],
 "metadata": {
  "kernelspec": {
   "display_name": ".venv",
   "language": "python",
   "name": "python3"
  },
  "language_info": {
   "codemirror_mode": {
    "name": "ipython",
    "version": 3
   },
   "file_extension": ".py",
   "mimetype": "text/x-python",
   "name": "python",
   "nbconvert_exporter": "python",
   "pygments_lexer": "ipython3",
   "version": "3.13.0"
  }
 },
 "nbformat": 4,
 "nbformat_minor": 2
}
