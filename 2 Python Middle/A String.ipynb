{
 "cells": [
  {
   "cell_type": "markdown",
   "metadata": {},
   "source": [
    "# 字串運算\n",
    "字串 (string) 由字元 (character) 組成, 用單/雙/三個單或雙引號刮起來，型別為 str"
   ]
  },
  {
   "cell_type": "code",
   "execution_count": null,
   "metadata": {},
   "outputs": [],
   "source": [
    "# 創建字串\n",
    "foo = 'Great Day'\n",
    "boo = \"Have a nice weekend\"\n",
    "spam = '''Hello\n",
    "NYCU\n",
    "Python\n",
    "Class'''\n",
    "eggs = \"I'm a student\""
   ]
  },
  {
   "cell_type": "markdown",
   "metadata": {},
   "source": [
    "## 列印字串"
   ]
  },
  {
   "cell_type": "code",
   "execution_count": null,
   "metadata": {},
   "outputs": [],
   "source": [
    "print('NYCU', 'welcome', 'you!!')  # 列印多個字串\n",
    "print('Apple' + 'Pie')  # 字串相加\n",
    "print('Candy ' + 'Bar')  # 字串相加"
   ]
  },
  {
   "cell_type": "markdown",
   "metadata": {},
   "source": [
    "## 字串運算子(operator)\n",
    "- +, *<br>\n",
    "- <, <=, >, >=, !=, ==<br>\n",
    "- in, not in<br>"
   ]
  },
  {
   "cell_type": "markdown",
   "metadata": {},
   "source": [
    "## 字串內建函式(built-in function)\n",
    "***function(string)***\n",
    "- chr(): 將數字轉換為 ASCII 字元\n",
    "- len(): 返回字串的長度\n",
    "- str(): 轉換成字串型別"
   ]
  },
  {
   "cell_type": "markdown",
   "metadata": {},
   "source": [
    "## 字串型別方法(object method)\n",
    "***string.method()***\n",
    "- strip(): 刪除字串開頭或結尾的空格\n",
    "- lower(): 把字串轉換為小寫\n",
    "- upper(): 把字串轉換為大寫\n",
    "- replace(): 替換字串中的子字串\n",
    "- split(): 分割字串成一個列表"
   ]
  },
  {
   "cell_type": "markdown",
   "metadata": {},
   "source": [
    "## 根據zero-based規則從字串中擷取字元\n",
    "- indexing: 索引, 取某個位置的字元, ***string[index]***\n",
    "- slicing: 切片, 取某個區間的字元, ***string[start: stop: step]***"
   ]
  },
  {
   "cell_type": "markdown",
   "metadata": {},
   "source": [
    "**INDEXING**<br>\n",
    "![indexing](https://encrypted-tbn0.gstatic.com/images?q=tbn:ANd9GcSeq7JDoKVAnfEXs3vPrguYlSCudb14ADGSAQ&s)"
   ]
  },
  {
   "cell_type": "code",
   "execution_count": null,
   "metadata": {},
   "outputs": [],
   "source": [
    "greeting = \"Hello\"\n",
    "print(greeting[1])\n",
    "print(greeting[-1])\n",
    "\n",
    "print(\"中華隊拿冠軍\"[0])  # 取得字串中的第一個字元\n",
    "print(\"中華隊拿冠軍\"[-2])  # 取得字串中的第五個字元"
   ]
  },
  {
   "cell_type": "markdown",
   "metadata": {},
   "source": [
    "***SLICING***<br>\n",
    "![string slicing](https://encrypted-tbn0.gstatic.com/images?q=tbn:ANd9GcSG7V10WMRzpXDqWW4MxAQX2MMD06LIIzUU-w&s)"
   ]
  },
  {
   "cell_type": "code",
   "execution_count": null,
   "metadata": {},
   "outputs": [],
   "source": [
    "print(\"中華隊拿冠軍\"[0:3])\n",
    "print(\"中華隊拿冠軍\"[4:])\n",
    "print(\"中華隊拿冠軍\"[-1:-3:-1])"
   ]
  },
  {
   "cell_type": "code",
   "execution_count": null,
   "metadata": {},
   "outputs": [],
   "source": [
    "ham = 'Python rules!'\n",
    "# 字串索引\n",
    "print(ham[0])\n",
    "print(ham[-2])\n",
    "# ch3 = ham[13]  # error\n",
    "\n",
    "# 字串切片 \n",
    "print(ham[2: 7: 1])\n",
    "print(ham[2: 11: 3])\n",
    "print(ham[-2: -11: -3])"
   ]
  },
  {
   "cell_type": "markdown",
   "metadata": {},
   "source": [
    "# Lab:\n",
    "\n",
    "3. 找一個內建函數將字元轉換成ASCII碼   \n",
    "4. 說明字串型別方法中 capitalize 的使用方式\n",
    "5. 說明字串型別方法中 title 的使用方式\n",
    "6. 說明字串型別方法中 count 的使用方式\n",
    "7. 說明字串型別方法中 find 的使用方式\n",
    "8. 設定greeting = \"Jacky, happy birthday!\", 使用字串索引的方式印出其中的兩個標點符號\n",
    "9. 設定greeting = \"Jacky, happy birthday!\", 使用字串切片的方式印出\"happy\"\n",
    "10. 設定greeting = \"Jacky, happy birthday!\", 算出greeting總共包含多少字 \n",
    "11. OJ#1845\n",
    "12. OJ#1854"
   ]
  }
 ],
 "metadata": {
  "kernelspec": {
   "display_name": ".venv",
   "language": "python",
   "name": "python3"
  },
  "language_info": {
   "codemirror_mode": {
    "name": "ipython",
    "version": 3
   },
   "file_extension": ".py",
   "mimetype": "text/x-python",
   "name": "python",
   "nbconvert_exporter": "python",
   "pygments_lexer": "ipython3",
   "version": "3.13.0"
  }
 },
 "nbformat": 4,
 "nbformat_minor": 2
}
