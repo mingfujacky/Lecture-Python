{
 "cells": [
  {
   "cell_type": "markdown",
   "metadata": {},
   "source": [
    "# 變數指派 (Variable Assignment)"
   ]
  },
  {
   "cell_type": "markdown",
   "metadata": {},
   "source": [
    "- 生活中充滿物件(object)，例如人，手機，貓，狗等，大部分的時候，為了方便區別跟描述，我們會幫這些物件取名字或貼上標籤\n",
    "- 在程式語言中，可使用變數 (variable) 來幫物件命名貼標籤\n",
    "- **注意！** Python 的變數基本上是一個標籤的角色，物件才是真正的主角，變數只不過是物件的名稱而已！\n",
    "```python\n",
    "x = 20\n",
    "y = 50\n",
    "```\n",
    "![bg right:40% w:500 variable](\n",
    "https://www.aipython.in/wp-content/uploads/2020/02/memory_after_two_variable.png)"
   ]
  },
  {
   "cell_type": "markdown",
   "metadata": {},
   "source": [
    "# 多個變數連結至一個物件"
   ]
  },
  {
   "cell_type": "code",
   "execution_count": null,
   "metadata": {},
   "outputs": [],
   "source": [
    "x = 10\n",
    "y = 'hello'\n",
    "z = 'bye'\n",
    "y = z\n",
    "print(x, y, z)"
   ]
  },
  {
   "cell_type": "markdown",
   "metadata": {},
   "source": [
    "![bg right:50% w:500 variable](\n",
    "https://encrypted-tbn0.gstatic.com/images?q=tbn:ANd9GcR6R8Hm_5_Maukmlh6K25wiRrcUhbEyRocn2w&s)\n"
   ]
  },
  {
   "cell_type": "markdown",
   "metadata": {},
   "source": [
    "# 把自己當Python"
   ]
  },
  {
   "cell_type": "code",
   "execution_count": 6,
   "metadata": {},
   "outputs": [
    {
     "name": "stdout",
     "output_type": "stream",
     "text": [
      "3\n"
     ]
    }
   ],
   "source": [
    "'''\n",
    "使用Thonny來觀察變數所指到的物件的值(簡稱變數的值)及其資料型態\n",
    "Line1: 整數1是一個物件, 替它貼個名為a的標籤, 這就是一個變數的指派\n",
    "Line2: 同理, 整數2也是一個物件, 替它貼個名為b的標籤\n",
    "Line3: 將標籤a及標籤b所指的整數物件1,2 加起來後(3), 透過變數指派, 將標籤c貼到整數3這個新整數物件上\n",
    "Line4, 首先找到標籤c所指的整數物件3, 將值取出後, 呼叫print函數, 將3輸出到螢幕上\n",
    "'''\n",
    "a = 1\n",
    "b = 2\n",
    "c = a + b\n",
    "print(c)"
   ]
  },
  {
   "cell_type": "markdown",
   "metadata": {},
   "source": [
    "# 一行程式指派多個變數"
   ]
  },
  {
   "cell_type": "code",
   "execution_count": null,
   "metadata": {},
   "outputs": [],
   "source": [
    "a, b, c = 1, 2, 3\n",
    "d = 11; f = 12\n",
    "x = y = z = 1\n",
    "print(id(a), id(b), id(c))\n",
    "print(id(x), id(y), id(z))"
   ]
  },
  {
   "cell_type": "markdown",
   "metadata": {},
   "source": [
    "# 交換變數值"
   ]
  },
  {
   "cell_type": "code",
   "execution_count": null,
   "metadata": {},
   "outputs": [],
   "source": [
    "a, b = 1, 2\n",
    "print(\"第一次設定\", a, b)\n",
    "b, a = a, b\n",
    "print(\"第二次設定\", a, b)\n",
    "b, a = b + a, b - a\n",
    "print(\"第三次設定\", a, b)"
   ]
  },
  {
   "cell_type": "markdown",
   "metadata": {},
   "source": [
    "# 變數的命名原則"
   ]
  },
  {
   "cell_type": "markdown",
   "metadata": {},
   "source": [
    "- 必須由英文字母, 底線_ (特殊使用)，中文字開頭 (不建議)\n",
    "- 只能含英文字母，數字，底線，中文字\n",
    "- Case sensitive, 區分大小寫, cat ≠ Cat\n",
    "- 不可以用保留字 (reserved words)"
   ]
  },
  {
   "cell_type": "code",
   "execution_count": null,
   "metadata": {},
   "outputs": [],
   "source": [
    "help(\"keywords\")"
   ]
  },
  {
   "cell_type": "markdown",
   "metadata": {},
   "source": [
    "合法的變數名稱?\n",
    "- Friday\n",
    "- *False*\n",
    "- *dog@*\n",
    "- *3_cats*\n",
    "- PartId\n",
    "- part_id\n",
    "- partId\n",
    "- *emp-id*\n",
    "- *None*\n",
    "- _test\n",
    "- 手機號碼\n",
    "- *my car*"
   ]
  },
  {
   "cell_type": "markdown",
   "metadata": {},
   "source": [
    "# 註解"
   ]
  },
  {
   "cell_type": "markdown",
   "metadata": {},
   "source": [
    "- 註解在程式碼中不會被執行，主要用來說明程式碼的內容\n",
    "- 用 # 作為單行註解\n",
    "- 用\"\"\"或'''做多行註解"
   ]
  },
  {
   "cell_type": "code",
   "execution_count": null,
   "metadata": {},
   "outputs": [],
   "source": [
    "''' \n",
    "    Purpose: 檢查身分證字號的正確性\n",
    "    Designer: Jacky Lin\n",
    "    Version: 0.9\n",
    "    Released date: 2024/10/08\n",
    "'''\n",
    "\n",
    "# 要求使用者輸入身分證字號的模組\n",
    "def input_id():\n",
    "    id = input('ID:' ) # 儲存身分證字號\n",
    "    return(id)\n",
    "person_id = input_id()  # 主程式開始\n",
    "print(person_id)"
   ]
  },
  {
   "cell_type": "markdown",
   "metadata": {},
   "source": [
    "# Lab"
   ]
  },
  {
   "cell_type": "markdown",
   "metadata": {},
   "source": [
    "(A) 下面變數，哪些是合法且適合的(A)，不合法(B)或合法且但不適合(C)\n",
    "1. customer_list \n",
    "2. print\n",
    "3. True\n",
    "4. Tesla Model Y\n",
    "5. cat@\n",
    "6. 4_tiger\n",
    "7. list_of_things_need_to_pick_up_from_the_store\n",
    "8. part-id\n",
    "9. _work\n",
    "10. 客戶名稱"
   ]
  },
  {
   "cell_type": "markdown",
   "metadata": {},
   "source": [
    "(B) 梯形公式: 求解 1加到 30\n",
    "1.  直覺硬加 1+ 2 + 3 + 4 + 5 + 6 + 7 + ….. + 30\n",
    "2.  使用跨列運算子’\\’將程式碼進行換列\n",
    "3.  使用梯形公式: (上底 + 下底) * 高 / 2 -> (1 + 30) * 30 /2\n",
    "4.  將上底(top), 下底(bottom), 高(height) 設為變數來使用梯形公式\n",
    "```python\n",
    "# 解法二\n",
    "sum = 1 + 2 + 3\\\n",
    "      4 + 5 + 6\\\n",
    "      7 + 8 + 9\\\n",
    "      10\n",
    "print(sum)      \n",
    "```"
   ]
  },
  {
   "cell_type": "markdown",
   "metadata": {},
   "source": [
    "(C) 使用變數 r = 1.5, 印出半徑為 1.5的圓的周長及面積"
   ]
  },
  {
   "cell_type": "markdown",
   "metadata": {},
   "source": [
    "# W3 School"
   ]
  },
  {
   "cell_type": "markdown",
   "metadata": {},
   "source": [
    "- [Variables] https://www.w3schools.com/python/exercise.asp?x=xrcise_variables1\n",
    "- [Variable Names] https://www.w3schools.com/python/exercise.asp?x=xrcise_variables_names1\n",
    "- [Multiple Variable Values] https://www.w3schools.com/python/exercise.asp?x=xrcise_variables_multiple1\n",
    "- [Output Variable] https://www.w3schools.com/python/exercise.asp?x=xrcise_variables_output1"
   ]
  }
 ],
 "metadata": {
  "kernelspec": {
   "display_name": ".venv",
   "language": "python",
   "name": "python3"
  },
  "language_info": {
   "codemirror_mode": {
    "name": "ipython",
    "version": 3
   },
   "file_extension": ".py",
   "mimetype": "text/x-python",
   "name": "python",
   "nbconvert_exporter": "python",
   "pygments_lexer": "ipython3",
   "version": "3.13.0"
  }
 },
 "nbformat": 4,
 "nbformat_minor": 2
}
