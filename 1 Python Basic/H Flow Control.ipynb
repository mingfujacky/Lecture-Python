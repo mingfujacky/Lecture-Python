{
 "cells": [
  {
   "cell_type": "markdown",
   "metadata": {},
   "source": [
    "# 程式流程控制 (program flow control)"
   ]
  },
  {
   "cell_type": "markdown",
   "metadata": {},
   "source": [
    "![Python Flow Control Statements](https://pynative.com/wp-content/uploads/2021/03/python-flow-control-statements.png)\n",
    "<p>Reference: https://pynative.com/wp-content/uploads/2021/03/python-flow-control-statements.png</p>\n",
    "<p>Visualization tool: https://pythontutor.com/python-compiler.html#mode=edit</p>"
   ]
  },
  {
   "cell_type": "markdown",
   "metadata": {},
   "source": [
    "# 條件敘述 (conditional statement)"
   ]
  },
  {
   "cell_type": "markdown",
   "metadata": {},
   "source": [
    "## if"
   ]
  },
  {
   "cell_type": "markdown",
   "metadata": {},
   "source": [
    "if condition:<br>\n",
    "&nbsp;&nbsp;&nbsp;&nbsp;    statement-1<br>\n",
    "&nbsp;&nbsp;&nbsp;&nbsp;    statement-2<br>\n",
    "&nbsp;&nbsp;&nbsp;&nbsp;    statement-n<br>\n",
    "\n",
    "![if control statements](https://pynative.com/wp-content/uploads/2021/03/python-if-statements.png)"
   ]
  },
  {
   "cell_type": "code",
   "execution_count": null,
   "metadata": {},
   "outputs": [],
   "source": [
    "a = 33\n",
    "b = 200\n",
    "if b > a:\n",
    "    print(\"b is greater than a\")  # 四個空格的縮排"
   ]
  },
  {
   "cell_type": "markdown",
   "metadata": {},
   "source": [
    "## if-else"
   ]
  },
  {
   "cell_type": "markdown",
   "metadata": {},
   "source": [
    "if condition:<br>\n",
    "&nbsp;&nbsp;&nbsp;&nbsp;    statement-1<br>\n",
    "else:<br>\n",
    "&nbsp;&nbsp;&nbsp;&nbsp;    statement-2<br>\n",
    "\n",
    "![if-else control statements](https://pynative.com/wp-content/uploads/2021/03/python-if-else-statement.png)"
   ]
  },
  {
   "cell_type": "code",
   "execution_count": 2,
   "metadata": {},
   "outputs": [
    {
     "name": "stdout",
     "output_type": "stream",
     "text": [
      "b is not greater than a\n"
     ]
    }
   ],
   "source": [
    "a = 200\n",
    "b = 33\n",
    "if b > a:\n",
    "  print(\"b is greater than a\")\n",
    "else:\n",
    "  print(\"b is not greater than a\")"
   ]
  },
  {
   "cell_type": "markdown",
   "metadata": {},
   "source": [
    "## if-elif-else"
   ]
  },
  {
   "cell_type": "markdown",
   "metadata": {},
   "source": [
    "if condition-A:<br>\n",
    "&nbsp;&nbsp;&nbsp;&nbsp;    statement-1<br>\n",
    "elif condition-B:<br>\n",
    "&nbsp;&nbsp;&nbsp;&nbsp;    statement-2<br>\n",
    "elif condition-C:<br>\n",
    "&nbsp;&nbsp;&nbsp;&nbsp;    statement-3<br>\n",
    "else:<br>\n",
    "&nbsp;&nbsp;&nbsp;&nbsp;    statement-n<br>\n",
    "\n",
    "![if-elif-else control statements](https://www.scientecheasy.com/wp-content/uploads/2022/10/flowchart-if-elif-else.png)"
   ]
  },
  {
   "cell_type": "code",
   "execution_count": 3,
   "metadata": {},
   "outputs": [
    {
     "name": "stdout",
     "output_type": "stream",
     "text": [
      "a is greater than b\n"
     ]
    }
   ],
   "source": [
    "a = 200\n",
    "b = 33\n",
    "if b > a:\n",
    "  print(\"b is greater than a\")\n",
    "elif a == b:\n",
    "  print(\"a and b are equal\")\n",
    "else:\n",
    "  print(\"a is greater than b\")"
   ]
  },
  {
   "cell_type": "markdown",
   "metadata": {},
   "source": [
    "# 迴圈敘述 (loop statement)"
   ]
  },
  {
   "cell_type": "markdown",
   "metadata": {},
   "source": [
    "## for"
   ]
  },
  {
   "cell_type": "markdown",
   "metadata": {},
   "source": [
    "for element in sequence:<br>\n",
    "&nbsp;&nbsp;&nbsp;&nbsp;    statement-1<br>\n",
    "&nbsp;&nbsp;&nbsp;&nbsp;    statement-2<br>\n",
    "&nbsp;&nbsp;&nbsp;&nbsp;    statement-n<br>\n",
    "\n",
    "![for control statements](https://pynative.com/wp-content/uploads/2021/03/python-for-loop.png)"
   ]
  },
  {
   "cell_type": "code",
   "execution_count": 9,
   "metadata": {},
   "outputs": [
    {
     "name": "stdout",
     "output_type": "stream",
     "text": [
      "<class 'range'> range(1, 11)\n",
      "[1, 2, 3, 4, 5, 6, 7, 8, 9, 10]\n"
     ]
    }
   ],
   "source": [
    "foo = range(1, 11)\n",
    "# foo is a range object. we can not print its elements\n",
    "# it is iterable (它的元素可以被循序訪問)\n",
    "# it can be converted to list\n",
    "print(type(foo), foo)  \n",
    "print(list(foo))"
   ]
  },
  {
   "cell_type": "code",
   "execution_count": null,
   "metadata": {},
   "outputs": [],
   "source": [
    "for i in range(1, 11):\n",
    "    print(i)"
   ]
  },
  {
   "cell_type": "code",
   "execution_count": null,
   "metadata": {},
   "outputs": [],
   "source": [
    "fruits = [\"apple\", \"banana\", \"cherry\"]  # list can be iterated\n",
    "for fruit in fruits[0, 2,2]\n",
    "    print(fruit)\n",
    "  if fruit != \"banana\":\n",
    "    print(fruit)"
   ]
  },
  {
   "cell_type": "code",
   "execution_count": null,
   "metadata": {},
   "outputs": [],
   "source": [
    "for ch in \"banana\":  # string can be iterated\n",
    "  print(ch)"
   ]
  },
  {
   "cell_type": "markdown",
   "metadata": {},
   "source": [
    "## while"
   ]
  },
  {
   "cell_type": "markdown",
   "metadata": {},
   "source": [
    "while condition:<br>\n",
    "&nbsp;&nbsp;&nbsp;&nbsp;    statement-1<br>\n",
    "&nbsp;&nbsp;&nbsp;&nbsp;    statement-2<br>\n",
    "&nbsp;&nbsp;&nbsp;&nbsp;    statement-n<br>\n",
    "\n",
    "![while control statements](https://pynative.com/wp-content/uploads/2021/03/python-while-loop.png)"
   ]
  },
  {
   "cell_type": "code",
   "execution_count": null,
   "metadata": {},
   "outputs": [],
   "source": [
    "i = 1\n",
    "while i < 6:\n",
    "    print(i)\n",
    "    i += 1"
   ]
  },
  {
   "cell_type": "code",
   "execution_count": null,
   "metadata": {},
   "outputs": [],
   "source": [
    "num = 10\n",
    "sum = 0\n",
    "i = 1\n",
    "while i <= num:\n",
    "    sum = sum + i\n",
    "    i = i + 1\n",
    "print(\"Sum of first 10 number is:\", sum)"
   ]
  },
  {
   "cell_type": "markdown",
   "metadata": {},
   "source": [
    "# Lab"
   ]
  },
  {
   "cell_type": "markdown",
   "metadata": {},
   "source": [
    "1. 輸入兩個數字 a, b, 使用條件敘述來求 a - b 的絕對值 (勿直接使用 abs()函式)\n",
    "2. 使用 for loop 來列印 1 ~ 20 的整數，但凡 3 的倍數不印\n",
    "3. 使用 while loop 將1到20間，所有3的倍數印出來，並在最後顯示總共有幾個數字被印出\n",
    "4. OJ#1879\n",
    "5. OJ#1846"
   ]
  }
 ],
 "metadata": {
  "kernelspec": {
   "display_name": ".venv",
   "language": "python",
   "name": "python3"
  },
  "language_info": {
   "codemirror_mode": {
    "name": "ipython",
    "version": 3
   },
   "file_extension": ".py",
   "mimetype": "text/x-python",
   "name": "python",
   "nbconvert_exporter": "python",
   "pygments_lexer": "ipython3",
   "version": "3.13.0"
  }
 },
 "nbformat": 4,
 "nbformat_minor": 2
}
