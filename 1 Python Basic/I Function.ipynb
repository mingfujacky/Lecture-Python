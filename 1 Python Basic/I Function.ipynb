{
 "cells": [
  {
   "cell_type": "markdown",
   "metadata": {},
   "source": [
    "# 函式 (function)"
   ]
  },
  {
   "cell_type": "markdown",
   "metadata": {},
   "source": [
    "![Python Functions](https://data-flair.training/blogs/wp-content/uploads/sites/2/2018/01/Python-Functions.jpg)"
   ]
  },
  {
   "cell_type": "markdown",
   "metadata": {},
   "source": [
    "- 函式是一個按照特定順序排列的敘述，並且被賦予了一個名稱\n",
    "- 當函式被呼叫時，這些敘述會被執行。\n",
    "- 這種特性稱為程式碼的**重複利用性 (code re-usability)**"
   ]
  },
  {
   "cell_type": "markdown",
   "metadata": {},
   "source": [
    "def func_name(parameters):<br>\n",
    "&nbsp;&nbsp;&nbsp;&nbsp;    statement-1<br>\n",
    "&nbsp;&nbsp;&nbsp;&nbsp;    statement-2<br>\n",
    "&nbsp;&nbsp;&nbsp;&nbsp;    statement-n<br>\n",
    "&nbsp;&nbsp;&nbsp;&nbsp;    return expression\n",
    "\n",
    "![if control statements](https://www.scientecheasy.com/wp-content/uploads/2022/11/python-function-definition.png)"
   ]
  },
  {
   "cell_type": "code",
   "execution_count": 1,
   "metadata": {},
   "outputs": [
    {
     "name": "stdout",
     "output_type": "stream",
     "text": [
      "Hello from a function\n"
     ]
    }
   ],
   "source": [
    "def my_function():\n",
    "    print(\"Hello from a function\")\n",
    "\n",
    "my_function()"
   ]
  },
  {
   "cell_type": "code",
   "execution_count": null,
   "metadata": {},
   "outputs": [],
   "source": [
    "def my_function(fname, lname):\n",
    "  print(fname + \" \" + lname)\n",
    "\n",
    "my_function(\"Emil\", \"Refsnes\")\n",
    "my_function(\"Jacky\", \"Lin\")\n",
    "my_function(\"Andy\", \"Liu\")"
   ]
  },
  {
   "cell_type": "code",
   "execution_count": 8,
   "metadata": {},
   "outputs": [
    {
     "name": "stdout",
     "output_type": "stream",
     "text": [
      "7\n"
     ]
    }
   ],
   "source": [
    "def addition(n1, n2):\n",
    "    sum = n1 + n2\n",
    "    return sum\n",
    "\n",
    "print(addition(3, 4))\n"
   ]
  },
  {
   "cell_type": "code",
   "execution_count": 9,
   "metadata": {},
   "outputs": [
    {
     "name": "stdout",
     "output_type": "stream",
     "text": [
      "3 < 4\n",
      "the big number is:  4\n"
     ]
    }
   ],
   "source": [
    "def compare_numbers(a, b):\n",
    "    if a > b:\n",
    "        print(a, \">\", b)\n",
    "        return a\n",
    "    else:\n",
    "        print(a, \"<\", b)\n",
    "        return b\n",
    "    \n",
    "big_num = compare_numbers(3, 4)\n",
    "print('the big number is: ', big_num)\n"
   ]
  },
  {
   "cell_type": "code",
   "execution_count": null,
   "metadata": {},
   "outputs": [],
   "source": [
    "def is_even(n):\n",
    "    if n%2==0:\n",
    "        return True\n",
    "    else:\n",
    "        return False\n",
    "\n",
    "for i in range(1,11):\n",
    "    if is_even(i):\n",
    "        print(i, \"is 偶數\")\n",
    "    else:\n",
    "        print(i, \"is 奇數\")    "
   ]
  },
  {
   "cell_type": "markdown",
   "metadata": {},
   "source": [
    "# Lab"
   ]
  },
  {
   "cell_type": "markdown",
   "metadata": {},
   "source": [
    "1. 畫一個三角塔\n",
    "<p>\n",
    "&nbsp;&nbsp;&nbsp;&nbsp;&nbsp;&nbsp;&nbsp;&nbsp;*<br>\n",
    "&nbsp;&nbsp;&nbsp;&nbsp;&nbsp;&nbsp;&nbsp;&nbsp;**<br>\n",
    "&nbsp;&nbsp;&nbsp;&nbsp;&nbsp;&nbsp;&nbsp;&nbsp;***<br>\n",
    "&nbsp;&nbsp;&nbsp;&nbsp;&nbsp;&nbsp;&nbsp;&nbsp;****<br>\n",
    "&nbsp;&nbsp;&nbsp;&nbsp;&nbsp;&nbsp;&nbsp;&nbsp;*****<br>\n",
    "</p>"
   ]
  },
  {
   "cell_type": "markdown",
   "metadata": {},
   "source": [
    "2. write OJ#1880 找質數\n",
    "3. write OJ#1849 數字位數加總"
   ]
  },
  {
   "cell_type": "markdown",
   "metadata": {},
   "source": [
    "# W3 School"
   ]
  },
  {
   "cell_type": "markdown",
   "metadata": {},
   "source": [
    "- [Functions] https://www.w3schools.com/python/exercise.asp?x=xrcise_functions1"
   ]
  }
 ],
 "metadata": {
  "kernelspec": {
   "display_name": ".venv",
   "language": "python",
   "name": "python3"
  },
  "language_info": {
   "codemirror_mode": {
    "name": "ipython",
    "version": 3
   },
   "file_extension": ".py",
   "mimetype": "text/x-python",
   "name": "python",
   "nbconvert_exporter": "python",
   "pygments_lexer": "ipython3",
   "version": "3.13.0"
  }
 },
 "nbformat": 4,
 "nbformat_minor": 2
}
