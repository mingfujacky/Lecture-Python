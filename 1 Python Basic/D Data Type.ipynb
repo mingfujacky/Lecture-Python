{
 "cells": [
  {
   "cell_type": "markdown",
   "metadata": {},
   "source": [
    "# 互動式 Notebook-style IDE\n",
    "- Colab\n",
    "- VS code with Jupyter extension\n",
    "- Jupyter Notebook, Jupyter Lab"
   ]
  },
  {
   "cell_type": "code",
   "execution_count": 1,
   "metadata": {},
   "outputs": [
    {
     "data": {
      "text/plain": [
       "'Hi, World!'"
      ]
     },
     "execution_count": 1,
     "metadata": {},
     "output_type": "execute_result"
    }
   ],
   "source": [
    "\"Hi, World!\"  # 互動式模式下，會直接印出字串"
   ]
  },
  {
   "cell_type": "code",
   "execution_count": 4,
   "metadata": {},
   "outputs": [
    {
     "data": {
      "text/plain": [
       "15"
      ]
     },
     "execution_count": 4,
     "metadata": {},
     "output_type": "execute_result"
    }
   ],
   "source": [
    "1 + 2 + 3 + 4 + 5  # 互動式模式下，會直接印出運算結果"
   ]
  },
  {
   "cell_type": "code",
   "execution_count": 8,
   "metadata": {},
   "outputs": [
    {
     "data": {
      "text/plain": [
       "15"
      ]
     },
     "execution_count": 8,
     "metadata": {},
     "output_type": "execute_result"
    }
   ],
   "source": [
    "# 互動式模式下，只會印出最後一行的值\n",
    "\"Help Python!!\"\n",
    "\"NYCU welcome you!!\"\n",
    "1+2+3+4+5"
   ]
  },
  {
   "cell_type": "markdown",
   "metadata": {},
   "source": [
    "# print() and input()"
   ]
  },
  {
   "cell_type": "code",
   "execution_count": null,
   "metadata": {},
   "outputs": [],
   "source": [
    "# print() 函數: 可以印出字串，字串可以用單引號或雙引號刮起來, 也可以列印數字\n",
    "print('Hi, world!')\n",
    "print(\"Great Day\")\n",
    "print(1000)\n",
    "print(1 + 2 + 3 + 4 + 5)\n",
    "print(3.14)"
   ]
  },
  {
   "cell_type": "code",
   "execution_count": null,
   "metadata": {},
   "outputs": [],
   "source": [
    "# input() 函數: 接收使用者來自鍵盤的輸入\n",
    "name = input(\"Please input your name: \")  # 互動式模式下，會等待使用者輸入字串\n",
    "print(name)\n",
    "print(type(name))  # <class 'str'>"
   ]
  },
  {
   "cell_type": "markdown",
   "metadata": {},
   "source": [
    "# 變數與賦值\n",
    "- Python 是一種動態型別（Dynamic Typed）的程式語言，它可以讓開發者輕鬆地創建並操作變數，***無需事先定義***。<br>\n",
    "- 在 Python 中，變數是一個指向某個值(物件)的標記，可以是整數、浮點數、字串、布林值、串列、集合等。<br>\n",
    "\n",
    "- ***變數名稱 = 物件***, 等號(=) 是一個賦值運算子(assignment operator)"
   ]
  },
  {
   "cell_type": "code",
   "execution_count": 2,
   "metadata": {},
   "outputs": [
    {
     "name": "stdout",
     "output_type": "stream",
     "text": [
      "50\n",
      "Happy Birthday\n",
      "3.14\n"
     ]
    }
   ],
   "source": [
    "age = 50\n",
    "greeting = \"Happy Birthday\"\n",
    "pi = 3.14\n",
    "print(age)\n",
    "print(greeting)\n",
    "print(pi)"
   ]
  },
  {
   "cell_type": "markdown",
   "metadata": {},
   "source": [
    "# 資料型別\n",
    "- 基本資料型別：字串, 整數, 浮點數, 布林\n",
    "- 容器資料型別：元組(tuple), 串列(list), 集合(set), 字典(dict)"
   ]
  },
  {
   "cell_type": "markdown",
   "metadata": {},
   "source": [
    "## 基本資料型別\n"
   ]
  },
  {
   "cell_type": "code",
   "execution_count": 9,
   "metadata": {},
   "outputs": [
    {
     "name": "stdout",
     "output_type": "stream",
     "text": [
      "5\n",
      "<class 'int'>\n"
     ]
    }
   ],
   "source": [
    "age = 5  # 整數 int, 代表年齡\n",
    "print(age)\n",
    "print(type(age))"
   ]
  },
  {
   "cell_type": "code",
   "execution_count": 10,
   "metadata": {},
   "outputs": [
    {
     "name": "stdout",
     "output_type": "stream",
     "text": [
      "30.5\n",
      "<class 'float'>\n"
     ]
    }
   ],
   "source": [
    "exchange_rate = 30.5  # 浮點數 float, 代表匯率\n",
    "print(exchange_rate)\n",
    "print(type(exchange_rate))"
   ]
  },
  {
   "cell_type": "code",
   "execution_count": 11,
   "metadata": {},
   "outputs": [
    {
     "name": "stdout",
     "output_type": "stream",
     "text": [
      "(5+3j)\n",
      "<class 'complex'>\n"
     ]
    }
   ],
   "source": [
    "complex_number = 5 + 3j  # 複數 complex, 代表複數數字\n",
    "print(complex_number)\n",
    "print(type(complex_number))"
   ]
  },
  {
   "cell_type": "code",
   "execution_count": 12,
   "metadata": {},
   "outputs": [
    {
     "name": "stdout",
     "output_type": "stream",
     "text": [
      "Welcome to Python Class!!\n",
      "<class 'str'>\n"
     ]
    }
   ],
   "source": [
    "greeting = \"Welcome to Python Class!!\"  # 字串 str, 代表問候語\n",
    "print(greeting)\n",
    "print(type(greeting))"
   ]
  },
  {
   "cell_type": "code",
   "execution_count": 13,
   "metadata": {},
   "outputs": [
    {
     "name": "stdout",
     "output_type": "stream",
     "text": [
      "True\n",
      "<class 'bool'>\n"
     ]
    }
   ],
   "source": [
    "raining_today = True  # 布林 bool, 代表今天是否下雨\n",
    "print(raining_today)\n",
    "print(type(raining_today))"
   ]
  },
  {
   "cell_type": "markdown",
   "metadata": {},
   "source": [
    "## 容器資料型別"
   ]
  },
  {
   "cell_type": "code",
   "execution_count": 14,
   "metadata": {},
   "outputs": [
    {
     "name": "stdout",
     "output_type": "stream",
     "text": [
      "('♣', '♦', '♥', '♠')\n",
      "<class 'tuple'>\n"
     ]
    }
   ],
   "source": [
    "card_suit = (\"♣\", \"♦\", \"♥\", \"♠\")  # 元組 tuple, 代表撲克牌的花色\n",
    "print(card_suit)\n",
    "print(type(card_suit))"
   ]
  },
  {
   "cell_type": "code",
   "execution_count": null,
   "metadata": {},
   "outputs": [],
   "source": [
    "fruits = ['apple', 'banana', 'cherry']  # 串列 list, 代表水果清單\n",
    "print(fruits)\n",
    "print(type(fruits))"
   ]
  },
  {
   "cell_type": "code",
   "execution_count": null,
   "metadata": {},
   "outputs": [],
   "source": [
    "car_brand = {'A', 'B', 'C', 'D'}  # 集合 set, 代表汽車品牌\n",
    "print(car_brand)\n",
    "print(type(car_brand))"
   ]
  },
  {
   "cell_type": "code",
   "execution_count": null,
   "metadata": {},
   "outputs": [],
   "source": [
    "student = {'name': 'John', 'age': 25}  # 字典 dict, 代表學生資訊\n",
    "print(student)\n",
    "print(type(student))  "
   ]
  },
  {
   "cell_type": "markdown",
   "metadata": {},
   "source": [
    "## 型別間的轉換"
   ]
  },
  {
   "cell_type": "code",
   "execution_count": null,
   "metadata": {},
   "outputs": [],
   "source": [
    "age = int('20')  # str 轉 int, \"20\" to 20\n",
    "year = str(2000)  # int 轉 str, 2000 to '2000'\n",
    "print(type(age), type(year))   "
   ]
  },
  {
   "cell_type": "code",
   "execution_count": null,
   "metadata": {},
   "outputs": [],
   "source": [
    "print(\"This is a calendar for Y\" + str(2000))"
   ]
  },
  {
   "cell_type": "code",
   "execution_count": null,
   "metadata": {},
   "outputs": [],
   "source": [
    "age = input(\"Please input your age: \")  # age 是字串 str\n",
    "after_10_years = int(age) + 10  # 正確的寫法\n",
    "print(\"十年後，你將會是\", after_10_years, \"歲.\")\n",
    "print(after_10_years)\n",
    "NG_after_10_years = age + 10  # 會出現錯誤, 因為 age 是字串, 不能直接加上整數\n",
    "# print(NG_after_10_years)  # 取消註解這行會導致錯誤"
   ]
  },
  {
   "cell_type": "markdown",
   "metadata": {},
   "source": [
    "## 註解\n",
    "- 註解在程式碼中不會被執行，主要用來說明程式碼的內容\n",
    "- 用 # 作為單行註解\n",
    "- 用\"\"\"或'''做多行註解"
   ]
  },
  {
   "cell_type": "code",
   "execution_count": null,
   "metadata": {},
   "outputs": [],
   "source": [
    "''' \n",
    "    Purpose: 檢查身分證字號的正確性\n",
    "    Designer: Jacky Lin\n",
    "    Version: 0.9\n",
    "    Released date: 2024/10/08\n",
    "'''\n",
    "\n",
    "# 要求使用者輸入身分證字號的模組\n",
    "def input_id():\n",
    "    id = input('ID:' ) # 儲存身分證字號\n",
    "    return(id)\n",
    "\n",
    "person_id = input_id()  # 主程式開始\n",
    "print(person_id)"
   ]
  },
  {
   "cell_type": "markdown",
   "metadata": {},
   "source": [
    "# Lab\n",
    "  1. 印出1乘到5的乘積\n",
    "  2. 讓使用者輸入姓氏和名字，然後將他的全名印出\n",
    "  3. 使用三個變數賦值及字串相加，印出 \"pen pie pieapple apple pen\"\n",
    "  4. 創建一個元組(tuple), 包含所有母音的字母 (A, E, I, O, U)\n",
    "  5. 創建一個串列(list), 包含班上三個同學的姓名\n",
    "  6. 創建一個集合(set), 包含最新一期統一發票的頭獎號碼\n",
    "  7. 創建一個字典(dict), 包含光子與AI的課程名稱及講師姓名(三個key-value pairs) \n",
    "  8. 該如何把浮點數 4.3 變成整數型態？\n",
    "  9. 該如何把整數 3 變成浮點數型態呢？\n",
    "  10. 該如何把字串 \"3\" 變成整數型態呢？\n"
   ]
  }
 ],
 "metadata": {
  "kernelspec": {
   "display_name": ".venv",
   "language": "python",
   "name": "python3"
  },
  "language_info": {
   "codemirror_mode": {
    "name": "ipython",
    "version": 3
   },
   "file_extension": ".py",
   "mimetype": "text/x-python",
   "name": "python",
   "nbconvert_exporter": "python",
   "pygments_lexer": "ipython3",
   "version": "3.13.0"
  }
 },
 "nbformat": 4,
 "nbformat_minor": 2
}
