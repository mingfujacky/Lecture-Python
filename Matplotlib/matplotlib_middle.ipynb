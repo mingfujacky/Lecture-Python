{
 "cells": [
  {
   "cell_type": "markdown",
   "metadata": {},
   "source": [
    "# 利用作業系統現有的中文字型來顯示中文字"
   ]
  },
  {
   "cell_type": "code",
   "execution_count": null,
   "metadata": {},
   "outputs": [],
   "source": [
    "# 查看 Matplotlib 可用字型\n",
    "import matplotlib.font_manager\n",
    "foo = list(sorted([f.name for f in matplotlib.font_manager.fontManager.ttflist]))\n",
    "print([font for font in foo if 'TC' in font]) \n",
    "print([font for font in foo if 'xkcd' in font]) "
   ]
  },
  {
   "cell_type": "markdown",
   "metadata": {},
   "source": [
    "- 看有沒有可用的中文字型，如\n",
    "  - Heiti TC (in Mac)\n",
    "  - Microsoft JhengHei (in Windows)<br>\n",
    "- 若有的話, 加下面指令在程式內 (rcParams 代表 run time parameters)\n",
    "  - In Windows\n",
    "    - plt.rcParams['font.sans-serif'] = ['Microsoft JhengHei’]<br>\n",
    "    - plt.rcParams['axes.unicode_minus'] = False  # 確保 '-' 符號可以顯示\n",
    "  - In MAC\n",
    "    - plt.rcParams['font.sans-serif'] = ['Heiti TC’]<br>\n",
    "    - plt.rcParams['axes.unicode_minus'] = False  # 確保 '-' 符號可以顯示"
   ]
  },
  {
   "cell_type": "markdown",
   "metadata": {},
   "source": [
    "# 在 Colab 中使用中文字型\n",
    "(每次使用皆下載)"
   ]
  },
  {
   "cell_type": "markdown",
   "metadata": {},
   "source": [
    "https://colab.research.google.com/github/willismax/matplotlib_show_chinese_in_colab/blob/master/matplotlib_show_chinese_in_colab.ipynb"
   ]
  },
  {
   "cell_type": "code",
   "execution_count": null,
   "metadata": {},
   "outputs": [],
   "source": [
    "# Colab 進行matplotlib繪圖時顯示繁體中文\n",
    "# 下載台北思源黑體並命名taipei_sans_tc_beta.ttf，移至指定路徑\n",
    "!wget -O TaipeiSansTCBeta-Regular.ttf 'https://drive.google.com/uc?id=1eGAsTN1HBpJAkeVM57_C7ccp7hbgSz3_&export=download'\n",
    "\n",
    "from matplotlib.font_manager import fontManager\n",
    "import matplotlib.pyplot as plt\n",
    "\n",
    "fontManager.addfont('TaipeiSansTCBeta-Regular.ttf')\n",
    "plt.rcParams['font.sans-serif']=['Taipei Sans TC Beta']"
   ]
  },
  {
   "cell_type": "markdown",
   "metadata": {},
   "source": [
    "# 在 Colab 中使用中文字型 \n",
    "(使用之前下載放在google drive上的font file)"
   ]
  },
  {
   "cell_type": "code",
   "execution_count": null,
   "metadata": {},
   "outputs": [],
   "source": [
    "# Load 中文字型\n",
    "from matplotlib.font_manager import fontManager\n",
    "import matplotlib.pyplot as plt\n",
    "from pathlib import Path\n",
    "# font_path = Path.cwd() / 'drive' / 'MyDrive' / path-to-font-file / 'TaipeiSansTCBeta-Regular.ttf'\n",
    "font_path = Path.cwd() / '..' / 'files' / 'font' / 'TaipeiSansTCBeta-Regular.ttf'\n",
    "fontManager.addfont(font_path)\n",
    "plt.rcParams['font.sans-serif']=['Taipei Sans TC Beta']"
   ]
  },
  {
   "cell_type": "markdown",
   "metadata": {},
   "source": [
    "# 自行下載中文字型"
   ]
  },
  {
   "cell_type": "markdown",
   "metadata": {},
   "source": [
    "- 從網路下載字形檔: : https://fonts.google.com/\n",
    "- Install new font in windows\n",
    "  - refer https://pyecontech.com/2020/03/27/python_matplotlib_chinese/\n",
    "- Install new font in Mac\n",
    "  1. 下載字體後，在檔案點兩下即可完成安裝。到\"字體簿\"裡面查看是否安裝完成，記下 font name\n",
    "  2. in terminall type rm /Users/jacky/.matplotlib/*.* to refresh font cache\n",
    "  3. add plt.rcParams['font.sans-serif']=[font name] in code\n",
    "- 字型檔範例\n",
    "  - NotoSansTC-VariableFont_wght.ttf\n",
    "  - TaipeiSansTCBeta-Regular.ttf"
   ]
  },
  {
   "cell_type": "markdown",
   "metadata": {},
   "source": [
    "# 替方程式 sin(5x) / (1 + x**2) 畫圖"
   ]
  },
  {
   "cell_type": "code",
   "execution_count": null,
   "metadata": {},
   "outputs": [],
   "source": [
    "# import library\n",
    "from matplotlib import pyplot as plt\n",
    "import numpy as np\n",
    "\n",
    "# prepare data\n",
    "X = np.linspace(0, 10, 300)\n",
    "Y = np.sin(5 * X) / (1 + X**2)\n",
    "\n",
    "# capable to display 繁體字\n",
    "# plt.rcParams['font.sans-serif']=['Heiti TC']\n",
    "# plt.rcParams['font.sans-serif']=['Noto Sans TC']\n",
    "# plt.rcParams['font.sans-serif']=['Taipei Sans TC Beta']\n",
    "\n",
    "# in Windows: plt.rcParams['font.sans-serif'] = ['Microsoft JhengHei']\n",
    "\n",
    "# 調整圖型參數\n",
    "plt.title('振幅越來越小的 sin')\n",
    "\n",
    "# 添加單個數據點\n",
    "point_x = 3.0\n",
    "point_y = np.sin(5 * point_x) / (1 + point_x**2)\n",
    "# plt.scatter([point_x], [point_y], color='red', label=f'Point ({point_x}, {point_y:.2f})')\n",
    "plt.scatter([point_x], [point_y], color='red')\n",
    "plt.text(point_x + 0.2, point_y, f'({float(point_x):.2f}, {float(point_y):.2f})', fontsize=10)\n",
    "\n",
    "# 畫圖看結果\n",
    "plt.plot(X,Y)\n",
    "plt.show()"
   ]
  },
  {
   "cell_type": "markdown",
   "metadata": {},
   "source": [
    "# 改變 x 軸刻度"
   ]
  },
  {
   "cell_type": "code",
   "execution_count": null,
   "metadata": {},
   "outputs": [],
   "source": [
    "# Set x軸刻度\n",
    "import numpy as np\n",
    "from matplotlib import pyplot as plt\n",
    "x = np.linspace(0, 10, 5)\n",
    "y1 = 2 * x\n",
    "y2 = 20 - 2 * x\n",
    "plt.plot(x, y1)\n",
    "plt.plot(x, y2, ls='--')\n",
    "plt.title('Fig-3')\n",
    "plt.xticks(np.arange(0, 11, 1))  # Set custom x-axis ticks\n",
    "# plt.xticks([])\n",
    "# plt.xticks([0, 1, 2, 3, 4, 5, 6, 7, 8, 9, 10])\n",
    "plt.show()\n"
   ]
  },
  {
   "cell_type": "markdown",
   "metadata": {},
   "source": [
    "# 散佈圖(Scatter Plot)"
   ]
  },
  {
   "cell_type": "markdown",
   "metadata": {},
   "source": [
    "![散布圖](https://www.finereport.com/tw/wp-content/uploads/2022/10/2022101807C.png)"
   ]
  },
  {
   "cell_type": "code",
   "execution_count": null,
   "metadata": {},
   "outputs": [],
   "source": [
    "from matplotlib import pyplot as plt\n",
    "x = [1, 2, 3, 4]\n",
    "y = [2, 4, 6, 8]\n",
    "plt.scatter(x, y)\n",
    "plt.show()"
   ]
  },
  {
   "cell_type": "code",
   "execution_count": null,
   "metadata": {},
   "outputs": [],
   "source": [
    "from matplotlib import pyplot as plt\n",
    "import numpy as np\n",
    "x = np.random.randn(300)\n",
    "y = np.random.randn(300) # n is for normal distribution\n",
    "plt.scatter(x, y)\n",
    "plt.show()"
   ]
  },
  {
   "cell_type": "markdown",
   "metadata": {},
   "source": [
    "# 長條圖 plt.bar()"
   ]
  },
  {
   "cell_type": "markdown",
   "metadata": {},
   "source": [
    "![長條圖](https://material.hle.com.tw/wp-content/uploads/2023/03/長條圖.jpg)"
   ]
  },
  {
   "cell_type": "code",
   "execution_count": null,
   "metadata": {},
   "outputs": [],
   "source": [
    "from matplotlib import pyplot as plt\n",
    "fruits = {\n",
    "    'apple': 10,\n",
    "    'orange' : 15,\n",
    "    'banana' : 9,\n",
    "    'pears': 12,\n",
    "    }\n",
    "fruits_type = fruits.keys()\n",
    "fruits_number = fruits.values()\n",
    "plt.bar(fruits_type, fruits_number)\n",
    "plt.show()\n"
   ]
  },
  {
   "cell_type": "markdown",
   "metadata": {},
   "source": [
    "# 直方圖 plt.hist()"
   ]
  },
  {
   "cell_type": "markdown",
   "metadata": {},
   "source": [
    "![直方圖](https://miro.medium.com/v2/resize:fit:1400/format:webp/0*B97wZObrYSfI58j5)"
   ]
  },
  {
   "cell_type": "code",
   "execution_count": null,
   "metadata": {},
   "outputs": [],
   "source": [
    "#直方圖: 顯示資料的分佈\n",
    "\n",
    "from matplotlib import pyplot as plt\n",
    "import numpy as np\n",
    "\n",
    "x = np.random.randn(1000)\n",
    "# randn: n is for normal distribution\n",
    "plt.hist(x, bins = 20)\n",
    "plt.show()\n"
   ]
  },
  {
   "cell_type": "markdown",
   "metadata": {},
   "source": [
    "# 圓餅圖 plt.pie()"
   ]
  },
  {
   "cell_type": "markdown",
   "metadata": {},
   "source": [
    "![圓餅圖](https://cdn.extendoffice.com/images/stories/doc-excel/show-percentage-in-pie-chart/doc-show-percentage-in-pie-chart1.png)"
   ]
  },
  {
   "cell_type": "markdown",
   "metadata": {},
   "source": [
    "在一場選舉中, 有3位候選人, 以pie chart 呈現得票率\n",
    "- Name = [‘Jason’,  ‘Mary’,  ‘Jeffery’]\n",
    "- Vote = [35%, 38%,  27%]\n",
    "- Color = [‘gray’, ‘blue’, ‘green’]"
   ]
  },
  {
   "cell_type": "code",
   "execution_count": null,
   "metadata": {},
   "outputs": [],
   "source": [
    "from matplotlib import pyplot as plt\n",
    "\n",
    "name = ['Jason', 'Mary', 'Jeffery']\n",
    "vote_ratio = [0.35, 0.38, 0.27]\n",
    "color = ['gray', 'blue', 'green']\n",
    "\n",
    "plt.pie(vote_ratio, labels=name, colors=color, autopct='%2.0f%%')\n",
    "plt.show()\n"
   ]
  },
  {
   "cell_type": "markdown",
   "metadata": {},
   "source": [
    "# 畫個圓吧"
   ]
  },
  {
   "cell_type": "markdown",
   "metadata": {},
   "source": [
    "![極座標](https://detail-infomation.com/wp-content/uploads/2021/04/f6e0f4d06aa4d3ed4a35e03f4c3ced14.png)"
   ]
  },
  {
   "cell_type": "code",
   "execution_count": null,
   "metadata": {},
   "outputs": [],
   "source": [
    "from matplotlib import pyplot as plt\n",
    "import numpy as np\n",
    "\n",
    "theta = np.linspace(0, 2*np.pi, 100)\n",
    "# can extend tp 1000\n",
    "r = 2\n",
    "x = r * np.cos(theta)\n",
    "y = r * np.sin(theta)\n",
    "\n",
    "plt.axis('equal')\n",
    "plt.plot(x, y, color='red')\n",
    "plt.show()\n"
   ]
  },
  {
   "cell_type": "markdown",
   "metadata": {},
   "source": [
    "# 3D Graph"
   ]
  },
  {
   "cell_type": "code",
   "execution_count": null,
   "metadata": {},
   "outputs": [],
   "source": [
    "import matplotlib.pyplot as plt\n",
    "\n",
    "fig = plt.figure()\n",
    "ax = fig.add_subplot(111, projection='3d')\n",
    "\n",
    "# 繪製 3D 圖形的資料點\n",
    "x = [1, 2, 3, 4, 5]\n",
    "y = [5, 6, 2, 3, 13]\n",
    "z = [2, 3, 3, 3, 5]\n",
    "\n",
    "ax.scatter(x, y, z)\n",
    "ax.set_xlabel('X-axis')\n",
    "ax.set_ylabel('Y-axis')\n",
    "ax.set_zlabel('Z-axis')\n",
    "\n",
    "plt.show()"
   ]
  },
  {
   "cell_type": "markdown",
   "metadata": {},
   "source": [
    "# 畫個 xkcd 風格"
   ]
  },
  {
   "cell_type": "code",
   "execution_count": null,
   "metadata": {},
   "outputs": [],
   "source": [
    "from matplotlib import pyplot as plt\n",
    "import numpy as np\n",
    "\n",
    "theta = np.linspace(0, 10*np.pi, 1000)\n",
    "y = np.sin(theta)\n",
    "\n",
    "plt.xkcd()\n",
    "plt.plot(theta, y)\n",
    "plt.title('xkcd fun')\n",
    "plt.show()\n"
   ]
  }
 ],
 "metadata": {
  "kernelspec": {
   "display_name": ".venv",
   "language": "python",
   "name": "python3"
  },
  "language_info": {
   "codemirror_mode": {
    "name": "ipython",
    "version": 3
   },
   "file_extension": ".py",
   "mimetype": "text/x-python",
   "name": "python",
   "nbconvert_exporter": "python",
   "pygments_lexer": "ipython3",
   "version": "3.13.1"
  }
 },
 "nbformat": 4,
 "nbformat_minor": 2
}
