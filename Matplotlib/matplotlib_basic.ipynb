{
 "cells": [
  {
   "cell_type": "markdown",
   "metadata": {},
   "source": [
    "# Matplotlib (Matlab Plot Library)"
   ]
  },
  {
   "cell_type": "markdown",
   "metadata": {},
   "source": [
    "- Matplotlib 是一個資料視覺化的Python第三方模組，需自行安裝\n",
    "- 搭配 Numpy 的數值運算，Matplotlib 可以繪製的圖形包含了二維與三維的函式圖、極坐標繪圖、等高線圖等\n",
    "- Matplotlib提供了相當豐富的選項，方便對圖形進行調整"
   ]
  },
  {
   "cell_type": "markdown",
   "metadata": {},
   "source": [
    "# Matplotlib 畫圖的基本原理"
   ]
  },
  {
   "cell_type": "markdown",
   "metadata": {},
   "source": [
    "![Matplotlib 畫圖的基本原理](../files/image/draw_figure.png)"
   ]
  },
  {
   "cell_type": "markdown",
   "metadata": {},
   "source": [
    "# 替方程式 sin(5x) / (1 + x**2) 畫圖"
   ]
  },
  {
   "cell_type": "code",
   "execution_count": null,
   "metadata": {},
   "outputs": [],
   "source": [
    "# import library\n",
    "from matplotlib import pyplot as plt\n",
    "import numpy as np\n",
    "\n",
    "# prepare data\n",
    "x = np.linspace(0, 10, 300)\n",
    "y = np.sin(5 * x) / (1 + x**2)\n",
    "\n",
    "# capable to display 繁體字\n",
    "plt.rcParams['font.sans-serif']=['Noto Sans TC'] # Mac default installed font\n",
    "# plt.rcParams['font.sans-serif']=['Noto Sans TC'] (if you have installed the font)\n",
    "# plt.rcParams['font.sans-serif']=['Taipei Sans TC Beta'] (if you have installed the font)\n",
    "\n",
    "# in Windows: plt.rcParams['font.sans-serif'] = ['Microsoft JhengHei'] # Windows default installed font\n",
    "\n",
    "# 調整圖型參數\n",
    "plt.title('振幅越來越小的 sin')\n",
    "\n",
    "# 畫圖看結果\n",
    "plt.plot(x,y)\n",
    "plt.show()\n"
   ]
  },
  {
   "cell_type": "markdown",
   "metadata": {},
   "source": [
    "# 繪圖三步驟"
   ]
  },
  {
   "cell_type": "markdown",
   "metadata": {},
   "source": [
    "1. import matplotlib: from matplotlib import pyplot as plt\n",
    "2. 給數據畫圖: plt.plot(x 座標 List, y 座標 List [, 參數1, 參數2,..]) \n",
    "3. show 圖: plt.show()\n",
    "- 若要畫的點有 (x1, y1), (x2, y2), (x3, y3), 則<br>\n",
    "- x = [x1, x2, x3]<br>\n",
    "- y = [y1, y2, y3]<br>"
   ]
  },
  {
   "cell_type": "code",
   "execution_count": null,
   "metadata": {},
   "outputs": [],
   "source": [
    "from matplotlib import pyplot as plt\n",
    "x = [1, 2, 3]\n",
    "y = [2, 4, 9]\n",
    "plt.plot(x, y)\n",
    "plt.show()\n"
   ]
  },
  {
   "cell_type": "markdown",
   "metadata": {},
   "source": [
    "# 折線圖 plt.plot() (用 List 餵資料)"
   ]
  },
  {
   "cell_type": "code",
   "execution_count": null,
   "metadata": {},
   "outputs": [],
   "source": [
    "# 給 x list and y list\n",
    "\n",
    "from matplotlib import pyplot as plt\n",
    "X = [1, 2, 3, 4, 5]\n",
    "Y = [2, 4, 6, 8, 10]\n",
    "plt.plot(X, Y)\n",
    "plt.show()"
   ]
  },
  {
   "cell_type": "code",
   "execution_count": null,
   "metadata": {},
   "outputs": [],
   "source": [
    "# 給線的形狀跟顏色\n",
    "from matplotlib import pyplot as plt\n",
    "X = [1, 2, 3, 4, 5]\n",
    "Y = [2, 4, 6, 8, 10]\n",
    "plt.plot(X, Y,\n",
    "         color='red',\n",
    "         lw='2', ls='--',\n",
    "         marker='^')\n",
    "plt.show()"
   ]
  },
  {
   "cell_type": "code",
   "execution_count": null,
   "metadata": {},
   "outputs": [],
   "source": [
    "# 畫兩條線一起\n",
    "from matplotlib import pyplot as plt\n",
    "plt.plot([1,2,3], [2,4,6],\n",
    "         color='red',\n",
    "         lw='0.5', ls='-',\n",
    "         marker='*')\n",
    "\n",
    "plt.plot([1,2,3], [4,8,12],\n",
    "         color='black',\n",
    "         lw='1.0', ls='-.',\n",
    "         marker='^')\n",
    "plt.show()\n"
   ]
  },
  {
   "cell_type": "code",
   "execution_count": null,
   "metadata": {},
   "outputs": [],
   "source": [
    "#分開兩個視窗各畫一條線\n",
    "from matplotlib import pyplot as plt\n",
    "plt.figure(1)\n",
    "plt.plot([1,2,3], [1,2,3])\n",
    "plt.figure(2)\n",
    "plt.plot([1,2,3], [1,4,9],\n",
    "         color='black',\n",
    "         lw='1.0', ls='-.',\n",
    "         marker='^')\n",
    "plt.show()"
   ]
  },
  {
   "cell_type": "markdown",
   "metadata": {},
   "source": [
    "# Lab"
   ]
  },
  {
   "cell_type": "markdown",
   "metadata": {},
   "source": [
    "## 1. 新竹市每個月平均最高最低的溫度列表如下\n",
    "- high = [19, 20, 22, 26, 29, 32, 34, 33, 31, 27, 24, 21]\n",
    "- 1ow = [13, 14, 15, 19, 22, 25, 26, 26, 24, 22, 18, 15]\n",
    "- Month = [‘Jan’, ‘Feb’, …..]\n",
    "- 加上標題 新竹市月平均溫度\n",
    "- 請把這平均最高溫、最低溫畫在一張圖上"
   ]
  },
  {
   "cell_type": "markdown",
   "metadata": {},
   "source": [
    "## 2. 畫出一個“M”的形狀\n"
   ]
  },
  {
   "cell_type": "markdown",
   "metadata": {},
   "source": [
    "# 折線圖 plt.plot() (用 Numpy 餵資料)"
   ]
  },
  {
   "cell_type": "markdown",
   "metadata": {},
   "source": [
    "## 用 np.arange 給 x-軸值"
   ]
  },
  {
   "cell_type": "code",
   "execution_count": null,
   "metadata": {},
   "outputs": [],
   "source": [
    "import numpy as np\n",
    "from matplotlib import pyplot as plt\n",
    "\n",
    "x1 = np.arange(0, 9, 2)\n",
    "x2 = np.arange(0, 9, 0.1)\n",
    "y1 = x1**2\n",
    "y2 = x2**2\n",
    "\n",
    "plt.plot(x1, y1, marker='*')\n",
    "plt.plot(x2, y2, marker='.')\n",
    "plt.title('Y = X^2')\n",
    "\n",
    "# plt.xticks(np.arange(1, 9, 1))  # Set custom x-axis ticks\n",
    "# plt.xticks([])\n",
    "plt.xticks([0, 1, 3, 5, 11])\n",
    "plt.show()\n"
   ]
  },
  {
   "cell_type": "markdown",
   "metadata": {},
   "source": [
    "## 用 np.linspace 給 x-軸值"
   ]
  },
  {
   "cell_type": "code",
   "execution_count": null,
   "metadata": {},
   "outputs": [],
   "source": [
    "import numpy as np\n",
    "from matplotlib import pyplot as plt\n",
    "x = np.linspace(1, 7, 5) # x is array[1.0, 2.5, 4.0, 5.5, 7.0]\n",
    "y = x**2\n",
    "plt.plot(x, y, color = 'b', ls = '--', marker = 's')\n",
    "plt.title('Y = X^2')\n",
    "plt.show()\n"
   ]
  },
  {
   "cell_type": "markdown",
   "metadata": {},
   "source": [
    "# 折線圖參數選項"
   ]
  },
  {
   "cell_type": "markdown",
   "metadata": {},
   "source": [
    "![matplotlib plot parameter](https://school.amashop.tw/wp-content/uploads/2024/07/Screenshot_070624_032751_AM.jpg)\n",
    "Reference: 皇阿瑪數位學院\n",
    "- plt.plot(x, y, color = 'b', ls = '--', marker='s')\n",
    "- plt.plot(x, y, 'b--s')"
   ]
  },
  {
   "cell_type": "markdown",
   "metadata": {},
   "source": [
    "|參數|說明|Example\n",
    "|---|----|-------\n",
    "|lw (line width)|設定線條寬度，預設為 1.0|linewidth=3.0\n",
    "|color|設定線條顏色|color=\"red\"\n",
    "|ls (line style)|設定線條樣式:  實線「–」  虛線「—」  虛點線「-. 」 點線 「:」|ls=\"-.\"\n",
    "|marker|設定標記樣式: 點「. 」 圓「o」 星「*」 矩形「s 」 三角型「^」| marker=\"*\"\n",
    "|ms (marker size)|標記大小|ms=16"
   ]
  },
  {
   "cell_type": "code",
   "execution_count": null,
   "metadata": {},
   "outputs": [],
   "source": [
    "'''\n",
    "第1條線為男性的首次婚姻平均年齡的統計\n",
    "第2條線為女性的首次婚姻平均年齡統計\n",
    "'''\n",
    "from matplotlib import pyplot as plt\n",
    "\n",
    "year = [2006, 2011, 2014, 2015, 2016]\n",
    "male_marriage_age = [30.7, 31.8, 32.1, 32.2, 32.4]\n",
    "female_marriage_age = [27.8, 29.4, 29.9, 30.0, 30.0]\n",
    "\n",
    "plt.plot(year, male_marriage_age, color='blue', ls = '-', marker = 's', label='男性首次婚姻平均年齡')\n",
    "plt.plot(year, female_marriage_age, color='red', ls = ':', marker = '*', label='女性首次婚姻平均年齡')\n",
    "plt.title('首次婚姻平均年齡的統計')  # 增加標題\n",
    "plt.legend()  # 增加圖例\n",
    "\n",
    "plt.xlim(2006, 2016)  # 設定x軸範圍\n",
    "plt.xlabel('年度')  # 設定x軸標籤\n",
    "plt.ylabel('年齡')  # 設定y軸標籤\n",
    "plt.rcParams['font.sans-serif']=['Heiti TC']\n",
    "\n",
    "plt.show()"
   ]
  },
  {
   "cell_type": "markdown",
   "metadata": {},
   "source": [
    "# Lab - 自學與陽明交大課程的學習效率比較圖"
   ]
  },
  {
   "cell_type": "code",
   "execution_count": null,
   "metadata": {},
   "outputs": [],
   "source": [
    "from matplotlib import pyplot as plt\n",
    "import numpy as np\n",
    "\n",
    "plt.rcParams['font.sans-serif'] = ['Heiti TC']\n",
    "\n",
    "days = np.arange(0, 21)\n",
    "# self_study, nycu_python = days, days**2\n",
    "self_study = days  # Y = X\n",
    "nycu_python = days**2  # Y = X**2\n",
    "\n",
    "plt.plot(days, self_study, label = '自學')\n",
    "plt.plot(days, nycu_python, label = 'nycy python 課程')\n",
    "\n",
    "# plt.xticks([0, 1, 2, 3, 4, 5, 6, 7, 8, 9, 10, 15, 20])\n",
    "plt.yticks([0, 100, 200, 300, 400])\n",
    "\n",
    "plt.xlabel('學習時間(天)')\n",
    "plt.ylabel('Python學習進度')\n",
    "plt.title('nycu python 課程(Y=X**2) vs 自學(Y=X)')\n",
    "plt.legend()\n",
    "\n",
    "plt.show()\n"
   ]
  },
  {
   "cell_type": "markdown",
   "metadata": {},
   "source": [
    "# Subplot 繪製多張圖(subplot)在一個圖內(plot)"
   ]
  },
  {
   "cell_type": "code",
   "execution_count": null,
   "metadata": {},
   "outputs": [],
   "source": [
    "import numpy as np\n",
    "from matplotlib import pyplot as plt\n",
    "x = np.linspace(0, 10, 5)\n",
    "y1 = 2 * x\n",
    "y2 = 20 - 2 * x\n",
    "\n",
    "plt.subplot(2, 1, 1)\n",
    "plt.plot(x, y1)\n",
    "plt.title('Fig-1')\n",
    "\n",
    "plt.subplot(2, 1, 2)\n",
    "plt.plot(x, y2, ls='--')\n",
    "plt.title('Fig-2')\n",
    "\n",
    "plt.show()\n"
   ]
  },
  {
   "cell_type": "code",
   "execution_count": null,
   "metadata": {},
   "outputs": [],
   "source": [
    "import numpy as np\n",
    "from matplotlib import pyplot as plt\n",
    "x = np.linspace(-0, 10, 5)\n",
    "y1 = 2 * x\n",
    "y2 = 20 - 2 * x\n",
    "plt.plot(x, y1)\n",
    "plt.plot(x, y2, ls='--')\n",
    "plt.title('Fig-3')\n",
    "plt.show()"
   ]
  },
  {
   "cell_type": "markdown",
   "metadata": {},
   "source": [
    "# Lab - Subplot 多個公式的折線圖"
   ]
  },
  {
   "cell_type": "markdown",
   "metadata": {
    "vscode": {
     "languageId": "ini"
    }
   },
   "source": [
    "- 用 matplotlib 套件繪製下面三個公式, 共有三個子圖表，子圖表的配置為一列三行\n",
    "- Y = X\n",
    "- Y = X**2\n",
    "- Y = X**3"
   ]
  },
  {
   "cell_type": "code",
   "execution_count": null,
   "metadata": {},
   "outputs": [],
   "source": [
    "import numpy as np\n",
    "from matplotlib import pyplot as plt\n",
    "fig, axes = plt.subplots(1, 3, figsize=(6, 3))  \n",
    "\n",
    "x = np.linspace(0, 10, 5)\n",
    "y1 = x\n",
    "y2 = x**2\n",
    "y3 = x**3\n",
    "\n",
    "plt.subplot(1, 3, 1)\n",
    "plt.plot(x, y1)\n",
    "plt.title('Y = X')\n",
    "\n",
    "plt.subplot(1, 3, 2)\n",
    "plt.plot(x, y2)\n",
    "plt.title('Y = X\\u00B2')\n",
    "\n",
    "plt.subplot(1, 3, 3)\n",
    "plt.plot(x, y3)\n",
    "plt.title('Y = X\\u00B3')\n",
    "fig.subplots_adjust(wspace=0.5)\n",
    "\n",
    "plt.show()\n"
   ]
  }
 ],
 "metadata": {
  "kernelspec": {
   "display_name": ".venv",
   "language": "python",
   "name": "python3"
  },
  "language_info": {
   "codemirror_mode": {
    "name": "ipython",
    "version": 3
   },
   "file_extension": ".py",
   "mimetype": "text/x-python",
   "name": "python",
   "nbconvert_exporter": "python",
   "pygments_lexer": "ipython3",
   "version": "3.13.1"
  }
 },
 "nbformat": 4,
 "nbformat_minor": 2
}
